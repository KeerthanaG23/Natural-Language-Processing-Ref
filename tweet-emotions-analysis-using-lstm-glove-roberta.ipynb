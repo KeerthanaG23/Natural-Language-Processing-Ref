{
 "cells": [
  {
   "cell_type": "markdown",
   "metadata": {},
   "source": [
    "# Tweet Emotions Analysis (12 emotions) <a class=\"anchor\" id=\"tea\"></a>"
   ]
  },
  {
   "cell_type": "markdown",
   "metadata": {},
   "source": [
    "<a href=\"https://www.linkedin.com/in/ouassim-adnane/\">Ouassim Adnane</a> 08 June 2020"
   ]
  },
  {
   "cell_type": "markdown",
   "metadata": {},
   "source": [
    "<img src=\"https://www.feelingfacescards.com/images/feeling_faces_chart_poster.jpg\" />"
   ]
  },
  {
   "cell_type": "markdown",
   "metadata": {},
   "source": [
    "# Overview "
   ]
  },
  {
   "cell_type": "markdown",
   "metadata": {},
   "source": [
    "In this notebook, I've used a tweets dataset that contains tweet text with 12 emotions (neutral, worry, happiness, sadness, love, surprise, fun, relief, hate, empty, enthusiasm, boredom and anger) and the goal is to predict the percentage of emotions in a giving text"
   ]
  },
  {
   "cell_type": "markdown",
   "metadata": {},
   "source": [
    "To achieve that goal I've used some techniques fist to preprocess the text data :\n",
    "\n",
    "<li>correct misspelled text</li>\n",
    "<li>replace English contractions with there meaning (isn't => is not)</li>\n",
    "<li>remove some punctuations, URLS user mentions and extra spaces</li>\n",
    "<li>replace emojis with there meaning</li><br>\n",
    "\n",
    "For the modeling part I've used LSTM's and Roberta base Model:\n",
    "<li>First a Basic LSTM </li>\n",
    "<li>LSTM model with glove word embeddings</li>\n",
    "<li>Roberta Base model </li>\n",
    "<br>\n",
    "In the final part, I've made a donut chart that detects the level of emotions is a particular text."
   ]
  },
  {
   "cell_type": "markdown",
   "metadata": {},
   "source": [
    "<h2 style=\"color:red\">If you enjoyed this work or you found it helpful , an upvotes would be very much appreciated  :-)</h2>"
   ]
  },
  {
   "cell_type": "markdown",
   "metadata": {},
   "source": [
    "# Table of Contents  <a class=\"anchor\" id=\"toc\"></a>"
   ]
  },
  {
   "cell_type": "markdown",
   "metadata": {},
   "source": [
    "<div style=\"background: #f9f9f9 none repeat scroll 0 0;border: 1px solid #aaa;display: table;font-size: 95%;margin-bottom: 1em;padding: 20px;width: 400px;\">\n",
    "<h3>Contents</h3>\n",
    "<ul style=\"font-weight: 700;text-align: left;list-style: outside none none !important;\">\n",
    "    <li style=\"list-style: outside none none !important;\"><a href=\"#tu\">Tutorials</a></li>\n",
    "<li style=\"list-style: outside none none !important;\"><a href=\"#dp\">1 Data processing</a></li>\n",
    "      <ul style=\"font-weight: 700;text-align: left;list-style: outside none none !important;\">\n",
    "            <li style=\"list-style: outside none none !important;\"><a href=\"#dp-md\">1.1 Misspelled data</a></li>\n",
    "            <li style=\"list-style: outside none none !important;\"><a href=\"#dp-c\">1.2 Contractions</a></li>\n",
    "            <li style=\"list-style: outside none none !important;\"><a href=\"#dp-r\">1.3 Remove URLS and mentions</a></li>\n",
    "            <li style=\"list-style: outside none none !important;\"><a href=\"#dp-p\">1.4 Punctuations and emojis</a></li>\n",
    "            <li style=\"list-style: outside none none !important;\"><a href=\"#dp-re\">1.5 Remove empty comments</a></li>\n",
    "      </ul>\n",
    "<li style=\"list-style: outside none none !important;\"><a href=\"#m\">2 Modeling and Result</a></li>\n",
    "      <ul style=\"font-weight: 700;text-align: left;list-style: outside none none !important;\">\n",
    "            <li style=\"list-style: outside none none !important;\"><a href=\"#m-ed\">2.1 Encoding the data and train test split</a></li>\n",
    "            <li style=\"list-style: outside none none !important;\"><a href=\"#m-l\">2.2 LSTM</a></li>\n",
    "            <li style=\"list-style: outside none none !important;\"><a href=\"#m-lr\">2.3 LSTM Results</a></li>\n",
    "            <li style=\"list-style: outside none none !important;\"><a href=\"#m-lg\">2.4 LSTM with Glove</a></li>\n",
    "            <li style=\"list-style: outside none none !important;\"><a href=\"#m-lgr\">2.5 LSTM with Glove Results</a></li>\n",
    "            <li style=\"list-style: outside none none !important;\"><a href=\"#m-rb\">2.6 Roberta Base Model</a></li>\n",
    "            <li style=\"list-style: outside none none !important;\"><a href=\"#m-rbr\">2.7 Roberta Base Model Results</a></li>\n",
    "      </ul>\n",
    "\n",
    "</ul>\n",
    "</div>"
   ]
  },
  {
   "cell_type": "markdown",
   "metadata": {},
   "source": [
    "# Tutorials <a class=\"anchor\" id=\"tu\"></a>\n",
    "<a href=\"#toc\"><img src= \"https://upload.wikimedia.org/wikipedia/commons/thumb/2/20/Circle-icons-arrow-up.svg/1200px-Circle-icons-arrow-up.svg.png\" style=\"width:20px;hight:20px;float:left\" >Back to the table of contents</a>"
   ]
  },
  {
   "cell_type": "markdown",
   "metadata": {},
   "source": [
    "List of some blog post for all the NLP techniques used in this notebook"
   ]
  },
  {
   "cell_type": "markdown",
   "metadata": {},
   "source": [
    "<div>\n",
    "    <ul style=\"  list-style-type: none;width: 800px;\">\n",
    "    <a href=\"https://colah.github.io/posts/2015-08-Understanding-LSTMs/\" style=\"text-decoration:none;color:black\" target=\"_blank\">\n",
    "    <li style=\"float: left;margin: 0 15px 0 0;font: 200 12px/1.5 Georgia, Times New Roman, serif;padding: 5px;overflow: auto;\">\n",
    "        <img src=\"https://colah.github.io/images/post-covers/lstm.png\" style=\"float: left;margin: 0 15px 0 0;width:200px;hight:300px\">\n",
    "      <p style=\"font: bold 20px/1.5 Helvetica, Verdana, sans-serif;\">Understanding LSTM Networks</p>\n",
    "      <p style=\"font: 200 12px/1.5 Georgia, Times New Roman, serif;\">Humans don’t start their thinking from scratch every second. As you read this essay, you understand each word based on your understanding of previous words. You don’t throw everything away and start thinking from scratch again. Your thoughts have persistence....</p>\n",
    "    </li>\n",
    "      </a>\n",
    "      <hr style=\"width:100%;text-align:left;margin-left:0\">  \n",
    "    <a href=\"https://www.analyticsvidhya.com/blog/2017/06/word-embeddings-count-word2veec/\" style=\"text-decoration:none;color:black\" target=\"_blank\">\n",
    "    <li style=\"float: left;margin: 0 15px 0 0;font: 200 12px/1.5 Georgia, Times New Roman, serif;padding: 5px;overflow: auto;\">\n",
    "        <img src=\"https://miro.medium.com/max/2456/1*gcC7b_v7OKWutYN1NAHyMQ.png\" style=\"float: left;margin: 0px 15px 0 0;width:200px;hight:300px\">\n",
    "      <p style=\"font: bold 20px/1.5 Helvetica, Verdana, sans-serif;\"> Understanding of Word Embeddings</p>\n",
    "      <p style=\"font: 200 12px/1.5 Georgia, Times New Roman, serif;\">In very simplistic terms, Word Embeddings are the texts converted into numbers and there may be different numerical representations of the same text. But before we dive into the details of Word Embeddings, the following question should be asked – Why do we need Word Embeddings?...\n",
    "</p>\n",
    "    </li>\n",
    "      </a>\n",
    "      <hr style=\"width:100%;text-align:left;margin-left:0\">  \n",
    "    <a href=\"http://jalammar.github.io/a-visual-guide-to-using-bert-for-the-first-time/\" style=\"text-decoration:none;color:black\" target=\"_blank\">\n",
    "    <li style=\"float: left;margin: 0 15px 0 0;font: 200 12px/1.5 Georgia, Times New Roman, serif;padding: 5px;overflow: auto;\">\n",
    "        <img src=\"https://www.marcaglobal.us/wp-content/uploads/2019/11/BERT-2.png\" style=\"float: left;margin: 0px 15px 0 0;width:200px;hight:300px\">\n",
    "      <p style=\"font: bold 20px/1.5 Helvetica, Verdana, sans-serif;\">A Visual Guide to Using BERT for the First Time</p>\n",
    "      <p style=\"font: 200 12px/1.5 Georgia, Times New Roman, serif;\">This post is a simple tutorial for how to use a variant of BERT to classify sentences. This is an example that is basic enough as a first intro, yet advanced enough to showcase some of the key concepts involved.....\n",
    "</p>\n",
    "    </li>\n",
    "      </a>\n",
    "      <hr style=\"width:100%;text-align:left;margin-left:0\">  \n",
    "    <a href=\"https://huggingface.co/transformers/model_doc/roberta.html\" style=\"text-decoration:none;color:black\" target=\"_blank\">\n",
    "    <li style=\"float: left;margin: 0 15px 0 0;font: 200 12px/1.5 Georgia, Times New Roman, serif;padding: 5px;overflow: auto;\">\n",
    "        <img src=\"https://cdn-images-1.medium.com/max/1000/0*TWEo06DiQYlP5XSi\" style=\"float: left;margin: 0px 15px 0 0;width:200px;hight:300px\">\n",
    "      <p style=\"font: bold 20px/1.5 Helvetica, Verdana, sans-serif;\">RoBERTa</p>\n",
    "      <p style=\"font: 200 12px/1.5 Georgia, Times New Roman, serif;\">The RoBERTa model was proposed in RoBERTa: A Robustly Optimized BERT Pretraining Approach by Yinhan Liu, Myle Ott, Naman Goyal, Jingfei Du, Mandar Joshi, Danqi Chen, Omer Levy, Mike Lewis, Luke Zettlemoyer, Veselin Stoyanov. It is based on Google’s BERT model released in 2018....</p>\n",
    "    </li>\n",
    "      </a>\n",
    "\n",
    "  </ul>\n",
    "</div>\n"
   ]
  },
  {
   "cell_type": "code",
   "execution_count": 5,
   "metadata": {},
   "outputs": [
    {
     "name": "stdout",
     "output_type": "stream",
     "text": [
      "Collecting tweet-preprocessor\n",
      "  Using cached tweet_preprocessor-0.6.0-py3-none-any.whl.metadata (5.9 kB)\n",
      "Using cached tweet_preprocessor-0.6.0-py3-none-any.whl (27 kB)\n",
      "Installing collected packages: tweet-preprocessor\n",
      "Successfully installed tweet-preprocessor-0.6.0\n"
     ]
    }
   ],
   "source": [
    "!pip install tweet-preprocessor 2>/dev/null 1>/dev/null"
   ]
  },
  {
   "cell_type": "code",
   "execution_count": 57,
   "metadata": {
    "_kg_hide-input": true
   },
   "outputs": [],
   "source": [
    "import preprocessor as p\n",
    "import numpy as np \n",
    "import pandas as pd \n",
    "import emoji\n",
    "import keras\n",
    "from sklearn.model_selection import train_test_split\n",
    "import tensorflow as tf\n",
    "from keras.models import Sequential\n",
    "from keras.layers import LSTM, GRU,SimpleRNN\n",
    "from keras.layers import Dense, Activation, Dropout\n",
    "from keras.layers import Embedding\n",
    "from keras.layers import BatchNormalization\n",
    "\n",
    "\n",
    "\n",
    "from tensorflow.keras.preprocessing.text import Tokenizer\n",
    "\n",
    "\n",
    "from sklearn import preprocessing, decomposition, model_selection, metrics, pipeline\n",
    "from keras.layers import GlobalMaxPooling1D, Conv1D, MaxPooling1D, Flatten, Bidirectional, SpatialDropout1D\n",
    "#from keras.preprocessing import sequence, text\n",
    "from keras.callbacks import EarlyStopping\n",
    "from sklearn.preprocessing import LabelEncoder,OneHotEncoder\n",
    "import plotly.graph_objects as go\n",
    "import plotly.express as px\n",
    "from tensorflow.keras.layers import Dense, Input\n",
    "from tensorflow.keras.optimizers import Adam\n",
    "from tensorflow.keras.models import Model\n",
    "from tensorflow.keras.callbacks import ModelCheckpoint\n",
    "#from kaggle_datasets import KaggleDatasets\n",
    "import transformers\n",
    "from transformers import TFAutoModel, AutoTokenizer\n",
    "from tqdm.notebook import tqdm\n",
    "from tokenizers import Tokenizer, models, pre_tokenizers, decoders, processors\n",
    "from tqdm import tqdm"
   ]
  },
  {
   "cell_type": "markdown",
   "metadata": {},
   "source": [
    "# Data preparation  <a class=\"anchor\" id=\"dp\"></a>\n",
    "<a href=\"#toc\"><img src= \"https://upload.wikimedia.org/wikipedia/commons/thumb/2/20/Circle-icons-arrow-up.svg/1200px-Circle-icons-arrow-up.svg.png\" style=\"width:20px;hight:20px;float:left\" >Back to the table of contents</a>"
   ]
  },
  {
   "cell_type": "code",
   "execution_count": 58,
   "metadata": {},
   "outputs": [],
   "source": [
    "#data = pd.read_csv(\"/kaggle/input/tweet-sentiment-extraction/train.csv\")\n",
    "#data2 = pd.read_csv(\"/kaggle/input/tweet-sentiment-extraction/test.csv\")"
   ]
  },
  {
   "cell_type": "code",
   "execution_count": 59,
   "metadata": {
    "_cell_guid": "79c7e3d0-c299-4dcb-8224-4455121ee9b0",
    "_uuid": "d629ff2d2480ee46fbb7e2d37f6b5fab8052498a"
   },
   "outputs": [],
   "source": [
    "data = pd.read_csv(r\"C:\\Users\\Keerthana\\Desktop\\Model\\NLP\\Trail\\Dataset\\archive\\text_emotion.csv\")"
   ]
  },
  {
   "cell_type": "markdown",
   "metadata": {},
   "source": [
    "### Misspelled data <a class=\"anchor\" id=\"dp-md\"></a>\n",
    "<a href=\"#toc\"><img src= \"https://upload.wikimedia.org/wikipedia/commons/thumb/2/20/Circle-icons-arrow-up.svg/1200px-Circle-icons-arrow-up.svg.png\" style=\"width:20px;hight:20px;float:left\" >Back to the table of contents</a>"
   ]
  },
  {
   "cell_type": "code",
   "execution_count": 60,
   "metadata": {},
   "outputs": [
    {
     "data": {
      "text/plain": [
       "{'nevade': 'Nevada',\n",
       " 'presbyterian': 'Presbyterian',\n",
       " 'rsx': 'RSX',\n",
       " 'Steffen': 'Stephen',\n",
       " 'susan': 'Susan',\n",
       " 'abilitey': 'ability',\n",
       " 'abouy': 'about',\n",
       " 'absorbtion': 'absorption',\n",
       " 'accidently': 'accidentally',\n",
       " 'accomodate': 'accommodate',\n",
       " 'acommadate': 'accommodate',\n",
       " 'acord': 'accord',\n",
       " 'aquantance': 'acquaintance',\n",
       " 'equire': 'acquire',\n",
       " 'adultry': 'adultery',\n",
       " 'aggresive': 'aggressive',\n",
       " 'alchohol': 'alcohol',\n",
       " 'alchoholic': 'alcoholic',\n",
       " 'allieve': 'alive',\n",
       " 'alright': 'all_right'}"
      ]
     },
     "execution_count": 60,
     "metadata": {},
     "output_type": "execute_result"
    }
   ],
   "source": [
    "misspell_data = pd.read_csv(r\"C:\\Users\\Keerthana\\Desktop\\Model\\NLP\\Trail\\Dataset\\archive\\aspell.txt\",sep=\":\",names=[\"correction\",\"misspell\"])\n",
    "misspell_data.misspell = misspell_data.misspell.str.strip()\n",
    "misspell_data.misspell = misspell_data.misspell.str.split(\" \")\n",
    "misspell_data = misspell_data.explode(\"misspell\").reset_index(drop=True)\n",
    "misspell_data.drop_duplicates(\"misspell\",inplace=True)\n",
    "miss_corr = dict(zip(misspell_data.misspell, misspell_data.correction))\n",
    "\n",
    "#Sample of the dict\n",
    "{v:miss_corr[v] for v in [list(miss_corr.keys())[k] for k in range(20)]}"
   ]
  },
  {
   "cell_type": "code",
   "execution_count": 61,
   "metadata": {},
   "outputs": [],
   "source": [
    "def misspelled_correction(val):\n",
    "    for x in val.split(): \n",
    "        if x in miss_corr.keys(): \n",
    "            val = val.replace(x, miss_corr[x]) \n",
    "    return val\n",
    "\n",
    "data[\"clean_content\"] = data.content.apply(lambda x : misspelled_correction(x))"
   ]
  },
  {
   "cell_type": "markdown",
   "metadata": {},
   "source": [
    "### Contractions <a class=\"anchor\" id=\"dp-c\"></a>\n",
    "<a href=\"#toc\"><img src= \"https://upload.wikimedia.org/wikipedia/commons/thumb/2/20/Circle-icons-arrow-up.svg/1200px-Circle-icons-arrow-up.svg.png\" style=\"width:20px;hight:20px;float:left\" >Back to the table of contents</a>"
   ]
  },
  {
   "cell_type": "code",
   "execution_count": 62,
   "metadata": {},
   "outputs": [],
   "source": [
    "contractions = pd.read_csv(r\"C:\\Users\\Keerthana\\Desktop\\Model\\NLP\\Trail\\Dataset\\archive\\contractions.csv\")\n",
    "cont_dic = dict(zip(contractions.Contraction, contractions.Meaning))"
   ]
  },
  {
   "cell_type": "code",
   "execution_count": 63,
   "metadata": {},
   "outputs": [],
   "source": [
    "def cont_to_meaning(val): \n",
    "  \n",
    "    for x in val.split(): \n",
    "        if x in cont_dic.keys(): \n",
    "            val = val.replace(x, cont_dic[x]) \n",
    "    return val\n"
   ]
  },
  {
   "cell_type": "code",
   "execution_count": 64,
   "metadata": {},
   "outputs": [],
   "source": [
    "data.clean_content = data.clean_content.apply(lambda x : cont_to_meaning(x))"
   ]
  },
  {
   "cell_type": "markdown",
   "metadata": {},
   "source": [
    "### Remove URLS and mentions <a class=\"anchor\" id=\"dp-r\"></a>\n",
    "<a href=\"#toc\"><img src= \"https://upload.wikimedia.org/wikipedia/commons/thumb/2/20/Circle-icons-arrow-up.svg/1200px-Circle-icons-arrow-up.svg.png\" style=\"width:20px;hight:20px;float:left\" >Back to the table of contents</a>"
   ]
  },
  {
   "cell_type": "code",
   "execution_count": 65,
   "metadata": {},
   "outputs": [
    {
     "data": {
      "text/plain": [
       "'hello guys #sport🔥 1245'"
      ]
     },
     "execution_count": 65,
     "metadata": {},
     "output_type": "execute_result"
    }
   ],
   "source": [
    "p.set_options(p.OPT.MENTION, p.OPT.URL)\n",
    "p.clean(\"hello guys @alx #sport🔥 1245 https://github.com/s/preprocessor\")"
   ]
  },
  {
   "cell_type": "code",
   "execution_count": 66,
   "metadata": {},
   "outputs": [],
   "source": [
    "data[\"clean_content\"]=data.content.apply(lambda x : p.clean(x))"
   ]
  },
  {
   "cell_type": "markdown",
   "metadata": {},
   "source": [
    "### Punctuations and emojis <a class=\"anchor\" id=\"dp-p\"></a>\n",
    "<a href=\"#toc\"><img src= \"https://upload.wikimedia.org/wikipedia/commons/thumb/2/20/Circle-icons-arrow-up.svg/1200px-Circle-icons-arrow-up.svg.png\" style=\"width:20px;hight:20px;float:left\" >Back to the table of contents</a>"
   ]
  },
  {
   "cell_type": "code",
   "execution_count": 67,
   "metadata": {},
   "outputs": [
    {
     "name": "stderr",
     "output_type": "stream",
     "text": [
      "<>:3: SyntaxWarning: invalid escape sequence '\\,'\n",
      "<>:3: SyntaxWarning: invalid escape sequence '\\,'\n",
      "C:\\Users\\Keerthana\\AppData\\Local\\Temp\\ipykernel_17872\\4242707199.py:3: SyntaxWarning: invalid escape sequence '\\,'\n",
      "  punctuations = '''()-[]{};:'\"\\,<>./@#$%^&_~'''\n"
     ]
    }
   ],
   "source": [
    "def punctuation(val): \n",
    "  \n",
    "    punctuations = '''()-[]{};:'\"\\,<>./@#$%^&_~'''\n",
    "  \n",
    "    for x in val.lower(): \n",
    "        if x in punctuations: \n",
    "            val = val.replace(x, \" \") \n",
    "    return val\n"
   ]
  },
  {
   "cell_type": "code",
   "execution_count": 68,
   "metadata": {},
   "outputs": [
    {
     "data": {
      "text/plain": [
       "'test    ldfldlf??? !! '"
      ]
     },
     "execution_count": 68,
     "metadata": {},
     "output_type": "execute_result"
    }
   ],
   "source": [
    "punctuation(\"test @ #ldfldlf??? !! \")"
   ]
  },
  {
   "cell_type": "code",
   "execution_count": 69,
   "metadata": {},
   "outputs": [],
   "source": [
    "data.clean_content = data.clean_content.apply(lambda x : ' '.join(punctuation(emoji.demojize(x)).split()))"
   ]
  },
  {
   "cell_type": "code",
   "execution_count": 70,
   "metadata": {},
   "outputs": [],
   "source": [
    "def clean_text(val):\n",
    "    val = misspelled_correction(val)\n",
    "    val = cont_to_meaning(val)\n",
    "    val = p.clean(val)\n",
    "    val = ' '.join(punctuation(emoji.demojize(val)).split())\n",
    "    \n",
    "    return val"
   ]
  },
  {
   "cell_type": "code",
   "execution_count": 71,
   "metadata": {},
   "outputs": [
    {
     "data": {
      "text/plain": [
       "'is not light bulb adultery good bad ! ?'"
      ]
     },
     "execution_count": 71,
     "metadata": {},
     "output_type": "execute_result"
    }
   ],
   "source": [
    "clean_text(\"isn't 💡 adultry @ttt good bad ... ! ? \")"
   ]
  },
  {
   "cell_type": "markdown",
   "metadata": {},
   "source": [
    "### Remove empty comments <a class=\"anchor\" id=\"dp-re\"></a>\n",
    "<a href=\"#toc\"><img src= \"https://upload.wikimedia.org/wikipedia/commons/thumb/2/20/Circle-icons-arrow-up.svg/1200px-Circle-icons-arrow-up.svg.png\" style=\"width:20px;hight:20px;float:left\" >Back to the table of contents</a>"
   ]
  },
  {
   "cell_type": "code",
   "execution_count": 72,
   "metadata": {},
   "outputs": [],
   "source": [
    "data = data[data.clean_content != \"\"]"
   ]
  },
  {
   "cell_type": "code",
   "execution_count": 73,
   "metadata": {},
   "outputs": [
    {
     "data": {
      "text/plain": [
       "sentiment\n",
       "neutral       8579\n",
       "worry         8454\n",
       "happiness     5208\n",
       "sadness       5162\n",
       "love          3841\n",
       "surprise      2187\n",
       "fun           1776\n",
       "relief        1526\n",
       "hate          1323\n",
       "empty          815\n",
       "enthusiasm     759\n",
       "boredom        179\n",
       "anger          110\n",
       "Name: count, dtype: int64"
      ]
     },
     "execution_count": 73,
     "metadata": {},
     "output_type": "execute_result"
    }
   ],
   "source": [
    "data.sentiment.value_counts()"
   ]
  },
  {
   "cell_type": "markdown",
   "metadata": {},
   "source": [
    "# Modeling  <a class=\"anchor\" id=\"m\"></a>\n",
    "<a href=\"#toc\"><img src= \"https://upload.wikimedia.org/wikipedia/commons/thumb/2/20/Circle-icons-arrow-up.svg/1200px-Circle-icons-arrow-up.svg.png\" style=\"width:20px;hight:20px;float:left\" >Back to the table of contents</a>"
   ]
  },
  {
   "cell_type": "markdown",
   "metadata": {},
   "source": [
    "### Encoding the data and train test split <a class=\"anchor\" id=\"m-ed\"></a>\n",
    "<a href=\"#toc\"><img src= \"https://upload.wikimedia.org/wikipedia/commons/thumb/2/20/Circle-icons-arrow-up.svg/1200px-Circle-icons-arrow-up.svg.png\" style=\"width:20px;hight:20px;float:left\" >Back to the table of contents</a>"
   ]
  },
  {
   "cell_type": "code",
   "execution_count": 74,
   "metadata": {},
   "outputs": [],
   "source": [
    "sent_to_id  = {\"empty\":0, \"sadness\":1,\"enthusiasm\":2,\"neutral\":3,\"worry\":4,\n",
    "                        \"surprise\":5,\"love\":6,\"fun\":7,\"hate\":8,\"happiness\":9,\"boredom\":10,\"relief\":11,\"anger\":12}"
   ]
  },
  {
   "cell_type": "code",
   "execution_count": 75,
   "metadata": {},
   "outputs": [],
   "source": [
    "data[\"sentiment_id\"] = data['sentiment'].map(sent_to_id)\n"
   ]
  },
  {
   "cell_type": "code",
   "execution_count": 76,
   "metadata": {},
   "outputs": [
    {
     "data": {
      "text/html": [
       "<div>\n",
       "<style scoped>\n",
       "    .dataframe tbody tr th:only-of-type {\n",
       "        vertical-align: middle;\n",
       "    }\n",
       "\n",
       "    .dataframe tbody tr th {\n",
       "        vertical-align: top;\n",
       "    }\n",
       "\n",
       "    .dataframe thead th {\n",
       "        text-align: right;\n",
       "    }\n",
       "</style>\n",
       "<table border=\"1\" class=\"dataframe\">\n",
       "  <thead>\n",
       "    <tr style=\"text-align: right;\">\n",
       "      <th></th>\n",
       "      <th>tweet_id</th>\n",
       "      <th>sentiment</th>\n",
       "      <th>author</th>\n",
       "      <th>content</th>\n",
       "      <th>clean_content</th>\n",
       "      <th>sentiment_id</th>\n",
       "    </tr>\n",
       "  </thead>\n",
       "  <tbody>\n",
       "    <tr>\n",
       "      <th>0</th>\n",
       "      <td>1956967341</td>\n",
       "      <td>empty</td>\n",
       "      <td>xoshayzers</td>\n",
       "      <td>@tiffanylue i know  i was listenin to bad habi...</td>\n",
       "      <td>i know i was listenin to bad habit earlier and...</td>\n",
       "      <td>0</td>\n",
       "    </tr>\n",
       "    <tr>\n",
       "      <th>1</th>\n",
       "      <td>1956967666</td>\n",
       "      <td>sadness</td>\n",
       "      <td>wannamama</td>\n",
       "      <td>Layin n bed with a headache  ughhhh...waitin o...</td>\n",
       "      <td>Layin n bed with a headache ughhhh waitin on y...</td>\n",
       "      <td>1</td>\n",
       "    </tr>\n",
       "    <tr>\n",
       "      <th>2</th>\n",
       "      <td>1956967696</td>\n",
       "      <td>sadness</td>\n",
       "      <td>coolfunky</td>\n",
       "      <td>Funeral ceremony...gloomy friday...</td>\n",
       "      <td>Funeral ceremony gloomy friday</td>\n",
       "      <td>1</td>\n",
       "    </tr>\n",
       "    <tr>\n",
       "      <th>3</th>\n",
       "      <td>1956967789</td>\n",
       "      <td>enthusiasm</td>\n",
       "      <td>czareaquino</td>\n",
       "      <td>wants to hang out with friends SOON!</td>\n",
       "      <td>wants to hang out with friends SOON!</td>\n",
       "      <td>2</td>\n",
       "    </tr>\n",
       "    <tr>\n",
       "      <th>4</th>\n",
       "      <td>1956968416</td>\n",
       "      <td>neutral</td>\n",
       "      <td>xkilljoyx</td>\n",
       "      <td>@dannycastillo We want to trade with someone w...</td>\n",
       "      <td>We want to trade with someone who has Houston ...</td>\n",
       "      <td>3</td>\n",
       "    </tr>\n",
       "    <tr>\n",
       "      <th>...</th>\n",
       "      <td>...</td>\n",
       "      <td>...</td>\n",
       "      <td>...</td>\n",
       "      <td>...</td>\n",
       "      <td>...</td>\n",
       "      <td>...</td>\n",
       "    </tr>\n",
       "    <tr>\n",
       "      <th>39994</th>\n",
       "      <td>1753918900</td>\n",
       "      <td>happiness</td>\n",
       "      <td>courtside101</td>\n",
       "      <td>Succesfully following Tayla!!</td>\n",
       "      <td>Succesfully following Tayla!!</td>\n",
       "      <td>9</td>\n",
       "    </tr>\n",
       "    <tr>\n",
       "      <th>39996</th>\n",
       "      <td>1753919001</td>\n",
       "      <td>love</td>\n",
       "      <td>drapeaux</td>\n",
       "      <td>Happy Mothers Day  All my love</td>\n",
       "      <td>Happy Mothers Day All my love</td>\n",
       "      <td>6</td>\n",
       "    </tr>\n",
       "    <tr>\n",
       "      <th>39997</th>\n",
       "      <td>1753919005</td>\n",
       "      <td>love</td>\n",
       "      <td>JenniRox</td>\n",
       "      <td>Happy Mother's Day to all the mommies out ther...</td>\n",
       "      <td>Happy Mother s Day to all the mommies out ther...</td>\n",
       "      <td>6</td>\n",
       "    </tr>\n",
       "    <tr>\n",
       "      <th>39998</th>\n",
       "      <td>1753919043</td>\n",
       "      <td>happiness</td>\n",
       "      <td>ipdaman1</td>\n",
       "      <td>@niariley WASSUP BEAUTIFUL!!! FOLLOW ME!!  PEE...</td>\n",
       "      <td>WASSUP BEAUTIFUL!!! FOLLOW ME!! PEEP OUT MY NE...</td>\n",
       "      <td>9</td>\n",
       "    </tr>\n",
       "    <tr>\n",
       "      <th>39999</th>\n",
       "      <td>1753919049</td>\n",
       "      <td>love</td>\n",
       "      <td>Alpharalpha</td>\n",
       "      <td>@mopedronin bullet train from tokyo    the gf ...</td>\n",
       "      <td>bullet train from tokyo the gf and i have been...</td>\n",
       "      <td>6</td>\n",
       "    </tr>\n",
       "  </tbody>\n",
       "</table>\n",
       "<p>39919 rows × 6 columns</p>\n",
       "</div>"
      ],
      "text/plain": [
       "         tweet_id   sentiment        author  \\\n",
       "0      1956967341       empty    xoshayzers   \n",
       "1      1956967666     sadness     wannamama   \n",
       "2      1956967696     sadness     coolfunky   \n",
       "3      1956967789  enthusiasm   czareaquino   \n",
       "4      1956968416     neutral     xkilljoyx   \n",
       "...           ...         ...           ...   \n",
       "39994  1753918900   happiness  courtside101   \n",
       "39996  1753919001        love      drapeaux   \n",
       "39997  1753919005        love      JenniRox   \n",
       "39998  1753919043   happiness      ipdaman1   \n",
       "39999  1753919049        love   Alpharalpha   \n",
       "\n",
       "                                                 content  \\\n",
       "0      @tiffanylue i know  i was listenin to bad habi...   \n",
       "1      Layin n bed with a headache  ughhhh...waitin o...   \n",
       "2                    Funeral ceremony...gloomy friday...   \n",
       "3                   wants to hang out with friends SOON!   \n",
       "4      @dannycastillo We want to trade with someone w...   \n",
       "...                                                  ...   \n",
       "39994                      Succesfully following Tayla!!   \n",
       "39996                     Happy Mothers Day  All my love   \n",
       "39997  Happy Mother's Day to all the mommies out ther...   \n",
       "39998  @niariley WASSUP BEAUTIFUL!!! FOLLOW ME!!  PEE...   \n",
       "39999  @mopedronin bullet train from tokyo    the gf ...   \n",
       "\n",
       "                                           clean_content  sentiment_id  \n",
       "0      i know i was listenin to bad habit earlier and...             0  \n",
       "1      Layin n bed with a headache ughhhh waitin on y...             1  \n",
       "2                         Funeral ceremony gloomy friday             1  \n",
       "3                   wants to hang out with friends SOON!             2  \n",
       "4      We want to trade with someone who has Houston ...             3  \n",
       "...                                                  ...           ...  \n",
       "39994                      Succesfully following Tayla!!             9  \n",
       "39996                      Happy Mothers Day All my love             6  \n",
       "39997  Happy Mother s Day to all the mommies out ther...             6  \n",
       "39998  WASSUP BEAUTIFUL!!! FOLLOW ME!! PEEP OUT MY NE...             9  \n",
       "39999  bullet train from tokyo the gf and i have been...             6  \n",
       "\n",
       "[39919 rows x 6 columns]"
      ]
     },
     "execution_count": 76,
     "metadata": {},
     "output_type": "execute_result"
    }
   ],
   "source": [
    "data"
   ]
  },
  {
   "cell_type": "code",
   "execution_count": 77,
   "metadata": {},
   "outputs": [],
   "source": [
    "label_encoder = LabelEncoder()\n",
    "integer_encoded = label_encoder.fit_transform(data.sentiment_id)\n",
    "\n",
    "onehot_encoder = OneHotEncoder()\n",
    "integer_encoded = integer_encoded.reshape(len(integer_encoded), 1)\n",
    "Y = onehot_encoder.fit_transform(integer_encoded)"
   ]
  },
  {
   "cell_type": "code",
   "execution_count": 78,
   "metadata": {},
   "outputs": [],
   "source": [
    "X_train, X_test, y_train, y_test = train_test_split(data.clean_content,Y, random_state=1995, test_size=0.2, shuffle=True)"
   ]
  },
  {
   "cell_type": "markdown",
   "metadata": {},
   "source": [
    "### LSTM <a class=\"anchor\" id=\"m-l\"></a>\n",
    "<a href=\"#toc\"><img src= \"https://upload.wikimedia.org/wikipedia/commons/thumb/2/20/Circle-icons-arrow-up.svg/1200px-Circle-icons-arrow-up.svg.png\" style=\"width:20px;hight:20px;float:left\" >Back to the table of contents</a>"
   ]
  },
  {
   "cell_type": "code",
   "execution_count": 83,
   "metadata": {},
   "outputs": [],
   "source": [
    "# using keras tokenizer here\n",
    "token = Tokenizer.num_words=None\n",
    "max_len = 160\n",
    "Epoch = 5\n",
    "token.fit_on_texts(list(X_train) + list(X_test))\n",
    "X_train_pad = sequence.pad_sequences(token.texts_to_sequences(X_train), maxlen=max_len)\n",
    "X_test_pad = sequence.pad_sequences(token.texts_to_sequences(X_test), maxlen=max_len)"
   ]
  },
  {
   "cell_type": "code",
   "execution_count": 96,
   "metadata": {
    "scrolled": true
   },
   "outputs": [
    {
     "name": "stdout",
     "output_type": "stream",
     "text": [
      "Word Index: {'i': 1, 'to': 2, 'the': 3, 'a': 4, 'my': 5, 'you': 6, 'it': 7, 'and': 8, 'is': 9, 'in': 10, 'for': 11, 's': 12, 't': 13, 'of': 14, 'that': 15, 'on': 16, 'me': 17, 'have': 18, 'so': 19, 'but': 20, 'm': 21, 'just': 22, 'day': 23, 'with': 24, 'be': 25, 'at': 26, 'was': 27, 'not': 28, 'all': 29, 'good': 30, 'this': 31, 'now': 32, 'can': 33, 'out': 34, 'up': 35, 'get': 36, 'like': 37, 'are': 38, 'no': 39, 'quot': 40, 'go': 41, 'do': 42, 'your': 43, 'today': 44, 'work': 45, 'love': 46, 'got': 47, 'too': 48, 'going': 49, 'we': 50, 'happy': 51, 'what': 52, 'lol': 53, 'from': 54, 'one': 55, 'time': 56, 'u': 57, 'know': 58, 'back': 59, 'will': 60, 'there': 61, 'really': 62, 'im': 63, 'don': 64, 'about': 65, 'am': 66, 'see': 67, 'its': 68, 'amp': 69, 'had': 70, 'they': 71, 'night': 72, 'some': 73, 'if': 74, 'new': 75, 'home': 76, 'how': 77, 'think': 78, 'well': 79, '2': 80, 'thanks': 81, 'when': 82, 'want': 83, 'as': 84, 'oh': 85, 'll': 86, 'still': 87, 'off': 88, 'he': 89, 'much': 90, 'here': 91, 'an': 92, 'more': 93, 'miss': 94, 're': 95, 'great': 96, 'last': 97, 'morning': 98, 'need': 99, 'hope': 100, 'her': 101, 'haha': 102, 'has': 103, 'been': 104, 'she': 105, 'then': 106, 'twitter': 107, 'feel': 108, 'fun': 109, 'or': 110, 'again': 111, '3': 112, 'only': 113, 'sad': 114, 'would': 115, 'why': 116, 'tomorrow': 117, 'wish': 118, 'tonight': 119, 'sorry': 120, 've': 121, 'bad': 122, 'right': 123, 'very': 124, 'mother': 125, 'did': 126, 'by': 127, 'make': 128, 'them': 129, 'nice': 130, 'though': 131, 'better': 132, 'gonna': 133, 'yeah': 134, 'sleep': 135, 'should': 136, 'week': 137, 'could': 138, 'way': 139, 'getting': 140, 'over': 141, 'weekend': 142, 'mothers': 143, 'come': 144, 'people': 145, 'bed': 146, 'next': 147, 'didn': 148, 'school': 149, 'were': 150, 'dont': 151, 'watching': 152, 'awesome': 153, 'lt': 154, 'days': 155, 'him': 156, 'after': 157, 'wait': 158, 'mom': 159, 'hate': 160, 'hey': 161, 'd': 162, 'even': 163, 'say': 164, 'best': 165, 'never': 166, '4': 167, 'yes': 168, 'little': 169, 'thank': 170, 'who': 171, 'long': 172, 'soon': 173, 'working': 174, 'show': 175, 'down': 176, 'being': 177, 'thing': 178, 'having': 179, 'ok': 180, 'his': 181, 'take': 182, 'please': 183, 'done': 184, 'cant': 185, 'any': 186, 'life': 187, 'sure': 188, 'where': 189, 'everyone': 190, 'our': 191, 'may': 192, 'always': 193, 'than': 194, 'sick': 195, 'look': 196, 'tired': 197, 'first': 198, '1': 199, 'doing': 200, 'wanna': 201, 'because': 202, 'ur': 203, 'movie': 204, 'cool': 205, 'feeling': 206, 'let': 207, 'won': 208, 'guys': 209, 'find': 210, 'already': 211, 'friends': 212, 'another': 213, 'phone': 214, 'made': 215, 'man': 216, 'something': 217, 'watch': 218, 'hours': 219, 'yet': 220, 'trying': 221, 'us': 222, '5': 223, 'x': 224, 'yay': 225, 'ever': 226, 'before': 227, 'house': 228, 'ready': 229, 'old': 230, 'looking': 231, 'friend': 232, 'pretty': 233, 'friday': 234, 'maybe': 235, 'thought': 236, 'sucks': 237, 'live': 238, 'girl': 239, 'finally': 240, 'damn': 241, 'went': 242, 'left': 243, 'away': 244, 'guess': 245, 'follow': 246, 'same': 247, 'into': 248, 'someone': 249, 'amazing': 250, 'bit': 251, 'nothing': 252, 'monday': 253, 'big': 254, 'ya': 255, 'looks': 256, 'other': 257, 'omg': 258, 'wow': 259, 'year': 260, 'missed': 261, 'also': 262, 'keep': 263, 'doesn': 264, 'while': 265, 'n': 266, 'things': 267, 'two': 268, 'bored': 269, 'said': 270, 'later': 271, 'those': 272, 'hot': 273, 'star': 274, 'hear': 275, 'tweet': 276, 'glad': 277, 'hard': 278, 'actually': 279, 'try': 280, 'tell': 281, 'ugh': 282, 'car': 283, 'saw': 284, 'baby': 285, 'lost': 286, 'early': 287, 'call': 288, 'such': 289, 'help': 290, 'world': 291, 'job': 292, 'weather': 293, 'coming': 294, 'sun': 295, 'song': 296, 'start': 297, 'hi': 298, 'head': 299, 'makes': 300, 'w': 301, 'might': 302, 'birthday': 303, 'around': 304, 'waiting': 305, 'until': 306, 'stuff': 307, 'gone': 308, 'rain': 309, 'play': 310, 'gotta': 311, 'god': 312, 'must': 313, 'myself': 314, 'yesterday': 315, 'poor': 316, 'few': 317, 'since': 318, 'party': 319, 'thats': 320, 'does': 321, 'b': 322, 'excited': 323, 'lot': 324, 'late': 325, 'making': 326, 'o': 327, 'read': 328, 'hair': 329, 'anything': 330, 'family': 331, 'check': 332, 'aww': 333, 'found': 334, 'their': 335, 'music': 336, 'summer': 337, 'till': 338, 'give': 339, 'almost': 340, 'put': 341, 'enjoy': 342, 'mean': 343, 'least': 344, 'sunday': 345, 'welcome': 346, 'anyone': 347, 'talk': 348, 'everything': 349, 'end': 350, 'without': 351, 'cute': 352, 'leave': 353, 'lunch': 354, 'listening': 355, 'cause': 356, 'tho': 357, 'hurts': 358, 'totally': 359, 'dinner': 360, 'funny': 361, 'money': 362, 'game': 363, 'isn': 364, 'most': 365, 'r': 366, 'free': 367, 'thinking': 368, 'eat': 369, '10': 370, 'wanted': 371, 'haven': 372, 'stop': 373, 'mine': 374, 'sounds': 375, 'many': 376, 'ha': 377, 'hour': 378, 'stupid': 379, 'missing': 380, 'far': 381, 'beautiful': 382, '6': 383, 'use': 384, 'finished': 385, 'forward': 386, 'luck': 387, 'believe': 388, 'playing': 389, 'probably': 390, 'cold': 391, 'food': 392, 'okay': 393, 'through': 394, 'place': 395, 'gt': 396, 'times': 397, 'coffee': 398, 'sweet': 399, 'these': 400, 'p': 401, 'shit': 402, 'which': 403, 'lovely': 404, 'every': 405, 'didnt': 406, 'eating': 407, 'hahaha': 408, 'outside': 409, 'enough': 410, 'real': 411, 'kids': 412, 'xx': 413, 'followers': 414, 'stuck': 415, 'wasn': 416, 'ill': 417, 'awww': 418, 'kinda': 419, 'office': 420, 'took': 421, 'says': 422, 'headache': 423, 'seen': 424, 'whole': 425, 'sooo': 426, 'room': 427, 'pic': 428, '30': 429, 'came': 430, '7': 431, '8': 432, 'woke': 433, 'wrong': 434, 'buy': 435, 'wants': 436, 'moms': 437, 'following': 438, 'dad': 439, 'anymore': 440, 'years': 441, 'stay': 442, 'weeks': 443, 'video': 444, 'forgot': 445, 'full': 446, 'name': 447, 'tv': 448, 'ago': 449, 'goodnight': 450, 'meet': 451, 'taking': 452, 'both': 453, 'super': 454, 'else': 455, 'loved': 456, 'book': 457, 'boo': 458, 'busy': 459, 'sitting': 460, 'c': 461, 'mum': 462, 'able': 463, 'class': 464, 'shopping': 465, 'hopefully': 466, 'alone': 467, 'couldn': 468, 'tweets': 469, 'guy': 470, 'half': 471, 'internet': 472, 'lots': 473, 'iphone': 474, 'seems': 475, 'used': 476, 'own': 477, 'trek': 478, 'hit': 479, 'post': 480, 'idea': 481, 'hell': 482, 'cry': 483, 'online': 484, 'break': 485, 'told': 486, 'holiday': 487, 'quite': 488, 'called': 489, 'gets': 490, 'send': 491, 'remember': 492, 'run': 493, 'wars': 494, 'hello': 495, 'y': 496, 'news': 497, 'computer': 498, 'talking': 499, 'btw': 500, 'hurt': 501, 'cuz': 502, 'hehe': 503, 'saturday': 504, 'change': 505, 'dude': 506, 'wont': 507, 'dog': 508, 'seeing': 509, 'win': 510, 'once': 511, 'tried': 512, 'bank': 513, 'rest': 514, 'fucking': 515, 'crazy': 516, 'minutes': 517, 'either': 518, 'ah': 519, 'raining': 520, 'face': 521, 'watched': 522, 'kind': 523, 'feels': 524, 'heard': 525, 'wonderful': 526, 'picture': 527, 'awake': 528, 'lucky': 529, 'breakfast': 530, 'boy': 531, 'broke': 532, 'drive': 533, 'soo': 534, 'evening': 535, 'instead': 536, 'true': 537, 'starting': 538, 'site': 539, 'blog': 540, 'girls': 541, 'lmao': 542, 'part': 543, 'person': 544, 'facebook': 545, 'mind': 546, 'til': 547, 'trip': 548, 'high': 549, 'link': 550, 'heart': 551, 'drink': 552, 'beach': 553, 'concert': 554, 'leaving': 555, 'pain': 556, 'sometimes': 557, 'months': 558, 'aw': 559, 'fail': 560, 'perfect': 561, 'mommy': 562, 'ice': 563, 'close': 564, 'set': 565, 'fine': 566, 'dead': 567, 'bought': 568, 'suck': 569, 'turn': 570, 'fuck': 571, 'wishing': 572, 'la': 573, 'hungry': 574, 'move': 575, 'soooo': 576, 'goes': 577, 'loves': 578, 'youtube': 579, 'card': 580, 'month': 581, 'yea': 582, 'ask': 583, 'anyway': 584, 'hoping': 585, 'shower': 586, 'happened': 587, 'heading': 588, 'writing': 589, 'running': 590, 'bout': 591, 'care': 592, 'june': 593, 'ones': 594, 'started': 595, 'favorite': 596, 'fan': 597, 'definitely': 598, 'tea': 599, 'boring': 600, 'nite': 601, 'problem': 602, 'seriously': 603, 'exam': 604, 'lil': 605, 'comes': 606, 'com': 607, 'needs': 608, 'ipod': 609, 'couple': 610, 'test': 611, 'wake': 612, 'sunny': 613, 'pics': 614, 'reading': 615, 'xd': 616, 'crap': 617, 'sigh': 618, 'asleep': 619, 'write': 620, '4th': 621, 'list': 622, 'cat': 623, 'course': 624, 'moment': 625, 'e': 626, 'open': 627, 'moving': 628, 'movies': 629, 'tickets': 630, 'chocolate': 631, '9': 632, 'ass': 633, 'reply': 634, 'means': 635, 'sore': 636, 'email': 637, 'top': 638, 'text': 639, 'city': 640, 'less': 641, 'jealous': 642, 'catch': 643, 'ive': 644, 'yep': 645, 'fast': 646, 'songs': 647, 'supposed': 648, 'laptop': 649, 'died': 650, 'dream': 651, 'meeting': 652, 'mad': 653, 'eyes': 654, 'goin': 655, 'works': 656, 'gave': 657, 'town': 658, 'sleeping': 659, 'reason': 660, 'bye': 661, 'special': 662, 'uk': 663, 'spend': 664, 'photo': 665, 'rock': 666, 'short': 667, 'happen': 668, 'together': 669, 'dear': 670, 'vote': 671, 'final': 672, 'cut': 673, 'sister': 674, 'aren': 675, 'season': 676, 'saying': 677, 'hmm': 678, 'cream': 679, 'fb': 680, 'cleaning': 681, 'using': 682, 'red': 683, 'account': 684, 'tour': 685, 'boys': 686, 'sadly': 687, 'hugs': 688, 'bring': 689, 'forget': 690, 'interesting': 691, 'gym': 692, 'hang': 693, 'xxx': 694, 'due': 695, 'enjoying': 696, '12': 697, 'em': 698, 'driving': 699, 'exams': 700, 'water': 701, 'date': 702, 'nap': 703, 'black': 704, 'sound': 705, 'afternoon': 706, '1st': 707, 'brother': 708, 'broken': 709, 'second': 710, 'knew': 711, '11': 712, 'plans': 713, 'pictures': 714, 'finish': 715, 'clean': 716, 'ride': 717, 'warm': 718, 'past': 719, 'worth': 720, 'listen': 721, 'unfortunately': 722, 'fell': 723, 'doesnt': 724, 'ppl': 725, 'lady': 726, 'pizza': 727, 'jonas': 728, 'flu': 729, 'nope': 730, 'agree': 731, 'spent': 732, 'park': 733, 'episode': 734, 'weird': 735, 'bgt': 736, 'upset': 737, '20': 738, 'walk': 739, 'seem': 740, 'horrible': 741, 'liked': 742, 'three': 743, 'sent': 744, 'ate': 745, 'ahh': 746, 'mood': 747, 'different': 748, 'club': 749, 'london': 750, 'under': 751, 'google': 752, 'beer': 753, 'sunshine': 754, 'drinking': 755, 'bday': 756, 'photos': 757, 'page': 758, 'especially': 759, 'dance': 760, 'slow': 761, 'side': 762, 'add': 763, 'plan': 764, 'fair': 765, 'da': 766, 'garden': 767, 'g': 768, 'kid': 769, 'rather': 770, 'shows': 771, 'congrats': 772, 'wtf': 773, 'wedding': 774, 'wouldn': 775, 'store': 776, '15': 777, 'cake': 778, 'study': 779, 'huge': 780, 'fall': 781, 'inside': 782, 'bus': 783, 'hug': 784, 'worse': 785, 'chance': 786, 'mama': 787, 'son': 788, 'except': 789, 'words': 790, 'meant': 791, 'english': 792, 'message': 793, 'die': 794, 'save': 795, 'point': 796, '100': 797, 'white': 798, 'wear': 799, 'played': 800, 'fans': 801, 'worry': 802, 'apparently': 803, 'story': 804, 'ahhh': 805, 'whats': 806, 'havent': 807, 'shame': 808, 'album': 809, 'learn': 810, 'figure': 811, 'babe': 812, 'completely': 813, 'loving': 814, 'visit': 815, 'plus': 816, 'looked': 817, 'update': 818, 'word': 819, 'green': 820, 'tweeting': 821, 'answer': 822, 'hand': 823, 'throat': 824, 'smile': 825, 'mr': 826, 'l': 827, 'traffic': 828, 'thx': 829, 'snl': 830, 'via': 831, 'worst': 832, 'idk': 833, 'easy': 834, 'everybody': 835, 'sat': 836, 'yummy': 837, 'happens': 838, 'earlier': 839, 'slept': 840, 'parents': 841, 'guitar': 842, 'prom': 843, 'dreams': 844, 'updates': 845, 'yours': 846, 'needed': 847, 'absolutely': 848, 'business': 849, 'living': 850, 'mac': 851, 'drunk': 852, 'dang': 853, 'lame': 854, 'men': 855, 'whatever': 856, 'relaxing': 857, 'band': 858, 'line': 859, 'yum': 860, 'crying': 861, 'bet': 862, 'near': 863, 'during': 864, 'gift': 865, 'film': 866, 'each': 867, 'project': 868, 'longer': 869, '0': 870, 'ohh': 871, 'k': 872, 'bike': 873, 'sign': 874, 'air': 875, 'starts': 876, 'camera': 877, 'along': 878, 'number': 879, 'homework': 880, 'hun': 881, 'wondering': 882, 'felt': 883, 'vegas': 884, 'met': 885, 'bless': 886, '2day': 887, 'apple': 888, 'chat': 889, 'kill': 890, 'hubby': 891, 'wonder': 892, 'lazy': 893, 'feet': 894, 'daughter': 895, 'shirt': 896, 'radio': 897, 'cannot': 898, 'wishes': 899, 'wife': 900, 'although': 901, 'hanging': 902, 'company': 903, 'thinks': 904, 'cheese': 905, 'shoes': 906, 'luv': 907, 'posted': 908, 'fingers': 909, 'behind': 910, '2nd': 911, 'staying': 912, 'lonely': 913, 'hates': 914, 'comment': 915, 'fact': 916, 'realized': 917, 'join': 918, 'yourself': 919, 'stomach': 920, 'hmmm': 921, 'fantastic': 922, 'small': 923, 'chicken': 924, 'sexy': 925, 'ma': 926, 'woo': 927, 'understand': 928, 'paper': 929, 'worked': 930, 'graduation': 931, 'safe': 932, 'david': 933, 'forever': 934, 'windows': 935, 'wine': 936, 'aint': 937, 'church': 938, 'officially': 939, 'dm': 940, 'tom': 941, 'version': 942, 'body': 943, 'shop': 944, 'ooh': 945, 'fly': 946, 'quick': 947, 'brothers': 948, 'app': 949, 'sold': 950, 'single': 951, 'college': 952, 'sleepy': 953, 'pool': 954, 'ouch': 955, 'pick': 956, 'usually': 957, 'cos': 958, 'middle': 959, 'bbq': 960, 'chinese': 961, 'taken': 962, 'minute': 963, 'justin': 964, 'keeps': 965, 'ran': 966, 'boyfriend': 967, 'power': 968, 'proud': 969, 'tummy': 970, 'dvd': 971, 'blue': 972, 'clothes': 973, 'cup': 974, 'pass': 975, 'tuesday': 976, 'studying': 977, 'closed': 978, 'rainy': 979, 'deal': 980, 'walking': 981, 'exactly': 982, 'none': 983, 'thursday': 984, 'jus': 985, 'chillin': 986, 'pay': 987, 'hahah': 988, 'team': 989, 'appreciate': 990, 'alright': 991, 'front': 992, 'myspace': 993, 'support': 994, 'mobile': 995, 'scared': 996, 'f': 997, 'mail': 998, 'messages': 999, 'bro': 1000, 'revision': 1001, 'ima': 1002, 'airport': 1003, 'exciting': 1004, 'problems': 1005, 'spending': 1006, 'flight': 1007, 'sending': 1008, 'headed': 1009, 'gutted': 1010, 'pc': 1011, 'train': 1012, 'legs': 1013, 'matter': 1014, 'shall': 1015, 'huh': 1016, 'website': 1017, 'stopped': 1018, 'min': 1019, 'eh': 1020, 'sing': 1021, 'changed': 1022, 'hospital': 1023, 'bar': 1024, 'round': 1025, 'disappointed': 1026, 'fix': 1027, 'quiet': 1028, 'profile': 1029, 'yo': 1030, 'dunno': 1031, 'de': 1032, 'annoying': 1033, 'moved': 1034, 'enjoyed': 1035, 'decided': 1036, 'books': 1037, 'others': 1038, 'case': 1039, 'takes': 1040, 'share': 1041, 'somewhere': 1042, 'v': 1043, 'dress': 1044, 'cd': 1045, 'moon': 1046, '14': 1047, 'road': 1048, 'lets': 1049, 'alot': 1050, 'id': 1051, 'yup': 1052, 'voice': 1053, 'wednesday': 1054, 'killing': 1055, '50': 1056, 'feelin': 1057, 'web': 1058, 'screen': 1059, '40': 1060, 'gettin': 1061, 'john': 1062, 'videos': 1063, 'extra': 1064, 'fam': 1065, 'indeed': 1066, 'touch': 1067, 'giving': 1068, 'goodbye': 1069, 'sit': 1070, 'etc': 1071, 'dark': 1072, 'singing': 1073, 'self': 1074, 'fml': 1075, 'yr': 1076, 'waking': 1077, 'swine': 1078, 'french': 1079, 'july': 1080, 'wolverine': 1081, 'service': 1082, 'laugh': 1083, 'caught': 1084, 'paid': 1085, 'miley': 1086, 'ff': 1087, 'gorgeous': 1088, 'currently': 1089, 'beat': 1090, 'isnt': 1091, 'peace': 1092, 'fav': 1093, 'track': 1094, 'mate': 1095, 'calling': 1096, 'machine': 1097, 'miles': 1098, 'bummer': 1099, 'followfriday': 1100, 'young': 1101, 'packing': 1102, 'cousin': 1103, 'hannah': 1104, 'failed': 1105, 'ended': 1106, 'milk': 1107, 'hrs': 1108, 'heat': 1109, 'burnt': 1110, 'mention': 1111, 'shot': 1112, 'non': 1113, 'expensive': 1114, 'bummed': 1115, 'math': 1116, 'awful': 1117, 'present': 1118, 'eye': 1119, 'shes': 1120, 'box': 1121, 'cancelled': 1122, 'cried': 1123, 'copy': 1124, 'wearing': 1125, 'low': 1126, 'mums': 1127, 'fever': 1128, 'ball': 1129, 'history': 1130, 'net': 1131, 'chicago': 1132, 'usual': 1133, 'question': 1134, 'freakin': 1135, 'yall': 1136, 'itunes': 1137, 'classes': 1138, 'nights': 1139, 'scary': 1140, 'download': 1141, 'future': 1142, 'peeps': 1143, 'gosh': 1144, 'sis': 1145, 'random': 1146, 'nyc': 1147, 'mmm': 1148, 'jay': 1149, 'tonite': 1150, 'darn': 1151, 'freaking': 1152, 'group': 1153, 'suppose': 1154, 'loads': 1155, 'double': 1156, 'serious': 1157, 'bitch': 1158, 'xoxo': 1159, 'public': 1160, 'planning': 1161, 'starbucks': 1162, 'between': 1163, 'www': 1164, 'pink': 1165, 'cats': 1166, '24': 1167, 'door': 1168, 'code': 1169, 'exhausted': 1170, 'congratulations': 1171, 'experience': 1172, 'fixed': 1173, 'coz': 1174, 'j': 1175, 'ny': 1176, 'order': 1177, 'window': 1178, '25': 1179, 'afraid': 1180, 'hilarious': 1181, 'lately': 1182, 'checked': 1183, 'fresh': 1184, 'talent': 1185, 'wit': 1186, 'likes': 1187, 'note': 1188, 'brain': 1189, 'race': 1190, 'thoughts': 1191, 'joy': 1192, 'daddy': 1193, 'anyways': 1194, 'twilight': 1195, 'taylor': 1196, 'ï¿½': 1197, 'art': 1198, 'shut': 1199, 'nobody': 1200, 'load': 1201, 'doctor': 1202, 'sooooo': 1203, 'wat': 1204, 'dogs': 1205, 'bag': 1206, 'gig': 1207, 'design': 1208, 'ticket': 1209, 'blah': 1210, 'trouble': 1211, 'flowers': 1212, 'woman': 1213, 'however': 1214, 'normal': 1215, 'games': 1216, 'lose': 1217, 'awwww': 1218, 'shift': 1219, 'germany': 1220, 'ps': 1221, 'vacation': 1222, 'kidding': 1223, 'fight': 1224, 'bloody': 1225, 'interview': 1226, 'five': 1227, 'upload': 1228, 'follower': 1229, 'cook': 1230, 'vid': 1231, 'mins': 1232, 'followed': 1233, 'imagine': 1234, 'rip': 1235, 'joe': 1236, 'delicious': 1237, 'rocks': 1238, 'dying': 1239, 'light': 1240, 'possible': 1241, 'across': 1242, 'puppy': 1243, 'foot': 1244, 'space': 1245, 'everyday': 1246, 'hold': 1247, 'lie': 1248, 'pray': 1249, 'jon': 1250, 'favourite': 1251, 'blood': 1252, 'count': 1253, 'def': 1254, 'showing': 1255, 'ladies': 1256, 'blackberry': 1257, 'turned': 1258, '3d': 1259, 'death': 1260, 'thru': 1261, 'entire': 1262, 'prob': 1263, 'cheers': 1264, 'jack': 1265, 'killed': 1266, 'knows': 1267, 'momma': 1268, 'street': 1269, 'learning': 1270, 'kno': 1271, 'access': 1272, 'lay': 1273, 'iï¿½m': 1274, 'session': 1275, 'sale': 1276, 'worried': 1277, 'neck': 1278, 'calls': 1279, 'often': 1280, 'msn': 1281, 'frenchieb': 1282, 'area': 1283, 'buying': 1284, 'straight': 1285, 'chris': 1286, 'record': 1287, 'brought': 1288, 'grandma': 1289, 'sam': 1290, 'losing': 1291, 'surgery': 1292, '18': 1293, 'kick': 1294, 'dancing': 1295, 'become': 1296, 'keeping': 1297, 'terrible': 1298, 'mouth': 1299, 'hes': 1300, 'nick': 1301, 'social': 1302, 'twittering': 1303, 'shoot': 1304, 'confused': 1305, 'women': 1306, 'b4': 1307, 'travel': 1308, 'outta': 1309, 'somebody': 1310, 'info': 1311, 'disney': 1312, 'empty': 1313, 'block': 1314, 'earth': 1315, 'lessons': 1316, 'um': 1317, 'tweetdeck': 1318, 'important': 1319, 'passed': 1320, 'anybody': 1321, 'available': 1322, 'children': 1323, 'law': 1324, 'background': 1325, 'practice': 1326, 'breaking': 1327, 'gay': 1328, '16': 1329, 'ages': 1330, 'bottle': 1331, 'mcfly': 1332, 'putting': 1333, 'falling': 1334, 'couldnt': 1335, 'teacher': 1336, 'six': 1337, 'asked': 1338, 'everywhere': 1339, 'thanx': 1340, 'sharing': 1341, 'allowed': 1342, 'anytime': 1343, 'return': 1344, 'event': 1345, 'telling': 1346, 'epic': 1347, 'bird': 1348, 'oops': 1349, 'soup': 1350, 'excellent': 1351, 'finger': 1352, 'row': 1353, 'hands': 1354, 'helping': 1355, 'doin': 1356, 'mess': 1357, 'interested': 1358, 'wash': 1359, 'four': 1360, 'pack': 1361, 'invite': 1362, 'depressed': 1363, 'nearly': 1364, 'latest': 1365, 'private': 1366, 'canada': 1367, 'usa': 1368, 'fat': 1369, 'asking': 1370, '13': 1371, 'places': 1372, 'country': 1373, 'leg': 1374, 'nah': 1375, 'bc': 1376, 'cover': 1377, 'notice': 1378, 'spring': 1379, '17': 1380, 'sense': 1381, 'stand': 1382, 'sky': 1383, 'weren': 1384, 'silly': 1385, 'husband': 1386, 'lake': 1387, 'jk': 1388, 'pre': 1389, 'fab': 1390, 'dropped': 1391, 'teeth': 1392, 'sweetie': 1393, 'timberlake': 1394, 'tha': 1395, 'misses': 1396, 'afford': 1397, 'ben': 1398, 'san': 1399, 'south': 1400, 'chill': 1401, 'energy': 1402, 'shouldn': 1403, 'macbook': 1404, 'surprise': 1405, 'series': 1406, 'perhaps': 1407, 'dentist': 1408, 'hahahaha': 1409, '45': 1410, 'lived': 1411, 'turns': 1412, 'tweeps': 1413, 'training': 1414, 'ugly': 1415, 'apartment': 1416, 'hero': 1417, 'na': 1418, 'mall': 1419, 'hoo': 1420, 'dnt': 1421, '3rd': 1422, 'catching': 1423, 'twice': 1424, 'unless': 1425, 'theres': 1426, 'australia': 1427, 'received': 1428, 'onto': 1429, '00': 1430, 'honey': 1431, 'hotel': 1432, 'review': 1433, 'dave': 1434, 'pissed': 1435, 'ahead': 1436, 'studio': 1437, 'jobs': 1438, 'greg': 1439, 'picked': 1440, 'sort': 1441, 'knee': 1442, 'throw': 1443, 'library': 1444, 'fire': 1445, 'coast': 1446, 'pull': 1447, 'cookies': 1448, 'stress': 1449, 'kiss': 1450, 'demi': 1451, 'joke': 1452, 'dammit': 1453, 'mini': 1454, 'dr': 1455, 'step': 1456, 'sushi': 1457, 'arrived': 1458, 'blocked': 1459, 'nd': 1460, 'noticed': 1461, 'cooking': 1462, 'ily': 1463, 'crossed': 1464, 'state': 1465, 'barely': 1466, 'cell': 1467, 'smell': 1468, 'leno': 1469, 'bf': 1470, 'fit': 1471, 'woot': 1472, 'uh': 1473, 'laying': 1474, 'drag': 1475, 'truly': 1476, 'system': 1477, '2nite': 1478, 'uploaded': 1479, 'shining': 1480, 'storm': 1481, 'heh': 1482, 'dry': 1483, 'ordered': 1484, 'taste': 1485, 'hangover': 1486, 'mix': 1487, 'cheer': 1488, 'crash': 1489, 'finals': 1490, 'depressing': 1491, 'philippines': 1492, 'article': 1493, 'spot': 1494, 'twit': 1495, 'pants': 1496, 'fave': 1497, 'wasnt': 1498, 'ear': 1499, 'waste': 1500, 'wee': 1501, 'grey': 1502, 'ohhh': 1503, 'productive': 1504, 'nowhere': 1505, 'issues': 1506, 'sydney': 1507, 'kate': 1508, 'land': 1509, 'gotten': 1510, 'simple': 1511, 'learned': 1512, 'pm': 1513, 'wet': 1514, 'mommies': 1515, 'ms': 1516, 'messed': 1517, 'boss': 1518, 'memories': 1519, 'desk': 1520, 'ain': 1521, 'fabulous': 1522, 'argh': 1523, 'ache': 1524, 'floor': 1525, 'piece': 1526, 'hasn': 1527, 'joined': 1528, 'third': 1529, 'daily': 1530, 'view': 1531, 'nasty': 1532, 'major': 1533, 'deep': 1534, 'swear': 1535, 'sell': 1536, 'type': 1537, 'tix': 1538, 'style': 1539, 'emails': 1540, 'sunburn': 1541, 'bb': 1542, 'marathon': 1543, 'alarm': 1544, 'age': 1545, 'lesson': 1546, 'america': 1547, 'somehow': 1548, 'loss': 1549, 'holy': 1550, 'ring': 1551, 'american': 1552, 'planned': 1553, 'sugar': 1554, 'quiz': 1555, 'smh': 1556, 'atm': 1557, 'blast': 1558, 'sux': 1559, 'holidays': 1560, 'california': 1561, 'mondays': 1562, 'happening': 1563, 'fighting': 1564, 'pleasure': 1565, 'local': 1566, 'ups': 1567, 'married': 1568, 'cards': 1569, 'twitpic': 1570, 'figured': 1571, 'accident': 1572, 'magic': 1573, 'holly': 1574, 'crappy': 1575, 'finding': 1576, 'blessed': 1577, 'bee': 1578, 'craving': 1579, 'buddy': 1580, 'workin': 1581, 'finishing': 1582, 'added': 1583, 'lives': 1584, 'hav': 1585, 'strong': 1586, 'loud': 1587, 'healthy': 1588, 'drop': 1589, 'abt': 1590, 'strange': 1591, 'wanting': 1592, '80': 1593, 'apart': 1594, 'managed': 1595, 'fancy': 1596, 'fourth': 1597, 'credit': 1598, 'adorable': 1599, 'stick': 1600, 'nose': 1601, 'schedule': 1602, 'button': 1603, 'bath': 1604, 'h': 1605, 'talkin': 1606, 'battery': 1607, 'awe': 1608, 'uploading': 1609, 'laundry': 1610, 'direct': 1611, 'fish': 1612, '22': 1613, 'fault': 1614, 'speak': 1615, 'mo': 1616, 'impressed': 1617, 'wide': 1618, 'lookin': 1619, 'cheap': 1620, 'act': 1621, 'stressed': 1622, 'chick': 1623, 'gross': 1624, 'roll': 1625, 'folks': 1626, 'properly': 1627, 'cloudy': 1628, 'er': 1629, 'kitchen': 1630, 'fuckin': 1631, 'cost': 1632, 'youre': 1633, 'uncle': 1634, 'given': 1635, 'gear': 1636, 'uni': 1637, 'shots': 1638, 'evil': 1639, 'tough': 1640, 'table': 1641, 'grand': 1642, '2009': 1643, 'doubt': 1644, 'quit': 1645, 'deserve': 1646, 'mark': 1647, 'mornin': 1648, 'jump': 1649, 'plane': 1650, 'promise': 1651, 'badly': 1652, 'booked': 1653, 'cars': 1654, 'downloaded': 1655, 'easier': 1656, 'doc': 1657, 'apps': 1658, 'relax': 1659, 'island': 1660, 'paying': 1661, '200': 1662, 'pop': 1663, 'sex': 1664, 'ryan': 1665, 'fully': 1666, 'arm': 1667, 'toast': 1668, 'laughing': 1669, 'wrote': 1670, 'xo': 1671, 'tip': 1672, 'spam': 1673, 'closing': 1674, 'essay': 1675, 'celebrating': 1676, 'plz': 1677, 'channel': 1678, 'realize': 1679, 'england': 1680, 'within': 1681, 'pub': 1682, 'pls': 1683, 'jam': 1684, 'ahhhh': 1685, 'slowly': 1686, 'aha': 1687, 'flat': 1688, 'decide': 1689, 'swimming': 1690, 'midnight': 1691, 'episodes': 1692, 'woohoo': 1693, 'gah': 1694, 'sucked': 1695, 'north': 1696, 'release': 1697, 'keys': 1698, 'reminds': 1699, 'toe': 1700, 'nervous': 1701, '000': 1702, 'bug': 1703, 'complete': 1704, 'mon': 1705, 'montana': 1706, 'august': 1707, 'watchin': 1708, 'painting': 1709, 'contact': 1710, 'hurting': 1711, 'program': 1712, 'comp': 1713, 'tgif': 1714, 'match': 1715, 'difficult': 1716, 'expected': 1717, 'gas': 1718, 'choice': 1719, 'rice': 1720, 'neither': 1721, 'action': 1722, 'bill': 1723, 'gloomy': 1724, 'price': 1725, 'ton': 1726, 'performance': 1727, 'skin': 1728, 'report': 1729, 'alcohol': 1730, 'wii': 1731, 'ten': 1732, 'clock': 1733, 'arms': 1734, 'topic': 1735, '21': 1736, 'theatre': 1737, 'awards': 1738, 'helps': 1739, 'mummy': 1740, 'mostly': 1741, 'washing': 1742, 'rofl': 1743, 'juice': 1744, 'celebrate': 1745, 'bread': 1746, 'bills': 1747, 'grrr': 1748, 'ruined': 1749, 'official': 1750, 'born': 1751, 'drama': 1752, 'hat': 1753, 'realised': 1754, 'twitters': 1755, 'dumb': 1756, 'goodness': 1757, 'anywhere': 1758, 'ideas': 1759, 'grade': 1760, 'egg': 1761, 'drinks': 1762, 'oooh': 1763, 'bright': 1764, 'updating': 1765, 'tear': 1766, 'diet': 1767, 'desktop': 1768, 'plenty': 1769, 'trailer': 1770, 'umm': 1771, 'success': 1772, 'clear': 1773, 'ace': 1774, 'tree': 1775, 'hd': 1776, 'details': 1777, 'sum': 1778, 'alive': 1779, 'offer': 1780, 'booo': 1781, 'gives': 1782, 'updated': 1783, 'questions': 1784, 'presentation': 1785, 'request': 1786, 'st': 1787, 'everytime': 1788, 'ta': 1789, 'talked': 1790, 'havin': 1791, 'addicted': 1792, 'painful': 1793, 'bacon': 1794, 'slightly': 1795, 'closer': 1796, 'tan': 1797, 'dressed': 1798, 'kitty': 1799, 'hella': 1800, 'child': 1801, 'heyy': 1802, 'q': 1803, 'editing': 1804, 'possibly': 1805, 'yeh': 1806, 'obviously': 1807, 'mrs': 1808, 'remembered': 1809, 'bear': 1810, 'based': 1811, 'praying': 1812, 'tweeted': 1813, 'level': 1814, 'blame': 1815, 'angry': 1816, 'secret': 1817, 'downtown': 1818, '09': 1819, 'xbox': 1820, 'cali': 1821, 'co': 1822, 'situation': 1823, 'wind': 1824, 'babies': 1825, 'sir': 1826, 'otherwise': 1827, 'butt': 1828, 'texas': 1829, 'deck': 1830, '33': 1831, 'tiny': 1832, 'choose': 1833, 'swim': 1834, 'feed': 1835, 'posting': 1836, 'key': 1837, 'pages': 1838, 'server': 1839, 'dj': 1840, 'nails': 1841, 'toy': 1842, 'besides': 1843, 'rite': 1844, 'lakers': 1845, 'quote': 1846, 'awhile': 1847, 'stayed': 1848, 'grr': 1849, 'jb': 1850, 'trust': 1851, 'shout': 1852, 'certain': 1853, 'nooo': 1854, 'conversation': 1855, 'seconds': 1856, 'cough': 1857, 'fridays': 1858, 'attention': 1859, 'heaven': 1860, 'according': 1861, 'starving': 1862, 'cafe': 1863, 'several': 1864, 'ng': 1865, 'excuse': 1866, 'checking': 1867, 'packed': 1868, 'wall': 1869, 'insane': 1870, 'europe': 1871, 'james': 1872, 'sa': 1873, 'deleted': 1874, 'student': 1875, 'visiting': 1876, 'hah': 1877, 'prefer': 1878, 'station': 1879, 'bay': 1880, 'positive': 1881, 'dc': 1882, 'sometime': 1883, 'bunch': 1884, 'treat': 1885, 'east': 1886, 'dat': 1887, 'migraine': 1888, 'th': 1889, 'supernatural': 1890, 'yrs': 1891, 'continue': 1892, 'meal': 1893, 'kisses': 1894, 'ac': 1895, 'tears': 1896, 'revise': 1897, 'kept': 1898, 'britains': 1899, 'mile': 1900, 'shake': 1901, 'building': 1902, 'cancer': 1903, 'click': 1904, 'form': 1905, '90': 1906, 'fake': 1907, 'annoyed': 1908, 'gunna': 1909, 'results': 1910, 'teach': 1911, 'adding': 1912, 'burned': 1913, 'babysitting': 1914, 'crush': 1915, 'con': 1916, 'father': 1917, 'sims': 1918, 'tongue': 1919, 'ty': 1920, 'points': 1921, 'changing': 1922, 'imma': 1923, 'delayed': 1924, 'hurry': 1925, 'matt': 1926, 'mtv': 1927, 'ears': 1928, 'lights': 1929, 'hill': 1930, 'conference': 1931, 'speaking': 1932, 'butter': 1933, 'workout': 1934, 'football': 1935, 'van': 1936, 'issue': 1937, 'tooth': 1938, 'personal': 1939, 'states': 1940, 'mode': 1941, 'truck': 1942, 'amazon': 1943, 'bottom': 1944, 'research': 1945, 'against': 1946, 'spanish': 1947, 'chatting': 1948, 'board': 1949, 'search': 1950, 'glass': 1951, 'worries': 1952, 'idiot': 1953, 'ashley': 1954, 'tons': 1955, 'weekends': 1956, 'sarah': 1957, 'theme': 1958, 'west': 1959, 'keyboard': 1960, 'cleaned': 1961, 'hugh': 1962, 'msg': 1963, 'mike': 1964, 'bathroom': 1965, 'surprised': 1966, 'ew': 1967, 'allergies': 1968, 'original': 1969, 'brand': 1970, 'driver': 1971, 'paint': 1972, 'seattle': 1973, 'including': 1974, 'nom': 1975, 'noooo': 1976, 'lack': 1977, 'knowing': 1978, 'winter': 1979, 'couch': 1980, 'color': 1981, 'advice': 1982, 'glasses': 1983, 'becoming': 1984, 'status': 1985, 'happiness': 1986, 'burn': 1987, 'massive': 1988, 'fellow': 1989, 'sea': 1990, 'lord': 1991, 'truth': 1992, 'extremely': 1993, 'comin': 1994, 'posts': 1995, 'besties': 1996, 'links': 1997, 'asap': 1998, '19': 1999, 'files': 2000, 'rob': 2001, 'wild': 2002, 'hows': 2003, 'rude': 2004, 'chilling': 2005, 'brilliant': 2006, 'reality': 2007, 'biggest': 2008, 'honestly': 2009, 'limit': 2010, 'atl': 2011, 'pulled': 2012, 'comments': 2013, 'cousins': 2014, 'christian': 2015, 'mi': 2016, 'respond': 2017, 'basically': 2018, 'listened': 2019, '2moro': 2020, 'florida': 2021, 'stars': 2022, 'ending': 2023, 'cable': 2024, 'host': 2025, 'teaching': 2026, 'wisdom': 2027, 'thunder': 2028, 'tis': 2029, 'boston': 2030, 'noo': 2031, 'bound': 2032, 'literally': 2033, 'tips': 2034, 'sandwich': 2035, 'client': 2036, 'notes': 2037, 'odd': 2038, 'handle': 2039, 'hollyoaks': 2040, 'tweeters': 2041, 'thankful': 2042, 'downloading': 2043, 'health': 2044, 'hee': 2045, 'large': 2046, 'suggestions': 2047, 'screwed': 2048, 'itï¿½s': 2049, 'drove': 2050, 'rocked': 2051, 'usb': 2052, 'expect': 2053, 'degrees': 2054, 'oven': 2055, 'ex': 2056, 'flash': 2057, 'signed': 2058, 'weight': 2059, 'hopes': 2060, 'mmmm': 2061, 'york': 2062, 'recovering': 2063, 'voted': 2064, 'steve': 2065, 'famous': 2066, 'unfair': 2067, 'camp': 2068, 'mary': 2069, 'il': 2070, 'soul': 2071, 'seat': 2072, 'voting': 2073, 'partying': 2074, 'senior': 2075, 'player': 2076, 'grab': 2077, 'kicked': 2078, 'friendly': 2079, 'hm': 2080, 'recently': 2081, 'center': 2082, 'recommend': 2083, 'cavs': 2084, 'parts': 2085, 'philly': 2086, 'hearing': 2087, 'bein': 2088, 'bff': 2089, 'ow': 2090, 'response': 2091, 'media': 2092, 'attempt': 2093, 'pair': 2094, 'vs': 2095, 'beyond': 2096, 'heck': 2097, 'andy': 2098, 'mid': 2099, 'doctors': 2100, 'hangin': 2101, 'network': 2102, 'subway': 2103, 'letting': 2104, 'ways': 2105, 'address': 2106, 'hadn': 2107, 'ocean': 2108, 'jason': 2109, 'goodmorning': 2110, 'screw': 2111, 'difference': 2112, 'classic': 2113, 'blip': 2114, 'pro': 2115, 'sudden': 2116, 'miserable': 2117, 'picking': 2118, 'liking': 2119, 'turning': 2120, 'bones': 2121, 'error': 2122, 'yah': 2123, 'trending': 2124, 'flying': 2125, 'hr': 2126, 'haircut': 2127, 'rule': 2128, 'certainly': 2129, 'fashion': 2130, 'replied': 2131, 'makin': 2132, 'xxxx': 2133, 'hehehe': 2134, 'texting': 2135, 'stage': 2136, 'ad': 2137, 'setting': 2138, 'baseball': 2139, 'wave': 2140, 'woop': 2141, 'gossip': 2142, 'headaches': 2143, 'nooooo': 2144, 'mistake': 2145, 'michael': 2146, 'ed': 2147, 'selling': 2148, '9am': 2149, 'atleast': 2150, 'speech': 2151, 'total': 2152, 'forgive': 2153, 'salad': 2154, 'regular': 2155, 'cookie': 2156, 'rid': 2157, 'tweetie': 2158, 'grow': 2159, 'proper': 2160, 'ii': 2161, 'laughed': 2162, 'stories': 2163, 'el': 2164, 'massage': 2165, 'ahaha': 2166, 'parking': 2167, 'bothered': 2168, 'appointment': 2169, 'hills': 2170, 'awsome': 2171, 'miami': 2172, 'saving': 2173, 'alex': 2174, 'growing': 2175, 'revising': 2176, 'grad': 2177, 'france': 2178, 'journey': 2179, 'square': 2180, 'soooooo': 2181, 'ummm': 2182, 'ghost': 2183, 'hole': 2184, 'ang': 2185, 'reach': 2186, 'pet': 2187, 'aka': 2188, 'aswell': 2189, 'standing': 2190, 'despite': 2191, 'exist': 2192, 'acting': 2193, 'invited': 2194, 'greatest': 2195, 'wasted': 2196, 'bio': 2197, 'breathe': 2198, 'freezing': 2199, 'actual': 2200, 'launch': 2201, 'opening': 2202, 'score': 2203, '140': 2204, 'competition': 2205, 'chapter': 2206, 'quality': 2207, 'gray': 2208, 'rains': 2209, 'ooo': 2210, 'golf': 2211, 'ruby': 2212, 'wk': 2213, 'ca': 2214, 'lab': 2215, 'above': 2216, 'hulu': 2217, 'balls': 2218, 'science': 2219, 'horror': 2220, 'hardly': 2221, 'twitterland': 2222, 'shooting': 2223, 'term': 2224, 'partner': 2225, 'fucked': 2226, '60': 2227, 'scene': 2228, 'cakes': 2229, 'clue': 2230, '500': 2231, 'christmas': 2232, 'purple': 2233, 'prayers': 2234, 'cross': 2235, 'phones': 2236, 'meh': 2237, 'walmart': 2238, 'clouds': 2239, 'drugs': 2240, 'laws': 2241, 'avatar': 2242, 'steak': 2243, 'hollie': 2244, 'ignore': 2245, 'typical': 2246, 'paris': 2247, 'nerd': 2248, 'respect': 2249, 'counting': 2250, 'helped': 2251, 'bk': 2252, 'gud': 2253, 'ko': 2254, 'tooo': 2255, 'waitin': 2256, 'bunny': 2257, 'laid': 2258, 'frustrated': 2259, 'searching': 2260, 'roast': 2261, 'rachel': 2262, 'tattoo': 2263, 'josh': 2264, 'eggs': 2265, 'al': 2266, 'sittin': 2267, 'mexican': 2268, 'replies': 2269, 'jimmy': 2270, 'horse': 2271, 'schools': 2272, 'attack': 2273, 'stack': 2274, 'contest': 2275, 'cnt': 2276, 'giant': 2277, 'dads': 2278, 'cash': 2279, 'chest': 2280, 'ish': 2281, 'mcdonalds': 2282, 'cyrus': 2283, 'rained': 2284, 'spell': 2285, 'esp': 2286, 'connection': 2287, 'shiny': 2288, 'covered': 2289, 'incredible': 2290, 'firefox': 2291, 'yer': 2292, 'saved': 2293, 'character': 2294, 'brings': 2295, 'photoshop': 2296, 'rubbish': 2297, 'outfit': 2298, 'soccer': 2299, 'zoo': 2300, 'cuddle': 2301, 'spoke': 2302, 'picnic': 2303, 'older': 2304, 'nuts': 2305, '6th': 2306, 'signing': 2307, '30pm': 2308, 'charger': 2309, 'jesus': 2310, 'urgh': 2311, 'alas': 2312, 'theory': 2313, 'bah': 2314, 'thankyou': 2315, 'unlimited': 2316, 'november': 2317, 'known': 2318, 'twpp': 2319, 'cutting': 2320, 'whew': 2321, 'knight': 2322, 'bugs': 2323, 'china': 2324, 'ftw': 2325, 'boat': 2326, 'bedtime': 2327, 'role': 2328, 'chips': 2329, 'depends': 2330, 'en': 2331, 'austin': 2332, 'popular': 2333, 'force': 2334, 'txt': 2335, 'bigger': 2336, 'degree': 2337, '35': 2338, 'stream': 2339, 'talented': 2340, 'someday': 2341, 'shitty': 2342, 'stock': 2343, 'million': 2344, 'trips': 2345, 'mission': 2346, 'events': 2347, 'walked': 2348, 'bang': 2349, 'successful': 2350, 'quickly': 2351, 'sadness': 2352, 'size': 2353, 'runs': 2354, 'sites': 2355, 'brazil': 2356, 'field': 2357, 'surprisingly': 2358, 'assignment': 2359, 'blow': 2360, 'rub': 2361, 'thnx': 2362, 'spider': 2363, 'fill': 2364, 'impossible': 2365, 'te': 2366, 'incredibly': 2367, 'lap': 2368, 'collection': 2369, 'fridge': 2370, 'yayy': 2371, 'police': 2372, 'que': 2373, 'orange': 2374, 'auto': 2375, 'cinema': 2376, 'smoking': 2377, 'vet': 2378, 'tht': 2379, 'sunburnt': 2380, 'sf': 2381, 'sisters': 2382, 'smart': 2383, 'shoutout': 2384, 'peanut': 2385, 'skills': 2386, 'canceled': 2387, 'boot': 2388, 'girlfriend': 2389, 'dishes': 2390, 'period': 2391, '26': 2392, 'cancel': 2393, 'anniversary': 2394, 'graduate': 2395, 'king': 2396, 'drawing': 2397, 'glorious': 2398, 'central': 2399, 'camping': 2400, 'sry': 2401, 'smoke': 2402, 'aim': 2403, 'useful': 2404, 'released': 2405, 'ch': 2406, 'mexico': 2407, 'musical': 2408, 'panic': 2409, 'cupcakes': 2410, 'constantly': 2411, 'pa': 2412, 'himself': 2413, 'pancakes': 2414, 'wifi': 2415, 'sports': 2416, 'golden': 2417, 'avoid': 2418, 'smiling': 2419, 'crashed': 2420, 'honest': 2421, 'grandparents': 2422, 'edit': 2423, 'dirty': 2424, 'curious': 2425, 'grown': 2426, 'geek': 2427, 'cries': 2428, 'houston': 2429, 'content': 2430, 'install': 2431, 'nkotb': 2432, 'gr8': 2433, 'ringtones': 2434, 'semester': 2435, 'wed': 2436, 'goal': 2437, 'economy': 2438, 'tight': 2439, '4am': 2440, 'wouldnt': 2441, 'sec': 2442, 'bum': 2443, 'vista': 2444, 'staff': 2445, 'arrive': 2446, 'dan': 2447, 'skype': 2448, 'market': 2449, 'wicked': 2450, 'tune': 2451, 'whore': 2452, 'female': 2453, 'tmrw': 2454, 'bubble': 2455, 'option': 2456, 'lawn': 2457, 'ps3': 2458, 'whenever': 2459, 'festival': 2460, 'sober': 2461, 'loose': 2462, 'yard': 2463, 'theater': 2464, 'crack': 2465, 'aunt': 2466, 'meds': 2467, 'infection': 2468, '30am': 2469, 'candy': 2470, 'remind': 2471, 'taco': 2472, 'comfy': 2473, 'bowling': 2474, 'fm': 2475, 'assignments': 2476, 'mouse': 2477, 'cast': 2478, 'kelly': 2479, 'army': 2480, 'grateful': 2481, '99': 2482, 'drank': 2483, 'mamas': 2484, 'swollen': 2485, 'beta': 2486, 'piss': 2487, 'memory': 2488, 'admit': 2489, 'charge': 2490, 'adam': 2491, 'fri': 2492, 'hitting': 2493, 'paul': 2494, 'yeahh': 2495, 'heavy': 2496, 'appt': 2497, 'whoa': 2498, 'press': 2499, 'grace': 2500, 'metal': 2501, 'hunting': 2502, 'thomas': 2503, 'duty': 2504, 'testing': 2505, 'feelings': 2506, 'grocery': 2507, 'normally': 2508, 'named': 2509, 'ho': 2510, 'grandpa': 2511, 'tax': 2512, 'sms': 2513, 'toys': 2514, 'challenge': 2515, 'stoked': 2516, '2morrow': 2517, 'agreed': 2518, 'push': 2519, 'nothin': 2520, 'rush': 2521, 'language': 2522, 'dallas': 2523, 'war': 2524, 'wings': 2525, 'fried': 2526, 'considering': 2527, 'singapore': 2528, '333': 2529, 'rich': 2530, 'rocking': 2531, 'younger': 2532, 'decision': 2533, 'eww': 2534, 'print': 2535, 'dun': 2536, 'burning': 2537, 'pressure': 2538, 'italian': 2539, 'laura': 2540, 'nephew': 2541, 'disappointing': 2542, 'wonders': 2543, 'banana': 2544, 'strawberries': 2545, 'minus': 2546, 'ap': 2547, 'geez': 2548, 'heads': 2549, 'topics': 2550, 'birds': 2551, 'glasgow': 2552, 'maths': 2553, 'neighbors': 2554, 'whether': 2555, 'un': 2556, 'ughhh': 2557, 'idol': 2558, 'lovin': 2559, 'tony': 2560, 'focus': 2561, 'wats': 2562, 'danny': 2563, 'appear': 2564, 'filling': 2565, 'core': 2566, 'recording': 2567, 'socks': 2568, 'creepy': 2569, 'forum': 2570, 'george': 2571, 'surely': 2572, 'errands': 2573, 'owe': 2574, 'tag': 2575, 'model': 2576, 'eric': 2577, '5th': 2578, 'creative': 2579, 'names': 2580, 'nt': 2581, 'faster': 2582, 'ellen': 2583, 'ankle': 2584, 'nighty': 2585, 'uses': 2586, 'bt': 2587, 'vancouver': 2588, 'spelling': 2589, 'lmfao': 2590, 'roommate': 2591, 'tells': 2592, 'wen': 2593, 'reunion': 2594, 'bowl': 2595, 'princess': 2596, 'fear': 2597, 'animals': 2598, 'bella': 2599, 'ohhhh': 2600, 'title': 2601, 'photography': 2602, 'breath': 2603, 'pieces': 2604, 'per': 2605, 'grass': 2606, 'rough': 2607, 'hiding': 2608, 'garage': 2609, 'yahoo': 2610, 'master': 2611, 'hon': 2612, 'scare': 2613, 'starwarsday': 2614, 'timing': 2615, 'riding': 2616, 'holding': 2617, 'ahhhhh': 2618, 'dick': 2619, 'tech': 2620, 'url': 2621, 'woken': 2622, 'wknd': 2623, 'german': 2624, 'obama': 2625, 'definately': 2626, 'salt': 2627, 'fyi': 2628, 'amy': 2629, 'enter': 2630, 'technology': 2631, 'magazine': 2632, 'lo': 2633, 'paranoid': 2634, 'moments': 2635, 'faces': 2636, 'plant': 2637, 'digital': 2638, 'dates': 2639, 'noon': 2640, 'poo': 2641, 'nicely': 2642, 'numbers': 2643, 'phew': 2644, 'valley': 2645, 'pity': 2646, 'main': 2647, 'steel': 2648, 'fries': 2649, 'gots': 2650, 'gifts': 2651, 'tweeple': 2652, 'leavin': 2653, 'blocks': 2654, 'entry': 2655, 'lines': 2656, 'lolz': 2657, 'delivery': 2658, 'meaning': 2659, 'passes': 2660, 'sundays': 2661, 'gf': 2662, 'bringing': 2663, 'loser': 2664, 'chuck': 2665, 'funeral': 2666, 'weak': 2667, 'baked': 2668, 'retweet': 2669, 'locked': 2670, 'sara': 2671, 'upon': 2672, 'guessing': 2673, 'todays': 2674, 'installed': 2675, 'angels': 2676, 'include': 2677, 'britain': 2678, 'mentioned': 2679, 'restaurant': 2680, 'animal': 2681, 'unhappy': 2682, 'bags': 2683, 'created': 2684, 'blew': 2685, 'lying': 2686, 'hated': 2687, 'limited': 2688, 'jess': 2689, '300': 2690, 'twitterverse': 2691, 'yellow': 2692, 'oil': 2693, 'involved': 2694, 'dye': 2695, 'motivation': 2696, 'ughh': 2697, 'diego': 2698, 'control': 2699, 'lead': 2700, 'sales': 2701, 'thingy': 2702, 'delete': 2703, 'likely': 2704, 'hiya': 2705, 'hide': 2706, 'gold': 2707, 'manchester': 2708, 'threw': 2709, 'appreciated': 2710, 'scratch': 2711, 'guilty': 2712, 'shops': 2713, 'brian': 2714, 'dis': 2715, 'explain': 2716, 'portfolio': 2717, 'keen': 2718, 'killer': 2719, 'begin': 2720, 'bell': 2721, 'tastes': 2722, 'trains': 2723, 'october': 2724, 'pleased': 2725, 'noes': 2726, 'e3': 2727, 'human': 2728, 'viewing': 2729, 'marriage': 2730, 'karma': 2731, 'lang': 2732, 'ebay': 2733, 'winning': 2734, 'bother': 2735, 'process': 2736, 'wore': 2737, 'hating': 2738, 'connect': 2739, 'ing': 2740, 'active': 2741, 'comedy': 2742, 'films': 2743, 'pix': 2744, 'beans': 2745, 'trees': 2746, 'knowledge': 2747, 'insurance': 2748, 'held': 2749, 'carry': 2750, 'package': 2751, 'dam': 2752, 'yu': 2753, 'beauty': 2754, 'podcast': 2755, 'dreading': 2756, 'cramps': 2757, 'denver': 2758, 'budget': 2759, 'seats': 2760, 'charged': 2761, 'dudes': 2762, 'bud': 2763, 'wassup': 2764, 'december': 2765, 'fed': 2766, '8th': 2767, 'dreaming': 2768, 'suit': 2769, 'canucks': 2770, 'smells': 2771, 'awwwww': 2772, 'haters': 2773, 'pj': 2774, 'river': 2775, 'katie': 2776, 'paramore': 2777, 'bands': 2778, 'previous': 2779, 'sweating': 2780, 'mm': 2781, 'computers': 2782, 'recognize': 2783, 'characters': 2784, 'luckily': 2785, 'regret': 2786, '5am': 2787, 'constant': 2788, 'society': 2789, 'gd': 2790, 'pillow': 2791, 'solo': 2792, 'emo': 2793, 'swift': 2794, 'filled': 2795, 'audio': 2796, 'darling': 2797, 'snap': 2798, 'killers': 2799, 'dh': 2800, 'cruise': 2801, 'typing': 2802, 'lip': 2803, 'village': 2804, 'gaga': 2805, 'wireless': 2806, 'quotes': 2807, 'iron': 2808, 'demo': 2809, 'ie': 2810, 'every1': 2811, 'adore': 2812, 'stole': 2813, 'chem': 2814, 'jonathan': 2815, 'helpful': 2816, 'image': 2817, 'plain': 2818, 'brown': 2819, 'scream': 2820, 'items': 2821, 'brooklyn': 2822, 'japanese': 2823, 'rate': 2824, 'ga': 2825, 'christ': 2826, 'sayin': 2827, 'leaves': 2828, 'beginning': 2829, 'lounge': 2830, 'members': 2831, 'mommys': 2832, 'dawn': 2833, 'touring': 2834, 'longest': 2835, 'frm': 2836, 'spread': 2837, 'plants': 2838, 'potential': 2839, 'z': 2840, 'reviews': 2841, 'roof': 2842, 'chemistry': 2843, 'pathetic': 2844, 'hay': 2845, 'national': 2846, 'pays': 2847, 'pie': 2848, 'blogging': 2849, 'forced': 2850, 'apt': 2851, 'ruin': 2852, 'meeee': 2853, 'realise': 2854, 'humor': 2855, 'inspiration': 2856, 'stops': 2857, 'exact': 2858, 'preview': 2859, 'joining': 2860, 'recipe': 2861, 'pure': 2862, 'marketing': 2863, 'attend': 2864, 'accidentally': 2865, 'wud': 2866, 'java': 2867, 'hw': 2868, 'jerk': 2869, 'daughters': 2870, 'showed': 2871, 'contacts': 2872, 'ep': 2873, 'ends': 2874, 'coach': 2875, 'hook': 2876, 'log': 2877, 'pig': 2878, 'rose': 2879, 'clip': 2880, 'delivered': 2881, 'useless': 2882, 'friggin': 2883, 'ground': 2884, 'user': 2885, 'lisa': 2886, 'recover': 2887, 'tim': 2888, 'expecting': 2889, 'andrew': 2890, 'stood': 2891, 'upgrade': 2892, 'became': 2893, 'failing': 2894, 'drivers': 2895, 'license': 2896, 'hahahahaha': 2897, 'soap': 2898, 'pills': 2899, 'singer': 2900, 'nature': 2901, 'dougie': 2902, 'heels': 2903, 'tanning': 2904, 'britney': 2905, 'harry': 2906, 'jeff': 2907, 'accounts': 2908, 'audition': 2909, 'ship': 2910, 'mask': 2911, 'charlie': 2912, 'pocket': 2913, 'probs': 2914, 'stuffed': 2915, 'spain': 2916, 'flick': 2917, 'fool': 2918, 'flew': 2919, 'mommas': 2920, 'students': 2921, 'screaming': 2922, 'bomb': 2923, 'burrito': 2924, 'mountain': 2925, 'dedicated': 2926, 'tomorow': 2927, 'grrrr': 2928, 'makeup': 2929, 'jenny': 2930, 'lower': 2931, 'tool': 2932, 'poop': 2933, 'filming': 2934, 'pounds': 2935, '7am': 2936, 'effort': 2937, 'begins': 2938, 'obsessed': 2939, 'tokyo': 2940, '8am': 2941, 'wise': 2942, 'hung': 2943, 'smiles': 2944, 'belly': 2945, 'afterwards': 2946, 'toronto': 2947, '2008': 2948, 'exercise': 2949, 'f1': 2950, '3am': 2951, 'bridge': 2952, 'itself': 2953, 'medicine': 2954, 'swing': 2955, 'hmph': 2956, 'queen': 2957, 'amount': 2958, 'cloud': 2959, 'build': 2960, 'microsoft': 2961, 'bars': 2962, 'kitten': 2963, 'oo': 2964, '27': 2965, 'missin': 2966, 'farm': 2967, 'community': 2968, 'cutest': 2969, 'pouring': 2970, 'harder': 2971, 'stores': 2972, 'max': 2973, 'tryin': 2974, 'settings': 2975, 'luggage': 2976, 'location': 2977, 'cares': 2978, 'tennis': 2979, 'suggest': 2980, 'snow': 2981, 'seniors': 2982, 'las': 2983, 'sooner': 2984, 'jr': 2985, 'printed': 2986, 'browser': 2987, 'gods': 2988, 'centre': 2989, 'data': 2990, 'jeans': 2991, 'accept': 2992, 'hmmmm': 2993, 'comfortable': 2994, 'twitting': 2995, 'suffering': 2996, 'hooked': 2997, 'bahaha': 2998, 'lauren': 2999, 'bears': 3000, 'dies': 3001, 'twins': 3002, 'omfg': 3003, 'effects': 3004, 'girlfriends': 3005, 'lemme': 3006, 'loop': 3007, 'babes': 3008, 'delay': 3009, 'shared': 3010, 'models': 3011, 'awh': 3012, 'promised': 3013, 'india': 3014, 'replace': 3015, 'mia': 3016, 'palm': 3017, 'stressful': 3018, 'mite': 3019, 'buddies': 3020, 'september': 3021, 'niece': 3022, 'international': 3023, 'united': 3024, 'pigs': 3025, 'punch': 3026, 'ds': 3027, 'backup': 3028, '2010': 3029, 'sway': 3030, 'completed': 3031, 'file': 3032, '31': 3033, 'jokes': 3034, 'waited': 3035, 'neighbor': 3036, 'windy': 3037, 'blows': 3038, 'wana': 3039, 'decent': 3040, 'eight': 3041, 'sized': 3042, '6am': 3043, 'thinkin': 3044, 'moi': 3045, 'jt': 3046, 'crawl': 3047, 'draw': 3048, 'korea': 3049, 'eclipse': 3050, 'spock': 3051, 'advance': 3052, 'freak': 3053, 'oz': 3054, 'settle': 3055, 'buzz': 3056, 'beats': 3057, 'aye': 3058, 'porn': 3059, 'boredom': 3060, 'crossing': 3061, 'nine': 3062, 'slice': 3063, 'perth': 3064, 'potter': 3065, 'foods': 3066, 'tease': 3067, 'chi': 3068, 'nursing': 3069, '4pm': 3070, 'rent': 3071, 'ol': 3072, 'bleh': 3073, 'homie': 3074, 'converse': 3075, 'tbh': 3076, 'goood': 3077, 'reception': 3078, 'thumb': 3079, 'fox': 3080, 'member': 3081, 'ginger': 3082, 'ooooh': 3083, 'opinion': 3084, 'faith': 3085, 'tools': 3086, 'dish': 3087, 'humid': 3088, 'overcast': 3089, '08': 3090, 'phil': 3091, 'survive': 3092, 'peoples': 3093, 'naked': 3094, 'tesco': 3095, 'italy': 3096, 'heroes': 3097, 'complicated': 3098, 'toooo': 3099, 'cam': 3100, 'parties': 3101, 'chilled': 3102, 'nail': 3103, 'bob': 3104, 'entertaining': 3105, 'sauce': 3106, 'brunch': 3107, 'dare': 3108, 'no1': 3109, 'ss': 3110, 'simply': 3111, 'changes': 3112, 'washed': 3113, 'cooked': 3114, 'ot': 3115, 'orlando': 3116, 'costume': 3117, 'anna': 3118, 'eu': 3119, 'dublin': 3120, 'toes': 3121, 'unfollow': 3122, 'ross': 3123, 'awesomeness': 3124, 'liverpool': 3125, 'diff': 3126, 'arrival': 3127, 'kills': 3128, 'traveling': 3129, 'chili': 3130, 'crew': 3131, 'virus': 3132, 'jake': 3133, 'shine': 3134, 'related': 3135, 'shortly': 3136, 'silence': 3137, 'texted': 3138, 'tend': 3139, 'marley': 3140, 'saddest': 3141, 'nicole': 3142, 'terminator': 3143, 'rarely': 3144, 'somewhat': 3145, 'connected': 3146, 'arent': 3147, 'pens': 3148, 'hockey': 3149, 'username': 3150, 'subject': 3151, 'script': 3152, 'climb': 3153, 'inspired': 3154, 'org': 3155, 'distracted': 3156, 'nor': 3157, '10th': 3158, 'tests': 3159, 'cereal': 3160, 'noodles': 3161, 'eaten': 3162, 'kicking': 3163, 'iced': 3164, 'finale': 3165, 'chances': 3166, 'resist': 3167, 'morn': 3168, 'cherry': 3169, 'hall': 3170, 'brb': 3171, 'tommorow': 3172, 'removed': 3173, 'sub': 3174, 'burger': 3175, 'comics': 3176, 'shirts': 3177, 'melbourne': 3178, 'soft': 3179, 'sinus': 3180, 'compared': 3181, 'ay': 3182, 'damnit': 3183, 'prison': 3184, 'hp': 3185, 'pork': 3186, '1000': 3187, 'kirk': 3188, 'recent': 3189, 'careful': 3190, 'cab': 3191, 'marks': 3192, 'empire': 3193, 'belong': 3194, '360': 3195, 'ali': 3196, '75': 3197, 'ray': 3198, 'projects': 3199, 'waves': 3200, 'g1': 3201, 'texts': 3202, 'roads': 3203, 'mothersday': 3204, 'replying': 3205, 'steal': 3206, 'whoever': 3207, 'twitterberry': 3208, 'application': 3209, 'donnie': 3210, 'coke': 3211, 'listenin': 3212, 'ikea': 3213, 'guilt': 3214, 'naw': 3215, 'cutie': 3216, 'americans': 3217, 'berry': 3218, 'wah': 3219, 'corner': 3220, 'eff': 3221, 'cure': 3222, 'frustrating': 3223, 'bite': 3224, 'sneezing': 3225, 'result': 3226, 'scrubs': 3227, 'highly': 3228, 'convinced': 3229, 'fruit': 3230, 'rove': 3231, 'potato': 3232, 'hooray': 3233, 'duck': 3234, 'thee': 3235, 'yoga': 3236, 'scan': 3237, 'forgotten': 3238, 'anthony': 3239, 'tennessee': 3240, 'winner': 3241, 'password': 3242, 'hack': 3243, 'mic': 3244, 'allergic': 3245, 'calm': 3246, 'terribly': 3247, 'si': 3248, 'kevin': 3249, 'sang': 3250, 'shoulder': 3251, 'impressive': 3252, 'virtual': 3253, 'strawberry': 3254, 'accepted': 3255, 'retarded': 3256, 'yess': 3257, 'di': 3258, 'plays': 3259, 'pride': 3260, 'cheesecake': 3261, 'fone': 3262, 'gm': 3263, 'uber': 3264, 'knocked': 3265, 'sucky': 3266, 'dayy': 3267, 'mines': 3268, 'replacement': 3269, 'geography': 3270, 'notebook': 3271, 'bitches': 3272, 'feedback': 3273, 'customer': 3274, '29': 3275, 'imo': 3276, 'outlook': 3277, 'hip': 3278, 'zombie': 3279, 'jersey': 3280, 'deadline': 3281, 'crashing': 3282, 'correct': 3283, 'victoria': 3284, 'shocked': 3285, 'wink': 3286, 'aching': 3287, 'factory': 3288, 'signs': 3289, 'gallery': 3290, 'deliver': 3291, 'dealing': 3292, 'bits': 3293, 'indian': 3294, 'presents': 3295, 'panda': 3296, 'coolest': 3297, 'crowd': 3298, '70': 3299, 'boxes': 3300, 'vids': 3301, 'suddenly': 3302, '23': 3303, 'negative': 3304, 'personally': 3305, 'furniture': 3306, 'din': 3307, 'mountains': 3308, 'snack': 3309, 'twitterers': 3310, 'dia': 3311, 'cuppa': 3312, 'wth': 3313, 'nh': 3314, 'hopeful': 3315, 'anti': 3316, 'duh': 3317, 'shifts': 3318, 'borrow': 3319, 'amusing': 3320, 'unable': 3321, 'sorted': 3322, 'pt': 3323, 'hunt': 3324, 'bedroom': 3325, 'boom': 3326, 'zero': 3327, 'artist': 3328, 'willing': 3329, 'safari': 3330, 'costs': 3331, 'stinks': 3332, 'kk': 3333, 'clients': 3334, 'happier': 3335, 'trade': 3336, 'muscle': 3337, 'icecream': 3338, 'sooooooo': 3339, 'rise': 3340, 'security': 3341, 'spoil': 3342, 'jordan': 3343, 'adult': 3344, 'reminder': 3345, 'hardest': 3346, 'monster': 3347, 'hahahah': 3348, 'therapy': 3349, 'michigan': 3350, 'letter': 3351, 'convo': 3352, 'marry': 3353, 'monitor': 3354, 'realy': 3355, 'shoe': 3356, 'addiction': 3357, 'convince': 3358, 'lemon': 3359, 'heaps': 3360, 'logo': 3361, 'hai': 3362, 'flickr': 3363, 'freedom': 3364, 'confusing': 3365, 'dvds': 3366, 'bak': 3367, 'cubs': 3368, 'verizon': 3369, 'hyper': 3370, 'emotional': 3371, 'legal': 3372, 'todd': 3373, 'reminded': 3374, 'mass': 3375, 'mitchel': 3376, 'consider': 3377, 'dizzy': 3378, 'guest': 3379, 'feature': 3380, 'general': 3381, 'bust': 3382, 'votes': 3383, 'technically': 3384, 'slower': 3385, 'commercial': 3386, 'discussion': 3387, 'bebo': 3388, 'youth': 3389, 'perform': 3390, 'tape': 3391, '5pm': 3392, 'blues': 3393, 'sentence': 3394, 'repair': 3395, 'peter': 3396, 'jst': 3397, 'musicmonday': 3398, 'prices': 3399, 'slight': 3400, 'shud': 3401, 'nintendo': 3402, 'bugger': 3403, 'hop': 3404, 'sowwy': 3405, 'gardening': 3406, 'twits': 3407, 'lobster': 3408, 'target': 3409, 'weed': 3410, 'priceless': 3411, 'woods': 3412, 'spinning': 3413, 'similar': 3414, 'playin': 3415, 'landed': 3416, 'goose': 3417, 'sanctuarysunday': 3418, 'solid': 3419, 'poker': 3420, 'puppies': 3421, 'mystery': 3422, 'switch': 3423, 'polar': 3424, 'fry': 3425, 'touched': 3426, 'semi': 3427, 'bs': 3428, 'tacos': 3429, 'lock': 3430, 'estate': 3431, 'tut': 3432, 'follows': 3433, 'whoo': 3434, 'bestie': 3435, 'generation': 3436, 'reports': 3437, 'wordpress': 3438, 'higher': 3439, 'shorts': 3440, 'angel': 3441, 'downstairs': 3442, '05': 3443, 'factor': 3444, 'chilly': 3445, 'minor': 3446, 'immediately': 3447, 'friendster': 3448, 'confirmed': 3449, 'preparing': 3450, 'tags': 3451, 'fusion': 3452, 'ja': 3453, 'yey': 3454, 'indoors': 3455, 'shouldnt': 3456, 'judge': 3457, 'blessings': 3458, 'baking': 3459, 'mango': 3460, 'grandmother': 3461, 'linux': 3462, 'genius': 3463, 'ne': 3464, 'bbl': 3465, 'task': 3466, 'announced': 3467, 'pit': 3468, 'pat': 3469, 'hollywood': 3470, 'belive': 3471, 'escape': 3472, 'parade': 3473, 'sunburned': 3474, 'gi': 3475, 'screamed': 3476, 'dull': 3477, 'instant': 3478, 'male': 3479, 'attempting': 3480, 'simon': 3481, 'cupcake': 3482, 'drives': 3483, 'daniel': 3484, 'sweden': 3485, 'purse': 3486, 'shattered': 3487, 'kewl': 3488, 'court': 3489, 'wrk': 3490, 'upcoming': 3491, 'urban': 3492, 'reasons': 3493, 'coding': 3494, 'wif': 3495, 'anime': 3496, 'lee': 3497, 'twitts': 3498, 'pasta': 3499, 'vanilla': 3500, 'rio': 3501, 'biz': 3502, 'product': 3503, 'whilst': 3504, 'bing': 3505, 'tire': 3506, 'dust': 3507, 'moves': 3508, 'shape': 3509, 'herself': 3510, 'blink': 3511, 'headin': 3512, 'heather': 3513, 'gona': 3514, 'gnite': 3515, 'recital': 3516, 'infamous': 3517, 'dollars': 3518, 'betty': 3519, 'jen': 3520, 'os': 3521, 'newcastle': 3522, 'hits': 3523, 'unfollowed': 3524, 'aussie': 3525, 'edge': 3526, 'chai': 3527, 'management': 3528, 'canï¿½t': 3529, 'ohio': 3530, 'yelled': 3531, 'thrilled': 3532, '55': 3533, 'korean': 3534, 'stolen': 3535, 'warning': 3536, 'lebron': 3537, 'fest': 3538, 'kicks': 3539, '400': 3540, 'returned': 3541, 'current': 3542, 'chrome': 3543, 'sissy': 3544, 'wrap': 3545, 'scotland': 3546, 'thai': 3547, 'zombies': 3548, 'muah': 3549, 'rly': 3550, 'discovered': 3551, 'juddday': 3552, 'forest': 3553, 'kyle': 3554, 'vinegar': 3555, 'bangs': 3556, 'thailand': 3557, 'kitties': 3558, 'temp': 3559, 'hood': 3560, 'dollhouse': 3561, 'charity': 3562, 'gigs': 3563, 'selena': 3564, 'gmail': 3565, 'pulling': 3566, 'bride': 3567, 'anxiety': 3568, 'mega': 3569, 'drew': 3570, 'noise': 3571, 'twitterville': 3572, 'grounded': 3573, 'colleagues': 3574, 'ughhhh': 3575, 'anne': 3576, 'nigga': 3577, 'seemed': 3578, 'clever': 3579, 'exchange': 3580, '5k': 3581, 'transfer': 3582, 'torn': 3583, 'randomly': 3584, 'academy': 3585, 'dork': 3586, 'sp': 3587, 'handy': 3588, 'mud': 3589, 'planet': 3590, 'receive': 3591, 'ability': 3592, 'pregnant': 3593, 'imac': 3594, 'lies': 3595, 'whom': 3596, 'mee': 3597, 'imax': 3598, 'soulja': 3599, 'remote': 3600, 'lightning': 3601, 'section': 3602, 'devon': 3603, 'default': 3604, 'crown': 3605, 'ness': 3606, 'dragged': 3607, 'raise': 3608, 'bone': 3609, 'lover': 3610, 'spamming': 3611, 'holla': 3612, 'dryer': 3613, 'written': 3614, 'aches': 3615, 'attacked': 3616, 'ignoring': 3617, 'overall': 3618, 'boooo': 3619, 'tooooo': 3620, 'piano': 3621, 'digging': 3622, 'climbing': 3623, 'mixed': 3624, 'zealand': 3625, 'kinds': 3626, 'ripped': 3627, 'brad': 3628, 'scott': 3629, 'carolina': 3630, 'lamb': 3631, 'chin': 3632, 'muffins': 3633, 'device': 3634, 'lovato': 3635, 'rules': 3636, 'flies': 3637, 'sees': 3638, 'beast': 3639, 'weekly': 3640, 'happiest': 3641, 'alice': 3642, 'chores': 3643, 'venue': 3644, 'pot': 3645, 'turtle': 3646, 'layout': 3647, '10pm': 3648, 'dig': 3649, 'asshole': 3650, 'brandon': 3651, 'yucky': 3652, 'knock': 3653, 'offline': 3654, 'seafood': 3655, 'chef': 3656, 'dmv': 3657, 'bastard': 3658, 'opera': 3659, 'pretend': 3660, 'opened': 3661, 'smashed': 3662, 'applied': 3663, 'british': 3664, 'woah': 3665, 'takin': 3666, 'fo': 3667, 'blowing': 3668, 'buffalo': 3669, 'fatty': 3670, 'kenny': 3671, 'engagement': 3672, 'loaded': 3673, 'fl': 3674, 'lasts': 3675, 'rings': 3676, 'allah': 3677, 'somethin': 3678, 'unfortunatly': 3679, 'cobra': 3680, 'shy': 3681, 'wins': 3682, 'phase': 3683, 'hawaii': 3684, 'gh': 3685, 'burgers': 3686, 'fifth': 3687, 'march': 3688, 'sob': 3689, 'onion': 3690, '18th': 3691, 'figuring': 3692, 'forth': 3693, 'meetings': 3694, 'coursework': 3695, 'pb': 3696, 'salon': 3697, 'wives': 3698, 'rehearsal': 3699, 'biology': 3700, 'ni': 3701, 'shannon': 3702, 'flower': 3703, 'logic': 3704, 'prepare': 3705, 'bros': 3706, 'reader': 3707, 'lit': 3708, 'loveeee': 3709, 'inbox': 3710, 'milkshake': 3711, 'attending': 3712, 'kudos': 3713, 'struggling': 3714, 'nvm': 3715, 'coughing': 3716, 'junior': 3717, 'se': 3718, 'gaming': 3719, 'towards': 3720, 'skool': 3721, 'jackson': 3722, 'tyler': 3723, 'supply': 3724, 'steph': 3725, 'effect': 3726, 'comfort': 3727, 'wrist': 3728, 'erin': 3729, 'ireland': 3730, 'irish': 3731, 'booooo': 3732, '12th': 3733, 'mmmmmm': 3734, 'drummer': 3735, 'needle': 3736, 'registered': 3737, 'guts': 3738, 'employee': 3739, 'position': 3740, 'frank': 3741, 'impression': 3742, 'snuggle': 3743, 'thou': 3744, 'doh': 3745, 'rays': 3746, 'ack': 3747, 'stubborn': 3748, 'refuse': 3749, 'complain': 3750, 'skip': 3751, 'external': 3752, 'sausage': 3753, 'gravity': 3754, 'chelsea': 3755, 'oprah': 3756, 'honored': 3757, 'taxi': 3758, 'spiders': 3759, 'captain': 3760, 'award': 3761, 'wears': 3762, 'srsly': 3763, 'accomplished': 3764, 'kim': 3765, '7th': 3766, 'dessert': 3767, 'nxt': 3768, 'le': 3769, 'popped': 3770, 'graduated': 3771, 'professional': 3772, 'punk': 3773, 'commute': 3774, 'answers': 3775, 'amber': 3776, 'nightmare': 3777, 'cheesy': 3778, 'ubuntu': 3779, 'jo': 3780, 'motion': 3781, 'gnight': 3782, 'dislike': 3783, 'matters': 3784, 'graduating': 3785, 'considered': 3786, 'tweeter': 3787, 'monkey': 3788, 'joint': 3789, 'delhi': 3790, 'soundtrack': 3791, 'uhh': 3792, 'karaoke': 3793, 'cryin': 3794, 'wales': 3795, 'league': 3796, 'thread': 3797, 'tmr': 3798, 'gon': 3799, 'jumped': 3800, 'display': 3801, 'translation': 3802, 'forms': 3803, 'whoops': 3804, 'bush': 3805, 'android': 3806, 'compliment': 3807, 'softball': 3808, 'wi': 3809, 'juss': 3810, 'jazz': 3811, 'terry': 3812, 'plurk': 3813, 'sounded': 3814, 'diamond': 3815, 'motivated': 3816, 'mag': 3817, 'trash': 3818, 'tubes': 3819, 'throwing': 3820, 'meee': 3821, 'pole': 3822, 'nj': 3823, 'manager': 3824, 'mel': 3825, 'recovered': 3826, 'necessary': 3827, 'pattern': 3828, 'speed': 3829, 'nevermind': 3830, 'limo': 3831, 'mornings': 3832, 'basketball': 3833, 'showered': 3834, 'az': 3835, 'tampa': 3836, 'contract': 3837, 'tweetup': 3838, 'sleepin': 3839, 'chose': 3840, 'mmmmm': 3841, '800': 3842, 'bac': 3843, 'midday': 3844, 'jacket': 3845, 'creating': 3846, 'bucks': 3847, 'ultimate': 3848, 'lily': 3849, 'den': 3850, 'cap': 3851, 'favor': 3852, 'martin': 3853, 'cooler': 3854, 'edinburgh': 3855, 'bliss': 3856, 'jet': 3857, 'pero': 3858, 'ignored': 3859, 'nurse': 3860, 'archuleta': 3861, 'mc': 3862, 'anxious': 3863, 'lj': 3864, 'starwars': 3865, 'err': 3866, 'refuses': 3867, 'vip': 3868, 'grew': 3869, 'pong': 3870, 'shuffle': 3871, '80s': 3872, 'jamie': 3873, 'audience': 3874, 'banquet': 3875, 'failure': 3876, 'route': 3877, 'tempted': 3878, 'mow': 3879, 'foreign': 3880, 'prosper': 3881, 'greetings': 3882, 'guinea': 3883, '1am': 3884, 'dump': 3885, 'distance': 3886, 'gained': 3887, 'spirit': 3888, '7pm': 3889, 'adventure': 3890, 'theirs': 3891, '36': 3892, 'views': 3893, 'papers': 3894, 'sight': 3895, 'desperate': 3896, 'matthew': 3897, 'engine': 3898, 'tuned': 3899, 'sniff': 3900, 'gooood': 3901, 'damage': 3902, 'sync': 3903, 'itouch': 3904, 'iv': 3905, 'sitter': 3906, 'crime': 3907, 'jumping': 3908, 'kay': 3909, 'sings': 3910, '2am': 3911, 'reference': 3912, 'familiar': 3913, 'nothings': 3914, 'defo': 3915, 'venus': 3916, 'wheel': 3917, 'thankfully': 3918, 'easily': 3919, 'letters': 3920, 'sweetheart': 3921, 'pedicure': 3922, 'built': 3923, 'beyonce': 3924, 'chair': 3925, 'batman': 3926, 'apologies': 3927, 'pets': 3928, 'mandy': 3929, 'rolling': 3930, 'jury': 3931, 'stung': 3932, 'richard': 3933, 'recession': 3934, 'sh': 3935, 'junk': 3936, '28': 3937, 'neil': 3938, 'thumbs': 3939, 'castle': 3940, 'va': 3941, 'yeahhh': 3942, 'shipping': 3943, 'proof': 3944, 'starship': 3945, 'dev': 3946, 'hayley': 3947, 'obvious': 3948, 'standard': 3949, 'wooo': 3950, '10am': 3951, 'attics': 3952, 'erm': 3953, 'rescue': 3954, 'locations': 3955, 'traditional': 3956, 'hott': 3957, 'eve': 3958, 'photoshoot': 3959, 'zone': 3960, 'wallet': 3961, 'deserved': 3962, 'mates': 3963, 'bites': 3964, 'santa': 3965, 'nightmares': 3966, 'sleepover': 3967, 'smaller': 3968, 'pen': 3969, 'ewww': 3970, 'solution': 3971, 'material': 3972, 'forgetting': 3973, 'stopping': 3974, 'recommended': 3975, 'handsome': 3976, 'cameras': 3977, 'pushing': 3978, 'beating': 3979, 'popcorn': 3980, 'bass': 3981, 'selection': 3982, 'yearbook': 3983, 'effing': 3984, 'minds': 3985, 'teddy': 3986, 'sorta': 3987, 'sigjeans': 3988, 'sons': 3989, '06': 3990, 'sunglasses': 3991, 'daisy': 3992, 'battle': 3993, 'ram': 3994, 'groups': 3995, 'curse': 3996, 'satisfied': 3997, 'repeat': 3998, 'prayer': 3999, 'president': 4000, 'michelle': 4001, 'assume': 4002, '48': 4003, 'melt': 4004, 'hearts': 4005, 'whoop': 4006, 'prove': 4007, 'sheesh': 4008, 'culture': 4009, 'william': 4010, 'grrrrr': 4011, 'doggy': 4012, 'hayfever': 4013, 'relief': 4014, 'cha': 4015, 'nuggets': 4016, 'separate': 4017, 'artists': 4018, 'metro': 4019, 'kingdom': 4020, 'thurs': 4021, 'stuffs': 4022, 'rolls': 4023, 'homeless': 4024, 'answered': 4025, 'improve': 4026, 'madre': 4027, 'etsy': 4028, 'hire': 4029, 'dd': 4030, 'offered': 4031, 'inviting': 4032, 'programme': 4033, 'twas': 4034, 'spare': 4035, 'tink': 4036, 'lasted': 4037, 'gg': 4038, 'loooong': 4039, 'fixing': 4040, 'bruce': 4041, 'loosing': 4042, 'lime': 4043, 'pineapple': 4044, 'euro': 4045, 'looove': 4046, 'exhausting': 4047, 'nathan': 4048, 'rides': 4049, 'guests': 4050, 'physics': 4051, 'blankets': 4052, 'lecture': 4053, 'bull': 4054, 'twisted': 4055, 'spammers': 4056, 'perez': 4057, 'combo': 4058, 'cheaper': 4059, 'suggestion': 4060, 'basement': 4061, 'discover': 4062, 'twitterific': 4063, 'ridiculously': 4064, 'sd': 4065, 'laughter': 4066, 'cape': 4067, 'capital': 4068, 'sweat': 4069, 'category': 4070, 'owner': 4071, 'slip': 4072, 'wasting': 4073, 'postponed': 4074, 'lucas': 4075, 'maria': 4076, 'laker': 4077, 'seasons': 4078, 'ridiculous': 4079, 'sack': 4080, 'stranger': 4081, 'torture': 4082, 'menu': 4083, 'nola': 4084, 'dollar': 4085, 'flow': 4086, 'comic': 4087, 'blank': 4088, 'disc': 4089, 'mami': 4090, 'mistakes': 4091, 'ashamed': 4092, 'plastic': 4093, 'disneyland': 4094, 'espresso': 4095, 'pup': 4096, 'distractions': 4097, 'expert': 4098, 'software': 4099, 'cops': 4100, 'strip': 4101, 'smoothie': 4102, 'users': 4103, 'beloved': 4104, 'pine': 4105, 'shoulda': 4106, 'dell': 4107, 'colorado': 4108, 'bullshit': 4109, 'caps': 4110, 'honor': 4111, 'clothing': 4112, 'bare': 4113, 'bicycle': 4114, 'patient': 4115, 'tila': 4116, 'hopeless': 4117, 'les': 4118, 'melted': 4119, 'ceremony': 4120, 'bookstore': 4121, 'item': 4122, 'leeds': 4123, 'wut': 4124, 'wheres': 4125, 'birmingham': 4126, 'yippee': 4127, 'blogtv': 4128, 'acoustic': 4129, 'mod': 4130, 'listed': 4131, 'strep': 4132, 'overnight': 4133, 'awwh': 4134, 'hardcore': 4135, 'pitch': 4136, 'dum': 4137, 'ego': 4138, 'heyyy': 4139, 'witty': 4140, 'denny': 4141, 'effin': 4142, 'japan': 4143, 'srry': 4144, 'bonus': 4145, 'rockin': 4146, 'pleasant': 4147, 'retire': 4148, 'docs': 4149, 'toothache': 4150, 'coat': 4151, 'physical': 4152, 'activity': 4153, 'further': 4154, 'crushed': 4155, 'heap': 4156, 'parks': 4157, 'becuz': 4158, '100th': 4159, 'excitement': 4160, 'required': 4161, 'transport': 4162, 'fudge': 4163, 'nachos': 4164, 'wks': 4165, 'hater': 4166, 'smiley': 4167, '2night': 4168, 'chap': 4169, 'tomato': 4170, 'celebrity': 4171, 'playlist': 4172, 'nba': 4173, 'discovery': 4174, 'operation': 4175, 'poorly': 4176, 'dylan': 4177, 'natalie': 4178, 'recovery': 4179, 'legit': 4180, 'muffin': 4181, 'dem': 4182, 'methinks': 4183, 'sac': 4184, 'loner': 4185, 'dutch': 4186, 'tie': 4187, 'nooooooo': 4188, 'frozen': 4189, 'discuss': 4190, 'recommendations': 4191, 'girly': 4192, 'hoppusday': 4193, 'sweaty': 4194, 'exit': 4195, 'stairs': 4196, 'lungs': 4197, 'thirty': 4198, 'cop': 4199, 'reminding': 4200, 'quilt': 4201, 'rooms': 4202, 'cope': 4203, 'mighty': 4204, 'networking': 4205, 'win7': 4206, 'thrown': 4207, 'ordering': 4208, 'holds': 4209, 'wished': 4210, 'demons': 4211, 'fi': 4212, 'unlike': 4213, 'county': 4214, 'explode': 4215, 'portugal': 4216, 'ciara': 4217, 'perfectly': 4218, 'create': 4219, 'crawling': 4220, 'trousers': 4221, 'umbrella': 4222, 'indie': 4223, '6pm': 4224, 'op': 4225, 'johnny': 4226, 'blogs': 4227, 'everyones': 4228, 'leads': 4229, 'youu': 4230, 'global': 4231, 'jane': 4232, 'pr': 4233, 'queens': 4234, 'domain': 4235, 'maps': 4236, 'emma': 4237, 'cinnamon': 4238, 'ooooo': 4239, 'tisdale': 4240, 'robert': 4241, 'parent': 4242, 'fairly': 4243, 'returning': 4244, 'neighbours': 4245, 'ti': 4246, 'imagination': 4247, 'apples': 4248, 'neighborhood': 4249, 'financial': 4250, 'teachers': 4251, 'situations': 4252, 'seek': 4253, 'likey': 4254, 'progress': 4255, 'wango': 4256, 'tx': 4257, 'concentrate': 4258, 'drinkin': 4259, 'streets': 4260, 'wack': 4261, 'piggy': 4262, 'advantage': 4263, 'sweetest': 4264, 'peaceful': 4265, 'ahhhhhh': 4266, 'xmen': 4267, 'emily': 4268, 'showers': 4269, 'megan': 4270, 'performing': 4271, 'emergency': 4272, 'prejudice': 4273, 'fifteen': 4274, 'dreambears': 4275, 'todayy': 4276, 'smith': 4277, 'manage': 4278, 'aaron': 4279, 'remix': 4280, 'hve': 4281, 'pissing': 4282, 'hectic': 4283, 'grilled': 4284, 'injured': 4285, 'numb': 4286, 'nina': 4287, 'forums': 4288, 'ironic': 4289, 'popping': 4290, 'aid': 4291, 'surprising': 4292, 'ian': 4293, 'ako': 4294, 'jesse': 4295, 'pee': 4296, 'guessed': 4297, 'xp': 4298, '150': 4299, '3wordsaftersex': 4300, 'indiana': 4301, 'beard': 4302, 'snoring': 4303, 'lyrics': 4304, 'curly': 4305, 'circus': 4306, 'boiling': 4307, 'es': 4308, 'magical': 4309, 'ford': 4310, 'breaks': 4311, 'urself': 4312, 'mental': 4313, 'mint': 4314, 'corn': 4315, 'agh': 4316, 'worn': 4317, 'standards': 4318, 'yesss': 4319, 'bby': 4320, 'abandoned': 4321, 'curve': 4322, 'dolls': 4323, 'guide': 4324, 'busted': 4325, 'fishing': 4326, 'smack': 4327, 'poetry': 4328, 'surrounded': 4329, 'comcast': 4330, 'lactose': 4331, 'nashville': 4332, 'logging': 4333, 'tonights': 4334, 'bake': 4335, 'tiring': 4336, 'sorting': 4337, 'jelly': 4338, 'charm': 4339, 'cycling': 4340, 'tierd': 4341, 'entertainment': 4342, 'tragic': 4343, 'filipino': 4344, 'some1': 4345, '38': 4346, 'common': 4347, 'freezer': 4348, 'patio': 4349, 'universe': 4350, 'decisions': 4351, 'headphones': 4352, 'cellphone': 4353, 'jim': 4354, 'pump': 4355, 'nw': 4356, 'roses': 4357, 'icon': 4358, 'information': 4359, 'jeremy': 4360, 'chase': 4361, 'laughs': 4362, 'included': 4363, 'relaxin': 4364, 'missy': 4365, 'williams': 4366, 'servers': 4367, 'ftsk': 4368, 'tires': 4369, 'smooth': 4370, 'exited': 4371, 'intense': 4372, 'safely': 4373, 'browsing': 4374, 'suffer': 4375, '3333': 4376, 'recorded': 4377, 'hurray': 4378, 'bea': 4379, 'veggie': 4380, 'teh': 4381, 'mowing': 4382, 'led': 4383, 'havnt': 4384, 'eatin': 4385, 'u2': 4386, 'cleared': 4387, 'xxxxx': 4388, 'clearly': 4389, 'ours': 4390, 'tracks': 4391, 'expired': 4392, 'romantic': 4393, 'joking': 4394, 'stalker': 4395, 'earn': 4396, 'beers': 4397, 'assistant': 4398, 'nana': 4399, 'tonsils': 4400, 'recommendation': 4401, '9th': 4402, 'sacramento': 4403, 'honour': 4404, 'grill': 4405, 'perry': 4406, 'startrek': 4407, 'chocolates': 4408, 'joey': 4409, 'signal': 4410, 'gna': 4411, 'cruel': 4412, 'stunning': 4413, 'disappeared': 4414, 'stat': 4415, 'auntie': 4416, 'creek': 4417, 'tryna': 4418, 'practically': 4419, 'gotcha': 4420, 'hungover': 4421, 'doll': 4422, 'grease': 4423, 'reckon': 4424, 'jail': 4425, 'passing': 4426, 'riot': 4427, 'panera': 4428, 'balance': 4429, 'aah': 4430, 'neat': 4431, 'devastated': 4432, 'confirmation': 4433, 'keith': 4434, 'checkin': 4435, 'colour': 4436, 'jackman': 4437, '22nd': 4438, 'disgusting': 4439, 'studied': 4440, 'tum': 4441, 'dew': 4442, 'rat': 4443, 'themselves': 4444, 'lighter': 4445, 'brave': 4446, 'girlie': 4447, 'nz': 4448, 'quarter': 4449, 'warren': 4450, 'skate': 4451, 'apartments': 4452, 'awkward': 4453, 'accent': 4454, 'hindi': 4455, 'naman': 4456, 'pooped': 4457, 'billy': 4458, 'stalking': 4459, 'exploring': 4460, 'tweeples': 4461, '3g': 4462, 'jealousy': 4463, 'frankie': 4464, 'options': 4465, 'clicked': 4466, 'annual': 4467, 'universal': 4468, 'sake': 4469, 'rocky': 4470, 'pal': 4471, 'bakery': 4472, 'kindergarten': 4473, 'utterly': 4474, 'any1': 4475, 'highlight': 4476, 'tr': 4477, 'spelled': 4478, 'calendar': 4479, 'printer': 4480, 'ink': 4481, 'skint': 4482, 'routine': 4483, 'acid': 4484, 'rogers': 4485, 'plate': 4486, 'celebs': 4487, 'nk': 4488, 'mraz': 4489, 'talks': 4490, 'pushed': 4491, 'acts': 4492, 'enterprise': 4493, 'downloads': 4494, 'gut': 4495, 'dirt': 4496, 'ffs': 4497, 'cds': 4498, 'owl': 4499, 'workers': 4500, 'alpha': 4501, 'laurie': 4502, 'idiots': 4503, 'wu': 4504, 'hmv': 4505, 'cities': 4506, 'trick': 4507, 'guna': 4508, 'cheating': 4509, 'posh': 4510, 'hugged': 4511, 'ai': 4512, 'reached': 4513, 'leader': 4514, 'polaroid': 4515, 'psychology': 4516, 'breathing': 4517, 'thirsty': 4518, 'hoped': 4519, 'newest': 4520, 'hasnt': 4521, 'm8': 4522, 'cycle': 4523, 'sandwiches': 4524, 'wooooo': 4525, 'wikipedia': 4526, 'zac': 4527, 'robin': 4528, 'washington': 4529, 'bathing': 4530, 'vent': 4531, 'customers': 4532, 'relaxation': 4533, 'pepper': 4534, 'spongebob': 4535, 'sox': 4536, 'manly': 4537, 'nan': 4538, 'auditions': 4539, 'aloha': 4540, 'milan': 4541, 'spoiled': 4542, 'bitter': 4543, 'pug': 4544, 'noone': 4545, 'nest': 4546, 'soooooooo': 4547, 'politics': 4548, 'advert': 4549, 'ohhhhh': 4550, 'susan': 4551, 'relationships': 4552, 'modern': 4553, 'cult': 4554, 'papa': 4555, 'dragon': 4556, 'trippin': 4557, 'development': 4558, 'relay': 4559, 'ads': 4560, 'neglected': 4561, 'hid': 4562, 'regarding': 4563, 'lah': 4564, 'rooting': 4565, 'amazingly': 4566, 'input': 4567, 'cage': 4568, 'victory': 4569, 'skies': 4570, 'hols': 4571, 'messy': 4572, 'pad': 4573, 'callin': 4574, 'elle': 4575, 'stepped': 4576, 'tshirt': 4577, 'tee': 4578, 'approaching': 4579, 'actor': 4580, 'balcony': 4581, 'aight': 4582, 'treating': 4583, 'edward': 4584, 'abit': 4585, 'argument': 4586, 'rosie': 4587, 'baltimore': 4588, 'continues': 4589, 'goals': 4590, 'lulu': 4591, 'direction': 4592, 'whip': 4593, 'particularly': 4594, 'multi': 4595, 'bash': 4596, 'blocking': 4597, 'sprained': 4598, 'hacked': 4599, 'disco': 4600, 'benefit': 4601, 'wheels': 4602, 'patron': 4603, 'aunts': 4604, 'thin': 4605, 'hence': 4606, 'effed': 4607, 'falls': 4608, 'actress': 4609, 'ding': 4610, 'loll': 4611, 'stephen': 4612, 'sweety': 4613, 'commence': 4614, 'tommy': 4615, 'retro': 4616, 'login': 4617, 'vintage': 4618, 'dresses': 4619, 'value': 4620, 'versions': 4621, 'automatically': 4622, 'breast': 4623, 'blonde': 4624, 'overtime': 4625, 'sets': 4626, 'casino': 4627, 'humidity': 4628, 'native': 4629, 'dyed': 4630, 'flights': 4631, 'agent': 4632, 'lolol': 4633, 'manual': 4634, 'database': 4635, 'favorites': 4636, 'bleed': 4637, 'del': 4638, 'sg': 4639, 'shite': 4640, 'hayes': 4641, 'damned': 4642, 'syrup': 4643, 'iwonder': 4644, 'howd': 4645, 'iget': 4646, 'georgia': 4647, 'uncomfortable': 4648, 'lifetime': 4649, 'flip': 4650, 'installing': 4651, 'attacking': 4652, 'capacity': 4653, 'muscles': 4654, 'youuu': 4655, '9pm': 4656, 'sticking': 4657, 'ironing': 4658, 'cal': 4659, 'yaay': 4660, 'bg': 4661, 'prize': 4662, 'sour': 4663, 'belgium': 4664, 'garlic': 4665, 'frickin': 4666, 'ach': 4667, 'pfft': 4668, 'cba': 4669, 'quizzes': 4670, 'steam': 4671, 'aiden': 4672, 'ants': 4673, 'bra': 4674, 'untill': 4675, 'split': 4676, 'goodies': 4677, 'entirely': 4678, 'offf': 4679, 'farewell': 4680, 'granny': 4681, 'multiple': 4682, 'jerry': 4683, 'olive': 4684, 'temporary': 4685, 'chu': 4686, 'pile': 4687, 'gee': 4688, 'asks': 4689, 'tweeties': 4690, 'slap': 4691, 'treats': 4692, 'convert': 4693, 'mamma': 4694, 'yaaaay': 4695, 'sport': 4696, 'blisters': 4697, 'gluten': 4698, 'plug': 4699, 'ist': 4700, 'mayb': 4701, 'coldplay': 4702, 'peas': 4703, 'promo': 4704, 'swedish': 4705, 'sheep': 4706, 'reinstall': 4707, 'scaring': 4708, 'bom': 4709, 'tricky': 4710, 'sean': 4711, 'grin': 4712, 'yumm': 4713, 'salary': 4714, '95': 4715, 'fluffy': 4716, 'towel': 4717, 'patrick': 4718, 'selfish': 4719, 'envy': 4720, 'rolled': 4721, 'tango': 4722, 'mitch': 4723, 'sum1': 4724, 'presence': 4725, '45am': 4726, 'montreal': 4727, 'ada': 4728, 'mozart': 4729, 'guild': 4730, 'char': 4731, 'mah': 4732, 'homes': 4733, 'greet': 4734, 'remove': 4735, 'naps': 4736, 'teenagers': 4737, 'runny': 4738, 'woulda': 4739, 'ï¿½ï¿½': 4740, 'allen': 4741, 'escaped': 4742, 'mock': 4743, 'edition': 4744, 'qld': 4745, 'mann': 4746, 'paycheck': 4747, 'april': 4748, 'olds': 4749, 'casa': 4750, 'meeeee': 4751, 'format': 4752, 'whack': 4753, 'mumbai': 4754, 'cow': 4755, 'archie': 4756, 'veronica': 4757, 'fr': 4758, 'inspire': 4759, 'ph': 4760, 'kool': 4761, 'sticker': 4762, 'francisco': 4763, 'toilet': 4764, '3000': 4765, 'nauseous': 4766, 'resume': 4767, 'necklace': 4768, 'origins': 4769, 'roomies': 4770, 'brick': 4771, 'conan': 4772, 'index': 4773, 'poster': 4774, 'generally': 4775, 'router': 4776, 'rick': 4777, 'glory': 4778, 'source': 4779, 'holes': 4780, 'intro': 4781, 'prolly': 4782, 'entered': 4783, 'polish': 4784, 'tank': 4785, 'tradition': 4786, 'choir': 4787, 'example': 4788, 'omgosh': 4789, 'mp3': 4790, 'knitting': 4791, 'omj': 4792, 'ct': 4793, 'wrapped': 4794, 'bleeding': 4795, 'elvis': 4796, 'legend': 4797, 'itchy': 4798, 'sighs': 4799, 'suns': 4800, 'pete': 4801, 'listing': 4802, 'indy': 4803, 'greece': 4804, 'retail': 4805, 'devil': 4806, '90210': 4807, 'flags': 4808, 'sniffle': 4809, 'nat': 4810, 'mushy': 4811, 'offering': 4812, 'shaun': 4813, 'mikey': 4814, 'bailey': 4815, 'thick': 4816, 'dual': 4817, 'industry': 4818, 'downside': 4819, 'twin': 4820, 'ken': 4821, 'icky': 4822, 'chicks': 4823, 'commentary': 4824, 'heal': 4825, 'sn': 4826, 'maui': 4827, 'trail': 4828, 'mcr': 4829, 'naughty': 4830, 'lappy': 4831, 'bruise': 4832, 'shipped': 4833, 'suspect': 4834, 'reaction': 4835, 'covering': 4836, 'amen': 4837, 'fails': 4838, 'bots': 4839, 'broadband': 4840, 'atlanta': 4841, 'products': 4842, 'sticky': 4843, 'barcelona': 4844, 'arrives': 4845, 'horses': 4846, 'sonny': 4847, 'patch': 4848, 'justice': 4849, 'australian': 4850, 'strike': 4851, 'unpacking': 4852, 'forecast': 4853, 'selected': 4854, 'hiccups': 4855, 'fil': 4856, 'vaca': 4857, 'addict': 4858, 'h1n1': 4859, 'cases': 4860, 'carrie': 4861, 'dvr': 4862, 'hint': 4863, 'hairstyle': 4864, 'hairdresser': 4865, 'bin': 4866, '32': 4867, 'cus': 4868, 'debating': 4869, 'mannnn': 4870, 'spotify': 4871, 'enjoyable': 4872, 'promote': 4873, 'habit': 4874, 'oct': 4875, 'hosted': 4876, 'vibes': 4877, 'chile': 4878, 'arriving': 4879, 'martini': 4880, 'thunderstorm': 4881, 'sunset': 4882, 'beside': 4883, 'disturbed': 4884, 'hk': 4885, 'romance': 4886, 'caring': 4887, 'concrete': 4888, 'rb': 4889, 'wiv': 4890, 'placement': 4891, 'denial': 4892, 'ahahaha': 4893, 'boooooo': 4894, 'nin': 4895, 'spray': 4896, 'faire': 4897, 'css': 4898, 'logged': 4899, 'reminiscing': 4900, 'juz': 4901, 'medium': 4902, 'regretting': 4903, 'statement': 4904, 'speakers': 4905, 'doors': 4906, 'yayyy': 4907, 'superman': 4908, 'dk': 4909, 'davis': 4910, 'shane': 4911, 'chain': 4912, 'filthy': 4913, 'conversations': 4914, 'concept': 4915, 'tumblr': 4916, 'vegetarian': 4917, 'education': 4918, 'bamboozle': 4919, 'attempts': 4920, 'pan': 4921, 'foundation': 4922, 'loading': 4923, 'asian': 4924, 'yogurt': 4925, 'amanda': 4926, 'aaaah': 4927, 'woooo': 4928, 'relatives': 4929, 'practicing': 4930, 'horrid': 4931, 'grades': 4932, 'dropping': 4933, 'teehee': 4934, 'gang': 4935, 'directions': 4936, 'sweets': 4937, 'est': 4938, 'jenn': 4939, 'thus': 4940, '2b': 4941, 'xoxox': 4942, 'belated': 4943, 'matches': 4944, 'katy': 4945, 'vampire': 4946, 'trial': 4947, 'der': 4948, 'backyard': 4949, '16th': 4950, 'horribly': 4951, 'sucker': 4952, 'cud': 4953, 'africa': 4954, 'yikes': 4955, 'monica': 4956, 'rt': 4957, 'lied': 4958, 'rap': 4959, 'complaining': 4960, 'pin': 4961, 'campus': 4962, 'priority': 4963, 'okayy': 4964, 'sticks': 4965, 'rails': 4966, 'insomnia': 4967, 'bradie': 4968, 'bikes': 4969, 'scottish': 4970, 'twenty': 4971, 'concerts': 4972, 'relaxed': 4973, 'zach': 4974, 'quinto': 4975, 'hunny': 4976, 'relationship': 4977, 'physically': 4978, 'inspection': 4979, 'career': 4980, 'lens': 4981, 'leading': 4982, 'pains': 4983, 'mushroom': 4984, 'sao': 4985, 'sumthin': 4986, 'thts': 4987, 'aj': 4988, 'bruised': 4989, 'daft': 4990, 'inner': 4991, 'hosting': 4992, 'lacking': 4993, 'golfing': 4994, 'rabbit': 4995, 'meat': 4996, 'paulo': 4997, 'nano': 4998, 'crisis': 4999, 'suspended': 5000, 'neva': 5001, 'sofa': 5002, 'hawks': 5003, 'pjs': 5004, 'revenge': 5005, 'sickness': 5006, 'zachary': 5007, 'roots': 5008, 'cig': 5009, 'hoe': 5010, 'stronger': 5011, 'bible': 5012, 'vast': 5013, 'awesomness': 5014, 'asthma': 5015, 'tablets': 5016, 'sarmy': 5017, 'crisps': 5018, 'string': 5019, 'donuts': 5020, 'burbank': 5021, 'opportunity': 5022, 'desire': 5023, 'braces': 5024, 'moods': 5025, 'tues': 5026, 'patience': 5027, 'detroit': 5028, 'tiger': 5029, 'kickin': 5030, 'lyk': 5031, '07': 5032, 'adopt': 5033, 'tail': 5034, 'twittered': 5035, 'ikr': 5036, 'anatomy': 5037, 'ke': 5038, 'crab': 5039, 'medical': 5040, 'damm': 5041, '04': 5042, 'html': 5043, 'nanny': 5044, 'cartoon': 5045, 'whn': 5046, 'experiencing': 5047, 'fitness': 5048, 'halo': 5049, 'ver': 5050, 'blogger': 5051, 'condition': 5052, 'shampoo': 5053, 'rated': 5054, 'cache': 5055, 'combination': 5056, 'union': 5057, 'families': 5058, 'robbie': 5059, 'purchase': 5060, 'pritchard': 5061, 'electricity': 5062, 'maddie': 5063, 'vanessa': 5064, 'accepting': 5065, 'sho': 5066, 'inspirational': 5067, 'drum': 5068, 'python': 5069, 'electric': 5070, 'takers': 5071, 'greedy': 5072, 'drill': 5073, 'tiff': 5074, 'mirror': 5075, 'harddrive': 5076, 'torrent': 5077, 'twitterfon': 5078, 'flo': 5079, 'researching': 5080, 'serve': 5081, 'dreaded': 5082, 'lobby': 5083, 'banging': 5084, 'gary': 5085, 'cracking': 5086, 'express': 5087, 'description': 5088, 'tat': 5089, 'handed': 5090, 'produce': 5091, 'saturdays': 5092, 'homee': 5093, 'lï¿½': 5094, 'wire': 5095, 'rode': 5096, 'terri': 5097, 'maintenance': 5098, 'urs': 5099, 'spicy': 5100, 'spilled': 5101, 'purpose': 5102, 'praise': 5103, 'fran': 5104, 'depression': 5105, 'articles': 5106, 'creativity': 5107, 'highway': 5108, 'brekkie': 5109, 'touching': 5110, 'tc': 5111, 'pow': 5112, 'exception': 5113, 'grumpy': 5114, 'entering': 5115, 'healing': 5116, 'requests': 5117, 'ummmm': 5118, 'ghosts': 5119, 'jackie': 5120, 'thousands': 5121, 'production': 5122, 'photographer': 5123, 'latin': 5124, '94': 5125, 'butterfly': 5126, 'ly': 5127, 'algebra': 5128, 'sides': 5129, 'fog': 5130, 'sulking': 5131, 'ins': 5132, 'designed': 5133, 'cleaner': 5134, 'gurl': 5135, 'planted': 5136, 'boxing': 5137, 'syndrome': 5138, 'brooke': 5139, 'wot': 5140, 'stu': 5141, 'supporting': 5142, 'jamba': 5143, 'suits': 5144, 'thas': 5145, 'yest': 5146, 'gahh': 5147, 'dashboard': 5148, 'scheduled': 5149, 'allll': 5150, 'needa': 5151, 'journal': 5152, 'eagles': 5153, 'zoe': 5154, 'muy': 5155, 'rss': 5156, 'hubs': 5157, 'pups': 5158, 'bali': 5159, '12am': 5160, 'government': 5161, 'donate': 5162, 'freaked': 5163, 'experiment': 5164, 'completing': 5165, 'registration': 5166, 'bueno': 5167, 'author': 5168, 'champions': 5169, 'caused': 5170, 'heater': 5171, 'lc': 5172, 'burns': 5173, 'hiatus': 5174, 'economic': 5175, 'mu': 5176, 'admin': 5177, 'luna': 5178, 'dozen': 5179, 'miserably': 5180, 'asses': 5181, 'passion': 5182, 'webcam': 5183, 'cuddling': 5184, 'triple': 5185, 'attached': 5186, 'shallow': 5187, 'brief': 5188, 'stevie': 5189, 'wax': 5190, 'trent': 5191, 'curry': 5192, 'dee': 5193, 'soy': 5194, 'leadership': 5195, 'twist': 5196, 'venice': 5197, 'ski': 5198, 'gloom': 5199, 'pumped': 5200, 'procrastination': 5201, 'soak': 5202, 'lemonade': 5203, 'efforts': 5204, 'frog': 5205, '82': 5206, 'birthdays': 5207, 'reel': 5208, 'ultra': 5209, 'slacking': 5210, 'mit': 5211, 'websites': 5212, 'zune': 5213, 'arts': 5214, 'represent': 5215, 'arse': 5216, 'knoww': 5217, 'walls': 5218, 'sci': 5219, 'willy': 5220, 'knees': 5221, 'stone': 5222, 'telly': 5223, 'rs': 5224, 'pinky': 5225, 'elses': 5226, 'lego': 5227, 'internal': 5228, 'phrase': 5229, 'false': 5230, 'rogue': 5231, 'deserves': 5232, 'levels': 5233, 'classmates': 5234, 'dong': 5235, 'ugg': 5236, 'sundae': 5237, 'pointing': 5238, 'contemplating': 5239, 'somethings': 5240, 'wa': 5241, 'stanley': 5242, 'meow': 5243, 'motorcycle': 5244, 'shrimp': 5245, 'workshop': 5246, 'ea': 5247, '600': 5248, 'concerned': 5249, 'needing': 5250, 'avenue': 5251, 'denmark': 5252, 'dresser': 5253, 'tall': 5254, 'alllll': 5255, 'hype': 5256, 'goodbyes': 5257, 'woe': 5258, 'modem': 5259, 'ers': 5260, 'rp': 5261, 'lineup': 5262, 'whos': 5263, 'oww': 5264, 'choc': 5265, 'melting': 5266, 'fireworks': 5267, 'poppins': 5268, 'hotter': 5269, 'hoedown': 5270, 'acc': 5271, 'eva': 5272, 'weigh': 5273, 'goodluck': 5274, 'pandora': 5275, '630': 5276, 'appearance': 5277, 'equipment': 5278, 'rc': 5279, 'anyhoo': 5280, 'becomes': 5281, 'irvine': 5282, 'earphones': 5283, 'trader': 5284, 'relate': 5285, 'sewing': 5286, 'shaking': 5287, 'scores': 5288, 'labor': 5289, 'virgin': 5290, 'bolt': 5291, 'documents': 5292, 'latte': 5293, 'meets': 5294, 'exhibition': 5295, 'bbc': 5296, 'focused': 5297, 'spirits': 5298, 'champs': 5299, 'macs': 5300, 'addictive': 5301, 'berlin': 5302, 'northern': 5303, 'vi': 5304, 'draft': 5305, 'myrtle': 5306, 'goooood': 5307, 'linda': 5308, 'stats': 5309, 'slim': 5310, 'puke': 5311, 'stayin': 5312, 'brisbane': 5313, 'vacay': 5314, 'boredd': 5315, 'awwwwwww': 5316, 'funniest': 5317, 'basic': 5318, 'spoilt': 5319, 'reschedule': 5320, 'wallpaper': 5321, 'backround': 5322, 'dangit': 5323, 'writer': 5324, 'nascar': 5325, 'holland': 5326, 'pond': 5327, 'likewise': 5328, 'eventually': 5329, 'stretch': 5330, 'asda': 5331, 'har': 5332, 'rant': 5333, 'seperate': 5334, 'giveaway': 5335, 'reg': 5336, 'asylum': 5337, 'babyy': 5338, 'unexpected': 5339, 'travis': 5340, 'cracked': 5341, 'payday': 5342, 'argentina': 5343, 'cue': 5344, 'bryan': 5345, 'robluketic': 5346, 'adventures': 5347, 'graphic': 5348, 'molly': 5349, 'mohawk': 5350, 'greek': 5351, 'metallica': 5352, 'lg': 5353, 'teenager': 5354, 'souls': 5355, 'remembering': 5356, 'looong': 5357, 'cruising': 5358, 'harsh': 5359, 'dances': 5360, 'ranch': 5361, 'fired': 5362, 'buffet': 5363, 'dragging': 5364, 'brody': 5365, 'twitterworld': 5366, 'yuck': 5367, 'careless': 5368, 'charles': 5369, 'billion': 5370, 'cuts': 5371, 'slammed': 5372, 'actors': 5373, 'pony': 5374, 'caffeine': 5375, 'extreme': 5376, 'craziness': 5377, 'blind': 5378, 'pale': 5379, 'prof': 5380, 'nowadays': 5381, 'probly': 5382, 'tommorrow': 5383, 'kiddo': 5384, 'brighton': 5385, 'subjects': 5386, 'stitches': 5387, 'cassie': 5388, 'learnt': 5389, 'dms': 5390, 'tw': 5391, 'shown': 5392, 'ahah': 5393, 'iz': 5394, 'upgraded': 5395, 'doo': 5396, 'awwwh': 5397, 'yao': 5398, 'reset': 5399, 'kayla': 5400, 'nutella': 5401, 'funn': 5402, 'doug': 5403, 'fricken': 5404, 'disappoint': 5405, 'doom': 5406, 'gasp': 5407, 'average': 5408, 'et': 5409, '2pm': 5410, 'hhrs': 5411, 'cabin': 5412, 'snacks': 5413, 'repeated': 5414, 'quad': 5415, 'wherever': 5416, 'yt': 5417, 'mis': 5418, 'trading': 5419, 'digg': 5420, 'eek': 5421, 'mart': 5422, 'tops': 5423, 'mucho': 5424, 'movin': 5425, 'restaurants': 5426, 'albums': 5427, 'noe': 5428, 'tattoos': 5429, 'sits': 5430, 'sykes': 5431, 'sparkly': 5432, 'swings': 5433, 'margaritas': 5434, 'belongs': 5435, 'increased': 5436, 'involves': 5437, 'iraq': 5438, 'logies': 5439, 'visual': 5440, 'kidney': 5441, 'require': 5442, 'graduates': 5443, 'lacey': 5444, 'brewing': 5445, 'refreshing': 5446, 'hughes': 5447, 'thighs': 5448, 'boobs': 5449, 'crochet': 5450, 'phoenix': 5451, 'coworkers': 5452, 'functioning': 5453, 'classy': 5454, 'pierced': 5455, 'peeling': 5456, 'apologize': 5457, 'carnival': 5458, 'grapes': 5459, 'font': 5460, 'shades': 5461, 'interest': 5462, 'announce': 5463, 'unfollowing': 5464, '1995': 5465, 'paradise': 5466, 'shave': 5467, 'colds': 5468, 'silent': 5469, 'unlucky': 5470, 'nicky': 5471, 'mam': 5472, 'brittany': 5473, 'techno': 5474, 'hurrah': 5475, 'invisible': 5476, 'charging': 5477, 'allergy': 5478, 'tnx': 5479, 'fur': 5480, 'bonfire': 5481, 'soda': 5482, 'messenger': 5483, 'carpet': 5484, 'booze': 5485, 'shelf': 5486, 'alike': 5487, 'colin': 5488, 'allow': 5489, 'eddie': 5490, 'womp': 5491, 'yuk': 5492, 'youuuu': 5493, 'port': 5494, 'terminal': 5495, 'owners': 5496, 'circle': 5497, 'visa': 5498, 'givin': 5499, 'strangers': 5500, 'dane': 5501, 'icons': 5502, 'unit': 5503, 'nooooooooo': 5504, 'tube': 5505, 'specific': 5506, 'oooo': 5507, 'amused': 5508, 'bump': 5509, 'antibiotics': 5510, 'sidewalk': 5511, 'pune': 5512, 'marc': 5513, 'appreciation': 5514, 'belgian': 5515, 'oi': 5516, 'gun': 5517, 'cider': 5518, 'teenage': 5519, 'rad': 5520, 'fallout': 5521, 'ping': 5522, 'pies': 5523, 'dayyyy': 5524, 'viva': 5525, 'x3': 5526, 'pill': 5527, 'surfing': 5528, 'coulda': 5529, 'drs': 5530, 'printing': 5531, 'volleyball': 5532, 'spoon': 5533, 'td': 5534, 'iowa': 5535, 'ermm': 5536, 'sample': 5537, 'csi': 5538, 'aus': 5539, 'salvation': 5540, 'alaska': 5541, 'nikki': 5542, 'replacing': 5543, 'theyre': 5544, 'errr': 5545, 'refused': 5546, 'warn': 5547, 'liver': 5548, 'w00t': 5549, '58': 5550, 'hostage': 5551, 'january': 5552, 'ron': 5553, 'amsterdam': 5554, 'morrisons': 5555, 'ka': 5556, 'pose': 5557, 'edited': 5558, 'samantha': 5559, 'lovee': 5560, 'horny': 5561, 'published': 5562, 'sidekick': 5563, 'grabbed': 5564, 'regards': 5565, 'knw': 5566, 'liam': 5567, 'pals': 5568, 'directory': 5569, 'wifey': 5570, 'goodnite': 5571, 'finds': 5572, 'nut': 5573, 'sass': 5574, 'zack': 5575, 'samberg': 5576, 'morgan': 5577, 'dope': 5578, 'lorraine': 5579, 'grape': 5580, 'amo': 5581, 'bittersweet': 5582, 'engaged': 5583, 'charming': 5584, 'applies': 5585, 'payed': 5586, 'slippers': 5587, 'jessie': 5588, 'severe': 5589, 'pudding': 5590, 'matrix': 5591, 'surf': 5592, 'dawson': 5593, 'crib': 5594, 'designer': 5595, 'streaming': 5596, 'napping': 5597, 'dito': 5598, 'bumped': 5599, 'itt': 5600, 'gran': 5601, 'vodafone': 5602, 'prepared': 5603, 'spree': 5604, 'loveee': 5605, 'achieve': 5606, 'slave': 5607, 'noooooo': 5608, 'champagne': 5609, 'duper': 5610, 'sleeep': 5611, 'leonard': 5612, 'fishies': 5613, 'essays': 5614, 'fetch': 5615, 'wkend': 5616, 'coupons': 5617, 'bronchitis': 5618, 'chillen': 5619, '8pm': 5620, 'superstar': 5621, 'messing': 5622, 'function': 5623, 'clark': 5624, 'denied': 5625, 'heehee': 5626, 'fitting': 5627, 'urge': 5628, 'emailed': 5629, 'oceans': 5630, 'depot': 5631, 'crunch': 5632, '20th': 5633, 'wallace': 5634, 'interviews': 5635, 'cont': 5636, 'strap': 5637, 'pizzas': 5638, 'storms': 5639, 'orders': 5640, 'rang': 5641, 'enemy': 5642, 'pe': 5643, 'personality': 5644, 'taught': 5645, 'map': 5646, '27th': 5647, 'staring': 5648, 'adams': 5649, 'greenville': 5650, 'abby': 5651, 'hips': 5652, 'feeding': 5653, 'impatient': 5654, 'speeding': 5655, 'vt': 5656, 'hut': 5657, 'livin': 5658, 'wendy': 5659, 'below': 5660, 'melissa': 5661, 'drums': 5662, 'clap': 5663, 'frame': 5664, 'rejected': 5665, 'sessions': 5666, 'nvr': 5667, 'amazed': 5668, 'thier': 5669, 'laptops': 5670, 'twiiter': 5671, 'waz': 5672, 'kc': 5673, 'majorly': 5674, 'tournament': 5675, 'sink': 5676, 'cozy': 5677, 'needles': 5678, 'cubicle': 5679, 'bestfriend': 5680, 'honesty': 5681, 'brighter': 5682, 'gilmore': 5683, 'raises': 5684, 'bea09': 5685, 'ann': 5686, 'dangerous': 5687, 'sneak': 5688, 'responding': 5689, 'worrying': 5690, 'jared': 5691, 'trampoline': 5692, 'bleach': 5693, 'wishin': 5694, 'luke': 5695, 'bumping': 5696, 'fabric': 5697, 'readin': 5698, 'newjabbakidz': 5699, 'masks': 5700, 'transformers': 5701, 'pouting': 5702, 'heavenly': 5703, 'closest': 5704, 'millionaire': 5705, 'flop': 5706, 'matinee': 5707, 'git': 5708, 'length': 5709, 'rocket': 5710, 'fringe': 5711, '2000': 5712, 'possibility': 5713, 'coworker': 5714, 'madness': 5715, 'inches': 5716, 'convenient': 5717, 'galaxy': 5718, 'bottles': 5719, 'blown': 5720, 'treated': 5721, 'jade': 5722, 'ole': 5723, 'moan': 5724, 'gawd': 5725, 'louis': 5726, 'therefore': 5727, 'leigh': 5728, 'barack': 5729, 'knife': 5730, 'hahahha': 5731, 'expo': 5732, 'chip': 5733, 'injury': 5734, 'invitation': 5735, 'overcome': 5736, 'scroll': 5737, 'xox': 5738, 'leah': 5739, 'sim': 5740, 'kellie': 5741, 'raised': 5742, 'domestic': 5743, 'ceiling': 5744, 'cheek': 5745, 'renewed': 5746, 'realizing': 5747, 'guns': 5748, 'steady': 5749, 'warped': 5750, 'animation': 5751, 'birth': 5752, 'understands': 5753, 'toss': 5754, 'former': 5755, 'locker': 5756, 'sensation': 5757, 'msgs': 5758, 'ye': 5759, 'hehehehe': 5760, 'owww': 5761, 'jp': 5762, 'flyer': 5763, 'turkey': 5764, 'comet': 5765, 'yawn': 5766, 'ubertwitter': 5767, 'powerpoint': 5768, 'hoodie': 5769, 'stylish': 5770, 'chica': 5771, 'tasty': 5772, 'individual': 5773, '96': 5774, 'coverage': 5775, 'ft': 5776, 'risk': 5777, 'advanced': 5778, 'ramen': 5779, 'tu': 5780, 'mashed': 5781, 'chew': 5782, 'canal': 5783, 'destroy': 5784, 'hhaha': 5785, 'political': 5786, 'gum': 5787, 'lift': 5788, '15th': 5789, 'nc': 5790, 'attitude': 5791, 'potatoes': 5792, 'potty': 5793, 'sounding': 5794, 'rabbits': 5795, 'wht': 5796, 'wellington': 5797, 'charlotte': 5798, 'independent': 5799, 'surprises': 5800, 'travels': 5801, 'flood': 5802, 'chops': 5803, 'sanctuary': 5804, 'debit': 5805, 'remains': 5806, 'cooker': 5807, 'counts': 5808, 'chipotle': 5809, 'av': 5810, 'standby': 5811, 'elsewhere': 5812, 'thang': 5813, 'offers': 5814, 'ooc': 5815, '167': 5816, 'grub': 5817, 'boots': 5818, 'chic': 5819, 'iï¿½ve': 5820, 'upgrades': 5821, 'celebrated': 5822, 'karen': 5823, 'jd': 5824, 'diy': 5825, 'whyyyy': 5826, 'superb': 5827, 'jungle': 5828, 'begun': 5829, 'tow': 5830, 'shed': 5831, 'desperately': 5832, 'thï¿½': 5833, 'nhï¿½': 5834, 'andrea': 5835, 'gloss': 5836, 'paparazzi': 5837, 'animated': 5838, 'insomniac': 5839, 'economics': 5840, 'costa': 5841, 'laser': 5842, 'arsenal': 5843, 'morrissey': 5844, 'produced': 5845, 'puffy': 5846, 'scout': 5847, 'booth': 5848, 'dealership': 5849, 'gadget': 5850, 'hosts': 5851, 'cya': 5852, 'cock': 5853, 'toward': 5854, 'fund': 5855, 'dw': 5856, 'nerve': 5857, 'mentor': 5858, 'obsession': 5859, 'squirrel': 5860, 'recall': 5861, 'sfo': 5862, 'tropical': 5863, 'hurricane': 5864, 'donï¿½t': 5865, 'jammin': 5866, 'logical': 5867, 'forehead': 5868, 'motorbike': 5869, 'tru': 5870, 'credits': 5871, 'whiskey': 5872, 'clubbing': 5873, 'rental': 5874, 'sans': 5875, 'mercy': 5876, 'tweetin': 5877, 'marked': 5878, 'racing': 5879, 'coincidence': 5880, 'bodies': 5881, 'bh': 5882, 'fee': 5883, 'rehearsals': 5884, 'tends': 5885, 'refreshed': 5886, 'aiming': 5887, 'twitt': 5888, 'crabs': 5889, 'earrings': 5890, 'upstairs': 5891, 'tied': 5892, 'tina': 5893, 'syncing': 5894, '2moz': 5895, 'lance': 5896, 'goo': 5897, 'watering': 5898, 'pamper': 5899, 'entertained': 5900, 'widget': 5901, 'correction': 5902, 'crystal': 5903, 'brownie': 5904, 'originally': 5905, 'scratched': 5906, 'region': 5907, 'highschool': 5908, 'pinging': 5909, 'fort': 5910, 'base': 5911, 'wayne': 5912, 'seo': 5913, 'hittin': 5914, 'bees': 5915, 'lotion': 5916, 'nottingham': 5917, 'puerto': 5918, 'rico': 5919, 'eventful': 5920, 'ponytail': 5921, 'wld': 5922, 'nemo': 5923, 'kavya': 5924, 'worm': 5925, 'era': 5926, 'cuteness': 5927, 'diving': 5928, 'consolation': 5929, 'yur': 5930, 'replay': 5931, 'cheeseburger': 5932, 'dimples': 5933, 'ofcourse': 5934, 'prep': 5935, 'cube': 5936, 'sunscreen': 5937, 'luff': 5938, 'mcdonald': 5939, 'hairs': 5940, 'jayk': 5941, 'acct': 5942, 'brits': 5943, 'np': 5944, 'puter': 5945, 'yew': 5946, 'phenomenal': 5947, 'pwns': 5948, 'chit': 5949, 'skirt': 5950, 'runnin': 5951, 'controls': 5952, 'cuddles': 5953, 'ahahah': 5954, 'admitted': 5955, 'awwwwww': 5956, 'circumstances': 5957, 'switzerland': 5958, 'thunderstorms': 5959, 'backpack': 5960, 'alcoholic': 5961, 'miller': 5962, 'specifically': 5963, 'ba': 5964, 'hedge': 5965, 'bracelet': 5966, 'boost': 5967, 'arghhh': 5968, 'cart': 5969, 'socal': 5970, 'bonkers': 5971, 'reward': 5972, 'iplayer': 5973, 'awakening': 5974, 'pod': 5975, 'toaster': 5976, 'hidden': 5977, 'cld': 5978, 'arnold': 5979, 'tafe': 5980, 'shadow': 5981, 'cigarettes': 5982, 'slush': 5983, 'farmer': 5984, 'boi': 5985, 'equals': 5986, 'barry': 5987, 'spelt': 5988, 'tasmania': 5989, 'spin': 5990, 'thingsmummysaid': 5991, 'migrane': 5992, 'cheated': 5993, 'oot': 5994, 'kings': 5995, 'alll': 5996, 'wizard': 5997, 'aired': 5998, 'fred': 5999, 'trapped': 6000, 'happend': 6001, 'derek': 6002, 'murder': 6003, 'ozzy': 6004, 'icant': 6005, 'alabama': 6006, 'admire': 6007, 'lookout': 6008, 'knackered': 6009, 'transition': 6010, 'percent': 6011, 'nicer': 6012, 'microwave': 6013, '37': 6014, 'waaaaay': 6015, 'designers': 6016, 'awesomely': 6017, 'shizz': 6018, 'utter': 6019, 'southern': 6020, 'pops': 6021, 'cents': 6022, 'tits': 6023, 'yummm': 6024, 'irony': 6025, 'survived': 6026, 'freshman': 6027, '47': 6028, 'glued': 6029, 'badge': 6030, 'bald': 6031, 'deflated': 6032, 'tempting': 6033, 'nov': 6034, 'sana': 6035, 'retired': 6036, 'closes': 6037, 'broadway': 6038, 'mainly': 6039, 'daw': 6040, 'oc': 6041, 'tomoro': 6042, 'penis': 6043, 'djing': 6044, 'conditions': 6045, 'homo': 6046, 'tricked': 6047, 'voices': 6048, 'suprisingly': 6049, 'nto': 6050, 'sql': 6051, 'parked': 6052, 'shhh': 6053, '4ever': 6054, 'responses': 6055, 'alyssa': 6056, 'trend': 6057, 'aweful': 6058, 'bargain': 6059, 'pillows': 6060, 'visited': 6061, 'bale': 6062, 'whose': 6063, 'thatï¿½s': 6064, 'coco': 6065, 'comps': 6066, 'throwdown': 6067, 'hopin': 6068, 'sdk': 6069, 'midwest': 6070, 'heheh': 6071, 'harbour': 6072, 'carried': 6073, 'clara': 6074, 'au': 6075, 'replaced': 6076, 'pollution': 6077, 'absolute': 6078, 'hundred': 6079, 'lbs': 6080, 'ale': 6081, 'parody': 6082, 'stranded': 6083, 'thesis': 6084, 'proposal': 6085, 'ethan': 6086, 'eps': 6087, 'shaky': 6088, 'thnks': 6089, 'glen': 6090, 'condolences': 6091, 'worthless': 6092, 'jenna': 6093, 'worlds': 6094, 'welsh': 6095, 'headlining': 6096, 'crafty': 6097, 'lasagna': 6098, 'psp': 6099, 'sleepytime': 6100, 'goldfish': 6101, 'vegan': 6102, 'mb': 6103, 'pakistan': 6104, 'splitting': 6105, 'witness': 6106, 'university': 6107, 'mutual': 6108, 'loft': 6109, 'nonetheless': 6110, 'bd': 6111, 'wil': 6112, 'eminem': 6113, 'leaked': 6114, 'define': 6115, 'announcement': 6116, 'coupon': 6117, 'bl': 6118, 'gain': 6119, 'snickers': 6120, 'almonds': 6121, 'bookmarks': 6122, 'mga': 6123, 'vietnam': 6124, 'storage': 6125, 'spose': 6126, 'kennel': 6127, 'womens': 6128, 'doggie': 6129, 'icarly': 6130, 'bow': 6131, 'thaa': 6132, 'slumdog': 6133, 'nm': 6134, 'spoken': 6135, 'yday': 6136, 'didnï¿½t': 6137, 'leather': 6138, 'gooooood': 6139, 'studyin': 6140, 'receiving': 6141, 'sheets': 6142, 'subscription': 6143, 'temperature': 6144, 'informed': 6145, 'oui': 6146, 'ui': 6147, 'lov': 6148, 'avoiding': 6149, 'prix': 6150, 'het': 6151, 'whatchu': 6152, 'moore': 6153, 'shark': 6154, 'sucking': 6155, 'gums': 6156, 'whaaaat': 6157, 'endless': 6158, 'heartbroken': 6159, 'fost': 6160, 'powerful': 6161, 'connections': 6162, 'lastnight': 6163, 'arkham': 6164, 'rockstar': 6165, 'werd': 6166, 'pilot': 6167, 'explanation': 6168, 'yeaa': 6169, 'eyed': 6170, 'spinach': 6171, 'dip': 6172, '56': 6173, 'offices': 6174, 'paperwork': 6175, 'iloveyou': 6176, 'tai': 6177, 'waaah': 6178, 'achy': 6179, 'grande': 6180, 'ere': 6181, 'chan': 6182, 'swap': 6183, 'promises': 6184, 'prints': 6185, 'adobe': 6186, 'leak': 6187, 'dey': 6188, 'anotha': 6189, 'thousand': 6190, 'craig': 6191, 'footy': 6192, 'kidd': 6193, 'images': 6194, 'fascinating': 6195, 'sand': 6196, 'premiere': 6197, 'jacked': 6198, 'foam': 6199, 'surviving': 6200, 'quitting': 6201, 'illegal': 6202, 'davey': 6203, 'organizing': 6204, 'abc': 6205, 'quietly': 6206, 'followin': 6207, 'ilove': 6208, 'merch': 6209, 'evidence': 6210, 'loan': 6211, 'tmw': 6212, 'hotness': 6213, 'seminar': 6214, 'paypal': 6215, 'xxxxxx': 6216, 'coraline': 6217, 'dooo': 6218, 'pw': 6219, 'museum': 6220, 'delight': 6221, 'attractive': 6222, 'tooooooo': 6223, 'dreadful': 6224, 'pounding': 6225, 'contribute': 6226, 'marina': 6227, 'errors': 6228, 'firmware': 6229, 'lambert': 6230, 'xdd': 6231, 'heidi': 6232, 'pam': 6233, 'limb': 6234, 'lighting': 6235, 'angle': 6236, 'nike': 6237, 'effective': 6238, 'betta': 6239, 'subscribe': 6240, 'lovelies': 6241, 'bam': 6242, 'companies': 6243, 'admitting': 6244, 'hobo': 6245, 'wiped': 6246, 'skating': 6247, 'fieldnotes': 6248, 'cï¿½n': 6249, 'spa': 6250, 'kent': 6251, 'sizes': 6252, 'od': 6253, 'blanket': 6254, 'vodka': 6255, 'carnt': 6256, 'boards': 6257, 'dancers': 6258, 'bend': 6259, 'boa': 6260, 'indians': 6261, 'arvo': 6262, 'command': 6263, 'weeds': 6264, 'director': 6265, 'js': 6266, 'celebration': 6267, 'lexington': 6268, 'gregg': 6269, 'disgusted': 6270, 'causes': 6271, 'devices': 6272, 'stroll': 6273, 'stays': 6274, 'biggie': 6275, 'honeymoon': 6276, 'brazilian': 6277, 'pacquiao': 6278, 'disk': 6279, 'aloud': 6280, 'wal': 6281, 'proving': 6282, 'looool': 6283, 'travelling': 6284, 'cc': 6285, 'neighbour': 6286, 'swimsuit': 6287, 'wanda': 6288, 'dreamt': 6289, 'shaved': 6290, 'raspberry': 6291, 'feat': 6292, 'curled': 6293, 'noooooooo': 6294, 'attracted': 6295, 'amazin': 6296, 'lovers': 6297, 'colorful': 6298, 'causing': 6299, 'fees': 6300, 'verify': 6301, 'currency': 6302, 'hometown': 6303, 'geeky': 6304, 'discounts': 6305, 'maccy': 6306, 'maid': 6307, 'dreamed': 6308, 'countdown': 6309, 'newborn': 6310, 'cone': 6311, 'duvet': 6312, 'worthy': 6313, 'flavor': 6314, 'tarmac': 6315, 'kris': 6316, 'anh': 6317, 'mastered': 6318, 'laterz': 6319, 'oral': 6320, 'brit': 6321, 'mayhem': 6322, '3hrs': 6323, 'fangirl': 6324, 'rug': 6325, 'gov': 6326, 'backstreet': 6327, 'tcot': 6328, 'leon': 6329, 'languages': 6330, '88': 6331, '42': 6332, 'nightshift': 6333, 'lincoln': 6334, 'sweep': 6335, 'loo': 6336, 'cnn': 6337, 'volume': 6338, 'bitten': 6339, 'prada': 6340, 'bean': 6341, 'overload': 6342, 'hiii': 6343, 'donut': 6344, 'innocent': 6345, 'falcon': 6346, 'hcc': 6347, 'mariah': 6348, 'byebye': 6349, 'ducks': 6350, 'dreary': 6351, 'pearl': 6352, 'bat': 6353, 'rf': 6354, 'funky': 6355, 'throwback': 6356, 'advertising': 6357, 'netbook': 6358, 'benadryl': 6359, 'ova': 6360, 'collect': 6361, '160': 6362, 'screening': 6363, 'sharp': 6364, 'mofo': 6365, 'landlord': 6366, 'asada': 6367, 'agreeing': 6368, 'yelling': 6369, 'liesboystell': 6370, 'donna': 6371, 'derby': 6372, 'newbie': 6373, 'drizzle': 6374, 'absence': 6375, 'boxers': 6376, 'ligament': 6377, 'lm': 6378, 'shock': 6379, 'humble': 6380, 'gaining': 6381, 'allison': 6382, 'convention': 6383, 'kilkenny': 6384, 'calculator': 6385, '10k': 6386, 'restrictions': 6387, 'troubles': 6388, 'closet': 6389, 'nhl': 6390, 'committed': 6391, 'wood': 6392, 'sympathy': 6393, 'arena': 6394, 'madrid': 6395, 'deaf': 6396, 'dubai': 6397, 'sooooooooo': 6398, 'anticipating': 6399, 'gimme': 6400, 'unique': 6401, 'whistle': 6402, 'wnt': 6403, 'dandy': 6404, 'nephews': 6405, 'misery': 6406, '03': 6407, 'overrated': 6408, 'disconnected': 6409, 'saddened': 6410, 'adsense': 6411, 'income': 6412, 'harlem': 6413, 'homies': 6414, 'ab': 6415, 'drops': 6416, 'utah': 6417, 'cinemas': 6418, 'diversity': 6419, 'alternate': 6420, 'booking': 6421, 'pcd': 6422, 'afternoons': 6423, 'gin': 6424, 'chattin': 6425, 'walks': 6426, 'fighter': 6427, 'peep': 6428, 'ant': 6429, 'patients': 6430, 'players': 6431, 'keyboards': 6432, 'borders': 6433, 'snif': 6434, 'studies': 6435, 'pinched': 6436, 'props': 6437, 'vibe': 6438, 'counter': 6439, 'cheering': 6440, 'documentary': 6441, 'minimum': 6442, 'pouts': 6443, 'hadnt': 6444, 'singstar': 6445, 'gymnastics': 6446, 'hol': 6447, 'ham': 6448, 'premium': 6449, 'housework': 6450, 'toll': 6451, 'owned': 6452, 'dieing': 6453, 'porridge': 6454, 'funnier': 6455, 'heartless': 6456, 'regardless': 6457, 'shouts': 6458, 'folding': 6459, 'hub': 6460, 'tap': 6461, 'yipee': 6462, 'blend': 6463, 'prague': 6464, 'sinking': 6465, 'abs': 6466, 'entertain': 6467, 'comeback': 6468, 'spotlight': 6469, 'skl': 6470, 'blond': 6471, 'edits': 6472, 'shares': 6473, 'velvet': 6474, 'beef': 6475, 'veggies': 6476, 'teased': 6477, 'definition': 6478, 'argue': 6479, 'fonts': 6480, 'hottie': 6481, 'nicest': 6482, 'warming': 6483, 'wreck': 6484, 'ottawa': 6485, 'ave': 6486, 'mein': 6487, 'misunderstood': 6488, 'aunty': 6489, 'register': 6490, 'yays': 6491, 'frogs': 6492, 'refund': 6493, 'maggie': 6494, 'fuzzball': 6495, 'cricket': 6496, 'cleanup': 6497, 'sipping': 6498, 'deb': 6499, 'shh': 6500, 'salute': 6501, 'canon': 6502, 'hallmark': 6503, 'grim': 6504, 'wolf': 6505, 'waaa': 6506, 'instrument': 6507, 'requirements': 6508, 'stalk': 6509, 'depending': 6510, 'dining': 6511, 'intended': 6512, 'technical': 6513, 'complex': 6514, 'particular': 6515, 'hellotxt': 6516, 'rope': 6517, 'construction': 6518, 'hawt': 6519, 'cooperating': 6520, 'singers': 6521, 'chillaxing': 6522, 'stable': 6523, 'ittt': 6524, 'outfits': 6525, 'wierd': 6526, 'mixing': 6527, 'infact': 6528, 'nate': 6529, 'grove': 6530, 'grabbing': 6531, 'cardio': 6532, 'medication': 6533, 'dating': 6534, '29th': 6535, 'showcase': 6536, 'ssd': 6537, 'chronicles': 6538, 'raw': 6539, 'cho': 6540, 'leopard': 6541, '2007': 6542, 'fukin': 6543, 'showin': 6544, 'upto': 6545, 'jedi': 6546, 'puts': 6547, 'ia': 6548, 'cooks': 6549, 'citizens': 6550, 'toddler': 6551, 'rash': 6552, 'candidate': 6553, 'adopted': 6554, 'shuts': 6555, 'shack': 6556, 'providing': 6557, 'marco': 6558, 'warmed': 6559, 'hammer': 6560, 'returns': 6561, 'baddd': 6562, 'sprite': 6563, 'drool': 6564, 'sophie': 6565, 'brill': 6566, '39': 6567, 'accomplish': 6568, 'lucy': 6569, 'hahaa': 6570, 'among': 6571, 'fiddle': 6572, 'tray': 6573, 'pos': 6574, 'chilli': 6575, 'boohoo': 6576, 'treatment': 6577, 'wisconsin': 6578, 'ehhh': 6579, 'sony': 6580, 'promising': 6581, 'airlines': 6582, 'alison': 6583, 'blur': 6584, 'gents': 6585, 'courthouse': 6586, 'bankruptcy': 6587, 'sonic': 6588, 'paste': 6589, 'yaaay': 6590, 'php': 6591, 'digest': 6592, 'employees': 6593, 'pshh': 6594, 'broadcast': 6595, 'sept': 6596, 'pause': 6597, 'acquired': 6598, 'filter': 6599, 'tn': 6600, 'criminal': 6601, 'contain': 6602, 'challenged': 6603, 'lists': 6604, 'boooooooo': 6605, '43': 6606, 'offended': 6607, 'tutorials': 6608, 'population': 6609, 'russian': 6610, 'celeb': 6611, 'reasonable': 6612, 'whine': 6613, 'flooded': 6614, 'rising': 6615, 'ibm': 6616, 'malibu': 6617, 'colours': 6618, 'backstage': 6619, 'flippin': 6620, 'kobe': 6621, 'doe': 6622, 'blueberry': 6623, 'lips': 6624, 'switched': 6625, 'applications': 6626, 'md': 6627, 'houses': 6628, 'kat': 6629, 'liz': 6630, 'strings': 6631, 'stud': 6632, 'stressing': 6633, 'kindle': 6634, 'confident': 6635, 'bot': 6636, 'hobby': 6637, 'fa': 6638, 'lad': 6639, 'swallow': 6640, 'spit': 6641, 'hookah': 6642, 'primavera': 6643, 'ruth': 6644, 'funerals': 6645, '900': 6646, 'peer': 6647, 'drunken': 6648, 'furious': 6649, 'toyota': 6650, 'vacations': 6651, 'mayer': 6652, 'flats': 6653, 'rats': 6654, 'prince': 6655, 'sleeps': 6656, 'encourage': 6657, 'swamped': 6658, 'classics': 6659, 'nerves': 6660, 'rare': 6661, 'tripped': 6662, 'dedication': 6663, 'thanku': 6664, 'pretending': 6665, 'vol': 6666, 'saga': 6667, 'picks': 6668, 'presale': 6669, 'worker': 6670, 'ahhhhhhh': 6671, 'sarcasm': 6672, 'countries': 6673, 'setup': 6674, 'alien': 6675, 'ar': 6676, 'unemployed': 6677, 'flap': 6678, 'submit': 6679, 'awaiting': 6680, 'pisses': 6681, 'simpsons': 6682, 'hv': 6683, 'cameron': 6684, 'anoop': 6685, 'launched': 6686, 'fought': 6687, 'ableton': 6688, 'jj': 6689, 'applying': 6690, 'rented': 6691, 'bushes': 6692, 'cherish': 6693, 'pint': 6694, 'tucking': 6695, 'dearly': 6696, 'sadd': 6697, 'blades': 6698, 'greeting': 6699, 'schoool': 6700, 'uncool': 6701, 'vicky': 6702, 'ditto': 6703, 'muse': 6704, 'ri': 6705, 'powers': 6706, 'rates': 6707, 'hog': 6708, 'plot': 6709, 'gps': 6710, 'lacroix': 6711, 'sup': 6712, 'anythin': 6713, 'fits': 6714, 'queensland': 6715, 'fiance': 6716, 'directly': 6717, 'designs': 6718, 'peak': 6719, 'atmosphere': 6720, 'chosen': 6721, 'offense': 6722, 'otalia': 6723, 'redo': 6724, 'nï¿½y': 6725, 'bunnies': 6726, 'doubles': 6727, 'frustraded': 6728, '11am': 6729, 'noodle': 6730, 'wandering': 6731, 'upside': 6732, '2006': 6733, 'seein': 6734, 'koi': 6735, 'njoy': 6736, 'christina': 6737, 'eee': 6738, 'earned': 6739, 'murray': 6740, 'googled': 6741, 'meme': 6742, 'ban': 6743, 'ik': 6744, 'dried': 6745, 'formal': 6746, 'deed': 6747, 'graders': 6748, 'precious': 6749, 'whisperer': 6750, 'knox': 6751, 'eachother': 6752, 'chirping': 6753, '4gb': 6754, 'promotion': 6755, 'cadbury': 6756, 'carl': 6757, 'asylm': 6758, 'tsk': 6759, 'tmobile': 6760, 'oldest': 6761, 'bothering': 6762, 'knocking': 6763, 'restoring': 6764, 'micro': 6765, 'novel': 6766, 'euruko': 6767, 'dressing': 6768, 'appropriate': 6769, 'taxes': 6770, 'hahha': 6771, 'olivia': 6772, 'resting': 6773, 'munch': 6774, 'straightener': 6775, 'viewers': 6776, 'dexter': 6777, 'bec': 6778, 'beatwittyparty': 6779, 'terrified': 6780, 'charges': 6781, 'amor': 6782, 'humans': 6783, 'haiku': 6784, 'outline': 6785, 'hogging': 6786, 'permit': 6787, 'cocktail': 6788, 'hii': 6789, 'stinkin': 6790, 'offically': 6791, 'dianne': 6792, 'portland': 6793, 'beatles': 6794, 'gomez': 6795, 'lifes': 6796, 'cups': 6797, 'fuel': 6798, 'philosophy': 6799, '250': 6800, 'idiotat': 6801, 'nks': 6802, 'himym': 6803, 'ninja': 6804, 'comm': 6805, 'carol': 6806, 'romeo': 6807, 'abandoning': 6808, 'oxford': 6809, 'misplaced': 6810, 'blushing': 6811, 'presentations': 6812, 'bagel': 6813, 'christine': 6814, 'dint': 6815, 'requiem': 6816, 'dissapointed': 6817, 'exp': 6818, 'ra': 6819, 'julia': 6820, 'distant': 6821, 'eden': 6822, 'fathers': 6823, 'span': 6824, 'macarena': 6825, 'howie': 6826, 'fiction': 6827, 'marvelous': 6828, 'olympic': 6829, 'champion': 6830, 'jackass': 6831, 'rum': 6832, 'jams': 6833, 'labels': 6834, 'attended': 6835, '44': 6836, 'nic': 6837, 'yan': 6838, 'copies': 6839, 'movement': 6840, 'skins': 6841, 'blahh': 6842, 'dial': 6843, 'exotic': 6844, 'hyped': 6845, '85': 6846, 'izzard': 6847, 'gb': 6848, 'aaah': 6849, 'blech': 6850, 'braid': 6851, '31st': 6852, 'robbed': 6853, 'permanent': 6854, 'cheery': 6855, 'schedules': 6856, 'tourist': 6857, 'seth': 6858, 'heating': 6859, 'geoff': 6860, 'cn': 6861, 'aidan': 6862, 'context': 6863, 'mt': 6864, 'scares': 6865, 'cr': 6866, 'prematurely': 6867, 'aussies': 6868, 'skinny': 6869, 'brooks': 6870, 'suspected': 6871, 'inability': 6872, 'isaac': 6873, 'pacman': 6874, 'apprentice': 6875, 'custom': 6876, 'terrific': 6877, 'ce': 6878, 'petrol': 6879, 'brett': 6880, 'belfast': 6881, 'detox': 6882, 'squad': 6883, 'root': 6884, 'thr': 6885, 'sesh': 6886, 'basket': 6887, 'homemade': 6888, 'nih': 6889, 'proudly': 6890, 'cotton': 6891, 'smut': 6892, 'deer': 6893, 'label': 6894, 'dios': 6895, 'portuguese': 6896, 'drawer': 6897, 'suv': 6898, 'stadium': 6899, 'measure': 6900, 'munching': 6901, 'scrambled': 6902, 'tripping': 6903, 'diesel': 6904, 'marie': 6905, 'teasing': 6906, 'remeber': 6907, 'reruns': 6908, 'cork': 6909, 'artwork': 6910, 'vets': 6911, 'keychain': 6912, 'freckles': 6913, 'merlin': 6914, 'youï¿½re': 6915, 'academic': 6916, 'cocktails': 6917, 'masterchef': 6918, 'mister': 6919, 'donation': 6920, 'compare': 6921, 'writers': 6922, 'dosent': 6923, 'chester': 6924, 'planes': 6925, 'racism': 6926, 'lion': 6927, 'appointments': 6928, 'afterall': 6929, 'sed': 6930, 'weirdest': 6931, 'roomie': 6932, 'wand': 6933, 'organic': 6934, 'gota': 6935, 'newport': 6936, 'vacuum': 6937, 'teen': 6938, 'bck': 6939, 'newspaper': 6940, 'conf': 6941, 'victor': 6942, 'arg': 6943, 'renew': 6944, 'reeeally': 6945, '700': 6946, 'anywho': 6947, 'kfc': 6948, 'joan': 6949, 'arizona': 6950, 'ning': 6951, 'lolll': 6952, '8d': 6953, '87': 6954, 'rebel': 6955, 'deadlines': 6956, 'mii': 6957, 'maryland': 6958, 'explains': 6959, 'cody': 6960, 'wid': 6961, 'freaky': 6962, 'grief': 6963, 'whatta': 6964, 'delish': 6965, 'unknown': 6966, 'haa': 6967, 'med': 6968, 'delays': 6969, 'homesick': 6970, 'hacker': 6971, 'redbull': 6972, 'agencies': 6973, 'tutorial': 6974, 'vog': 6975, 'rested': 6976, 'inspiring': 6977, 'nokia': 6978, 'danger': 6979, 'belt': 6980, 'piercings': 6981, 'spill': 6982, 'parker': 6983, 'hooker': 6984, 'mushrooms': 6985, 'yessir': 6986, 'haz': 6987, 'excuses': 6988, 'gambit': 6989, 'fold': 6990, 'g4': 6991, 'assembly': 6992, 'void': 6993, 'hamilton': 6994, 'chasing': 6995, 'flashing': 6996, 'concern': 6997, 'submitted': 6998, 'cheered': 6999, 'placements': 7000, 'zelda': 7001, 'fortunately': 7002, 'wakey': 7003, 'tuner': 7004, 'freebies': 7005, 'moo': 7006, 'fourteen': 7007, 'shelves': 7008, 'conflict': 7009, 'spike': 7010, 'gma': 7011, 'mï¿½': 7012, 'bï¿½': 7013, '11th': 7014, 'cindy': 7015, 'bluetooth': 7016, 'flavored': 7017, 'hash': 7018, 'pinkpop': 7019, 'springsteen': 7020, 'todayyyy': 7021, 'tastic': 7022, 'ivy': 7023, 'infested': 7024, 'indulgence': 7025, 'metallic': 7026, 'prizes': 7027, 'winners': 7028, 'cardboard': 7029, 'cola': 7030, 'diner': 7031, 'baha': 7032, 'assholes': 7033, 'chiropractor': 7034, 'blahhh': 7035, 'jeje': 7036, 'gue': 7037, '02': 7038, 'scoop': 7039, 'females': 7040, 'alan': 7041, 'hilton': 7042, 'tasks': 7043, 'coolness': 7044, 'recipes': 7045, 'jeep': 7046, 'costco': 7047, 'outs': 7048, 'blu': 7049, 'buti': 7050, 'kayo': 7051, 'industrial': 7052, 'politicians': 7053, 'sin': 7054, 'richie': 7055, 'foggy': 7056, 'garbage': 7057, 'curses': 7058, 'internetz': 7059, 'circuit': 7060, 'fc': 7061, 'protection': 7062, 'landscape': 7063, 'mentioning': 7064, 'debate': 7065, 'dl': 7066, 'lotsa': 7067, '614': 7068, 'kiddin': 7069, 'describe': 7070, 'strangely': 7071, 'satisfying': 7072, 'peel': 7073, 'repeatedly': 7074, 'dean': 7075, 'sasha': 7076, 'fwd': 7077, 'fones': 7078, 'poured': 7079, 'niggas': 7080, 'heartbreak': 7081, 'lizzie': 7082, 'predictable': 7083, 'wh': 7084, 'wha': 7085, 'chats': 7086, 'marking': 7087, 'cord': 7088, 'uptown': 7089, 'cravings': 7090, 'par': 7091, 'negativity': 7092, 'becky': 7093, 'corey': 7094, 'tidy': 7095, 'roasted': 7096, 'bangin': 7097, 'ava': 7098, 'tucson': 7099, 'crane': 7100, 'explosion': 7101, 'belinda': 7102, 'jensen': 7103, 'abusive': 7104, 'bells': 7105, 'dubbed': 7106, '2maro': 7107, 'developers': 7108, 'venezuela': 7109, 'opposed': 7110, 'hanson': 7111, 'officer': 7112, 'edwards': 7113, 'rusty': 7114, 'insulting': 7115, 'elevator': 7116, 'reals': 7117, 'jogging': 7118, 'lmk': 7119, 'embarrassed': 7120, 'aku': 7121, 'hahahahahaha': 7122, 'pepsi': 7123, 'straw': 7124, 'civic': 7125, 'pd': 7126, 'fortune': 7127, 'forsure': 7128, 'pasty': 7129, 'drivin': 7130, 'kickass': 7131, 'naptime': 7132, 'spotty': 7133, 'tigers': 7134, 'cleveland': 7135, 'yous': 7136, 'chatted': 7137, 'millions': 7138, 'triste': 7139, 'looooove': 7140, 'oro': 7141, 'machines': 7142, 'lenovo': 7143, 'shocking': 7144, 'sats': 7145, 'limits': 7146, 'vitamin': 7147, 'papi': 7148, 'tf2': 7149, 'mere': 7150, 'orientation': 7151, 'sharon': 7152, 'mk': 7153, 'hurtin': 7154, 'plzz': 7155, 'elizabeth': 7156, 'disagree': 7157, 'removing': 7158, 'tick': 7159, 'noble': 7160, 'tragedy': 7161, 'classical': 7162, 'lar': 7163, 'frost': 7164, 'speaker': 7165, 'hottest': 7166, 'skirts': 7167, 'stickam': 7168, 'ustream': 7169, 'scifi': 7170, 'hs': 7171, 'dimple': 7172, 'ruining': 7173, 'arrested': 7174, 'rotten': 7175, 'dose': 7176, 'varsity': 7177, 'fanclub': 7178, 'waterfront': 7179, 'passport': 7180, 'hired': 7181, 'riley': 7182, 'teams': 7183, 'uti': 7184, 'naruto': 7185, 'batty': 7186, 'painted': 7187, 'childhood': 7188, 'morris': 7189, 'mummies': 7190, 'demand': 7191, 'killin': 7192, 'sashimi': 7193, 'poppin': 7194, 'pumps': 7195, 'mosh': 7196, 'sorcha': 7197, 'hosp': 7198, 'duo': 7199, 'rex': 7200, 'meetup': 7201, 'bail': 7202, 'pooping': 7203, 'sk': 7204, 'pala': 7205, 'sensei': 7206, 'karate': 7207, 'stealth': 7208, 'boulder': 7209, 'tab': 7210, 'bcoz': 7211, 'campaign': 7212, 'cheesecakes': 7213, 'albeit': 7214, 'shoppin': 7215, 'blerg': 7216, 'discount': 7217, 'warcraft': 7218, 'legged': 7219, 'frown': 7220, 'rainbow': 7221, 'burritos': 7222, 'landline': 7223, 'freezes': 7224, 'investment': 7225, 'rome': 7226, 'curls': 7227, 'feeder': 7228, '5000': 7229, 'bugging': 7230, 'lmfaoo': 7231, 'yeeeeah': 7232, 'translated': 7233, 'rubbing': 7234, 'bonding': 7235, 'knit': 7236, 'iwas': 7237, 'tomo': 7238, 'devils': 7239, 'tunes': 7240, 'emerge': 7241, 'covers': 7242, 'brake': 7243, 'marshmellows': 7244, 'charms': 7245, 'behalf': 7246, 'sista': 7247, 'sih': 7248, 'talaga': 7249, 'wbu': 7250, 'alexis': 7251, 'todayyy': 7252, 'boyfriends': 7253, 'shopped': 7254, 'hiring': 7255, 'pitcher': 7256, 'skit': 7257, 'alexander': 7258, 'kayleigh': 7259, 'helmet': 7260, 'favs': 7261, 'visitin': 7262, 'nth': 7263, 'strikes': 7264, 'hopfully': 7265, 'types': 7266, 'quest': 7267, 'rack': 7268, 'hong': 7269, 'washer': 7270, 'banned': 7271, 'wakes': 7272, 'backed': 7273, '1pm': 7274, 'decides': 7275, 'unite': 7276, 'floyd': 7277, 'goooo': 7278, 'silver': 7279, 'peppers': 7280, '65': 7281, 'greets': 7282, 'mower': 7283, 'diggin': 7284, 'polly': 7285, 'conservative': 7286, 'snake': 7287, 'jodi': 7288, 'pixies': 7289, 'soggy': 7290, 'believed': 7291, 'laff': 7292, 'outing': 7293, 'holder': 7294, 'plaster': 7295, 'eagle': 7296, 'hangout': 7297, 'breeding': 7298, 'fallen': 7299, 'dominos': 7300, 'nun': 7301, 'interrupting': 7302, 'ops': 7303, 'interns': 7304, 'textin': 7305, 'rear': 7306, 'sincerely': 7307, 'recap': 7308, 'sadface': 7309, 'shell': 7310, 'cubbies': 7311, 'bums': 7312, 'junkie': 7313, 'iya': 7314, 'psn': 7315, 'calvin': 7316, 'momotlv': 7317, 'understandable': 7318, 'bahah': 7319, 'nightly': 7320, 'hallway': 7321, 'seaworld': 7322, 'treadmill': 7323, 'winston': 7324, 'heeey': 7325, 'handbag': 7326, 'glands': 7327, 'formula': 7328, 'pardon': 7329, 'columbus': 7330, 'giggles': 7331, 'mirrors': 7332, 'swag': 7333, 'shade': 7334, 'newark': 7335, 'noisy': 7336, 'roseanne': 7337, 'feeds': 7338, 'ppls': 7339, 'cured': 7340, 'aswel': 7341, 'lool': 7342, 'annoy': 7343, 'lag': 7344, 'downer': 7345, 'beetle': 7346, 'reznor': 7347, 'boob': 7348, '60s': 7349, 'helen': 7350, 'analog': 7351, 'bart': 7352, 'handled': 7353, '102': 7354, 'sesame': 7355, 'automatic': 7356, 'reload': 7357, 'cuba': 7358, 'sayang': 7359, 'plugin': 7360, 'caramel': 7361, 'shopaholic': 7362, 'pairs': 7363, 'hunger': 7364, 'settled': 7365, 'cheat': 7366, 'hardware': 7367, 'bon': 7368, 'postal': 7369, 'election': 7370, 'reads': 7371, 'clearing': 7372, 'struggle': 7373, 'polo': 7374, 'baka': 7375, 'blower': 7376, 'contemplate': 7377, 'ahem': 7378, 'morrow': 7379, 'labeled': 7380, 'relapse': 7381, 'stands': 7382, 'blockbuster': 7383, 'lifted': 7384, 'puked': 7385, 'imaginary': 7386, 'lousy': 7387, 'npr': 7388, 'realistic': 7389, 'sleeeeep': 7390, 'wookie': 7391, 'finna': 7392, 'dancer': 7393, 'rejection': 7394, 'lb': 7395, 'downpour': 7396, 'ungodly': 7397, 'fender': 7398, 'heartburn': 7399, 'stink': 7400, 'anyhow': 7401, 'alias': 7402, 'thankies': 7403, 'atlantic': 7404, 'nappy': 7405, 'wendys': 7406, 'spears': 7407, 'downfall': 7408, 'fleetwood': 7409, 'listning': 7410, 'fairy': 7411, 'tales': 7412, 'procrastinating': 7413, 'chamber': 7414, 'stanky': 7415, '105': 7416, 'possession': 7417, 'remaining': 7418, 'havn': 7419, 'underscore': 7420, 'omgoodness': 7421, 'godfather': 7422, 'lashes': 7423, 'mayday': 7424, 'arghh': 7425, 'smitten': 7426, 'athens': 7427, 'surge': 7428, 'rowing': 7429, 'earl': 7430, 'quebec': 7431, '24th': 7432, 'diploma': 7433, 'shin': 7434, 'earliest': 7435, 'tale': 7436, 'meagan': 7437, 'intentionally': 7438, 'ladyhawke': 7439, 'crutches': 7440, 'progressive': 7441, 'resigned': 7442, 'cricinfo': 7443, 'groove': 7444, 'clarkson': 7445, 'christopher': 7446, 'vocabulary': 7447, 'wiki': 7448, 'lava': 7449, 'seed': 7450, 'tt': 7451, 'flour': 7452, 'habits': 7453, '20mins': 7454, 'developing': 7455, 'meebo': 7456, 'styles': 7457, 'workplace': 7458, 'meanie': 7459, 'abiding': 7460, 'joker': 7461, 'jacks': 7462, 'drawn': 7463, 'tomorroww': 7464, 'avocado': 7465, 'noice': 7466, 'collective': 7467, 'mare': 7468, 'mount': 7469, 'itching': 7470, 'shuld': 7471, 'krispy': 7472, 'kreme': 7473, 'wrecked': 7474, 'hulk': 7475, 'fellas': 7476, 'scarred': 7477, 'confuse': 7478, 'beatweetup': 7479, 'quï¿½': 7480, 'stiff': 7481, 'grizzly': 7482, 'guten': 7483, 'morgen': 7484, 'fob': 7485, 'buggy': 7486, 'shan': 7487, 'jaunty': 7488, 'graveyard': 7489, 'kitchenfire': 7490, 'partyyyy': 7491, 'evolution': 7492, 'alternatives': 7493, 'dash': 7494, '50am': 7495, 'buzzing': 7496, 'burp': 7497, 'announcing': 7498, 'voegele': 7499, 'relative': 7500, 'suprised': 7501, 'popularity': 7502, 'resorted': 7503, 'subtle': 7504, 'stroke': 7505, 'vocals': 7506, 'unloved': 7507, 'oy': 7508, 'watermelon': 7509, 'mn': 7510, 'papaya': 7511, 'careers': 7512, 'firewire': 7513, 'compatible': 7514, 'sabrina': 7515, 'cary': 7516, 'maxed': 7517, 'perfume': 7518, 'tarot': 7519, 'thoroughly': 7520, '35mins': 7521, 'pats': 7522, 'operating': 7523, 'awaits': 7524, 'claims': 7525, 'inevitable': 7526, 'hashtag': 7527, 'object': 7528, 'housemates': 7529, 'corona': 7530, 'prevent': 7531, 'justwatched': 7532, 'stormy': 7533, 'nipple': 7534, 'doomed': 7535, 'ignorance': 7536, '13th': 7537, 'surface': 7538, 'encouragement': 7539, 'creeped': 7540, 'harvey': 7541, 'leap': 7542, 'sep': 7543, 'vienna': 7544, 'beware': 7545, 'dora': 7546, 'explorer': 7547, 'shirley': 7548, 'tty': 7549, 'wooow': 7550, 'huggles': 7551, 'pissy': 7552, 'booty': 7553, 'coldstone': 7554, 'curling': 7555, 'geeks': 7556, 'helloooo': 7557, 'backing': 7558, 'rooftop': 7559, 'perfection': 7560, 'andrews': 7561, 'comedian': 7562, 'gardens': 7563, 'brushing': 7564, 'weeding': 7565, 'plots': 7566, 'dot': 7567, 'african': 7568, 'youngster': 7569, 'sublime': 7570, 'playdate': 7571, 'loudly': 7572, 'actions': 7573, 'mario': 7574, 'tracking': 7575, 'ki': 7576, 'fate': 7577, 'mj': 7578, 'dive': 7579, 'hibernate': 7580, 'azz': 7581, 'jew': 7582, 'canberra': 7583, 'itll': 7584, 'sb': 7585, 'norm': 7586, 'pep': 7587, 'aladdin': 7588, 'byeeeee': 7589, 'pout': 7590, 'hiss': 7591, 'ducati': 7592, 'puma': 7593, 'throbbing': 7594, 'jill': 7595, 'tokio': 7596, 'fields': 7597, 'liberty': 7598, 'trailers': 7599, 'commenting': 7600, 'ballerina': 7601, 'phuket': 7602, 'bkk': 7603, 'wuld': 7604, 'mgmt': 7605, 'rushing': 7606, 'claim': 7607, 'joel': 7608, 'mustang': 7609, 'pulp': 7610, 'paso': 7611, 'nude': 7612, 'deli': 7613, 'meter': 7614, 'drowning': 7615, 'sorrows': 7616, 'baton': 7617, 'nigh': 7618, 'sinuses': 7619, 'czech': 7620, 'paws': 7621, 'priscilla': 7622, 'cod4': 7623, 'adele': 7624, 'snag': 7625, 'brent': 7626, 'additional': 7627, 'drained': 7628, 'wagon': 7629, 'buenas': 7630, 'noches': 7631, 'wsop': 7632, 'janeiro': 7633, 'paisley': 7634, 'jonaswebcast': 7635, 'handful': 7636, 'dns': 7637, 'awesomee': 7638, 'ctrl': 7639, 'ky': 7640, 'goat': 7641, 'troopers': 7642, 'buzzed': 7643, 'sgt': 7644, 'bacteria': 7645, 'chad': 7646, 'jello': 7647, 'specialist': 7648, 'infected': 7649, 'yas': 7650, 'scenes': 7651, 'vh1': 7652, 'dada': 7653, 'pour': 7654, 'prettier': 7655, 'soooooooooo': 7656, 'profiles': 7657, 'cyber': 7658, 'fare': 7659, 'waitress': 7660, 'trails': 7661, 'bebe': 7662, 'subscribers': 7663, 'li': 7664, 'sl': 7665, 'dazzle': 7666, 'courtesy': 7667, 'producers': 7668, 'remain': 7669, 'flirting': 7670, 'sped': 7671, 'tupac': 7672, 'commercials': 7673, 'suites': 7674, 'poets': 7675, 'ihop': 7676, 'cowboy': 7677, 'woow': 7678, 'involving': 7679, 'joss': 7680, 'rabies': 7681, 'hospitals': 7682, 'flipping': 7683, 'headline': 7684, 'reaching': 7685, 'elaine': 7686, 'bore': 7687, 'harley': 7688, 'slideshow': 7689, 'jamies': 7690, 'youngest': 7691, 'partyin': 7692, 'owns': 7693, 'owt': 7694, 'lamer': 7695, 'defending': 7696, 'partied': 7697, 'jog': 7698, 'vehicle': 7699, 'harbor': 7700, 'chalet': 7701, 'buuuut': 7702, 'luxury': 7703, 'internship': 7704, 'grammar': 7705, 'underwood': 7706, 'huhuhu': 7707, 'curl': 7708, 'rox': 7709, 'desert': 7710, 'weeping': 7711, 'performances': 7712, 'sources': 7713, 'casting': 7714, 'twitterbugs': 7715, 'vinyl': 7716, 'clutches': 7717, 'globe': 7718, 'fiona': 7719, 'enought': 7720, 'eugh': 7721, 'vancity': 7722, 'squeeze': 7723, 'hairspray': 7724, 'wayyy': 7725, 'coats': 7726, 'theaters': 7727, 'borin': 7728, 'carne': 7729, 'crispies': 7730, 'pantera': 7731, 'cs': 7732, 'relatively': 7733, 'appears': 7734, 'chopped': 7735, 'mya': 7736, 'piercing': 7737, 'puffs': 7738, 'voicemail': 7739, 'impromptu': 7740, 'converting': 7741, 'gays': 7742, 'bold': 7743, 'environment': 7744, 'circa': 7745, 'alpine': 7746, 'sketchy': 7747, 'mtn': 7748, '4ward': 7749, 'clipping': 7750, 'wires': 7751, 'copyright': 7752, 'cuuuute': 7753, 'starfleet': 7754, 'gate': 7755, 'vicious': 7756, 'magnificent': 7757, 'benjamin': 7758, 'laters': 7759, 'complaints': 7760, 'heartedly': 7761, 'tissues': 7762, 'camcorder': 7763, 'twn': 7764, 'flush': 7765, 'meltdown': 7766, 'ic': 7767, 'toothbrush': 7768, 'whistling': 7769, 'lend': 7770, 'nighter': 7771, 'handles': 7772, 'soothing': 7773, 'marines': 7774, 'gather': 7775, 'warnings': 7776, 'hoot': 7777, 'dayyy': 7778, 'kit': 7779, 'porter': 7780, 'massacre': 7781, 'behave': 7782, 'worship': 7783, 'funnn': 7784, 'diagnosis': 7785, 'prank': 7786, 'lore': 7787, '4got': 7788, 'ourselves': 7789, 'disease': 7790, 'participating': 7791, 'payment': 7792, 'govt': 7793, 'parcs': 7794, 'gem': 7795, 'mysterious': 7796, 'sytycd': 7797, 'blair': 7798, 'twiggas': 7799, 'crunk': 7800, 'assure': 7801, 'greater': 7802, 'refresh': 7803, 'rainforest': 7804, 'raleigh': 7805, 'butterflies': 7806, 'overseas': 7807, 'witch': 7808, 'highest': 7809, 'worldwide': 7810, 'underneath': 7811, 'gamer': 7812, 'soldiers': 7813, 'exclamation': 7814, 'oficially': 7815, 'dec': 7816, 'dairy': 7817, 'teleport': 7818, 'scratching': 7819, 'qot': 7820, 'weekday': 7821, 'ugggh': 7822, 'pokemon': 7823, 'mens': 7824, 'shizzle': 7825, 'references': 7826, 'nettles': 7827, 'rah': 7828, 'lovey': 7829, 'haley': 7830, 'rally': 7831, 'roommates': 7832, 'straighten': 7833, 'previously': 7834, 'winds': 7835, 'esther': 7836, 'katherine': 7837, 'sherman': 7838, 'aliens': 7839, 'sorts': 7840, 'precisely': 7841, 'galore': 7842, 'oyster': 7843, 'vmware': 7844, 'unity': 7845, 'mixtape': 7846, 'earning': 7847, 'oldies': 7848, 'throughout': 7849, 'evryone': 7850, 'pleaseee': 7851, 'unfortunate': 7852, 'confusin': 7853, 'nikon': 7854, 'aloe': 7855, 'shore': 7856, 'monies': 7857, 'iis': 7858, 'survey': 7859, 'fame': 7860, 'hq': 7861, 'egyptian': 7862, 'shoulders': 7863, 'trained': 7864, 'clicking': 7865, 'crocheted': 7866, 'poly': 7867, 'fibe': 7868, 'ihave': 7869, 'candle': 7870, 'mourning': 7871, 'breezy': 7872, 'om': 7873, 'supported': 7874, 'jizz': 7875, 'xmas': 7876, 'reallly': 7877, 'redhead': 7878, 'upsetting': 7879, 'welcoming': 7880, 'darkness': 7881, 'igloo': 7882, 'pussy': 7883, 'inn': 7884, 'ami': 7885, 'fluids': 7886, 'dynasty': 7887, 'madden': 7888, 'weirdo': 7889, 'disappointment': 7890, 'und': 7891, 'intel': 7892, 'latter': 7893, 'rainin': 7894, 'haul': 7895, 'pas': 7896, 'rapids': 7897, 'tryed': 7898, 'physio': 7899, '48hours': 7900, 'ttyl': 7901, 'trainer': 7902, 'johnson': 7903, 'clone': 7904, 'tossed': 7905, 'equal': 7906, 'picky': 7907, 'onions': 7908, 'biased': 7909, 'delightful': 7910, 'bestest': 7911, 'spreading': 7912, 'canterbury': 7913, 'tori': 7914, 'began': 7915, 'hamburger': 7916, 'mor': 7917, 'squirrels': 7918, 'mags': 7919, 'pleeease': 7920, 'tao': 7921, 'grandmothers': 7922, 'prism': 7923, 'toothpaste': 7924, 'lotr': 7925, 'viral': 7926, 'dawg': 7927, 'luvin': 7928, 'pao': 7929, 'murdered': 7930, 'framework': 7931, 'designing': 7932, 'twitties': 7933, 'blowin': 7934, 'rents': 7935, 'aaahhh': 7936, 'pun': 7937, 'whyyyyy': 7938, 'sheffield': 7939, 'unreal': 7940, 'atmos': 7941, 'wondered': 7942, 'conditioning': 7943, 'mai': 7944, 'stockholm': 7945, 'humour': 7946, 'rangers': 7947, 'nudge': 7948, 'angela': 7949, 'responded': 7950, 'rugby': 7951, 'lifts': 7952, 'richmond': 7953, 'dslr': 7954, 'memphis': 7955, 'tot': 7956, 'scenie': 7957, 'lean': 7958, 'evernote': 7959, 'stocktwits': 7960, 'lili': 7961, 'mentally': 7962, 'glue': 7963, 'kettle': 7964, 'cucumber': 7965, 'kittens': 7966, 'balloon': 7967, 'bruises': 7968, 'soz': 7969, 'tricks': 7970, 'rescheduled': 7971, 'closely': 7972, 'bounce': 7973, 'clarify': 7974, 'pedicures': 7975, 'attendance': 7976, 'nasal': 7977, 'candace': 7978, 'luvs': 7979, 'cvs': 7980, 'trumps': 7981, 'kev': 7982, 'proves': 7983, 'cf': 7984, 'choices': 7985, 'teaches': 7986, 'range': 7987, 'disposable': 7988, 'antonio': 7989, 'ties': 7990, 'lax': 7991, 'netball': 7992, 'kelley': 7993, 'pendulum': 7994, 'surfin': 7995, 'snail': 7996, 'services': 7997, 'thankss': 7998, 'pei': 7999, 'lifting': 8000, 'expectations': 8001, 'looming': 8002, 'trio': 8003, 'scrub': 8004, 'vida': 8005, 'masculinity': 8006, 'sandwhich': 8007, 'static': 8008, 'peek': 8009, 'premier': 8010, 'tested': 8011, 'jones': 8012, 'dood': 8013, '30mins': 8014, 'fashioned': 8015, 'chunk': 8016, 'roflmao': 8017, 'trigger': 8018, 'ohwell': 8019, 'herd': 8020, 'welly': 8021, 'missss': 8022, 'annie': 8023, 'speeds': 8024, 'protect': 8025, 'bastards': 8026, 'whisper': 8027, 'bucket': 8028, 'agrees': 8029, 'distracting': 8030, 'shameless': 8031, 'felicia': 8032, 'agile': 8033, 'tad': 8034, 'permanently': 8035, 'mccafe': 8036, 'cigarette': 8037, 'olives': 8038, 'hallelujah': 8039, 'springs': 8040, 'oasis': 8041, 'nimoy': 8042, '3oth': 8043, 'conrad': 8044, 'bandwidth': 8045, 'ooohhh': 8046, 'blackberries': 8047, 'policy': 8048, 'visits': 8049, 'ci': 8050, 'diana': 8051, 'extended': 8052, 'slowest': 8053, 'laps': 8054, 'jizzle': 8055, 'avid': 8056, 'mice': 8057, 'yessss': 8058, 'maker': 8059, 'shorty': 8060, 'matilda': 8061, 'channels': 8062, 'ama': 8063, 'evry1': 8064, 'snakes': 8065, 'jordie': 8066, '123': 8067, 'whatcha': 8068, 'tanned': 8069, 'strategic': 8070, 'acho': 8071, 'miranda': 8072, 'malaysia': 8073, 'developed': 8074, 'invites': 8075, 'boyz': 8076, 'shinning': 8077, '14th': 8078, 'dani': 8079, 'irritated': 8080, 'cof': 8081, 'tomatoes': 8082, 'chihuahua': 8083, 'offspring': 8084, 'eurovision': 8085, 'bron': 8086, 'pasadena': 8087, 'patrol': 8088, 'mocha': 8089, 'speaks': 8090, 'poland': 8091, 'appeared': 8092, 'stewart': 8093, 'underbelly': 8094, 'consumption': 8095, 'gromit': 8096, 'bbc1': 8097, 'confirm': 8098, 'ï¿½6': 8099, 'itagg': 8100, 'cords': 8101, 'noi': 8102, 'labs': 8103, 'stale': 8104, 'retweeted': 8105, 'figures': 8106, 'lined': 8107, 'twittertakeover': 8108, 'myy': 8109, 'keeper': 8110, 'gigantic': 8111, 'oneself': 8112, 'flicks': 8113, 'southend': 8114, 'snapped': 8115, 'waffles': 8116, 'brewed': 8117, 'oj': 8118, 'pinch': 8119, 'julie': 8120, 'scar': 8121, 'sheet': 8122, 'xoxoxo': 8123, 'djs': 8124, 'aggressive': 8125, 'reflection': 8126, 'runners': 8127, 'volunteer': 8128, 'glimpse': 8129, 'terra': 8130, 'themes': 8131, 'shiit': 8132, 'drowned': 8133, 'rubber': 8134, 'eastern': 8135, 'satellite': 8136, 'ox': 8137, 'dots': 8138, 'pampering': 8139, 'processing': 8140, 'absolutly': 8141, 'slot': 8142, 's3': 8143, 'cs4': 8144, '53': 8145, 'bipolar': 8146, 'everr': 8147, 'nanna': 8148, 'fastest': 8149, 'calorie': 8150, 'suncream': 8151, 'seeking': 8152, 'neglect': 8153, 'corporate': 8154, 'lulz': 8155, 'decode': 8156, 'rsvp': 8157, 'playoff': 8158, 'hopelessly': 8159, 'carrier': 8160, 'expenses': 8161, 'visitor': 8162, 'priced': 8163, 'foto': 8164, 'geneva': 8165, 'ethics': 8166, 'thm': 8167, 'kardashian': 8168, 'valid': 8169, 'sudoku': 8170, 'heineken': 8171, 'loveeeee': 8172, 'kindness': 8173, 'bouncing': 8174, 'trans': 8175, 'celebrities': 8176, 'psych': 8177, 'facial': 8178, 'rape': 8179, 'export': 8180, 'onwards': 8181, 'ecstatic': 8182, 'ment': 8183, 'fiasco': 8184, 'boarding': 8185, 'fucker': 8186, 'courtney': 8187, 'association': 8188, 'kan': 8189, 'siya': 8190, 'dreamwidth': 8191, 'campers': 8192, 'timeee': 8193, 'retiring': 8194, 'migraines': 8195, 'heya': 8196, 'vocal': 8197, 'graphics': 8198, 'cupboard': 8199, 'safety': 8200, 'robot': 8201, 'gcse': 8202, 'plugging': 8203, 'compute': 8204, 'tweetstats': 8205, 'withdrawl': 8206, 'element': 8207, 'allright': 8208, 'backk': 8209, 'bambi': 8210, 'canvas': 8211, 'musicians': 8212, 'canadian': 8213, 'bsg': 8214, 'oreos': 8215, 'depresses': 8216, 'unnecessary': 8217, 'xtra': 8218, '67': 8219, 'ringing': 8220, 'omaha': 8221, 'aware': 8222, 'henrie': 8223, 'yearbooks': 8224, 'mars': 8225, 'axe': 8226, 'weee': 8227, 'visitors': 8228, 'recognition': 8229, 'understood': 8230, 'showering': 8231, 'graverobber': 8232, 'yaya': 8233, 'tyra': 8234, 'fallow': 8235, 'banks': 8236, 'wrapping': 8237, 'blunt': 8238, 'wuv': 8239, 'minee': 8240, 'contracts': 8241, 'interviewed': 8242, 'madison': 8243, 'portraits': 8244, 'unintentionally': 8245, 'heated': 8246, 'everbody': 8247, 'peppermint': 8248, 'nekkid': 8249, 'enthusiastic': 8250, 'embarrassing': 8251, 'vhs': 8252, '72': 8253, 'casey': 8254, 'minneapolis': 8255, 'oliver': 8256, 'harold': 8257, 'alley': 8258, 'skipped': 8259, 'chino': 8260, 'philosophical': 8261, 'linkedin': 8262, 'strongly': 8263, 'terms': 8264, 'spymaster': 8265, 'occasionally': 8266, 'chiodos': 8267, 'saynow': 8268, 'jbs': 8269, 'clay': 8270, 'beanie': 8271, 'gq': 8272, 'fu': 8273, 'whining': 8274, 'nott': 8275, '120': 8276, 'montanna': 8277, 'mri': 8278, 'whiny': 8279, 'combine': 8280, 'mccoy': 8281, 'tissue': 8282, 'wonderland': 8283, 'sme': 8284, 'anoying': 8285, 'fruits': 8286, 'ouchies': 8287, 'portable': 8288, 'insanity': 8289, 'century': 8290, 'looooong': 8291, 'das': 8292, 'whipped': 8293, 'mickey': 8294, 'damp': 8295, 'breed': 8296, 'equivalent': 8297, 'statuses': 8298, 'peed': 8299, 'sociology': 8300, 'portsmouth': 8301, 'clapping': 8302, 'vp': 8303, 'bruno': 8304, 'smacked': 8305, 'stressin': 8306, 'knoxville': 8307, 'typed': 8308, 'incase': 8309, 'dins': 8310, 'sososo': 8311, 'tshirts': 8312, 'bball': 8313, 'bulgaria': 8314, 'memorial': 8315, 'excursion': 8316, 'distraction': 8317, 'config': 8318, 'labour': 8319, 'bristol': 8320, 'hummer': 8321, 'manicure': 8322, 'statue': 8323, 'victim': 8324, 'bows': 8325, 'marzipan': 8326, 'izzy': 8327, 'madd': 8328, 'burst': 8329, 'amaze': 8330, 'nobodies': 8331, 'typos': 8332, 'entries': 8333, 'amongst': 8334, 'cheeks': 8335, 'patiently': 8336, 'experiences': 8337, '830': 8338, 'mio': 8339, '11pm': 8340, 'timeline': 8341, 'referring': 8342, 'emoticons': 8343, 'poopy': 8344, 'accounting': 8345, 'tuna': 8346, 'twitted': 8347, 'wheat': 8348, 'choked': 8349, 'wing': 8350, 'scum': 8351, 'choosing': 8352, 'iris': 8353, 'topshop': 8354, 'plague': 8355, 'smackdown': 8356, 'darts': 8357, 'samee': 8358, 'reviewed': 8359, 'freeze': 8360, 'bollywood': 8361, 'presenting': 8362, 'goddamn': 8363, 'giggle': 8364, 'arrange': 8365, 'milkshakes': 8366, 'glove': 8367, 'renewal': 8368, 'existent': 8369, 'titanic': 8370, 'hiking': 8371, 'girlies': 8372, 'comforting': 8373, 'beth': 8374, '1hr': 8375, 'louise': 8376, 'serial': 8377, 'netherlands': 8378, 'swiss': 8379, 'larry': 8380, '70s': 8381, '4get': 8382, 'nfg': 8383, 'htc': 8384, 'adjustment': 8385, 'torta': 8386, 'flown': 8387, 'scotty': 8388, 'michaels': 8389, 'intern': 8390, 'workk': 8391, 'sail': 8392, 'warranty': 8393, 'unleashed': 8394, 'glowing': 8395, 'pickle': 8396, 'engineer': 8397, 'conquered': 8398, 'gabe': 8399, 'approach': 8400, 'juliet': 8401, 'pliers': 8402, 'napa': 8403, 'shoplifting': 8404, 'sweeney': 8405, 'doubled': 8406, 'tattooed': 8407, 'bffs': 8408, 'jose': 8409, 'institute': 8410, 'cent': 8411, 'trumpet': 8412, 'claude': 8413, 'slowing': 8414, 'malaysian': 8415, 'pins': 8416, 'bullet': 8417, 'diapers': 8418, 'hail': 8419, 'natural': 8420, 'bury': 8421, 'journalists': 8422, 'elbow': 8423, 'hammock': 8424, 'featured': 8425, 'diary': 8426, 'includes': 8427, 'genetic': 8428, 'dub': 8429, 'citizen': 8430, 'coated': 8431, 'ruff': 8432, 'bid': 8433, 'records': 8434, 'twat': 8435, 'scale': 8436, 'damaged': 8437, 'rd': 8438, 'vega': 8439, 'wrestler': 8440, 'ip': 8441, 'unavailable': 8442, 'seven': 8443, 'branch': 8444, 'watered': 8445, 'nova': 8446, 'distribution': 8447, 'weathers': 8448, 'fundraiser': 8449, 'poems': 8450, 'overdue': 8451, 'judy': 8452, 'appealing': 8453, 'gio': 8454, 'poking': 8455, 'itches': 8456, 'waverly': 8457, 'sweats': 8458, 'sarcastic': 8459, 'phobia': 8460, 'dentists': 8461, 'ie6': 8462, 'nuttin': 8463, 'calories': 8464, 'preferred': 8465, 'stuffy': 8466, 'excessive': 8467, 'feb': 8468, '23rd': 8469, 'crosses': 8470, 'saddo': 8471, 'grandad': 8472, 'cardiff': 8473, 'fears': 8474, 'favour': 8475, 'teary': 8476, 'religion': 8477, 'confidence': 8478, 'applaud': 8479, 'lush': 8480, 'gauge': 8481, 'ru': 8482, 'kg': 8483, 'disorder': 8484, 'mocking': 8485, 'believes': 8486, 'furry': 8487, 'replys': 8488, 'behaved': 8489, 'compensate': 8490, 'peru': 8491, 'needless': 8492, 'alhamdulillah': 8493, 'spine': 8494, 'sequel': 8495, 'snuggled': 8496, '41': 8497, 'sweater': 8498, 'festivities': 8499, 'howard': 8500, 'colleague': 8501, 'cebu': 8502, 'twatter': 8503, 'commerce': 8504, 'publish': 8505, 'manners': 8506, 'verge': 8507, 'jeez': 8508, 'horrific': 8509, 'extend': 8510, 'sc': 8511, 'violently': 8512, 'suggested': 8513, 'poll': 8514, 'avail': 8515, 'strength': 8516, 'sp2': 8517, 'grumble': 8518, 'cp': 8519, 'flooding': 8520, 'oregon': 8521, 'challenges': 8522, 'lata': 8523, 'reboot': 8524, 'mild': 8525, 'markets': 8526, 'mosquito': 8527, 'sock': 8528, 'aol': 8529, 'skillz': 8530, 'xxxxxxxx': 8531, 'kardashians': 8532, 'eeek': 8533, 'retriever': 8534, 'floors': 8535, 'norway': 8536, 'gelato': 8537, 'spaces': 8538, 'savings': 8539, 'mattress': 8540, '404': 8541, 'brownies': 8542, 'impressions': 8543, 'forbidden': 8544, 'outdoor': 8545, 'shelter': 8546, 'somatic': 8547, 'wacky': 8548, 'totalled': 8549, 'blister': 8550, 'vï¿½': 8551, 'striped': 8552, 'penguins': 8553, 'suicides': 8554, 'dice': 8555, 'cacs': 8556, 'gia': 8557, 'raffle': 8558, 'twhirl': 8559, 'babygirl': 8560, 'sweatshirt': 8561, '930': 8562, 'guinness': 8563, 'multiply': 8564, 'pools': 8565, 'durin': 8566, 'jai': 8567, 'bandwagon': 8568, 'buck': 8569, 'ze': 8570, 'advil': 8571, 'apply': 8572, 'haaa': 8573, 'nga': 8574, 'rlly': 8575, 'flag': 8576, 'qi': 8577, 'communication': 8578, 'lowkey': 8579, 'shipment': 8580, 'relying': 8581, 'zzzz': 8582, 'fiddler': 8583, 'raid': 8584, 'switching': 8585, 'accessible': 8586, 'environmental': 8587, 'understanding': 8588, 'wel': 8589, 'dated': 8590, 'gmt': 8591, 'decorated': 8592, 'wahhhh': 8593, 'han': 8594, 'lane': 8595, 'leicester': 8596, 'privacy': 8597, 'cg': 8598, '2mrw': 8599, 'potus': 8600, 'neglecting': 8601, 'sanity': 8602, 'mane': 8603, 'tanner': 8604, 'sprain': 8605, 'caleb': 8606, 'uggh': 8607, 'batch': 8608, 'dishwasher': 8609, 'soaked': 8610, 'nitey': 8611, 'kathy': 8612, 'tiesto': 8613, 'outlet': 8614, 'racoons': 8615, 'plugs': 8616, 'inlaws': 8617, 'tym': 8618, 'tengo': 8619, 'patchouli': 8620, '132': 8621, '01': 8622, 'settling': 8623, 'kiddies': 8624, 'randoms': 8625, 'shatner': 8626, 'matching': 8627, 'tove': 8628, 'banner': 8629, 'wakeup': 8630, 'maaan': 8631, 'niqht': 8632, 'invented': 8633, 'bouncy': 8634, 'spells': 8635, 'translate': 8636, 'buff': 8637, 'musiq': 8638, 'soulchild': 8639, 'minivan': 8640, 'gossiping': 8641, 'nightlife': 8642, 'jessica': 8643, 'wired': 8644, 'harm': 8645, '40mins': 8646, 'lawyer': 8647, 'lara': 8648, 'eyebrows': 8649, 'pirate': 8650, 'leo': 8651, 'frosty': 8652, 'makati': 8653, 'editors': 8654, 'telecom': 8655, 'poverty': 8656, 'hahahahah': 8657, 'grader': 8658, 'sentences': 8659, 'gino': 8660, 'cheddar': 8661, 'bats': 8662, 'wating': 8663, 'chaos': 8664, 'breeze': 8665, 'leaks': 8666, 'gummy': 8667, 'liquor': 8668, 'brightens': 8669, 'jailbreak': 8670, 'twitterena': 8671, 'angelina': 8672, 'altho': 8673, 'yee': 8674, 'chop': 8675, '21st': 8676, 'unemployment': 8677, 'carbs': 8678, 'folk': 8679, 'islands': 8680, 'spooky': 8681, 'fantasy': 8682, 'bri': 8683, '110': 8684, 'funk': 8685, 'slipped': 8686, 'du': 8687, 'camper': 8688, 'placed': 8689, 'tp': 8690, 'evans': 8691, 'awarded': 8692, 'hive': 8693, 'locate': 8694, 'tester': 8695, 'stunned': 8696, 'findings': 8697, 'echo': 8698, 'gw': 8699, 'tomarrow': 8700, 'wasabi': 8701, 'slaving': 8702, 'boyle': 8703, 'smallville': 8704, 'bumps': 8705, 'swineflu': 8706, 'knighty': 8707, 'glitter': 8708, 'babysit': 8709, 'vision': 8710, 'midnite': 8711, 'libby': 8712, 'craigslist': 8713, 'illness': 8714, 'gibbs': 8715, 'graham': 8716, 'mwah': 8717, 'revolution': 8718, 'sword': 8719, 'tscc': 8720, 'divorce': 8721, 'tasted': 8722, 'tj': 8723, 'vivid': 8724, 'sleeve': 8725, 'sole': 8726, 'legally': 8727, 'knuckle': 8728, 'pavement': 8729, 'debut': 8730, 'stalkers': 8731, 'geo': 8732, 'sally': 8733, 'xxxxxxxxxx': 8734, 'dsi': 8735, 'reli': 8736, 'shld': 8737, 'philadelphia': 8738, 'hinder': 8739, 'omggg': 8740, 'storming': 8741, 'interests': 8742, 'lettuce': 8743, 'kaput': 8744, 'fiesta': 8745, '101': 8746, 'noises': 8747, 'monk': 8748, 'h8': 8749, 'wwe': 8750, 'queries': 8751, 'voodoo': 8752, 'finest': 8753, 'rr': 8754, 'woody': 8755, 'ovi': 8756, 'boiled': 8757, 'ftp': 8758, 'someones': 8759, 'costly': 8760, 'ticketmaster': 8761, 'transportation': 8762, 'discussions': 8763, 'cheesey': 8764, 'shitttt': 8765, 'bracket': 8766, 'claire': 8767, 'lipstick': 8768, 'uhhh': 8769, 'lettin': 8770, 'freeway': 8771, 'attic': 8772, 'nearby': 8773, 'bhb': 8774, 'cologne': 8775, 'indonesia': 8776, 'tackle': 8777, 'stil': 8778, 'carr': 8779, 'nonsense': 8780, 'wo': 8781, 'notch': 8782, 'jï¿½': 8783, 'lite': 8784, 'resort': 8785, '34': 8786, 'percentage': 8787, 'okc': 8788, 'sucksss': 8789, 'ro': 8790, 'yeaahh': 8791, 'parvo': 8792, 'barnes': 8793, 'arre': 8794, 'cabbage': 8795, 'tehe': 8796, 'suspicious': 8797, 'hundreds': 8798, 'answering': 8799, 'sunbathing': 8800, 'baths': 8801, 'http': 8802, 'drowsy': 8803, 'tres': 8804, 'biting': 8805, 'feeeel': 8806, 'topped': 8807, 'yaayy': 8808, 'flops': 8809, 'method': 8810, 'uu': 8811, 'whispering': 8812, 'greys': 8813, 'sm': 8814, 'phantom': 8815, 'goody': 8816, 'secrets': 8817, 'ck': 8818, 'sleepless': 8819, 'vpn': 8820, 'yeaaaah': 8821, 'spaghetti': 8822, 'molar': 8823, 'stings': 8824, 'businesses': 8825, 'sicker': 8826, 'mas': 8827, 'precise': 8828, 'suicide': 8829, 'faves': 8830, 'lott': 8831, 'dunkin': 8832, 'reno': 8833, 'mails': 8834, 'funnnn': 8835, 'pg': 8836, 'ooops': 8837, 'speedy': 8838, 'gap': 8839, 'morphine': 8840, 'sammy': 8841, 'heyyyyy': 8842, 'nowt': 8843, 'agenda': 8844, 'moring': 8845, 'audrey': 8846, 'los': 8847, 'backs': 8848, 'cubes': 8849, 'ferry': 8850, 'rez': 8851, 'grandkids': 8852, 'requested': 8853, 'quoted': 8854, 'spiritual': 8855, 'horde': 8856, 'gooooooood': 8857, 'alt': 8858, 'warner': 8859, 'border': 8860, 'riverside': 8861, 'tipsy': 8862, 'mba': 8863, 'beck': 8864, 'pastor': 8865, 'gutter': 8866, 'deals': 8867, 'supporter': 8868, 'bridal': 8869, 'bonjour': 8870, 'takn': 8871, 'lautner': 8872, 'pastors': 8873, 'playoffs': 8874, 'visible': 8875, 'lexus': 8876, 'collecting': 8877, 'leica': 8878, 'teaser': 8879, 'awoke': 8880, 'fallon': 8881, 'nearest': 8882, 'chunky': 8883, 'historical': 8884, 'hers': 8885, 'forgets': 8886, 'fic': 8887, 'drip': 8888, 'flavour': 8889, 'nao': 8890, 'naturally': 8891, 'bosses': 8892, 'kawawa': 8893, 'anticipation': 8894, 'joys': 8895, 'cambodian': 8896, 'thames': 8897, 'dill': 8898, 'scratchy': 8899, 'footage': 8900, 'staples': 8901, 'fellows': 8902, 'dota': 8903, 'leighton': 8904, 'meester': 8905, 'greatly': 8906, 'redesigned': 8907, 'runner': 8908, 'itsucks': 8909, 'menace': 8910, 'ultimatum': 8911, 'tweep': 8912, 'thanking': 8913, 'copenhagen': 8914, 'fewer': 8915, 'bose': 8916, 'pantry': 8917, 'cna': 8918, 'explicitly': 8919, 'threads': 8920, 'hurdle': 8921, 'crs': 8922, 'grabe': 8923, 'minnesoooooooota': 8924, 'cliquot': 8925, 'roadtrip': 8926, '4a': 8927, 'royals': 8928, 'transmitter': 8929, 'mï¿½y': 8930, 'alejandra': 8931, 'receipt': 8932, 'formatting': 8933, 'porto': 8934, 'chow': 8935, 'noooowww': 8936, 'scrabble': 8937, 'hottt': 8938, 'stoned': 8939, 'electrik': 8940, 'reconnect': 8941, 'sads': 8942, 'rn': 8943, 'poison': 8944, 'endure': 8945, 'rig': 8946, 'values': 8947, 'browse': 8948, 'boise': 8949, 'tabs': 8950, 'pooch': 8951, 'nickleback': 8952, 'hike': 8953, 'bodyshop': 8954, 'takeaway': 8955, 'spork': 8956, 'indulge': 8957, '90s': 8958, 'vomit': 8959, 'knowwww': 8960, 'juga': 8961, 'hihi': 8962, 'frosties': 8963, 'phillies': 8964, 'btwn': 8965, 'tng': 8966, 'whover': 8967, 'scent': 8968, 'greatness': 8969, 'qood': 8970, 'kwod': 8971, 'kh': 8972, 'adoro': 8973, 'banda': 8974, 'airports': 8975, 'simplicity': 8976, 'askin': 8977, 'keepin': 8978, 'munchin': 8979, 'lottery': 8980, 'greensboro': 8981, 'koreans': 8982, 'mindddd': 8983, 'logically': 8984, 'discs': 8985, 'veronicas': 8986, 'solved': 8987, 'couches': 8988, 'newtown': 8989, 'compilation': 8990, 'territory': 8991, 'interface': 8992, 'heath': 8993, 'elephants': 8994, 'subs': 8995, 'busiest': 8996, 'reynolds': 8997, 'advantages': 8998, 'licensing': 8999, 'isp': 9000, 'stir': 9001, 'mixer': 9002, 'yself': 9003, 'achievement': 9004, 'occured': 9005, 'sirens': 9006, 'trucks': 9007, 'punching': 9008, 'brendon': 9009, 'eastenders': 9010, 'catalog': 9011, 'appearing': 9012, 'sooon': 9013, 'ned': 9014, 'corps': 9015, 'busting': 9016, 'parallel': 9017, 'stevens': 9018, 'nicked': 9019, 'stripper': 9020, 'brixton': 9021, 'downs': 9022, 'fakin': 9023, 'eeeeeee': 9024, 'opens': 9025, 'transparency': 9026, 'ferret': 9027, 'yg': 9028, 'barnsley': 9029, 'goingto': 9030, 'childrens': 9031, 'realllly': 9032, 'outa': 9033, 'mar': 9034, 'orillia': 9035, 'mailing': 9036, 'jojo': 9037, 'divine': 9038, 'directors': 9039, 'wander': 9040, '1s': 9041, 'swedes': 9042, 'funtime': 9043, 'kiyosaki': 9044, 'okayyy': 9045, 'regime': 9046, 'pours': 9047, 'distract': 9048, 'mccain': 9049, 'gently': 9050, 'journals': 9051, 'virginity': 9052, 'shells': 9053, 'microbes': 9054, 'skinned': 9055, 'migrating': 9056, 'pom': 9057, 'paw': 9058, 'gaah': 9059, 'woops': 9060, 'chorus': 9061, 'restless': 9062, 'wealthy': 9063, 'dodger': 9064, 'mosque': 9065, 'yankees': 9066, 'providers': 9067, 'venture': 9068, 'vc': 9069, 'momo': 9070, 'wayyyy': 9071, 'angie': 9072, 'groundhog': 9073, 'soco': 9074, 'eliminated': 9075, 'locals': 9076, 'introducing': 9077, 'ren': 9078, 'exploded': 9079, 'humbug': 9080, 'sunblock': 9081, 'destiny': 9082, 'lappytop': 9083, 'teeny': 9084, 'honda': 9085, 'gus': 9086, 'sherri': 9087, 'shadez': 9088, 'everone': 9089, 'tuck': 9090, 'dock': 9091, 'willie': 9092, 'afaik': 9093, 'liner': 9094, '371': 9095, 'violated': 9096, 'timee': 9097, 'stag': 9098, 'broncos': 9099, 'rotting': 9100, 'jogs': 9101, 'lonley': 9102, 'livingroom': 9103, 'samuel': 9104, 'gila': 9105, 'cosmo': 9106, 'joyfull': 9107, 'drizzling': 9108, 'mimis': 9109, 'iii': 9110, 'loove': 9111, 'abuzz': 9112, '2001': 9113, 'monthly': 9114, 'marbella': 9115, 'borrowing': 9116, 'quarters': 9117, 'aaawww': 9118, 'defense': 9119, 'anddd': 9120, 'instantly': 9121, 'lovelovelove': 9122, 'snuggie': 9123, 'woooooo': 9124, 'beads': 9125, 'mentality': 9126, 'miiself': 9127, 'acronym': 9128, '00pm': 9129, 'positivity': 9130, 'notebooks': 9131, 'hoes': 9132, 'dakota': 9133, 'influence': 9134, 'conscience': 9135, 'nations': 9136, 'domains': 9137, 'packaging': 9138, 'javascript': 9139, 'harmless': 9140, 'imho': 9141, 'rollerskate': 9142, 'petey': 9143, 'advertise': 9144, 'harpers': 9145, 'indoor': 9146, 'yesh': 9147, 'firefly': 9148, 'evicted': 9149, 'naww': 9150, 'safer': 9151, 'hmmmmmmm': 9152, 'swoon': 9153, 'considerably': 9154, 'thy': 9155, 'insulin': 9156, 'discovering': 9157, 'patricia': 9158, 'waikiki': 9159, 'borrowed': 9160, 'demands': 9161, 'arrr': 9162, 'andre': 9163, 'killen': 9164, 'tomorrows': 9165, 'vibrations': 9166, 'whens': 9167, 'sherbert': 9168, 'twikini': 9169, 'wuz': 9170, 'gor': 9171, 'permission': 9172, 'phd': 9173, 'chandler': 9174, 'waaaa': 9175, 'cater': 9176, 'yorker': 9177, 'judith': 9178, 'mustard': 9179, 'hints': 9180, 'clues': 9181, 'detail': 9182, 'stuart': 9183, 'containing': 9184, 'bryant': 9185, 'lafayette': 9186, 'abroad': 9187, 'niamh': 9188, 'congratulation': 9189, 'pennsylvania': 9190, 'toilets': 9191, 'matched': 9192, 'wgn': 9193, 'airing': 9194, 'shouting': 9195, 'tunage': 9196, 'chomp': 9197, 'tweety': 9198, 'cliff': 9199, 'carrying': 9200, 'pointy': 9201, 'robina': 9202, 'tacky': 9203, 'alo': 9204, 'hull': 9205, 'animating': 9206, 'brewers': 9207, 'blonding': 9208, '5500': 9209, 'botcon': 9210, 'nymph': 9211, 'fantabulous': 9212, 'pusher': 9213, 'mimi': 9214, 'herb': 9215, 'sill': 9216, 'googling': 9217, 'num': 9218, 'pedometer': 9219, 'burden': 9220, 'kubuntu': 9221, 'recoup': 9222, 'silverlight': 9223, 'toured': 9224, 'outdoors': 9225, 'gpu': 9226, '330': 9227, '131': 9228, 'ratings': 9229, 'thistle': 9230, 'marilyn': 9231, 'basics': 9232, 'analysis': 9233, 'increase': 9234, 'immediate': 9235, 'tearing': 9236, 'tweaking': 9237, 'preparation': 9238, '12st': 9239, 'mish': 9240, 'troubleshooting': 9241, 'pharmacy': 9242, 'godd': 9243, 'zulu': 9244, '2gether': 9245, 'gloves': 9246, 'cancled': 9247, 'humming': 9248, 'silverstone': 9249, 'bitchy': 9250, 'pratical': 9251, 'becos': 9252, 'skola': 9253, 'impt': 9254, 'audit': 9255, 'sickee': 9256, 'mcmuffin': 9257, 'pembroke': 9258, 'failures': 9259, 'shish': 9260, 'lahiran': 9261, 'kayaknya': 9262, 'ini': 9263, 'bastos': 9264, 'regal': 9265, 'vaccines': 9266, 'sameee': 9267, 'catcher': 9268, 'inappropriate': 9269, 'hijacked': 9270, 'gorilla': 9271, 'swearing': 9272, 'truely': 9273, 'spammer': 9274, 'awhh': 9275, 'meditate': 9276, 'chingo': 9277, 'acceptance': 9278, 'thermometer': 9279, 'screws': 9280, 'roger': 9281, 'waters': 9282, 'provoke': 9283, 'decaf': 9284, 'hangovers': 9285, 'sleeper': 9286, 'risking': 9287, 'agency': 9288, 'winding': 9289, 'duc': 9290, 'adrenaline': 9291, 'marisa': 9292, 'youuuuu': 9293, 'snappy': 9294, 'maxwell': 9295, 'noida': 9296, 'scattergood': 9297, '40min': 9298, 'cu': 9299, 'qik': 9300, 'fathom': 9301, 'paintings': 9302, 'sophomore': 9303, 'tellin': 9304, 'outfitters': 9305, 'catches': 9306, 'jacob': 9307, 'squishy': 9308, 'cracker': 9309, 'mischevious': 9310, 'fallin': 9311, 'mariage': 9312, 'welll': 9313, 'aug': 9314, '19th': 9315, 'roughly': 9316, 'uhhhh': 9317, 'playah': 9318, 'shawty': 9319, 'misty': 9320, 'healthcare': 9321, 'io': 9322, 'fuckers': 9323, 'burfday': 9324, 'sw': 9325, 'tiles': 9326, 'pigeon': 9327, 'meu': 9328, 'jip': 9329, 'warwick': 9330, 'eta': 9331, 'tries': 9332, 'tay': 9333, 'everton': 9334, 'cancelling': 9335, 'kimmy': 9336, 'callback': 9337, 'techie': 9338, 'liek': 9339, 'upwards': 9340, 'iva': 9341, 'ixigo': 9342, 'kiddos': 9343, 'grills': 9344, 'eeee': 9345, 'df': 9346, 'whatï¿½s': 9347, 'shouldve': 9348, 'taylors': 9349, 'charley': 9350, 'in2': 9351, 'rye': 9352, 'stimulate': 9353, 'variety': 9354, 'coool': 9355, 'brutal': 9356, 'bases': 9357, 'pffff': 9358, 'msft': 9359, 'seventh': 9360, 'landing': 9361, 'jumpstart': 9362, 'competitive': 9363, 'slaves': 9364, 'reyes': 9365, 'yip': 9366, 'dodgy': 9367, 'mammals': 9368, 'ketchup': 9369, 'heathrow': 9370, 'directing': 9371, 'aaa': 9372, 'cheetos': 9373, 'monsoon': 9374, '98': 9375, 'heey': 9376, 'soooon': 9377, 'himm': 9378, 'nerds': 9379, 'republish': 9380, 'driven': 9381, 'lemsip': 9382, 'seatbelt': 9383, 'bates': 9384, 'oracle': 9385, 'gail': 9386, 'lookbook': 9387, 'inclined': 9388, 'pheasant': 9389, '54': 9390, 'downing': 9391, 'dismal': 9392, 'reject': 9393, 'pace': 9394, 'lifestyle': 9395, 'princeton': 9396, 'smashing': 9397, 'architecture': 9398, 'nvidia': 9399, 'spank': 9400, 'fuji': 9401, 'cincinnati': 9402, 'discontinued': 9403, 'tofu': 9404, 'joes': 9405, 'foxy': 9406, 'weer': 9407, 'float': 9408, 'seized': 9409, 'goto': 9410, 'chemicals': 9411, 'malware': 9412, 'fressshman': 9413, 'tuff': 9414, 'dindin': 9415, 'righ': 9416, 'splurge': 9417, 'lice': 9418, 'outbreak': 9419, 'affected': 9420, 'callum': 9421, 'sequels': 9422, 'franklin': 9423, 'wain': 9424, 'hamptons': 9425, 'wwdc': 9426, 'caca': 9427, 'sta': 9428, 'pms': 9429, 'moustache': 9430, 'installation': 9431, 'lewis': 9432, 'drake': 9433, 'badmicrosoft': 9434, 'exercises': 9435, 'onstage': 9436, 'cheerleading': 9437, 'foreverrr': 9438, 'crow': 9439, 'pupils': 9440, 'flames': 9441, 'origami': 9442, 'composition': 9443, 'everrr': 9444, 'unreliable': 9445, 'athletic': 9446, 'tribute': 9447, 'lng': 9448, 'mason': 9449, '100000000000000000000000000000000000': 9450, 'ocd': 9451, 'ire': 9452, 'mercedes': 9453, 'spite': 9454, 'sketch': 9455, 'catwalk': 9456, 'programming': 9457, 'maï¿½': 9458, 'hc': 9459, 'testers': 9460, 'brandi': 9461, 'carlile': 9462, 'approximately': 9463, 'nï¿½o': 9464, 'fasho': 9465, 'aced': 9466, 'addy': 9467, 'muna': 9468, 'absent': 9469, 'elk': 9470, 'bien': 9471, 'fractured': 9472, 'analytics': 9473, 'pickings': 9474, 'madrigals': 9475, 'jelous': 9476, 'iphones': 9477, 'wool': 9478, 'ambers': 9479, 'luis': 9480, 'engage': 9481, 'grans': 9482, 'mbb': 9483, 'mcflys': 9484, 'palin': 9485, 'happyyyy': 9486, 'dq': 9487, '3lbs': 9488, 'aberdeen': 9489, 'rubs': 9490, 'tension': 9491, 'emm': 9492, 'colder': 9493, 'stll': 9494, '333333333': 9495, 'nightt': 9496, 'mommie': 9497, 'invest': 9498, 'ion': 9499, 'fey': 9500, 'hitman': 9501, '320': 9502, 'scenario': 9503, 'roo': 9504, 'tottaly': 9505, 'birdies': 9506, 'wok': 9507, 'matey': 9508, 'jinxed': 9509, 'tinytwitter': 9510, 'newsletter': 9511, 'yourz': 9512, '250gb': 9513, 'raimi': 9514, 'meeeeeeee': 9515, 'flashback': 9516, 'marijuana': 9517, 'tm': 9518, 'approve': 9519, 'summit': 9520, 'workload': 9521, 'bounds': 9522, 'nou': 9523, 'appstore': 9524, 'lv': 9525, 'toasty': 9526, 'rawk': 9527, 'loic': 9528, 'immune': 9529, 'newborns': 9530, '10mins': 9531, 'nickname': 9532, 'trist': 9533, 'annnnd': 9534, 'spew': 9535, 'adium': 9536, 'raped': 9537, 'planting': 9538, 'brighten': 9539, 'prima': 9540, 'maternity': 9541, 'cuzz': 9542, 'upp': 9543, 'omq': 9544, 'iss': 9545, 'blended': 9546, 'hats': 9547, 'oakland': 9548, 'refrigerator': 9549, 'iight': 9550, 'panties': 9551, 'mpre': 9552, 'evr': 9553, 'oberhausen': 9554, 'beijing': 9555, 'clair': 9556, 'assigned': 9557, 'cruises': 9558, 'massages': 9559, 'shutting': 9560, 'cystic': 9561, 'shooter': 9562, 'pattinson': 9563, 'lsat': 9564, 'outage': 9565, 'milwaukee': 9566, 'wider': 9567, 'wook': 9568, 'unhealthy': 9569, 'reservation': 9570, 'nurofen': 9571, 'hum': 9572, 'horizon': 9573, 'nesse': 9574, 'frineds': 9575, 'compliments': 9576, 'header': 9577, 'sicky': 9578, 'tinh': 9579, 'lï¿½m': 9580, 'stumble': 9581, 'nighttt': 9582, 'auction': 9583, 'cert': 9584, 'dolphins': 9585, 'humm': 9586, 'grading': 9587, 'amt': 9588, 'mediocre': 9589, 'nervousness': 9590, 'nurses': 9591, 'wich': 9592, 'sr': 9593, 'shaving': 9594, 'fundamentals': 9595, 'savvy': 9596, 'spoilers': 9597, 'challenger': 9598, 'aots': 9599, 'ambience': 9600, 'alli': 9601, 'experienced': 9602, 'striker': 9603, 'evo': 9604, 'declined': 9605, 'pianist': 9606, 'floss': 9607, 'youuuuuu': 9608, 'lik': 9609, 'activities': 9610, 'bulb': 9611, '220': 9612, 'howeva': 9613, 'durian': 9614, 'christa': 9615, 'estas': 9616, 'vw': 9617, 'sowwwy': 9618, 'grant': 9619, 'clash': 9620, 'clinton': 9621, 'wretched': 9622, 'wvbr': 9623, 'blockheads': 9624, 'teething': 9625, 'untuk': 9626, 'namaskar': 9627, 'namaste': 9628, 'marathi': 9629, 'choke': 9630, 'amadeus': 9631, 'opposite': 9632, 'spice': 9633, 'sausages': 9634, 'sami': 9635, 'resolve': 9636, 'padang': 9637, 'whit': 9638, 'categories': 9639, 'priest': 9640, 'featuring': 9641, 'huntsville': 9642, 'grave': 9643, 'nyt': 9644, 'council': 9645, 'manga': 9646, 'invention': 9647, 'sawwy': 9648, '60gb': 9649, 'weights': 9650, 'hooo': 9651, 'shirtless': 9652, 'tjoe': 9653, 'finance': 9654, 'stepping': 9655, 'elliott': 9656, 'blipping': 9657, 'collaboration': 9658, 'quesadillas': 9659, 'reserve': 9660, 'beagle': 9661, 'muss': 9662, 'fatboy': 9663, 'boil': 9664, 'nadine': 9665, 'stamp': 9666, 'checkup': 9667, 'lollll': 9668, 'yearrrr': 9669, 'tish': 9670, 'gibb': 9671, 'thu': 9672, 'dummy': 9673, 'marta': 9674, 'cincy': 9675, 'itd': 9676, 'succesful': 9677, 'panthers': 9678, 'saints': 9679, 'tmz': 9680, 'dippin': 9681, 'workaholic': 9682, 'hiiii': 9683, 'ash': 9684, 'ruled': 9685, 'unlock': 9686, 'cramp': 9687, 'zu': 9688, 'sneezed': 9689, 'songwriter': 9690, 'deposited': 9691, 'vcr': 9692, 'crossfit': 9693, 'mcast': 9694, 'snd': 9695, 'kiwi': 9696, 'notorious': 9697, 'tightly': 9698, 'vfc': 9699, 'docks': 9700, 'ape': 9701, 'slut': 9702, 'tramp': 9703, '143': 9704, 'hasta': 9705, 'hem': 9706, 'ï¿½y': 9707, 'ï¿½i': 9708, 'bibi': 9709, 'trï¿½i': 9710, 'cï¿½y': 9711, 'mochi': 9712, 'sooooon': 9713, 'sting': 9714, 'intelligent': 9715, 'favourites': 9716, 'lint': 9717, 'endorsement': 9718, 'biking': 9719, 'dependencies': 9720, 'brew': 9721, 'engulfed': 9722, 'fag': 9723, 'hala': 9724, 'lumberjack': 9725, 'w8': 9726, 'gland': 9727, 'yeaaah': 9728, 'baguio': 9729, 'fray': 9730, 'wardrobe': 9731, 'redneck': 9732, 'sins': 9733, 'myka': 9734, 'marries': 9735, 'slack': 9736, 'buys': 9737, 'hehehehehe': 9738, 'legitimate': 9739, 'aboard': 9740, 'wesley': 9741, 'nahh': 9742, 'paracetamol': 9743, 'capes': 9744, 'disgraced': 9745, 'miso': 9746, '311': 9747, 'byeeee': 9748, 'burr': 9749, 'sneeze': 9750, 'hanna': 9751, 'hte': 9752, 'relient': 9753, 'aaaaahhhh': 9754, 'baron': 9755, 'hassle': 9756, 'weary': 9757, 'khï¿½a': 9758, 'neice': 9759, 'paula': 9760, 'mono': 9761, 'sands': 9762, 'oopsie': 9763, 'ashleigh': 9764, 'soonish': 9765, 'ao': 9766, 'cuuute': 9767, 'initials': 9768, 'soulmate': 9769, 'fcking': 9770, 'trendy': 9771, 'forwarded': 9772, 'phils': 9773, 'usage': 9774, 'wayyyyyy': 9775, 'truffles': 9776, 'aqui': 9777, 'resteraunt': 9778, 'trinity': 9779, 'fridaay': 9780, 'summary': 9781, 'jell': 9782, 'yuu': 9783, 'fresno': 9784, 'solve': 9785, 'macadamia': 9786, 'gmorning': 9787, 'testimonial': 9788, 'crud': 9789, 'prior': 9790, 'greasy': 9791, 'everyoneeeee': 9792, 'geee': 9793, 'centro': 9794, 'transfered': 9795, 'smelly': 9796, 'cooperate': 9797, 'lcd': 9798, 'lalala': 9799, 'kurang': 9800, 'tidur': 9801, 'deh': 9802, 'hari': 9803, 'fricking': 9804, 'solves': 9805, 'expense': 9806, 'rem': 9807, 'avi': 9808, 'mari': 9809, 'whin': 9810, 'bloom': 9811, 'queer': 9812, 'rotation': 9813, 'wraps': 9814, 'believing': 9815, 'lunching': 9816, 'trojan': 9817, 'intake': 9818, 'charts': 9819, 'beards': 9820, 'springtime': 9821, 'solitaire': 9822, 'annas': 9823, 'crikey': 9824, 'rouge': 9825, 'tabloid': 9826, 'headlines': 9827, 'investigation': 9828, 'conchords': 9829, 'ted': 9830, 'republic': 9831, 'ciroc': 9832, 'grubby': 9833, 'ahn': 9834, 'reviewing': 9835, 'attract': 9836, '5mins': 9837, 'alexa': 9838, 'mischief': 9839, 'grants': 9840, 'cocoa': 9841, 'provides': 9842, 'hotels': 9843, 'agreement': 9844, 'snob': 9845, 'tal': 9846, 'gal': 9847, 'e71': 9848, 'reluctantly': 9849, 'perky': 9850, 'magnet': 9851, 'dps': 9852, 'soar': 9853, 'groom': 9854, 'ir': 9855, 'selves': 9856, 'oatmeal': 9857, 'kde': 9858, 'overwhelming': 9859, 'giraffe': 9860, 'sundress': 9861, 'dorm': 9862, 'unread': 9863, 'tayo': 9864, 'flock': 9865, 'unopened': 9866, 'jamming': 9867, 'appology': 9868, 'oin': 9869, 'cynthia': 9870, 'prodigy': 9871, 'lester': 9872, 'redeem': 9873, 'meningitis': 9874, 'hotdog': 9875, 'northland': 9876, 'welts': 9877, 'thay': 9878, 'rember': 9879, 'trough': 9880, 'technique': 9881, 'afterward': 9882, 'younge': 9883, 'weho': 9884, 'handling': 9885, 'holdin': 9886, 'collapses': 9887, 'impose': 9888, 'tables': 9889, 'tri': 9890, 'fights': 9891, 'gs': 9892, 'kathleen': 9893, 'raider': 9894, 'hercules': 9895, 'alexi': 9896, 'mh': 9897, 'secondary': 9898, '182': 9899, 'ericka': 9900, 'ambiguous': 9901, 'cottage': 9902, 'psst': 9903, 'monkeys': 9904, 'supa': 9905, 'deangeloredman': 9906, 'declare': 9907, 'rafferty': 9908, 'douchebag': 9909, 'clemson': 9910, 'horrors': 9911, 'captive': 9912, 'begining': 9913, 'accadentally': 9914, 'straightening': 9915, 'medal': 9916, 'treasures': 9917, 'tunnel': 9918, 'onee': 9919, 'copier': 9920, 'tennant': 9921, 'strained': 9922, 'scones': 9923, 'poet': 9924, 'nomore': 9925, 'pervs': 9926, 'travesty': 9927, 'sleeeping': 9928, 'vincent': 9929, 'rejects': 9930, 'magazines': 9931, 'winwood': 9932, 'clapton': 9933, 'nash': 9934, 'detour': 9935, 'bulmers': 9936, 'magners': 9937, 'pear': 9938, 'mir': 9939, 'balloons': 9940, 'josie': 9941, 'mangoes': 9942, 'ignorant': 9943, 'ak': 9944, 'audioboo': 9945, 'vim': 9946, 'ayo': 9947, '2nyt': 9948, 'lmfaoooo': 9949, 'connoisseur': 9950, 'photovia': 9951, 'novusnovendo': 9952, 'verry': 9953, 'kirby': 9954, 'kart': 9955, 'tipping': 9956, 'stare': 9957, 'assumes': 9958, 'gavin': 9959, 'skylit': 9960, 'ef': 9961, 'effy': 9962, 'sic': 9963, 'spreadsheets': 9964, 'rohan': 9965, 'bklyn': 9966, 'lube': 9967, 'refunds': 9968, 'thief': 9969, 'hacks': 9970, 'topgear': 9971, 'eerie': 9972, 'sumone': 9973, 'overdid': 9974, 'imy': 9975, 'buu': 9976, 'buddhist': 9977, 'helicopter': 9978, 'dustin': 9979, 'noggin': 9980, 'nazi': 9981, 'misconstrued': 9982, 'qs': 9983, 'assumptions': 9984, 'numb3rs': 9985, 'sprinkler': 9986, 'towels': 9987, 'dawwwwwwwwwwwwn': 9988, 'gta4': 9989, 'memes': 9990, 'develop': 9991, 'apathetic': 9992, 'endlessly': 9993, 'gen': 9994, 'lok': 9995, 'stones': 9996, 'layin': 9997, 'emotionally': 9998, 'wank': 9999, 'poofy': 10000, 'shoud': 10001, 'suitcase': 10002, 'urbana': 10003, 'shields': 10004, 'advertisement': 10005, 'bbm': 10006, 'eventhough': 10007, 'guard': 10008, 'hawk': 10009, 'subscribed': 10010, 'raj': 10011, 'bandit': 10012, 'crust': 10013, 'toooooo': 10014, 'sew': 10015, 'icing': 10016, 'tweeet': 10017, 'grooveshark': 10018, 'tourney': 10019, '28th': 10020, 'smokes': 10021, 'estimate': 10022, 'liesgirlstell': 10023, 'tang': 10024, 'groupie': 10025, 'heartbreaking': 10026, 'missus': 10027, 'calcutta': 10028, 'nancy': 10029, 'wegmans': 10030, 'quess': 10031, 'cory': 10032, 'speakeasy': 10033, 'supervise': 10034, 'converter': 10035, 'whales': 10036, 'strict': 10037, 'shepherd': 10038, 'deprived': 10039, 'tayla': 10040, 'showtime': 10041, 'osaka': 10042, 'spayed': 10043, 'pleeeeease': 10044, 'bananas': 10045, 'pyjamas': 10046, 'teletubbies': 10047, 'unc': 10048, 'oxymoron': 10049, 'ensure': 10050, 'sccr18': 10051, 'yacht': 10052, 'motherï¿½s': 10053, 'outstanding': 10054, 'colbert': 10055, 'kiis': 10056, 'cole': 10057, 'angus': 10058, 'impact': 10059, 'mercury': 10060, 'wasup': 10061, 'dahling': 10062, 'phillip': 10063, 'geometry': 10064, 'omelette': 10065, 'feast': 10066, 'potentially': 10067, 'reunited': 10068, 'gretel': 10069, 'utiful': 10070, 'genre': 10071, 'primary': 10072, 'cowbell': 10073, 'deaths': 10074, 'damnnn': 10075, 'mikee': 10076, 'serena': 10077, 'longg': 10078, 'wavves': 10079, 'oli': 10080, 'tiz': 10081, 'shotgun': 10082, 'kazim': 10083, 'faint': 10084, 'lyin': 10085, 'ladiez': 10086, 'withdrawal': 10087, 'sluggish': 10088, 'anyday': 10089, 'kristen': 10090, 'disturbance': 10091, 'hokey': 10092, 'everythin': 10093, 'computing': 10094, 'hillsong': 10095, 'warhammer': 10096, 'ud': 10097, 'eew': 10098, '15mins': 10099, 'whee': 10100, 'cbeebies': 10101, 'chinatown': 10102, 'ruler': 10103, 'nico': 10104, '1984': 10105, 'keyword': 10106, 'bask': 10107, 'creeping': 10108, 'intolerant': 10109, 'trilogy': 10110, 'butttt': 10111, 'muster': 10112, 'ehh': 10113, '2m': 10114, 'bmth': 10115, 'tew': 10116, 'insist': 10117, 'inhaler': 10118, 'aside': 10119, 'traumatized': 10120, 'duet': 10121, 'hysterical': 10122, 'linked': 10123, 'sched': 10124, 'wolfram': 10125, 'casual': 10126, 'publishers': 10127, 'wd': 10128, 'everrrr': 10129, 'repierced': 10130, 'cleanin': 10131, 'safeway': 10132, 'chiro': 10133, 'kangaroo': 10134, 'invalid': 10135, 'species': 10136, 'spf': 10137, 'shaken': 10138, 'coal': 10139, 'pesky': 10140, 'gracious': 10141, 'helsinki': 10142, 'buses': 10143, 'autographs': 10144, 'neuroanatomy': 10145, 'neuro': 10146, 'ashleighhh': 10147, 'raft': 10148, 'virtually': 10149, 'getcha': 10150, 'drea': 10151, 'chennai': 10152, 'beneath': 10153, 'cornerstone': 10154, 'decemberists': 10155, 'momz': 10156, 'touches': 10157, 'cholesterol': 10158, 'tumors': 10159, 'efron': 10160, 'isabelle': 10161, 'emotion': 10162, 'heheee': 10163, 'embarrass': 10164, 'wiping': 10165, 'cynical': 10166, 'allegra': 10167, 'tonic': 10168, 'drinker': 10169, 'publishing': 10170, 'muji': 10171, 'enthusiasm': 10172, 'architect': 10173, 'pinkberry': 10174, 'sickkk': 10175, 'singles': 10176, 'cuss': 10177, 'idkkkk': 10178, 'systems': 10179, 'smoothly': 10180, '2hrs': 10181, 'grinning': 10182, 'cowell': 10183, 'reflux': 10184, 'hilly': 10185, 'destroyed': 10186, 'civilisation': 10187, 'alzheimer': 10188, 'beverly': 10189, 'lonq': 10190, 'xxoo': 10191, 'odyssey': 10192, 'rrod': 10193, 'todayyyyyy': 10194, 'baddie': 10195, 'emailing': 10196, 'pampered': 10197, 'hahhaha': 10198, 'sweeny': 10199, 'pablo': 10200, 'iim': 10201, 'spammed': 10202, 'retweeting': 10203, 'dental': 10204, 'naming': 10205, 'byeee': 10206, 'skipping': 10207, 'barley': 10208, 'squeaky': 10209, 'russians': 10210, 'fella': 10211, 'oki': 10212, 'shanghai': 10213, 'bj': 10214, 'parallels': 10215, 'yogg': 10216, 'cashouts': 10217, 'arrangement': 10218, 'guarantee': 10219, 'specially': 10220, 'burneded': 10221, 'hindu': 10222, 'uhm': 10223, 'sidebar': 10224, 'smash': 10225, 'crackers': 10226, 'caviar': 10227, 'embedded': 10228, 'unni': 10229, 'pressie': 10230, 'dmed': 10231, 'ledge': 10232, 'summers': 10233, 'wealth': 10234, 'pricing': 10235, 'fixes': 10236, 'rearranging': 10237, 'joshy': 10238, 'forcing': 10239, 'skill': 10240, 'stuffier': 10241, 'icurve': 10242, 'sowwie': 10243, 'skyping': 10244, 'katies': 10245, 'oooooh': 10246, 'waitt': 10247, 'familia': 10248, 'orchestra': 10249, 'buried': 10250, 'cabinet': 10251, 'sowy': 10252, 'shortie': 10253, 'chauffeur': 10254, 'exceeded': 10255, 'yeg': 10256, 'adriana': 10257, 'blowout': 10258, 'ringtone': 10259, 'twibe': 10260, 'bre': 10261, 'rachael': 10262, 'spurs': 10263, 'smushed': 10264, 'dodging': 10265, 'meatballs': 10266, 'tosh': 10267, 'screens': 10268, 'theyve': 10269, 'lunchbreak': 10270, 'crimson': 10271, 'tide': 10272, 'confess': 10273, 'hiiiiii': 10274, 'dayssss': 10275, 'fir': 10276, 'ich': 10277, 'auch': 10278, 'someplace': 10279, 'sparking': 10280, 'unpleasant': 10281, 'embrace': 10282, 'trials': 10283, 'buttt': 10284, 'antibacterial': 10285, 'loos': 10286, 'stealing': 10287, 'merci': 10288, 'snood': 10289, 'sorrry': 10290, 'ohmygod': 10291, 'classs': 10292, 'prescription': 10293, 'bridget': 10294, 'remarkably': 10295, 'cramming': 10296, 'exclusive': 10297, 'satan': 10298, 'bz': 10299, 'isis': 10300, 'military': 10301, 'margarita': 10302, 'vu': 10303, 'glenn': 10304, 'cum': 10305, 'clips': 10306, 'madaya': 10307, 'dismissed': 10308, 'mitchell': 10309, 'slo': 10310, 'lynne': 10311, 'worky': 10312, 'newish': 10313, '76': 10314, 'liquids': 10315, 'zeb': 10316, 'buyer': 10317, 'sumtime': 10318, 'nerdprom': 10319, 'sheriffs': 10320, 'scanner': 10321, 'nobodys': 10322, 'cruisers': 10323, 'booooooo': 10324, 'ipa': 10325, 'drat': 10326, 'assemble': 10327, 'investigated': 10328, 'sideways': 10329, 'mahirap': 10330, 'fuse': 10331, 'ihate': 10332, 'recipient': 10333, 'tanks': 10334, 'choco': 10335, 'poisoning': 10336, 'rejoice': 10337, 'jjj': 10338, 'yaaaaay': 10339, 'doon': 10340, 'comms': 10341, 'smoker': 10342, 'phoebe': 10343, 'munchkins': 10344, 'strauss': 10345, 'gl': 10346, 'ruling': 10347, 'shunt': 10348, 'squeaking': 10349, 'glitch': 10350, 'jobless': 10351, 'beckons': 10352, 'heyya': 10353, 'dissappointed': 10354, 'custard': 10355, 'gel': 10356, 'unplug': 10357, 'monroe': 10358, 'kbs': 10359, 'bubba': 10360, 'knooow': 10361, 'weï¿½re': 10362, 'rethink': 10363, 'misss': 10364, 'dre': 10365, 'deeply': 10366, 'classmate': 10367, 'korn': 10368, 'tto': 10369, 'edmonton': 10370, 'smelling': 10371, 'freee': 10372, 'cox': 10373, 'prop': 10374, 'yeahhhh': 10375, 'coaches': 10376, 'bracelets': 10377, 'sensible': 10378, 'lows': 10379, 'kong': 10380, 'musso': 10381, 'telephone': 10382, 'chachi': 10383, 'turquoise': 10384, 'outro': 10385, 'oll': 10386, 'carpenters': 10387, 'eyefi': 10388, 'threaten': 10389, 'shw': 10390, 'faux': 10391, 'sia': 10392, 'grandfather': 10393, '3x': 10394, 'valkyria': 10395, 'twittersphere': 10396, '45pm': 10397, 'frappuccino': 10398, 'redirects': 10399, 'degeneres': 10400, 'fused': 10401, 'pruning': 10402, 'fond': 10403, 'rifle': 10404, 'habbo': 10405, 'eleven': 10406, 'yaaaaaaay': 10407, 'begging': 10408, 'reinstalled': 10409, 'bnp': 10410, 'contrary': 10411, 'felix': 10412, 'vespa': 10413, 'roscoe': 10414, 'sadder': 10415, 'snowball': 10416, 'dumbo': 10417, 'manhattan': 10418, 'grid': 10419, 'hic': 10420, 'hahhaa': 10421, 'florence': 10422, 'badminton': 10423, 'notification': 10424, 'puzzles': 10425, 'organized': 10426, 'reagan': 10427, 'slaps': 10428, 'cassette': 10429, 'balmain': 10430, 'nutty': 10431, 'awesomeeeeee': 10432, 'terabyte': 10433, 'hummmmm': 10434, 'ville': 10435, 'nowww': 10436, 'associated': 10437, '222': 10438, 'hauled': 10439, 'kl': 10440, 'mayne': 10441, 'aaaand': 10442, 'dent': 10443, '42nd': 10444, 'medicated': 10445, 'ame': 10446, 'everrrrr': 10447, 'saddd': 10448, 'tickled': 10449, 'penny': 10450, 'ontario': 10451, 'poia': 10452, 'worcester': 10453, 'quits': 10454, 'whyyy': 10455, 'madina': 10456, 'jewelry': 10457, 'pencil': 10458, 'jays': 10459, 'symptoms': 10460, 'departure': 10461, 'saves': 10462, 'deny': 10463, 'bond': 10464, 'spy': 10465, 'popsicle': 10466, 'mak': 10467, 'reggae': 10468, 'smoothness': 10469, '5d': 10470, 'waaaay': 10471, 'predicted': 10472, 'fro': 10473, 'zemote': 10474, 'thooo': 10475, 'skateboard': 10476, 'seperation': 10477, 'hose': 10478, 'dayss': 10479, 'division': 10480, 'screamin': 10481, 'taipei': 10482, 'ems': 10483, 'jayden': 10484, 'tara': 10485, 'octopus': 10486, 'upper': 10487, 'ie8': 10488, 'nearing': 10489, 'adoption': 10490, 'amazes': 10491, 'danielle': 10492, 'clubs': 10493, 'kelli': 10494, 'diagnosed': 10495, 'goooooood': 10496, 'novels': 10497, 'threee': 10498, 'solaris': 10499, 'wtg': 10500, 'consult': 10501, 'bitching': 10502, 'dinna': 10503, 'brady': 10504, 'threatened': 10505, 'yooooooo': 10506, 'ewwwww': 10507, 'shaft': 10508, 'urgent': 10509, 'chuckle': 10510, 'bacardi': 10511, 'coolio': 10512, 'abusing': 10513, 'mudhut': 10514, 'deposits': 10515, 'supposedly': 10516, 'mailed': 10517, 'probobly': 10518, 'bouquet': 10519, 'pipe': 10520, 'cauz': 10521, 'twain': 10522, 'streams': 10523, '320gb': 10524, 'p9': 10525, 'danica': 10526, 'maltese': 10527, 'indies': 10528, 'babys': 10529, 'timetable': 10530, 'fortunate': 10531, 'jager': 10532, 'litterally': 10533, 'cursed': 10534, 'giants': 10535, 'creeper': 10536, 'keyed': 10537, 'scratches': 10538, 'presten': 10539, 'hallooo': 10540, 'goooooooood': 10541, 'bioshock': 10542, 'lunches': 10543, 'bikini': 10544, 'ashington': 10545, 'struggles': 10546, 'woohoooo': 10547, 'gracie': 10548, 'congratss': 10549, 'nudged': 10550, 'diane': 10551, 'calgary': 10552, 'ganda': 10553, 'cringe': 10554, '3oh': 10555, 'retainers': 10556, 'crooked': 10557, 'utd': 10558, 'ugghh': 10559, 'withdraws': 10560, 'alrighty': 10561, 'tasting': 10562, 'anderson': 10563, 'jasper': 10564, 'clunky': 10565, 'questionable': 10566, 'alki': 10567, 'tatami': 10568, 'sailor': 10569, '12seconds': 10570, 'obnoxious': 10571, 'sunniest': 10572, 'lols': 10573, 'popeye': 10574, 'kingston': 10575, 'sudafed': 10576, 'dsl': 10577, 'connecting': 10578, 'vehicles': 10579, 'highlights': 10580, 'voicemails': 10581, 'everybodys': 10582, 'various': 10583, 'adds': 10584, 'scooby': 10585, 'whatev': 10586, 'db': 10587, 'disown': 10588, 'ayy': 10589, 'checkout': 10590, 'bingo': 10591, 'waterfall': 10592, 'splendid': 10593, 'keshia': 10594, 'bo': 10595, 'trunk': 10596, 'crazier': 10597, 'afterparty': 10598, 'seuss': 10599, 'ï¿½you': 10600, 'increasingly': 10601, 'difficulties': 10602, 'milky': 10603, 'ridden': 10604, 'babb': 10605, 'inventor': 10606, 'smooches': 10607, 'bootleg': 10608, 'hen': 10609, 'chased': 10610, 'trekkie': 10611, 'eurovision2009': 10612, 'censoring': 10613, 'vis': 10614, 'luvvv': 10615, 'boasting': 10616, 'pulls': 10617, 'seesmic': 10618, 'wer': 10619, 'toasted': 10620, 'scone': 10621, 'suffice': 10622, 'kristin': 10623, 'subtly': 10624, 'vocab': 10625, 'exercising': 10626, 'defrag': 10627, 'manny': 10628, 'thingie': 10629, 'ina': 10630, 'gown': 10631, 'ulet': 10632, 'pp': 10633, 'barca': 10634, 'spanking': 10635, 'thrilling': 10636, 'carla': 10637, 'frantic': 10638, 'fork': 10639, 'psh': 10640, 'giro': 10641, 'wrath': 10642, 'nugget': 10643, 'tapeworm': 10644, 'zyrtec': 10645, 'disabled': 10646, 'nai': 10647, 'cheri': 10648, 'fuss': 10649, 'cristal': 10650, 'repairs': 10651, 'kindred': 10652, 'expansion': 10653, 'peg': 10654, 'adapted': 10655, 'cuter': 10656, 'kasi': 10657, '64': 10658, 'skye': 10659, 'chart': 10660, 'responsible': 10661, 'temple': 10662, 'laydown': 10663, 'swelling': 10664, 'iï¿½ll': 10665, 'bubbletweet': 10666, 'muggy': 10667, 'kix': 10668, 'asia': 10669, 'passwords': 10670, 'octo': 10671, 'netflix': 10672, 'inherent': 10673, 'titles': 10674, 'nirvana': 10675, 'initial': 10676, 'abrams': 10677, 'paige': 10678, 'overjoyed': 10679, 'sweeter': 10680, 'overheating': 10681, 'harlow': 10682, 'racket': 10683, 'differnt': 10684, 'pedro': 10685, 'nita': 10686, 'dinners': 10687, 'defend': 10688, 'worms': 10689, 'adverts': 10690, 'cornwall': 10691, 'bia': 10692, 'handmade': 10693, 'pouch': 10694, 'congratulatory': 10695, 'dampen': 10696, 'sprung': 10697, 'twitterr': 10698, 'spots': 10699, 'sections': 10700, 'nicee': 10701, 'consists': 10702, 'farro': 10703, 'hallucination': 10704, 'goats': 10705, 'sided': 10706, 'vado': 10707, '48am': 10708, 'sharapova': 10709, 'manila': 10710, 'ingredients': 10711, 'donating': 10712, 'antique': 10713, 'tucker': 10714, 'cheeto': 10715, 'frasier': 10716, 'bonnie': 10717, 'reflect': 10718, 'topify': 10719, 'performed': 10720, 'malaria': 10721, 'parasites': 10722, 'resistant': 10723, 'affects': 10724, 'chico': 10725, 'hudgens': 10726, 'kuya': 10727, 'yoko': 10728, 'ono': 10729, 'goooooddd': 10730, 'carriers': 10731, 'chivalry': 10732, 'provider': 10733, 'bent': 10734, 'badluck': 10735, 'concur': 10736, 'ontd': 10737, 'harvard': 10738, 'unparalleled': 10739, 'lambs': 10740, 'daylight': 10741, 'continually': 10742, 'assault': 10743, 'flake': 10744, 'gelli': 10745, 'documentation': 10746, 'addie': 10747, 'supportive': 10748, 'motto': 10749, 'backe': 10750, 'dazed': 10751, 'greaaat': 10752, 'darth': 10753, 'hdd': 10754, 'lure': 10755, 'loooooong': 10756, 'dayum': 10757, 'folio': 10758, 'turnout': 10759, 'palace': 10760, 'mindful': 10761, 'selfridges': 10762, 'invitations': 10763, 'christening': 10764, 'festivals': 10765, 'correctly': 10766, 'climbs': 10767, 'wallpapers': 10768, 'cafeteria': 10769, 'orleans': 10770, 'sabbeth': 10771, 'racers': 10772, '30p': 10773, 'scotts': 10774, 'ani': 10775, 'batteries': 10776, 'mlb': 10777, 'wieters': 10778, 'manta': 10779, 'codes': 10780, 'lenses': 10781, 'decently': 10782, 'gabriel': 10783, 'groovy': 10784, 'textmate': 10785, 'klutz': 10786, 'dug': 10787, 'stint': 10788, 'sniffles': 10789, 'leslie': 10790, 'western': 10791, 'professionals': 10792, 'brightly': 10793, 'sooooooooooo': 10794, 'mob': 10795, 'coooooooool': 10796, 'mtfbwy': 10797, 'interactive': 10798, 'pending': 10799, '24hrs': 10800, 'clancy': 10801, 'poetic': 10802, 'mailbox': 10803, 'pdx': 10804, 'farmers': 10805, 'contagious': 10806, 'naplan': 10807, 'adem': 10808, 'uit': 10809, 'commin': 10810, 'dramatic': 10811, 'solange': 10812, 'tia': 10813, 'protein': 10814, 'melly': 10815, 'watches': 10816, 'laffy': 10817, 'taffy': 10818, 'recieving': 10819, 'windshield': 10820, 'wiper': 10821, 'momies': 10822, 'correspondent': 10823, 'gotto': 10824, '106': 10825, 'mojito': 10826, 'tacoma': 10827, 'predict': 10828, 'awhhh': 10829, 'downloader': 10830, 'wahahaha': 10831, 'ey': 10832, 'crispy': 10833, 'frend': 10834, 'wernt': 10835, 'sy': 10836, 'missions': 10837, 'uggg': 10838, 'davids': 10839, 'blake': 10840, 'possessed': 10841, 'uuuup': 10842, 'fanta': 10843, 'sue': 10844, 'condom': 10845, 'endometriosis': 10846, 'gratitude': 10847, 'columns': 10848, 'rollerblading': 10849, 'blackhawks': 10850, '539': 10851, 'exists': 10852, 'crowdsourcing': 10853, 'smores': 10854, 'faceless': 10855, 'nicholas': 10856, 'nicks': 10857, 'seventeen': 10858, 'trekking': 10859, 'cambridge': 10860, 'gahhh': 10861, 'barrie': 10862, 'jana': 10863, 'snuggles': 10864, 'superpower': 10865, 'aghhh': 10866, 'rehearsing': 10867, 'prepped': 10868, 'barks': 10869, 'jumps': 10870, 'edumedia09': 10871, 'trina': 10872, 'appearances': 10873, 'sends': 10874, 'leopold': 10875, 'trades': 10876, 'colouring': 10877, 'steps': 10878, 'vin': 10879, 'oklahoma': 10880, 'proposals': 10881, 'boba': 10882, 'voucher': 10883, 'hoorah': 10884, 'strategy': 10885, 'charlies': 10886, 'unpaid': 10887, 'dor': 10888, 'whoooooo': 10889, 'dixon': 10890, 'friendship': 10891, 'papas': 10892, '68': 10893, 'align': 10894, 'urgently': 10895, 'transit': 10896, 'honoured': 10897, 'banking': 10898, 'nofakery': 10899, 'heeeey': 10900, 'noooooooooooo': 10901, 'foo': 10902, 'fcuk': 10903, 'waaay': 10904, 'notion': 10905, 'julian': 10906, 'traumatic': 10907, 'cholla': 10908, 'assuming': 10909, 'cargo': 10910, 'sling': 10911, 'thanxx': 10912, 'mach': 10913, 'nbc': 10914, 'poole': 10915, 'fade': 10916, 'slater': 10917, 'genuinely': 10918, 'nuthin': 10919, 'reporting': 10920, 'functional': 10921, 'von': 10922, 'ferris': 10923, 'penalty': 10924, 'telemarketers': 10925, '1gb': 10926, 'tactic': 10927, 'shinjuku': 10928, 'tabloids': 10929, 'halloween': 10930, 'splashed': 10931, 'skull': 10932, 'grumbles': 10933, 'bathed': 10934, 'yards': 10935, 'debbie': 10936, 'sars': 10937, 'beginnings': 10938, 'structure': 10939, 'maryjane': 10940, 'lakoda': 10941, 'bookmark': 10942, 'imported': 10943, 'mf': 10944, 'informative': 10945, 'dany': 10946, 'walker': 10947, 'regions': 10948, 'toughie': 10949, 'toughest': 10950, 'chillaxin': 10951, 'bai': 10952, 'kt': 10953, 'lamesauce': 10954, 'becca': 10955, 'aaaaaaaaaamazing': 10956, 'addicting': 10957, 'cred': 10958, 'playerstation': 10959, 'spilling': 10960, 'sogni': 10961, 'propped': 10962, 'select': 10963, 'dedicating': 10964, 'una': 10965, 'probable': 10966, 'crosby': 10967, 'goth': 10968, 'releases': 10969, 'smoked': 10970, 'aaaa': 10971, 'emotions': 10972, '128': 10973, 'meadowhall': 10974, 'directv': 10975, 'imiss': 10976, 'mogwai': 10977, 'aguilera': 10978, 'lennon': 10979, 'travolta': 10980, 'edwin': 10981, 'robins': 10982, 'dixie': 10983, 'oaks': 10984, 'ttfn': 10985, 'pondering': 10986, 'skank': 10987, 'quid': 10988, 'som': 10989, 'itv': 10990, 'shelby': 10991, 'restart': 10992, 'startin': 10993, 'firewall': 10994, 'txting': 10995, 'droped': 10996, 'thiss': 10997, 'maan': 10998, 'discretion': 10999, 'fart': 11000, 'alternative': 11001, 'tumor': 11002, 'tequila': 11003, 'doable': 11004, 'loong': 11005, 'sneezes': 11006, 'significantly': 11007, 'tower': 11008, 'tornado': 11009, 'cms': 11010, 'sprinkling': 11011, 'commands': 11012, 'ribena': 11013, 'stilll': 11014, 'lamp': 11015, 'nethack': 11016, 'jennifer': 11017, 'gina': 11018, 'vegetable': 11019, 'lam': 11020, 'brennan': 11021, 'cane': 11022, 'mumm': 11023, 'erased': 11024, 'pci': 11025, 'delegate': 11026, 'bel': 11027, 'woodstock': 11028, 'meredith': 11029, '1thing': 11030, 'led2': 11031, 'wants2': 11032, 'dachshund': 11033, 'aerobics': 11034, 'wallah': 11035, 'validation': 11036, 'gathering': 11037, 'whooo': 11038, 'superglue': 11039, 'darl': 11040, 'bbqs': 11041, 'basshunter': 11042, 'bringin': 11043, 'favrd': 11044, 'integrity': 11045, 'viable': 11046, 'adults': 11047, 'trivia': 11048, 'omlette': 11049, 'ayt': 11050, 'dyeing': 11051, 'drugged': 11052, 'sketches': 11053, 'reactions': 11054, 'claws': 11055, 'contacting': 11056, 'sleeeeeeep': 11057, 'supporters': 11058, 'israel': 11059, 'grosses': 11060, 'endearing': 11061, 'improved': 11062, 'omgg': 11063, 'confusion': 11064, 'typically': 11065, 'startup': 11066, 'forte': 11067, 'sud': 11068, 'myst': 11069, 'letdown': 11070, 'atlas': 11071, 'mosquitoes': 11072, 'cassidy': 11073, 'outdated': 11074, 'sunstroke': 11075, 'omgsh': 11076, 'conspiracy': 11077, 'lizzi': 11078, 'tesla': 11079, 'uff': 11080, 'staging': 11081, 'grrrrrrr': 11082, 'lindsay': 11083, 'fansite': 11084, 'ultimatelohan': 11085, 'willingly': 11086, 'partners': 11087, 'thankgod': 11088, 'representation': 11089, 'yvonne': 11090, 'cease': 11091, 'staunton': 11092, 'lovingly': 11093, 'rayne': 11094, 'paperback': 11095, 'qwerty': 11096, 'contracted': 11097, 'evie': 11098, 'obligations': 11099, 'motorways': 11100, 'insects': 11101, 'fifties': 11102, 'williamsburg': 11103, 'schooling': 11104, 'roxy': 11105, 'homeeee': 11106, 'overlap': 11107, 'discussed': 11108, 'bldg': 11109, 'enchiladas': 11110, '116': 11111, 'ciao': 11112, '69': 11113, 'backlog': 11114, 'barb': 11115, 'linkin': 11116, 'murakami': 11117, 'elliot': 11118, 'uhmazing': 11119, 'villains': 11120, 'paps': 11121, 'fightstar': 11122, 'asbestos': 11123, 'destroys': 11124, 'ddub': 11125, 'bubbled': 11126, 'totes': 11127, 'bi': 11128, 'shudder': 11129, 'horrendous': 11130, 'verse': 11131, 'blazing': 11132, 'bullied': 11133, 'havee': 11134, 'marky': 11135, 'washes': 11136, 'viewed': 11137, 'plce': 11138, 'estonia': 11139, 'warehouse': 11140, 'wong': 11141, 'asians': 11142, 'passive': 11143, 'bailed': 11144, 'pluck': 11145, 'courage': 11146, 'nx': 11147, 'mundo': 11148, 'bem': 11149, 'rhymes': 11150, 'challenging': 11151, 'quiero': 11152, '48hoursnz': 11153, 'humanity': 11154, 'reggie': 11155, 'perrin': 11156, 'shaven': 11157, 'belmont': 11158, 'vogue': 11159, 'earpiece': 11160, 'chickened': 11161, 'increasing': 11162, 'calll': 11163, 'dats': 11164, 'finishes': 11165, 'pinot': 11166, 'allianz': 11167, 'murphys': 11168, 'whatsoever': 11169, 'gaskarth': 11170, 'stapler': 11171, 'intent': 11172, 'egh': 11173, 'slide': 11174, 'concepts': 11175, 'foolish': 11176, 'halls': 11177, 'ships': 11178, '3k': 11179, 'tnite': 11180, 'planing': 11181, 'liep': 11182, 'zojuist': 11183, 'shitter': 11184, 'samsung': 11185, 'omnia': 11186, 'volterra': 11187, 'witnessing': 11188, 'jurassic': 11189, 'filmed': 11190, 'detention': 11191, 'vocï¿½': 11192, 'candis': 11193, 'poked': 11194, 'eighty': 11195, 'phpmyadmin': 11196, 'wayy': 11197, 'poppy': 11198, 'sti': 11199, 'newly': 11200, 'mazda': 11201, 'rx8': 11202, 'sprint': 11203, 'stretching': 11204, 'whataburger': 11205, 'inadequate': 11206, 'joomla': 11207, 'sophia': 11208, 'inhabit': 11209, 'joseph': 11210, 'arthur': 11211, 'ernie': 11212, 'recharge': 11213, 'nhibernate': 11214, 'wrapper': 11215, 'roundtable': 11216, 'ob': 11217, 'patel': 11218, '2mz': 11219, 'meeeeee': 11220, 'shaanxi': 11221, 'gilbert': 11222, 'thoughh': 11223, 'carey': 11224, 'weddings': 11225, 'eternally': 11226, 'silk': 11227, 'coo': 11228, 'huhu': 11229, 'profession': 11230, 'yooo': 11231, 'api': 11232, 'housewives': 11233, 'loaner': 11234, 'overwhelmed': 11235, 'sumthing': 11236, 'excruciating': 11237, 'accumulating': 11238, 'disguise': 11239, 'wos': 11240, 'slides': 11241, 'slots': 11242, 'twitterfox': 11243, 'plates': 11244, 'mechanic': 11245, 'lump': 11246, 'r2': 11247, 'exploration': 11248, 'copied': 11249, 'stomp': 11250, 'epicentre': 11251, 'wheelock': 11252, 'units': 11253, 'tourists': 11254, 'numero': 11255, 'uno': 11256, 'stamina': 11257, 'airsoft': 11258, 'giggling': 11259, 'annnd': 11260, 'engines': 11261, 'mana': 11262, 'believers': 11263, 'postpone': 11264, 'preschool': 11265, 'tita': 11266, 'kerry': 11267, 'laminate': 11268, 'lookd': 11269, 'audi': 11270, 'uo': 11271, 'whoot': 11272, 'youuuuuuu': 11273, 'plato': 11274, 'brawl': 11275, 'screenshot': 11276, 'cheeky': 11277, 'mornig': 11278, 'violent': 11279, 'heavily': 11280, 'withstanding': 11281, 'yeaah': 11282, 'getaway': 11283, 'thelma': 11284, 'doctoral': 11285, 'funding': 11286, 'yorkshire': 11287, 'debussy': 11288, 'smokey': 11289, 'oscar': 11290, 'noting': 11291, 'organiser': 11292, 'roller': 11293, 'iq': 11294, 'dooope': 11295, 'ritas': 11296, 'flavors': 11297, 'transferred': 11298, 'spencer': 11299, 'commitments': 11300, 'fullest': 11301, 'carbon': 11302, 'footprint': 11303, 'wimpy': 11304, 'cement': 11305, 'jalan': 11306, 'pumpkin': 11307, 'pho': 11308, 'destroytwitter': 11309, 'dislocating': 11310, 'multitasking': 11311, 'macarons': 11312, 'energized': 11313, 'sod': 11314, 'itz': 11315, 'readyyy': 11316, 'caption': 11317, 'seal': 11318, 'ummmnnn': 11319, 'photobook': 11320, 'darlin': 11321, 'weds': 11322, 'minimize': 11323, 'giv': 11324, 'bcause': 11325, 'noticing': 11326, 'austria': 11327, 'chock': 11328, 'fuk': 11329, 'minimal': 11330, 'mayo': 11331, 'coherent': 11332, 'ease': 11333, 'dome': 11334, 'lavender': 11335, 'unf': 11336, 'processor': 11337, 'consist': 11338, 'goonies': 11339, 'projected': 11340, 'oic': 11341, 'slowed': 11342, 'balling': 11343, 'bloomington': 11344, 'purposely': 11345, 'anita': 11346, 'pleaseeee': 11347, 'mnth': 11348, 'boredddd': 11349, 'hada': 11350, 'predicting': 11351, 'proposes': 11352, 'repo': 11353, 'nostalgic': 11354, 'shitload': 11355, 'arrrgh': 11356, 'bagels': 11357, 'providence': 11358, 'cia': 11359, 'beam': 11360, 'krys': 11361, 'breakie': 11362, 'cisco': 11363, 'madly': 11364, 'beeen': 11365, 'sterling': 11366, 'armpit': 11367, 'nada': 11368, 'squee': 11369, 'frisbee': 11370, 'mortgage': 11371, 'fingernails': 11372, 'aa': 11373, 'curves': 11374, 'fas': 11375, 'carson': 11376, 'adoreiii': 11377, 'godness': 11378, 'kp': 11379, 'property': 11380, 'aber': 11381, 'floating': 11382, 'homepage': 11383, 'miffed': 11384, 'stakes': 11385, 'aaaww': 11386, 'ranger': 11387, 'coupla': 11388, 'hooky': 11389, '1million': 11390, 'cudve': 11391, 'kdg': 11392, 'curried': 11393, 'sporting': 11394, 'cameo': 11395, 'comedyqueen': 11396, 'tak': 11397, 'enemies': 11398, 'kristi': 11399, 'tossing': 11400, 'wellity': 11401, 'sensibility': 11402, 'spared': 11403, 'melody': 11404, 'unbelievable': 11405, 'mopping': 11406, 'mash': 11407, 'bottled': 11408, 'buttercup': 11409, 'mend': 11410, 'nicoles': 11411, 'maaaaaan': 11412, 'reborn': 11413, 'guides': 11414, 'lifesaver': 11415, 'loco': 11416, 'bberry': 11417, 'goddess': 11418, 'chucks': 11419, 'tainted': 11420, 'polite': 11421, 'maxim': 11422, 'caddy': 11423, 'annapolis': 11424, 'internets': 11425, 'pmsl': 11426, 'cod': 11427, 'amounts': 11428, 'aargh': 11429, 'nero': 11430, 'magento': 11431, 'chizi': 11432, '1800': 11433, 'khi': 11434, 'cï¿½i': 11435, 'mua': 11436, 'vending': 11437, 'bugles': 11438, 'krogers': 11439, 'notifications': 11440, 'kits': 11441, 'tinted': 11442, 'cursing': 11443, 'mgr': 11444, 'quinn': 11445, 'nominated': 11446, 'attempted': 11447, 'imovie': 11448, 'cautious': 11449, 'meals': 11450, 'werent': 11451, 'yeeeeeeeee': 11452, 'tame': 11453, 'voyager': 11454, 'ashton': 11455, 'bootcamp': 11456, 'completes': 11457, 'noms': 11458, 'champ': 11459, 'aaaaaah': 11460, 'landon': 11461, 'septum': 11462, 'discouraged': 11463, 'janes': 11464, 'pdf': 11465, 'compromise': 11466, 'sunshines': 11467, 'tutor': 11468, 'geelong': 11469, 'aweomse': 11470, 'synced': 11471, 'jaxx': 11472, 'optional': 11473, 'htown': 11474, 'aly': 11475, 'pitiful': 11476, 'refusing': 11477, 'graceful': 11478, 'metaphor': 11479, 'celtic': 11480, 'battles': 11481, 'anthropomorphic': 11482, 'planter': 11483, 'marcus': 11484, 'producing': 11485, 'dwell': 11486, 'ouchie': 11487, 'ons': 11488, 'relieve': 11489, 'weiss': 11490, 'carlton': 11491, 'chills': 11492, 'indeedy': 11493, 'whyareyoustillhere': 11494, 'fiddling': 11495, 'deodorant': 11496, 'moldovan': 11497, 'tenerife': 11498, 'arkansas': 11499, 'downed': 11500, 'pokes': 11501, 'lectures': 11502, 'bsc': 11503, 'colourful': 11504, 'valuation': 11505, 'chal': 11506, 'bhi': 11507, 'pleaseeeeee': 11508, 'yal': 11509, 'tic': 11510, 'centigrade': 11511, 'vcenter': 11512, 'x64': 11513, 'compability': 11514, 'chota': 11515, 'dancin': 11516, 'travelin': 11517, '4days': 11518, 'competitions': 11519, 'norton': 11520, 'valuable': 11521, 'offend': 11522, 'gtalk': 11523, 'oooooo': 11524, 'sxsw': 11525, 'nu': 11526, 'groceries': 11527, 'bamboo': 11528, 'magnolias': 11529, 'lawl': 11530, 'butts': 11531, 'jacobs': 11532, 'insanely': 11533, 'ick': 11534, 'feliz': 11535, 'madres': 11536, '1tb': 11537, '2d': 11538, 'redskins': 11539, 'jansen': 11540, 'smfh': 11541, 'fightin': 11542, 'recorder': 11543, 'yaa': 11544, 'cleanse': 11545, 'forensic': 11546, 'ira': 11547, 'highland': 11548, 'dunn': 11549, 'silverstein': 11550, 'photograph': 11551, 'qualifying': 11552, 'marshall': 11553, 'mina': 11554, 'repaired': 11555, 'payroll': 11556, 'ht': 11557, 'upstate': 11558, 'windsor': 11559, 'yums': 11560, 'chucking': 11561, 'bedding': 11562, 'maaaaan': 11563, 'bubb': 11564, 'heheheheh': 11565, 'blvd': 11566, 'ripping': 11567, 'generous': 11568, 'fwiends': 11569, 'producer': 11570, 'hunnie': 11571, 'brat': 11572, 'whiles': 11573, 'tablet': 11574, 'prioritize': 11575, 'arlington': 11576, 'bench': 11577, 'jakarta': 11578, 'ahhaha': 11579, 'shipwrecked': 11580, 'qdoba': 11581, 'intrigued': 11582, 'kaya': 11583, 'gini': 11584, 'aja': 11585, 'competiton': 11586, 'twitterrific': 11587, 'tania': 11588, 'debugging': 11589, 'injections': 11590, 'confessional': 11591, 'sch': 11592, 'foster': 11593, 'programmer': 11594, 'mwahaha': 11595, 'cy': 11596, 'grows': 11597, 'khï¿½ng': 11598, 'trey': 11599, 'poke': 11600, 'okie': 11601, 'sike': 11602, 'aaaw': 11603, 'jillian': 11604, 'preschooler': 11605, 'gos': 11606, 'offensive': 11607, 'sodas': 11608, 'chaof': 11609, 'dunk': 11610, 'rod': 11611, 'battlestar': 11612, 'galactica': 11613, 'clogging': 11614, 'indo': 11615, 'arun': 11616, 'moss': 11617, 'etherreal': 11618, 'preoccupation': 11619, 'shucks': 11620, 'jan': 11621, 'drug': 11622, 'banged': 11623, 'crooning': 11624, 'comming': 11625, 'racoon': 11626, 'shutup': 11627, 'sleeeep': 11628, 'forreal': 11629, 'brandy': 11630, 'accessories': 11631, 'embarrased': 11632, 'aro': 11633, 'technician': 11634, 'ridding': 11635, 'fukn': 11636, 'screwing': 11637, 'heavens': 11638, 'empathise': 11639, 'closeness': 11640, 'triumph': 11641, 'idkk': 11642, 'kendra': 11643, 'ano': 11644, 'bulls': 11645, 'growl': 11646, 'charleston': 11647, 'isnï¿½t': 11648, 'suitable': 11649, 'hells': 11650, 'combat': 11651, 'tiredd': 11652, 'shoo': 11653, 'cranky': 11654, 'yeahhhhh': 11655, 'inlove': 11656, 'heartache': 11657, 'colossal': 11658, 'loveliness': 11659, 'importantly': 11660, 'transferring': 11661, 'waaaah': 11662, 'accidents': 11663, 'mx': 11664, 'homegirl': 11665, 'postcards': 11666, 'databases': 11667, 'chars': 11668, 'buffer': 11669, 'lunchtime': 11670, 'fruity': 11671, 'pebbles': 11672, 'cougar': 11673, 'wacom': 11674, 'disaster': 11675, 'fussy': 11676, 'niley': 11677, '5km': 11678, 'fatigue': 11679, 'donnell': 11680, 'shea': 11681, 'dosen': 11682, 'empathy': 11683, 'correspondents': 11684, 'croissant': 11685, 'melon': 11686, 'companion': 11687, 'midterms': 11688, 'bcit': 11689, 'stocks': 11690, 'spins': 11691, 'corrupted': 11692, 'sauna': 11693, 'tss': 11694, 'eg': 11695, 'discrimination': 11696, 'morrrning': 11697, 'niceee': 11698, 'adelaide': 11699, 'firday': 11700, 'unbreakable': 11701, 'lowest': 11702, 'sweaters': 11703, 'javaone': 11704, 'culinary': 11705, 'ul': 11706, '33333': 11707, 'yoghurt': 11708, 'fuzzy': 11709, 'waah': 11710, 'chloe': 11711, 'blogher': 11712, 'iit': 11713, 'vince': 11714, 'clowns': 11715, 'licking': 11716, 'twirl': 11717, 'warp': 11718, 'hahahahahahaha': 11719, 'candies': 11720, 'leftover': 11721, 'pres': 11722, 'itl': 11723, 'platform': 11724, 'wiser': 11725, '789': 11726, 'mooorning': 11727, 'leash': 11728, 'trauma': 11729, 'soaps': 11730, 'darren': 11731, 'ebook': 11732, 'rodney': 11733, 'dolphin': 11734, 'rollo': 11735, 'inserted': 11736, 'iknow': 11737, 'sunlight': 11738, 'scraped': 11739, 'dries': 11740, 'incense': 11741, 'nuffin': 11742, 'topping': 11743, 'arabic': 11744, 'yepp': 11745, 'logan': 11746, 'incorporate': 11747, 'spectacular': 11748, 'yippie': 11749, 'lololol': 11750, 'barre': 11751, 'chord': 11752, 'sevens': 11753, 'innocence': 11754, 'janis': 11755, 'highness': 11756, 'gaiman': 11757, 'mmot': 11758, 'twilightguy': 11759, 'altered': 11760, 'meann': 11761, 'aubrey': 11762, 'employer': 11763, 'woooot': 11764, 'dustbin': 11765, 'lethargic': 11766, 'commission': 11767, 'k12': 11768, 'textbooks': 11769, 'tele': 11770, 'tomoz': 11771, 'determined': 11772, 'pendant': 11773, 'celtics': 11774, 'husbands': 11775, 'stitch': 11776, 'craft': 11777, 'wher': 11778, 's2': 11779, 'deeper': 11780, 'felted': 11781, 'stating': 11782, 'lenny': 11783, 'delirious': 11784, 'intrusive': 11785, 'expat': 11786, 'spark': 11787, 'boonies': 11788, 'sparkle': 11789, 'yell': 11790, 'undergarments': 11791, 'cramping': 11792, 'scion': 11793, 'virginia': 11794, 'clogged': 11795, 'myers': 11796, 'lydia': 11797, 'solving': 11798, 'surreal': 11799, 'web20': 11800, 'democratic': 11801, 'served': 11802, 'unofficially': 11803, 'chanel': 11804, 'temptation': 11805, 'diggnation': 11806, 'halo3': 11807, 'rugs': 11808, 'glee': 11809, 'yopu': 11810, 'gfs': 11811, 'ilook': 11812, 'retirement': 11813, 'jukebox': 11814, 'cowboys': 11815, 'february': 11816, 'jackets': 11817, '1986': 11818, 'beds': 11819, 'suckssss': 11820, '12yr': 11821, 'stormtroopers': 11822, 'obv': 11823, 'coffe': 11824, '3pm': 11825, 'lub': 11826, 'prayin': 11827, 'whores': 11828, 'munich': 11829, 'whooop': 11830, 'sheriff': 11831, 'walkin': 11832, 'ard': 11833, 'fnr': 11834, 'recieve': 11835, 'bakes': 11836, 'vrooom': 11837, 'sunrise': 11838, 'ug': 11839, 'whooops': 11840, 'stiles': 11841, 'bathrooms': 11842, 'dt': 11843, 'boystown': 11844, 'rhubarb': 11845, 'erniehalter': 11846, 'moped': 11847, 'elephant': 11848, 'balancing': 11849, 'pgpm': 11850, 'joplin': 11851, 'useing': 11852, 'p3': 11853, 'cockney': 11854, 'cheeses': 11855, 'trak': 11856, 'tone': 11857, 'addin': 11858, 'brianna': 11859, 'cheapy': 11860, 'buyin': 11861, 'sunbathe': 11862, 'yeaaa': 11863, 'passengers': 11864, 'niceeeee': 11865, 'realization': 11866, 'norms': 11867, 'kaloka': 11868, 'spawning': 11869, 'juno': 11870, 'sentimental': 11871, 'wizards': 11872, 'spontaneously': 11873, 'birthdayy': 11874, 'weapon': 11875, 'practices': 11876, 'sixth': 11877, 'inch': 11878, 'saddle': 11879, 'jeffree': 11880, 'chelsey': 11881, 'sbs': 11882, '2003': 11883, 'westlife': 11884, 'trademe': 11885, 'sumptuous': 11886, 'stellar': 11887, 'windoze': 11888, 'lk': 11889, 'thundering': 11890, 'evan': 11891, 'movements': 11892, 'gaby': 11893, 'fixin': 11894, 'promoting': 11895, 'youll': 11896, 'knockout': 11897, 'parental': 11898, 'tub': 11899, 'pros': 11900, 'firmly': 11901, 'educated': 11902, 'proverbs': 11903, 'faaaaar': 11904, 'watcha': 11905, 'ims': 11906, 'swords': 11907, 'publicly': 11908, 'hafta': 11909, 'blankie': 11910, 'erase': 11911, 'artificial': 11912, 'heir': 11913, 'discouraging': 11914, 'cheescake': 11915, 'orphan': 11916, 'hudson': 11917, 'summery': 11918, 'colors': 11919, 'maddies': 11920, 'mcm': 11921, 'ku': 11922, 'dips': 11923, 'vital': 11924, 'collide': 11925, 'lighters': 11926, 'granted': 11927, 'rocio': 11928, 'impersonal': 11929, 'kin': 11930, 'mulch': 11931, 'klemm': 11932, 'guyz': 11933, 'suite': 11934, 'yeeeah': 11935, 'fishes': 11936, '2011': 11937, 'ipswitch': 11938, '108': 11939, 'almond': 11940, 'lmaoo': 11941, 'jour': 11942, 'prawns': 11943, 'maine': 11944, 'broccoli': 11945, 'essential': 11946, 'duties': 11947, 'path': 11948, 'vacuumed': 11949, 'onnnn': 11950, 'huaaaa': 11951, 'elementary': 11952, 'benedryl': 11953, 'gameboy': 11954, 'swarm': 11955, 'creams': 11956, 'frenz': 11957, 'fires': 11958, 'demolished': 11959, 'nyquil': 11960, 'evermore': 11961, 'uss': 11962, 'pacific': 11963, 'hydro': 11964, 'wikileaks': 11965, 'document': 11966, 'yummmm': 11967, '30th': 11968, 'seann': 11969, 'waxed': 11970, 'suited': 11971, 'irc': 11972, 'nerdy': 11973, 'shrug': 11974, 'swears': 11975, 'apparantly': 11976, 'orthodontist': 11977, 'cm': 11978, 'twiter': 11979, 'wednesay': 11980, 'moncton': 11981, 'everythings': 11982, 'chicas': 11983, 'chilis': 11984, 'jc': 11985, 'griffin': 11986, 'nosebleeds': 11987, 'rockets': 11988, 'rfid': 11989, 'extension': 11990, 'tracy': 11991, 'breaky': 11992, 'carlos': 11993, 'wasssup': 11994, 'generator': 11995, 'mae': 11996, 'nambu': 11997, 'interruption': 11998, 'jumbo': 11999, 'phenomenon': 12000, 'superbad': 12001, 'sliced': 12002, 'whitsun': 12003, 'deeeesearted': 12004, 'formulas': 12005, 'rag': 12006, 'proposed': 12007, 'ancient': 12008, 'frenzy': 12009, 'pitty': 12010, '30s': 12011, 'shure': 12012, 'juniors': 12013, 'kentucky': 12014, 'projector': 12015, 'tb': 12016, 'thnk': 12017, 'lighten': 12018, 'lopez': 12019, 'underwear': 12020, 'breaker': 12021, 'mhm': 12022, 'inspite': 12023, 'membership': 12024, 'powerblog': 12025, 'wateva': 12026, 'johnathan': 12027, 'lonelyyyy': 12028, 'clueless': 12029, 'nodding': 12030, 'stomache': 12031, 'misspelled': 12032, 'uppp': 12033, 'yippeee': 12034, 'dino': 12035, 'tweeten': 12036, 'knowww': 12037, 'grind': 12038, 'longboard': 12039, 'dinero': 12040, 'blender': 12041, 'totaly': 12042, 'smoothies': 12043, 'cuties': 12044, 'josiah': 12045, 'ek': 12046, 'heeeeey': 12047, 'bulk': 12048, 'nomatter': 12049, 'grasp': 12050, 'uncles': 12051, 'hairdressers': 12052, 'metaverse': 12053, 'hunk': 12054, 'brands': 12055, 'sly': 12056, 'tvtotal': 12057, 'giddy': 12058, 'beverage': 12059, 'recruits': 12060, 'revelation': 12061, 'andd': 12062, 'broth': 12063, 'trashed': 12064, 'ulan': 12065, 'cï¿½c': 12066, 'leafs': 12067, 'tts': 12068, 'lazing': 12069, 'chemo': 12070, 'retweets': 12071, 'germs': 12072, 'wingstop': 12073, 'ts': 12074, 'sakura': 12075, 'elevate': 12076, 'mort': 12077, 'dipping': 12078, 'insight': 12079, 'trolley': 12080, 'aparently': 12081, 'fireflies': 12082, 'darian': 12083, 'roulette': 12084, 'e4': 12085, 'pimp': 12086, 'pound': 12087, 'watson': 12088, 'disapointed': 12089, 'shepards': 12090, 'pau': 12091, 'fiscally': 12092, 'ec': 12093, 'yeaaaahh': 12094, 'stupidly': 12095, 'zzz': 12096, 'ffaf': 12097, 'slices': 12098, '365': 12099, 'speakin': 12100, 'deplurk': 12101, 'southpark': 12102, 'alls': 12103, 'cosplay': 12104, 'reread': 12105, 'dependent': 12106, 'km': 12107, 'nadia': 12108, 'bun': 12109, 'chainsaw': 12110, 'seminars': 12111, 'arrest': 12112, 'apparent': 12113, 'bris': 12114, 'folder': 12115, 'addition': 12116, 'drawning': 12117, 'retreat': 12118, 'cï¿½m': 12119, 'chiu': 12120, 'tifa': 12121, 'roi': 12122, 'danh': 12123, 'thro': 12124, 'fanfic': 12125, 'buenos': 12126, 'dias': 12127, 'preciate': 12128, 'snapping': 12129, 'reemer': 12130, 'dilated': 12131, 'repost': 12132, 'starring': 12133, 'kane': 12134, 'buffett': 12135, 'catherine': 12136, 'unfortunatley': 12137, 'tattos': 12138, 'anxiously': 12139, 'slouchy': 12140, 'jazzy': 12141, 'luh': 12142, 'drupal': 12143, 'harris': 12144, 'wills': 12145, 'po': 12146, 'closure': 12147, 'ref': 12148, 'bottoms': 12149, 'journalism': 12150, 'toasting': 12151, 'arranged': 12152, '306': 12153, 'claudia': 12154, 'elton': 12155, 'bunged': 12156, 'eternal': 12157, 'trace': 12158, 'sparkling': 12159, 'wohoo': 12160, 'react': 12161, 'absurd': 12162, 'blips': 12163, 'mellow': 12164, 'shoppers': 12165, 'humane': 12166, 'gtg': 12167, 'onesies': 12168, 'efteling': 12169, 'yaaayyy': 12170, 'natie': 12171, 'flesh': 12172, 'ws': 12173, 'fakes': 12174, 'grenades': 12175, 'tidied': 12176, 'socialmediatv': 12177, 'viewable': 12178, 'raha': 12179, 'loool': 12180, 'pajama': 12181, 'midway': 12182, 'dove': 12183, 'immobiliser': 12184, 'recognized': 12185, 'weve': 12186, 'nod': 12187, 'openhacklondon': 12188, 'carmen': 12189, 'pimm': 12190, 'studios': 12191, 'kraken': 12192, 'aaass': 12193, 'jensara': 12194, 'fixreplies': 12195, 'flare': 12196, 'motor': 12197, 'leonardo': 12198, 'preprom': 12199, 'litle': 12200, 'oreo': 12201, 'fubumvc': 12202, 'maddd': 12203, 'crazii': 12204, 'seamless': 12205, 'toro': 12206, 'stinging': 12207, 'anger': 12208, 'riveting': 12209, 'kirsty': 12210, 'controversial': 12211, 'hyderabad': 12212, 'frankly': 12213, 'whitney': 12214, 'phat': 12215, 'rediculous': 12216, 'barn': 12217, 'temps': 12218, 'sucha': 12219, 'streak': 12220, 'daisies': 12221, 'ambien': 12222, 'drews': 12223, 'layers': 12224, 'positioned': 12225, 'ponder': 12226, 'resistance': 12227, '59': 12228, 'irregularly': 12229, 'farted': 12230, 'broody': 12231, 'quashed': 12232, 'wes': 12233, 'converted': 12234, 'chapters': 12235, 'baaad': 12236, 'quicker': 12237, 'br': 12238, 'overkill': 12239, 'tonigh': 12240, 'chevy': 12241, 'sacred': 12242, 'christianity': 12243, 'makerfaire': 12244, 'violence': 12245, 'sugarland': 12246, 'northwest': 12247, 'verdict': 12248, 'arty': 12249, 'autumn': 12250, 'brilliantly': 12251, 'covergirl': 12252, 'channing': 12253, 'tatum': 12254, 'forcast': 12255, 'cave': 12256, 'wannabe': 12257, 'atomic': 12258, 'lanes': 12259, 'partyyyyy': 12260, 'decreasing': 12261, 'playtime': 12262, 'donny': 12263, 'depeche': 12264, 'unanswered': 12265, 'genes': 12266, 'perspective': 12267, 'dilemma': 12268, 'ticks': 12269, 'schoolers': 12270, 'gentleman': 12271, 'sorries': 12272, 'commissions': 12273, 'ecomonday': 12274, 'appetite': 12275, 'prime': 12276, 'grins': 12277, 'liquid': 12278, 'stacey': 12279, 'whys': 12280, 'ultrasound': 12281, 'championship': 12282, 'kimba': 12283, 'nets': 12284, 'deciding': 12285, 'ideal': 12286, 'blogged': 12287, 'fgs': 12288, 'authority': 12289, 'bakwaas': 12290, 'hereeeeee': 12291, 'amf': 12292, 'daaay': 12293, 'trueee': 12294, 'claires': 12295, 'xem': 12296, 'alissa': 12297, 'drummers': 12298, 'gears': 12299, 'stefan': 12300, 'suhana': 12301, 'sickly': 12302, 'wooh': 12303, 'opportunities': 12304, 'halt': 12305, 'unusual': 12306, 'unholy': 12307, 'ble': 12308, 'camden': 12309, 'lala': 12310, 'lullaby': 12311, 'limping': 12312, 'yarn': 12313, 'melancholy': 12314, 'stickers': 12315, 'overs': 12316, 'firts': 12317, 'spielburg': 12318, 'slamming': 12319, 'southland': 12320, 'asus': 12321, 'aaahhhh': 12322, 'ratty': 12323, 'airline': 12324, 'bahamas': 12325, 'plugged': 12326, 'cussing': 12327, 'corning': 12328, 'cardigan': 12329, 'playstation': 12330, 'xxxxxxx': 12331, 'licks': 12332, 'ulcers': 12333, 'newt': 12334, 'mediterranean': 12335, 'navy': 12336, 'retake': 12337, 'twitta': 12338, 'snooze': 12339, 'peanuts': 12340, 'osbourne': 12341, 'yayness': 12342, 'prescriptions': 12343, 'feline': 12344, 'appeal': 12345, 'bottling': 12346, 'webcast': 12347, 'jonasnewsongs': 12348, 'thoughtful': 12349, 'rawr': 12350, 'forgiving': 12351, 'cran': 12352, 'castiel': 12353, 'signings': 12354, 'supermarket': 12355, 'mack': 12356, 'posters': 12357, 'beets': 12358, 'helll': 12359, 'pierre': 12360, 'screenshots': 12361, 'lancaster': 12362, 'eeeeeewwwwwwww': 12363, 'mozilla': 12364, 'theree': 12365, 'picnik': 12366, 'signature': 12367, 'goog': 12368, 'erie': 12369, 'cranberry': 12370, 'spiced': 12371, 'tyson': 12372, 'finland': 12373, 'mahal': 12374, 'snaps': 12375, 'goodie': 12376, 'itch': 12377, 'opted': 12378, 'sucka': 12379, 'freo': 12380, 'malta': 12381, 'mvp': 12382, 'fishy': 12383, 'beaches': 12384, 'surgury': 12385, 'brag': 12386, 'whale': 12387, 'tuesdays': 12388, 'successfully': 12389, 'defeated': 12390, 'skits': 12391, 'touchin': 12392, 'taped': 12393, '530': 12394, 'isle': 12395, 'geocache': 12396, 'tuh': 12397, 'smacks': 12398, 'sleeepy': 12399, 'txtin': 12400, 'v2': 12401, 'cgi': 12402, 'drain': 12403, 'panty': 12404, 'eddy': 12405, 'hendrix': 12406, 'amorsote': 12407, 'geocaching': 12408, 'ghetto': 12409, 'doubtful': 12410, '145': 12411, 'fearless': 12412, 'dcd': 12413, 'cultural': 12414, 'cemetary': 12415, 'fiat': 12416, 'shorten': 12417, 'dx': 12418, 'destination': 12419, 'bens': 12420, 'cydia': 12421, 'modest': 12422, 'adjusting': 12423, 'urls': 12424, 'expand': 12425, 'growth': 12426, 'bacc': 12427, 'whatnot': 12428, 'scripts': 12429, 'atx': 12430, 'accidently': 12431, 'scarf': 12432, 'welcomed': 12433, 'uniform': 12434, 'loaders': 12435, 'critique': 12436, 'rickbaker24': 12437, 'problemo': 12438, 'pitas': 12439, 'euphoria': 12440, 'racquet': 12441, 'lolly': 12442, 'vermont': 12443, 'amateur': 12444, 'buzy': 12445, 'acute': 12446, 'appartment': 12447, 'beaten': 12448, 'catchy': 12449, 'shifting': 12450, 'edc': 12451, 'shaw': 12452, 'migranes': 12453, 'britt': 12454, 'flame': 12455, 'borat': 12456, 'wossy': 12457, 'investigate': 12458, 'babysitter': 12459, 'capture': 12460, 'abuse': 12461, 'adaptation': 12462, 'sank': 12463, 'reese': 12464, 'yack': 12465, 'pret': 12466, 'bins': 12467, 'hobart': 12468, 'judges': 12469, 'cartoons': 12470, 'cordova': 12471, 'migrate': 12472, 'reinstalling': 12473, 'moody': 12474, 'diseases': 12475, 'jester': 12476, 'cici': 12477, 'bhai': 12478, 'clarifying': 12479, 'fisher': 12480, 'dreamin': 12481, 'acing': 12482, 'ahhhhhhhh': 12483, 'scents': 12484, 'pov': 12485, 'cryed': 12486, 'stash': 12487, 'racists': 12488, 'allo': 12489, 'chez': 12490, 'nurburgring': 12491, 'vai': 12492, 'lena': 12493, 'pixels': 12494, 'prologue': 12495, 'ceo': 12496, 'usd': 12497, 'witcha': 12498, 'gender': 12499, 'spendin': 12500, 'twiterfon': 12501, 'packet': 12502, 'mead': 12503, 'programs': 12504, 'centers': 12505, 'suzi': 12506, 'sau': 12507, 'fkn': 12508, 'graph': 12509, 'brush': 12510, 'chitty': 12511, 'lonesome': 12512, 'scenic': 12513, 'replyed': 12514, 'sanfran': 12515, 'cashier': 12516, 'blehhh': 12517, 'inventory': 12518, 'aston': 12519, 'tore': 12520, 'jammies': 12521, 'tryouts': 12522, 'lexi': 12523, 'dale': 12524, 'woodman': 12525, 'greene': 12526, 'lvl': 12527, 'mv': 12528, 'hola': 12529, 'irresponsible': 12530, 'suffers': 12531, 'bwahah': 12532, 'determination': 12533, 'betting': 12534, 'relegated': 12535, 'autofollow': 12536, 'funy': 12537, 'cuban': 12538, 'usc': 12539, 'rasberries': 12540, 'twitpics': 12541, '77': 12542, 'grouchy': 12543, 'mtb': 12544, 'nhi': 12545, 'tiime': 12546, 'provided': 12547, 'rehab': 12548, 'godawful': 12549, 'dough': 12550, 'finaly': 12551, 'dion': 12552, 'vlog': 12553, 'razer': 12554, 'omgggg': 12555, 'oof': 12556, 'chronic': 12557, 'embassy': 12558, 'overslept': 12559, 'cannibal': 12560, 'optimistic': 12561, 'jools': 12562, 'midst': 12563, 'provide': 12564, 'lou': 12565, 'cloth': 12566, 'malay': 12567, 'twitterer': 12568, 'mpix': 12569, 'fuckkk': 12570, 'tisk': 12571, 'suss': 12572, 'kaylee': 12573, 'alumni': 12574, 'frustration': 12575, 'grrh': 12576, 'ino': 12577, 'bulky': 12578, 'despair': 12579, 'tying': 12580, 'dangggg': 12581, 'contributors': 12582, 'electro': 12583, 'refs': 12584, 'ib': 12585, 'pku': 12586, 'tylenol': 12587, 'cigs': 12588, 'recycling': 12589, 'rec': 12590, 'bif': 12591, 'experimental': 12592, 'arthritis': 12593, 'wt': 12594, 'separately': 12595, 'jockey': 12596, 'dsds': 12597, 'barbeque': 12598, 'absolutley': 12599, 'motorway': 12600, 'bedd': 12601, 'mug': 12602, 'funds': 12603, 'encore': 12604, 'hotspots': 12605, 'grinding': 12606, 'rep': 12607, 'anticipated': 12608, 'weeps': 12609, 'gumbo': 12610, 'bling': 12611, 'genial': 12612, 'pfff': 12613, 'distances': 12614, 'linz': 12615, 'naty': 12616, 'whites': 12617, 'chaper': 12618, 'fence': 12619, 'jaycees': 12620, 'notices': 12621, 'graf': 12622, 'relays': 12623, 'kansas': 12624, 'clumsy': 12625, 'gooooooooood': 12626, 'wowzer': 12627, 'ketauan': 12628, 'cabut': 12629, 'crumpin': 12630, 'fisch': 12631, 'goofy': 12632, 'dorky': 12633, 'worksheet': 12634, 'wb': 12635, 'located': 12636, 'buggers': 12637, 'evenings': 12638, 'norwich': 12639, 'awfully': 12640, 'zoids': 12641, 'ufc': 12642, 'chk': 12643, 'glau': 12644, 'rsmv': 12645, 'turtles': 12646, 'hha': 12647, 'fedex': 12648, 'hbu': 12649, 'wildlife': 12650, 'vï¿½o': 12651, 'wy': 12652, 'wowza': 12653, 'blacks': 12654, 'ballet': 12655, 'rewrite': 12656, 'abbey': 12657, '4d': 12658, 'puzzle': 12659, 'hairdo': 12660, 'hahhahah': 12661, 'moons': 12662, 'operational': 12663, 'tortilla': 12664, 'trusted': 12665, 'danced': 12666, 'traitor': 12667, 'blackjack': 12668, 'bloggers': 12669, 'panel': 12670, 'dreadfully': 12671, 'omw': 12672, 'flylady': 12673, 'needy': 12674, 'googledocs': 12675, 'pleaseeeee': 12676, 'bouts': 12677, 'iam': 12678, 'enuff': 12679, 'communist': 12680, 'bsb': 12681, 'hamster': 12682, 'futile': 12683, 'crashes': 12684, 'carter': 12685, 'hereby': 12686, 'employed': 12687, 'tactik': 12688, 'aero': 12689, 'o2': 12690, '25c': 12691, 'jean': 12692, 'twinz': 12693, 'mal': 12694, 'lovley': 12695, 'approved': 12696, 'brainbone': 12697, 'telescope': 12698, 'deffo': 12699, 'dez': 12700, 'unbearable': 12701, 'comet09': 12702, 'thursdays': 12703, 'boiler': 12704, 'vice': 12705, 'healed': 12706, 'canadamigos': 12707, 'nutreal': 12708, 'bookbag': 12709, 'lung': 12710, 'dana': 12711, '12hr': 12712, 'stations': 12713, 'hatch': 12714, 'hgtv': 12715, 'pilates': 12716, 'librefm': 12717, 'audacious': 12718, 'kiddie': 12719, 'boner': 12720, 'ttt': 12721, 'embarassing': 12722, 'esque': 12723, 'cx': 12724, 'yogurtland': 12725, 'flea': 12726, 'supper': 12727, 'critics': 12728, 'peole': 12729, 'jobros': 12730, 'steroids': 12731, 'mans': 12732, 'hobbit': 12733, 'chowder': 12734, 'blogspot': 12735, 'queue': 12736, 'imm': 12737, 'hh': 12738, 'didgeridoo': 12739, 'kernel': 12740, 'outttt': 12741, 'concentrating': 12742, 'fixd': 12743, 'cabinets': 12744, 'withdrew': 12745, 'wabble': 12746, 'scariest': 12747, 'groupies': 12748, 'enigma': 12749, 'rochester': 12750, 'knotts': 12751, 'blooming': 12752, 'fevered': 12753, 'nos': 12754, 'booboo': 12755, 'assedly': 12756, 'laodicean': 12757, 'tivo': 12758, 'derbyshire': 12759, 'tutoring': 12760, 'sher': 12761, 'chrissy': 12762, 'seating': 12763, 'underage': 12764, 'shatter': 12765, 'productivity': 12766, 'dumped': 12767, 'mbp': 12768, 'chapel': 12769, 'arrays': 12770, 'dehydrated': 12771, 'nosebleed': 12772, 'mang': 12773, 'ulcer': 12774, 'gabba': 12775, 'teens': 12776, 'lostthegame': 12777, 'aahhh': 12778, 'changs': 12779, 'uve': 12780, 'jajaja': 12781, 'manics': 12782, '1667': 12783, 'imput': 12784, 'tweat': 12785, 'segment': 12786, 'pox': 12787, 'followfridays': 12788, 'stephanie': 12789, 'waved': 12790, 'jaya': 12791, 'owwwwww': 12792, 'sri': 12793, 'poorer': 12794, 'fernanda': 12795, 'stripey': 12796, 'udon': 12797, 'lars': 12798, 'thot': 12799, '57': 12800, 'raced': 12801, 'halla': 12802, 'palms': 12803, 'stinky': 12804, 'cunts': 12805, 'doughnuts': 12806, 'niko': 12807, 'hungary': 12808, 'xml': 12809, 'frequent': 12810, 'sprout': 12811, 'troy': 12812, 'jaja': 12813, 'waraku': 12814, 'emmy': 12815, 'yaaaaaay': 12816, 'suffolk': 12817, 'ana': 12818, 'gems': 12819, 'elegance': 12820, 'tagalog': 12821, 'lurgy': 12822, 'streamline': 12823, 'blasting': 12824, 'macy': 12825, 'carrots': 12826, 'scrolly': 12827, 'maxin': 12828, 'eeeeep': 12829, 'dann': 12830, 'stability': 12831, 'sol': 12832, 'pints': 12833, 'fondue': 12834, 'cheque': 12835, 'watts': 12836, 'ivory': 12837, '6moredays': 12838, 'jar': 12839, 'freesat': 12840, 'pta': 12841, 'wolverhampton': 12842, 'remedies': 12843, 'mustaches': 12844, 'cornell': 12845, 'arnt': 12846, 'monsters': 12847, 'warmth': 12848, 'che': 12849, 'bawls': 12850, 'choppers': 12851, 'friendorfollow': 12852, 'calculus': 12853, 'sez': 12854, 'lapit': 12855, 'twitterfridge': 12856, 'scandalous': 12857, 'rosemary': 12858, 'pugsly': 12859, 'fountain': 12860, 'query': 12861, 'minas': 12862, 'thud': 12863, 'causeee': 12864, 'praising': 12865, 'prototype': 12866, 'humma': 12867, 'fairness': 12868, 'btches': 12869, 'allan': 12870, 'cullen': 12871, 'polyester': 12872, 'checks': 12873, 'budapest': 12874, 'chevre': 12875, 'voter': 12876, 'peeled': 12877, 'seller': 12878, 'swansea': 12879, 'alexanders': 12880, 'collared': 12881, 'freecyclers': 12882, 'clint': 12883, 'diva': 12884, 'hovered': 12885, 'ba115': 12886, 'enlisted': 12887, 'labo': 12888, 'flightwas': 12889, '47pm': 12890, 'boarded': 12891, 'chemics': 12892, 'luketic': 12893, 'heathfox': 12894, 'bsod': 12895, 'savechuck': 12896, '2ft': 12897, 'laud': 12898, 'weddin': 12899, 'frazzled': 12900, 'trï¿½n': 12901, 'thiï¿½n': 12902, 'xu': 12903, 'tra': 12904, 'lisette': 12905, 'aaand': 12906, 'rince': 12907, 'cuming': 12908, 'bckkk': 12909, 'clubbin': 12910, 'headset': 12911, 'moto': 12912, 'headshots': 12913, 'antidisestablishmentarianism': 12914, 'comlementary': 12915, 'waterley': 12916, 'mistressing': 12917, 'wwwwweeeeeeeeeeeeeeekkkkkeeeennnndddd': 12918, 'whatshappening': 12919, 'stooopid': 12920, 'interent': 12921, 'dmore': 12922, '1mo': 12923, 'microb': 12924, 'ommegang': 12925, 'russia': 12926, 'retaking': 12927, 'mucking': 12928, 'civ': 12929, 'hadouken': 12930, '91': 12931, 'mesa': 12932, 'thatwouldmake1of': 12933, 'myfriends': 12934, 'represents': 12935, 'sahal': 12936, 'stunnerbum': 12937, 'yuhh': 12938, 'footer': 12939, 'ariella': 12940, 'gonzalez': 12941, 'chelmsford': 12942, 'demad': 12943, 'crowds': 12944, 'tagging': 12945, 'persepolis': 12946, 'downright': 12947, 'masochistic': 12948, 'sweldo': 12949, 'whittier': 12950, 'magnolia': 12951, 'collinson': 12952, 'lightening': 12953, 'disorders': 12954, 'chairman': 12955, 'bev': 12956, 'areas': 12957, 'hahahahahahahahahahahahaha': 12958, 'seagull': 12959, 'metting': 12960, 'glib': 12961, 'misspronouncing': 12962, 'kto': 12963, 'ntn': 12964, 'bbf': 12965, 'sukanya': 12966, 'jun': 12967, 'pyo': 12968, 'knackers': 12969, 'gamee': 12970, '300seconds': 12971, 'datapoint': 12972, 'evokes': 12973, 'danapoint': 12974, 'greattttt': 12975, 'freshner': 12976, 'horriblel': 12977, 'grossed': 12978, 'dfizzy': 12979, 'basil': 12980, 'telegraph': 12981, 'isint': 12982, 'and1': 12983, 'scenery': 12984, 'sippin': 12985, 'discriminating': 12986, 'blinded': 12987, 'theo': 12988, 'lï¿½n': 12989, 'giï¿½': 12990, 'tï¿½i': 12991, 'procrastinate': 12992, 'donations': 12993, 'putz': 12994, 'essa': 12995, 'beeping': 12996, 'speeeeeen': 12997, 'congestion': 12998, 'botti': 12999, 'photowalkingutah': 13000, 'photowalks': 13001, 'whaaaaaat': 13002, 'm0ther': 13003, 'rhix': 13004, '5hours': 13005, 'weakness': 13006, 'boreddddd': 13007, 'cookbooks': 13008, 'funchal': 13009, 'finearts': 13010, 'creatur': 13011, 'dne': 13012, 'officejet': 13013, 'j4550': 13014, 'windows7': 13015, 'fax': 13016, 'ode': 13017, '613': 13018, 'installments': 13019, 'durham': 13020, 'decleration': 13021, 'sonics': 13022, 'bred': 13023, 'constance': 13024, 'uy': 13025, 'refulx': 13026, 'upï¿½probably': 13027, 'bleech': 13028, 'inlawing': 13029, 'preservatives': 13030, 'discing': 13031, 'koozie': 13032, 'blimey': 13033, 'eyeshadows': 13034, 'defited': 13035, 'shitting': 13036, 'bof': 13037, 'campos': 13038, 'missendon': 13039, 'cingular': 13040, 'restriction': 13041, 'salaried': 13042, 'bitbetter': 13043, 'lottsa': 13044, 'manor': 13045, 'giraffes': 13046, 'dv2000': 13047, 'bareilles': 13048, 'mrsal65': 13049, 'deadpool': 13050, 'fanboy': 13051, 'morrison': 13052, 'tangible': 13053, 'kayyy': 13054, 'hws': 13055, 'moonwolf': 13056, 'heroism': 13057, 'badges': 13058, 'sixer': 13059, 'breakdown': 13060, 'garde': 13061, 'aapko': 13062, 'sehat': 13063, 'str8': 13064, 'jitsu': 13065, 'wikid': 13066, 'myne': 13067, 'dudde': 13068, 'jah': 13069, 'wutz': 13070, 'emai': 13071, '638': 13072, '0255': 13073, 'prospects': 13074, 'jor': 13075, 'fontstruct': 13076, 'dafont': 13077, '16k': 13078, 'minami': 13079, 'ean': 13080, '3asa': 13081, 'zap': 13082, 'larenz': 13083, 'fineass': 13084, 'tate': 13085, 'statements': 13086, 'tyvm': 13087, 'redford': 13088, 'sufjan': 13089, 'slugger': 13090, 'religious': 13091, 'spamspamspam': 13092, 'keiths': 13093, 'aot': 13094, 'lec': 13095, 'larryonation': 13096, 'happily': 13097, 'alligators': 13098, 'refusal': 13099, 'realisation': 13100, 'monthsish': 13101, 'superseeded': 13102, 'shivering': 13103, 'lurk': 13104, 'kirsten': 13105, 'crazi': 13106, 'ttytomorrow': 13107, 'churchill': 13108, 'burlesque': 13109, 'elsinore': 13110, 'residential': 13111, 'commitment': 13112, 'thennn': 13113, 'hacky': 13114, 'kisha': 13115, 'taiwanese': 13116, 'dramas': 13117, 'chun': 13118, 'selective': 13119, 'opacity': 13120, 'universally': 13121, 'beignet': 13122, 'broooooooo': 13123, 'saya': 13124, 'poem': 13125, 'michi': 13126, 'moma': 13127, 'flued': 13128, 'bejewled': 13129, 'higherscore': 13130, 'avoidance': 13131, 'continuous': 13132, 'loosen': 13133, 'gremlins': 13134, 'affirmation': 13135, 'unhappiness': 13136, 'uktv': 13137, 'tomro': 13138, 'livenation': 13139, '4k': 13140, 'zsg': 13141, 'oval': 13142, 'ohmygosh': 13143, 'clamped': 13144, 'monopoly': 13145, 'arrangements': 13146, 'cheapest': 13147, 'purusha': 13148, 'androgyne': 13149, 'explore': 13150, '75th': 13151, 'barg': 13152, 'gmod': 13153, 'holcomb': 13154, 'htb': 13155, 'nanay': 13156, 'hopping': 13157, 'yvr': 13158, 'fillet': 13159, 'financially': 13160, 'template': 13161, 'cellgroup': 13162, 'ballroom': 13163, 'maita': 13164, 'decking': 13165, 'garnier': 13166, 'drugstore': 13167, 'partï¿½ï¿½': 13168, 'tiniest': 13169, '2nit': 13170, 'fangtasia': 13171, 'ranked': 13172, 'meghan': 13173, 'dinnner': 13174, 'flovers': 13175, 'mucky': 13176, 'twitteeeerrr': 13177, 'babiieshow': 13178, 'thng': 13179, 'd300': 13180, '50mm': 13181, 'nickchien': 13182, 'obbsessed': 13183, 'harper': 13184, 'illy': 13185, 'shortage': 13186, 'combers': 13187, 'advisory': 13188, 'reduces': 13189, 'kauffman': 13190, 'ohlala': 13191, 'businessy': 13192, 'boge': 13193, 'tweetsuite': 13194, 'eighties': 13195, 'chasers': 13196, 'favoring': 13197, 'favorit': 13198, 'vickyt': 13199, 'w12th': 13200, 'kaiboshed': 13201, 'tae': 13202, '38pm': 13203, 'noisier': 13204, 'otherside': 13205, 'crepe': 13206, 'breesaholic': 13207, 'ewl': 13208, 'fifa': 13209, 'zade': 13210, 'meself': 13211, 'constructivist': 13212, 'chng': 13213, 'ceviche': 13214, 'bellinis': 13215, 'jeebus': 13216, 'designated': 13217, 'consecutive': 13218, 'guus': 13219, 'lifestory': 13220, 'whatsup': 13221, 'brittneyy': 13222, 'harassing': 13223, 'jm': 13224, 'drumstick': 13225, 'guttered': 13226, 'nzntm': 13227, 'hosanna': 13228, 'butï¿½nadaï¿½': 13229, 'stalkerishly': 13230, 'brookie': 13231, 'moracca': 13232, 'shi': 13233, 'wai': 13234, 'guo': 13235, 'flyers': 13236, 'treeeeek': 13237, 'boats': 13238, 'morgans': 13239, 'spb': 13240, 'baterrry': 13241, 'tryingtofind': 13242, 'movieto': 13243, 'spalding': 13244, 'springfields': 13245, 'mysweetebony': 13246, 'paysite': 13247, 'lea': 13248, 'hahahahahahahaha': 13249, 'bleedin': 13250, 'raps': 13251, 'sunlounger': 13252, 'kbangun': 13253, 'gara2': 13254, 'mimpi': 13255, 'mufasa': 13256, 'warriors': 13257, 'japa': 13258, 'spreads': 13259, 'fingered': 13260, 'amandas': 13261, 'calendars': 13262, 'informs': 13263, 'farking': 13264, 'mypowerbookg4rip': 13265, 'formally': 13266, 'ugliest': 13267, 'handball': 13268, 'buddi': 13269, 'wowowee': 13270, 'utrecht': 13271, 'croccos': 13272, 'salsa': 13273, 'ienjoyed': 13274, 'fatass': 13275, 'sundaes': 13276, 'dumpster': 13277, 'zit': 13278, 'herpes': 13279, 'lightweights': 13280, 'toesha': 13281, 'specials': 13282, 'frankfurt': 13283, 'yl': 13284, 'mcnair': 13285, 'probando': 13286, 'fridayyyyy': 13287, 'dillematic': 13288, 'sc2': 13289, 'd3': 13290, 'tribe': 13291, 'shoppe': 13292, 'chesapeake': 13293, 'jubilee': 13294, 'hometh': 13295, 'armed': 13296, 'ripe': 13297, 'rakeem': 13298, 'gdnight': 13299, 'otay': 13300, 'southhampton': 13301, 'mummers': 13302, 'iiii': 13303, 'puddles': 13304, 'tiredddd': 13305, 'odeeee': 13306, 'davedays': 13307, 'schoolmates': 13308, 'belvoir': 13309, 'stationed': 13310, 'pentagon': 13311, 'maniacs': 13312, 'unfort': 13313, 'dims': 13314, 'ala': 13315, 'cunningham': 13316, 'cagayan': 13317, 'estimation': 13318, 'yeaaay': 13319, 'gyms': 13320, 'pipers': 13321, 'molars': 13322, 'mugglespace': 13323, 'trackpad': 13324, 'https': 13325, 'extplorer': 13326, 'reaches': 13327, 'ucky': 13328, 'mores': 13329, 'haarlem': 13330, 'kacy': 13331, 'krista': 13332, 'wandelweekend': 13333, 'recomended': 13334, 'realising': 13335, 'sheltered': 13336, 'upbringing': 13337, 'myslef': 13338, 'psa': 13339, 'usuing': 13340, 'twiddict': 13341, 'pcfopc': 13342, 'meeeeeeeeeeee': 13343, '500kb': 13344, 'haylee': 13345, 'woooooooooo': 13346, 'custodian': 13347, 'cic': 13348, 'cpt': 13349, 'yahooo': 13350, 'binks': 13351, 'agessss': 13352, 'girlish': 13353, 'speechless': 13354, 'eveyone': 13355, 'promsing': 13356, 'miricle': 13357, 'snugglin': 13358, 'claratyne': 13359, 'reprieve': 13360, 'carrer': 13361, 'crazyb': 13362, 'willkommen': 13363, 'suxs': 13364, 'phoenixfm': 13365, 'samuri': 13366, 'moleskine': 13367, 'fcs': 13368, 'sleepyhead': 13369, 'brotherhood': 13370, 'magicians': 13371, 'sxswi': 13372, 'whuahahhaha': 13373, 'bram': 13374, 'ladages': 13375, 'applejacks': 13376, 'carrot': 13377, 'barcalona': 13378, 'philips': 13379, 'sharpie': 13380, 'dangerously': 13381, 'lele': 13382, 'delusional': 13383, 'bailing': 13384, 'shivashankar': 13385, 'spellin': 13386, 'lecturing': 13387, 'beasts': 13388, 'wnat': 13389, 'ï¿½ï¿½l': 13390, 'berto': 13391, 'unconference': 13392, 'unreason': 13393, 'empress': 13394, 'tagers': 13395, 'lagoon': 13396, 'restuarant': 13397, 'woosoo': 13398, 'gant': 13399, 'driveing': 13400, 'nutts': 13401, 'johns': 13402, 'knack': 13403, 'donminican': 13404, 'basset': 13405, 'hound': 13406, 'costing': 13407, 'trudged': 13408, 'anathem': 13409, 'pg340': 13410, 'aprreciate': 13411, 'recommending': 13412, 'kirin': 13413, 'metamorph': 13414, 'ursssss': 13415, 'replicants': 13416, 'rankings': 13417, 'piggls': 13418, 'pickles': 13419, 'empitome': 13420, 'mommiessss': 13421, 'lukes': 13422, 'wonderfull': 13423, 'breakfst': 13424, 'chgehcfncshvd': 13425, 'sphere': 13426, 'sillyness': 13427, 'brights': 13428, 'martina': 13429, 'mcbride': 13430, 'thaz': 13431, 'faints': 13432, 'ranchero': 13433, 'jetsetter': 13434, 'woooooow': 13435, 'maseera': 13436, 'biiiiig': 13437, 'xbox720': 13438, 'tabu': 13439, 'twittter': 13440, 'slowdown': 13441, 'powered': 13442, 'lopatcong': 13443, 'maintanance': 13444, 'buhbye': 13445, 'thorw': 13446, 'faccia': 13447, 'clarendon': 13448, 'brokennn': 13449, 'roach': 13450, '4e': 13451, 'yardhouse': 13452, 'immigrant': 13453, 'gott': 13454, 'rummage': 13455, 'ect': 13456, 'wzzzzzzzzzup': 13457, 'derrek': 13458, 'skylar': 13459, 'alphabet': 13460, 'bootay': 13461, 'wrox': 13462, 'groundbreaking': 13463, 'serenading': 13464, 'judicial': 13465, 'supervision': 13466, 'executive': 13467, 'commonwealth': 13468, 'caribbean': 13469, 'bwahahaha': 13470, 'butbutbuttt': 13471, 'cuppy': 13472, 'douple': 13473, 'boardies': 13474, 'jimithy1': 13475, 'msbj': 13476, 'relocate': 13477, 'vedanta': 13478, 'loooved': 13479, 'siggy': 13480, 'nutritious': 13481, 'buena': 13482, 'pocketwit': 13483, 'daze': 13484, 'oowweee': 13485, 'lipstic': 13486, 'mesaj': 13487, 'eroare': 13488, 'forbiddenyou': 13489, '3180758': 13490, 'jpg': 13491, 'ghicit': 13492, 'opi': 13493, 'mahalo': 13494, 'kauai': 13495, 'summervac': 13496, 'pol': 13497, 'udd': 13498, 'timmy': 13499, 'tent': 13500, 'edgefesssssst': 13501, 'sandy': 13502, 'bekz': 13503, 'derrian': 13504, 'lilash': 13505, 'slï¿½n': 13506, 'ukrainian': 13507, 'brekky': 13508, 'ugggggg': 13509, 'mantanence': 13510, 'tyrannosaurus': 13511, 'yinz': 13512, 'jfk': 13513, 'hailee': 13514, 'hn': 13515, '04182012154': 13516, 'txtd': 13517, 'gahd': 13518, 'gareths': 13519, 'gareth': 13520, 'skeptical': 13521, 'icehockey': 13522, 'programing': 13523, 'uga': 13524, 'copeland': 13525, 'kimbeommie': 13526, 'airy': 13527, 'patay': 13528, 'morita': 13529, 'remake': 13530, 'oregan': 13531, 'blt': 13532, 'grimmy': 13533, 'enw': 13534, 'shoutbox': 13535, 'overheat': 13536, 'fou': 13537, 'seeyuhhh': 13538, 'waaaaa': 13539, 'drycleaners': 13540, 'udnerstand': 13541, 'kyile': 13542, 'farn': 13543, 'lai': 13544, 'livejournal': 13545, 'knockin': 13546, 'carded': 13547, 'gamestop': 13548, 'skimmed': 13549, 'summmit': 13550, 'yeees': 13551, 'cramped': 13552, 'ashlie': 13553, 'munchies': 13554, 'natï¿½rlich': 13555, 'ilost': 13556, 'iappreciate': 13557, 'unwell': 13558, 'disconecting': 13559, 'hew': 13560, '57am': 13561, 'sharsies': 13562, 'mcmcbuddy': 13563, 'zappa': 13564, 'boyzone': 13565, 'keiligirl254': 13566, 'problematic': 13567, 'slopes': 13568, 'dundee': 13569, 'flitter': 13570, 'dg': 13571, 'gammme': 13572, 'soundwave': 13573, 'professors': 13574, 'mshs': 13575, 'oder': 13576, 'accelerated': 13577, 'atom': 13578, 'fullscreen': 13579, 'plex': 13580, 'paperboy': 13581, 'console': 13582, 'oriole': 13583, 'suet': 13584, 'blaming': 13585, 'seria': 13586, 'nuh': 13587, 'ciggarettes': 13588, 'awoken': 13589, 'gehts': 13590, 'abi': 13591, 'vuelven': 13592, '999': 13593, 'slanted': 13594, 'responsibility': 13595, 'baaha': 13596, 'healthyliving': 13597, '1kg': 13598, '12lbs': 13599, 'ladie': 13600, 'sparring': 13601, 'stephens': 13602, 'eweryone': 13603, 'thundershowers': 13604, 'trued': 13605, 'rim': 13606, 'ubc': 13607, 'xhosa': 13608, 'bla': 13609, 'vll': 13610, 'kï¿½se': 13611, 'ctc': 13612, 'prorogued': 13613, 'journeying': 13614, 'ditching': 13615, 'strum': 13616, 'jasmin': 13617, 'buggered': 13618, '20min': 13619, 'recalled': 13620, 'iprocrastinate': 13621, 'flaw': 13622, 'reilly': 13623, 'craptastic': 13624, 'girrrrl': 13625, 'sandown': 13626, 'rollercoasters': 13627, 'storey': 13628, 'haunted': 13629, 'ralphie': 13630, 'valdez': 13631, 'khichadi': 13632, 'ibs': 13633, 'twitterfails': 13634, 'crowded': 13635, 'ayanna': 13636, 'inc': 13637, 'skomer': 13638, 'amanzimtoti': 13639, 'lacie': 13640, 'nikz': 13641, 'defying': 13642, 'kebab': 13643, 'yolonda': 13644, 'cheeeessseee': 13645, 'claus': 13646, 'srtarting': 13647, 'nungguin': 13648, 'asih': 13649, 'yeayy': 13650, 'stastics': 13651, 'chux': 13652, 'bledel': 13653, 'mkg': 13654, 'hurtig': 13655, 'loveeya': 13656, 'simpler': 13657, 'epoxy': 13658, 'bubblewrap': 13659, 'sacrifices': 13660, 'yerrrr': 13661, 'thinkk': 13662, 'hassn': 13663, 'heeder': 13664, 'pirates': 13665, 'offtopic': 13666, 'germination': 13667, 'amara': 13668, 'gallore': 13669, 'coatandkay': 13670, 'trickery': 13671, 'exasperation': 13672, 'uglier': 13673, 'ruleaz': 13674, 'zic': 13675, '69th': 13676, 'suspension': 13677, '1ofmy': 13678, 'ppphhhhhttttt': 13679, 'satisfaction': 13680, 'orgasmic': 13681, 'thankyouu': 13682, 'proppa': 13683, 'pelangi': 13684, 'ashland': 13685, 'scholarship': 13686, 'belofsouthie': 13687, 'sachie': 13688, 'yna': 13689, 'exahausted': 13690, 'lmaoz': 13691, 'twitterati': 13692, 'fem': 13693, 'priorities': 13694, 'ryanseacrest': 13695, 'yeasterday': 13696, 'wiew': 13697, 'haaah': 13698, 'musicc': 13699, 'yoda': 13700, 'haciendo': 13701, 'primer': 13702, 'jewellery': 13703, 'overgrown': 13704, 'orgasm': 13705, 'lucia': 13706, 'octupi': 13707, 'mmommy': 13708, 'pits': 13709, 'embarrisong': 13710, 'picturesnof': 13711, 'thght': 13712, 'workd': 13713, '3u': 13714, 'ambitious': 13715, 'slum': 13716, 'landlords': 13717, 'sewage': 13718, 'lp': 13719, 'gilmour': 13720, 'singularly': 13721, 'straighening': 13722, 'bummerrr': 13723, 'doogie': 13724, 'howser': 13725, 'borriing': 13726, 'fragile': 13727, 'amazning': 13728, 'slovenia': 13729, 'valerie': 13730, 'nerrrvous': 13731, 'pln': 13732, 'earthday': 13733, 'avian': 13734, 'dans': 13735, 'whiiite': 13736, 'mauro': 13737, 'dildo': 13738, 'arseholes': 13739, 'oii': 13740, 'oiii': 13741, 'thedailyshow': 13742, 'homeeeeeee': 13743, 'rymed': 13744, 'newsroom': 13745, 'actualy': 13746, 'doughnut': 13747, 'loooooove': 13748, 'daaaay': 13749, 'cera': 13750, 'galveston': 13751, 'wefollow': 13752, 'bishop': 13753, 'recharger': 13754, 'pratchett': 13755, 'hemorrhoids': 13756, 'bellevue': 13757, 'hindering': 13758, 'lighthouse': 13759, 'opportinists': 13760, 'wahliao': 13761, '100x': 13762, 'halarious': 13763, 'dolton': 13764, 'moldy': 13765, 'pinwheel': 13766, 'persian': 13767, 'motorbikes': 13768, 'mcfox': 13769, 'terence': 13770, 'cao': 13771, 'fainting': 13772, 'salut': 13773, 'alors': 13774, 'martabak': 13775, 'fattening': 13776, 'gether': 13777, 'apparentlly': 13778, 'yanno': 13779, 'nnnaaa': 13780, 'rewind': 13781, 'sade': 13782, 'concurrency': 13783, 'bigfanfriday': 13784, 'freshmen': 13785, 'earthquakes': 13786, 'apperently': 13787, 'hou': 13788, 'administrative': 13789, 'amadou': 13790, 'miriam': 13791, 'tue': 13792, '525': 13793, 'recycled': 13794, 'diamonds': 13795, 'grt': 13796, 'feathers': 13797, 'aiyaiyah': 13798, '20h': 13799, 'softsynths': 13800, '4more': 13801, 'favorito': 13802, 'assistiu': 13803, 'grumpiness': 13804, 'it6': 13805, 'alter': 13806, 'canalway': 13807, 'cavalcade': 13808, 'chauncey': 13809, 'romans': 13810, 'hummingbird': 13811, 'borgellaj': 13812, 'peckish': 13813, 'practicum': 13814, 'fotoschool': 13815, 'hurtling': 13816, 'headlong': 13817, 'frees': 13818, 'mathematica': 13819, 'nyokap': 13820, 'pernah': 13821, 'berkata': 13822, 'demikian': 13823, 'midge': 13824, 'ripstick': 13825, 'marnier': 13826, 'souffle': 13827, 'clocked': 13828, 'northview': 13829, 'toodles': 13830, 'enlargement': 13831, 'luckkyy': 13832, 'roni': 13833, 'calmer': 13834, 'burial': 13835, 'justintimberlake': 13836, 'onward': 13837, 'settles': 13838, 'unjust': 13839, 'mmj': 13840, 'kb': 13841, 'speedo': 13842, 'eeekkkk': 13843, 'raven': 13844, 'thors': 13845, 'wonderfur': 13846, 'kittykisses': 13847, 'biggs': 13848, '53am': 13849, 'licensed': 13850, 'pronunciation': 13851, 'twenties': 13852, 'trump': 13853, 'rage': 13854, 'speedway': 13855, 'bossman': 13856, 'fï¿½hlt': 13857, 'sich': 13858, 'ganz': 13859, 'montezuma': 13860, 'koozies': 13861, 'fs': 13862, 'ohshit': 13863, 'tmeme': 13864, 'dnb': 13865, 'expression': 13866, 'hot30': 13867, 'gaydar': 13868, 'roxieravenclaw': 13869, 'wotd': 13870, 'jape': 13871, 'qq': 13872, 'comppetitive': 13873, 'overcompetitive': 13874, 'umpireing': 13875, 'trainging': 13876, 'amazingg': 13877, 'replyy': 13878, 'blushes': 13879, 'licence': 13880, 'monarchy': 13881, 'reconize': 13882, 'meditating': 13883, 'arellano': 13884, 'mika': 13885, 'eish': 13886, 'boet': 13887, 'attach': 13888, 'mammary': 13889, 'neep': 13890, 'reventï¿½n': 13891, 'estrella': 13892, 'hollowbabeshere': 13893, 'splodge': 13894, 'ï¿½7': 13895, 'terminated': 13896, 'harlington': 13897, 'itsnikkitime': 13898, 'shiiit': 13899, 'brien': 13900, 'irma': 13901, 'vep': 13902, 'marsee': 13903, 'xbiz': 13904, 'suffocating': 13905, 'laughlin': 13906, 'aaauuuggghhh': 13907, 'telluride': 13908, 'tremendously': 13909, 'tariq': 13910, 'relevent': 13911, 'harl': 13912, 'sil': 13913, 'sloooow': 13914, 'miissss': 13915, 'sounders': 13916, 'horay': 13917, 'houstatlantavegas': 13918, '2837': 13919, 'heavennn': 13920, 'groggy': 13921, 'carpool': 13922, 'alltime': 13923, 'rhcp': 13924, 'buckled': 13925, 'tweaked': 13926, 'unixodbc': 13927, 'neville88': 13928, 'enuh': 13929, 'avin': 13930, 'resource': 13931, 'geezzz': 13932, 'siargao': 13933, 'nlng': 13934, 'pla': 13935, 'gmn': 13936, 'punya': 13937, 'bmore': 13938, 'knitterati': 13939, 'ravelry': 13940, 'baws': 13941, 'kella': 13942, 'trax': 13943, '49er': 13944, 'minuets': 13945, 'preschoolers': 13946, 'relishing': 13947, 'shudve': 13948, 'koool': 13949, 'beatiful': 13950, 'moyles': 13951, 'cieee': 13952, 'potong': 13953, 'rambuuuut': 13954, 'continuo': 13955, 'tentando': 13956, 'trocar': 13957, 'oes': 13958, 'albion': 13959, 'wag': 13960, 'nadedepress': 13961, 'loveeeeee': 13962, 'shakas': 13963, 'againn': 13964, 'salads': 13965, 'volkswagen': 13966, 'pringles': 13967, 'mariqueen': 13968, 'buffy': 13969, 's1': 13970, 'romances': 13971, 'comedies': 13972, 'citeh': 13973, 'collected': 13974, 'climbed': 13975, 'snowdon': 13976, 'showss': 13977, 'mlia': 13978, 'virtualpc': 13979, 'badddd': 13980, 'plucked': 13981, 'fend': 13982, 'incapable': 13983, '120mm': 13984, 'kwento': 13985, 'optimist': 13986, 'sky2': 13987, 'synopsis': 13988, 'nia': 13989, 'dayton': 13990, 'wiz': 13991, 'shmolan': 13992, 'wrigley': 13993, 'boyzzzz': 13994, 'webcams': 13995, 'hoepfner': 13996, 'burgfest': 13997, 'karlsruhe': 13998, 'twittermoms': 13999, 'arrgghhhggguuuiiissshhhh': 14000, 'assignement': 14001, 'burma': 14002, 'eeeep': 14003, 'roasters': 14004, 'gerrard': 14005, 'suspicion': 14006, 'downhill': 14007, 'teriyaki': 14008, 'tarts': 14009, 'bod': 14010, 'wowie': 14011, 'wooie': 14012, 'biglots': 14013, 'typhoon': 14014, 'okinawa': 14015, 'gar': 14016, 'relight': 14017, 'pokemons': 14018, 'testfest': 14019, 'een': 14020, 'groot': 14021, 'succes': 14022, 'inorite': 14023, 'edna': 14024, 'insert': 14025, 'bushing': 14026, 'weapons': 14027, 'chf': 14028, '670': 14029, 'lifeline': 14030, 'immobilizer': 14031, 'recliner': 14032, 'iver': 14033, '31th': 14034, 'spector': 14035, '38th': 14036, 'mwaha': 14037, 'kia': 14038, 'pastimes': 14039, 'likelyy': 14040, 'tubas': 14041, 'broc': 14042, 'insecticidal': 14043, 'pests': 14044, 'dayofservice': 14045, 'dept': 14046, 'pellericious': 14047, 'jehovah': 14048, 'mixin': 14049, 'sharonp': 14050, 'elmer': 14051, 'hihihi': 14052, 'corny': 14053, 'alam': 14054, 'censor': 14055, 'dirteeh': 14056, 'taskbar': 14057, 'corrupt': 14058, 'chkdisk': 14059, 'fau': 14060, 'steet': 14061, 'slowmotion': 14062, 'jasmine': 14063, 'sportv': 14064, 'ooohhhhh': 14065, 'oxteach': 14066, 'splurging': 14067, 'dresss': 14068, 'bestsellers': 14069, 'lmaaaooooo': 14070, 'boyssss': 14071, 'shawna': 14072, 'damon': 14073, 'millenia': 14074, 'otara': 14075, 'laina': 14076, 'iloveshawniedur': 14077, 'maaaaannnn': 14078, 'holidayzzzzz': 14079, 'calibre': 14080, 'poooooooor': 14081, 'sheeeep': 14082, 'ironchef': 14083, 'introduced': 14084, 'richards': 14085, 'yiha': 14086, 'hanger': 14087, 'mabrook': 14088, 'inta': 14089, '3indi': 14090, 'funoon': 14091, 'tellmetwice': 14092, 'dollarosa': 14093, 'blcok': 14094, 'haox': 14095, 'passtime': 14096, 'sippinn': 14097, 'whut': 14098, 'regression': 14099, 'omginorite': 14100, 'tophatted': 14101, 'handlebar': 14102, 'valium': 14103, 'classroom': 14104, 'installer': 14105, 'bobbi': 14106, 'helicopters': 14107, 'ady': 14108, 'fillin': 14109, 'boak': 14110, 'suckd': 14111, 'pockeded': 14112, 'rachmaninoff': 14113, 'newman': 14114, 'eastbay': 14115, 'nttn': 14116, 'trailing': 14117, 'haahaaa': 14118, 'jellybeaniesss': 14119, 'darcy': 14120, 'yeunglings': 14121, 'loyalties': 14122, 'kaylen': 14123, 'uuurgg': 14124, 'handwriting': 14125, 'myseld': 14126, 'lrc': 14127, 'cooolooorss': 14128, 'scribkin': 14129, 'snoops': 14130, 'fraught': 14131, 'gunter': 14132, 'paraded': 14133, 'deposit': 14134, '006': 14135, 'trackk': 14136, 'swinish': 14137, 'striked': 14138, 'tremors': 14139, 'concord': 14140, 'jarn': 14141, 'kanoa': 14142, 'befriending': 14143, 'sporebat': 14144, 'merry': 14145, 'noddingtons': 14146, 'cucumbers': 14147, 'hersheys': 14148, 'mistaken': 14149, '1k': 14150, 'gastos': 14151, 'namen': 14152, 'wooowww': 14153, 'fakeflu': 14154, 'viet': 14155, 'nam': 14156, 'drinkies': 14157, 'sutzkever': 14158, 'cooould': 14159, 'pleaseeeeeeee': 14160, 'despertando': 14161, 'megadespistado': 14162, 'luego': 14163, 'fin': 14164, 'semana': 14165, 'saldrï¿½': 14166, 'excels': 14167, 'lags': 14168, 'inconsiderate': 14169, 'healthified': 14170, 'streusel': 14171, 'jailbroke': 14172, 'melo': 14173, 'synology': 14174, 'diskstations': 14175, 'melika': 14176, 'sos': 14177, 'accompanied': 14178, 'gliss': 14179, 'gigwise': 14180, '117th': 14181, 'fayre': 14182, 'onteeeeeeem': 14183, 'satdee': 14184, 'aaahh': 14185, 'weeek': 14186, 'interminable': 14187, 'babi': 14188, 'pangang': 14189, 'sleeepyyy': 14190, 'sacto': 14191, 'jusss': 14192, 'urghhhhhhhhhh': 14193, 'makeing': 14194, 'kon': 14195, 'nutin': 14196, 'oeiras': 14197, 'princecharming': 14198, 'lasting': 14199, 'churro': 14200, 'nooooowwww': 14201, 'yummmmy': 14202, 'trini': 14203, 'esata': 14204, 'bendito': 14205, 'crest': 14206, 'hungryyyyyy': 14207, 'wooho': 14208, 'bullwinkle': 14209, 'chattanooga': 14210, 'yeeet': 14211, 'pumkpin': 14212, 'lllooovvveee': 14213, 'baxx': 14214, 'cote': 14215, 'smb': 14216, 'winced': 14217, 'flatland': 14218, 'overture': 14219, 'goona': 14220, 'wath': 14221, 'voyed': 14222, 'trackball': 14223, 'rsi': 14224, 'murderin': 14225, '12k': 14226, 'pyr': 14227, 'doorknobs': 14228, 'crushing': 14229, 'jaws': 14230, 'podcasters': 14231, 'emporium': 14232, 'socket': 14233, 'maricar': 14234, 'shopper': 14235, 'goldmine': 14236, 'sarcy': 14237, 'tatteddddd': 14238, 'notified': 14239, 'formated': 14240, 'wade': 14241, 'testicles': 14242, 'naa': 14243, 'cryopreserved': 14244, 'maatt': 14245, 'dudeee': 14246, 'xdxdxd': 14247, 'tablespotting': 14248, 'yaeh': 14249, 'suekd': 14250, 'dillybar': 14251, 'yuuum': 14252, 'sl100': 14253, 'ohay': 14254, 'cofffeeeeeee': 14255, 'gwenyth': 14256, 'scarlett': 14257, 'paraguay': 14258, 'flawless': 14259, 'thnxx': 14260, 'fanciful': 14261, '24hr': 14262, 'cliched': 14263, 'elliptical': 14264, 'splints': 14265, 'itx': 14266, 'cenario': 14267, 'slays': 14268, '30rock': 14269, 'inbruges': 14270, '214': 14271, 'betrayed': 14272, 'boohooooooooooo': 14273, 'longstory': 14274, 'swindon': 14275, 'havaianas': 14276, 'molded': 14277, 'repops': 14278, 'grangemouth': 14279, 'hilarity': 14280, 'asprin': 14281, 'depp': 14282, 'primatech': 14283, 'decade': 14284, 'gatwick': 14285, 'tlkin': 14286, 'fiftythousand': 14287, 'haystack': 14288, 'penguin': 14289, 'sheering': 14290, 'lsu': 14291, 'b7': 14292, 'maya': 14293, 'kibbel': 14294, 'monetize': 14295, 'differentiated': 14296, 'nopay': 14297, 'mie': 14298, 'soeur': 14299, 'anythgin': 14300, 'sunshineeeeeee': 14301, 'tempt': 14302, 'prerequisites': 14303, 'ahahahahahaha': 14304, 'urm': 14305, 'soonest': 14306, 'kels': 14307, 'verey': 14308, 'madry': 14309, 'chasawy': 14310, '9j': 14311, 'heeelllppppp': 14312, 'cecilia': 14313, 'secs': 14314, 'yesterdaynight': 14315, 'knijp': 14316, 'jaap': 14317, 'wrinkled': 14318, 'talkinï¿½': 14319, 'risks': 14320, 'tja': 14321, 'cannabis': 14322, 'ahhhaaaaa': 14323, 'halved': 14324, 'freetds': 14325, 'utf': 14326, '8mm': 14327, 'maximum': 14328, 'subcribed': 14329, 'sikeeee': 14330, 'micah': 14331, 'moooooorning': 14332, 'uuu': 14333, 'yeey': 14334, 'epenis': 14335, 'hving': 14336, 'iemoticons': 14337, '79ï¿½': 14338, 'regionals': 14339, 'duno': 14340, 'tortillas': 14341, '9h': 14342, 'beautifullll': 14343, 'levy': 14344, 'yasemin': 14345, 'sehr': 14346, 'sï¿½ï¿½': 14347, 'tos': 14348, 'overlooked': 14349, 'loldog': 14350, 'germane': 14351, 'tweeterwall': 14352, 'mtaby': 14353, 'uniqname': 14354, 'obosession': 14355, 'singurul': 14356, 'treaz': 14357, 'vondt': 14358, 'ryggen': 14359, 'disconnecting': 14360, 'lingerie': 14361, 'venom': 14362, 'commiseration': 14363, 'influential': 14364, 'q100': 14365, 'theyr': 14366, 'sleeved': 14367, 'outgoing': 14368, 'adsl2': 14369, 'yessssss': 14370, 'assisting': 14371, 'swaying': 14372, 'giftcert': 14373, 'hipfabric': 14374, 'nonstop': 14375, 'playable': 14376, 'exclusivity': 14377, 'catchyy': 14378, 'sisa': 14379, 'leuke': 14380, 'droom': 14381, 'dus': 14382, 'goooooodmorning': 14383, 'uqh': 14384, 'supposedd': 14385, 'wakke': 14386, 'earlyy': 14387, 'cantt': 14388, 'sleepp': 14389, 'shakes': 14390, 'gula': 14391, 'melaka': 14392, 'santan': 14393, 'sworn': 14394, 'ybc': 14395, 'presumed': 14396, 'bravi': 14397, 'grouling': 14398, 'saini': 14399, 'determines': 14400, 'proctor': 14401, 'brngs': 14402, 'starbux': 14403, 'corieography': 14404, 'christoph': 14405, 'aaaaaawwwesome': 14406, '13341015518': 14407, 'w4': 14408, 'hinckley': 14409, '1h30m': 14410, 'rearranged': 14411, 'tostitos': 14412, 'piknik': 14413, 'bereft': 14414, 'faults': 14415, 'makeovers': 14416, 'mariahs': 14417, 'otra': 14418, 'vez': 14419, 'fornicating': 14420, 'dionusia': 14421, 'accidente': 14422, 'txs': 14423, 'funtastic': 14424, 'clorox': 14425, 'reprezent': 14426, 'zent': 14427, 'serco': 14428, 'stamford': 14429, 'staffers': 14430, 'difficulty': 14431, 'idmfinal': 14432, 'greaattt': 14433, 'lacrimal': 14434, 'infectection': 14435, 'existes': 14436, 'arhhhhhh': 14437, 'fung': 14438, 'dumplings': 14439, 'orbicule': 14440, 'norwegian': 14441, 'backgroung': 14442, 'ppicture': 14443, 'jeeeeez': 14444, 'thirst': 14445, 'depite': 14446, 'reactivation': 14447, 'primark': 14448, 'sluts': 14449, 'luigi': 14450, 'lovebank': 14451, 'chaceeeeeee': 14452, 'juvely': 14453, 'roflmfao': 14454, 'infelizzzzmente': 14455, 'alcool': 14456, 'fds': 14457, 'notin': 14458, 'guessin': 14459, 'gitwar': 14460, 'r20': 14461, '2l': 14462, 'thatmakes': 14463, 'yï¿½n': 14464, 'tï¿½m': 14465, 'thï¿½ng': 14466, 'sanh': 14467, 'cï¿½ng': 14468, 'chï¿½a': 14469, 'elusive': 14470, 'corpes': 14471, 'reserves': 14472, 'unearthly': 14473, 'tought': 14474, 'xxo': 14475, 'jont': 14476, 'husb': 14477, 'novell': 14478, 'moonlight': 14479, 'inane': 14480, 'awesomest': 14481, 'kc910': 14482, 'touchscreen': 14483, 'atltweet': 14484, 'shooould': 14485, 'goode': 14486, 'ahora': 14487, 'incredily': 14488, '234': 14489, 'mononoke': 14490, 'boldly': 14491, 'bumf': 14492, 'optician': 14493, 'disbelief': 14494, 'posited': 14495, 'caliente': 14496, 'blokey': 14497, 'ded': 14498, 'introduction': 14499, 'strung': 14500, 'brlliant': 14501, 'fuun': 14502, 'packages': 14503, 'suuuuuuuure': 14504, 'bakers': 14505, 'exmouth': 14506, 'grime': 14507, 'bachus': 14508, 'definite': 14509, 'cought': 14510, 'giardia': 14511, 'lifeestyle': 14512, 'implying': 14513, 'okiee': 14514, 'tamera': 14515, 'cw': 14516, 'appreciating': 14517, 'chapped': 14518, 'shiraz': 14519, 'bahai': 14520, 'wr': 14521, 'zahedan': 14522, 'succeed': 14523, 'hedberg': 14524, 'writin': 14525, 'greenday': 14526, 'gates': 14527, 'flicker': 14528, 'deficit': 14529, 'qet': 14530, 'drankin': 14531, 'suwweeeeet': 14532, 'fondont': 14533, 'lobbyists': 14534, 'mangosteen': 14535, 'cybersecurity': 14536, 'illuminated': 14537, 'dreaaaming': 14538, 'sweeeet': 14539, 'asst': 14540, 'rhiannon': 14541, 'compton': 14542, 'boooooooored': 14543, 'printchick': 14544, 'sharen': 14545, 'woof': 14546, 'backwards': 14547, 'sab': 14548, 'comme': 14549, 'tails': 14550, 'youself': 14551, 'indicates': 14552, 'bacontaco': 14553, 'hru': 14554, 'roundabouts': 14555, 'proximately': 14556, 'gphone': 14557, 'shabby': 14558, 'hazel': 14559, 'horriterrible': 14560, 'actresses': 14561, 'noooooooooooooooooo': 14562, '10ty': 14563, 'gyah': 14564, 'sape': 14565, 'usd70': 14566, 'dijual': 14567, 'varnishing': 14568, 'nothinbg': 14569, 'naaaah': 14570, 'leaking': 14571, 'ihavent': 14572, 'promotions': 14573, 'finagle': 14574, 'polarash7': 14575, 'diver': 14576, 'shudnt': 14577, 'mowgli': 14578, 'vinny': 14579, 'milestones': 14580, 'supposeddd': 14581, 'sanjeev': 14582, 'footlong': 14583, 'halal': 14584, 'tile': 14585, 'tmro': 14586, 'excitin': 14587, 'simplified': 14588, 'exposure': 14589, 'delonge': 14590, 'nomes': 14591, 'mccallie': 14592, 'steaks': 14593, 'lynny': 14594, 'cahnge': 14595, 'ufff': 14596, 'nasi': 14597, 'pisang': 14598, 'cokelat': 14599, 'pangaea': 14600, 'killah': 14601, 'snooker': 14602, 'awekay': 14603, 'dipped': 14604, 'ok2': 14605, 'travellers': 14606, 'ipoding': 14607, 'mutitasking': 14608, 'aliyah': 14609, 'nefesh': 14610, 'bnefesh': 14611, 'meanwhile': 14612, 'bigweekend': 14613, 'footballers': 14614, 'anonymous': 14615, 'doubly': 14616, 'duhh': 14617, 'soapbox': 14618, 'acknowledge': 14619, 'fininsh': 14620, 'nicc': 14621, 'carpets': 14622, 'tumbleweed': 14623, 'crackerack': 14624, 'bugzy': 14625, 'gasoline': 14626, 'hallucinating': 14627, 'waaaaaay': 14628, 'vserver': 14629, 'disection': 14630, 'froggy': 14631, 'morongo': 14632, 'overboard': 14633, 'fjdskal': 14634, 'yn': 14635, 'crawfish': 14636, 'fotos': 14637, 'showr': 14638, 'hse': 14639, 'clusters': 14640, 'availability': 14641, 'whaaaaaaaaaat': 14642, 'embracing': 14643, 'gpx': 14644, 'gmaps': 14645, 'ie7': 14646, 'resits': 14647, 'imprisoned': 14648, 'medicate': 14649, 'casablanca': 14650, 'richardson': 14651, 'raaaain': 14652, 'cheeeck': 14653, 'stoopid': 14654, 'minish': 14655, 'ezlo': 14656, 'trafficjam': 14657, 'rupert': 14658, 'grint': 14659, 'trudy': 14660, 'burnet': 14661, 'ashotn': 14662, 'newlywed': 14663, 'glow': 14664, 'flavoured': 14665, 'applicator': 14666, 'generalisations': 14667, 'hahahaah': 14668, 'lamo': 14669, 'oneshot': 14670, 'thurther': 14671, 'crv': 14672, 'duckie': 14673, 'undeleted': 14674, 'lapbook': 14675, 'mainland': 14676, 'representatives': 14677, 'moondog': 14678, 'acet': 14679, 'stupidity': 14680, 'repent': 14681, 'tekzilla': 14682, 'moyer': 14683, 'crunching': 14684, 'esquire': 14685, 'fantasize': 14686, 'p4': 14687, 'brantley': 14688, 'princes': 14689, 'serie': 14690, 'oohed': 14691, 'becausei': 14692, 'iowe': 14693, 'levin': 14694, 'embarassed': 14695, 'nuuuuu': 14696, 'enhanced': 14697, '187': 14698, 'quantum': 14699, 'vivocity': 14700, 'yupz': 14701, 'airconditioned': 14702, 'austira': 14703, 'consequence': 14704, 'eeps': 14705, 'yourselves': 14706, 'turf': 14707, 'lifeball': 14708, 'bubblin': 14709, 'screaaaaaaaaaaaaaaaaaaaaaaaaaaaaam': 14710, 'freu': 14711, 'frï¿½h': 14712, 'donald': 14713, 'faison': 14714, 'cacee': 14715, 'cobb': 14716, 'daaaaang': 14717, 'misunderstanding': 14718, 'skyrockets': 14719, 'aaaaaaaafternoon': 14720, 'hypnotyst': 14721, 'sicckkkk': 14722, 'peacocks': 14723, 'oceanographer': 14724, 'agitated': 14725, 'thks': 14726, 'sealers': 14727, 'celebxxxvidsyh': 14728, 'aybygw': 14729, 'portmeirion': 14730, 'squiggy': 14731, 'laverne': 14732, 'png': 14733, 'compression': 14734, 'pngcrush': 14735, 'bestfriends': 14736, 'becase': 14737, 'plez': 14738, '4us': 14739, '630p': 14740, 'gprof': 14741, 'wooops': 14742, 'boomstone': 14743, 'securely': 14744, 'delaware': 14745, 'mootools': 14746, 'hhahaa': 14747, 'lolllllyyyyyyyy': 14748, 'hovering': 14749, 'debra': 14750, 'altos': 14751, 'tenors': 14752, 'tenor': 14753, 'masculine': 14754, 'playcount': 14755, 'siempre': 14756, 'experimenting': 14757, 'puppet': 14758, 'workstation': 14759, 'fisnihsed': 14760, 'yesert': 14761, 'keve': 14762, 'revlon': 14763, 'accomodation': 14764, 'pineforest': 14765, 'iloveyoumoreeee': 14766, 'haizzz': 14767, 'collins': 14768, 'rinse': 14769, 'conditoner': 14770, 'hannahisdead': 14771, 'fuckyeah': 14772, 'tadi': 14773, 'spicey': 14774, 'wor': 14775, 'ribbon': 14776, 'paving': 14777, 'sizzler': 14778, 'benson': 14779, 'scheer': 14780, 'kroll': 14781, '180': 14782, 'reprobates': 14783, 'neitherrrr': 14784, 'maven': 14785, 'shooooes': 14786, 'maany': 14787, 'krystyn': 14788, 'celebrations': 14789, 'curved': 14790, 'florists': 14791, 'cassadee': 14792, 'florist': 14793, 'easiest': 14794, 'ditchin': 14795, 'barfin': 14796, 'esotsm': 14797, 'robby': 14798, 'jpeg': 14799, 'terminology': 14800, 'mirage': 14801, 'wockeez': 14802, 'supercr3w': 14803, 'hahaaaha': 14804, 'tipped': 14805, 'raping': 14806, 'vlogs': 14807, 'garcia': 14808, 'rewarding': 14809, 'terrace': 14810, 'prospectus': 14811, 'intervention': 14812, 'yata': 14813, 'tarde': 14814, 'chegay': 14815, 'ftrh': 14816, 'prioritizing': 14817, 'rcb': 14818, 'trashes': 14819, 'horn': 14820, 'lodge': 14821, '330pm': 14822, 'wanty': 14823, 'fxxxmylife': 14824, 'impulse': 14825, 'ohoh': 14826, 'coomee': 14827, 'maiii': 14828, 'cah': 14829, 'mckenzie': 14830, 'lainey': 14831, 'selecting': 14832, '550': 14833, 'plotting': 14834, 'muahahaha': 14835, 'pulleaase': 14836, 'khaki': 14837, 'maaaannnnnnnnn': 14838, 'sharetub': 14839, 'ej': 14840, 'carrrr': 14841, 'spur': 14842, 'functions': 14843, 'mander': 14844, 'icq': 14845, 'fuze': 14846, 'komen': 14847, 'tribes': 14848, 'extinct': 14849, 'donalds': 14850, 'thhaanks': 14851, 'shidduch': 14852, 'perfectionist': 14853, 'luckkkk': 14854, 'missinmydgbigtyme': 14855, 'resumes': 14856, 'quickest': 14857, 'bbs': 14858, 'unprepared': 14859, 'kwl': 14860, 'performace': 14861, 'senti': 14862, 'songd': 14863, 'transtelecom': 14864, 'mcflurry': 14865, 'mike0hh': 14866, 'shwasty': 14867, 'shloshed': 14868, 'doofus': 14869, 'wahhh': 14870, 'donie': 14871, 'merchants': 14872, 'surname': 14873, 'weeekend': 14874, 'chewed': 14875, 'mpaa': 14876, 'videorecord': 14877, 'wookiee': 14878, 'tribbles': 14879, 'cantttt': 14880, 'hik': 14881, 'khï¿½': 14882, 'finacially': 14883, 'victims': 14884, 'amtarot': 14885, 'estk': 14886, 'nemonemesis': 14887, 'carsick': 14888, 'tonoght': 14889, 'laast': 14890, 'snuck': 14891, 'wintour': 14892, 'carafe': 14893, 'caffiene': 14894, 'siberia': 14895, 'rumour': 14896, 'surlytween': 14897, 'bleaching': 14898, 'paged': 14899, 'loocie': 14900, 'ane': 14901, 'babylove': 14902, 'homenagem': 14903, 'coney': 14904, 'yis': 14905, 'ryke': 14906, 'peeï¿½s': 14907, 'spartacus': 14908, 'outtie': 14909, 'benihana': 14910, 'shenanigans': 14911, 'freaaaaaaak': 14912, 'cqc': 14913, 'aaaawwww': 14914, 'aquatic': 14915, 'flashcads': 14916, 'inkheart': 14917, 'nem': 14918, 'intraday': 14919, 'dummies': 14920, 'trekked': 14921, 'yoooo': 14922, 'bretty': 14923, 'rebroadcast': 14924, 'hatton': 14925, 'fracked': 14926, 'haiszt': 14927, 'lvoe': 14928, 'agaaaaaaiiiin': 14929, 'maaaam': 14930, 'kaushik': 14931, 'exato': 14932, 'momento': 14933, 'cheerleader': 14934, 'ohrwurm': 14935, 'colorblind': 14936, '9followers': 14937, 'madam': 14938, 'ppt': 14939, 'connector': 14940, 'slooooow': 14941, 'finnish': 14942, 'imnot': 14943, 'awesomeily': 14944, 'fooled': 14945, 'booh': 14946, 'contributed': 14947, 'stimulus': 14948, 'replacements': 14949, 'thereby': 14950, 'jibberish': 14951, 'glenelg': 14952, 'ronald': 14953, 'reden': 14954, 'crows': 14955, 'waili': 14956, '3alaiiik': 14957, 'eewwwww': 14958, 'dealt': 14959, 'ians': 14960, '90th': 14961, 'sunk': 14962, 'uniten': 14963, 'campy': 14964, 'troma': 14965, 'reaons': 14966, 'hermana': 14967, 'crumbles': 14968, 'ladybug': 14969, 'adrians': 14970, 'intime': 14971, 'benevolent': 14972, 'warned': 14973, 'exhaaaausted': 14974, 'zul': 14975, 'jin': 14976, 'strongest': 14977, 'feisty': 14978, 'peristalsis': 14979, 'xxxxxxloser': 14980, 'slooowww': 14981, 'fotoreportage': 14982, 'zak': 14983, 'atbfm': 14984, 'solidsyn': 14985, 'rosy': 14986, 'sadpanda': 14987, 'correspondant': 14988, 'bjs': 14989, 'vixon': 14990, 'tre': 14991, 'matte': 14992, 'nix': 14993, 'uncovering': 14994, 'iye': 14995, 'neh': 14996, 'pulang': 14997, 'pagian': 14998, 'langsung': 14999, 'elisha': 15000, 'peen': 15001, 'hoommee': 15002, 'springfield': 15003, 'hahahahhahaha': 15004, 'lupita': 15005, 'reimer': 15006, 'fabulously': 15007, 'whants': 15008, 'gaaaaaaasp': 15009, 'loadsa': 15010, 'shizze': 15011, 'sacrilege': 15012, 'camel': 15013, 'plankton': 15014, 'pusrse': 15015, 'holmes': 15016, 'macri': 15017, 'nig': 15018, 'mpg': 15019, 'radioboxer': 15020, 'santos': 15021, 'saint': 15022, 'caloric': 15023, 'minority': 15024, 'ripple': 15025, 'rach': 15026, 'jia': 15027, 'clocking': 15028, 'sundown': 15029, 'streetlight': 15030, 'tantra': 15031, 'kirki': 15032, 'cloooseee': 15033, 'wattching': 15034, 'rubbishhhhhh': 15035, 'wishhh': 15036, 'easywriter': 15037, 'wimp': 15038, 'buggin': 15039, 'bbc4': 15040, 'booted': 15041, 'obscure': 15042, 'biligual': 15043, 'sweatshop': 15044, 'r6': 15045, 'honza': 15046, '3yp': 15047, 'reaaally': 15048, 'espn': 15049, 'ommg': 15050, 'gurll': 15051, 'horsies': 15052, 'sunbathin': 15053, 'netgear': 15054, '802': 15055, '11n': 15056, 'throughput': 15057, 'ï¿½8': 15058, 'tritonlink': 15059, 'figurines': 15060, 'sheat': 15061, 'carlingford': 15062, 'lough': 15063, 'amazake': 15064, 'powder': 15065, 'agave': 15066, 'brewer': 15067, 'westin': 15068, 'expoï¿½': 15069, 'newsreader': 15070, 'rotf': 15071, 'ratio': 15072, 'shareeee': 15073, 'n2': 15074, 'singtel': 15075, 'weebo': 15076, 'riddle': 15077, 'pooper': 15078, 'joyce': 15079, 'lipsynching': 15080, 'dctr': 15081, 'photoblog': 15082, 'horriffic': 15083, 'sorryyyyyy': 15084, 'ï¿½30': 15085, 'thomson': 15086, 'vaahedh': 15087, 'chipped': 15088, 'fuzz': 15089, 'zotz': 15090, 'whisked': 15091, 'baggin': 15092, 'circulation': 15093, 'degens': 15094, 'boog': 15095, 'p1': 15096, 'lichfield': 15097, 'nevar': 15098, 'propping': 15099, '4x4s': 15100, 'obtain': 15101, 'elita': 15102, 'fosters': 15103, 'pancras': 15104, 'rotr': 15105, 'adelitas': 15106, 'invincible': 15107, 'yfrog': 15108, 'carina': 15109, 'wendyhouse': 15110, 'anberlin': 15111, 'culled': 15112, 'nsfw': 15113, 'epicenter': 15114, 'daugter': 15115, 'g2g': 15116, 'evelyn': 15117, 'heylo': 15118, 'johnn': 15119, 'cudnt': 15120, 'starin': 15121, 'netsexor': 15122, 'cams': 15123, 'meyrueis': 15124, 'replenished': 15125, 'accepts': 15126, 'rubys': 15127, 'waltzer': 15128, 'oouuch': 15129, '11y': 15130, 'amaize': 15131, 'tbqh': 15132, 'yester': 15133, 'aspitar': 15134, 'doha': 15135, 'juggler': 15136, 'mamam': 15137, 'dming': 15138, 'maccym': 15139, 'speedracher': 15140, 'agnes': 15141, 'slovakian': 15142, 'congradts': 15143, 'disinfected': 15144, 'latrine': 15145, 'glre': 15146, 'yang4': 15147, 'zhonguoren': 15148, 'newscenter': 15149, 'getaways': 15150, '3s': 15151, 'tibet': 15152, 'biafra': 15153, 'manic': 15154, 'monsterpalooza': 15155, 'contestant': 15156, 'x0': 15157, 'chang': 15158, 'horton': 15159, 'moveable': 15160, 'booky': 15161, 'shemms': 15162, 'screams': 15163, 'curdling': 15164, 'webs': 15165, 'smushing': 15166, 'deena': 15167, 'dilfs': 15168, 'welllll': 15169, 'pinned': 15170, 'lennys': 15171, 'decsions': 15172, 'teardrops': 15173, '2twitter': 15174, 'personified': 15175, 'obly': 15176, 'aumfff': 15177, 'datin': 15178, 'fmlllll': 15179, 'briliant': 15180, 'sonia': 15181, 'eater': 15182, 'acquiring': 15183, 'centos': 15184, 'pigtails': 15185, 'tidying': 15186, 'tupprwre': 15187, 'lid': 15188, 'ensues': 15189, 'spgridview': 15190, '6hrs': 15191, 'powerball': 15192, 'jackpot': 15193, 'formidable': 15194, 'impersonator': 15195, 'tortellini': 15196, 'rae': 15197, 'geno': 15198, 'neon': 15199, 'kashtam': 15200, 'similey': 15201, 'csk': 15202, 'spirituality': 15203, 'coins': 15204, 'carcassonne': 15205, 'tomb': 15206, 'animations': 15207, '1946': 15208, 'proly': 15209, 'ludi': 15210, 'coldddd': 15211, 'cob': 15212, 'dario': 15213, 'tk': 15214, 'thaank': 15215, 'upss': 15216, 'writen': 15217, 'chesca': 15218, 'europers': 15219, 'lefty': 15220, 'lillysan': 15221, 'tfl': 15222, 'ï¿½ï¿½we': 15223, 'lyxxx': 15224, 'catholic': 15225, 'wholeheartedly': 15226, 'anit': 15227, 'cycled': 15228, 'oucccccccch': 15229, 'fila': 15230, 'wahoo': 15231, 'faq': 15232, 'aaahaha': 15233, 'smokin': 15234, 'kgs': 15235, 'competetion': 15236, 'benicks': 15237, 'cutteee': 15238, 'jimmie': 15239, 'twitteraddict': 15240, 'cloggin': 15241, 'disproves': 15242, 'mcds': 15243, 'hader': 15244, 'chickfila': 15245, '1973': 15246, 'burnouts': 15247, 'atg': 15248, 'heav': 15249, 'gimmeh': 15250, 'inbound': 15251, 'jammed': 15252, 'amazones': 15253, 'crete': 15254, 'cheerios': 15255, '5mths': 15256, 'poetize': 15257, 'wannnnaaaa': 15258, 'goooooo': 15259, 'roar': 15260, 'sonqq': 15261, 'noww': 15262, 'westerns': 15263, 'judo': 15264, 'shifter': 15265, 'aerolas': 15266, 'managaed': 15267, 'strapped': 15268, 'whedon': 15269, 'bacterin': 15270, 'exposures': 15271, 'tripod': 15272, 'viewfinder': 15273, 'unfocusing': 15274, 'momdukes': 15275, 'baadly': 15276, 'sequences': 15277, 'unnerve': 15278, 'mastermind': 15279, 'statesboro': 15280, 'txts': 15281, 'treatments': 15282, 'tubs': 15283, 'psyched': 15284, 'gkr': 15285, 'quaver': 15286, '16yo': 15287, 'depaul': 15288, 'gsn': 15289, 'mccartney': 15290, 'hurryup': 15291, 'omgimpatient': 15292, 'scanton': 15293, 'farrr': 15294, 'cartilage': 15295, 'echt': 15296, 'angetan': 15297, 'lï¿½sst': 15298, 'grï¿½ï¿½en': 15299, 'liars': 15300, 'udah': 15301, 'interrupt': 15302, 'distorted': 15303, 'obs': 15304, 'macvim': 15305, 'thimk': 15306, 'pervert': 15307, 'blackstone': 15308, 'milow': 15309, 'sandman': 15310, 'showwwww': 15311, 'tweethampton': 15312, 'dï¿½sseldorf': 15313, 'ahd': 15314, 'twitpeeps': 15315, 'cmmt': 15316, 'oiiiiiii': 15317, 'limbo': 15318, 'upssucks': 15319, 'unconditonally': 15320, 'materialistic': 15321, 'memeber': 15322, 'coooolest': 15323, 'ï¿½o': 15324, '0ï¿½': 15325, 'ï¿½who': 15326, 'heï¿½s': 15327, '2ndary': 15328, 'urchin': 15329, 'starfish': 15330, 'recolouring': 15331, 'hmmmmmm': 15332, 'reeaally': 15333, 'cosito': 15334, 'birding': 15335, 'pitta': 15336, 'bornean': 15337, 'bristlehead': 15338, 'mindset': 15339, 'improves': 15340, 'robban': 15341, 'mths': 15342, 'mommiies': 15343, 'theaa': 15344, 'thiis': 15345, 'thiing': 15346, 'aceness': 15347, 'suspecting': 15348, 'shits': 15349, 'exciteddddd': 15350, 'englands': 15351, 'lalaland': 15352, 'haayy': 15353, 'cranking': 15354, 'ferber': 15355, 'recollecting': 15356, 'unkown': 15357, 'omgz': 15358, 'hardd': 15359, 'slr': 15360, 'fnb': 15361, 'hurtssssssssssssssssssssssssssssssssss': 15362, 'anal': 15363, 'svetlana': 15364, 'confit': 15365, 'awkard': 15366, 'retrieve': 15367, 'permaban': 15368, 'rollin': 15369, 'ugboots': 15370, 'innocently': 15371, 'raf': 15372, 'boulmer': 15373, 'roc': 15374, 'breathes': 15375, 'byee': 15376, 'swat': 15377, 'titanium': 15378, 'suffocate': 15379, 'twitterparty': 15380, 'travy': 15381, 'mingin': 15382, 'rooobbbbbiiieeeee': 15383, 'kairos': 15384, 'vegi': 15385, 'retard': 15386, 'mrskutcher': 15387, 'aplusk': 15388, 'weiters': 15389, 'greaaaaat': 15390, 'jazzercise': 15391, 'chaperone': 15392, 'waaw': 15393, 'opticon': 15394, 'veneck': 15395, 'perks': 15396, 'shooeessss': 15397, '2k9': 15398, 'quark': 15399, 'catnapped': 15400, 'jittery': 15401, '201th': 15402, 'accidentely': 15403, 'amii': 15404, 'auditioning': 15405, 'qantas': 15406, 'flyertalk': 15407, 'constructions': 15408, 'poping': 15409, 'fascinated': 15410, 'sustainability': 15411, 'jummy': 15412, 'artesia': 15413, 'cerritos': 15414, 'dumbass': 15415, 'lodging': 15416, 'pressly': 15417, 'hamm': 15418, 'ymtumbkr': 15419, 'macmaze': 15420, 'mrr': 15421, 'lust': 15422, 'boreedd': 15423, 'freeeeeeeeeeeeeeeezing': 15424, 'soooooooon': 15425, 'yehhaaaaaaa': 15426, 'reissue': 15427, 'roadtrips': 15428, 'tdl': 15429, '1980s': 15430, 'combed': 15431, '30yo': 15432, 'linn': 15433, 'peaks': 15434, 'hairball': 15435, 'peicing': 15436, 'disturbing': 15437, 'shards': 15438, 'pokey': 15439, 'feria': 15440, 'crawlies': 15441, 'baaaaaaaah': 15442, 'cockroach': 15443, 'heeeeelp': 15444, 'milfs': 15445, 'hwy': 15446, 'cwack': 15447, 'aaggh': 15448, 'gash': 15449, 'cantazaro': 15450, 'calabria': 15451, 'denis': 15452, 'sundayyyy': 15453, 'siiiick': 15454, 'paintballin': 15455, 'hellyeah': 15456, 'lastnite': 15457, 'ryland': 15458, 'suarez': 15459, 'kilo': 15460, 'barbie': 15461, 'accdentt': 15462, 'wingnuts': 15463, 'manuels': 15464, 'scurrying': 15465, 'punlk': 15466, 'torcon': 15467, 'criado': 15468, 'kd': 15469, '880': 15470, 'derham': 15471, '3yeem': 15472, 'underground': 15473, 'shoesshoesshoes': 15474, 'yayyayyay': 15475, 'iwouldpostatwitpic': 15476, 'butidntknohow2': 15477, 'brawn': 15478, 'mclaren': 15479, 'myyearbook': 15480, 'smarter': 15481, 'classier': 15482, 'homeeeeeeeeeeeeeee': 15483, 'cooperated': 15484, 'summy': 15485, 'domination': 15486, 'zelenka': 15487, 'fk': 15488, 'cherrylolita': 15489, 'togethers': 15490, 'isla': 15491, 'endorsed': 15492, 'twindexx': 15493, 'furbabies': 15494, 'vouchers': 15495, 'pav': 15496, 'bhaaji': 15497, 'finely': 15498, 'twi': 15499, '78': 15500, '30stm': 15501, 'raerae': 15502, 'diagrams': 15503, 'tighten': 15504, 'bolts': 15505, 'firth': 15506, 'flordia': 15507, 'shrits': 15508, 'ronaldo': 15509, 'crawled': 15510, 'weeee': 15511, 'twistory': 15512, 'lucknow': 15513, 'brenden': 15514, '121908inlove': 15515, '64577': 15516, 'billionth': 15517, 'swam': 15518, 'jord': 15519, 'perused': 15520, 'palawan': 15521, 'bkuz': 15522, 'jokein': 15523, 'bwt': 15524, 'somethn': 15525, 'loooooolding': 15526, 'lonnngg': 15527, 'majorspoilers': 15528, 'procuts': 15529, 'wannna': 15530, 'goers': 15531, '1600th': 15532, 'disembarking': 15533, 'tswassen': 15534, 'cheak': 15535, 'gallethoo': 15536, 'breaths': 15537, 'panicaway': 15538, 'wonderfully': 15539, 'fma': 15540, 'tessa': 15541, 'mccravy': 15542, 'woooomp': 15543, 'retching': 15544, 'undertanding': 15545, 'warrior': 15546, 'succesfully': 15547, 'iraheta': 15548, 'dissapoint': 15549, 'bojan': 15550, 'mitchells': 15551, 'uterus': 15552, 'videoke': 15553, 'nyahahaha': 15554, 'luckyy': 15555, 'jamlegend': 15556, 'sliding': 15557, 'scrapbook': 15558, 'tyga': 15559, 'deleon': 15560, 'tifanny': 15561, 'blews': 15562, 'gooodnight': 15563, 'eppy': 15564, 'exemption': 15565, 'wreckers': 15566, 'starsailor': 15567, 'remedy': 15568, 'brunos': 15569, 'backpacking': 15570, 'coached': 15571, 'loz': 15572, 'gandhi': 15573, 'pleease': 15574, 'xxxxxxxxxxxxxxxxx': 15575, 'hangers': 15576, 'expedited': 15577, 'geeksonaplane': 15578, 'chel': 15579, 'brags': 15580, 'ovechkin': 15581, 'yale': 15582, 'stacking': 15583, 'backordered': 15584, 'compromises': 15585, 'addison': 15586, 'gedan': 15587, 'begad': 15588, 'rembrandt': 15589, 'basin': 15590, 'eluded': 15591, 'ulduar': 15592, 'reali': 15593, 'gp': 15594, 'hommmmmme': 15595, 'dim': 15596, 'snots': 15597, 'frist': 15598, 'winchester': 15599, 'killeen': 15600, 'tavern': 15601, 'kitsilano': 15602, 'devistated': 15603, 'pirouette': 15604, 'brudder': 15605, 'cherished': 15606, 'sorrrryyy': 15607, 'meeeaaannn': 15608, 'grrrsville': 15609, 'pinhole': 15610, 'zavaroni': 15611, 'barrymore': 15612, 'tataindicom': 15613, 'tatasky': 15614, 'airtel': 15615, 'schoolmate': 15616, 'bally': 15617, 'importing': 15618, 'sleeeeeppyyyyyy': 15619, 'blerrrrrrrrrrgh': 15620, 'afterwork': 15621, 'mfk': 15622, 'potholes': 15623, 'foresee': 15624, 'escapou': 15625, 'gangsterrr': 15626, 'moral': 15627, 'sender': 15628, 'geebus': 15629, 'dibbs': 15630, 'twiggies': 15631, 'fmfl': 15632, 'troub': 15633, 'whistlers': 15634, 'coolin': 15635, 'jamy': 15636, '15minutes': 15637, 'notepad': 15638, 'yaani': 15639, 'nakam': 15640, 'wakati': 15641, 'unaenda': 15642, 'overpower': 15643, 'chaser': 15644, 'adoreeeee': 15645, 'nathanson': 15646, 'sso': 15647, 'luckyyyyyyy': 15648, 'enduring': 15649, 'yayay': 15650, 'stamped': 15651, 'cokey': 15652, 'chocked': 15653, 'grammatical': 15654, 'som1': 15655, '2002': 15656, 'tsx': 15657, 'tl': 15658, 'bbvag': 15659, 'feck': 15660, 'nno': 15661, 'bedalii': 15662, '40k': 15663, 'gamers': 15664, 'fintster': 15665, 'popcornss': 15666, 'sonetime': 15667, 'wellness': 15668, 'thatz': 15669, 'shines': 15670, 'nieces': 15671, 'thisk': 15672, '299': 15673, 'mpsh1': 15674, 'nicotine': 15675, 'twitchy': 15676, 'epg': 15677, 'pinkyponk': 15678, 'crrrrrazy': 15679, 'pennies': 15680, 'peddling': 15681, 'wmc': 15682, 'smarmy': 15683, 'erocka': 15684, 'kickboxing': 15685, 'suprises': 15686, 'ideia': 15687, 'avaialble': 15688, 'feelers': 15689, 'sleeeeeeepz': 15690, 'dukbolgi': 15691, 'alfie': 15692, 'seemingly': 15693, 'kiokudb': 15694, 'catalyst': 15695, '3pg': 15696, 'nightttt': 15697, 'spashed': 15698, 'metalcore': 15699, 'clearwater': 15700, 'l8rs': 15701, 'symphonic': 15702, 'ï¿½tearï¿½': 15703, '409': 15704, 'soln': 15705, '18am': 15706, 'teeeeeeeeeeeeeth': 15707, '10dolla': 15708, 'nup': 15709, 'zeros': 15710, 'tehehe': 15711, 'doba': 15712, 'supertarget': 15713, 'prescribed': 15714, 'calpol': 15715, 'esmee': 15716, 'suivez': 15717, 'rl': 15718, 'squirells': 15719, 'dramafest': 15720, 'statistic': 15721, 'backseat': 15722, 'girllll': 15723, 'spontaneouz': 15724, 'legolas': 15725, 'fellowship': 15726, 'demoed': 15727, 'warblers': 15728, 'gnatcatcher': 15729, 'atlast': 15730, 'effffffort': 15731, 'admirer': 15732, '20x': 15733, 'benji': 15734, 'mywireless': 15735, 'bazillionz': 15736, 'supprtin': 15737, 'prevented': 15738, 'carlessness': 15739, 'bangalorean': 15740, 'hackers': 15741, 'janessa': 15742, 'care2': 15743, 'rink': 15744, 'myweakness': 15745, 'metsies': 15746, 'takout': 15747, 'filing': 15748, 'stamps': 15749, 'loopt': 15750, 'coughin': 15751, 'twitterings': 15752, 'rants': 15753, 'endangered': 15754, 'lolsz': 15755, 'iono': 15756, 'l8r': 15757, 'zum': 15758, 'spooohort': 15759, 'artistic': 15760, 'abilities': 15761, 'nkorea': 15762, 'endangers': 15763, 'blaaaqhhh': 15764, 'teph': 15765, 'tammy': 15766, 'aoh': 15767, 'frosh': 15768, 'newsfire': 15769, 'persauded': 15770, 'breton': 15771, 'hiyaaaaaa': 15772, 'utilities': 15773, 'recapping': 15774, 'wrecking': 15775, 'soaking': 15776, 'cellstorms': 15777, 'coukd': 15778, 'flair': 15779, 'methodology': 15780, 'izzayyy': 15781, 'symantec': 15782, 'corruption': 15783, 'bridges': 15784, 'yaaawwwnnn': 15785, 'ohmigod': 15786, 'mahn': 15787, 'twitches': 15788, 'branding': 15789, 'boubous': 15790, 'cowgirls': 15791, 'churn': 15792, 'adoring': 15793, 'havealovelytime': 15794, 'mercenaries': 15795, 'explosions': 15796, 'goign': 15797, 'diplo': 15798, 'kathryn': 15799, 'smartbar': 15800, 'bolshoi': 15801, 'flypside': 15802, 'creat': 15803, 'extendable': 15804, 'ngayun': 15805, 'hedro': 15806, 'gimi': 15807, 'whyyyyyy': 15808, 'r18': 15809, 'getcho': 15810, '461': 15811, 'twitterererers': 15812, 'ruilen': 15813, 'appending': 15814, 'verticalchinese': 15815, 'lux': 15816, 'shutdown': 15817, 'livestream': 15818, 'rigging': 15819, 'traveller': 15820, 'splinter': 15821, 'muppets': 15822, 'handbags': 15823, 'antics': 15824, 'parella': 15825, 'marcia': 15826, 'sucessful': 15827, 'ooze': 15828, 'synn': 15829, '17again': 15830, 'razzle': 15831, 'amazement': 15832, 'undeveloped': 15833, 'netplayer': 15834, 'steigy': 15835, 'obamas': 15836, 'nvd': 15837, 'stabilo': 15838, 'eyeing': 15839, 'goon': 15840, 'subo': 15841, 'britians': 15842, 'dmb': 15843, '4the': 15844, 'tar': 15845, 'promenade': 15846, 'mummyyyyyyyy': 15847, 'ninth': 15848, 'yearly': 15849, 'highways': 15850, 'no0o0o0o': 15851, 'caffein': 15852, 'affair': 15853, 'ttooo': 15854, 'captured': 15855, '38am': 15856, 'mhc': 15857, 'smooch': 15858, '1987': 15859, 'alicias': 15860, 'losers': 15861, 'kandi': 15862, 'errbody': 15863, 'aspirating': 15864, 'pauly': 15865, 'wallly': 15866, 'behinds': 15867, 'corrected': 15868, 'hannahmovie': 15869, 'withmom': 15870, 'pawing': 15871, 'innit': 15872, 'honorary': 15873, 'saddddddd': 15874, 'togetherrr': 15875, 'bawlinggg': 15876, 'paintballing': 15877, 'foward': 15878, 'wisely': 15879, 'pigging': 15880, 'hhhhhhaaaaaaaaaaaaa': 15881, 'unstoppable': 15882, 'odee': 15883, 'vallejo': 15884, 'psprint': 15885, 'urselff': 15886, 'contestants': 15887, 'tol': 15888, 'jeopardy': 15889, 'maiko': 15890, 'shuuut': 15891, 'applescript': 15892, 'inning': 15893, 'pigment': 15894, 'blessing': 15895, 'whahahah': 15896, 'pollinator': 15897, 'amj': 15898, 'inolving': 15899, 'bias': 15900, 'juries': 15901, 'nullification': 15902, 'deanna': 15903, 'tense': 15904, 'melatonin': 15905, 'cusack': 15906, 'deadset': 15907, '66': 15908, 'marx': 15909, 'nauseatingly': 15910, 'faking': 15911, 'coulton': 15912, 'lincolnshire': 15913, 'digs': 15914, 'irked': 15915, 'throwin': 15916, 'illi': 15917, 'shalonda': 15918, 'howre': 15919, 'priests': 15920, 'conviction': 15921, 'goooooooooooood': 15922, 'morrrrrrrrning': 15923, 'catacombs': 15924, 'ffrom': 15925, 'theyh': 15926, 'welcomeee': 15927, 'backkkkk': 15928, 'horsing': 15929, 'hubb': 15930, 'pius': 15931, 'yeay': 15932, 'jiah': 15933, 'shallowness': 15934, '14mph': 15935, 'rdy': 15936, 'dfb': 15937, 'werder': 15938, 'carleigh': 15939, 'scattegories': 15940, 'antm': 15941, 'renae': 15942, 'abducted': 15943, 'reinforced': 15944, 'doki': 15945, 'laterrrs': 15946, 'skyscrapers': 15947, 'streamed': 15948, 'koda': 15949, 'unveiling': 15950, 'lr': 15951, 'pleb': 15952, '113': 15953, 'organize': 15954, 'blistered': 15955, 'mick': 15956, 'jagger': 15957, 'ragas': 15958, 'sfs': 15959, 'eugenia': 15960, 'pushin': 15961, 'unsalted': 15962, 'silicone': 15963, 's05e04': 15964, 'dahye': 15965, 'fulltime': 15966, 'twitdroid': 15967, 'understant': 15968, 'hitchikers': 15969, 'vera': 15970, 'watcing': 15971, 'courto': 15972, 'isa': 15973, 'inferno': 15974, 'nsty': 15975, 'buongiorno': 15976, 'worthed': 15977, 'alphonso': 15978, 'lassi': 15979, 'nimbupaani': 15980, 'retry': 15981, 'waldo': 15982, 'ckc': 15983, 'chillinq': 15984, 'qrandma': 15985, 'auditing': 15986, 'cleanout': 15987, 'bookshelf': 15988, 'gerbino': 15989, 'mockups': 15990, 'boyos': 15991, 'tabby': 15992, 'diabetes': 15993, 'bindz': 15994, 'bullies': 15995, 'laineygossip': 15996, 'taylena': 15997, 'heartbreaks': 15998, 'unabashedly': 15999, 'byw': 16000, 'blossom': 16001, 'saucers': 16002, 'tapped': 16003, 'trillin': 16004, 'hobnobbed': 16005, 'externally': 16006, 'stereosound': 16007, 'finishiing': 16008, 'thoe': 16009, 'mooned': 16010, 'ebtg': 16011, 'stubbed': 16012, '6789998212': 16013, 'agenn': 16014, 'threshold': 16015, 'hirigana': 16016, 'soarin': 16017, 'seriuosly': 16018, 'stereos': 16019, 'pleeeeeassseee': 16020, 'yegtransit': 16021, 'blockkkkk': 16022, 'offerred': 16023, 'lmfaaoooo': 16024, 'grets': 16025, 'yh': 16026, 'eekk': 16027, 'vommmm': 16028, 'rrtheatre': 16029, 'tweetisphere': 16030, 'millisecond': 16031, 'prowse': 16032, 'muses': 16033, 'absolves': 16034, 'dayyyyyyyyyyyy': 16035, 'aspects': 16036, 'soldier': 16037, 'underrated': 16038, 'gloopy': 16039, 'tci': 16040, 'mfing': 16041, 'windshied': 16042, 'thanxs': 16043, 'championing': 16044, 'whered': 16045, 'earlybird': 16046, 'sappin': 16047, 'sentry': 16048, 'tailights': 16049, 'ketboard': 16050, 'letitia': 16051, 'brusters': 16052, 'caity': 16053, 'friending': 16054, 'zoozoo': 16055, 'voda': 16056, 'ilike': 16057, 'gucci': 16058, 'intrested': 16059, 'timeeee': 16060, 'compelte': 16061, 'kittie': 16062, 'crowntown': 16063, 'nghe': 16064, 'lbq': 16065, 'sadifying': 16066, 'heartparts': 16067, 'happiletter': 16068, 'tyla': 16069, 'grouch': 16070, 'satz': 16071, 'santino': 16072, 'thirteen': 16073, 'ammmmazing': 16074, 'zur': 16075, 'aftershowparty': 16076, 'stubbornly': 16077, 'jz': 16078, '52': 16079, 'reducing': 16080, 'courier': 16081, 'groans': 16082, 'nintendogs': 16083, 'jonesing': 16084, 'namerebecca': 16085, 'putain': 16086, 'ilycecily': 16087, 'ncis': 16088, 'accompanies': 16089, 'pessimist': 16090, '2026': 16091, '2164': 16092, '6790': 16093, '9128': 16094, '3hannah': 16095, 'reconnecting': 16096, 'smokers': 16097, 'vandalize': 16098, 'dhq': 16099, 'tangoo': 16100, 'atlantis': 16101, 'coldness': 16102, 'affence': 16103, 'leme': 16104, 'dunhams': 16105, 'buwieser': 16106, 'franchise': 16107, 'overheard': 16108, 'yrold': 16109, 'tenenen': 16110, 'tenen': 16111, 'arnie': 16112, 'violations': 16113, 'trademark': 16114, 'decal': 16115, 'lasttt': 16116, 'mondayyy': 16117, 'nesbitt': 16118, 'mattcutts': 16119, 'umzug': 16120, 'neues': 16121, 'siitter': 16122, 'val': 16123, 'mugged': 16124, 'outfield': 16125, 'household': 16126, 'nemesis': 16127, 'dusk': 16128, 'loopjazz': 16129, 'ez': 16130, 'bejï¿½n': 16131, 'impacts': 16132, 'virtualization': 16133, 'charese': 16134, 'blase': 16135, 'lossing': 16136, 'fucckinggg': 16137, 'cakss': 16138, 'frosting': 16139, 'kanji': 16140, 'sliders': 16141, 'barjohnnys': 16142, 'switches': 16143, 'huaaaaa': 16144, 'cayogial': 16145, 'broccolli': 16146, 'pushit': 16147, 'bumper': 16148, 'troops': 16149, 'keone': 16150, 'chonie': 16151, 'scruffy': 16152, 'nerfherders': 16153, 'neutrality': 16154, 'aporkalype': 16155, 'greatings': 16156, 'shannan': 16157, 'laded': 16158, 'lanet': 16159, 'hopefull': 16160, 'haiaa': 16161, 'feasts': 16162, 'passer': 16163, 'reblip': 16164, 'annoncï¿½': 16165, 'adresse': 16166, 'epps': 16167, 'supervillians': 16168, 'warfield': 16169, 'pleassse': 16170, 'hac': 16171, '40cm': 16172, 'montmelï¿½': 16173, 'chemist': 16174, 'discern': 16175, 'cherishes': 16176, 'peyton': 16177, 'shawn': 16178, 'ryans': 16179, 'housewife': 16180, 'normail': 16181, 'instincts': 16182, 'piggystuff': 16183, 'kadi': 16184, 'calder': 16185, 'plaza': 16186, 'crept': 16187, 'iccvb': 16188, 'antiboyle': 16189, 'lao': 16190, 'spanikopita': 16191, 'yayyyyyyyyyyy': 16192, 'holydays': 16193, 'sinks': 16194, 'crotch': 16195, 'spattered': 16196, 'sitar': 16197, 'qmbol': 16198, 'blaze': 16199, 'whoaa': 16200, 'minna': 16201, 'yaaw': 16202, '5529634599': 16203, 'linky': 16204, 'squeee': 16205, 'anchovies': 16206, 'ghia': 16207, 'napped': 16208, 'batt': 16209, 'remorse': 16210, 'kiddoe': 16211, 'abandonment': 16212, 'hampa': 16213, 'hatiku': 16214, 'baq': 16215, 'headach': 16216, 'nans': 16217, 'burbs': 16218, 'laaaaaaaaave': 16219, 'ominious': 16220, 'hahaah': 16221, 'crys': 16222, 'fuses': 16223, 'unboxed': 16224, 'ketemu': 16225, 'lagi': 16226, 'kita': 16227, 'epp': 16228, 'jls': 16229, 'gallagher': 16230, 'vidoe': 16231, 'bruxels': 16232, 'aaarrrgh': 16233, 'aaaaaaaaaaa': 16234, 'kudai': 16235, 'freshly': 16236, 'wolftrap': 16237, 'ejecting': 16238, 'applecare': 16239, 'nelly': 16240, 'devin': 16241, 'ology': 16242, 'joyner': 16243, 'yahh': 16244, 'uduhn': 16245, 'lun': 16246, 'squirrellist': 16247, 'sliver': 16248, 'tripoly': 16249, 'thingss': 16250, 'prized': 16251, 'annuals': 16252, 'toooooom': 16253, 'banjo': 16254, 'tooie': 16255, '790': 16256, 'pismo': 16257, 'powershot': 16258, 'romina': 16259, 'imaging': 16260, 'dayuuum': 16261, '5o': 16262, 'fandango': 16263, 'xbla': 16264, 'plana': 16265, 'bebeisis': 16266, 'chanve': 16267, 'elisabeth': 16268, 'cruet': 16269, 'nav': 16270, 'brussels': 16271, 'sprouts': 16272, 'vengaboys': 16273, 'zane': 16274, 'lowe': 16275, 'gladiators': 16276, 'microeconomics': 16277, 'ilets': 16278, 'macdonalds': 16279, 'yolanda': 16280, 'splotches': 16281, 'weetabix': 16282, 'teets': 16283, 'bisquick': 16284, 'whers': 16285, 'maternalhealth': 16286, 'reflected': 16287, 'phillips': 16288, 'retelling': 16289, 'saskatoon': 16290, 'ger': 16291, 'lolzz': 16292, 'embark': 16293, 'majors': 16294, 'pornstar': 16295, 'hahs': 16296, '147': 16297, 'mandingo': 16298, 'lassie': 16299, 'streamin': 16300, 'improvment': 16301, 'charicee': 16302, 'landfill': 16303, 'recycler': 16304, 'wafting': 16305, 'papaw': 16306, 'musiic': 16307, 'saigon': 16308, 'hanoi': 16309, 'twilighters': 16310, 'persuading': 16311, 'gazillion': 16312, 'gropes': 16313, '4yr': 16314, 'herhsey': 16315, 'marcos': 16316, 'granddaughter': 16317, 'hasbro': 16318, 'revised': 16319, 'shitshow': 16320, 'plangi': 16321, 'ironically': 16322, 'merm': 16323, 'illustrate': 16324, 'sensors': 16325, 'angles': 16326, 'menfolk': 16327, 'gudafternoon': 16328, 'maintaining': 16329, 'wranglers': 16330, 'mountainjam': 16331, 'flores': 16332, 'nats': 16333, 'chaz': 16334, 'happenings': 16335, 'ouuhh': 16336, 'harmful': 16337, 'diffusing': 16338, 'irritation': 16339, 'scarey': 16340, 'eclectricity': 16341, 'conviced': 16342, 'n64': 16343, 'flashbacks': 16344, '07am': 16345, 'ugghhh': 16346, 'trx': 16347, 'ropes': 16348, '30sec': 16349, 'windmills': 16350, 'wve': 16351, 'aquats': 16352, 'transcribing': 16353, 'tenth': 16354, 'misha': 16355, 'scarfed': 16356, 'feastfriday': 16357, 'conditioner': 16358, 'ito': 16359, 'quihote': 16360, 'musem': 16361, 'equaled': 16362, 'wamu': 16363, 'suuure': 16364, 'corney': 16365, 'chiang': 16366, 'thomasvanvliet': 16367, 'inherited': 16368, '20000000': 16369, 'withdraw': 16370, 'wallmans': 16371, 'thorn': 16372, 'mouthy': 16373, 'venky': 16374, 'pachad': 16375, 'bananabrain2': 16376, 'oepn': 16377, 'wounds': 16378, 'anurag': 16379, 'menagerie': 16380, 'mankind': 16381, 'acai': 16382, 'brendan': 16383, 'hypnosis': 16384, 'beautifuul': 16385, 'beautifully': 16386, 'crate': 16387, 'dolce': 16388, 'grandpas': 16389, 'keemie': 16390, 'sadie': 16391, 'repellant': 16392, 'shakti': 16393, 'masturbate': 16394, 'loongerrr': 16395, 'taping': 16396, 'buttershots': 16397, 'parachute': 16398, 'lassetti': 16399, 'ignorent': 16400, 'aholes': 16401, 'overturn': 16402, 'ovaj': 16403, 'tweetia': 16404, 'radi': 16405, 'niï¿½ta': 16406, 'microcastinga': 16407, 'tantrum': 16408, 'apologetic': 16409, 'incl': 16410, 'timthumb': 16411, 'thong': 16412, 'improvisation': 16413, 'cand': 16414, 'twtad': 16415, 'iigghhtt': 16416, 'geet': 16417, 'idc': 16418, 'immboredddd': 16419, 'fuckitt': 16420, 'veryy': 16421, 'assist': 16422, 'pleasing': 16423, 'accedent': 16424, 'airplane': 16425, 'goanna': 16426, 'pullin': 16427, 'coca': 16428, 'fructose': 16429, 'mucks': 16430, 'thankyooooou': 16431, 'iloveyouuu': 16432, 'meg': 16433, 'roy': 16434, 'dissects': 16435, 'blackout': 16436, 'pn': 16437, 'coaching': 16438, 'compliant': 16439, 'pnlc': 16440, 'loc': 16441, 'g4c09': 16442, 'apaently': 16443, 'happymothersday': 16444, 'vishal': 16445, 'tempermental': 16446, 'pitts': 16447, 'duets': 16448, 'minto': 16449, 'reqs': 16450, 'keane': 16451, '2morrows': 16452, 'pleaase': 16453, 'brokeback': 16454, 'greenish': 16455, 'tudors': 16456, 'oooommmmggg': 16457, 'slay': 16458, 'fragment': 16459, 'reabsorbed': 16460, 'exhausing': 16461, 'fome': 16462, 'julio': 16463, 'semis': 16464, 'withdrawls': 16465, '3ware': 16466, '9650se': 16467, 'x25': 16468, 'raid5': 16469, '800mhz': 16470, 'iop': 16471, 'hpt': 16472, 'adaptec': 16473, '5405': 16474, '2ghz': 16475, 'clutter': 16476, 'nau': 16477, 'ordeal': 16478, 'parrot': 16479, 'reptile': 16480, 'sist': 16481, 'lathargic': 16482, 'imeem': 16483, 'starfire': 16484, 'rights': 16485, '350': 16486, 'skwl': 16487, 'awlll': 16488, 'summa': 16489, 'chatroom': 16490, 'allstars': 16491, 'l0l': 16492, 'significant': 16493, 'deze': 16494, 'interessanter': 16495, 'kennedy': 16496, 'botts': 16497, 'hellerrr': 16498, 'followerss': 16499, 'tricina': 16500, 'uhhm': 16501, 'hakuna': 16502, 'matana': 16503, 'candid': 16504, 'haaay': 16505, 'joints': 16506, 'await': 16507, 'twiddling': 16508, 'abundant': 16509, 'vigorous': 16510, 'removal': 16511, 'bethhh': 16512, 'vicodin': 16513, 'bjaday': 16514, 'bombtastic': 16515, 'cz': 16516, 'hrm': 16517, 'disapointing': 16518, 'twitterize': 16519, 'outsidee': 16520, 'revisionn': 16521, 'fieeerrceee': 16522, 'plinker': 16523, 'vry': 16524, 'reddit': 16525, 'pues': 16526, 'chiquita': 16527, 'esa': 16528, 'snotty': 16529, 'ucsd': 16530, 'retract': 16531, 'thennnnnnnn': 16532, 'akl': 16533, 'pcso': 16534, 'dahh': 16535, 'brightness': 16536, 'insanedefaults': 16537, 'culprit': 16538, 'blending': 16539, 'summmmmerrrrr': 16540, 'yeahhhhhyaaaaaa': 16541, 'obscenely': 16542, 'kline': 16543, 'billie': 16544, 'trekkies': 16545, 'afrin': 16546, 'teacup': 16547, 'shutters': 16548, 'humpalow': 16549, 'yourbiggestfan': 16550, 'yestarday': 16551, 'naz': 16552, 'visialvoicemail': 16553, 'wentz': 16554, 'hez': 16555, 'asshat': 16556, 'shortchanged': 16557, 'screamm': 16558, 'oxox': 16559, 'iqbal': 16560, 'nighters': 16561, 'calicut': 16562, 'uncontrolable': 16563, 'okaay': 16564, 'beamer': 16565, 'prn': 16566, 'parry': 16567, 'nightingale': 16568, 'trackballs': 16569, 'retailer': 16570, 'concerns': 16571, 'daddddd': 16572, 'horoscopes': 16573, 'tooshers': 16574, 'ysj': 16575, 'possum': 16576, 'mailinglist': 16577, 'joeman': 16578, 'westgate': 16579, 'notifying': 16580, 'padawan': 16581, 'ephraim': 16582, 'zenh': 16583, 'kickable': 16584, 'thanksgiving': 16585, 'adapter': 16586, 'ec2': 16587, 'spaniel': 16588, 'north40': 16589, 'tjefferson': 16590, 'troosevelt': 16591, 'fantastical': 16592, 'loneliness': 16593, 'creeps': 16594, 'ointment': 16595, 'fshionwk': 16596, 'zimmermann': 16597, 'illionare': 16598, 'dhini': 16599, 'sorronda': 16600, 'tutu': 16601, 'ispired': 16602, 'somerset': 16603, 'opeth': 16604, 'ia2009': 16605, 'sistah': 16606, 'harddisk': 16607, 'adoptive': 16608, 'rsa': 16609, 'cheerfulness': 16610, 'yehey': 16611, 'exciteeeddd': 16612, 'balme': 16613, 'alrightttt': 16614, '600th': 16615, 'medici': 16616, 'hurdles': 16617, 'ironpoodonia': 16618, 'pohaku': 16619, 'jessandnicolemusic': 16620, '181': 16621, 'cameraphone': 16622, 'besi': 16623, 'nfty': 16624, 'cla': 16625, 'memoir': 16626, 'kanye': 16627, 'afireinside687': 16628, 'carera': 16629, 'rustling': 16630, 'ï¿½300': 16631, '4hours': 16632, 'procreate': 16633, 'shul': 16634, 'deezy': 16635, 'xxoxo': 16636, 'outsiden': 16637, 'bunchh': 16638, 'howdyyy': 16639, 'preform': 16640, 'alist': 16641, 'raddest': 16642, 'wei': 16643, 'limey': 16644, 'amost': 16645, 'hahahahahahahahahah': 16646, 'rirakkuma': 16647, 'henry': 16648, 'gunner': 16649, 'yoooooooou': 16650, 'jericho': 16651, 'pleeaassee': 16652, 'flee': 16653, 'ris': 16654, 'punking': 16655, 'effnng': 16656, '3jfg': 16657, 'platinum': 16658, 'defiantly': 16659, 'peewee': 16660, 'alkaline': 16661, 'cass': 16662, 'sb6': 16663, 'avon': 16664, 'omigoodness': 16665, 'sumshin': 16666, 'ouse': 16667, 'editting': 16668, 'alough': 16669, 'elijah': 16670, 'ekin': 16671, 'sidenote': 16672, 'commuting': 16673, 'northbound': 16674, 'eos': 16675, '2k': 16676, 'ahugs': 16677, 'aoki': 16678, 'natalies': 16679, 'faceeee': 16680, 'masterpieces': 16681, 'madagascar': 16682, 'comeeeeee': 16683, 'beaut': 16684, 'razzing': 16685, 'charli': 16686, 'aaaaaaaahhhhhhhh': 16687, 'widgets': 16688, 'confsuing': 16689, 'blastinggg': 16690, 'dibster': 16691, 'fcukkk': 16692, 'deetz': 16693, 'turkish': 16694, 'ferns': 16695, 'petals': 16696, 'fnp': 16697, 'sobers': 16698, 'sprayed': 16699, 'freude': 16700, 'cheryl': 16701, 'iloveyoutwoooo': 16702, 'mostley': 16703, 'mizz': 16704, 'disgust': 16705, 'trollcat': 16706, 'gprs': 16707, 'yaymen': 16708, 'drafts': 16709, 'furs': 16710, 'nefuew': 16711, 'stasher': 16712, 'authors': 16713, 'hotdogging': 16714, 'mei': 16715, 'dissing': 16716, 'redeems': 16717, 'rescuing': 16718, 'kaelah': 16719, 'abandon': 16720, 'reflective': 16721, 'jackalope': 16722, 'intrepid': 16723, 'ibex': 16724, 'quakes': 16725, 'ch13': 16726, 'spitta': 16727, 'howlin': 16728, 'musta': 16729, 'gourmet': 16730, 'simpatia': 16731, 'votem': 16732, 'mim': 16733, 'ether': 16734, 'wailt': 16735, 'potluck': 16736, 'scrape': 16737, 'dukes': 16738, 'alzheimers': 16739, 'gale': 16740, 'bu': 16741, 'muahaz': 16742, 'confirms': 16743, '4rm': 16744, 'marche': 16745, 'rosti': 16746, 'crepes': 16747, 'alotment': 16748, '186': 16749, 'communicate': 16750, 'helden': 16751, 'uninhabital': 16752, 'swept': 16753, 'mopped': 16754, 'hellllllllsssssss': 16755, 'girrrrrl': 16756, 'boysssss': 16757, 'mangy': 16758, 'snapppp': 16759, 'snore': 16760, 'alochol': 16761, 'felton': 16762, 'repeating': 16763, 'pablos': 16764, 'consuming': 16765, 'engrossing': 16766, 'soooory': 16767, 'tanya': 16768, '95sx': 16769, 'beaver': 16770, 'pelt': 16771, 'sybase': 16772, 'ase': 16773, 'sparc': 16774, 'x86': 16775, 'manning': 16776, 'tessy': 16777, 'herniated': 16778, 'observationally': 16779, 'insightful': 16780, 'teus': 16781, 'bigi': 16782, 'musicans': 16783, 'legion': 16784, 'flowered': 16785, 'socialily': 16786, 'naiv': 16787, 'dense': 16788, 'cps': 16789, 'continuation': 16790, 'interpreter': 16791, 'sicp': 16792, 'cimmarongirl': 16793, 'crissy': 16794, 'doinnnn': 16795, 'nawwwww': 16796, 'registering': 16797, 'browsers': 16798, 'frc': 16799, 'pcola': 16800, 'corral': 16801, 'hurghada': 16802, 'harrump': 16803, 'gagging': 16804, 'yen': 16805, 'patronized': 16806, 'pinball': 16807, 'drumsticks': 16808, 'sheeba': 16809, 'thugs': 16810, 'cliques': 16811, '00am': 16812, 'ffe': 16813, 'punkrockchick25': 16814, '25ft': 16815, 'aaaaall': 16816, 'coincidently': 16817, 'omedetou': 16818, 'venessa': 16819, 'ybwm': 16820, 'secured': 16821, 'amazzing': 16822, 'persist': 16823, 'wooop': 16824, 'whyd': 16825, 'ascari': 16826, 'folow': 16827, 'env2': 16828, 'ericsson': 16829, '35th': 16830, '2getha': 16831, 'colossus': 16832, 'wn': 16833, 'kiosk': 16834, 'sthlm': 16835, 'uttered': 16836, 'ical': 16837, 'respite': 16838, 'eldons': 16839, 'thestrat': 16840, 'schweigi': 16841, 'distracteded': 16842, 'yj': 16843, 'herman': 16844, 'dongle': 16845, 'techy': 16846, 'kidnap': 16847, 'thatv': 16848, 'purge': 16849, 'riah': 16850, 'bobo': 16851, 'bobobyebye': 16852, 'integrating': 16853, 'forexforums': 16854, 'partnership': 16855, 'julz': 16856, 'catchers': 16857, 'representative': 16858, 'fucktard': 16859, 'enjoyin': 16860, 'muffler': 16861, 'bearings': 16862, 'precariously': 16863, 'ricotta': 16864, 'unsociable': 16865, 'thebeat': 16866, 'mashups': 16867, 'avh': 16868, 'finsh': 16869, 'allowd': 16870, 'unattractive': 16871, 'jfpl': 16872, 'welfare': 16873, 'demonic': 16874, 'relished': 16875, 'milking': 16876, 'rake': 16877, 'devs': 16878, 'ccnet': 16879, 'darkward': 16880, 'hellooooooo': 16881, '6gb': 16882, '5tb': 16883, 'offset': 16884, 'gains': 16885, 'chewin': 16886, 'clickin': 16887, 'benefiting': 16888, 'sortie': 16889, 'gleneagles': 16890, 'receptions': 16891, 'texy': 16892, 'endeavor': 16893, 'aaarrrgggghhh': 16894, 'decribe': 16895, 'teller': 16896, 'bruv': 16897, 'licked': 16898, 'dodgers': 16899, 'barton': 16900, 'penilewords': 16901, 'fffff': 16902, 'breakout': 16903, 'madame': 16904, 'tussaud': 16905, '10000': 16906, 'blockparty': 16907, 'outcome': 16908, 'mbs': 16909, 'bacoor': 16910, 'wahaha': 16911, 'toinks': 16912, 'wiih': 16913, 'joshstore': 16914, 'joshmobile': 16915, 'pft': 16916, 'iusedtobescaredof': 16917, 'twitterbff': 16918, 'piecing': 16919, 'boeing': 16920, 'huntington': 16921, 'monte': 16922, 'cristo': 16923, 'bayern': 16924, 'stau': 16925, 'aspirin': 16926, 'lancie': 16927, 'phooey': 16928, 'andswere': 16929, 'nishiki': 16930, 'dancefloor': 16931, 'idyllic': 16932, 'geordiebird': 16933, 'thar': 16934, 'insuran': 16935, 'meanw': 16936, 'ï¿½chillingoutnow': 16937, 'northumberland': 16938, '42am': 16939, 'youhhhhhhh': 16940, 'japenese': 16941, 'sumthinnn': 16942, 'misssesss': 16943, 'sankar': 16944, 'chavs': 16945, 'prez': 16946, 'sealer': 16947, 'wotk': 16948, 'sightedness': 16949, 'blurry': 16950, 'wereld': 16951, 'carefree': 16952, 'playboy': 16953, 'carï¿½too': 16954, 'gillian': 16955, 'wondefl': 16956, 'invitw': 16957, 'invasion': 16958, 'teeshirt': 16959, 'faaar': 16960, 'birdseed': 16961, 'shittier': 16962, 'boxy': 16963, 'mook': 16964, 'scammer': 16965, 'reminisce': 16966, 'mope': 16967, 'freecycle': 16968, 'twiin': 16969, 'kneeling': 16970, 'muggt': 16971, '0k': 16972, 'tonightt': 16973, 'califur': 16974, 'overlords': 16975, 'addressed': 16976, 'jetsons': 16977, 'finltstones': 16978, 'freshii': 16979, 'quarantined': 16980, 'pinkeye': 16981, 'stayn': 16982, 'jx': 16983, 'pundits': 16984, 'alittle': 16985, 'shontelle': 16986, 'layne': 16987, 'claritin': 16988, 'stoppped': 16989, 'barbs': 16990, 'unbroken': 16991, 'deniseee': 16992, 'jfufnfwucnbqjic': 16993, 'eally': 16994, 'dbuc09': 16995, 'copycars': 16996, 'carlsbad': 16997, 'loon': 16998, 'crummy': 16999, 'niterzzz': 17000, 'twitterbugz': 17001, 'ovie': 17002, 'recordings': 17003, 'whasup': 17004, 'qo': 17005, 'resources': 17006, 'rodeo': 17007, 'sane': 17008, 'piz': 17009, 'dubb': 17010, 'restructuring': 17011, 'gorayeb': 17012, 'kamei': 17013, 'kuso': 17014, 'loven': 17015, 'pvp': 17016, 'sowey': 17017, 'kanina': 17018, 'bahh': 17019, 'contentment': 17020, 'cornish': 17021, 'countryside': 17022, 'allsort': 17023, 'weirdos': 17024, '1100': 17025, 'height': 17026, 'bumbpy': 17027, 'amendment': 17028, 'pimpin': 17029, 'thrd': 17030, 'rendered': 17031, 'torchwood': 17032, 'hangup': 17033, 'maverick': 17034, 'beshia': 17035, 'accidentaly': 17036, 'timezone': 17037, 'fe': 17038, 'aprendi': 17039, 'usar': 17040, 'bjus': 17041, 'alredy': 17042, 'sfoot': 17043, 'cor': 17044, 'baccck': 17045, 'boringgg': 17046, 'dodd': 17047, 'supp': 17048, 'loserville': 17049, 'ciege': 17050, 'cagalawan': 17051, 'obsessing': 17052, 'slidebar': 17053, 'grrrrri': 17054, 'joykill': 17055, 'couisn': 17056, 'pickkshaa': 17057, 'tonsillitis': 17058, 'advised': 17059, 'sighhh': 17060, 'sofas': 17061, 'tiling': 17062, 'untalented': 17063, 'csh': 17064, 'devine': 17065, 'cannae': 17066, 'nae': 17067, 'livi': 17068, 'genetics': 17069, 'jig': 17070, 'ruuullzzz': 17071, 'hesitate': 17072, '2dives': 17073, '10m': 17074, 'dynamite': 17075, 'reefs': 17076, 'storysize': 17077, 'cramcrackers': 17078, 'facebeek': 17079, 'aaaaand': 17080, 'aawh': 17081, 'snapshot': 17082, 'befoooore': 17083, 'freaks': 17084, 'commrcials': 17085, 'jacksonville': 17086, 'startled': 17087, 'mystic': 17088, 'bientï¿½t': 17089, 'lire': 17090, 'quincy': 17091, 'spaggetti': 17092, 'temme': 17093, 'firangs': 17094, 'reassembled': 17095, '74': 17096, 'cinnamin': 17097, 'eleminis': 17098, 'mwahs': 17099, 'natalyy': 17100, 'eyecandy': 17101, 'stripclub': 17102, 'manged': 17103, 'carlie': 17104, 'technologically': 17105, 'tweetb4ueat': 17106, 'copyed': 17107, 'acsvxdcbgfn': 17108, 'ouuuuuuuuuchhhhhhhh': 17109, 'muthath': 17110, 'individually': 17111, 'loafing': 17112, 'gudluck': 17113, 'flys': 17114, 'allllllllll': 17115, 'goshy': 17116, 'norfolk': 17117, 'cookoff': 17118, 'connie': 17119, 'previews': 17120, '200lbs': 17121, 'alreadi': 17122, 'kinks': 17123, 'hellooo': 17124, 'amarula': 17125, 'collegue': 17126, 'traveler': 17127, 'preachery': 17128, 'tedtalks': 17129, 'callbacks': 17130, '970': 17131, 'waittt': 17132, 'boingo': 17133, 'mdw': 17134, 'concourses': 17135, 'gerbil': 17136, 'voobys': 17137, 'pelham': 17138, 'suposed': 17139, 'accustomed': 17140, 'aki': 17141, 'delted': 17142, 'hrmmm': 17143, 'solly': 17144, 'bullhorn': 17145, 'onnnnnnnnnnnn': 17146, 'tweethug': 17147, 'buuu': 17148, 'sigo': 17149, 'jorx': 17150, 'subconscious': 17151, 'rivoli': 17152, 'adlounge': 17153, 'surround': 17154, 'treiz': 17155, 'movieee': 17156, 'thankssss': 17157, 'elem': 17158, 'hedache': 17159, 'everyoneeeeeeeeee': 17160, 'woootwoooo': 17161, 'nakaka': 17162, 'bionomial': 17163, 'tote': 17164, '103': 17165, 'enrollment': 17166, 'sasabihin': 17167, 'siguro': 17168, 'sayo': 17169, 'andun': 17170, 'shet': 17171, 'thrillseekers': 17172, 'tiberiu': 17173, 'aflat': 17174, 'sunt': 17175, 'imbecili': 17176, 'peste': 17177, 'piccies': 17178, 'vesak': 17179, 'rena': 17180, 'wowsa': 17181, 'heep': 17182, 'aarg': 17183, 'tahoe': 17184, 'macedonian': 17185, 'serbia': 17186, 'trw': 17187, 'booomb': 17188, 'sewin': 17189, 'entrepreneur': 17190, 'gallstones': 17191, 'youuuuuuuuuuu': 17192, 'widespread': 17193, 'jeeves': 17194, 'noose': 17195, '512': 17196, '718': 17197, '4879': 17198, 'vat': 17199, 'freed': 17200, 'roundtrip': 17201, 'modesty': 17202, 'gals': 17203, 'miracle': 17204, 'fukkn': 17205, 'pooof': 17206, 'studyyyyyyyyyyyyyyyyyyyyyyyyy': 17207, 'duncan': 17208, 'dhoni': 17209, 'parthiv': 17210, 'inertial': 17211, 'twubbing': 17212, 'yeeeeemp': 17213, 'weepies': 17214, 'malo': 17215, 'transform': 17216, 'greatt': 17217, 'sergeant': 17218, 'beetches': 17219, 'gowns': 17220, 'fayst': 17221, 'mx5': 17222, 'thie': 17223, 'neverrr': 17224, 'horayyyayayay': 17225, 'crampin': 17226, 'slightest': 17227, 'waaayyyy': 17228, 'hateeee': 17229, 'carribbean': 17230, 'freud': 17231, 'implications': 17232, 'killumbus': 17233, 'goooooooooooooooooooooooood': 17234, 'shoooot': 17235, 'postieeee': 17236, 'nepal': 17237, 'declaring': 17238, 'resign': 17239, 'resigning': 17240, 'limp': 17241, 'ibprofen': 17242, 'paracetemol': 17243, 'codeine': 17244, 'workmen': 17245, 'extending': 17246, 'loooooooooong': 17247, 'chinnerys': 17248, 'bandage': 17249, 'egan': 17250, 'alumnus': 17251, 'tlking': 17252, 'lookie': 17253, 'maple': 17254, 'moshing': 17255, 'confetti': 17256, 'soberana': 17257, 'tenderloin': 17258, 'greens': 17259, 'blatant': 17260, 'underworld': 17261, 'lorenzo': 17262, 'jarvis': 17263, 'somthing': 17264, 'meagï¿½evï¿½s': 17265, 'mamo': 17266, 'neatza': 17267, 'plantatie': 17268, 'ibiza': 17269, 'ickle': 17270, 'sigueee': 17271, 'ollld': 17272, 'newsz': 17273, 'editeditedittt': 17274, 'x9999999': 17275, 'sunbeam': 17276, 'cafï¿½': 17277, 'grinder': 17278, '198': 17279, 'toadtastic': 17280, 'menudo': 17281, 'adt': 17282, 'princelple': 17283, 'adtï¿½000': 17284, 'boyfrann': 17285, 'inputting': 17286, 'simpson': 17287, 'shezza': 17288, 'signals': 17289, 'mashup': 17290, 'hysteria': 17291, 'ilse': 17292, 'encoding': 17293, 'commish': 17294, 'mols': 17295, 'trainwreck': 17296, 'stupor': 17297, 'kink': 17298, 'buds': 17299, 'birdied': 17300, 'detoxing': 17301, 'picat': 17302, 'arr': 17303, 'sowbur': 17304, 'promiss': 17305, 'styoopid': 17306, 'hazzunt': 17307, 'kum': 17308, 'agane': 17309, 'hyding': 17310, 'sumware': 17311, 'larffing': 17312, 'att': 17313, 'morninï¿½everybody': 17314, 'oxm': 17315, 'manang': 17316, 'busog': 17317, 'wiffleball': 17318, 'buckfast': 17319, 'awesomeupdater': 17320, 'landcruiser': 17321, '1996': 17322, 'xiuxiu': 17323, 'drunkfda': 17324, 'lone': 17325, 'hobbies': 17326, 'professionnnnn': 17327, 'wrestled': 17328, 'exicted': 17329, 'trailor': 17330, 'loses': 17331, 'viendo': 17332, 'jackshit': 17333, '16ï¿½c': 17334, '25ï¿½': 17335, '30ï¿½': 17336, 'reaped': 17337, 'jottonia': 17338, 'yultron': 17339, 'heeeyyy': 17340, 'yeyy': 17341, 'yourock': 17342, 'yani': 17343, 'bittercreek': 17344, 'hopnoxious': 17345, 'sweetgrass': 17346, 'butmy': 17347, 'nessie': 17348, 'moho': 17349, 'backline': 17350, 'bgn': 17351, 'kenyatta': 17352, 'kyoto': 17353, 'doomsday': 17354, 'gratiss': 17355, 'sisch': 17356, 'culver': 17357, 'impostor': 17358, 'twelve': 17359, 'clyde': 17360, 'arbie': 17361, 'birfdayy': 17362, 'bootlegs': 17363, 'happymothers': 17364, 'random1': 17365, 'wavy': 17366, 'timeless': 17367, 'tiika3': 17368, 'fuckiing': 17369, 'aiint': 17370, 'rapp': 17371, 'marvellous': 17372, 'rian': 17373, 'staden': 17374, 'sufficient': 17375, 'grimestopper': 17376, 'dgree': 17377, 'ensconced': 17378, 'guapisimo': 17379, 'd60': 17380, 'huhuh': 17381, 'cpl': 17382, 'deborah': 17383, 'vibrant': 17384, 'cpeven': 17385, 'dadgum': 17386, 'freight': 17387, 'sleeeeeeeeeeeeeeeeeeeeeeeeeeeeeeeeeeeeeeeeeeeeeeeeeeeeeeeeeeep': 17388, '12pm': 17389, 'coda': 17390, '99usd': 17391, 'oohh': 17392, 'nikeplus': 17393, 'polished': 17394, 'floorboards': 17395, 'shantell': 17396, 'turnon': 17397, 'scarepoint': 17398, 'godown': 17399, 'fungus': 17400, 'vas': 17401, 'commodity': 17402, 'gqmf': 17403, 'woefully': 17404, 'cram': 17405, 'temples': 17406, 'freeagentapp': 17407, 'polka': 17408, 'glam': 17409, 'beathroom': 17410, 'outsie': 17411, 'lifelock': 17412, 'experian': 17413, 'reduce': 17414, 'theft': 17415, 'gawww': 17416, 'liu': 17417, 'blued': 17418, 'screened': 17419, 'modeling': 17420, 'blury': 17421, 'duber': 17422, 'klondike': 17423, 'voracious': 17424, 'stubble': 17425, 'aleesha': 17426, 'dati': 17427, 'lian': 17428, 'eina': 17429, 'francis': 17430, 'epi4': 17431, 'wishlist': 17432, 'arrgh': 17433, 'bonnaroo': 17434, 'pots': 17435, 'klein': 17436, 'taps': 17437, 'pugged': 17438, 'bombard': 17439, 'boredddddddd': 17440, 'clarks': 17441, 'loudquietloud': 17442, 'santiago': 17443, 'lovering': 17444, 'gizmo': 17445, 'h8s': 17446, 'growls': 17447, 'pruple': 17448, 'fingie': 17449, 'musically': 17450, 'tanking': 17451, 'offspecs': 17452, 'bampa': 17453, 'disdrict': 17454, 'mamabear': 17455, 'nira': 17456, 'vma': 17457, 'lamest': 17458, 'vaders': 17459, '3800': 17460, 'benchmarked': 17461, '34mb': 17462, 'billing': 17463, 'shortbread': 17464, 'ingredient': 17465, 'paprika': 17466, 'rogï¿½rio': 17467, 'minotouro': 17468, 'whopee': 17469, 'iï¿½ï¿½m': 17470, 'bogie': 17471, 'kilometres': 17472, 'oky': 17473, 'grandperents': 17474, 'granda': 17475, 'hostipal': 17476, 'prose': 17477, 'assignemtn': 17478, 'remmebered': 17479, 'deinem': 17480, 'transforming': 17481, 'cuuutest': 17482, 'nieceï¿½s': 17483, 'ennio': 17484, 'greeley': 17485, 'fests': 17486, 'congratses': 17487, 'sap': 17488, 'transactions': 17489, 'visite': 17490, 'maaate': 17491, 'grooovin': 17492, 'l8ter': 17493, 'klinkt': 17494, 'erg': 17495, 'enthousiast': 17496, 'andi': 17497, 'interfacelift': 17498, 'game1': 17499, 'zensify': 17500, 'struggled': 17501, 'assfuck': 17502, '64bit': 17503, 'lbd': 17504, 'sastch': 17505, 'fukinï¿½': 17506, 'roseburg': 17507, 'addicts': 17508, 'buhahaha': 17509, 'wkds': 17510, 'phot': 17511, 'datetime': 17512, 'gab': 17513, 'lof': 17514, 'plopped': 17515, 'nemï¿½m': 17516, 'zdrojï¿½ky': 17517, 'mozilly': 17518, 'perl': 17519, 'takï¿½e': 17520, 'stanu': 17521, 'svï¿½': 17522, 'vï¿½ry': 17523, 'schopnosti': 17524, 'ohlohu': 17525, '18hrs': 17526, '22hrs': 17527, 'shortest': 17528, 'fcb': 17529, 'tunapuna': 17530, 'tellers': 17531, 'ria': 17532, 'mcdo': 17533, 'twiits': 17534, 'moro': 17535, 'usael': 17536, 'notmuch': 17537, 'surveys': 17538, 'grooming': 17539, 'failblog': 17540, 'mlbn': 17541, 'televising': 17542, 'det': 17543, 'bal': 17544, 'orbs': 17545, 'fucccccck': 17546, 'huggable': 17547, 'shah': 17548, 'rukh': 17549, 'khan': 17550, 'imposter': 17551, 'yyyyuck': 17552, 'meters': 17553, 'cobbles': 17554, 'bahahaha': 17555, 'reallyy': 17556, 'gahif': 17557, 'herrrre': 17558, 'sunrays': 17559, 'arvest': 17560, 'vader': 17561, 'photofollows': 17562, 'vats': 17563, 'insiders': 17564, 'awesomeeeee': 17565, 'pleassseee': 17566, 'rica': 17567, 'sus': 17568, 'sarms': 17569, 'huff': 17570, 'eeeeeeek': 17571, 'referenced': 17572, 'assemblies': 17573, 'fnh': 17574, 'caliburn': 17575, 'dynamicproxy': 17576, 'inflammed': 17577, 'uniservity': 17578, 'bfoyf': 17579, 'welt': 17580, 'revolutionizes': 17581, 'fucks': 17582, 'sweltering': 17583, 'slithering': 17584, 'frightening': 17585, 'miri': 17586, 'porno': 17587, 'governor': 17588, 'furlough': 17589, 'legends': 17590, 'schoooool': 17591, 'undernourished': 17592, 'wowwww': 17593, 'darkest': 17594, 'candamir': 17595, 'chevrolet': 17596, 'intervals': 17597, 'wilderness': 17598, 'harstad': 17599, 'oslo': 17600, 'pleeez': 17601, 'bamf': 17602, 'grabbyhands': 17603, 'chiclit': 17604, 'rol': 17605, 'chained': 17606, 'webcom': 17607, 'yul': 17608, 'swirly': 17609, 'tye': 17610, 'counterparts': 17611, 'savage': 17612, 'wondrous': 17613, 'beltaine': 17614, 'cardinal': 17615, 'preetttty': 17616, 'vermillion': 17617, 'knowledgable': 17618, 'puppyy': 17619, 'ciwwaf': 17620, 'acted': 17621, 'woould': 17622, 'nyayhahahah': 17623, 'paddy': 17624, 'wav': 17625, 'overreaction': 17626, 'girrrrrrrrlll': 17627, 'nationals': 17628, 'heyyyyyyyy': 17629, 'siberian': 17630, 'planner': 17631, 'ddlovato': 17632, 'homieeeeeeeeeee': 17633, 'lates': 17634, 'mtml': 17635, '2500': 17636, 'hmmpph': 17637, 'noooooooooooooooooooooooooo': 17638, 'surpisingly': 17639, 'diners': 17640, 'westcoastgal88': 17641, 're5': 17642, 'claments': 17643, 'bbqing': 17644, 'mabye': 17645, 'poisoned': 17646, 'metros': 17647, 'nextday': 17648, 'arbiter': 17649, 'barbecues': 17650, 'conducive': 17651, 'sympathizes': 17652, 'mkt': 17653, 'goshhh': 17654, 'threat': 17655, 'proofing': 17656, 'pari': 17657, 'neb': 17658, 'stressiest': 17659, 'ando': 17660, 'pelon': 17661, 'roomy': 17662, 'welp': 17663, 'goooodnight': 17664, '23b': 17665, 'tabletop': 17666, 'thorny': 17667, '47days': 17668, 'drown': 17669, 'caga': 17670, 'narnia': 17671, 'blurb': 17672, 'aslan': 17673, 'skandar': 17674, 'beckky': 17675, '250g': 17676, 'rootin': 17677, 'gaytimes': 17678, 'superwomans': 17679, 'bermudas': 17680, 'cwazy': 17681, 'wci': 17682, 'afraidiowe': 17683, 'becks': 17684, 'tga': 17685, 'wbw': 17686, 'upwads': 17687, 'btr': 17688, 'heltershelter': 17689, 'fdms': 17690, 'kraut': 17691, 'beverley': 17692, 'sexxxy': 17693, 'tiiiiiimmmmmmeee': 17694, 'groningen': 17695, 'fishfingers': 17696, 'pincode': 17697, 'courseware': 17698, 'logs': 17699, 'slimmer': 17700, 'hydra': 17701, 'econ': 17702, 'proflowers': 17703, 'relisting': 17704, 'ceasar': 17705, 'win1': 17706, 'acess': 17707, 'samsam': 17708, 'tweetbud': 17709, 'flwrs': 17710, 'soybeans': 17711, 'unsuccessful': 17712, 'midyr': 17713, 'acaba': 17714, 'setmana': 17715, 'amb': 17716, 'millor': 17717, 'peeks': 17718, 'todaaaaay': 17719, 'stoooopid': 17720, '1930': 17721, 'backache': 17722, 'swin': 17723, 'coronas': 17724, 'pastries': 17725, 'purchases': 17726, 'crates': 17727, 'payat': 17728, 'hooking': 17729, 'pirating': 17730, 'contributions': 17731, 'guardian': 17732, 'huuuge': 17733, 'bronx': 17734, 'pacing': 17735, 'ichiban': 17736, 'swimmer': 17737, 'watchign': 17738, 'snuggling': 17739, 'doze': 17740, 'unfortuantley': 17741, 'hanks': 17742, 'scored': 17743, 'frioooo': 17744, 'delï¿½cia': 17745, 'ju': 17746, 'smoothy': 17747, 'baulko': 17748, 'hellish': 17749, 'hittt': 17750, 'ngayon': 17751, 'nagrerehab': 17752, 'automated': 17753, 'youporn': 17754, 'friendfeed': 17755, 'gn': 17756, 'identify': 17757, 'belle': 17758, 'rainbows': 17759, 'yakuza': 17760, 'tweeterz': 17761, 'tonyt': 17762, 'l8': 17763, 'ther': 17764, 'letin': 17765, 'aplyin': 17766, 'agen': 17767, 'buuut': 17768, 'shoesless': 17769, 'ardillaaaaaaaaaaaa': 17770, 'obession': 17771, 'marlito': 17772, 'novaliches': 17773, 'rof': 17774, 'eep': 17775, 'charla': 17776, 'volley': 17777, 'wholeday': 17778, 'waitressing': 17779, 'concede': 17780, 'butte': 17781, 'cyprus': 17782, 'unhook': 17783, 'cronies': 17784, 'television': 17785, 'suburbs': 17786, 'sixx': 17787, 'demilynnmusic': 17788, 'insufficient': 17789, 'fundage': 17790, 'watchmen': 17791, 'synday': 17792, 'lammy': 17793, 'merge': 17794, 'frameworks': 17795, 'masala': 17796, 'chaas': 17797, 'unclaimed': 17798, 'certainty': 17799, 'chargerrr': 17800, 'spurted': 17801, 'xuxu': 17802, 'awk': 17803, 'skiing': 17804, 'treble': 17805, 'fibromyalgia': 17806, 'compoundin': 17807, 'unified': 17808, 'drastically': 17809, 'twitwoo': 17810, 'sixflags': 17811, 'tiday': 17812, 'shoreline': 17813, 'morrningg': 17814, 'muhahaha': 17815, 'fabian': 17816, '865': 17817, 'lightsabers': 17818, 'amcmain': 17819, 'mudweight': 17820, 'methods': 17821, 'ganna': 17822, 'offhand': 17823, 'locks': 17824, 'imposed': 17825, 'campfire': 17826, 'braun': 17827, '50x': 17828, 'rolemodel': 17829, 'chorleywood': 17830, 'dunnooooooo': 17831, 'confuzzzledd': 17832, 'flute': 17833, 'quartets': 17834, '240': 17835, 'omgaah': 17836, 'creepering': 17837, 'newsire': 17838, 'twitterfeed': 17839, 'emulsioning': 17840, 'sawn': 17841, 'whalen': 17842, 'coffeeshop': 17843, 'twittttty': 17844, 'tweetage': 17845, 'marrrrrrrrrry': 17846, 'ari': 17847, 'zebra': 17848, 'ilooked': 17849, 'farolito': 17850, '4817': 17851, '730pm': 17852, 'yearling': 17853, 'symptons': 17854, 'darrius': 17855, 'minne': 17856, 'syamptoms': 17857, 'dom': 17858, 'phaket': 17859, 'anneliese': 17860, 'qua': 17861, 'webdesign': 17862, 'fieldwork': 17863, 'databook': 17864, 'awkwardly': 17865, 'interfere': 17866, 'profoundly': 17867, 'freeing': 17868, 'sitewarming': 17869, 'grtsat': 17870, 'bggeting': 17871, 'nightzzz': 17872, 'hiyahh': 17873, 'listnin': 17874, 'sorbet': 17875, 'haunting': 17876, 'forces': 17877, 'strategies': 17878, 'uncommon': 17879, '1401': 17880, '60660': 17881, 'aerosmith': 17882, 'strand': 17883, 'albert': 17884, 'insulted': 17885, 'ims09': 17886, 'happpy': 17887, 'radianborge': 17888, 'padre': 17889, 'pamilya': 17890, 'borgie': 17891, 'hustlaball': 17892, 'prowler': 17893, 'flasher': 17894, 'painter': 17895, 'paints': 17896, 'stokowski': 17897, 'jeffs': 17898, 'rcw': 17899, 'chocr': 17900, 'rounds': 17901, 'gourds': 17902, 'tshwane': 17903, 'talktalk': 17904, 'snatched': 17905, 'burnin': 17906, 'chav': 17907, 'chandelier': 17908, 'legless': 17909, 'stillborn': 17910, 'spaniels': 17911, '20yrs': 17912, 'basten': 17913, 'happppppyyyy': 17914, 'mothersdayyyyyyyyy': 17915, 'equations': 17916, 'graphs': 17917, 'neewwww': 17918, 'motelroom': 17919, 'shuting': 17920, 'jailbreaking': 17921, 'stacie': 17922, 'rainging': 17923, 'horseradish': 17924, 'sandwichesss': 17925, 'wolvarine': 17926, 'lyndon': 17927, 'dmc4': 17928, 'girlz': 17929, 'asbos': 17930, 'coaster': 17931, '1975': 17932, '950': 17933, 'gloriously': 17934, 'ncaa': 17935, 'homerun': 17936, 'dagger': 17937, 'coogan': 17938, 'moran': 17939, 'withdrawals': 17940, 'robarts': 17941, 'depend': 17942, 'structures': 17943, 'relaxful': 17944, 'roastbeef': 17945, 'mostaza': 17946, 'manejamos': 17947, 'millsy': 17948, 'preachers': 17949, 'thorough': 17950, 'degrease': 17951, 'laaazy': 17952, 'ï¿½ureo': 17953, 'valentines': 17954, 'csla': 17955, 'rerun': 17956, 'montel': 17957, 'undervalued': 17958, 'lul': 17959, 'dangling': 17960, 'kellan': 17961, 'lutz': 17962, 'spcn': 17963, 'l8a': 17964, 'cynics': 17965, 'dockers': 17966, 'trois': 17967, 'peet': 17968, 'weeeeeell': 17969, 'sensitivity': 17970, 'biscuits': 17971, 'scales': 17972, 'reeboks': 17973, 'phootoboothingisfunforbunny': 17974, 'volumen': 17975, 'eins': 17976, 'selfupdate': 17977, 'rubygems': 17978, 'tout': 17979, 'francais': 17980, 'nuances': 17981, 'partyyy': 17982, 'jba': 17983, 'topman': 17984, 'quitsmokingdiary': 17985, 'yaaaaaayy': 17986, 'unair': 17987, 'uï¿½tisson': 17988, 'woodchipper': 17989, 'meowmie': 17990, 'ccna': 17991, 'ccnp': 17992, 'ccie': 17993, 'guadeloupe': 17994, 'n33d': 17995, 't0g0': 17996, 'kboom': 17997, 'preceded': 17998, 'venting': 17999, 'gearbox': 18000, 'layenn': 18001, 'uughh': 18002, 'dunt': 18003, 'ilife': 18004, 'cruisey': 18005, 'followillfriday': 18006, 'drooling': 18007, 'somalions': 18008, 'mayn': 18009, 'styl': 18010, 'porsche': 18011, 'yars': 18012, 'honeycomb': 18013, 'recalling': 18014, 'allmost': 18015, 'lalalalaaaa': 18016, 'tearrr': 18017, 'frances': 18018, 'mizmind': 18019, 'twill': 18020, 'yups': 18021, 'unfollowers': 18022, 'winks': 18023, 'supermodel': 18024, 'fwends': 18025, 'klaudine': 18026, 'theofficenbc': 18027, 'gervais': 18028, 'eldorado': 18029, 'aliante': 18030, 'rumage': 18031, 'topless': 18032, 'alecceeee': 18033, 'sittting': 18034, 'wahahahaha': 18035, 'naaaaa': 18036, 'hapit': 18037, 'narn': 18038, 'warrant': 18039, 'agg': 18040, 'restoration': 18041, 'avocets': 18042, 'robinson': 18043, 'wfm': 18044, 'lex': 18045, 'varieties': 18046, 'bizarre': 18047, 'kapowski': 18048, 'programmed': 18049, 'ofc': 18050, 'ishra': 18051, 'ventura': 18052, 'luxurious': 18053, 'hayward': 18054, 'kaitlyn': 18055, 'apparat': 18056, 'heartz': 18057, 'sittn': 18058, 'corners': 18059, 'raffis': 18060, 'drace': 18061, 'zbrush': 18062, 'houuurs': 18063, 'calllling': 18064, 'opposites': 18065, '590': 18066, 'quaterfinals': 18067, 'sophmore': 18068, 'jarid': 18069, 'blinding': 18070, 'builds': 18071, 'shibuya': 18072, 'survivor': 18073, '4x1': 18074, 'viviann': 18075, 'famo': 18076, 'timid': 18077, 'osocute': 18078, 'bashfulness': 18079, 'doodle': 18080, 'phped': 18081, 'successfuly': 18082, 'domestics': 18083, 'borde': 18084, 'pram': 18085, 'approval': 18086, '9yr': 18087, 'cataracts': 18088, 'diabetic': 18089, 'uncoooool': 18090, 'pogue': 18091, 'wowww': 18092, 'teleconference': 18093, 'nones': 18094, 'areply': 18095, 'formulate': 18096, 'goddddd': 18097, 'growling': 18098, 'mrijuana': 18099, 'sixty': 18100, 'snubbed': 18101, 'ineptness': 18102, 'shyness': 18103, '90mm': 18104, 'mamiya': 18105, 'lauryn': 18106, 'ï¿½anisalovesu': 18107, 'ahhahah': 18108, 'profiled': 18109, 'mintues': 18110, 'instrumentalists': 18111, 'vocalist': 18112, 'pea': 18113, 'bankholiday': 18114, 'enzian': 18115, 'babysitters': 18116, 'latonya': 18117, '6k': 18118, 'cactus': 18119, 'cï¿½': 18120, 'mï¿½u': 18121, 'thui': 18122, 'nhï¿½u': 18123, 'stab': 18124, 'bhuja': 18125, 'dmc': 18126, 'seduced': 18127, 'carlin': 18128, 'annies': 18129, 'coodnt': 18130, 'stp': 18131, 'kayaking': 18132, 'sitcoms': 18133, 'vocie': 18134, 'allread': 18135, 'standin': 18136, 'maddest': 18137, 'northpark': 18138, 'bbyshower': 18139, 'backspaced': 18140, 'trillion': 18141, 'goodmornin': 18142, 'embarresing': 18143, 'hup': 18144, 'cabrera': 18145, 'unseeded': 18146, 'qualifier': 18147, 'rapidshare': 18148, '10gb': 18149, 'cankle': 18150, 'prog': 18151, 'boognish': 18152, 'clemmie': 18153, 'sorryyy': 18154, 'milerz': 18155, 'calcs': 18156, 'goddamit': 18157, 'guh': 18158, 'apostro': 18159, 'greastest': 18160, 'ravit': 18161, 'bhs': 18162, 'moth3r': 18163, '3v3ry': 18164, 'th3': 18165, 'bordum': 18166, 'aundy': 18167, 'smelled': 18168, 'maaad': 18169, 'whooped': 18170, 'bradbury': 18171, 'curing': 18172, 'battered': 18173, 'karting': 18174, 'bully': 18175, 'arrrrgrrrrrr': 18176, 'kirstie': 18177, 'stumpy': 18178, 'pointed': 18179, 'euhm': 18180, 'hice': 18181, 'maruchan': 18182, 'yaaaawwwwnnnn': 18183, 'opendns': 18184, 'eloise': 18185, 'lovah': 18186, 'sameway': 18187, 'douche': 18188, 'littrell': 18189, 'rigth': 18190, 'loev': 18191, 'detector': 18192, 'brickmans': 18193, 'swelter': 18194, 'wnna': 18195, 'twiligghhttt': 18196, 'sukked': 18197, 'harmed': 18198, 'baddddd': 18199, 'headbangersball': 18200, 'hammered': 18201, 'amusingly': 18202, 'upbeat': 18203, 'mtvawards': 18204, 'publicity': 18205, 'vertigo': 18206, 'sufferers': 18207, 'contradiction': 18208, 'fckeditor': 18209, 'reluctant': 18210, '260': 18211, 'sisterhood': 18212, 'pagee': 18213, 'sculpting': 18214, 'ceddy': 18215, 'massachusetts': 18216, 'lager': 18217, 'tolddd': 18218, 'until10': 18219, 'ondemand': 18220, 'intensity': 18221, 'newss': 18222, 'notting': 18223, 'prick': 18224, 'dayan': 18225, 'goodknight': 18226, 'blockhead': 18227, 'ilovemymommy': 18228, 'alix': 18229, 'bassline': 18230, 'cdn': 18231, 'geoip': 18232, 'meddle': 18233, 'diplomat': 18234, 'sketching': 18235, 'rivkah': 18236, 'tanghaling': 18237, 'tapat': 18238, 'spaceship': 18239, 'loogies': 18240, 'unpopular': 18241, 'veo': 18242, 'ahasta': 18243, 'lunes': 18244, 'peach': 18245, 'wr0te': 18246, 'clot': 18247, 'duuuum': 18248, 'margrete': 18249, 'burping': 18250, 'touque': 18251, 'robots': 18252, 'leeaave': 18253, 'dï¿½jï¿½': 18254, 'mannn': 18255, 'facepalm': 18256, 'lifehouse': 18257, 'elance': 18258, 'pinkish': 18259, 'composite': 18260, 'blushhhh': 18261, 'chiefs': 18262, '1994': 18263, 'elway': 18264, 'nfl': 18265, 'bazillions': 18266, 'lollipop': 18267, 'hiyaaa': 18268, 'somwhere': 18269, 'ï¿½33': 18270, 'loviiing': 18271, 'declan': 18272, 'aunties': 18273, 'bushidokan': 18274, 'lastminute': 18275, 'situpps': 18276, 'cosmetic': 18277, 'metreon': 18278, 'matchmaker': 18279, '600k': 18280, 'proxy': 18281, 'unfortunetly': 18282, 'smarted': 18283, 'bussiness': 18284, 'visitng': 18285, 'boyet': 18286, 'famm': 18287, 'binder': 18288, 'reef': 18289, 'amything': 18290, 'sence': 18291, 'acidentally': 18292, 'longeerr': 18293, 'termineda': 18294, 'barrels': 18295, 'barrel': 18296, 'expresso': 18297, 'muthafuckin': 18298, 'steamed': 18299, 'oopse': 18300, 'wthr': 18301, 'shamed': 18302, 'wiff': 18303, 'pazik': 18304, 'depechemode': 18305, 'gahan': 18306, 'waits': 18307, 'eventhoough': 18308, 'rrrrr': 18309, 'plzzzzz': 18310, 'pipes': 18311, 'reliable': 18312, 'papabear': 18313, 'ggd2': 18314, 'ggd1': 18315, 'pah': 18316, 'karl': 18317, 'trashy': 18318, 'sensationalist': 18319, 'germaphobe': 18320, 'springleaf': 18321, 'probally': 18322, 'kleenex': 18323, 'pooorr': 18324, 'versioning': 18325, 'sorce': 18326, 'tonematrix': 18327, 'cordial': 18328, 'williamssssss': 18329, 'jolted': 18330, 'phonograph': 18331, 'apm': 18332, 'upps': 18333, 'lenaaa': 18334, 'awakee': 18335, 'kaze': 18336, 'sdsm': 18337, 'guitars': 18338, 'garner': 18339, 'scanning': 18340, 'ttc': 18341, 'presh': 18342, 'zd': 18343, 'warz': 18344, 'mush': 18345, 'noriega': 18346, 'braclets': 18347, 'ecas': 18348, 'boohoohoo': 18349, 'neko': 18350, 'litterature': 18351, 'soooooooooooooooooooooooooooooooooooo': 18352, 'purrrrs': 18353, 'hopefuly': 18354, 'waterguns': 18355, 'plaid': 18356, '286': 18357, 'compaq': 18358, 'toodle': 18359, 'pip': 18360, 'touche': 18361, 'cked': 18362, 'beeeeeddddddd': 18363, 'plead': 18364, 'metric': 18365, 'disconnects': 18366, 'faintly': 18367, 'succession': 18368, 'izone': 18369, 'auditor': 18370, 'judgement': 18371, 'steviewonder': 18372, 'hul': 18373, 'carlys': 18374, 'feeln': 18375, 'pate': 18376, 'joyride': 18377, 'pai': 18378, 'sweepy': 18379, 'stephani': 18380, 'gasping': 18381, 'charlene': 18382, 'motorscooter': 18383, 'alabang': 18384, 'rescuers': 18385, 'dru': 18386, 'japsicans': 18387, 'gweetin': 18388, 'frined': 18389, 'nicley': 18390, 'gooooonight': 18391, 'altanta': 18392, 'babee': 18393, 'yoooouuu': 18394, 'piccolo': 18395, 'tireddd': 18396, 'ta3ally': 18397, 'ma3ahaa': 18398, 'e83idy': 18399, 'sa5neeha': 18400, '6ool': 18401, '6ireee8': 18402, 'astaaahil': 18403, 'wla': 18404, 'kfff': 18405, 'bard': 18406, '7ar': 18407, 'ahm': 18408, '8ahwaaa': 18409, 'knowng': 18410, 'sungs': 18411, 'erbdy': 18412, 'unfit': 18413, 'wednesdays': 18414, 'chocolateland': 18415, 'nyeh': 18416, 'comb': 18417, 'bragging': 18418, 'hoooo': 18419, 'budden': 18420, 'veoh': 18421, 'thunb': 18422, 'ahahha': 18423, 'lieu': 18424, 'lockbox': 18425, 'unshaven': 18426, 'metroplex': 18427, 'sways': 18428, 'arghhhh': 18429, 'unblocked': 18430, 'profitable': 18431, 'commercially': 18432, 'boffert': 18433, 'twitbacks': 18434, 'piggies': 18435, 'hmpf': 18436, '49am': 18437, 'inet': 18438, 'trumping': 18439, 'omnomlette': 18440, 'tofurky': 18441, 'danstorce': 18442, 'mints': 18443, 'stillll': 18444, 'civics': 18445, 'odour': 18446, 'spinner': 18447, 'spinners': 18448, 'ankles': 18449, 'eeks': 18450, 'inspiron': 18451, 'core2duo': 18452, '0ghz': 18453, 'ddr2': 18454, 'breakfastservice': 18455, 'marjoleine': 18456, 'guido': 18457, 'dirk': 18458, 'hapy': 18459, 'squeals': 18460, 'hg': 18461, 'carpenter': 18462, 'reeeejuvinated': 18463, 'shriek': 18464, 'hil': 18465, 'hangz': 18466, 'shotdrinksaturday': 18467, 'compree': 18468, 'alloted': 18469, 'stroking': 18470, 'uds': 18471, 'brianne': 18472, 'mania': 18473, '239k': 18474, 'a9': 18475, 'vitamins': 18476, 'alyso': 18477, 'stoner': 18478, 'benton': 18479, 'messae': 18480, 'coment': 18481, 'heyheyheyheyehyeyyyyyyyyyyyyyyyy': 18482, 'friad': 18483, 'haaaaair': 18484, 'shiv': 18485, '000th': 18486, 'durango': 18487, 'chaperoning': 18488, 'woodchuck': 18489, 'redundancies': 18490, 'offensively': 18491, 'temptations': 18492, 'bournville': 18493, 'hitrecord': 18494, 'ollmann': 18495, 'siad': 18496, 'gulb': 18497, 'sngs': 18498, 'harrassment': 18499, 'honet': 18500, 'gummed': 18501, 'torment': 18502, 'jewel': 18503, 'boozin': 18504, 'audun': 18505, 'unassuming': 18506, 'unpretentious': 18507, 'dingle': 18508, 'novemeber': 18509, 'sdn': 18510, 'guesss': 18511, 'nagios': 18512, 'configuration': 18513, 'imissmonkeh': 18514, 'hawthorne': 18515, 'mulching': 18516, 'h1': 18517, 'gahhhhh': 18518, 'funty': 18519, 'adios': 18520, 'grubs': 18521, 'orthadontist': 18522, 'jon4lakers': 18523, 'delucca': 18524, 'hubbie': 18525, 'blinks': 18526, 'alryt': 18527, 'tmoro': 18528, 'sumin': 18529, 'aen': 18530, 'stoped': 18531, 'broadcasting': 18532, 'awestruck': 18533, 'buckonellen': 18534, 'runaway': 18535, 'sainthood': 18536, 'maze': 18537, 'exports': 18538, 'layed': 18539, 'jobfield': 18540, 'traveljunky': 18541, 'weiner': 18542, 'vaccinations': 18543, 'whaaat': 18544, 'rida': 18545, 'saaaaaaaaaaaaaad': 18546, 'eink': 18547, 'shortcut': 18548, 'orch': 18549, 'wathing': 18550, 'taquito': 18551, 'woul': 18552, 'heston': 18553, 'bleumenthal': 18554, 'intertweet': 18555, 'songbird': 18556, 'utv': 18557, 'morocco': 18558, 'straits': 18559, 'gibraltar': 18560, 'europa': 18561, 'gib': 18562, 'bigoted': 18563, 'patronising': 18564, 'imperialist': 18565, 'monoculturalist': 18566, 'righteous': 18567, 'neemah': 18568, 'conserve': 18569, 'aaaargh': 18570, 'socialscope': 18571, 'orbitron': 18572, 'geograhy': 18573, 'farrells': 18574, 'parlor': 18575, 'viejo': 18576, 'gooodmorning': 18577, 'whhaacck': 18578, 'dbsk': 18579, 'oppa': 18580, 'mirotic': 18581, 'muchhhhh': 18582, 'dhcp': 18583, 'camee': 18584, 'offiacial': 18585, 'daughtry': 18586, 'euthanasia': 18587, 'chirstina': 18588, 'mechanical': 18589, 'answear': 18590, 'softly': 18591, 'potrait': 18592, 'profound': 18593, 'kaotic': 18594, 'oddo': 18595, 'iknowww': 18596, 'butbutbut': 18597, 'dealer': 18598, 'taker': 18599, 'suzy': 18600, 'ummmph': 18601, 'slobber': 18602, 'tweefight': 18603, 'hunchback': 18604, 'appericiate': 18605, 'supports': 18606, 'simcity': 18607, 'welchs': 18608, 'shorter': 18609, 'rishloves': 18610, 'courgette': 18611, 'continued': 18612, 'infect': 18613, 'donor': 18614, 'friiiiiday': 18615, 'ï¿½34': 18616, 'realllllllllly': 18617, 'sweetdreams': 18618, 'teatree': 18619, 'noooootttttttt': 18620, 'emmett': 18621, 'infinite': 18622, 'boutiques': 18623, 'uggs': 18624, 'habitat': 18625, 'ramona': 18626, 'conclusion': 18627, 'lemongrass': 18628, 'lysol': 18629, 'diwali': 18630, 'saddi': 18631, 'dilli': 18632, 'aserejï¿½': 18633, 'deje': 18634, 'dejebe': 18635, 'tudejebe': 18636, 'sebiunouva': 18637, 'majabi': 18638, 'bugui': 18639, 'buididipï¿½': 18640, 'landmark': 18641, 'ronnie': 18642, 'mackenzie': 18643, 'hyeri': 18644, 'ayshea': 18645, 'oink': 18646, 'insults': 18647, 'juast': 18648, 'emmm': 18649, 'souvlaki': 18650, 'dimitris': 18651, 'wakeful': 18652, 'caan': 18653, 'iht': 18654, 'ahar': 18655, 'ntah': 18656, 'quem': 18657, 'seeeee': 18658, 'yeaaaaaah': 18659, 'kissa': 18660, 'suizas': 18661, 'kaki': 18662, 'sparks': 18663, 'antioch': 18664, 'amtrak': 18665, 'dusty': 18666, 'yeaterday': 18667, 'algae': 18668, 'tinfoil': 18669, 'beachball': 18670, 'tecas': 18671, 'whinge': 18672, 'volcom': 18673, 'tutto': 18674, 'cuore': 18675, 'granddads': 18676, 'arizzard': 18677, 'moses': 18678, 'techmeme': 18679, 'ambush': 18680, 'bffls': 18681, 'frat': 18682, 'omnomnom': 18683, 'chatty': 18684, 'restrict': 18685, 'oooohhh': 18686, 'cantera': 18687, 'urbanoutfitters': 18688, 'fascination': 18689, 'unsalvageable': 18690, 'prehistoric': 18691, 'texan': 18692, 'toolbar': 18693, 'sorrow': 18694, 'consequences': 18695, 'hallo': 18696, 'surrealism': 18697, 'votton': 18698, 'superflat': 18699, 'monogram': 18700, 'takashi': 18701, 'lawnmower': 18702, 'momsen': 18703, '06am': 18704, 'gigolo': 18705, 'picolo': 18706, 'contests': 18707, 'pawn': 18708, 'zenjar': 18709, 'watchn': 18710, 'aracheologist': 18711, 'have2live': 18712, 'have2cut': 18713, 'chocy': 18714, 'bundled': 18715, 'cliche': 18716, 'prohibiting': 18717, 'landice': 18718, 'uhtterly': 18719, 'helenuh': 18720, 'archive': 18721, 'postings': 18722, 'freemusic': 18723, 'mattew': 18724, 'mcconaughey': 18725, 'smexy': 18726, 'newb': 18727, 'beshie': 18728, 'backroom': 18729, 'xfiles': 18730, 'rippin': 18731, 'acceptable': 18732, 'evaporated': 18733, 'alri': 18734, 'mwean': 18735, 'vine': 18736, 'woohooo': 18737, 'stomatch': 18738, '50p': 18739, 'stray': 18740, 'cans': 18741, 'otch': 18742, 'reclaim': 18743, 'bloated': 18744, 'manned': 18745, 'buttfuck': 18746, 'forgetful': 18747, 'gryffindor': 18748, 'justine': 18749, 'westconn': 18750, 'xmsirius': 18751, 'transmit': 18752, 'muffinsss': 18753, 'jerm': 18754, 'aannndd': 18755, 'psyillium': 18756, 'husk': 18757, '25mbps': 18758, 'natalya': 18759, 'feeders': 18760, 'offshore': 18761, 'graandma': 18762, 'houseee': 18763, 'sherry': 18764, 'melanie': 18765, 'ovr': 18766, 'profiel': 18767, 'jole': 18768, 'erwin': 18769, 'blom': 18770, 'pinic': 18771, 'pu': 18772, '0n': 18773, 'm3': 18774, 'keeks': 18775, '151': 18776, 'fortuna': 18777, 'defective': 18778, 'genny': 18779, 'evrytime': 18780, 'mojojojo': 18781, 'kebabs': 18782, 'muffi': 18783, 'chups': 18784, 'spartas': 18785, 'cuidalo': 18786, 'sportsmens': 18787, 'arrows': 18788, 'ching': 18789, 'chong': 18790, 'newsbites': 18791, 'clique': 18792, 'managers': 18793, 'wan': 18794, 'jagged': 18795, 'nandos': 18796, 'raincheck': 18797, 'errg': 18798, 'alen': 18799, 'grungy': 18800, 'noch': 18801, 'woche': 18802, 'warten': 18803, 'keyla': 18804, 'janice': 18805, 'thelovelybones': 18806, 'premire': 18807, 'geeta': 18808, 'underdog': 18809, 'gril': 18810, 'burgh': 18811, 'tsi': 18812, '160hp': 18813, 'isolated': 18814, 'stellllaaa': 18815, '2goin': 18816, 'ouvindo': 18817, 'melhor': 18818, 'nunca': 18819, 'existiu': 18820, 'pra': 18821, 'comeï¿½ar': 18822, 'neeeeed': 18823, 'surfers': 18824, 'skewl': 18825, 'pelzer': 18826, 'freeballing': 18827, 'macaron': 18828, 'tapes': 18829, 'hiphop': 18830, 'nursery': 18831, 'gremlin': 18832, 'rblpnqte': 18833, 'delux': 18834, 'spay': 18835, 'pruney': 18836, 'ampthill': 18837, 'stalin': 18838, 'bib': 18839, 'edu2': 18840, 'y4it': 18841, 'jessi': 18842, 'tays': 18843, 'thikn': 18844, 'whywhywhy': 18845, 'wikihow': 18846, 'teignmouth': 18847, 'dawlish': 18848, 'skeleton': 18849, 'divx': 18850, 'tweetz': 18851, 'tomorrowland': 18852, 'tours': 18853, 'lonesometown': 18854, 'smeer': 18855, 'scots': 18856, '81st': 18857, 'hignfy': 18858, 'minic': 18859, 'dyededed': 18860, 'denton': 18861, 'musician': 18862, 'profit': 18863, 'alexandra': 18864, 'wagner': 18865, 'embry': 18866, 'nappin': 18867, 'cuddy': 18868, 'obu': 18869, 'anway': 18870, 'privileged': 18871, 'pensioners': 18872, 'panchito': 18873, 'unsafe': 18874, 'masita': 18875, 'workweek': 18876, 'icof': 18877, 'umtil': 18878, 'bundy': 18879, 'rapes': 18880, 'participate': 18881, 'weeken': 18882, 'pq': 18883, 'pediu': 18884, 'handwraps': 18885, 'accce': 18886, 'stavros': 18887, 'flatley': 18888, 'luckyyy': 18889, 'oats': 18890, 'grigio': 18891, 'swist': 18892, 'proven': 18893, 'thwarted': 18894, 'charmingly': 18895, 'wishess': 18896, 'chergo': 18897, 'mcskillet': 18898, 'eats': 18899, 'bode': 18900, 'gastronomical': 18901, 'fims': 18902, 'ptour2': 18903, 'creations': 18904, 'weirder': 18905, 'newww': 18906, 'therm': 18907, 'pry': 18908, 'whar': 18909, 'boooooooooooo': 18910, 'suckkkkkk': 18911, 'passyunk': 18912, 'educating': 18913, 'bwahahahaha': 18914, 'khaled': 18915, 'hateeeeee': 18916, 'minuet': 18917, 'mustv': 18918, 'thunderstorming': 18919, 'archies': 18920, 'ember': 18921, 'dante': 18922, 'recoverable': 18923, 'weirdness': 18924, 'stake': 18925, 'regrets': 18926, 'rï¿½isï¿½ns': 18927, 'facilities': 18928, 'breakroom': 18929, 'snailmail': 18930, 'shortcoming': 18931, 'integrated': 18932, 'subtract': 18933, 'demise': 18934, 'woolworths': 18935, 'reasonably': 18936, 'faulty': 18937, 'flaxandfiberfriday': 18938, 'disaterous': 18939, 'ferrari': 18940, '8a': 18941, 'responsabilities': 18942, 'bogus': 18943, 'adidas': 18944, 'denyer': 18945, 'xoxoxoxoxoxo': 18946, 'meka': 18947, 'ventolin': 18948, 'bry': 18949, 'loverboy': 18950, 'underpants': 18951, 'kontakt': 18952, 'lyric': 18953, 'trop': 18954, 'pitman': 18955, 'ldn': 18956, 'tokens': 18957, 'huggin': 18958, 'waaaaayyyyy': 18959, 'taskin': 18960, 'spazz': 18961, 'sumiu': 18962, 'anchorage': 18963, 'loot': 18964, 'gauss': 18965, 'aquatards': 18966, 'causee': 18967, 'speachless': 18968, 'fifty': 18969, 'miamiadc': 18970, 'tenaya': 18971, 'hubbys': 18972, 'xampp': 18973, 'senility': 18974, 'blaring': 18975, 'retorting': 18976, 'thatsï¿½mee': 18977, '400mb': 18978, 'onpeak': 18979, 'ribfest': 18980, 'authenticating': 18981, 'murdering': 18982, 'ï¿½ï¿½h': 18983, 'riddance': 18984, 'babysittee': 18985, 'fm97': 18986, 'ux': 18987, 'criticisms': 18988, 'kalies': 18989, 'myspacee': 18990, 'unsubscribe': 18991, 'rennison': 18992, 'mychem': 18993, '405': 18994, 'choccies': 18995, 'lauraa22is': 18996, 'ditched': 18997, 'jain': 18998, 'sprinklers': 18999, 'rigid': 19000, 'graduations': 19001, 'miyake': 19002, 'bombs': 19003, 'acabou': 19004, 'snivel': 19005, 'hackneys': 19006, 'wavin': 19007, 'spittin': 19008, 'bashful': 19009, 'mattressing': 19010, 'blockage': 19011, 'noticable': 19012, 'toke': 19013, 'cabanaaaaaa': 19014, 'propels': 19015, 'andim': 19016, 'asi': 19017, 'ineedhelp': 19018, 'njoying': 19019, 'laced': 19020, 'jass': 19021, 'schoolbooks': 19022, 'reupload': 19023, 'tcu': 19024, 'yearss': 19025, 'delle': 19026, 'gday': 19027, 'interop': 19028, 'vb6': 19029, 'dll': 19030, 'leaders': 19031, 'alternatively': 19032, 'metres': 19033, 'sneaks': 19034, 'canad': 19035, 'hur': 19036, 'siyal8r': 19037, 'nooobody': 19038, 'sgb': 19039, 'sharpied': 19040, 'differently': 19041, 'smudger': 19042, 'hoobastank': 19043, 'jovi': 19044, 'spyed': 19045, 'listented': 19046, 'bologna': 19047, 'yeehah': 19048, 'enyone': 19049, 'plasma': 19050, 'stickage': 19051, 'amisha': 19052, 'helio': 19053, 'metals': 19054, 'zion': 19055, '626': 19056, 'prettifide': 19057, 'toooooooo': 19058, 'suzaku': 19059, 'itlog': 19060, 'louie': 19061, 'thenn': 19062, 'hyperrr': 19063, 'wizz': 19064, 'shreddies': 19065, 'wright': 19066, 'cano': 19067, 'sleepnow': 19068, '530p': 19069, 'copycats': 19070, '4u': 19071, 'gadgetopia': 19072, 'restroom': 19073, 'beautifyl': 19074, 'boya': 19075, 'smap': 19076, 'anyonewithbike': 19077, '104': 19078, 'uou': 19079, 'appliances': 19080, 'havelunch': 19081, 'jkuk': 19082, 'sums': 19083, 'restricted': 19084, 'priviledges': 19085, 'wembley': 19086, 'cll': 19087, 'intentando': 19088, 'intentarlo': 19089, 'manors': 19090, 'proved': 19091, 'popup': 19092, 'blocker': 19093, 'laughtner': 19094, 'lounging': 19095, 'cdcaves': 19096, 'hilariously': 19097, 'ayaw': 19098, 'bumukas': 19099, 'hickups': 19100, 'trafficking': 19101, 'daly': 19102, 'chaplain': 19103, 'therapist': 19104, 'byyy': 19105, 'enthu': 19106, 'pst': 19107, 'typo': 19108, 'chirp': 19109, 'tennille': 19110, 'adaptor': 19111, 'fusedgaming': 19112, 'abean2007': 19113, 'lingering': 19114, 'reachable': 19115, 'workn': 19116, '1720': 19117, 'shooks': 19118, 'overprotective': 19119, 'cybercheatin': 19120, 'ladybug602': 19121, 'agfest': 19122, 'administrators': 19123, 'firew': 19124, 'orphanage': 19125, 'kinokuniya': 19126, 'okiebud': 19127, 'leandro': 19128, 'gush': 19129, 'clad': 19130, 'playset': 19131, 'mfr': 19132, 'amish': 19133, 'becuase': 19134, 'failfriday': 19135, 'beauties': 19136, 'grads': 19137, 'clocks': 19138, '1999': 19139, 'licnse': 19140, 'inspections': 19141, 'inflamed': 19142, 'fewfffff': 19143, 'bloodtests': 19144, 'warmer': 19145, 'chilliness': 19146, 'complexion': 19147, 'mont': 19148, 'pairung': 19149, 'digits': 19150, 'crocodile': 19151, 'yalls': 19152, 'robs': 19153, 'orbits': 19154, 'exoplanets': 19155, 'religions': 19156, 'morality': 19157, 'moooooooooooooooo': 19158, 'twp': 19159, 'splinters': 19160, 'heroic': 19161, 'baaaaaaaad': 19162, 'carnivalsofparis': 19163, 'ltj': 19164, 'yoke': 19165, 'emmas': 19166, 'commissary': 19167, 'grandmas': 19168, 'sinned': 19169, 'reeeaaaally': 19170, 'stockings': 19171, 'mogul': 19172, 'akins': 19173, 'mamacita': 19174, 'yoooou': 19175, 'muuaah': 19176, 'hasselblad': 19177, 'boomin': 19178, 'fucc': 19179, 'buccz': 19180, 'starbuccz': 19181, 'clubbers': 19182, 'c4': 19183, 'languish': 19184, 'tps': 19185, 'sen': 19186, 'cowgirl': 19187, 'gameszombie': 19188, 'stonedbuzz': 19189, 'visialize': 19190, 'environent': 19191, 'demanding': 19192, 'werid': 19193, 'shabu': 19194, 'legalisation': 19195, 'accents': 19196, 'shred': 19197, 'naia': 19198, 'finshed': 19199, '44am': 19200, 'gratz': 19201, 'rector': 19202, 'tutors': 19203, 'trix': 19204, 'accel': 19205, 'vorderman': 19206, 'interivew': 19207, 'educate': 19208, 'dover': 19209, 'anand': 19210, 'bounced': 19211, 'wallinwood': 19212, 'montagues': 19213, 'capulets': 19214, 'bueeee': 19215, 'kwijt': 19216, 'nocturnal': 19217, 'serendipity': 19218, 'kashmir': 19219, 'omfgggg': 19220, 'commmmmiinnnnnggggggg': 19221, 'fancied': 19222, 'grrreeaaattt': 19223, 'dontlike': 19224, 'ginormous': 19225, 'tweetboard': 19226, 'nitentdo': 19227, '20am': 19228, 'mythic': 19229, 'interaction': 19230, 'bowlful': 19231, 'insured': 19232, 'fightclub': 19233, 'pulse': 19234, 'goofin': 19235, 'ironed': 19236, 'shockable': 19237, 'tigerheat': 19238, 'ugggg': 19239, 'shippuuden': 19240, 'bores': 19241, 'hypervenilating': 19242, 'haahaha': 19243, 'yorks': 19244, 'lancs': 19245, 'enjoys': 19246, 'marigolds': 19247, 'nesquik': 19248, 'homeee': 19249, 'traces': 19250, 'rdj': 19251, 'squashed': 19252, 'wilber': 19253, 'expectation': 19254, 'integral': 19255, 'doggieï¿½s': 19256, 'obamaï¿½s': 19257, 'classify': 19258, 'homeboy': 19259, 'disliking': 19260, 'rumor': 19261, 'cyndi': 19262, 'rickroll': 19263, '60k': 19264, 'renta': 19265, 'euh': 19266, 'ldap': 19267, 'schema': 19268, 'dolores': 19269, 'myoh': 19270, 'tarsier': 19271, 'ysc': 19272, 'runthrough': 19273, 'trixter': 19274, 'pittsburgh': 19275, 'hubster': 19276, 'caravan': 19277, '136': 19278, 'coined': 19279, 'switchfoot': 19280, 'hsg': 19281, 'bmw': 19282, 'bragg': 19283, 'blunstone': 19284, 'stumbled': 19285, 'thicke': 19286, 'serenade': 19287, 'associate': 19288, 'sukks': 19289, 'hopped': 19290, 'swwwaaaaggg': 19291, 'oooonnnn': 19292, 'rih': 19293, 'onther': 19294, 'marketers': 19295, 'jowki': 19296, 'grueling': 19297, 'gordo': 19298, 'communicating': 19299, 'web1': 19300, 'web2': 19301, 'luvly': 19302, 'koh': 19303, 'unopportunte': 19304, 'fitzcarraldo': 19305, 'lusting': 19306, 'draven': 19307, 'happeh': 19308, 'diagram': 19309, 'mainstream': 19310, 'cloning': 19311, 'utorrent': 19312, '144': 19313, 'bonzo': 19314, 'torino': 19315, 'longhaul': 19316, 'noy': 19317, 'ykyat': 19318, 'tyaï¿½': 19319, 'caf': 19320, 'vioce': 19321, 'tomm': 19322, 'gabberss': 19323, 'flowin': 19324, 'fancys': 19325, 'muhahahaaaa': 19326, 'puertorican': 19327, 'sameperson': 19328, 'rj': 19329, 'wolves': 19330, 'burton': 19331, 'brainfreeze': 19332, 'unusuals': 19333, 'arcadia': 19334, 'hoorayy': 19335, 'exclude': 19336, 'nds': 19337, 'mettallica': 19338, 'fanmail': 19339, 'befor': 19340, 'aw0910': 19341, 'buckling': 19342, 'inanity': 19343, 'insomniaa': 19344, 'inotia': 19345, 'acw': 19346, 'dazzleglasses': 19347, 'anthems': 19348, 'gman': 19349, 'overhere': 19350, 'bringtaraback': 19351, 'bathgate': 19352, '81': 19353, 'yeeah': 19354, 'teddies': 19355, 'colette': 19356, 'wroclaw': 19357, 'kosmo': 19358, 'peaches': 19359, 'kittin': 19360, 'beetroots': 19361, 'acustic': 19362, 'autorun': 19363, 'garrit': 19364, 'weeny': 19365, 'ziggy': 19366, 'greying': 19367, 'schade': 19368, '255': 19369, 'zoombezi': 19370, 'dc101': 19371, 'colombia': 19372, 'robsessedpattinson': 19373, 'soonnnnnn': 19374, 'neverending': 19375, 'babbby': 19376, 'amel': 19377, 'larrieux': 19378, 'errybody': 19379, 'heyyyyyyyyyyyyy': 19380, 'divshite': 19381, 'arses': 19382, 'bwahaha': 19383, 'barrio': 19384, 'cmyk': 19385, 'deliveries': 19386, 'instructors': 19387, 'seester': 19388, 'foxford': 19389, 'pontoon': 19390, 'improperly': 19391, 'totaled': 19392, 'arrggghhh': 19393, 'elitecamp': 19394, 'rahul': 19395, 'greypoupon': 19396, 'bleaker': 19397, 'thehannabeth': 19398, 'siento': 19399, 'frehley': 19400, 'whaat': 19401, 'revolutionizing': 19402, 'exciiiiiiiting': 19403, 'dist': 19404, 'sess': 19405, 'yesterdays': 19406, 'sugaaar': 19407, 'skrg': 19408, 'sempit': 19409, 'waktunya': 19410, 'symbol': 19411, '250e': 19412, 'crazzyyyy': 19413, 'badu': 19414, 'familar': 19415, 'biknightual': 19416, 'tweedeck': 19417, 'congested': 19418, 'fireeeeee': 19419, 'showstoppers': 19420, 'leopards': 19421, 'dearie': 19422, 'developement': 19423, 'kimosave': 19424, 'yesssssssssss': 19425, 'humility': 19426, 'raul': 19427, 'reallllyyy': 19428, 'clonecloud': 19429, 'provisioning': 19430, 'minnesota': 19431, 'shreveport': 19432, 'coordinate': 19433, 'fetti': 19434, 'addressing': 19435, 'envolopes': 19436, 'weatler': 19437, 'lo0l': 19438, 'hanami': 19439, 'mcmanus': 19440, 'oppose': 19441, 'compete': 19442, '840': 19443, 'jars': 19444, 'slurpees': 19445, '14m': 19446, 'realitycheck': 19447, 'toggling': 19448, 'ganesh': 19449, 'jaju': 19450, 'gusying': 19451, 'bourbon': 19452, 'zeitgeist': 19453, 'invaders': 19454, 'aaaaiieee': 19455, 'squeak': 19456, 'dreamweaver': 19457, 'kindergarden': 19458, 'disappear': 19459, 'mommah': 19460, 'shiiite': 19461, 'rhyming': 19462, 'seinors': 19463, 'automation': 19464, 'cairns': 19465, 'clan': 19466, '0600': 19467, 'toefl': 19468, 'tallebudgera': 19469, 'bartâ': 19470, 'ofâ': 19471, 'theâ': 19472, 'criticalâ': 19473, 'zeropoint': 19474, 'credential': 19475, 'pitching': 19476, 'lackluster': 19477, 'shortstops': 19478, 'mendoza': 19479, 'escapism': 19480, 'leaky': 19481, 'faucets': 19482, 'eine': 19483, 'kleine': 19484, 'nashtmusik': 19485, 'talkingwithtami': 19486, 'tammie': 19487, 'squirted': 19488, 'isss': 19489, 'morningg': 19490, 'platium': 19491, 'triangle': 19492, 'mornining': 19493, 'bounty': 19494, 'vampyre': 19495, 'comixes': 19496, 'donloaded': 19497, 'newbies': 19498, 'attributed': 19499, 'seizure': 19500, 'inducing': 19501, 'soloist': 19502, 'cutted': 19503, 'laaame': 19504, 'propellerheads': 19505, 'kiana': 19506, 'masha': 19507, 'angrrry': 19508, 'neighboures': 19509, '300th': 19510, 'coffeeee': 19511, 'saaaaafe': 19512, 'friendships': 19513, 'slouch': 19514, 'conflicting': 19515, 'cinerama': 19516, 'judgmental': 19517, 'lupo': 19518, 'greener': 19519, 'alongside': 19520, 'overconfident': 19521, 'iyla': 19522, 'syncs': 19523, 'neti': 19524, 'backgroud': 19525, 'tranlsators': 19526, 'easports': 19527, 'gottfried': 19528, 'ughhhhhhhhh': 19529, 'anwhere': 19530, 'afarid': 19531, 'weekeknd': 19532, 'sheri': 19533, 'reworded': 19534, 'ï¿½iï¿½m': 19535, 'seck': 19536, 'cooper': 19537, 'foreigner': 19538, 'tempat': 19539, 'apa': 19540, 'yang': 19541, 'paling': 19542, 'cocok': 19543, 'jupiter': 19544, 'seru': 19545, 'fof': 19546, 'underwire': 19547, 'collectors': 19548, 'tyring': 19549, 'aruba': 19550, 'sabido': 19551, 'fiz': 19552, 'paddington': 19553, 'shortages': 19554, 'laughin': 19555, 'enlightened': 19556, 'veronique': 19557, 'branquinho': 19558, 'aahhhh': 19559, 'skateparks': 19560, 'blogher09': 19561, 'gemma': 19562, 'mwahahah': 19563, 'golfer': 19564, 'macys': 19565, 'broker': 19566, 'dogtown': 19567, 'hotttt': 19568, 'blackk': 19569, 'priecing': 19570, 'bluff': 19571, 'karine': 19572, 'snowboarding': 19573, 'nigguh': 19574, 'mondaaaaaay': 19575, 'shakalohana': 19576, 'wavez': 19577, 'professor': 19578, 'parentals': 19579, 'crampsss': 19580, 'bahahah': 19581, 'transatlantic': 19582, 'sholders': 19583, 'dilemmas': 19584, 'pcw': 19585, 'woopity': 19586, 'slurpeeee': 19587, 'sociable': 19588, 'empanadas': 19589, 'acee': 19590, 'beautful': 19591, 'myonlysanction': 19592, 'musicals': 19593, 'blogroll': 19594, 'motivate': 19595, 'sentiments': 19596, 'aarrgghh': 19597, 'gravol': 19598, 'flyleaf': 19599, 'snoopy': 19600, 'somtimes': 19601, 'sleeeepy': 19602, 'outvoted': 19603, 'budda': 19604, 'hawndog': 19605, 'smwhere': 19606, 'dooooooooown': 19607, 'virtue': 19608, 'wahooooooo': 19609, 'solutions': 19610, 'regluing': 19611, 'ltr': 19612, 'dundas': 19613, 'duchovny': 19614, 'employment': 19615, 'shugartbates': 19616, 'soupy': 19617, 'heinz': 19618, 'flatbread': 19619, 'courseeee': 19620, 'dunners': 19621, 'b0ut2get': 19622, 'ready2start': 19623, 'aright': 19624, 'outties': 19625, 'newlyweds': 19626, 'motar': 19627, 'binary': 19628, 'zirconcode': 19629, 'expensv': 19630, 'bttl': 19631, 'zippys': 19632, 'bleeeeah': 19633, 'pipeline': 19634, 'salvador': 19635, 'gdit': 19636, 'dlukasrossi': 19637, 'lukas': 19638, 'protected': 19639, 'harpmanhatter': 19640, 'beastypops': 19641, 'homesssssskooooler': 19642, '2015': 19643, 'bttf': 19644, 'alle': 19645, 'judging': 19646, 'textd': 19647, 'greensborough': 19648, 'prev': 19649, 'bundoora': 19650, 'denomination': 19651, 'pickler': 19652, 'rafi': 19653, 'shammi': 19654, 'kapoor': 19655, 'rhonda': 19656, '2hear': 19657, 'gmtv': 19658, 'duckies': 19659, 'painkillers': 19660, '8k': 19661, 'btween': 19662, 'knoooooooooooow': 19663, 'nnnnoooooo': 19664, 'equation': 19665, 'complements': 19666, 'duuude': 19667, 'toontown': 19668, 'furby': 19669, 'vaiko': 19670, 'nedumaran': 19671, 'ltte': 19672, 'numerous': 19673, 'othaa': 19674, 'gurrrrrl': 19675, 'feeeeeet': 19676, 'spellingis': 19677, 'warrens': 19678, 'beefin': 19679, 'sleeeepp': 19680, 'gymming': 19681, 'bawas': 19682, 'kanin': 19683, 'celibate': 19684, 'sohcahtoa': 19685, 'aqo': 19686, 'ashower': 19687, 'teniece': 19688, 'basquash': 19689, 'sengoku': 19690, 'basara': 19691, 'requiemforthephantom': 19692, 'edenoftheeast': 19693, 'a2': 19694, 'quartered': 19695, '5900': 19696, 'vit': 19697, 'hatin': 19698, 'unappealing': 19699, 'ignment': 19700, 'funnyyy': 19701, 'ashleyyyy': 19702, 'lubbock': 19703, 'mince': 19704, 'nussdorfer': 19705, 'herrenberg': 19706, 'wonky': 19707, 'cushing': 19708, 'koala': 19709, 'pubquizzing': 19710, '11e': 19711, 'sinon': 19712, 'mardi': 19713, 'kwanghock': 19714, 'hao': 19715, 'za': 19716, 'ji': 19717, 'sassafrass': 19718, 'kidz': 19719, 'bop': 19720, 'oohs': 19721, 'aahs': 19722, 'twitternut': 19723, 'squashes': 19724, 'subbed': 19725, 'pika': 19726, 'nichi': 19727, 'heeeee': 19728, 'plop': 19729, 'oscc': 19730, 'boby': 19731, 'manderin': 19732, 'subdivision': 19733, 'ribbons': 19734, 'daleks': 19735, 'calming': 19736, 'greeeeen': 19737, 'panahra': 19738, 'fx': 19739, '1000x': 19740, 'tolerate': 19741, 'sunnn': 19742, 'finnalllyyy': 19743, 'urgggh': 19744, 'footwear': 19745, 'familias': 19746, 'horrifying': 19747, 'adress': 19748, 'sighting': 19749, 'spongebobs': 19750, 'distraught': 19751, 'drumset': 19752, 'tallented': 19753, 'piglets': 19754, 'botherin': 19755, 'cuteset': 19756, 'looooooove': 19757, 'timeout': 19758, 'whiiich': 19759, 'victories': 19760, 'phast': 19761, 'carbonated': 19762, 'demonata': 19763, 'sanctity': 19764, 'tommrow': 19765, '10days': 19766, 'macaroons': 19767, 'moomy': 19768, 'agents': 19769, 'wham': 19770, 'pllleeeaaassseeeeee': 19771, 'rung': 19772, 'coors': 19773, 'amercia': 19774, 'eying': 19775, 'headway': 19776, 'registeration': 19777, 'taboo': 19778, 'pwn3d': 19779, 'trait': 19780, 'razr': 19781, 'implementing': 19782, 'paginate': 19783, 'thurstag': 19784, '800x': 19785, 'anniston': 19786, 'mississippi': 19787, 'boating': 19788, 'songwriting': 19789, 'damnation': 19790, 'overloaded': 19791, 'woa': 19792, 'termenator': 19793, 'coudl': 19794, 'starbuks': 19795, 'chipping': 19796, 'sexin': 19797, 'nofair': 19798, 'uhura': 19799, 'parcel': 19800, 'p2v': 19801, 'migrates': 19802, 'vsp': 19803, 'weblogamo': 19804, 'kardam': 19805, 'moteasefane': 19806, 'baz': 19807, 'postesh': 19808, 'kootah': 19809, 'shod': 19810, 'albate': 19811, 'khob': 19812, 'nadashtam': 19813, 'begam': 19814, 'omgod': 19815, 'eoi': 19816, 'aspire': 19817, 'supervisor': 19818, 'friench': 19819, '97': 19820, 'haus': 19821, 'frï¿½ulein': 19822, 'uggo': 19823, 'oï¿½i': 19824, 'okami': 19825, '200km': 19826, 'goooooodmoring': 19827, 'yat': 19828, 'maching': 19829, 'enfest': 19830, 'theese': 19831, 'milkkk': 19832, 'mjb': 19833, '0ut': 19834, 'penjiiii': 19835, 'mcbaby': 19836, 'clearer': 19837, 'nobitchassnessfriday': 19838, 'purrtty': 19839, 'kol': 19840, 'cstm': 19841, 'buaa': 19842, 'collegiate': 19843, 'scholars': 19844, 'teevee': 19845, 'mspacers': 19846, 'suuuks': 19847, 'tweethearts': 19848, '302': 19849, 'faires': 19850, 'indianapolis': 19851, 'ouchhhhhh': 19852, 'frkn': 19853, 'pmark': 19854, 'rotk': 19855, 'idon': 19856, 'tknowwhatdamnbrandcoffeethisis': 19857, 'lolipop': 19858, 'esploder': 19859, 'lancey': 19860, 'kaust': 19861, 'firepro0f': 19862, 'jks': 19863, 'dumbface': 19864, 'seeeeeee': 19865, 'alllllll': 19866, 'textn': 19867, 'allens': 19868, 'nyappy': 19869, 'abbie': 19870, 'seaside': 19871, 'soetimes': 19872, 'oging': 19873, 'mackillop': 19874, 'aaaaarrrrggghhh': 19875, 'kerbear': 19876, 'gues': 19877, 'superior': 19878, 'gits': 19879, 'answerd': 19880, 'recognizes': 19881, 'storyyyyy': 19882, 'erasure': 19883, 'xxxrebelrebelxxx': 19884, 'aahhg': 19885, 'sxyhrlygrl': 19886, 'muahh': 19887, 'someplease': 19888, 'warrier': 19889, 'krystle': 19890, 'catfights': 19891, 'moood': 19892, 'kos': 19893, 'jules': 19894, 'awwwe': 19895, 'okaii': 19896, 'pigged': 19897, 'veryyy': 19898, 'hacienda': 19899, 'ckas': 19900, 'dinghy': 19901, 'bettiye': 19902, 'vase': 19903, 'frnds': 19904, 'manasellaam': 19905, 'kulir100': 19906, 'nanbargale': 19907, 'rooommate': 19908, 'necklaces': 19909, 'peirced': 19910, 'peircing': 19911, 'hmmmmï¿½being': 19912, 'mooorrreeee': 19913, 'cones': 19914, 'frenchie': 19915, 'denise': 19916, 'unmarried': 19917, '21589': 19918, 'mummmyyysss': 19919, 'rosa': 19920, 'guadalupe': 19921, 'virgins': 19922, 'sheesha': 19923, 'whoaaaaaaaaaaa': 19924, 'ths': 19925, 'starbuck': 19926, 'mma': 19927, 'lleyton': 19928, 'mayjah': 19929, 'leyendo': 19930, 'stupido': 19931, 'pfp': 19932, 'christmass': 19933, 'grovelled': 19934, 'rblpnbro': 19935, '6wks': 19936, 'stdin': 19937, 'mchale': 19938, 'puyallup': 19939, 'morming': 19940, 'n96': 19941, 'stereo': 19942, 'skyline': 19943, 'lindt': 19944, 'cafes': 19945, 'headbutt': 19946, 'canadians': 19947, 'deucie': 19948, 'kakabalik': 19949, 'tarlac': 19950, 'aftie': 19951, 'whateverworks': 19952, 'piranhas': 19953, 'ssug': 19954, 'penance': 19955, 'facespacing': 19956, 'steemer': 19957, 'reasoning': 19958, '4give': 19959, 'baseship': 19960, 'nightie': 19961, 'longggg': 19962, 'chiangmai': 19963, 'loy': 19964, 'krathong': 19965, 'depress': 19966, 'badass': 19967, 'basment': 19968, 'raindrops': 19969, 'littlest': 19970, 'tsutsu': 19971, 'whaa': 19972, 'devel': 19973, 'alyson': 19974, 'schuhz': 19975, 'arabyrd': 19976, 'charter': 19977, 'iweb': 19978, 'optimizing': 19979, 'leeuwarden': 19980, 'smdh': 19981, 'samples': 19982, 'zorn': 19983, 'bungle': 19984, 'preston': 19985, 'buzzers': 19986, 'dogged': 19987, 'corpus': 19988, 'lantz': 19989, 'hearn': 19990, 'burnsy': 19991, 'comparison': 19992, 'enlgland': 19993, 'ssm': 19994, 'dramathon': 19995, 'ddd': 19996, 'artslam': 19997, 'independently': 19998, 'friendie': 19999, 'hongkong': 20000, 'tourrr': 20001, '18thh': 20002, 'junee': 20003, 'rowww': 20004, 'sampsonn': 20005, '1m': 20006, 'yaaaaaaaaaaaay': 20007, 'maxxie': 20008, 'anwar': 20009, 'cathay': 20010, 'playback': 20011, 'lovess': 20012, 'cambs': 20013, 'eeeeeeeeee': 20014, 'ulca': 20015, 'yuen': 20016, 'noesss': 20017, 'tickling': 20018, 'ratarsed': 20019, 'iloveyopu': 20020, 'lymz': 20021, 'cntt': 20022, 'waiit': 20023, 'upsidedown': 20024, 'ezine': 20025, 'tance': 20026, 'vapid': 20027, 'colored': 20028, 'icetv': 20029, 'takeout': 20030, 'trailed': 20031, 'landlines': 20032, 'foe': 20033, 'sween': 20034, 'drumming': 20035, 'cheeeks': 20036, 'excedrine': 20037, 'checkered': 20038, 'ministry': 20039, 'amritsar': 20040, 'wholesale': 20041, 'thereeeeeeeeeee': 20042, 'stuvk': 20043, 'stpid': 20044, 'danvan': 20045, '1828x1556': 20046, '4096': 20047, 'manda': 20048, 'pulish': 20049, 'bingley': 20050, 'practise': 20051, 'mallory': 20052, 'gastritis': 20053, 'scope': 20054, 'benz': 20055, 'serviced': 20056, 'akc': 20057, '599': 20058, 'overruled': 20059, 'embarrassd': 20060, 'hilaaaaarious': 20061, 'vernae': 20062, 'idiom': 20063, 'urns': 20064, 'looooooooves': 20065, 'hooping': 20066, 'lahore': 20067, 'targets': 20068, 'tikka': 20069, 'birdy': 20070, 'odessey': 20071, 'moovie': 20072, 'sited': 20073, 'keanu': 20074, 'seated': 20075, 'lakeman': 20076, 'noboddddyyyy': 20077, 'chweet': 20078, 'muaxxx': 20079, 'bhabhi': 20080, '617': 20081, '262': 20082, '2220': 20083, '10p': 20084, 'goss': 20085, 'vibrating': 20086, 'shannie': 20087, 'paedofile': 20088, 'eli': 20089, 'pricked': 20090, 'predictive': 20091, 'desperation': 20092, 'inhaled': 20093, 'potuguese': 20094, 'zzzzz': 20095, 'sixteen': 20096, 'ingrid': 20097, 'frakking': 20098, 'greenbelt': 20099, 'jeeeez': 20100, 'slammer': 20101, '695': 20102, 'charleys': 20103, 'eeecontrol': 20104, '1500rpm': 20105, '55c': 20106, '0rpm': 20107, 'padestrian': 20108, 'skanking': 20109, 'littttttle': 20110, 'hamdemic': 20111, 'aporkalypse': 20112, 'parmageddon': 20113, 'xoxoxoxo': 20114, 'hump': 20115, 'gifford': 20116, 'fannie': 20117, 'darwin': 20118, 'sweepstakes': 20119, 'manson': 20120, 'groundup': 20121, 'funhouse': 20122, '15gb': 20123, 'mainframe': 20124, 'unban': 20125, 'summat': 20126, 'selos': 20127, 'tsokay': 20128, 'diba': 20129, 'faithful': 20130, 'loyal': 20131, 'mast': 20132, 'ladki': 20133, 'patata': 20134, 'jiske': 20135, 'sath': 20136, 'jaye': 20137, 'khush': 20138, 'rehna': 20139, 'tys': 20140, 'uncontrollably': 20141, 'quoting': 20142, 'funniset': 20143, 'beings': 20144, 'bursting': 20145, 'tacs': 20146, 'lluuvv': 20147, 'evenn': 20148, 'moreee': 20149, 'chairs': 20150, 'funnily': 20151, 'roland': 20152, 'kik': 20153, 'saws': 20154, 'booming': 20155, 'soufflï¿½': 20156, 'reflexie': 20157, 'arcade': 20158, 'lfctv': 20159, 'bseresults': 20160, 'foolishness': 20161, 'brunswick': 20162, 'honors': 20163, 'amazinggggg': 20164, 'intend': 20165, 'ffrecommend': 20166, '46': 20167, 'recked': 20168, 'sleeeeeeeepy': 20169, '15min': 20170, 'desired': 20171, 'twipics': 20172, 'fristy': 20173, 'rockstars': 20174, 'groundedd': 20175, 'boooooooooo': 20176, 'axed': 20177, 'ombra': 20178, 'fï¿½': 20179, 'largo': 20180, 'hï¿½ndel': 20181, 'idols': 20182, 'almostt': 20183, 'shawnee': 20184, 'musings': 20185, 'acs': 20186, 'mgm': 20187, 'doubling': 20188, 'opener': 20189, 'irrelevant': 20190, 'islip': 20191, 'killme': 20192, 'bookmarked': 20193, 'ripley': 20194, 'motorcades': 20195, 'russ': 20196, 'inflating': 20197, '49': 20198, 'aide': 20199, 'siccck': 20200, 'jimbbbbo': 20201, 'arrogant': 20202, 'potbelly': 20203, 'wholey': 20204, 'wholely': 20205, 'composed': 20206, 'carls': 20207, '71st': 20208, 'firemen': 20209, 'sympahty': 20210, '554': 20211, 'willoughby': 20212, 'nelle': 20213, 'glie': 20214, 'oak': 20215, 'mooneys': 20216, 'brewcast': 20217, 'overdo': 20218, 'trishy': 20219, 'minted': 20220, 'plural': 20221, 'axkit': 20222, 'catty': 20223, 'makino': 20224, 'chaya': 20225, 'subliminal': 20226, 's4': 20227, 'trekky': 20228, 'occuring': 20229, 'hotdogs': 20230, 'bunking': 20231, 'magnonotes': 20232, 'kailangang': 20233, 'imemorize': 20234, 'surrrrrously': 20235, 'imna': 20236, 'whoolllleeee': 20237, 'loveyoutoo': 20238, 'delas': 20239, 'palmpre': 20240, 'edgefest': 20241, 'hunrgy': 20242, 'donated': 20243, 'coffees': 20244, '43416': 20245, 'bub': 20246, 'prov': 20247, 'philos': 20248, 'ophy': 20249, 'mat': 20250, 'intersubjectively': 20251, 'assassinate': 20252, 'samanthas': 20253, 'picasso': 20254, 'bensons': 20255, 'virtualkiss': 20256, 'moooorning': 20257, 'weeaboo': 20258, 'buttermilk': 20259, 'blk': 20260, 'availble': 20261, 'dvt': 20262, 'loonix': 20263, 'hustle': 20264, 'restful': 20265, 'lazying': 20266, 'halibut': 20267, 'jalepenos': 20268, 'wireimage': 20269, 'whey': 20270, 'stinkered': 20271, 'sttart': 20272, 'placebo': 20273, 'amos': 20274, 'espacesoleil': 20275, 'grams': 20276, 'muchachomalo': 20277, 'swamp': 20278, 'observatory': 20279, 'connecticut': 20280, 'warbler': 20281, 'metzger': 20282, 'magee': 20283, 'horatio': 20284, 'caine': 20285, 'stabalise': 20286, 'midgets': 20287, 'ln': 20288, 'turbull': 20289, 'bunting': 20290, 'overplayed': 20291, 'curvey': 20292, 'melodies': 20293, 'geocode': 20294, 'apiï¿½s': 20295, 'chels': 20296, 'lyndi': 20297, 'mazie': 20298, 'kristina': 20299, 'neball': 20300, 'plc': 20301, 'kisskass19': 20302, 'katey': 20303, 'vodkas': 20304, 'travelers': 20305, 'kya': 20306, 'bas': 20307, 'jaao': 20308, 'tamlyn': 20309, 'tomtom': 20310, 'wheater': 20311, 'ï¿½3': 20312, 'catullus': 20313, 'ovid': 20314, 'extract': 20315, 'aeneid': 20316, 'recomend': 20317, 'streetview': 20318, 'sesion': 20319, 'reutimann': 20320, 'cherri': 20321, 'danas': 20322, 'larger': 20323, 'avalina': 20324, 'dud': 20325, 'scramming': 20326, 'nibs': 20327, 'panhandle': 20328, 'blogtalk': 20329, 'regarde': 20330, 'tant': 20331, 'attendues': 20332, 'photographies': 20333, 'tatt': 20334, 'sais': 20335, 'excist': 20336, 'cwoffee': 20337, 'maï¿½ana': 20338, 'hasa': 20339, 'casserole': 20340, 'grumbling': 20341, 'lovliest': 20342, 'dreamgirls': 20343, 'commodores': 20344, 'areo': 20345, 'lumpy': 20346, 'chattering': 20347, 'maggi': 20348, 'goreng': 20349, 'cmin': 20350, 'whaaaaaaaahhhh': 20351, 'dranks': 20352, 'greer': 20353, 'ress': 20354, 'bannished': 20355, 'aaaagggessss': 20356, '1971': 20357, 'fanny': 20358, 'requisite': 20359, 'undertakings': 20360, 'teratoma': 20361, 'cavity': 20362, 'baldness': 20363, 'gnna': 20364, 'helpfully': 20365, 'shrinks': 20366, 'beasted': 20367, 'tempe': 20368, 'marketplace': 20369, 'bork': 20370, 'butcking': 20371, 'creator': 20372, '2005': 20373, 'tanna': 20374, 'weeknend': 20375, 'achvs': 20376, '47000': 20377, 'averages': 20378, 'malasadas': 20379, 'blumenthal': 20380, 'cuzin': 20381, 'husky': 20382, 'partridge': 20383, 'anorexic': 20384, 'buckhead': 20385, 'rocksteady': 20386, 'sugars': 20387, 'hami': 20388, 'brookings': 20389, 'mommaz': 20390, 'escentuals': 20391, 'tearrrrrrrr': 20392, 'waterhouse': 20393, 'jhy': 20394, 'awwwwwwwwww': 20395, 'wachting': 20396, 'missd': 20397, 'otha': 20398, 'tonorrow': 20399, 'miiiiissed': 20400, 'mycs': 20401, 'loveyouuuu': 20402, 'leyton': 20403, 'appartement': 20404, 'linoleum': 20405, 'carving': 20406, 'bwahahahahahahaha': 20407, 'twitastic': 20408, 'pfftt': 20409, 'you1': 20410, 'thehodge': 20411, 'inclusion': 20412, 'volt': 20413, '221': 20414, 'unfortunatelly': 20415, 'cookoutofthecentury': 20416, 'naivety': 20417, 'warrenty': 20418, 'brecky': 20419, 'baylee': 20420, 'shiggity': 20421, 'shwa': 20422, 'tweedles': 20423, 'weeknd': 20424, 'snaaaap': 20425, 'jimmaaayy': 20426, 'hookups': 20427, 'enacting': 20428, 'kareoke': 20429, 'managingonlineforums': 20430, 'amzn': 20431, 'clubhouse': 20432, 'wl': 20433, 'uninvited': 20434, 'deid': 20435, 'mannnnnn': 20436, 'everythinggg': 20437, 'miscarriage': 20438, 'mississppi': 20439, 'ecaytrade': 20440, 'zeta': 20441, 'jaron': 20442, 'diga': 20443, 'peasy': 20444, 's20e19': 20445, 'hsbc': 20446, 'apy': 20447, 'elora': 20448, 'danan': 20449, 'nsw': 20450, 'melbs': 20451, 'hitched': 20452, 'expansions': 20453, 'embarassment': 20454, 'eexcited': 20455, '1505': 20456, 'theatres': 20457, 'grayish': 20458, 'scoundrels': 20459, 'orc': 20460, 'melai': 20461, 'badette': 20462, 'hick': 20463, 'ethnic': 20464, 'sexual': 20465, 'maternal': 20466, 'threatening': 20467, 'deathmatch': 20468, 'muahhhhhhhhhhhhhhhhhhhhhhhhhhhhhhhh': 20469, 'waaaahhh': 20470, 'squeeky': 20471, 'maids': 20472, 'maaddict': 20473, 'pencils': 20474, 'sharpened': 20475, '170th': 20476, 'confessed': 20477, 'wowzers': 20478, 'cuma': 20479, 'heheheh': 20480, 'terus': 20481, 'statusmuuu': 20482, 'eilish': 20483, 'pineapples': 20484, 'peroni': 20485, 'moomie': 20486, 'toooooooooooooooooo': 20487, 'stratus': 20488, 'wac': 20489, 'ï¿½a': 20490, 'pounces': 20491, 'thanksss': 20492, 'ngh': 20493, 'unimpressed': 20494, 'sapinsidetrack': 20495, 'palo': 20496, 'alto': 20497, 'unmuted': 20498, 'laths': 20499, 'appetizers': 20500, 'homey': 20501, 'bugg': 20502, 'des': 20503, 'plaines': 20504, 'iphonedev': 20505, 'minstrels': 20506, 'analyzed': 20507, 'plav': 20508, 'hahas': 20509, 'pri': 20510, '5plus': 20511, 'chubba': 20512, 'earthquake': 20513, 'submarine': 20514, 'fiber': 20515, 'optics': 20516, 'snowflakes': 20517, 'lanham': 20518, 'hectiv': 20519, 'goof': 20520, 'iont': 20521, 'krystal': 20522, 'controlling': 20523, 'bayou': 20524, 'judgemental': 20525, 'whoohoo': 20526, 'sleeeeping': 20527, 'youl': 20528, 'pizzahut': 20529, 'fandom': 20530, 'heeeeere': 20531, 'whatbouts': 20532, 'saab': 20533, 'homeworks': 20534, 'ochh': 20535, 'supose': 20536, 'thaught': 20537, 'wahhhhhhh': 20538, 'ï¿½m': 20539, 'qu': 20540, 'ouutside': 20541, 'misssed': 20542, 'castlebar': 20543, 'galway': 20544, 'julyish': 20545, 'cooraperates': 20546, 'arghhhhhhhhh': 20547, 'twitterbones': 20548, 'guava': 20549, 'handi': 20550, 'itms': 20551, 'filipno': 20552, 'truce': 20553, 'beautey': 20554, 'elite': 20555, 'epl': 20556, 'guniea': 20557, '30day': 20558, 'cmf': 20559, 'utton': 20560, 'kahkis': 20561, 'meadowbank': 20562, 'modded': 20563, 'pughugs': 20564, 'ucla': 20565, 'sharffenberger': 20566, 'ministers': 20567, 'promoing': 20568, 'softy': 20569, 'chij': 20570, 'mowj': 20571, 'thims': 20572, 'hoj': 20573, 'hangf': 20574, 'thaan': 20575, 'thik': 20576, 'gaanf': 20577, 'xa': 20578, 'thoong': 20579, 'cuoois': 20580, 'phoosm': 20581, 'nhan': 20582, 'vk': 20583, 'weeooow': 20584, 'pfffffffffffffffffffffftttttttt': 20585, 'whever': 20586, 'pdates': 20587, 'finality': 20588, 'otu': 20589, 'dampier': 20590, 'hamletgasm': 20591, 'afc': 20592, 'evn': 20593, 'werecounting': 20594, 'church50': 20595, 'tomorrw': 20596, 'tweetiful': 20597, 'collabro': 20598, 'jphlip': 20599, '888': 20600, 'airborne': 20601, 'toxic': 20602, 'xrays': 20603, 'releasd': 20604, 'sickkkkk': 20605, 'celina': 20606, 'uhpp': 20607, 'deltas': 20608, 'watchinggg': 20609, 'handedly': 20610, 'hairbrush': 20611, 'disinfect': 20612, 'chickadee': 20613, 'visteon': 20614, 'horten': 20615, 'kï¿½': 20616, 'defensive': 20617, 'housse': 20618, 'haggle': 20619, 'cuppycake': 20620, 'maxium': 20621, 'shifted': 20622, 'schizophrenic': 20623, 'justcause': 20624, 'santana': 20625, 'wraith': 20626, 'lovelytrinkets': 20627, 'worded': 20628, 'thxx': 20629, 'prego': 20630, 'smuts': 20631, 'anyy': 20632, 'buisnesses': 20633, 'jaydiohead': 20634, 'shadduppp': 20635, 'bbbrrr': 20636, 'repairing': 20637, 'exhilerating': 20638, 'renouncing': 20639, 'twibble': 20640, 'leavingg': 20641, 'boyfrienndd': 20642, 'finallly': 20643, 'sheli': 20644, 'esh': 20645, 'recos': 20646, 'tuition': 20647, 'ticking': 20648, 'sloooooooooowlyyyyyyyyyyyyy': 20649, 'launching': 20650, 'addled': 20651, 'earnest': 20652, 'fanatic': 20653, 'dorfman': 20654, 'minging': 20655, 'plumbers': 20656, 'calgon': 20657, 'yeyah': 20658, 'fink': 20659, 'owwiee': 20660, 'lolzor': 20661, 'appreci': 20662, 'chantal': 20663, 'compliance': 20664, 'joburg': 20665, 'lanky': 20666, 'dall': 20667, 'rabid': 20668, 'pitchfork': 20669, 'excedrin': 20670, 'mimcy': 20671, 'selenagomezlast': 20672, 'evolvin': 20673, 'neeed': 20674, 'wrng': 20675, 'ecxept': 20676, 'decembbberrrrrrrr': 20677, 'hungryyyyyyy': 20678, 'pakistani': 20679, 'woowoo': 20680, 'mothrs': 20681, 'outt': 20682, 'packer': 20683, 'whiskers': 20684, 'livescribe': 20685, 'smartpen': 20686, 'poolside': 20687, 'toniht': 20688, 'fginished': 20689, 'doinn': 20690, 'tann': 20691, 'drinknig': 20692, 'dosriosrestaurant': 20693, '730': 20694, 'pmg': 20695, 'relasie': 20696, 'micheal': 20697, 'sheen': 20698, 'volturi': 20699, 'happies': 20700, 'messaging': 20701, 'outsiders': 20702, 'aaaaaw': 20703, 'yesssssir': 20704, 'rieger': 20705, 'begonia': 20706, 'partial': 20707, 'sobre': 20708, 'fright': 20709, 'partypeople': 20710, 'dangero': 20711, 'waaaaaaa': 20712, 'browsin': 20713, 'skunk': 20714, 'xanax': 20715, 'bong': 20716, 'prevents': 20717, 'wellllllllllllll': 20718, 'folded': 20719, 'fhm': 20720, 'alms': 20721, 'foodddd': 20722, 'gatau': 20723, 'mau': 20724, 'pindah': 20725, 'binus': 20726, 'shamefully': 20727, 'wanders': 20728, 'imposible': 20729, 'amar': 20730, '1x': 20731, 'defunctlesi': 20732, '4me': 20733, 'haf': 20734, 'kiau': 20735, 'suppliment': 20736, 'tbs': 20737, 'chimp': 20738, 'duff': 20739, 'preserve': 20740, 'mssql': 20741, 'connects': 20742, 'yhaw': 20743, 'jewish': 20744, 'freeeeeeee': 20745, 'britneys': 20746, 'pffffffffff': 20747, 'jarita': 20748, '697': 20749, 'unsaid': 20750, 'chrisette': 20751, 'michele': 20752, 'epiphany': 20753, 'pussycat': 20754, 'afterthought': 20755, 'aasahan': 20756, 'iyo': 20757, 'yow': 20758, 'attal': 20759, 'alrite': 20760, 'kasexyhan': 20761, 'bumabawi': 20762, 'snowy': 20763, 'boxed': 20764, 'pak': 20765, 'painfully': 20766, 'tatler': 20767, 'tortoiseshell': 20768, 'vimto': 20769, 'droplet': 20770, '18mos': 20771, 'atonement': 20772, 'wilmy': 20773, 'freezor': 20774, 'ivs': 20775, 'pikachu': 20776, 'whooaaa': 20777, 'overwheolming': 20778, 'itus': 20779, 'alllllllllllllllllllllllllllll': 20780, 'wakenbake': 20781, '8330': 20782, 'chanclas': 20783, 'myweawkness': 20784, 'nellie': 20785, 'damper': 20786, 'georgetown': 20787, 'invoices': 20788, 'specs': 20789, 'darrian': 20790, 'sosososo': 20791, 'unforgettable': 20792, 'stafford': 20793, 'emayal': 20794, 'loops': 20795, 'fitzsimmons': 20796, 'todaaaay': 20797, 'prd': 20798, 'lovesssss': 20799, 'outty': 20800, 'rhumatologist': 20801, 'neighbourss': 20802, 'universities': 20803, 'motherssss': 20804, 'prac': 20805, 'structr': 20806, 'lwr': 20807, 'nitin': 20808, 'woolsery': 20809, 'molton': 20810, 'u16': 20811, 'clinch': 20812, 'smudging': 20813, 'carys': 20814, 'hugely': 20815, 'seeley': 20816, 'pllleeeaaasse': 20817, 'joover': 20818, 'happydance': 20819, 'cruches': 20820, '251': 20821, 'descanse': 20822, 'paz': 20823, 'luto': 20824, 'bravo': 20825, 'merh': 20826, 'flattened': 20827, 'honking': 20828, 'campjitterbug': 20829, 'greenlake': 20830, 'yeeeeeessss': 20831, 'cade': 20832, 'hellloooo': 20833, 'morningstar': 20834, 'farms': 20835, 'streudal': 20836, 'hospice': 20837, 'gpa': 20838, '2kids': 20839, 'tyg': 20840, 'summaa': 20841, 'blading': 20842, 'tributary': 20843, 'slows': 20844, 'le2': 20845, 'buttons': 20846, 'butless': 20847, 'retrievable': 20848, 'archived': 20849, 'ooaf': 20850, 'sctrahc': 20851, 'bluedart': 20852, 'crappier': 20853, 'hans': 20854, 'cite': 20855, 'disspointed': 20856, 'lifehacker': 20857, 'aaronovitch': 20858, 'tryst': 20859, 'dillah': 20860, 'grounds': 20861, 'como': 20862, 'frightened': 20863, 'cruz': 20864, 'foreverr': 20865, 'rik': 20866, '0930': 20867, 'totem': 20868, 'kandice': 20869, 'moores': 20870, 'loooonnnggg': 20871, 'vo': 20872, 'doin2nite': 20873, 'fantastically': 20874, 'embossers': 20875, 'papersource': 20876, 'iloveitwhen': 20877, 'topol': 20878, 'looooved': 20879, 'drills': 20880, 'naku': 20881, 'horseshoe': 20882, 'sickk': 20883, 'rus': 20884, 'voiceover': 20885, 'druidry': 20886, 'phlegmily': 20887, 'eeeeewwwwww': 20888, '3aaah': 20889, '3aref': 20890, 'eprocurement': 20891, 'blacklisted': 20892, 'whitelist': 20893, 'whattaburger': 20894, 'girlys': 20895, 'janey': 20896, 'warden': 20897, 'twee': 20898, 'natalee': 20899, 'lords': 20900, 'royle': 20901, 'sobbing': 20902, 'maybes': 20903, 'chelk': 20904, '1h33mn': 20905, '153bpm': 20906, 'aaaaa': 20907, 'stranthorpe': 20908, 'boxset': 20909, 'zimbabwe': 20910, 'angsty': 20911, 'sleepiness': 20912, 'physique': 20913, 'apathy': 20914, '1997': 20915, 'juuuuuust': 20916, 'smoki': 20917, 'muchos': 20918, 'braddddddddd': 20919, 'minnebron': 20920, 'notoriously': 20921, 'urk': 20922, 'mahjong': 20923, 'weisheng': 20924, 'tiiiimes': 20925, 'mop': 20926, 'chidlom': 20927, 'siam': 20928, 'suggesting': 20929, 'deferment': 20930, 'junkies': 20931, 'whcd': 20932, 'appropriately': 20933, 'microphone': 20934, 'hoeish': 20935, 'cherokee': 20936, 'belting': 20937, 'jdperry': 20938, 'theseï¿½pictures': 20939, 'iï¿½always': 20940, 'aroundï¿½saying': 20941, 'ï¿½omg': 20942, 'caaaaan': 20943, 'valeria': 20944, 'arraving': 20945, 'babtizm': 20946, 'pointlesss': 20947, 'powerpoints': 20948, 'leaveeee': 20949, 'quince': 20950, 'effervescent': 20951, 'foreboding': 20952, 'pumpin': 20953, 'alreadyyyy': 20954, 'willow': 20955, 'dwts': 20956, 'walkers': 20957, 'rebooting': 20958, 'ayah': 20959, 'hateee': 20960, 'greeeeeat': 20961, 'interestign': 20962, 'bonds': 20963, 'whic': 20964, 'pressures': 20965, 'gvnmt': 20966, 'keiron': 20967, 'tgot': 20968, 'cyberstalking': 20969, 'nixon': 20970, 'sears': 20971, 'minh': 20972, 'wilshire': 20973, 'hinted': 20974, 'poss': 20975, 'tsss': 20976, 'gingers': 20977, 'stickersss': 20978, 'montday': 20979, 'rï¿½isï¿½ngs': 20980, 'alexandre': 20981, 'rpt': 20982, 'earful': 20983, 'psychopath': 20984, 'incidents': 20985, 'donovan': 20986, 'motherfucking': 20987, 'gooooodnight': 20988, 'paathra': 20989, 'khandvi': 20990, 'kamanee': 20991, 'watte': 20992, 'mrng': 20993, 'ojee': 20994, 'themed': 20995, 'brickman': 20996, 'nites': 20997, 'haribo': 20998, '687': 20999, '236': 21000, 'big1': 21001, 'tedious': 21002, 'gxx': 21003, 'tsar': 21004, 'fatfat': 21005, 'a48': 21006, 'cowbridge': 21007, 'sheer': 21008, 'pui': 21009, 'ascultat': 21010, 'bogdan': 21011, 'butoane': 21012, 'este': 21013, 'trimming': 21014, 'loveyou': 21015, 'predictions': 21016, 'slaughter': 21017, 'moderately': 21018, 'apicture': 21019, 'hhhmmmnnn': 21020, 'concealer': 21021, 'snape': 21022, 'otp': 21023, 'sirius': 21024, 'remus': 21025, 'kmf': 21026, 'repetitive': 21027, 'unfuzzy': 21028, 'journeys': 21029, 'thursdayyy': 21030, 'exeter': 21031, 'arsed': 21032, 'amazeeeeeee': 21033, 'natsmith88': 21034, 'tingling': 21035, 'instore': 21036, 'rockaway': 21037, 'mumborg': 21038, 'eunice': 21039, 'kyna': 21040, 'congratuations': 21041, 'rotfl': 21042, '7day': 21043, 'danget': 21044, 'wlw': 21045, '1c': 21046, 'limitation': 21047, 'shakespeare': 21048, 'garrulous': 21049, 'scribe': 21050, 'woofers': 21051, 'participated': 21052, 'bulletin': 21053, 'muchly': 21054, 'sï¿½i': 21055, 'gï¿½n': 21056, 'sï¿½ng': 21057, 'averted': 21058, 'heiress': 21059, 'fartingloud': 21060, 'abba': 21061, 'idont': 21062, 'iso': 21063, 'lightscribe': 21064, 'dicsc': 21065, 'chipper': 21066, 'l4d': 21067, 'wrestlers': 21068, 'tna': 21069, 'kandy': 21070, 'koated': 21071, 'crumbs': 21072, 'zammo': 21073, 'minnie': 21074, 'twitterin': 21075, 'phonecall': 21076, 'groundwork': 21077, 'hifi': 21078, 'coogars': 21079, 'apetite': 21080, 'bitin': 21081, 'likable': 21082, 'yaris': 21083, '70mpg': 21084, 'dobro': 21085, 'tomrrow': 21086, 'eatting': 21087, 'swipping': 21088, 'grotty': 21089, 'hoylake': 21090, 'enlightening': 21091, 'getted': 21092, 'budweiser': 21093, 'kealie': 21094, 'reparat': 21095, 'ieiii': 21096, 'saturat': 21097, 'multe': 21098, 'dupa': 21099, 'math11': 21100, 'acct1b': 21101, 'bio19': 21102, 'jiuliani': 21103, 'freakinggg': 21104, 'lookse': 21105, 'sandals': 21106, 'wearther': 21107, 'overheardinlondon': 21108, 'livewriter': 21109, 'whih': 21110, 'noiiiiice': 21111, 'ochoa': 21112, 'ymas': 21113, 'pumping': 21114, 'acaban': 21115, 'tocar': 21116, 'underappreciated': 21117, 'cymk': 21118, 'xkcd': 21119, 'weatherwise': 21120, '4hrs': 21121, 'gazing': 21122, 'delerium': 21123, 'leeb': 21124, 'nifty': 21125, 'nodd': 21126, 'spotted': 21127, 'qfc': 21128, 'broad': 21129, 'skunks': 21130, 'neeeeeeeeed': 21131, 'jbnoy': 21132, 'definitly': 21133, 'perkinz': 21134, 'overheated': 21135, 'puddle': 21136, 'wontons': 21137, 'sloppy': 21138, 'archetype': 21139, 'archetypes': 21140, 'rachyl': 21141, 'twang': 21142, 'photopass': 21143, '711': 21144, 'civilizati': 21145, 'dreadzone': 21146, 'mentions': 21147, 'almighty': 21148, 'turnaround': 21149, 'sights': 21150, 'ukpubs': 21151, 'frolick': 21152, 'absoulutely': 21153, 'stocking': 21154, 'fuckyoumonday': 21155, 'ooow': 21156, 'lonnie': 21157, 'tapping': 21158, 'sbs2008': 21159, 'atkins': 21160, 'skyway': 21161, 'june1': 21162, 'salm': 21163, 'haggis': 21164, 'playmate': 21165, 'suppposed': 21166, 'blaahh': 21167, 'xxxxxxxxxxxxxxxxxxxxxx': 21168, 'spokane': 21169, 'persistent': 21170, 'coughs': 21171, 'nop': 21172, 'uso': 21173, 'informal': 21174, 'hypertrophy': 21175, 'arcel': 21176, 'yuuuuuum': 21177, 'dicks': 21178, 'repetative': 21179, 'mojokins': 21180, 'shelaaaaaaaa': 21181, 'turbine': 21182, 'accomplishments': 21183, 'sinse': 21184, 'romo': 21185, 'whb': 21186, 'restos': 21187, 'fuunn': 21188, 'procrastinator': 21189, 'eur': 21190, 'jpy': 21191, '130': 21192, 'executed': 21193, '612': 21194, 'yeeeewww': 21195, 'ncc': 21196, '1701': 21197, 'tekenen': 21198, 'unlocked': 21199, 'decades': 21200, 'gottta': 21201, 'twittertaleover': 21202, 'luch': 21203, '7500': 21204, 'roidweek': 21205, 'shoutz': 21206, 'nervvoouuss': 21207, 'chutzpah': 21208, 'privilege': 21209, 'lavadora': 21210, 'daï¿½o': 21211, 'bushed': 21212, 'ronin121': 21213, 'smug': 21214, 'gtfo': 21215, 'baixa': 21216, 'bew': 21217, 'macaroni': 21218, 'cask': 21219, 'kenan': 21220, 'kel': 21221, 'burped': 21222, 'lmfa0': 21223, 'bogged': 21224, 'frnd': 21225, 'kodomo': 21226, 'b2g1': 21227, 'addit': 21228, '2x': 21229, 'stretches': 21230, 'zommgg': 21231, 'screamo': 21232, 'longgggggggg': 21233, 'transformer': 21234, 'squoosh': 21235, 'workday': 21236, 'overflow': 21237, 'romatic': 21238, 'jas': 21239, 'apush': 21240, 'crystalmariedontluvspiteanymore': 21241, 'weeeee': 21242, 'wifeyyyyyy': 21243, 'siky': 21244, 'stacks': 21245, 'wdyt': 21246, 'nostalgia': 21247, 'tushar': 21248, 'brochure': 21249, 'weighting': 21250, 'recco': 21251, 'narratives': 21252, 'meats': 21253, 'pisay': 21254, 'wellz': 21255, 'soderling': 21256, 'ferrer': 21257, 'gilles': 21258, 'desappointed': 21259, 'confiscate': 21260, 'cripple': 21261, 'twizzler': 21262, 'rolynn719': 21263, 'shar': 21264, 'giesal': 21265, 'dayyyyyy': 21266, 'daya': 21267, 'walang': 21268, 'ginagawa': 21269, 'casualties': 21270, 'discography': 21271, 'kalebnation': 21272, 'hollyweird': 21273, 'journalist': 21274, 'chale': 21275, 'earthlink': 21276, 'speek': 21277, 'seing': 21278, 'airbrushed': 21279, 'eerrrr': 21280, 'bapang': 21281, 'barakitten': 21282, 'matty': 21283, 'kosme': 21284, 'imovies': 21285, 'pollen': 21286, 'canc': 21287, 'forked': 21288, 'transpired': 21289, 'sparklers': 21290, 'toniight': 21291, 'meetin': 21292, 'jewelery': 21293, 'shir': 21294, 'certificates': 21295, 'kaneohe': 21296, 'univ': 21297, 'rumored': 21298, 'ltiitle': 21299, 'allnighter': 21300, 'advise': 21301, 'besos': 21302, 'grandes': 21303, 'guapo': 21304, 'azongo': 21305, '77kilos': 21306, 'widewale': 21307, 'courduroy': 21308, 'toblerone': 21309, 'rita': 21310, 'chichester': 21311, 'evaluating': 21312, 'neaaarr': 21313, 'stressd': 21314, 'willen': 21315, 'electronics': 21316, 'deluxe': 21317, 'rebound': 21318, 'blowjobs': 21319, 'barkley': 21320, 'crusty': 21321, 'aawww': 21322, 'bachelor': 21323, 'becomin': 21324, 'playingforchange': 21325, 'leavers': 21326, 'slarm': 21327, 'bowls': 21328, 'nacklace': 21329, 'earring': 21330, 'gotdamn': 21331, 'rematch': 21332, 'rapeville': 21333, 'liden': 21334, 'ddoodm': 21335, 'rowdy': 21336, 'loch': 21337, 'lomond': 21338, 'bandung': 21339, 'erock': 21340, 'wahts': 21341, 'coffeclub': 21342, 'bagged': 21343, 'safesex': 21344, 'dd1': 21345, '2stop': 21346, 'headless': 21347, '2field': 21348, 'feelinq': 21349, 'huqe': 21350, 'pimple': 21351, 'riqht': 21352, 'lapa': 21353, 'samba': 21354, 'afterlife': 21355, 'flatworld': 21356, 'reallyyy': 21357, 'anto': 21358, 'arguing': 21359, 'explained': 21360, 'differs': 21361, 'keychains': 21362, '501': 21363, 'clit': 21364, 'blames': 21365, 'oist': 21366, 'sakit': 21367, 'decluttering': 21368, 'qiuqiu': 21369, 'tiiiired': 21370, 'therapuetic': 21371, 'bettering': 21372, 'financing': 21373, 'conflicts': 21374, 'freestyle': 21375, 'livechat': 21376, 'weekdays': 21377, 'tozer': 21378, 'hoovering': 21379, 'slipandslide': 21380, 'jaw': 21381, 'introduce': 21382, 'nooite': 21383, 'awayyy': 21384, 'webmail': 21385, 'amazinq': 21386, 'qirls': 21387, 'qreat': 21388, 'eurodjangocon': 21389, 'ilze': 21390, 'ehehe': 21391, 'eurgh': 21392, 'looking4him': 21393, 'yoyo': 21394, 'nazis': 21395, 'tmh': 21396, 'reeeeally': 21397, 'cutoff': 21398, 'decline': 21399, 'speeches': 21400, 'studyhall': 21401, 'jer': 21402, 'spat': 21403, 'owwwwwww': 21404, 'tattoed': 21405, 'preferably': 21406, 'strut': 21407, '630am': 21408, 'domina': 21409, 'juicystar007': 21410, 'grammer': 21411, 'grunt': 21412, 'afganistan': 21413, 'fritter': 21414, 'lafff': 21415, 'creators': 21416, 'jab': 21417, 'beddy': 21418, 'i733': 21419, 'mapped': 21420, 'learner': 21421, 'mendelssohn': 21422, 'symphony': 21423, 'wary': 21424, 'marshmallows': 21425, 'theeee': 21426, 'announces': 21427, 'whereas': 21428, 'fightn': 21429, 'giveup': 21430, 'sulumits': 21431, 'retsambew': 21432, 'cuzs': 21433, '2w2v': 21434, 'insisted': 21435, 'purposes': 21436, 'burgundy': 21437, 'xb': 21438, 'shawdows': 21439, 'continuing': 21440, 'edu': 21441, 'evenlyn': 21442, 'tomora': 21443, 'lawns': 21444, 'woodvine': 21445, 'thorne': 21446, 'comix': 21447, 'trolled': 21448, 'howardforums': 21449, 'cadet': 21450, 'sasd': 21451, 'uhum': 21452, 'heals': 21453, 'reyah': 21454, 'osap': 21455, 'jailbroken': 21456, 'bricked': 21457, 'commando': 21458, 'chanting': 21459, 'inxs': 21460, 'alexia': 21461, 'kiddys': 21462, 'libray': 21463, '0f': 21464, '3ds': 21465, 'alba': 21466, '138': 21467, '468': 21468, 'rstats': 21469, 'houve': 21470, 'fiercemichi': 21471, 'nesquick': 21472, 'opff': 21473, 'bbl8r': 21474, 'okok': 21475, 'assing': 21476, 'biznesssss': 21477, 'meep': 21478, 'babyyyyyy': 21479, 'jerseyz': 21480, 'berrie': 21481, 'oils': 21482, 'opaqueness': 21483, 'gourmetcook': 21484, 'retardeddddddd': 21485, 'pcvs': 21486, 'remarks': 21487, 'blondes': 21488, 'yuup': 21489, 'khayyam': 21490, 'wakil': 21491, 'yuotube': 21492, 'jaiho': 21493, 'serio': 21494, 'barroca': 21495, 'parabens': 21496, 'render': 21497, 'revit': 21498, 'autocad': 21499, 'cuckoo': 21500, 'digestives': 21501, 'saget': 21502, 'curtain': 21503, 'ramble': 21504, 'c25k': 21505, '368558682': 21506, 'shindig': 21507, 'twitterloves': 21508, 'jag': 21509, 'alternator': 21510, 'cervical': 21511, '3to7': 21512, 'adviser': 21513, 'sherraton': 21514, 'brodi': 21515, 'bbqd': 21516, 'olympics': 21517, 'iberville': 21518, 'phail': 21519, 'beasties': 21520, 'thievery': 21521, 'volta': 21522, 'bat4lashes': 21523, 'bandofhorses': 21524, 'feminine': 21525, 'contributing': 21526, 'katrina': 21527, 'royal': 21528, 'compo': 21529, 'grench': 21530, 'quasi': 21531, 'plum': 21532, 'wealthed': 21533, 'timer': 21534, 'schwarzenegger': 21535, 'tribal': 21536, 'noctweetup': 21537, 'wifes': 21538, 'nessa': 21539, 'tswift': 21540, 'swa': 21541, 'accused': 21542, 'falkland': 21543, 'mtbcut': 21544, 'secondstar05': 21545, 'mediation': 21546, 'daves': 21547, 'gru3some': 21548, 'incompetent': 21549, 'kristine': 21550, 'lottt': 21551, 'hhihihuahauu': 21552, 'mikados': 21553, 'dozens': 21554, 'discussants': 21555, 'baybee': 21556, 'gracin': 21557, 'prezzie': 21558, 'stepson': 21559, 'dtn': 21560, 'naperville': 21561, 'tillie': 21562, 'patched': 21563, 'wormy': 21564, 'labyrinth': 21565, 'arrgghh': 21566, 'quibble': 21567, 'teethed': 21568, 'bwarg': 21569, 'heartbeat': 21570, 'caramels': 21571, 'battling': 21572, 'moviesss': 21573, 'threes': 21574, 'thatss': 21575, 'wahh': 21576, 'similarity': 21577, 'mifune': 21578, 'balk': 21579, 'fhnixon': 21580, 'peaky': 21581, 'msrobynp': 21582, 'persuaded': 21583, 'signup': 21584, 'dojo': 21585, 'flashlight': 21586, 'girsl': 21587, 'carillo': 21588, 'gettt': 21589, 'beachwood': 21590, 'putet': 21591, 'answerr': 21592, 'piling': 21593, 'creatures': 21594, 'macbooks': 21595, 'reduced': 21596, 'pseudo': 21597, 'stepmoms': 21598, '89': 21599, 'ibood': 21600, 'pads': 21601, 'twimulations': 21602, 'celebrates': 21603, 'anyhooo': 21604, 'mumzys': 21605, 'jaiden': 21606, 'uglyonee': 21607, 'myfoxcharlotte': 21608, 'doind': 21609, 'goooooooo': 21610, 'puhleeezeee': 21611, 'nataliaflewell': 21612, 'screwd': 21613, 'nigt': 21614, 'facehunter': 21615, 'justsayin': 21616, 'warmfuzzies': 21617, 'mazembe': 21618, 'botega': 21619, 'musicares': 21620, 'cyalater': 21621, 'neika': 21622, 'listens': 21623, 'msi': 21624, 'festive': 21625, '2u2': 21626, 'sunnys': 21627, 'mcnugget': 21628, 'benders': 21629, 'miine': 21630, 'fontanas': 21631, '21life': 21632, 'yessum': 21633, '177': 21634, 'mattmccoy': 21635, 'umbrellaless': 21636, 'eeehhh': 21637, 'twitching': 21638, 'arabelle': 21639, 'podcasting': 21640, 'bais': 21641, 'neighboor': 21642, 'flaky': 21643, 'vrbo': 21644, 'imor': 21645, 'kelantan': 21646, 'pi': 21647, 'stricken': 21648, 'naini': 21649, '2my': 21650, 'snt': 21651, 'multimedia': 21652, 'expnsiv': 21653, 'stubb': 21654, 'hbd': 21655, 'iater': 21656, 'aim6': 21657, 'arttt': 21658, 'alexxx': 21659, 'disrespect': 21660, 'ruxbury': 21661, 'dependable': 21662, 'yardsale': 21663, 'mixture': 21664, 'chrissie': 21665, 'hynde': 21666, 'troyella': 21667, 'ggmow': 21668, 'blogtalkradio': 21669, 'copty': 21670, 'eilleen': 21671, '701': 21672, 'bcz': 21673, 'volunteering': 21674, 'p2': 21675, 'welcomes': 21676, 'yooou': 21677, 'widddd': 21678, 'sooooooooooooooooo': 21679, '4real': 21680, 'deadass': 21681, 'rank': 21682, 'psyching': 21683, 'boo0o0o0o00oring': 21684, 'waraw': 21685, 'bastardized': 21686, 'moy': 21687, 'oohhhh': 21688, 'cornyness': 21689, 'froggies': 21690, 'saelina': 21691, 'knockoffs': 21692, 'dominicks': 21693, 'lenos': 21694, 'dlc': 21695, 'maiden': 21696, 'installers': 21697, 'shapeshifter': 21698, 'nimorning': 21699, 'willdo': 21700, 'anythig': 21701, 'doooo': 21702, 'latteeeeeeeeeee': 21703, 'jets': 21704, 'ida': 21705, 'wheree': 21706, 'fooked': 21707, 'phill': 21708, 'tremendous': 21709, 'winterboard': 21710, 'tikcets': 21711, 'ï¿½91': 21712, 'heros': 21713, 'wichita': 21714, 'kraussey': 21715, 'rename': 21716, 'athletes': 21717, 'joanna': 21718, 'bown': 21719, 'dank': 21720, 'weirdly': 21721, 'knooww': 21722, 'whangamata': 21723, 'tailbone': 21724, 'sewed': 21725, 'quesadilla': 21726, 'quesadiaas': 21727, 'bombbb': 21728, 'annabelle': 21729, 'beatrice': 21730, 'wantttt': 21731, 'mouses': 21732, 'colleen': 21733, 'uncomfortably': 21734, 'breakthrough': 21735, 'bakugan': 21736, 'carseats': 21737, 'researched': 21738, 'dami': 21739, 'flamenco': 21740, 'solea': 21741, 'pooh': 21742, 'steff': 21743, 'automobiles': 21744, 'juan': 21745, 'pelota': 21746, 'bellss': 21747, 'ringin': 21748, 'adieu': 21749, 'binoculars': 21750, 'oir': 21751, 'botox': 21752, 'jolie': 21753, 'cinncinatti': 21754, 'combust': 21755, 'okasan': 21756, 'tory': 21757, 'watty': 21758, 'cosmic': 21759, 'afterschool': 21760, 'likin': 21761, 'herrrrr': 21762, 'funsies': 21763, 'macabre': 21764, 'nuclear': 21765, 'warisfucked': 21766, 'nugent': 21767, 'trib': 21768, 'portia': 21769, 'toasties': 21770, 'knig': 21771, 'largely': 21772, 'ambivalent': 21773, 'fillings': 21774, '400th': 21775, 'sleeves': 21776, '3x3': 21777, 'w4m': 21778, '29yr': 21779, 'megs': 21780, 'ovah': 21781, '3breakupwords': 21782, 'tradewinds': 21783, 'masseusse': 21784, 'buttocks': 21785, 'rx': 21786, 'twitterwar': 21787, 'ginoooo': 21788, 'season2': 21789, 'earlierrr': 21790, 'tooz': 21791, 'pleaseeeeeeeeeeeeee': 21792, 'wooooooooooo': 21793, 'rihanna': 21794, 'picker': 21795, 'owi': 21796, 'credo': 21797, 'brighi': 21798, 'ulise': 21799, 'happieness': 21800, 'gch': 21801, 'friendsss': 21802, 'kelvin': 21803, 'gill': 21804, 'got2meet': 21805, 'rhyder': 21806, 'wheniwerealad': 21807, 'explanations': 21808, 'pleeezzze': 21809, 'extremally': 21810, 'paintball': 21811, 'strips': 21812, 'pspplurk': 21813, 'hahahahahahahahahahahaha': 21814, 'woodland': 21815, 'smtimes': 21816, 'solitude': 21817, 'rorschach': 21818, 'sleeeeeep': 21819, 'sullivan': 21820, 'cracks': 21821, 'mikeywayday': 21822, 'weinfest': 21823, 'bestttt': 21824, 'rutledge': 21825, 'reallizing': 21826, 'walaikum': 21827, 'assalam': 21828, 'duas': 21829, 'coquitlam': 21830, 'escuchando': 21831, 'trajoooooo': 21832, 'farrell': 21833, 'sabi': 21834, 'hazardous': 21835, 'wih': 21836, 'muzik': 21837, 'lmaao': 21838, 'kansai': 21839, 'condre': 21840, 'scr': 21841, 'postrock': 21842, 'tweetshrinking': 21843, 'tweed': 21844, 'inthe': 21845, '14yr': 21846, 'kuala': 21847, 'lumpur': 21848, 'vanished': 21849, 'gripped': 21850, 'marlon': 21851, 'brando': 21852, 'raiser': 21853, 'cohabitate': 21854, 'whomever': 21855, 'garbo': 21856, 'tripple': 21857, 'devos': 21858, 'ayee': 21859, 'toget': 21860, 'aikido': 21861, 'enrolling': 21862, 'kikayness': 21863, 'eto': 21864, 'whitby': 21865, 'deg': 21866, 'unheard': 21867, 'freckle': 21868, 'protecting': 21869, 'romantically': 21870, 'structured': 21871, 'omar': 21872, 'siouxsinner': 21873, 'ahahahaha': 21874, 'liee': 21875, 'corset': 21876, 'innabit': 21877, 'bprohibiting': 21878, 'frapp': 21879, 'coded': 21880, 'joco': 21881, 'squids': 21882, 'gaggles': 21883, 'commuters': 21884, 'squished': 21885, 'icebox': 21886, 'haiiii': 21887, 'sankq': 21888, 'fineee': 21889, 'rib': 21890, 'jeuno': 21891, 'everrything': 21892, 'breadtalk': 21893, 'evp': 21894, 'gridiron': 21895, 'panvel': 21896, 'marine': 21897, 'reblipping': 21898, 'tedx': 21899, 'stalkersaturday': 21900, 'itchyyy': 21901, 'slippery': 21902, 'swanage': 21903, 'bourton': 21904, 'arcades': 21905, 'numver': 21906, 'caffene': 21907, 'sumthn': 21908, 'strudel': 21909, 'runt': 21910, 'scotter': 21911, 'blindly': 21912, 'mods': 21913, 'ine': 21914, 'l8er': 21915, 'metaprogramming': 21916, 'screencasts': 21917, 'vhemt': 21918, 'annoys': 21919, 'snazzed': 21920, 'redsox': 21921, 'reichelle': 21922, 'recruit': 21923, 'herr': 21924, 'busses': 21925, '39th': 21926, 'hecks': 21927, 'jandy': 21928, 'timsamlake': 21929, 'rawesome': 21930, 'strangle': 21931, 'salesman': 21932, 'shamwow': 21933, 'poorest': 21934, 'havnet': 21935, 'bara': 21936, 'closets': 21937, 'aggghhhh': 21938, 'muak': 21939, 'sudah': 21940, 'yeyyyy': 21941, 'maddy': 21942, 'fabuloussssss': 21943, 'sakatas': 21944, 'meowing': 21945, 'sephora': 21946, 'cayman': 21947, 'roping': 21948, 'jagk': 21949, 'lest': 21950, 'whitecaps': 21951, 'emarosa': 21952, 'shiiiiiiiiiiiiiiiiiiiiiiiiiiiiiiiiiiit': 21953, 'willl': 21954, 'grates': 21955, 'jovani': 21956, 'jb3d': 21957, 'qualifyin': 21958, 'hampstead': 21959, 'constituency': 21960, 'childish': 21961, 'practical': 21962, 'altona': 21963, 'wogs': 21964, 'montepulciano': 21965, 'augh': 21966, 'boytoy': 21967, 'reminising': 21968, '3criminy': 21969, 'sinfest': 21970, 'parmesean': 21971, 'abomination': 21972, 'chocolatey': 21973, 'dhellohannah5': 21974, 'coking': 21975, 'persia': 21976, 'stomped': 21977, 'cokeu': 21978, 'c4s': 21979, 'sensex': 21980, 'ohshnapsss': 21981, 'incestuous': 21982, 'whitley': 21983, 'thres': 21984, 'speach': 21985, 'concretize': 21986, 'yuuupp': 21987, 'yellowcard': 21988, 'claw': 21989, 'nub': 21990, 'sholder': 21991, 'commme': 21992, 'hollaback': 21993, 'bloggin': 21994, 'sevrl': 21995, 'changos': 21996, 'sirve': 21997, 'mta': 21998, '777': 21999, 'leakycon': 22000, 'tysm': 22001, 'processes': 22002, 'rambly': 22003, 'yw': 22004, 'raccoon': 22005, 'apparantley': 22006, 'prisnor': 22007, 'sunner': 22008, 'norwood': 22009, 'haaaaaa': 22010, 'biscotti': 22011, 'hindustan': 22012, 'dunia': 22013, 'asay': 22014, 'nehi': 22015, 'milegi': 22016, 'wayland': 22017, 'vector': 22018, 'patrons': 22019, 'wracking': 22020, 'accomplishment': 22021, 'famine': 22022, 'kari': 22023, 'forevs': 22024, 'calfornia': 22025, 'storyteller': 22026, 'strighters': 22027, 'envisioning': 22028, 'ahhhhhhhhhhh': 22029, 'psps': 22030, 'moos': 22031, 'nomintated': 22032, 'ffwd': 22033, 'aac': 22034, 'markers': 22035, 'wking': 22036, 'liberation': 22037, 'comprehend': 22038, 'aquino': 22039, 'dusted': 22040, 'smoky': 22041, 'kmart': 22042, 'opus': 22043, 'tetep': 22044, '3bt': 22045, 'buat': 22046, 'kamis': 22047, 'syapa': 22048, 'hex': 22049, 'proto': 22050, 'furries': 22051, 'acen': 22052, 'pokernews': 22053, 'midget': 22054, 'childline': 22055, 'bryce': 22056, 'patent': 22057, 'earplugs': 22058, 'occupying': 22059, 'follwin': 22060, 'recontinue': 22061, 'breathless': 22062, 'tatoo': 22063, 'unattended': 22064, 'trustworthy': 22065, 'allowance': 22066, 'cybernet': 22067, 'bttr': 22068, 'philosophers': 22069, 'zdf': 22070, 'fernsehgarten': 22071, 'iva09': 22072, 'nailing': 22073, 'webconcepting': 22074, 'secretly': 22075, 'forgo': 22076, 'swined': 22077, 'plm': 22078, 'breakin': 22079, 'scaleeeee': 22080, 'eeet': 22081, 'n0w': 22082, 'egotastic': 22083, 'r0cks': 22084, 'nts': 22085, 'intersting': 22086, 'kalo': 22087, 'ngga': 22088, 'uda': 22089, 'nyerah': 22090, 'awal': 22091, 'gable': 22092, 'bait': 22093, 'achan': 22094, 'wheew': 22095, 'hyde': 22096, '190': 22097, 'lieing': 22098, 'barrowman': 22099, 'esse': 22100, 'conheï¿½o': 22101, 'noiva': 22102, 'kilter': 22103, 'romania': 22104, 'lonovala': 22105, 'arrngmnts': 22106, 'wrkg': 22107, 'sandpit': 22108, 'warms': 22109, 'brianï¿½s': 22110, 'mimmiz': 22111, 'yeha': 22112, 'damit': 22113, 'communityfirstandtrust': 22114, 'quake3': 22115, '3min': 22116, 'haaaa': 22117, 'stereotypical': 22118, 'mayfield': 22119, 'spontaneity': 22120, 'blatently': 22121, 'shoving': 22122, 'supperinn': 22123, 'matanggap': 22124, 'challanges': 22125, 'maat': 22126, 'yeeeehaaa': 22127, 'lynn': 22128, 'viehl': 22129, 'helllllloooooooooooo': 22130, 'godsmack': 22131, 'resembling': 22132, 'ciaran': 22133, 'chex': 22134, 'ecology': 22135, 'recommendatiion': 22136, 'lindy': 22137, 'olympiou': 22138, 'diamanti': 22139, 'thessaloniki': 22140, 'remembrd': 22141, 'vair': 22142, 'moth': 22143, 'powersquid': 22144, 'ickkk': 22145, 'thingamabobber': 22146, 'cozier': 22147, 'geht': 22148, 'wieder': 22149, 'visio': 22150, 'continuously': 22151, 'woooh': 22152, 'curlymamaw': 22153, 'easton': 22154, 'kuwait': 22155, 'shortcake': 22156, 'shortcakefail': 22157, 'spoons': 22158, 'dworlds': 22159, 'runday': 22160, 'nuu': 22161, 'qoincideencia': 22162, 'seriooo': 22163, 'ticketttttss': 22164, 'themself': 22165, 'friendfail': 22166, 'projection': 22167, 'magicmoment': 22168, 'dreamland': 22169, 'pneumonia': 22170, 'lalalaland': 22171, 'groupchat': 22172, 'ymous': 22173, 'contrast': 22174, 'findin': 22175, 'cyborgs': 22176, 'loooove': 22177, 'nab': 22178, 'proclamation': 22179, 'rebellioustwitwhoknowsacoolcatcook': 22180, 'ftl': 22181, '40404': 22182, '32665': 22183, 'compassion': 22184, 'stunk': 22185, 'pissssssing': 22186, 'akhrnya': 22187, 'nggi': 22188, 'nya': 22189, 'macet2': 22190, 'season4': 22191, 'pdhl': 22192, 'nyari': 22193, 'season3nya': 22194, 'strudle': 22195, 'havs': 22196, 'displayed': 22197, 'deplyod': 22198, 'falouga': 22199, 'stracchino': 22200, 'ought': 22201, 'moives': 22202, 'preach': 22203, 'honours': 22204, 'glammyyy': 22205, 'crocker': 22206, 'improv': 22207, 'gotham': 22208, 'jazzfest': 22209, 'followstats': 22210, 'foodstats': 22211, '17lb': 22212, 'leann': 22213, 'fuming': 22214, 'inland': 22215, 'ophelia': 22216, 'colectivo': 22217, 'jodiendo': 22218, 'promisse': 22219, 'steakhouse': 22220, 'interstate': 22221, 'ridiculousness': 22222, 'goitn': 22223, 'saucepan': 22224, 'scrabbled': 22225, 'cccd': 22226, 'partytiiime': 22227, 'practising': 22228, 'essex': 22229, 'suuuppper': 22230, 'kaohsiung': 22231, 'loretta': 22232, 'dere': 22233, 'gss': 22234, 'hxc': 22235, 'pedder': 22236, 'ferragamo': 22237, 'downturn': 22238, 'owens': 22239, 'consultant': 22240, 'downloadfestival': 22241, 'regrettin': 22242, 'handbooks': 22243, 'manageing': 22244, 'discipline': 22245, 'grievance': 22246, 'coffie': 22247, 'fretful': 22248, 'mumbling': 22249, 'muffled': 22250, 'haih': 22251, 'mamba': 22252, 'bx': 22253, 'joemar': 22254, 'bataan': 22255, 'camiguin': 22256, 'ofcmates': 22257, 'luwas': 22258, 'cse': 22259, 'bitchin': 22260, 'examens': 22261, 'beu': 22262, 'lillestrï¿½m': 22263, 'pwned': 22264, 'shottie': 22265, 'kiddshow': 22266, 'kashi': 22267, 'disservice': 22268, 'weekender': 22269, 'skippin': 22270, 'umbrellaï¿½': 22271, 'squeegee': 22272, '2yr': 22273, 'krautrock': 22274, 'berwick': 22275, 'hallways': 22276, 'snuggied': 22277, 'fuuudge': 22278, 'squeeee': 22279, 'youz': 22280, 'sunbeams': 22281, 'relly': 22282, 'hapee': 22283, 'gosshhh': 22284, 'vss': 22285, 'rif': 22286, 'thematic': 22287, 'enthusiam': 22288, 'festivus': 22289, 'wrestling': 22290, 'flushed': 22291, 'comee': 22292, 'preoccupied': 22293, 'upppp': 22294, 'eft': 22295, 'omgssh': 22296, 'belleville': 22297, 'ackkkk': 22298, 'tracky': 22299, 'daks': 22300, 'brinn': 22301, 'slimes': 22302, 'sandwiched': 22303, 'thanxxx': 22304, 'worshippers': 22305, 'ironpython': 22306, 'compact': 22307, 'emit': 22308, 'balsamic': 22309, 'mortal': 22310, 'partaaaaaaay': 22311, 'raunchy': 22312, 'feckin': 22313, 'incomplete': 22314, 'morgannnn': 22315, 'messes': 22316, 'soooooooooooooooooooooooooooooooon': 22317, 'bubblies': 22318, 'perk': 22319, 'moniiieeeess': 22320, 'pearlyn': 22321, 'svc': 22322, 'cleand': 22323, 'ahahaay': 22324, 'chipmunk': 22325, 'dillhole': 22326, 'frolic': 22327, 'consummate': 22328, 'smartphone': 22329, 'learnin': 22330, 'uuuggghh': 22331, 'byron': 22332, 'goooosh': 22333, 'lastfm': 22334, 'commissioners': 22335, 'nielsenpowermoms': 22336, 'everyonee': 22337, 'yahyan': 22338, 'iaaaaaaaaaaaaan': 22339, 'bordom': 22340, 'mito': 22341, 'unsure': 22342, 'duong': 22343, '1500ft': 22344, 'songgg': 22345, 'vacuums': 22346, 'degenerate': 22347, 'occupants': 22348, 'reprehensibles': 22349, 'minethatbird': 22350, 'hues': 22351, 'ahahahah': 22352, 'broiler': 22353, 'brains': 22354, 'doneeee': 22355, 'wheeee': 22356, 'hahaaaaaaaa': 22357, 'foking': 22358, 'elmo': 22359, 'kgw': 22360, 'pwg': 22361, 'botched': 22362, 'hybrid': 22363, 'xl': 22364, 'mascots': 22365, 'virl': 22366, 'observation': 22367, 'riverwalk': 22368, 'dijon': 22369, 'shoulve': 22370, 'rm': 22371, 'closures': 22372, 'calaveras': 22373, 'oth': 22374, 'lecturer': 22375, 'gob': 22376, 'lockdown': 22377, 'moolah': 22378, 'hust': 22379, 'lucky7': 22380, 'yourname': 22381, 'envious': 22382, 'bandwith': 22383, 'exceed': 22384, 'filaty': 22385, 'diegoooooooo': 22386, 'foreword': 22387, 'castro': 22388, 'hyperactive': 22389, 'rainstorms': 22390, 'banbury': 22391, 'liv': 22392, 'eanyway': 22393, 'ricky': 22394, 'scarletts': 22395, 'pinga': 22396, 'spoofcards': 22397, 'divorcing': 22398, 'earbud': 22399, 'ceased': 22400, 'jelz': 22401, 'obnoxiously': 22402, 'mpls': 22403, 'excursions': 22404, 'baitersss': 22405, 'jolla': 22406, 'bilko22': 22407, 'nathanfillion': 22408, 'salty': 22409, 'pretzels': 22410, '78277': 22411, '230': 22412, 'ebtter': 22413, 'adn': 22414, 'shortstack': 22415, 'foad': 22416, 'pane': 22417, 'katnip': 22418, 'cytheria': 22419, 'isafailure': 22420, 'communicated': 22421, 'grice': 22422, 'feedings': 22423, 'coos': 22424, 'sellout': 22425, 'fluke': 22426, 'mos': 22427, 'tenant': 22428, 'dailybooth': 22429, 'maxi': 22430, 'yeayyy': 22431, 'bymyself': 22432, 'westt': 22433, 'quotation': 22434, 'faz': 22435, 'demain': 22436, 'lancement': 22437, 'mercredi': 22438, 'eerrrrrrrrr': 22439, 'fannish': 22440, 'inquisition': 22441, 'whr': 22442, 'gnarly': 22443, 'iish': 22444, 'cuuuba': 22445, 'blairr': 22446, 'sebastian': 22447, 'webpage': 22448, 'realli': 22449, '0hhh': 22450, 'mcguireee': 22451, 'pubulation': 22452, 'spams': 22453, 'twittergadget': 22454, 'grandas': 22455, 'alllllllllllllllll': 22456, 'interuptions': 22457, 'luncheon': 22458, 'planters': 22459, 'liers': 22460, 'veritas': 22461, 'hin': 22462, 'pleasanton': 22463, 'sezi': 22464, 'swoons': 22465, 'lousier': 22466, 'afterpartying': 22467, 'coulnd': 22468, 'boverd': 22469, 'spasy': 22470, 'lovage': 22471, 'tents': 22472, '20pm': 22473, 'whaatttaatttt': 22474, 'sierra': 22475, 'doinq': 22476, 'eligable': 22477, 'derny': 22478, 'sofie': 22479, 'sunthings': 22480, 'ecpm': 22481, 'epicfail': 22482, 'liao': 22483, 'gatlinburg': 22484, 'academically': 22485, 'spares': 22486, 'textiles': 22487, 'xmind': 22488, 'oxoxoteambreezy': 22489, 'ethiopia': 22490, 'eastwood': 22491, '3hours': 22492, 'waubonsie': 22493, 'freako': 22494, 'roidz': 22495, 'shecky95': 22496, 'pooling': 22497, 'charle': 22498, 'savemart': 22499, 'ore': 22500, 'dif': 22501, 'bankroll': 22502, 'suburbia': 22503, 'hï¿½ltermand': 22504, 'kaare': 22505, 'iâ´ve': 22506, 'sickening': 22507, 'stackeoverflow': 22508, 'signin': 22509, 'justify': 22510, 'curler': 22511, 'disappearing': 22512, 'plethora': 22513, 'computed': 22514, 'jipped': 22515, 'lill': 22516, 'uugghh': 22517, 'schaumburg': 22518, 'bhr': 22519, 'janelle': 22520, 'drunkduck': 22521, 'buinne': 22522, 'morimoto': 22523, 'baaaby': 22524, 'whuuurrrrr': 22525, 'dinos': 22526, 'hawksmoor': 22527, 'drawings': 22528, 'divya': 22529, 'renaming': 22530, 'parnoid': 22531, 'bladder': 22532, 'nige': 22533, 'scriptgirl': 22534, 'lions': 22535, '70mm': 22536, 'woopee': 22537, 'hre': 22538, 'butch': 22539, 'tdy': 22540, 'grandbaby': 22541, 'maar': 22542, 'floridia': 22543, 'woodies': 22544, 'hove': 22545, 'aeropuerto': 22546, 'vfactory': 22547, 'stupidstupid': 22548, 'mg': 22549, 'straining': 22550, 'chik': 22551, 'hypertension': 22552, 'zoomed': 22553, 'dubiln': 22554, 'jaycee': 22555, 'seriousslyyy': 22556, 'tragidy': 22557, 'imprinted': 22558, 'thristy': 22559, 'makingfun': 22560, 'tangled': 22561, 'dislocation': 22562, 'fracture': 22563, 'resulted': 22564, 'dissapear': 22565, 'ucl': 22566, 'moleskineï¿½': 22567, 'import': 22568, 'locally': 22569, 'rendez': 22570, 'vous': 22571, 'baptist': 22572, 'missionaries': 22573, 'grrrrrrrr': 22574, 'mindblowing': 22575, 'challah': 22576, 'ghhh': 22577, 'ooft': 22578, 'qc': 22579, 'opt': 22580, 'devastating': 22581, 'catlaughs': 22582, 'gracias': 22583, 'reyt': 22584, 'fancies': 22585, 'valentinos': 22586, 'jfc': 22587, 'loveisthecure': 22588, 'edged': 22589, 'diiinner': 22590, 'ughhhhhhhh': 22591, 'bunk': 22592, 'podunktown': 22593, 'macrina': 22594, 'cramples': 22595, 'daysssssss': 22596, 'yahoooo': 22597, 'unicorn': 22598, 'isabela': 22599, 'uribe': 22600, 'honourary': 22601, 'fluffette': 22602, 'youtubed': 22603, 'benn': 22604, 'encoraging': 22605, 'behavior': 22606, 'hattie': 22607, 'hedgehog': 22608, 'hibernation': 22609, 'governors': 22610, 'farewells': 22611, 'bahama': 22612, 'ogberry': 22613, 'luncheons': 22614, 'gamier': 22615, 'metaverseu': 22616, 'cashflow': 22617, 'forecasts': 22618, 'spoiler': 22619, 'headaaaaaaaaaaaache': 22620, 'bradiee': 22621, 'heffer': 22622, 'michelleeeeeeeeeeeemybelleeeeeeeeeeeeeeeeee': 22623, 'finito': 22624, 'blurryness': 22625, 'ipt': 22626, 'untweeps': 22627, 'goed': 22628, 'idee': 22629, 'cannondale': 22630, 'specialized': 22631, 'cervelo': 22632, 'sickkkk': 22633, 'elevated': 22634, 'streamkeys': 22635, 'migration': 22636, 'cleche': 22637, 'bcreative': 22638, 'harrd': 22639, 'freely': 22640, 'booooooooo': 22641, 'preggers': 22642, 'hugecoffeesuccess': 22643, 't8': 22644, 'emalon': 22645, 'sympathies': 22646, 'throwbie': 22647, 'blazin': 22648, 'revival': 22649, 'gooo': 22650, 'unbelievably': 22651, 'firing': 22652, 'streek': 22653, 'toncilitus': 22654, 'cancels': 22655, 'polyvore': 22656, 'nacho': 22657, 'gulardi': 22658, 'intezone': 22659, 'stragglers': 22660, 'bureaucracy': 22661, 'ahwell': 22662, 'intoxicated': 22663, 'omega': 22664, 'braxton': 22665, 'swell': 22666, 'focusing': 22667, 'dayuumm': 22668, 'doona': 22669, 'louisiana': 22670, '3647': 22671, 'sombody': 22672, 'oscillate': 22673, 'mhs': 22674, 'mariachi': 22675, 'yeni': 22676, 'kampanyasi': 22677, 'beraber': 22678, 'gelistirdigimiz': 22679, 'uygulamasi': 22680, 'hurriyet': 22681, 'haber': 22682, 'olmus': 22683, 'piers': 22684, 'charni': 22685, 'millys': 22686, 'bradddd': 22687, 'michells': 22688, 'wtaching': 22689, '46am': 22690, 'fryend': 22691, 'intellectually': 22692, 'severing': 22693, 'disagreement': 22694, 'followerzzz': 22695, 'trasfusion': 22696, 'sorrryy': 22697, 'sorrrry': 22698, 'charcoal': 22699, 'malakas': 22700, 'gurrl': 22701, 'oï¿½n': 22702, 'mï¿½nh': 22703, 'coi': 22704, 'nï¿½': 22705, 'naisee': 22706, 'flares': 22707, 'arond': 22708, 'jennnnnn': 22709, 'richhhh': 22710, 'wast': 22711, 'peolple': 22712, 'ae': 22713, 'rro': 22714, 'tasha': 22715, 'dissapeared': 22716, '1330': 22717, 'ake': 22718, 'alives': 22719, 'exhusband': 22720, 'remembers': 22721, 'loopy': 22722, 'gahhhh': 22723, 'hauntingxealot': 22724, 'goulburn': 22725, 'dreps': 22726, 'muriel': 22727, 'romanticaly': 22728, 'nims': 22729, 'downnnn': 22730, 'variable': 22731, 'margin': 22732, 'gradually': 22733, 'ptfe': 22734, 'lond': 22735, 'veges': 22736, 'waitn': 22737, 'rappn': 22738, 'gav': 22739, 'bracing': 22740, 'comedown': 22741, 'therefor': 22742, 'coffin': 22743, 'drinkers': 22744, 'subite': 22745, 'oompa': 22746, 'lumpa': 22747, 'rugrats': 22748, 'anndd': 22749, 'wellwood': 22750, 'muay': 22751, 'boosted': 22752, 'paradice': 22753, 'baju': 22754, 'sklh': 22755, 'thn': 22756, 'schl': 22757, 'mktg': 22758, 'knottie': 22759, '5000th': 22760, 'whoshere': 22761, 'affecting': 22762, 'possibe': 22763, 'sampler': 22764, 'marlees': 22765, 'mickeyds': 22766, 'eggmcmuffin': 22767, 'mcyum': 22768, 'mms': 22769, 'waer': 22770, 'nexxt': 22771, 'mhmm': 22772, 'vn': 22773, 'punchy': 22774, 'pager': 22775, 'implementation': 22776, 'unittest': 22777, 'loader': 22778, 'bach': 22779, 'yield': 22780, 'webkinz': 22781, 'confusions': 22782, 'mela': 22783, 'cept': 22784, 'kyra': 22785, 'sugarloot': 22786, 'looonnnng': 22787, 'mil': 22788, 'heyyhoo': 22789, 'heyhey': 22790, 'heaos': 22791, 'severly': 22792, 'aiaahh': 22793, 'ticketless': 22794, 'aud': 22795, 'shrugs': 22796, 'tripe': 22797, 'dutchess': 22798, 'booskie': 22799, 'reassurance': 22800, '450': 22801, 'palmdale': 22802, 'gump': 22803, 'blonder': 22804, 'rebootiness': 22805, 'alexx': 22806, 'sammie': 22807, 'bleargh': 22808, 'unsettled': 22809, 'leche': 22810, 'sheboygan': 22811, 'teekay': 22812, 'kyles': 22813, 'rawrrr': 22814, 'sinai': 22815, 'trudat': 22816, 'smirker': 22817, 'jak': 22818, 'whatz': 22819, 'waaaaaaaaaah': 22820, 'clown': 22821, 'angrily': 22822, 'extemely': 22823, 'nightss': 22824, '2k6': 22825, 'bets': 22826, 'burying': 22827, 'erotica': 22828, 'snuffing': 22829, 'selfishness': 22830, 'myyy': 22831, 'trolling': 22832, 'lewd': 22833, 'britainsgottalent': 22834, 'maccas': 22835, 'petition': 22836, 'mot': 22837, 'nonlong': 22838, 'relized': 22839, 'brittney': 22840, 'mills': 22841, 'sumbody': 22842, 'gramma': 22843, 'occupational': 22844, 'hazard': 22845, 'venues': 22846, 'reunions': 22847, 'nudges': 22848, 'widow': 22849, 'americas': 22850, 'geographie': 22851, 'speakerphone': 22852, 'hhs': 22853, 'eo': 22854, 's0ulja': 22855, 'b0y': 22856, 'scholar': 22857, 'homeland': 22858, 'ontology': 22859, 'venti': 22860, 'blaisdell': 22861, 'cheehee': 22862, 'awwrrite': 22863, 'gabbie': 22864, 'noghty': 22865, 'ska': 22866, 'volvicchallenge': 22867, 'moodle': 22868, 'bookings': 22869, 'goodbyeeee': 22870, 'acsm': 22871, 'unfathomable': 22872, 'bedrooms': 22873, 'sae': 22874, 'desserts': 22875, 'whatthefuck': 22876, 'distraaaaacting': 22877, 'ellipital': 22878, 'erikah': 22879, 'isu': 22880, 'unco': 22881, 'aces': 22882, 'sluttin': 22883, 'waaaaaaaaahhhh': 22884, 'jacuzzi': 22885, 'kelslaws': 22886, 'scofiled': 22887, 'faded': 22888, 'kobold': 22889, 'quarterly': 22890, 'betch': 22891, 'seeeeeeeeed': 22892, 'thoes': 22893, 'bridezilla': 22894, 'dba': 22895, 'narrowed': 22896, 'goblet': 22897, 'thngs': 22898, 'stuf': 22899, 'jap': 22900, 'queueing': 22901, 'onl': 22902, 'fastings': 22903, '639': 22904, 'partaaay': 22905, 'tiiiny': 22906, 'twune': 22907, 'steadily': 22908, '2x2924': 22909, '1x2610': 22910, '3x2500': 22911, '1841': 22912, 'desktops': 22913, 'redemption': 22914, 'shatranjanpoli': 22915, '26498457': 22916, 'andheri': 22917, '26733333': 22918, 'taunting': 22919, 'allies': 22920, 'rygby': 22921, 'improving': 22922, 'sicko': 22923, 'digusted': 22924, 'kateage': 22925, 'announcements': 22926, 'kï¿½lle': 22927, 'blackberrys': 22928, 'gdd': 22929, 'marathons': 22930, 'callsheet': 22931, 'docent': 22932, 'hvng': 22933, 'aftrn': 22934, 'battled': 22935, 'cs3': 22936, 'unintuitive': 22937, 'lnd': 22938, 'beup': 22939, '821': 22940, 'sweatbands': 22941, 'canasta': 22942, 'vic': 22943, 'sw00p': 22944, '418': 22945, 'borred': 22946, 'doingn': 22947, 'croquettes': 22948, 'mojitos': 22949, 'weill': 22950, 'hmd': 22951, 'thumbnail': 22952, 'naina': 22953, 'mill': 22954, 'boulevard': 22955, 'spidey': 22956, 'kales': 22957, 'helllooooo': 22958, 'whitehall': 22959, 'rewatch': 22960, 'taekwando': 22961, 'seb': 22962, 'cathylo': 22963, '5ish': 22964, 'wonderfuly': 22965, 'dogsitting': 22966, 'upkeep': 22967, 'manageable': 22968, 'sountrack': 22969, 'deixa': 22970, 'busssssss': 22971, 'sion': 22972, 'sierre': 22973, 'okaaaay': 22974, 'toshiba': 22975, '3gig': 22976, 'annonymity': 22977, 'officialy': 22978, 'figuratively': 22979, 'hammy': 22980, 'shiznaay': 22981, 'xs': 22982, 'yeee': 22983, 'enablers': 22984, 'alfred': 22985, 'tare': 22986, 'tin': 22987, 'castile': 22988, 'urechi': 22989, 'drumu': 22990, 'muzichii': 22991, 'asa': 22992, 'vopseaua': 22993, 'afectat': 22994, 'rau': 22995, 'traded': 22996, 'anomaly': 22997, 'hooooommmeeee': 22998, 'roaming': 22999, 'caltrain': 23000, 'controller': 23001, 'chroma': 23002, 'cumulus': 23003, 'owen': 23004, 'panicky': 23005, 'birthdayyy': 23006, 'fireflight': 23007, 'fronted': 23008, 'facking': 23009, 'gawwddd': 23010, 'headshotss': 23011, 'inna': 23012, 'fyaaahhh': 23013, 'fjgkfld': 23014, 'sdh': 23015, 'aeroplanes': 23016, 'wkp': 23017, 'corse': 23018, 'theator': 23019, 'meanings': 23020, 'cinderelliiee': 23021, 'alarms': 23022, 'piddled': 23023, 'essense': 23024, 'pricy': 23025, 'espressos': 23026, '10yr': 23027, 'yesssss': 23028, 'camool': 23029, 'couuuurse': 23030, 'fika': 23031, 'thes': 23032, 'kirst': 23033, 'refreshingly': 23034, 'henpecking': 23035, 'weirton': 23036, 'tippy': 23037, 'wv': 23038, 'moley': 23039, 'snazzified': 23040, 'yupp': 23041, 'blink182': 23042, 'leid': 23043, 'ebm': 23044, 'decompression': 23045, 'dubstep': 23046, 'metallia': 23047, 'lotchecktester': 23048, 'hoffentlich': 23049, 'wirds': 23050, 'stelle': 23051, 'umped': 23052, 'lupus': 23053, 'preseason': 23054, 'drawls': 23055, 'saddens': 23056, 'consultants': 23057, 'goddamnit': 23058, 'lamentablemente': 23059, 'jrztwitterlunch': 23060, 'foh': 23061, 'ep11': 23062, 'amason': 23063, 'giveaways': 23064, '1313': 23065, 'muuch': 23066, 'runway': 23067, 'progressing': 23068, '4km': 23069, 'craziier': 23070, 'beastie': 23071, 'pew': 23072, 'peww': 23073, 'phasers': 23074, 'wakin': 23075, 'zoita': 23076, 'whoooops': 23077, 'sotomayor': 23078, 'branches': 23079, 'schol': 23080, 'marble': 23081, 'hehee': 23082, 'murphy': 23083, 'luster': 23084, 'bifocals': 23085, 'arggghhhhhhhhhhh': 23086, 'yeahs': 23087, 'softshock': 23088, '0s': 23089, 'ssn': 23090, 'itin': 23091, 'ein': 23092, 'shiiiiiiiiiiiiiiiiiiiiiiiiiiiiiit': 23093, 'nerding': 23094, '2hours': 23095, 'rooney': 23096, 'salivary': 23097, 'lmhr': 23098, 'soready': 23099, 'dyer': 23100, 'audioo': 23101, 'differing': 23102, 'horseback': 23103, 'charades': 23104, 'vimeo': 23105, 'daps': 23106, 'giii': 23107, 'mornins': 23108, 'peoplee': 23109, 'shook': 23110, 'railing': 23111, 'mendeed': 23112, 'discog': 23113, 'disbanding': 23114, 'dillingen': 23115, 'savour': 23116, 'hollered': 23117, 'dnw': 23118, 'twirps': 23119, 'mentalities': 23120, 'arabs': 23121, 'qualified': 23122, 'bribed': 23123, 'smthng': 23124, 'gtgs': 23125, 'cauzinhoooo': 23126, 'greatfirewallofchina': 23127, 'nutrition': 23128, 'unladylike': 23129, 'yayz': 23130, 'buhbyeee': 23131, 'brats': 23132, 'machineeeee': 23133, 'newsboys': 23134, 'unix': 23135, 'ticon': 23136, 'rumours': 23137, 'tam': 23138, 'sigur': 23139, 'anchoring': 23140, 'ashminov': 23141, 'clwn': 23142, 'nameless': 23143, 'unwind': 23144, 'zip': 23145, 'courney': 23146, 'spiderweb': 23147, 'occasional': 23148, 'jmccartney': 23149, 'mindy': 23150, 'freekin': 23151, 'reeesee': 23152, 'cel': 23153, 'siiiiiickkk': 23154, 'milestone': 23155, 'tahong': 23156, 'zagrebe': 23157, 'musicboat': 23158, 'konami': 23159, 'toledo': 23160, 'funzen': 23161, 'raawrrrr': 23162, 'rawwwwrrrr': 23163, 'hadthebestdayever': 23164, 'wors': 23165, '1500': 23166, 'eom': 23167, 'eviction': 23168, 'loveu': 23169, 'fortified': 23170, 'monin': 23171, 'dared': 23172, 'youï¿½ve': 23173, 'ozbargain': 23174, 'optimising': 23175, 'milanq': 23176, 'whyte': 23177, 'noarchive': 23178, 'hides': 23179, 'puppyyy': 23180, 'playground': 23181, 'housemate': 23182, 'reminise': 23183, 'monitors': 23184, 'masekela': 23185, 'contern': 23186, 't71': 23187, 'naturally7': 23188, 'asaran': 23189, 'lumpia': 23190, 'pancit': 23191, 'wiltshire': 23192, 'mps': 23193, 'dudettes': 23194, 'jaoo': 23195, 'lookn': 23196, 'monet': 23197, 'casually': 23198, 'indivibe': 23199, 'blockers': 23200, 'demoing': 23201, 'flavorus': 23202, 'boc': 23203, 'christians': 23204, 'pleeeeeease': 23205, 'pleeeease': 23206, 'waller': 23207, 'wallers': 23208, 'moni': 23209, 'itty': 23210, 'bitty': 23211, 'ginniejean': 23212, 'mojo': 23213, 'brrrrr': 23214, 'kitkat': 23215, 'whahhh': 23216, 'attendances': 23217, 'beathing': 23218, 'victoia': 23219, 'labtop': 23220, 'plywood': 23221, 'tweetville': 23222, 'gatorade': 23223, 'yumyum': 23224, 'arise': 23225, 'mending': 23226, 'guilted': 23227, 'wrongly': 23228, 'francesc': 23229, 'fabregas': 23230, 'fabre': 23231, 'pisssing': 23232, 'kojikun': 23233, 'seastar': 23234, 'townsville': 23235, 'eughhhh': 23236, 'ammo': 23237, 'petty': 23238, 'heartbreakers': 23239, 'fibrosis': 23240, 'trish': 23241, 'wellllll': 23242, 'halp': 23243, 'kiddnation': 23244, 'interwebnet': 23245, 'kenduri': 23246, 'trainings': 23247, 'novi': 23248, 'lipton': 23249, 'questionning': 23250, 'akissforjersey': 23251, 'tormented': 23252, 'journo': 23253, '20ish': 23254, 'reservations': 23255, 'afficionado': 23256, 'sauces': 23257, 'himalayan': 23258, 'introductory': 23259, '99p': 23260, 'holycowfc': 23261, 'ahgg': 23262, 'weightless': 23263, 'lola': 23264, 'wasnï¿½t': 23265, 'eeeh': 23266, 'whattttever': 23267, 'mommm': 23268, 'sla': 23269, 'faculty': 23270, 'comprehensible': 23271, 'bhaha': 23272, 'nightclub': 23273, 'hitten': 23274, 'alyssabruno': 23275, 'taser': 23276, 'tutle': 23277, 'buut': 23278, 'g00d': 23279, '28c': 23280, 'dokomi': 23281, 'roooooooooom': 23282, 'terrorists': 23283, 'helpin': 23284, 'postin': 23285, 'wmiad': 23286, 'resco': 23287, 'mobileforms': 23288, 'toolkit': 23289, 'rsvping': 23290, 'cobblestones': 23291, 'perils': 23292, 'tragedies': 23293, 'sendin': 23294, 'celebratory': 23295, 'unsuccesful': 23296, 'ï¿½1': 23297, 'stellas': 23298, 'ladmag': 23299, 'zs': 23300, 'nagy': 23301, 'multitask': 23302, 'suffication': 23303, 'jinx': 23304, 'evar': 23305, 'awnser': 23306, 'bannerbomb': 23307, 'homebrew': 23308, 'boredddddd': 23309, 'rhinestones': 23310, 'greshamblake': 23311, 'anwb': 23312, 'frenchies': 23313, 'precedent': 23314, 'sensitive': 23315, 'posada': 23316, 'defiance': 23317, 'ecw': 23318, 'fruitcake': 23319, 'yeeaaahh': 23320, 'neeeddd': 23321, 'foooddd': 23322, 'lewishhh': 23323, 'dagnabbitt': 23324, 'fiiiinaaalllyyy': 23325, 'torential': 23326, 'subscriptions': 23327, 'nzz': 23328, 'economist': 23329, 'costsavings': 23330, 'oooowwwch': 23331, 'tomorro': 23332, '3mb': 23333, 'macaramber': 23334, 'radiator': 23335, 'powderhorn': 23336, 'similarly': 23337, 'mesmerized': 23338, 'whimsical': 23339, 'fairyness': 23340, 'seexyyyyy': 23341, 'ladder': 23342, 'collapse': 23343, 'omgogmgo': 23344, 'jenni': 23345, 'shay': 23346, 'shlda': 23347, 'knwn': 23348, 'crd': 23349, 'scorpian': 23350, 'bwl': 23351, 'ahhhhhhhhhhhhhh': 23352, 'lifechanging': 23353, 'paragraph': 23354, 'para5': 23355, 'opting': 23356, 'hrdest': 23357, 'nervy': 23358, 'sunnybank': 23359, 'tavares': 23360, 'milton': 23361, 'keynes': 23362, 'revisingg': 23363, 'lan': 23364, 'compre': 23365, 'abhi': 23366, 'fireftp': 23367, 'negghead': 23368, 'ike': 23369, 'trenchcoat': 23370, 'epson': 23371, 'ticked': 23372, 'sheridan': 23373, '73': 23374, 'plops': 23375, 'britta': 23376, 'wrestlefest': 23377, 'latalkradio': 23378, 'acquisition': 23379, 'boobies': 23380, 'studing': 23381, 'butthurt': 23382, 'fefe': 23383, 'headzup': 23384, 'burguer': 23385, 'gong': 23386, 'weekebd': 23387, 'â¡': 23388, 'chappelle': 23389, 'dumerils': 23390, 'hognose': 23391, 'provoking': 23392, 'psychiatric': 23393, 'decker': 23394, 'frenchfry': 23395, 'corndog': 23396, 'jodies': 23397, 'cluedo': 23398, 'geordanos': 23399, 'peperoni': 23400, 'neomonia': 23401, 'iznt': 23402, 'ugghhhhh': 23403, 'thxs': 23404, 'preservers': 23405, 'chuffed': 23406, 'truetrue': 23407, 'approving': 23408, 'twa': 23409, 'complications': 23410, 'creds': 23411, 'sandiego': 23412, 'laavly': 23413, 'stationary': 23414, 'walnut': 23415, 'evidently': 23416, 'noones': 23417, 'yikeysss': 23418, 'loooool': 23419, 'swann': 23420, 'rwitters': 23421, 'reaper': 23422, 'iyaa': 23423, 'sadfaced': 23424, 'cpk': 23425, 'ageeees': 23426, 'disks': 23427, 'didddd': 23428, 'arduous': 23429, 'clipped': 23430, 'tv21': 23431, 'berocca': 23432, 'donot': 23433, 'laundromat': 23434, 'stuttgart': 23435, 'befah': 23436, 'adwancrd': 23437, 'audiomicro': 23438, 'homely': 23439, 'freddie': 23440, 'fishyyy': 23441, 'rutger': 23442, 'hauer': 23443, 'werkin': 23444, 'canvassing': 23445, 'padster': 23446, 'hyperbirdies': 23447, 'terrorizing': 23448, 'milkskake': 23449, 'holby': 23450, 'lewington': 23451, 'clifford': 23452, 'frward': 23453, 'waitresses': 23454, 'drying': 23455, 'sixteenth': 23456, 'entourage': 23457, 'principled': 23458, 'perf': 23459, 'choreo': 23460, 'romulin': 23461, 'arlando': 23462, 'trafffffffic': 23463, 'wwork': 23464, 'miinnnesota': 23465, 'darius': 23466, 'neighting': 23467, 'succumb': 23468, 'aaaahh': 23469, 'massively': 23470, 'workyy': 23471, '3lin': 23472, 'fawxing': 23473, 'crayons': 23474, 'accessing': 23475, 'istore': 23476, 'americana': 23477, 'skater': 23478, 'calippo': 23479, 'parsley': 23480, 'castles': 23481, 'meaningful': 23482, 'eau': 23483, 'brides': 23484, 'someonee': 23485, 'pedals': 23486, 'arnd': 23487, 'inject': 23488, 'vaccine': 23489, 'sermons': 23490, 'motivates': 23491, 'hal': 23492, 'batter': 23493, 'bagle': 23494, 'sensing': 23495, 'fiery': 23496, 'surrounding': 23497, 'calander': 23498, 'collander': 23499, 'stain': 23500, 'poorpoor': 23501, 'springhill': 23502, 'publicist': 23503, 'fidel': 23504, 'twitskies': 23505, 'duster': 23506, 'shoppping': 23507, 'greenhills': 23508, 'balikbayans': 23509, 'moveout': 23510, 'jessicaaaa': 23511, 'yummmmmm': 23512, 'compiment': 23513, 'bucky': 23514, 'insulinoma': 23515, 'prednisone': 23516, 'toothpicks': 23517, 'integration': 23518, 'fridayfirehazzard': 23519, 'languishing': 23520, 'braggin': 23521, 'sph': 23522, 'dissappoint': 23523, 'haiz': 23524, 'wrists': 23525, 'boopboopboop': 23526, 'skott': 23527, 'jkin': 23528, 'ghostwhisperer': 23529, 'merrier': 23530, 'phl': 23531, 'luton': 23532, 'shoots': 23533, 'expressed': 23534, 'ambulances': 23535, 'aaarrrggghhh': 23536, 'shermk': 23537, 'siblings': 23538, 'luddite': 23539, 'lisbon': 23540, 'veterans': 23541, 'cheifs': 23542, 'canes': 23543, 'prerecorded': 23544, 'admk': 23545, '914044621160': 23546, 'gdnite': 23547, 'rightards': 23548, 'platypuses': 23549, 'worthwhile': 23550, 'doses': 23551, 'exodus': 23552, 'myspaces': 23553, 'clare': 23554, 'applebottoms': 23555, 'fubu': 23556, 'vou': 23557, 'roupinhas': 23558, 'goticas': 23559, 'qqq': 23560, 'fraudster': 23561, 'spitting': 23562, 'lender': 23563, 'aaaaaoouoouoouu': 23564, 'knifes': 23565, 'penn': 23566, 'helloveggies': 23567, 'deathcab': 23568, 'campp': 23569, 'pranks': 23570, 'disastrous': 23571, 'lashed': 23572, 'socked': 23573, 'reckless': 23574, 'mesmerizing': 23575, 'grax': 23576, 'imacs': 23577, 'fkc': 23578, 'thundered': 23579, 'reallyreally': 23580, 'hearty': 23581, 'akon': 23582, 'regulating': 23583, 'sodding': 23584, 'darnit': 23585, 'interwebs': 23586, 'rejecting': 23587, 'substances': 23588, 'aicn': 23589, 'slapped': 23590, 'powerdvd': 23591, 'screenies': 23592, 'kiya': 23593, 'chive': 23594, 'husker': 23595, 'harleton': 23596, 'gfail': 23597, 's5': 23598, 'ruins': 23599, 'suree': 23600, 'phyllis': 23601, 'hyman': 23602, 'unsung': 23603, 'klonopin': 23604, 'daa': 23605, 'crewww': 23606, 'sailed': 23607, 'cco': 23608, 'clog': 23609, 'epsilon': 23610, 'comparing': 23611, 'lazed': 23612, 'resto': 23613, 'dayuummm': 23614, 'divs': 23615, 'howl': 23616, 'gba': 23617, 'niiight': 23618, 'vagas': 23619, 'judd': 23620, 'madeleines': 23621, 'bearer': 23622, 'hollister': 23623, 'passionate': 23624, 'wiggles': 23625, 'evangelizing': 23626, 'maintain': 23627, 'favourtie': 23628, 'ally': 23629, 'wormie': 23630, 'attribute': 23631, 'hangs': 23632, 'tweetless': 23633, '7bells': 23634, 'outlets': 23635, 'easactive': 23636, 'paused': 23637, 'snapp': 23638, 'snores': 23639, 'marykay': 23640, 'sendai': 23641, 'favoriteicecream': 23642, 'musli': 23643, 'steppin': 23644, 'liquour': 23645, 'greeeeeeeeeeeat': 23646, 'approx': 23647, '100msg': 23648, 'grabs': 23649, '6msg': 23650, 'hairloss': 23651, 'amyyyy': 23652, 'fleeshman': 23653, 'loggade': 23654, 'visst': 23655, '400e': 23656, 'lï¿½rdags': 23657, 'listeners': 23658, 'glowy': 23659, 'ravey': 23660, 'beery': 23661, 'pizzary': 23662, 'talkshow': 23663, 'exsausted': 23664, 'chalky': 23665, 'implode': 23666, 'folkkz': 23667, 'corrections': 23668, 'ooopps': 23669, 'penetration': 23670, 'deducted': 23671, 'zzzzy': 23672, 'yorkie': 23673, 'shoping': 23674, 'regularly': 23675, 'massa': 23676, 'edmontonians': 23677, 'webdu': 23678, 'sal': 23679, 'xcept': 23680, 'pleeaaasee': 23681, 'backkkk': 23682, 'medhurst': 23683, 'sleeveless': 23684, 'savior': 23685, 'fulfilling': 23686, 'caffine': 23687, 'nicola': 23688, 'awhhk': 23689, 'nagustuhan': 23690, 'nyo': 23691, 'isang': 23692, 'enclosed': 23693, 'matutunaw': 23694, 'uli': 23695, 'kunal': 23696, 'khemu': 23697, 'starrers': 23698, 'probability': 23699, 'niche': 23700, 'aaaaaaaa': 23701, 'winshit': 23702, 'bellyache': 23703, 'meeeeeee': 23704, 'hahahahahahhah': 23705, 'tito': 23706, 'nineteenth': 23707, 'impatiently': 23708, 'organization': 23709, 'itil': 23710, 'preaching': 23711, 'alott': 23712, 'immigrating': 23713, 'vulcan': 23714, 'humous': 23715, 'dorito': 23716, 'fonzie': 23717, 'kulps': 23718, 'moonlightflight': 23719, 'dloading': 23720, 'nyts': 23721, 'looooooooooooool': 23722, 'motherland': 23723, 'caro': 23724, 'gad': 23725, 'elmaleh': 23726, 'receipts': 23727, 'munchkin': 23728, 'tiiiiiiired': 23729, 'doggies': 23730, 'airbrush': 23731, 'hotmail': 23732, 'flowy': 23733, 'oystsers': 23734, 'platter': 23735, 'adopting': 23736, 'roomate': 23737, 'commies': 23738, '63': 23739, 'cockatiels': 23740, 'arrrr': 23741, 'dampers': 23742, 'sexuality': 23743, 'sled': 23744, 'banggg': 23745, 'untile': 23746, 'aniya666': 23747, 'oneee': 23748, 'meditation': 23749, 'chï¿½m': 23750, 'dï¿½u': 23751, 'ub40': 23752, 'relaxer': 23753, 'unproductive': 23754, 'coffiees': 23755, 'pleaz': 23756, 'chugging': 23757, 'bibisita': 23758, 'kina': 23759, 'bukas': 23760, 'sasama': 23761, 'rushers': 23762, 'eb': 23763, 'itttt': 23764, 'whopping': 23765, 'blokeslib': 23766, 'cassio': 23767, 'translating': 23768, 'quadratic': 23769, 'congruences': 23770, 'shins': 23771, 'biatch': 23772, 'paved': 23773, 'wlcm': 23774, 'clergy': 23775, 'ordained': 23776, 'cambie': 23777, 'awesoome': 23778, 'ravenclaw': 23779, 'calexico': 23780, 'tinkered': 23781, 'virtualbox': 23782, 'smoothstreaming': 23783, 'chambers': 23784, 'booting': 23785, 'discrepencies': 23786, 'lodo': 23787, 'legacy': 23788, 'kyneton': 23789, 'melb': 23790, 'daylesford': 23791, 'mended': 23792, 'cushion': 23793, 'barstools': 23794, 'estou': 23795, 'garland': 23796, 'torey': 23797, 'shitest': 23798, 'rompes': 23799, 'ilusiones': 23800, 'thrasher': 23801, 'totter': 23802, 'tlet': 23803, 'boyfrannnnn': 23804, 'junt': 23805, '401': 23806, 'baggage': 23807, 'revitalize': 23808, 'reverting': 23809, 'cliches': 23810, 'sooooooooooooo': 23811, 'laminator': 23812, 'jeffery': 23813, 'hagg': 23814, 'cutback': 23815, 'yummyyy': 23816, 'comedians': 23817, 'margaret': 23818, 'dunham': 23819, 'deceitful': 23820, 'bittt': 23821, 'partly': 23822, 'sugarfree': 23823, 'bytheway': 23824, 'leatherman': 23825, 'bonty': 23826, 'carelessness': 23827, 'craps': 23828, 'halu': 23829, 'cunt': 23830, 'tosser': 23831, '10000000000': 23832, 'streetcred': 23833, 'deadliestcatch': 23834, 'tpg': 23835, 'suspense': 23836, 'niiiiiiiights': 23837, 'deadly': 23838, 'forwarding': 23839, 'freind': 23840, 'dian': 23841, 'deng': 23842, 'donathan': 23843, 'danathan': 23844, 'occurred': 23845, 'trap': 23846, 'woh': 23847, 'telenovelas': 23848, 'slutted': 23849, 'jealz': 23850, 'surrey': 23851, 'nippy': 23852, 'sancha': 23853, 'chini': 23854, 'rosary': 23855, 'anton': 23856, 'chekov': 23857, 'xi': 23858, 'janette': 23859, '9412': 23860, 'deordant': 23861, 'beb': 23862, 'innn': 23863, 'questioning': 23864, 'freddies': 23865, 'cotch': 23866, 'bajan': 23867, 'definetly': 23868, 'egss': 23869, 'sleepypants': 23870, 'gtta': 23871, 'greeeeeeaaaaatttttttt': 23872, 'erugh': 23873, 'ohbabayy33': 23874, 'fucken': 23875, 'deffff': 23876, 'screenings': 23877, 'noor': 23878, 'bni': 23879, 'maders': 23880, 'courts': 23881, 'elaborate': 23882, 'damali': 23883, 'fatal': 23884, 'cyclist': 23885, 'pledge': 23886, 'imploded': 23887, 'dreadweave': 23888, 'todayï¿½s': 23889, 'vlogï¿½thing': 23890, 'searched': 23891, 'acara': 23892, 'menarik': 23893, 'lain': 23894, 'ttg': 23895, 'dikasih': 23896, 'bacn': 23897, 'shortener': 23898, 'pinocchio': 23899, '530am': 23900, 'presidente': 23901, 'grrrrrrrrrrrrrrr': 23902, 'ffk09': 23903, 'refusn': 23904, 'malce': 23905, 'preve': 23906, 'vï¿½ivela': 23907, 'erajï¿½nji': 23908, 'koncert': 23909, 'takem': 23910, 'lineupu': 23911, 'brokun': 23912, 'humuns': 23913, 'maybee': 23914, 'agin': 23915, 'wun': 23916, 'incarnated': 23917, 'mutant': 23918, 'ghalib': 23919, 'remodel': 23920, 'anouther': 23921, 'darline': 23922, 'gmu': 23923, 'masters': 23924, 'sys': 23925, 'eng': 23926, 'hughesy': 23927, 'thq': 23928, 'billed': 23929, 'rpg': 23930, 'smokefree': 23931, 'be4': 23932, 'fii': 23933, 'mushkila': 23934, 'joyologist': 23935, 'actinggg': 23936, 'millsthemusical': 23937, 'wellll': 23938, 'wildflowers': 23939, 'tiffys': 23940, 'bottem': 23941, 'buggies': 23942, 'cockatoos': 23943, 'krystles': 23944, 'cooool': 23945, 'lovve': 23946, 'shoooow': 23947, 'freeways': 23948, 'ge': 23949, 'nosely': 23950, 'otherway': 23951, 'reallyyyyy': 23952, 'pff': 23953, 'lindos': 23954, 'mildura': 23955, 'mhhh': 23956, 'frosted': 23957, 'wheats': 23958, 'nooooooooooo': 23959, 'aaaawww': 23960, 'diggers': 23961, 'trophies': 23962, 'patriarchy': 23963, 'plurking': 23964, 'aquarius': 23965, 'sikaflex': 23966, 'caulk': 23967, 'hellboy': 23968, 'dooooooodddddiiiieeee': 23969, 'attitudes': 23970, 'dustins': 23971, 'prohibits': 23972, 'moneyz': 23973, 'helloo': 23974, 'spotters': 23975, 'mussels': 23976, 'twitterrr': 23977, 'irons': 23978, 'funday': 23979, 'interferring': 23980, 'socializing': 23981, 'euphamism': 23982, '5ghz': 23983, 'rumbo': 23984, 'bachilleres': 23985, 'blasted': 23986, 'pankraz': 23987, 'smite': 23988, 'faa': 23989, 'knooooow': 23990, 'watkins': 23991, 'precaution': 23992, 'ungrateful': 23993, 'ammoxxx': 23994, 'barakat': 23995, 'ssoo': 23996, 'daaaaaaaaay': 23997, 'wcm': 23998, 'beleive': 23999, 'headsup': 24000, 'twtvite': 24001, 'aptw': 24002, 'engagements': 24003, 'chocoslam': 24004, 'chillis': 24005, 'horti': 24006, 'shelving': 24007, 'greatscores': 24008, 'yeaps': 24009, 'harassed': 24010, 'jive': 24011, 'novy': 24012, 'traders': 24013, 'game5': 24014, 'game6': 24015, 'dya': 24016, 'assessment': 24017, 'superfly': 24018, 'knives': 24019, 'mature': 24020, 'glimpsing': 24021, 'tagaytay': 24022, 'rereads': 24023, 'grits': 24024, 'exs': 24025, 'xlate': 24026, 'snoozing': 24027, 'boosh': 24028, 'venetian': 24029, 'hyperventilating': 24030, 'getttin': 24031, 'ging': 24032, 'recite': 24033, 'myhouse': 24034, 'lula': 24035, 'eirtaku': 24036, 'speller': 24037, 'thalia': 24038, 'getn': 24039, 'funnies': 24040, 'tweeets': 24041, 'tweekdeckkk': 24042, 'cryyyy': 24043, 'covina': 24044, 'sprints': 24045, 'interracial': 24046, 'gangbang': 24047, 'mobiles': 24048, '1direction': 24049, 'beblessed': 24050, 'lym': 24051, 'sweetness': 24052, 'tulips': 24053, 'guiness': 24054, 'bidding': 24055, 'cda': 24056, 'oversleeping': 24057, 'pounced': 24058, 'rotary': 24059, 'quids': 24060, 'pproperty': 24061, 'rhinitis': 24062, 'boohooo': 24063, 'dung': 24064, 'toh': 24065, 'kar': 24066, 'purty': 24067, 'grrrrrr': 24068, 'shinee': 24069, 'owls': 24070, 'pancake': 24071, 'enroll': 24072, 'choreographing': 24073, 'exhibit': 24074, 'ilu': 24075, 'knnnowwww': 24076, 'nosignal': 24077, 'cookout': 24078, 'ooooooooold': 24079, 'gala': 24080, 'ets': 24081, 'endoscopic': 24082, 'thoracic': 24083, 'sympathectomy': 24084, 'invaluable': 24085, 'surgical': 24086, 'procedure': 24087, 'bsame': 24088, 'showww': 24089, 'lmoa': 24090, 'holdem': 24091, 'orderd': 24092, 'givein': 24093, 'fanbase': 24094, 'writings': 24095, 'newer': 24096, 'sexiest': 24097, 'booooored': 24098, 'kaul': 24099, 'mcarthur': 24100, 'steering': 24101, 'jimbo': 24102, 'tauren': 24103, 'shaman': 24104, 'icewater': 24105, '61': 24106, 'ohyeahhh': 24107, 'haappy': 24108, 'weeeeks': 24109, 'bbrush': 24110, 'inconvenient': 24111, 'fafsa': 24112, 'arbor': 24113, 'appts': 24114, 'hooorah': 24115, 'youstinkatrespondingtotexts': 24116, 'cavite': 24117, 'ughhhhhhhhhhhh': 24118, 'whiteman': 24119, 'wyck': 24120, 'lazzzy': 24121, 'preheatin': 24122, 'swensens': 24123, 'ghunghte': 24124, 'chanda': 24125, 'phir': 24126, 'phela': 24127, 'chaaron': 24128, 'aur': 24129, 'ujala': 24130, 'songggggg': 24131, 'momentum': 24132, 'relieved': 24133, 'programmers': 24134, 'ramei': 24135, 'excellant': 24136, 'absoulutley': 24137, 'tong': 24138, 'yeye': 24139, 'eq2': 24140, 'miming': 24141, 'facepanda': 24142, 'hypocrite': 24143, 'embouchure': 24144, 'englisch': 24145, 'broom': 24146, 'whispers': 24147, 'swiffer': 24148, 'museums': 24149, '5days': 24150, 'baad': 24151, 'xong': 24152, 'hostel': 24153, 'ccp': 24154, 'eithah': 24155, 'yuuup': 24156, 'birthdaaaay': 24157, 'illusin': 24158, 'sackiroth': 24159, 'crangsty': 24160, 'marianne': 24161, 'hundreth': 24162, 'rhel5': 24163, 'bnx2': 24164, 'packets': 24165, '50k': 24166, 'redd': 24167, 'bbc2': 24168, 'pirated': 24169, 'subconscience': 24170, 'yaaawn': 24171, 'ï¿½20': 24172, 'detailed': 24173, 'challange': 24174, 'charactres': 24175, 'haydee': 24176, 'cockermouth': 24177, 'yeeh': 24178, 'bombed': 24179, 'jimming': 24180, 'ocu': 24181, 'altnoy': 24182, 'transcription': 24183, 'cower': 24184, 'comply': 24185, 'nastiness': 24186, 'hush': 24187, 'balisage': 24188, 'markup': 24189, 'topicmaps': 24190, 'wweeeeooo': 24191, 'givee': 24192, 'schuhmacher': 24193, 'handshakes': 24194, 'brenda': 24195, 'portals': 24196, 'marquee': 24197, 'holed': 24198, 'hva': 24199, 'rught': 24200, 'twitaddicted': 24201, 'jobo': 24202, 'meaner': 24203, 'accela': 24204, 'wldn': 24205, 'paedophilia': 24206, 'disfigurement': 24207, 'cruelty': 24208, 'streamyx': 24209, 'screwmyx': 24210, 'rolland': 24211, 'garros': 24212, 'impaled': 24213, 'ewan': 24214, 'mcgregor': 24215, 'charbotgreen': 24216, 'outbid': 24217, 'braunig': 24218, 'becoz': 24219, 'nta': 24220, 'wrkouts': 24221, 'hapen': 24222, 'satrted': 24223, 'dieting': 24224, 'hag': 24225, 'decoration': 24226, 'lovebug': 24227, 'sanzz': 24228, 'immensely': 24229, 'heats': 24230, 'hahahaa': 24231, 'canazarro': 24232, 'aitn': 24233, 'starburst': 24234, 'recieved': 24235, 'coldplaying': 24236, 'fonz': 24237, 'shelters': 24238, 'nonfunctionalproductive': 24239, 'piriton': 24240, 'purifier': 24241, 'jolly': 24242, 'winksy': 24243, 'eeeeevvveeerrrr': 24244, 'fammmmm': 24245, 'abalone': 24246, 'beeps': 24247, 'summahkayy': 24248, 'fuschia': 24249, 'sheath': 24250, 'buh': 24251, 'rotc': 24252, 'feminist': 24253, 'nigth': 24254, 'pree': 24255, 'ti89': 24256, 'lpi': 24257, 'scurred': 24258, 'reassassing': 24259, 'boundry': 24260, 'novelty': 24261, '2year': 24262, 'puffffy': 24263, 'leavinggggggg': 24264, 'uuuuuuu': 24265, 'sardonic': 24266, 'hairstype': 24267, 'pentecost': 24268, 'uselessly': 24269, 'amherst': 24270, 'pns': 24271, 'virge': 24272, 'justa': 24273, 'gils': 24274, 'fiel': 24275, 'proably': 24276, 'haveto': 24277, 'crackberry': 24278, 'epi': 24279, 'vpl': 24280, 'leaveeeee': 24281, 'guranteee': 24282, 'bubblegum': 24283, 'nanowrimo': 24284, 'envelope': 24285, 'abc2': 24286, 'bellshill': 24287, 'bothwell': 24288, 'tunnocks': 24289, 'luat': 24290, 'examenul': 24291, 'spss': 24292, '516': 24293, 'webshots': 24294, 'wound': 24295, 'zen': 24296, 'tec': 24297, 'oprahs': 24298, 'unfried': 24299, 'pope': 24300, 'ahhhhaaa': 24301, 'bangbros': 24302, 'psshh': 24303, 'onionbooty': 24304, 'cyberspace': 24305, 'sighh': 24306, 'trang': 24307, 'molagootal': 24308, 'thos': 24309, 'cabbie': 24310, 'hauling': 24311, 'g1freaks': 24312, 'togetha': 24313, 'pharos': 24314, 'hyperlinks': 24315, 'indentation': 24316, 'reviens': 24317, '15h30': 24318, 'detalis': 24319, 'gruesome': 24320, 'freams': 24321, 'ï¿½9': 24322, 'ï¿½13': 24323, 'fizzy': 24324, 'telstra': 24325, 'teleco': 24326, 'ahww': 24327, 'snuggeling': 24328, 'domino': 24329, 'outsider': 24330, 'thabks': 24331, 'dispatch': 24332, 'mimiron': 24333, 'hardmode': 24334, 'buren': 24335, 'cashis': 24336, 'jenkins': 24337, '2orw': 24338, 'jayne': 24339, 'anais': 24340, 'elp': 24341, 'selalu': 24342, 'ruang': 24343, 'sahabat': 24344, 'zachy': 24345, 'assembling': 24346, 'brummie': 24347, 'uuuuugh': 24348, 'walkies': 24349, 'vaguely': 24350, 'pdgg': 24351, 'hehaheahaaaa': 24352, 'kohls': 24353, 'hï¿½rlich': 24354, 'completley': 24355, 'zaina': 24356, 'polkadot': 24357, 'fuuuuuuck': 24358, 'martins': 24359, 'shikari': 24360, 'bucher': 24361, 'lazyy': 24362, 'telekinesis': 24363, 'controllers': 24364, 'datalounge': 24365, 'magically': 24366, 'slips': 24367, 'digipack': 24368, 'abnormal': 24369, 'crazzzzzzzy': 24370, 'pww': 24371, 'coolidge': 24372, 'ucler': 24373, 'coordinating': 24374, 'muhaha': 24375, 'martha': 24376, 'digger': 24377, 'surplus': 24378, 'netflicks': 24379, 'kayy': 24380, 'handset': 24381, 'headphone': 24382, 'nailpolish': 24383, 'stained': 24384, 'deceiving': 24385, 'winnipeg': 24386, 'brunt': 24387, 'creppy': 24388, 'tabz': 24389, 'gentlemen': 24390, 'discussing': 24391, 'lampions': 24392, 'rafting': 24393, 'tripics': 24394, 'okai': 24395, 'chemical': 24396, 'sodahead': 24397, 'nri': 24398, 'karan': 24399, 'johar': 24400, 'rey': 24401, 'mysterio': 24402, 'sushine': 24403, 'grapevine': 24404, 'addresses': 24405, 'yehh': 24406, 'curtis': 24407, 'pes': 24408, 'mandya': 24409, 'opengl': 24410, 'stressors': 24411, 'khsa': 24412, 'michou': 24413, 'glitching': 24414, 'finallyy': 24415, 'goshh': 24416, 'nipples': 24417, 'flor': 24418, 'pastures': 24419, 'lutheran': 24420, 'hamlet': 24421, 'reeves': 24422, 'skydivers': 24423, 'chantellie': 24424, 'misadventures': 24425, 'cocoliciousness': 24426, 'bbye': 24427, 'biochem': 24428, 'waaaaahhhhhh': 24429, 'bothers': 24430, 'metabolism': 24431, 'hej': 24432, 'malena': 24433, 'lycka': 24434, 'wades': 24435, 't1': 24436, 'krypton': 24437, 'migrains': 24438, 'matternal': 24439, 'haaaayley': 24440, 'lunchhhhh': 24441, 'p250': 24442, 'concentration': 24443, 'heeels': 24444, 'caturday': 24445, 'ï¿½50': 24446, 'soundtracks': 24447, 'muttering': 24448, 'reactin': 24449, 'bustin': 24450, 'vive': 24451, 'margeritas': 24452, 'vacuuming': 24453, 'grats': 24454, 'feltbeats': 24455, 'sanitized': 24456, 'oranges': 24457, 'flakes': 24458, 'poisonous': 24459, 'pellets': 24460, 'daniels': 24461, 'badbooks': 24462, 'remould': 24463, 'skid': 24464, 'lustig': 24465, 'armer': 24466, 'garantiefall': 24467, 'aesthetic': 24468, 'fiuuhh': 24469, 'azza': 24470, 'aiken': 24471, 'autograph': 24472, 'crazyyy': 24473, 'tati': 24474, 'emal': 24475, 'manalapan': 24476, 'marlboro': 24477, 'yayayyayayay': 24478, 'pixiebob': 24479, 'aimed': 24480, '527': 24481, 'ducky': 24482, 'frisby': 24483, 'robbinsons': 24484, 'somerville': 24485, 'cancertown': 24486, 'sha': 24487, 'fcp': 24488, 'tequillla': 24489, 'yeahness': 24490, 'migraining': 24491, 'naproxen': 24492, 'sodium': 24493, 'relaxants': 24494, 'whuffaoke': 24495, 'gillette': 24496, 'rockpools': 24497, 'octopi': 24498, 'sharn': 24499, 'loveeeeeeeeeeeeeeeeeeeeee': 24500, 'taura': 24501, 'hanafiah': 24502, 'morreee': 24503, 'shoott': 24504, 'aptism': 24505, 'sowwwwyy': 24506, 'colourlovers': 24507, 'toeat': 24508, 'kahuna': 24509, 'doppppe': 24510, 'moshie': 24511, 'moshhhh': 24512, 'realz': 24513, 'quinland': 24514, 'gloved': 24515, 'operator': 24516, 'ekkk': 24517, 'amaaazing': 24518, 'helllllpppp': 24519, '92': 24520, 'conversion': 24521, 'extranet': 24522, 'jcdecaux': 24523, 'photomedia': 24524, 'naan': 24525, 'rhodes': 24526, 'cait': 24527, 'krisnan': 24528, 'inu': 24529, 'ahhahahaha': 24530, 'ariyan': 24531, 'hamish': 24532, '243': 24533, '342': 24534, 'weathermen': 24535, '6p': 24536, '7p': 24537, '15p': 24538, 'weathermenrneverright': 24539, 'lambo': 24540, 'pitsvillle': 24541, 'hydes': 24542, 'jered': 24543, 'mediteranian': 24544, 'phne': 24545, 'meany': 24546, 'woth': 24547, 'finden': 24548, 'hea': 24549, 'differents': 24550, 'gettng': 24551, 'flashy': 24552, 'neurosurgeon': 24553, 'siddy': 24554, 'ldbf': 24555, 'unpacked': 24556, 'brothes': 24557, 'filas': 24558, 'definently': 24559, 'capable': 24560, 'uneventful': 24561, 'bouvierb': 24562, 'bouvier': 24563, 'forbid': 24564, 'dupes': 24565, 'radishes': 24566, 'blooms': 24567, 'chapman': 24568, 'spok': 24569, 'dpressed': 24570, '425': 24571, 'youve': 24572, 'megaredpacket': 24573, 'hel': 24574, 'hooks': 24575, 'transgress': 24576, 'havta': 24577, 'fllwing': 24578, 'loveeeeeeee': 24579, 'meanest': 24580, 'quil': 24581, 'luc': 24582, 'bourdon': 24583, 'reminders': 24584, 'posture': 24585, 'agaiiiiin': 24586, 'livinghandy': 24587, 'piff': 24588, 'bran': 24589, 'spades': 24590, 'nakuh': 24591, 'grabeh': 24592, 'alimony': 24593, 'miz': 24594, 'westend': 24595, 'creamy': 24596, 'mp': 24597, 'insensitive': 24598, 'stealthy': 24599, 'claimed': 24600, 'hahahahahahahaa': 24601, 'calyx': 24602, 'hilariouss': 24603, 'frizz': 24604, 'dal': 24605, 'officials': 24606, 'hmz': 24607, 'governmental': 24608, 'whhhyyy': 24609, 'abbster': 24610, 'campin': 24611, 'sexay': 24612, 'photobucket': 24613, 'vegies': 24614, 'frequently': 24615, 'fid': 24616, 'tort': 24617, 'licenses': 24618, 'mankini': 24619, 'bigest': 24620, 'sayings': 24621, 'rel': 24622, 'soc': 24623, 'wenches': 24624, 'eavy': 24625, 'wontt': 24626, 'beaumont': 24627, 'milage': 24628, 'comforts': 24629, 'sparty': 24630, 'mcdonel': 24631, 'yawnnnnn': 24632, 'moommy': 24633, 'somn': 24634, 'bakersfield': 24635, 'ports': 24636, 'gardeners': 24637, 'twitterring': 24638, 'myspac': 24639, 'bullshitting': 24640, 'pag': 24641, 'basta': 24642, 'youuuchuuub': 24643, 'moxy': 24644, 'nutz': 24645, 'reconsituted': 24646, 'rehydrated': 24647, 'bfa': 24648, 'listeninq': 24649, 'yoou': 24650, 'shoutin': 24651, 'arches': 24652, 'gandang': 24653, 'sya': 24654, '1960s': 24655, '1970s': 24656, 'devotees': 24657, 'hippie': 24658, 'lifestyles': 24659, 'iloveyoutoo': 24660, 'talents': 24661, 'sermon': 24662, 'yvw': 24663, 'touts': 24664, 'vengeance': 24665, 'sellin': 24666, 'glastonbury': 24667, 'argggggg': 24668, 'cuong': 24669, 'booker': 24670, 'ajc': 24671, 'urghh': 24672, 'admiring': 24673, 'harajuku': 24674, 'berkeleyy': 24675, 'whassqoodd': 24676, 'puppys': 24677, 'idiotic': 24678, 'buffoon': 24679, 'likee': 24680, 'leapord': 24681, 'abundantly': 24682, 'wearin': 24683, 'moneymaker': 24684, 'zomg': 24685, 'fuuuuuuuudgeee': 24686, 'pange': 24687, 'ahahahahaha': 24688, 't9r8am': 24689, 'medan': 24690, '1155hours': 24691, 'collage': 24692, 'feminism': 24693, 'volumes': 24694, 'comon': 24695, '80th': 24696, 'fallower': 24697, 'unsanitary': 24698, 'speculate': 24699, 'walkathon': 24700, 'allllllllright': 24701, 'exposed': 24702, 'goodgirl': 24703, 'combined': 24704, 'disastrously': 24705, 'scholfield': 24706, 'anyones': 24707, 'betraying': 24708, 'groomer': 24709, 'mysql': 24710, 'shellscript': 24711, 'generated': 24712, 'ls': 24713, '1115': 24714, 'mushies': 24715, 'discotech': 24716, 'kandivali': 24717, 'buger': 24718, 'mmmmmmmmm': 24719, '5mm': 24720, 'addi': 24721, 'smoother': 24722, 'luvd': 24723, 'extent': 24724, 'samson': 24725, 'delilah': 24726, 'pestered': 24727, 'personnel': 24728, 'ohman': 24729, 'formerly': 24730, 'nunawading': 24731, 'bofa': 24732, 'shivers': 24733, 'funnest': 24734, 'moab': 24735, 'believin': 24736, 'kapsel': 24737, 'dy': 24738, 'nulis': 24739, 'spertinya': 24740, 'ditag': 24741, 'notificationnya': 24742, 'seepin': 24743, 'mikesh': 24744, 'whatt': 24745, 'reeses': 24746, 'dire': 24747, 'caled': 24748, 'ym': 24749, 'ebuddy': 24750, 'conectese': 24751, 'xetitooooooooo': 24752, 'sweeet': 24753, 'elope': 24754, 'charis': 24755, 'ough': 24756, 'neckache': 24757, 'handheld': 24758, '760': 24759, 'ado': 24760, 'hazin': 24761, 'ssssssssssmack': 24762, 'ww': 24763, 'confuzzled': 24764, 'hormone': 24765, 'misbehaved': 24766, 'fabulous2say': 24767, 'spinelli': 24768, 'recourse': 24769, 'atty': 24770, 'flue': 24771, 'a12': 24772, 'scameras': 24773, 'ditzy': 24774, 'alreadt': 24775, 'sauteed': 24776, 'buns': 24777, 'organs': 24778, '460': 24779, 'whooooooooooooa': 24780, 'sneakernet': 24781, 'zip100s': 24782, 'kinkos': 24783, 'floppy': 24784, 'mammyy': 24785, 'errrr': 24786, 'rhythms': 24787, 'sinc': 24788, 'inutero': 24789, 'frens': 24790, '2gather': 24791, 'a200k': 24792, 'holyyyyyyy': 24793, '200mm': 24794, 'woofies': 24795, 'napppinggg': 24796, 'huggs': 24797, 'policemen': 24798, 'freakkin': 24799, 'clen': 24800, 'getonu2': 24801, '5sec': 24802, 'atlpics': 24803, 'babelfish': 24804, 'jeffco': 24805, 'slash': 24806, 'tyres': 24807, 'cuold': 24808, 'meijer': 24809, 'walmarts': 24810, 'pronouns': 24811, 'trentles': 24812, 'abduzzeedo': 24813, 'updateee': 24814, 'kinggg': 24815, 'coontails': 24816, 'spikes': 24817, 'homebuilders': 24818, 'declared': 24819, 'mcstain': 24820, 'louisville': 24821, 'allyson': 24822, 'lnger': 24823, 'opps': 24824, 'doubleclick': 24825, 'sizzling': 24826, 'raffles': 24827, 'dulce': 24828, 'pocketsquare': 24829, 'zoned': 24830, 'surrender': 24831, 'suckiest': 24832, 'tiasha': 24833, 'antcam7': 24834, 'recognisable': 24835, 'caminker': 24836, 'imogen': 24837, 'hiide': 24838, 'sosad': 24839, 'maaaaster': 24840, 'minty': 24841, 'grosss': 24842, 'upshot': 24843, 'mong': 24844, 'gc1qr2r': 24845, 'leyrock': 24846, '8hrs': 24847, 'coloursfest': 24848, 'ahoy': 24849, 'bruh': 24850, 'erection': 24851, 'smal': 24852, 'pleess': 24853, 'tmnt': 24854, 'mmpr': 24855, 'aby': 24856, 'ans': 24857, 'flipside': 24858, 'bahrain': 24859, 'watchingn': 24860, 'bmx': 24861, 'burgas': 24862, 'careoke': 24863, 'resignation': 24864, 'yucaipa': 24865, 'jameson': 24866, 'collerbone': 24867, 'fangs': 24868, 'rubz': 24869, 'elena': 24870, 'dma': 24871, 'supercool': 24872, 'upland': 24873, 'atlanits': 24874, 'faddle': 24875, 'bathe': 24876, 'sunkist': 24877, 'sambradley': 24878, 'bouquets': 24879, 'biiig': 24880, 'surveying': 24881, 'haaaate': 24882, 'violin': 24883, 'bham': 24884, 'foreigners': 24885, '26th': 24886, 'intriguing': 24887, 'walc': 24888, 'bocum': 24889, 'tottal': 24890, 'lostalone': 24891, 'poorness': 24892, 'inav': 24893, 'iblue': 24894, 'photosensitivity': 24895, 'ouuut': 24896, 'twishers': 24897, 'gocincinnati': 24898, 'astroturf': 24899, 'aweesome': 24900, 'professionally': 24901, 'uuuu': 24902, 'shakedown': 24903, 'consumed': 24904, 'falconers': 24905, 'detect': 24906, '88db': 24907, '808': 24908, 'epsom': 24909, 'salts': 24910, 'gory': 24911, 'gauze': 24912, 'liners': 24913, 'sleepness': 24914, 'cropping': 24915, 'pawnshop': 24916, 'jimi': 24917, 'cashing': 24918, 'oofm': 24919, 'mady': 24920, 'prays': 24921, 'radios': 24922, 'electronic': 24923, 'keyhole': 24924, 'forgottten': 24925, 'insonmia': 24926, 'redmango': 24927, 'mybrute': 24928, 'recory': 24929, 'delivering': 24930, 'barbecue': 24931, 'respects': 24932, 'poltergeist': 24933, '411': 24934, 'leacing': 24935, 'tender': 24936, '165': 24937, 'cleavage': 24938, 'mamagra': 24939, 'overactive': 24940, 'winn': 24941, 'guttah': 24942, 'pulaski': 24943, 'cornbread': 24944, 'entonces': 24945, 'perdonada': 24946, 'porque': 24947, 'sigues': 24948, 'gaging': 24949, 'mfs': 24950, 'firms': 24951, 'loiusa': 24952, 'energetic': 24953, '291km': 24954, 'features': 24955, 'abang': 24956, 'tomoo': 24957, 'nigel': 24958, 'inexplicably': 24959, 'punjab': 24960, 'shripriya': 24961, 'shri': 24962, 'ashes': 24963, 'catnip': 24964, 'theological': 24965, 'psychological': 24966, 'sociological': 24967, 'applyn': 24968, 'delivrd': 24969, 'eddplant': 24970, 'amaziiiing': 24971, 'witdrawal': 24972, 'demos': 24973, '15am': 24974, 'kodiak': 24975, 'appetizing': 24976, 'sefton': 24977, '200m': 24978, 'lees': 24979, 'sjeez': 24980, 'slecht': 24981, 'd3ff': 24982, 'babyfather': 24983, 'gemstar': 24984, 'phuture': 24985, 'munderday': 24986, 'umma': 24987, 'pockets': 24988, 'delcious': 24989, 'yourselff': 24990, 'vomiting': 24991, 'sniffly': 24992, 'mimicking': 24993, 'sentiment': 24994, 'differences': 24995, 'b3': 24996, 'coward': 24997, 'racin': 24998, '3500': 24999, 'quickpwn': 25000, '0b5': 25001, 'oyay': 25002, 'rbi': 25003, 'schooled': 25004, '060': 25005, 'inr': 25006, 'dislocated': 25007, 'empanada': 25008, 'tequeï¿½os': 25009, 'venezuelan': 25010, 'threatens': 25011, 'throws': 25012, 'hmmp': 25013, 'rovin': 25014, 'vile': 25015, 'zzzzzzzzzzzzzzz': 25016, 'curtains': 25017, 'retained': 25018, 'shortened': 25019, 'lasagne': 25020, 'lapity': 25021, 'topity': 25022, 'owwie': 25023, 'awayz': 25024, 'irratated': 25025, 'recepies': 25026, 'cayuga': 25027, 'fusterated': 25028, 'orthodontisssttt': 25029, 'microsize': 25030, 'jude': 25031, 'walletpop': 25032, 'unbroke': 25033, 'premieres': 25034, 'sooper': 25035, 'dooper': 25036, 'bharia': 25037, 'dhumchik': 25038, 'murdere': 25039, 'brokt': 25040, 'nvrmind': 25041, 'evaluation': 25042, 'tutees': 25043, 'aloof': 25044, 'condescending': 25045, 'mascara': 25046, 'abouts': 25047, 'somehting': 25048, 'suk': 25049, 'enevitable': 25050, 'warmly': 25051, 'vampires': 25052, 'ure': 25053, 'stuffit': 25054, 'snicker': 25055, 'sleeeeepy': 25056, 'ababa': 25057, 'relaying': 25058, 'vermeer': 25059, 'cancuks': 25060, 'arbitrarily': 25061, 'severely': 25062, 'nonstandardized': 25063, 'overrr': 25064, 'goodbey': 25065, 'pressents': 25066, 'cwpm': 25067, 'kegging': 25068, 'jimmys': 25069, 'tweens': 25070, 'twello': 25071, 'foodie': 25072, 'awee': 25073, 'freds': 25074, 'forks': 25075, 'waldi': 25076, 'herts': 25077, 'bnl': 25078, 'reunite': 25079, 'odds': 25080, 'helena': 25081, 'cantab': 25082, 'greatful': 25083, 'pbp': 25084, 'bpd': 25085, 'nipissing': 25086, 'sayid': 25087, 'maroon': 25088, 'zuccini': 25089, 'helooo': 25090, 'eran': 25091, 'tooooth': 25092, 'fkin': 25093, 'hmmpfff': 25094, 'sejaaaaa': 25095, 'beeeem': 25096, 'vindo': 25097, 'anjo': 25098, 'iflowers': 25099, 'armhole': 25100, 'whoopi': 25101, 'woolery': 25102, 'gaaay': 25103, 'chittypulga': 25104, 'sheeeeit': 25105, 'ella': 25106, 'rover': 25107, 'hardwood': 25108, 'honeyyyy': 25109, 'thornberrys': 25110, 'yanks': 25111, 'titties': 25112, 'novos': 25113, 'ï¿½timo': 25114, 'gaffigan': 25115, 'cher': 25116, 'whohoo': 25117, 'algonquin': 25118, 'separates': 25119, 'robber': 25120, 'finley': 25121, 'involve': 25122, 'upppppp': 25123, 'yrbook': 25124, 'evrything': 25125, 'mumps': 25126, 'ov': 25127, 'soonnn': 25128, 'alegre': 25129, 'fluffballthegodzilla': 25130, 'shrinking': 25131, 'hardcoded': 25132, '650mb': 25133, 'flonase': 25134, 'steroid': 25135, 'explored': 25136, 'balconies': 25137, 'kamikaze': 25138, 'psy': 25139, 'psy101': 25140, 'meantime': 25141, 'vacaville': 25142, 'spout': 25143, 'conversating': 25144, 'tarte': 25145, '2for1': 25146, 'russel': 25147, 'ponderland': 25148, 'otters': 25149, 'shineeeee': 25150, 'tenho': 25151, 'curso': 25152, 'drc': 25153, 'criminals': 25154, 'indiscrimate': 25155, 'keswick': 25156, 'mentaly': 25157, 'shitttttt': 25158, 'subside': 25159, 'seizures': 25160, 'niggling': 25161, 'clutters': 25162, 'stephs': 25163, 'shoved': 25164, 'watchd': 25165, 'pantech': 25166, 'mindless': 25167, 'walwal': 25168, 'tegan': 25169, 'funkey': 25170, 'xmlrpc': 25171, 'codeignite': 25172, 'output': 25173, 'zend': 25174, 'erica': 25175, 'thnkn': 25176, 'virtus': 25177, 'treviso': 25178, 'futurshow': 25179, 'forza': 25180, 'ragazzi': 25181, 'triplet': 25182, 'lyn': 25183, 'expires': 25184, 'ahve': 25185, 'unanticipated': 25186, 'cabo': 25187, 'reeces': 25188, 'bigtime': 25189, 'goslings': 25190, 'societe': 25191, 'generale': 25192, 'communitychannel': 25193, 'unfixable': 25194, 'dumps': 25195, 'hermine': 25196, 'sudetenland': 25197, 'refugee': 25198, '1948': 25199, 'ncp': 25200, 'swoobs': 25201, 'swass': 25202, 'unforunately': 25203, 'creche': 25204, 'canyon': 25205, 'fotc': 25206, 'sardines': 25207, 'pamphlet': 25208, 'voyage': 25209, 'mccarran': 25210, 'cyah': 25211, 'jalapeno': 25212, 'chaparros': 25213, 'dalï¿½ï¿½': 25214, 'facebookovï¿½': 25215, 'aplikace': 25216, 'hovno': 25217, 'theraflu': 25218, 'dbl': 25219, 'louisa': 25220, 'swizzy': 25221, 'livebox': 25222, 'viz': 25223, 'constraints': 25224, 'meadows': 25225, 'grandaddy': 25226, 'plumber': 25227, 'contd': 25228, 'scampi': 25229, 'vermouth': 25230, 'vacationing': 25231, 'resorting': 25232, 'willblok': 25233, 'retrorewind': 25234, 'sk8': 25235, 'skateprk': 25236, 'catchup': 25237, 'bids': 25238, 'manger': 25239, 'spencers': 25240, 'worthing': 25241, 'oiks': 25242, 'beggar': 25243, 'hermits': 25244, 'punters': 25245, 'suckkkk': 25246, 'tweeteramas': 25247, 'attacks': 25248, 'corky': 25249, 'sunfay': 25250, 'bande': 25251, 'hasde': 25252, 'engadget': 25253, 'resturants': 25254, 'yerba': 25255, 'need2learn': 25256, '1hour': 25257, 'lazzzzzzzzzzzzzzzy': 25258, 'msged': 25259, 'kawaii': 25260, 'attenition': 25261, 'affection': 25262, 'ipl': 25263, 'sandbox': 25264, 'objects': 25265, 'autoreturn': 25266, 'tweetilicious': 25267, 'wookei': 25268, 'bpm': 25269, 'brandwkshop': 25270, 'bedbury': 25271, 'emptying': 25272, 'motivating': 25273, 'viruses': 25274, 'enraptured': 25275, 'stickler': 25276, 'dpi': 25277, 'playn': 25278, 'liana': 25279, 'corber': 25280, 'moreover': 25281, 'wiaih': 25282, 'humbling': 25283, 'recuperating': 25284, 'interior': 25285, 'dubbo': 25286, 'rsl': 25287, 'mediatemple': 25288, 'fuckn': 25289, 'situational': 25290, 'anooyed': 25291, 'buch': 25292, 'topical': 25293, 'deprivation': 25294, 'sederhana': 25295, 'thingys': 25296, 'phaoloo': 25297, 'rele': 25298, 'lfpa': 25299, 'happeened': 25300, 'vaccuum': 25301, 'doucheeee': 25302, 'fishys': 25303, 'plis': 25304, 'dumugo': 25305, 'ilong': 25306, 'kaka': 25307, 'tweak': 25308, 'neighbourhood': 25309, 'helmuts': 25310, 'scootertechno': 25311, 'concentrated': 25312, 'choregoraphy': 25313, 'prbly': 25314, 'pickin': 25315, 'cranberries': 25316, 'inglewood': 25317, 'punkin': 25318, 'eldhose': 25319, 'barcamp': 25320, 'binny': 25321, 'yesterdayy': 25322, 'quotess': 25323, 'ethnicity': 25324, 'dueces': 25325, 'farming': 25326, 'banknorth': 25327, 'evacuating': 25328, 'ummmmm': 25329, 'mcalisters': 25330, 'shweeeeet': 25331, 'jvm': 25332, 'bello': 25333, 'vicki': 25334, 'roush': 25335, 'decisive': 25336, 'realllllllly': 25337, 'llike': 25338, 'messaged': 25339, 'haah': 25340, 'dolly': 25341, 'loling': 25342, 'grandaughter': 25343, 'witht': 25344, 't1i': 25345, 'etha': 25346, 'sens': 25347, 'matic': 25348, 'keypad': 25349, 'airforce': 25350, 'shtich': 25351, 'fragrances': 25352, 'chamomile': 25353, 'pardee': 25354, 'picturs': 25355, 'ocracoke': 25356, 'toodaayy': 25357, 'momol': 25358, 'ewwwy': 25359, 'temptingly': 25360, 'biddy': 25361, 'bops': 25362, 'answerer': 25363, 'southwest': 25364, 'preboard': 25365, 'marty': 25366, 'mcflyy': 25367, 'fernandez': 25368, 'dos': 25369, 'forsaken': 25370, 'jayem': 25371, 'b2b': 25372, 'retain': 25373, 'seshion': 25374, 'arrands': 25375, 'retquestin': 25376, 'beto': 25377, 'pizzeria': 25378, 'banksville': 25379, 'beachview': 25380, 'sunnny': 25381, 'lotta': 25382, 'precip': 25383, 'stonehenge': 25384, 'remmber': 25385, 'fowers': 25386, 'absoute': 25387, 'wrinkles': 25388, 'sig': 25389, 'phoning': 25390, 'irritating': 25391, 'component': 25392, 'cables': 25393, 'ps2': 25394, 'fes': 25395, 'deployed': 25396, 'breastfeeding': 25397, 'com125': 25398, 'feliza': 25399, 'phoned': 25400, 'babyyy': 25401, 'programmes': 25402, 'adequately': 25403, 'ohnoyoudidnt': 25404, 'calc': 25405, 'masseuse': 25406, 'boredboots': 25407, 'soph': 25408, 'todayisaprosperous': 25409, 'thankujesus': 25410, 'beyeblessed': 25411, 'hoje': 25412, '89fm': 25413, 'quero': 25414, 'atravï¿½s': 25415, 'sinner': 25416, 'femme': 25417, 'fatale': 25418, 'photographers': 25419, 'superstars': 25420, 'inconvenience': 25421, 'notthebest': 25422, 'memorizing': 25423, '20somethin': 25424, 'batteis': 25425, 'soll': 25426, 'reeaaalllly': 25427, 'dsaa09': 25428, 'twomey': 25429, 'icann': 25430, 'ughhhhhh': 25431, 'caliber': 25432, 'symphonycms': 25433, 'barets': 25434, 'underpriveledged': 25435, 'unhooking': 25436, 'brum': 25437, 'losses': 25438, 'yipe': 25439, 'gosforth': 25440, 'antony': 25441, 'johnsons': 25442, 'jamaica': 25443, 'lve': 25444, 'seeen': 25445, 'vips': 25446, 'subponea': 25447, 'avatarcamp': 25448, 'aaaaaaaaaahhhhhhhh': 25449, 'brrrrrr': 25450, 'bps': 25451, 'optimism': 25452, 'piyaaa': 25453, 'noteboook': 25454, 'huwwts': 25455, 'tet': 25456, 'marwell': 25457, 'clingy': 25458, 'poool': 25459, 'gerald': 25460, 'representing': 25461, 'tweeeet': 25462, 'cassoulet': 25463, 'buble': 25464, 'meca': 25465, 'milonzzi': 25466, 'godddd': 25467, 'coughed': 25468, 'shivshankar': 25469, 'heared': 25470, 'dollarama': 25471, 'stumbling': 25472, 'deathfic': 25473, 'pts': 25474, 'vita': 25475, 'magnetism': 25476, 'equilibrium': 25477, 'alcoholics': 25478, 'monumental': 25479, 'promiscuous': 25480, 'suppoort': 25481, 'appeals': 25482, 'peruvian': 25483, 'exhaust': 25484, 'a1': 25485, 'moe': 25486, 'stomme': 25487, 'banken': 25488, 'poof': 25489, 'blade': 25490, 'mooooooooornin': 25491, 'showstopping': 25492, 'mmmmmmm': 25493, 'efficiently': 25494, 'richelle': 25495, 'succubus': 25496, 'albany': 25497, 'spaceports': 25498, 'bulldogs': 25499, 'fattyyy': 25500, 'phogs': 25501, 'iiight': 25502, 'yellowish': 25503, 'orangeish': 25504, 'brownish': 25505, 'grrrreat': 25506, 'luau': 25507, 'highers': 25508, '45xy': 25509, '54pq': 25510, 'ml': 25511, 'haaha': 25512, 'psalm': 25513, 'tuning': 25514, 'raising': 25515, 'handz': 25516, 'inshalla': 25517, 'devo': 25518, 'astor': 25519, 'mediterenean': 25520, 'shannen': 25521, 'dokay': 25522, 'sorrrrrryyy': 25523, 'awwwwweeee': 25524, 'ravels': 25525, 'elmwood': 25526, '2345': 25527, 'organ': 25528, 'ejamming': 25529, 'scabs': 25530, 'ffancy': 25531, 'vineri': 25532, 'nimic': 25533, 'probabil': 25534, 'pierdut': 25535, 'medisoft': 25536, 'traceycakes': 25537, 'pridelines': 25538, 'osn': 25539, 'hawain': 25540, 'thowing': 25541, 'fraktastic': 25542, 'zoidberg': 25543, 'purate': 25544, 'mercure': 25545, 'mariana': 25546, 'cassone': 25547, 'promoted': 25548, 'klum': 25549, 'suuuuck': 25550, 'vacines': 25551, 'scrubbing': 25552, 'kaila': 25553, 'ocampo': 25554, 'rainbowholic': 25555, 'nontweetinggirlfriend': 25556, 'tada': 25557, 'fragrance': 25558, 'braiding': 25559, 'esplained': 25560, 'sneers': 25561, 'portal': 25562, 'beinnale': 25563, 'tisha': 25564, 'blehckk': 25565, 'pepo': 25566, 'reflecting': 25567, 'tassi': 25568, 'tined': 25569, 'moisturiser': 25570, 'glossary': 25571, 'smartcar': 25572, 'lke': 25573, 'breasticles': 25574, 'recyle': 25575, 'recycle': 25576, '55am': 25577, 'unravel': 25578, 'harrassed': 25579, 'burgen': 25580, 'inboxes': 25581, 'kthanks': 25582, 'uprooted': 25583, 'westcott': 25584, 'apollo': 25585, 'rmbr': 25586, 'torned': 25587, 'sentosa': 25588, 'facts': 25589, 'eliminating': 25590, 'bludgers': 25591, 'beaters': 25592, 'tackling': 25593, 'quidditch': 25594, 'twittin': 25595, 'lays': 25596, 'backaches': 25597, 'bej': 25598, 'semanggi': 25599, 'siggghh': 25600, 'tude': 25601, 'scoreless': 25602, 'poynter': 25603, 'misshimalready': 25604, 'streching': 25605, '10mm': 25606, 'raiding': 25607, 'rene': 25608, 'psycho': 25609, 'cple': 25610, '86': 25611, 'degr': 25612, 'clockkk': 25613, 'melrose': 25614, 'registrar': 25615, 'unfun': 25616, 'tomorah': 25617, 'gratification': 25618, 'shardup': 25619, 'admeeet': 25620, 'pengen': 25621, 'nonton': 25622, 'friens': 25623, 'prost': 25624, 'kemang': 25625, 'besok': 25626, 'tapi': 25627, 'bisaaaaaaaaaa': 25628, 'flygroups': 25629, 'sicken': 25630, 'rocstar': 25631, 'shopiing': 25632, 'frehleyfriday': 25633, 'manually': 25634, 'oooiifull': 25635, 'mp4': 25636, 'talkers': 25637, 'banter': 25638, 'skus': 25639, 'wishful': 25640, 'chains': 25641, 'briefing': 25642, 'flashcamp': 25643, 'awesomerer': 25644, 'gardener': 25645, 'trimmed': 25646, 'greentea': 25647, 'shiyet': 25648, 'umulan': 25649, 'alenka': 25650, 'chicky': 25651, 'edaust09': 25652, 'menlo': 25653, 'mommasss': 25654, 'tweetcannon': 25655, 'aquestion': 25656, 'plese': 25657, 'thriller': 25658, 'doooooo': 25659, 'greeattt': 25660, 'quitter': 25661, 'edea': 25662, 'tickettttt': 25663, 'reason346': 25664, 'midol': 25665, 'offramp': 25666, 'suspects': 25667, 'forgottenmost': 25668, 'airco': 25669, 'backz': 25670, 'ferdinand': 25671, 'usaa': 25672, 'sistas': 25673, 'stitched': 25674, 'bleeds': 25675, 'junction': 25676, 'ollies': 25677, 'vague': 25678, 'popper': 25679, 'bowie': 25680, 'alyanna': 25681, 'bondoc': 25682, 'cesar': 25683, 'sosa': 25684, 'youknowimsofreshtilldeath': 25685, 'stepsister': 25686, 'annoyingly': 25687, 'oyy': 25688, 'geas': 25689, '115': 25690, 'armour': 25691, 'omds': 25692, 'rz': 25693, 'applebees': 25694, 'fluidity': 25695, 'golfers': 25696, 'chabibi': 25697, 'friendlyand': 25698, 'grillz': 25699, 'plaque': 25700, 'twappy': 25701, 'mpp': 25702, 'teetotaler': 25703, 'waupoos': 25704, 'horseforth': 25705, 'blouse': 25706, 'janitor': 25707, 'smokinggg': 25708, 'saaad': 25709, 'ultimately': 25710, 'lmï¿½ï¿½oï¿½o': 25711, 'pixar': 25712, '2jobs': 25713, 'didja': 25714, 'cancellations': 25715, 'sympathize': 25716, 'overstressed': 25717, 'chocolateeee': 25718, 'tenner': 25719, 'minniapolis': 25720, 'glade': 25721, 'debian': 25722, 'fern': 25723, 'reaaaally': 25724, 'vicente': 25725, 'nickelback': 25726, 'hfw': 25727, '10min': 25728, 'wrrkk': 25729, 'connectivity': 25730, 'seafoods': 25731, 'dangness': 25732, 'elements': 25733, 'wooot': 25734, 'aasman': 25735, 'paar': 25736, 'shaayad': 25737, 'lemons': 25738, 'produces': 25739, 'krush': 25740, 'mishaneedschapstick': 25741, 'hennesseyblack': 25742, 'matalatine': 25743, 'redirlanda': 25744, 'letï¿½s': 25745, 'irlanda': 25746, 'ahi': 25747, 'ohtays': 25748, 'emc': 25749, 'corsen': 25750, 'seeker': 25751, 'comanche': 25752, 'puff': 25753, 'irwin': 25754, 'softer': 25755, 'brownout': 25756, 'corazonsito': 25757, 'tiene': 25758, 'frio': 25759, 'goingg': 25760, 'thatd': 25761, 'cov': 25762, 'nutmeg': 25763, 'chutti': 25764, 'lifespan': 25765, 'eagerly': 25766, 'renowned': 25767, 'tonked': 25768, 'torch': 25769, 'pentagram': 25770, 'tweeterizing': 25771, 'torts': 25772, 'southside': 25773, 'anywayz': 25774, 'pleasantly': 25775, 'thï¿½ch': 25776, 'dï¿½n': 25777, 'cathy': 25778, 'ordinarily': 25779, 'positivly': 25780, 'whoishonorsociety': 25781, 'scheme': 25782, 'goderich': 25783, 'twitip': 25784, 'responsibly': 25785, 'foodland': 25786, 'weaned': 25787, 'paloma': 25788, 'blanca': 25789, 'phillll': 25790, 'wazzuppppp': 25791, 'extenders': 25792, 'reactionaries': 25793, 'pare': 25794, 'bangbang': 25795, 'conaway': 25796, 'kenickie': 25797, 'idgaf': 25798, 'oklahomaaaaa': 25799, 'bmfing': 25800, 'spesh': 25801, 'disorganized': 25802, 'uniforms': 25803, 'iwish': 25804, 'letterman': 25805, 'dow': 25806, 'futures': 25807, 'boofy': 25808, 'extensions': 25809, 'prettty': 25810, 'daaaaaancing': 25811, 'investigating': 25812, 'pajamas': 25813, 'causin': 25814, 'garrett': 25815, 'deforestation': 25816, 'arch': 25817, 'mvcc': 25818, 'cad': 25819, 'dominic': 25820, 'monaghan': 25821, 'aaaagh': 25822, 'aircon': 25823, 'notgiving': 25824, 'ruthie': 25825, 'flashed': 25826, 'ridic': 25827, 'percocet': 25828, 'rubiks': 25829, 'carefully': 25830, 'shaycarl': 25831, 'provolone': 25832, 'beefsteak': 25833, 'drawers': 25834, 'sacrificing': 25835, 'vail': 25836, 'snowing': 25837, 'confermation': 25838, 'hoovered': 25839, 'out2': 25840, 'aust': 25841, 'eekkk': 25842, 'nare': 25843, 'nightall': 25844, 'decongestant': 25845, 'requires': 25846, 'outzen': 25847, 'swimmin': 25848, 'wov': 25849, 'craaaap': 25850, 'iat': 25851, 'rivercenter': 25852, 'scanlon': 25853, 'hoarse': 25854, 'nogard': 25855, 'preorder': 25856, 'sphex': 25857, 'battlegrounds': 25858, 'battleground': 25859, 'tpc': 25860, 'bumbed': 25861, 'boogah': 25862, 'wheelchair': 25863, 'homebound': 25864, 'substitute': 25865, 'variation': 25866, 'fentanyl': 25867, 'morphin': 25868, 'havoc': 25869, 'averaged': 25870, 'uniteddogs': 25871, 'rebonded': 25872, 'chopping': 25873, 'cuil': 25874, 'biscuit': 25875, 'abbreviation': 25876, 'theem': 25877, 'anywayss': 25878, 'foodshopping': 25879, 'fuzzypuppy': 25880, 'weigly': 25881, 'gng': 25882, 'reinforce': 25883, 'skates': 25884, 'intolence': 25885, 'flolloping': 25886, 'describes': 25887, 'discourages': 25888, '4rom': 25889, 'trusty': 25890, 'wildly': 25891, 'ciber': 25892, 'sabip': 25893, '88th': 25894, 'authentic': 25895, 'raphael': 25896, 'saadiq': 25897, 'cyderrrrrrrrr': 25898, 'paddling': 25899, 'guerilla': 25900, 'dicking': 25901, 'spaz': 25902, 'dennis': 25903, 'leary': 25904, 'squirels': 25905, 'jesska': 25906, 'chewy': 25907, 'tudyk': 25908, 'applause': 25909, 'twitch': 25910, 'rollercoaster': 25911, 'oks': 25912, 'n00b': 25913, 'ballistic': 25914, 'autistics': 25915, 'dinnerr': 25916, 'cominging': 25917, 'insult': 25918, 'strek': 25919, 'abp': 25920, 'froyo': 25921, 'framed': 25922, 'valentino': 25923, 'rossi': 25924, 'yiiiit': 25925, 'certian': 25926, 'fij': 25927, 'involuntary': 25928, 'emanating': 25929, 'highs': 25930, 'murderous': 25931, 'rampages': 25932, 'foll0w': 25933, 'friidays': 25934, 'f0llowers': 25935, 'stephane': 25936, 'applicants': 25937, 'yayyyyyyy': 25938, 'flattie': 25939, 'petite': 25940, 'puce': 25941, 'adica': 25942, 'puricel': 25943, 'franceza': 25944, 'grrrrrrrrrrrrrrrrrrrrrrrr': 25945, 'counseling': 25946, 'farrah': 25947, 'hemp': 25948, 'peers': 25949, 'higgins': 25950, 'nocturnals': 25951, 'pollster': 25952, 'identification': 25953, 'republican': 25954, 'src': 25955, 'jbii': 25956, 'bh2': 25957, 'nag': 25958, 'norf': 25959, 'int': 25960, 'underpaid': 25961, 'glassez': 25962, 'shootout': 25963, '56pm': 25964, '805': 25965, 'noooooooooo': 25966, 'parrents': 25967, 'studentfinance': 25968, 'genious': 25969, 'marra': 25970, 'ecxcited': 25971, 'annabel': 25972, 'augusten': 25973, 'burrough': 25974, 'sleepppppppp': 25975, 'unrelated': 25976, 'afro': 25977, 'capitan': 25978, 'mourn': 25979, 'deathstar': 25980, 'enterprice': 25981, 'herded': 25982, 'snï¿½ff': 25983, 'sarrah': 25984, 'facetious': 25985, 'arrg': 25986, 'waxing': 25987, 'mustache': 25988, 'twitterology': 25989, 'extracted': 25990, 'oddly': 25991, 'chrystina': 25992, 'henning': 25993, 'dinno': 25994, 'swiped': 25995, 'dirrrrrty': 25996, 'longshot': 25997, 'chocky': 25998, 'dirtiness': 25999, 'streetcar': 26000, 'wp': 26001, 'tittle': 26002, 'springwatch': 26003, 'barbacoa': 26004, 'anymoree': 26005, 'soreeeee': 26006, 'throattttttt': 26007, 'sxxxx': 26008, 'geared': 26009, 'xbox360': 26010, 'turk': 26011, 'garth': 26012, 'ermintrude': 26013, 'nabbed': 26014, 'realx': 26015, 'splash': 26016, 'suprise': 26017, '60th': 26018, 'admission': 26019, 'totalling': 26020, 'provision': 26021, 'embroidery': 26022, 'lovesick': 26023, 'czerina': 26024, 'shoper': 26025, 'disclaimer': 26026, 'heyyyyyyyyyyy': 26027, 'cures': 26028, 'interupted': 26029, 'hammers': 26030, 'intil': 26031, 'thougth': 26032, 'villa': 26033, 'jurong': 26034, 'hoh': 26035, 'dosh': 26036, 'reegie': 26037, 'compiled': 26038, 'companys': 26039, 'twenty20': 26040, 'hahhh': 26041, 'lacks': 26042, 'porch': 26043, 'otherdad': 26044, 'sharkboy': 26045, 'bcuz': 26046, 'howdy': 26047, 'ental': 26048, 'fren': 26049, 'toris': 26050, 'curiosity': 26051, 'shey': 26052, 'niqhty': 26053, 'toqether': 26054, 'tynisha': 26055, 'keli': 26056, 'ight': 26057, 'visually': 26058, 'impaired': 26059, '51p': 26060, 'songgoeswrongs': 26061, 'trialing': 26062, 'screeching': 26063, 'todat': 26064, 'ashy': 26065, 'elbows': 26066, 'middlesbrough': 26067, 'genevaaa': 26068, 'sexify': 26069, 'bribe': 26070, 'tiki': 26071, 'ideapad': 26072, 's12': 26073, 'fn': 26074, 'starter': 26075, 'eastgardens': 26076, 'jumpy': 26077, 'chief': 26078, 'whoore': 26079, 'harding': 26080, 'powershell': 26081, 'aims': 26082, 'negotiation': 26083, 'tubey': 26084, 'thugh': 26085, 'dmp': 26086, '28deg': 26087, 'footie': 26088, 'payments': 26089, 'pasy': 26090, '2888mo': 26091, 'plantin': 26092, 'soil': 26093, 'noko': 26094, 'waht': 26095, 'hugz': 26096, 'wasstraat': 26097, 'reporter': 26098, 'nar': 26099, 'yuppie': 26100, 'sunbae': 26101, 'perfs': 26102, 'milles': 26103, 'blighty': 26104, 'bahhhh': 26105, 'kaashoek': 26106, 'unisys': 26107, 'doculabs': 26108, 'funfunfun': 26109, 'itto': 26110, 'doodles': 26111, 'finishin': 26112, 'jdoramas': 26113, 'lilly': 26114, 'imissu': 26115, 'happyslip': 26116, 'nikmis': 26117, 'wcf': 26118, 'docx': 26119, 'molyneux': 26120, 'barcampbkk3': 26121, 'mp3s': 26122, 'bead': 26123, 'crumb': 26124, 'navigation': 26125, 'pkuers': 26126, 'leukemia': 26127, 'pracc': 26128, 'delicacies': 26129, 'koons': 26130, 'feening': 26131, 'biiip': 26132, 'ooommmmggggg': 26133, 'layoff': 26134, 'qlad': 26135, 'vacashun': 26136, 'onscreen': 26137, 'sigma': 26138, 'breakingg': 26139, 'buliding': 26140, 'nauseas': 26141, 'dte': 26142, 'customized': 26143, 'wooohooo': 26144, '250k': 26145, 'todaay': 26146, 'varnish': 26147, 'eyelids': 26148, 'uv': 26149, 'iter': 26150, 'reactor': 26151, '2025': 26152, 'zombiepix': 26153, 'turbo': 26154, 'maint': 26155, 'provence': 26156, 'dasit': 26157, 'pratice': 26158, 'squats': 26159, 'dvd9': 26160, 'stoooopit': 26161, 'stooopit': 26162, 'rendition': 26163, 'mmmk': 26164, 'clydesdale': 26165, 'hotshot': 26166, 'cheshire': 26167, 'imperials': 26168, 'coffeee': 26169, 'sleppytime': 26170, 'dix': 26171, 'geeez': 26172, 'edelcries': 26173, 'rackers': 26174, 'pianos': 26175, 'commented': 26176, 'butteflies': 26177, 'yun': 26178, 'likeing': 26179, 'iamkiara': 26180, 'stead': 26181, 'blancmange': 26182, 'sorority': 26183, 'terrance': 26184, 'summerr': 26185, 'babyyyy': 26186, 'incident': 26187, 'sobby': 26188, 'foooood': 26189, 'reduculous': 26190, 'mmkayy': 26191, 'viennoziimiigi': 26192, 'lizard': 26193, 'beeman': 26194, 'commentaries': 26195, 'bankrupt': 26196, 'aztex': 26197, 'slpy': 26198, 'saddenning': 26199, 'dullful': 26200, 'armani': 26201, 'pantone': 26202, '109': 26203, '4ish': 26204, 'heelllll': 26205, 'exsplain': 26206, 'alriiightt': 26207, 'straightened': 26208, 'alma': 26209, 'kiran': 26210, 'minutos': 26211, 'ratt': 26212, 'pearcy': 26213, 'improvement': 26214, 'dezign': 26215, 'nooooothing': 26216, 'bwm': 26217, 'levi': 26218, 'blatantly': 26219, 'bwahahahahahaha': 26220, 'gooseberry': 26221, '8weeks': 26222, 'skyguard': 26223, 'tabard': 26224, 'innings': 26225, 'sweared': 26226, 'cakin': 26227, 'homebirth': 26228, 'moot': 26229, 'azeroth': 26230, 'endulging': 26231, '1km': 26232, 'decoupling': 26233, 'skoo': 26234, 'jdubb': 26235, 'rusks': 26236, 'fennel': 26237, 'camomile': 26238, 'biotch': 26239, 'laundering': 26240, 'constructed': 26241, 'dabbling': 26242, 'intros': 26243, 'eeyea': 26244, 'brera': 26245, 'lilmarshmellows': 26246, 'destrey': 26247, 'clang': 26248, 'gcc': 26249, 'bossy': 26250, 'parrrtty': 26251, 'twister': 26252, 'unconditional': 26253, 'kkkkkkk': 26254, 'bullschitt': 26255, 'snitchsneeker': 26256, 'connolly': 26257, 'luks': 26258, 'tww': 26259, 'symbolism': 26260, 'paiseh': 26261, 'painthing': 26262, 'oooooooooook': 26263, 'aproveche': 26264, 'cancion': 26265, 'esta': 26266, 'witless': 26267, 'kiera': 26268, 'tatiiiii': 26269, 'enjoyment': 26270, 'biatches': 26271, 'soccergame': 26272, 'megaman': 26273, 'capcom': 26274, 'enix': 26275, 'desist': 26276, 'woeiwoeiwoei': 26277, 'indexed': 26278, 'unload': 26279, 'anticipate': 26280, 'ccrying': 26281, 'journaling': 26282, 'pung': 26283, 'dobby': 26284, 'gettn': 26285, 'whoeva': 26286, 'rainboots': 26287, 'cofee': 26288, 'payingitforward': 26289, 'beautyy': 26290, 'tart': 26291, 'broked': 26292, '9412tr': 26293, 'smudge': 26294, 'malicious': 26295, 'smuggle': 26296, 'eternity': 26297, 'sata': 26298, 'ncq': 26299, '32mb': 26300, 'seams': 26301, 'unexpectedly': 26302, 'eraser': 26303, 'babydoll': 26304, 'flows': 26305, '7mth': 26306, 'syringe': 26307, 'paddle': 26308, 'inconclusive': 26309, 'aila': 26310, 'cyclone': 26311, 'sunshade': 26312, 'haiti': 26313, 'clutch': 26314, 'retainer': 26315, 'wildomar': 26316, 'towing': 26317, 'drom': 26318, 'gh3': 26319, 'oome': 26320, 'muck': 26321, 'jconsole': 26322, 'amigo': 26323, 'ittttt': 26324, 'intentions': 26325, 'minday': 26326, 'ree': 26327, 'heally': 26328, 'pwnd': 26329, 'ngobrolin': 26330, 'cii': 26331, 'kesian': 26332, 'kamu': 26333, 'speakernya': 26334, 'rusak': 26335, 'benerin': 26336, 'inoo': 26337, '79': 26338, 'heyyyyyyyyyyyyyya': 26339, 'rda2009cla': 26340, 'entities': 26341, 'cataloguing': 26342, 'rda': 26343, 'eeepc': 26344, 'slug': 26345, 'blogsite': 26346, 'feta': 26347, 'por': 26348, 'nicklaus': 26349, 'snatch': 26350, 'hardy': 26351, 'hurley': 26352, 'undervote': 26353, 'overalled': 26354, 'grain': 26355, 'ballarat': 26356, 'garys': 26357, 'bloooooows': 26358, 'sssnoring': 26359, 'doa': 26360, 'vm': 26361, 'misaligned': 26362, 'aaaahhhh': 26363, 'gilty': 26364, 'beover': 26365, 'candice': 26366, 'donbt': 26367, 'celli': 26368, 'boagsie': 26369, '445am': 26370, 'zydrate': 26371, 'reiki': 26372, 'macedonia': 26373, 'all4web': 26374, 'blackberryless': 26375, 'angeles': 26376, 'ealing': 26377, 'flattt': 26378, 'skimming': 26379, 'personalize': 26380, 'yhere': 26381, 'sloanster': 26382, 'tunsia': 26383, 'hereditary': 26384, 'communal': 26385, 'beggin': 26386, 'resurrect': 26387, 'weighed': 26388, 'preggo': 26389, 'mckinney': 26390, 'actially': 26391, 'peepin': 26392, 'longoria': 26393, 'webc': 26394, 'neaby': 26395, 'weekeeend': 26396, 'majorca': 26397, 'faillllllllll': 26398, 'teflon': 26399, 'whisky': 26400, 'toniiiite': 26401, 'arggh': 26402, '2daii': 26403, 'sunbathed': 26404, 'daii': 26405, 'humpthestump': 26406, 'mkay': 26407, 'bfgurelgbsr': 26408, 'qualifies': 26409, 'thunk': 26410, 'shootings': 26411, 'posit': 26412, 'softees': 26413, 'spec': 26414, 'kaching': 26415, 'wokking': 26416, 'diviated': 26417, 'zaaaa': 26418, 'bevvies': 26419, 'wombat': 26420, 'tamara': 26421, 'lif': 26422, 'luk': 26423, 'behaviour': 26424, 'admiration': 26425, 'zipz': 26426, 'orralle': 26427, 'aba': 26428, 'asd': 26429, 'autism': 26430, 'intervene': 26431, 'pleaseeeeeeeeeee': 26432, 'beths': 26433, 'unperfect': 26434, 'laught': 26435, 'beta1': 26436, 'ent': 26437, 'yon': 26438, 'walgreens': 26439, 'elevators': 26440, 'impecible': 26441, 'lyke': 26442, 'shingle': 26443, 'mayyyybe': 26444, 'spender': 26445, 'allmothers': 26446, 'wlcome': 26447, 'invisibleshield': 26448, 'starss': 26449, 'jiberish': 26450, 'k4ge': 26451, 'citipointe': 26452, 'argghhh': 26453, 'wonderfullll': 26454, 'ppooool': 26455, 'floatiez': 26456, 'manilow': 26457, 'smovie': 26458, 'praline': 26459, 'b2k': 26460, 'ivealwayswantedtosay': 26461, 'moonying': 26462, 'sprinkle': 26463, 'thash': 26464, '9000': 26465, 'smr': 26466, 'editions': 26467, 'restarting': 26468, 'mariners': 26469, 'cis': 26470, 'peeple': 26471, 'etown': 26472, 'aiyo': 26473, 'nevrmine': 26474, 'interlock': 26475, 'bette': 26476, 'afflicted': 26477, 'ushers': 26478, 'todayh': 26479, 'accompany': 26480, 'ventana': 26481, 'cielos': 26482, 'grumpies': 26483, 'brazilians': 26484, 'dammm': 26485, 'lollllll': 26486, 'sama': 26487, 'goodnights': 26488, 'cancerfree': 26489, 'carolyn': 26490, 'sumfink': 26491, 'owwwwwwwwwwwww': 26492, 'tgc': 26493, 'communifuckingcation': 26494, 'marg': 26495, 'gambling': 26496, 'broompark': 26497, 'jenson': 26498, 'munched': 26499, 'supertramp': 26500, 'thepet': 26501, '15pm': 26502, 'tightened': 26503, 'fuckingtastic': 26504, 'tapit': 26505, 'e446wwhllyar': 26506, 'tk3h6694prmp': 26507, '9r46tahxefkt': 26508, 'uninteresting': 26509, 'yummylicious': 26510, 'aswered': 26511, 'ï¿½14': 26512, 'honeypot': 26513, 'yus': 26514, 'shortening': 26515, 'scouts': 26516, 'rethinking': 26517, 'lovecraftian': 26518, 'adoarble': 26519, 'godamn': 26520, 'countering': 26521, 'tit': 26522, 'hmmmmm': 26523, 'worshipper': 26524, 'schack': 26525, 'firepit': 26526, 'pomona': 26527, 'orals': 26528, 'sufka': 26529, 'suckss': 26530, 'cuzzo': 26531, 'vivi': 26532, 'granada': 26533, 'unsurprised': 26534, 'annalisa': 26535, 'airmatras': 26536, 'tweete': 26537, 'milo': 26538, 'ensures': 26539, 'timely': 26540, 'productnamingrulez': 26541, 'heyyyy': 26542, 'vacum': 26543, 'travelled': 26544, 'genoese': 26545, 'frak': 26546, 'dorian': 26547, 'wilde': 26548, 'ffa': 26549, 'wonï¿½t': 26550, 'nb': 26551, 'scalpers': 26552, 'morons': 26553, 'cbd': 26554, 'mtub': 26555, 'cmon': 26556, 'geoggers': 26557, 'dooood': 26558, 'jleno': 26559, 'jewellry': 26560, 'dressssss': 26561, 'happenning': 26562, 'darnitt': 26563, 'slimy': 26564, 'rivals': 26565, 'krn': 26566, 'mitzy': 26567, 'baru': 26568, 'ber': 26569, 'jg': 26570, 'nit': 26571, 'salvem': 26572, 'counteract': 26573, 'osu': 26574, 'ath': 26575, 'trng': 26576, 'rcption': 26577, 'sware': 26578, 'abies': 26579, 'perrrfect': 26580, 'alignment': 26581, 'cajun': 26582, 'budgeting': 26583, 'morniiing': 26584, 'cereales': 26585, 'blg': 26586, 'diggg': 26587, 'easties': 26588, 'euggh': 26589, 'presiding': 26590, 'amigui': 26591, 'duhhhhhh': 26592, 'jerms': 26593, 'contractions': 26594, 'tiggerk': 26595, 'showroom': 26596, 'lamps': 26597, 'oster': 26598, 'alltel': 26599, 'shaked': 26600, 'fists': 26601, 'wacha': 26602, 'jagex': 26603, 'ubook': 26604, 't400': 26605, 'beg': 26606, 'pleeeeeeeassseeeeeee': 26607, 'tei': 26608, 'sency': 26609, 'ghina': 26610, 'comeeee': 26611, 'shannii': 26612, 'heyahh': 26613, 'wern': 26614, 'cumin': 26615, 'taylorr': 26616, 'freelesson': 26617, 'freistunde': 26618, 'sweetpea': 26619, 'oversized': 26620, 'brokey': 26621, 'artoo': 26622, 'invisalign': 26623, 'refitted': 26624, 'flourescents': 26625, 'peely': 26626, 'hideous': 26627, 'anchor': 26628, 'paperweight': 26629, 'shorry': 26630, 'bebeh': 26631, 'okeh': 26632, 'snot': 26633, 'breakfasted': 26634, 'constitution': 26635, 'gbw': 26636, 'noob': 26637, 'grandrapids': 26638, 'aaaau': 26639, 'forgiveme': 26640, 'apologise': 26641, 'deccy': 26642, 'portableapps': 26643, 'installs': 26644, 'josette': 26645, 'kho': 26646, 'smartcard': 26647, 'crazily': 26648, 'redi': 26649, 'ratatat': 26650, 'regional': 26651, 'cmt': 26652, 'grandbabies': 26653, 'infant': 26654, 'sumtimes': 26655, 'moderators': 26656, 'niandra': 26657, 'meteor': 26658, 'omr': 26659, 'lhr': 26660, '911': 26661, 'leeloo': 26662, 'rebellion': 26663, 'gaeta': 26664, 'ducked': 26665, 'blurgh': 26666, 'isay': 26667, 'kamusta': 26668, 'bulacan': 26669, 'gimmick': 26670, 'luckiest': 26671, '4eva': 26672, 'nï¿½mme': 26673, 'telescopic': 26674, 'poles': 26675, 'coolmax': 26676, 'horrified': 26677, 'weep': 26678, 'marbled': 26679, 'hernia': 26680, 'agressive': 26681, 'lei': 26682, 'chilliin': 26683, 'schoolwork': 26684, 'intelligence': 26685, 'refactor': 26686, 'wx': 26687, 'bwi': 26688, 'vines': 26689, 'updatd': 26690, 'elisa': 26691, 'ise': 26692, 'shelane': 26693, 'rainstorm': 26694, 'droids': 26695, 'cohen': 26696, 'xfactor': 26697, 'buisiness': 26698, 'cheeseburglar': 26699, 'lionel': 26700, 'ull': 26701, '1000th': 26702, 'pansy': 26703, 'codeh': 26704, 'moustachio': 26705, 'daddio': 26706, 'riiidddddeeee': 26707, 'reefried': 26708, 'clownin': 26709, 'austen': 26710, 'northanger': 26711, 'bela': 26712, 'lugosi': 26713, 'apearance': 26714, 'outer': 26715, 'ypu': 26716, 'evenin': 26717, 'homskis': 26718, 'mortified': 26719, 'scientist': 26720, 'watership': 26721, 'tset': 26722, 'discharge': 26723, 'myyyyye': 26724, 'multiplayer': 26725, '20s': 26726, 'decidedly': 26727, 'iff': 26728, 'townn': 26729, 'shakin': 26730, 'officaly': 26731, 'scala': 26732, 'wingman': 26733, 'bmi': 26734, 'obesed': 26735, 'debby': 26736, 'virtua': 26737, 'tadpole': 26738, 'vendor': 26739, 'foisting': 26740, 'robertson': 26741, 'clashes': 26742, 'uswitch': 26743, 'leisure': 26744, 'viggo': 26745, 'perv': 26746, 'scrapped': 26747, 'bsnl': 26748, 'ewrt': 26749, 'hillcats': 26750, 'fairs': 26751, 'alllllllllllll': 26752, 'chichis': 26753, 'walah': 26754, 'hellen': 26755, 'tog': 26756, 'bwaha': 26757, 'shinnny': 26758, 'airplanes': 26759, 'focals': 26760, 'creditcard': 26761, 'mcphee': 26762, 'tulane': 26763, 'marly': 26764, 'chooool': 26765, 'sirs': 26766, 'scratchings': 26767, 'gh5': 26768, 'naglilihi': 26769, 'nicci': 26770, 'yoooouuuuu': 26771, 'llll': 26772, 'sssssseeeeeeee': 26773, 'wolfenstein': 26774, 'keren': 26775, 'depois': 26776, 'pode': 26777, 'outras': 26778, 'sï¿½ries': 26779, 'indico': 26780, 'diferentes': 26781, 'comï¿½dias': 26782, 'cofo': 26783, 'tweepsland': 26784, 'downwards': 26785, 'richgirl': 26786, 'masson': 26787, 'founder': 26788, 'agustin': 26789, 'neeeeeeeed': 26790, 'deland': 26791, 'motherss': 26792, 'babysitterdirectory': 26793, 'revealed': 26794, 'juhs': 26795, 'aphrodisiac': 26796, 'barbara': 26797, 'wets': 26798, 'arianna': 26799, 'ccï¿½s': 26800, 'premiers': 26801, 'hufff': 26802, 'worring': 26803, 'eqpmnts': 26804, 'eitha': 26805, 'instances': 26806, 'uminaa': 26807, 'loungey': 26808, 'pastel': 26809, '1e15': 26810, 'jmichelle': 26811, 'aghh': 26812, 'wowp': 26813, 'clicky': 26814, 'papermate': 26815, 'weheyyyy': 26816, 'midi': 26817, '10jaffa': 26818, 'phobias': 26819, 'avg': 26820, 'trackflashback': 26821, 'rearry': 26822, 'youd': 26823, 'shelton': 26824, 'mancandy': 26825, 'wooooooooooooooooooooooooooooooooooooooooooooooooooooooooooooooooooooooooooooooooooooooooooooooooooooooooooooo': 26826, 'felï¿½z': 26827, '60mins': 26828, 'nobigdeal': 26829, '280lbs': 26830, 'newo': 26831, 'workouts': 26832, 'inthebattle': 26833, 'ange': 26834, 'rotton': 26835, 'saaaaaaid': 26836, 'geje': 26837, 'dble': 26838, 'wussup': 26839, 'heahhh': 26840, 'kthxbai': 26841, 'hollykins': 26842, 'soproudofyou': 26843, 'calanques': 26844, 'bods': 26845, 'dons': 26846, 'packs': 26847, 'liter': 26848, '3pennie': 26849, 'amd': 26850, 'raning': 26851, 'anoher': 26852, 'bennington': 26853, 'wfd': 26854, 'crave': 26855, 'duuuude': 26856, 'sadshoes': 26857, 'chrysler': 26858, 'italians': 26859, 'oherr': 26860, 'cï¿½ch': 26861, 'banh': 26862, 'lï¿½ng': 26863, 'vï¿½ng': 26864, 'trong': 26865, 'phï¿½ng': 26866, '333333': 26867, 'pennywise': 26868, 'leav': 26869, 'secure': 26870, 'gustarï¿½': 26871, 'scorcher': 26872, 'tfarp': 26873, 'nods': 26874, 'freehugs': 26875, 'pretties': 26876, 'parece': 26877, 'personas': 26878, 'estan': 26879, 'acuerdo': 26880, 'koxpers': 26881, 'waaaave': 26882, 'stakc': 26883, 'signups': 26884, 'sightseeing': 26885, 'gaijin': 26886, 'godzilla': 26887, 'jobe': 26888, 'seeeeeeee': 26889, 'logins': 26890, 'compï¿½tition': 26891, 'montrï¿½al': 26892, 'beeeeen': 26893, 'paniniii': 26894, 'yyyyyyyyyoooooooooouuuuu': 26895, 'mummify': 26896, 'moronmonday': 26897, 'cenare': 26898, 'mismo': 26899, 'qe': 26900, 'rosher': 26901, 'wiii': 26902, 'keynote': 26903, 'screencastsonline': 26904, 'beardburk': 26905, '2people': 26906, 'perverts': 26907, 'abounds': 26908, 'tiss': 26909, 'timeframe': 26910, 'colab': 26911, 'remiss': 26912, 'devy': 26913, 'tracie': 26914, 'weaver': 26915, 'slowdowns': 26916, 'eaat': 26917, 'bugsssss': 26918, 'nowwwww': 26919, 'toasters': 26920, 'ooooover': 26921, 'oooover': 26922, 'ahhhhhhhhh': 26923, 'shredding': 26924, 'brewery': 26925, 'frankies': 26926, 'petit': 26927, 'financiers': 26928, 'guise': 26929, 'yd': 26930, 'artomatic': 26931, 'mandriva': 26932, 'gpt': 26933, 'finsih': 26934, 'canuckss': 26935, 'interact': 26936, 'omgggggggggg': 26937, 'phoneless': 26938, 'tiffany': 26939, 'butineedhelp': 26940, 'collab': 26941, 'alynn': 26942, 'loveyoufletch': 26943, 'pffftt': 26944, 'somethng': 26945, 'calms': 26946, 'cookers': 26947, 'tuuneee': 26948, 'influx': 26949, 'mqm': 26950, 'altaf': 26951, 'unveil': 26952, 'karachi': 26953, 'jkidding': 26954, 'edges': 26955, 'matthews': 26956, 'trimmer': 26957, 'sergi': 26958, 'warsaw': 26959, 'recharged': 26960, 'elegant': 26961, 'chuu': 26962, 'insomniaaaaaaa': 26963, 'harney': 26964, 'mcfonalds': 26965, 'mygrilled': 26966, 'wrkd': 26967, 'drift': 26968, 'twoloers': 26969, 'candlelight': 26970, 'ichigo': 26971, 'f3': 26972, 'louder': 26973, 'optimized': 26974, 'caching': 26975, 'deploy': 26976, 'gaha': 26977, 'blve': 26978, 'shuffles': 26979, 'pand': 26980, 'minnish': 26981, 'smiled': 26982, 'akankah': 26983, 'suatu': 26984, 'mendapatkannya': 26985, 'hostels': 26986, 'betos': 26987, 'alltop': 26988, 'loook': 26989, 'kung': 26990, 'amazecore': 26991, 'memo': 26992, 'officeus': 26993, '10c': 26994, 'skyped': 26995, 'totoro': 26996, 'infront': 26997, 'sexxxxxxxy': 26998, 'vibrators': 26999, 'testrun': 27000, 'invitaiton': 27001, 'mikes': 27002, 'greengoo': 27003, 'foreman': 27004, 'hale': 27005, 'grieco': 27006, 'imux1000': 27007, 'tapan': 27008, 'parikh': 27009, 'nairobi': 27010, 'mombasa': 27011, 'igbaras': 27012, 'kasa': 27013, 'ni99as': 27014, 'godda': 27015, 'shifty': 27016, 'laxative': 27017, 'tireed': 27018, 'dieu': 27019, 'dï¿½': 27020, 'ruddy': 27021, 'manageress': 27022, 'kean': 27023, 'cipriano': 27024, 'eesh': 27025, 'headeache': 27026, 'locket': 27027, 'zq': 27028, 'nigguhs': 27029, 'ilh': 27030, 'schneider': 27031, 'schoolï¿½': 27032, 'crapped': 27033, 'lentil': 27034, 'illinois': 27035, 'motorola': 27036, 'cara': 27037, 'moneyy': 27038, 'purrrty': 27039, 'clears': 27040, 'paychecks': 27041, 'moes': 27042, 'ee': 27043, 'minits': 27044, 'leff': 27045, 'laddie': 27046, 'beezy': 27047, 'thankus': 27048, 'hetzner': 27049, 'interspire': 27050, 'sendstudio': 27051, 'mymaths': 27052, 'tassie': 27053, 'moines': 27054, 'tdwp': 27055, 'cutlet': 27056, 'carthage': 27057, 'sperm': 27058, 'nailed': 27059, 'babez': 27060, 'annpyimg': 27061, 'pilots': 27062, 'moreton': 27063, 'stroppy': 27064, 'adobo': 27065, 'treck': 27066, 'batonrouge': 27067, 'maylene': 27068, 'heckitty': 27069, 'pple': 27070, 'larin': 27071, 'repect': 27072, 'dlp': 27073, 'gaahhhh': 27074, 'plansem': 27075, 'g4tv': 27076, 'cageball': 27077, 'afterjune': 27078, 'invent': 27079, 'competion': 27080, 'recognised': 27081, 'sweetpotatoe': 27082, 'seasalt': 27083, 'hysterics': 27084, 'yaas': 27085, 'slurred': 27086, 'astronomy': 27087, 'implement': 27088, 'aoe': 27089, 'ohi': 27090, 'pastrana': 27091, 'blagh': 27092, 'herrreeeee': 27093, 'prydz': 27094, 'stepmom': 27095, 'extinction': 27096, 'josey': 27097, 'omegle': 27098, 'versa': 27099, 'redbubble': 27100, 'thinker': 27101, 'favie': 27102, '518': 27103, 'longing': 27104, 'brrr': 27105, 'latvian': 27106, 'beaurocracy': 27107, 'resident': 27108, 'braille': 27109, 'farsi': 27110, 'karishmaa1': 27111, 'luvv': 27112, 'gonn': 27113, 'gaulers': 27114, 'injuries': 27115, 'southridge': 27116, 'wecloming': 27117, 'jbobsessed': 27118, 'bookface': 27119, 'creammm': 27120, 'tlc': 27121, 'alevel': 27122, 'blob': 27123, 'tentacles': 27124, 'savvv': 27125, 'tattered': 27126, 'listenening': 27127, 'lizlove': 27128, 'powermac': 27129, 'scarlet': 27130, 'eztv': 27131, 'hounslow': 27132, 'yoooouuuu': 27133, 'mhmhmh': 27134, 'heartwarming': 27135, 'workkkkkkkkkkkkkkkkk': 27136, 'bylaurenluke': 27137, 'posse': 27138, 'vacant': 27139, 'dynamic': 27140, 'yukky': 27141, 'knda': 27142, 'undeniable': 27143, 'ovation': 27144, 'hax0r': 27145, 'smugly': 27146, 'fritters': 27147, '2923848932': 27148, 'keycards': 27149, 'plebs': 27150, 'salmon': 27151, 'watir': 27152, '51': 27153, '3yo': 27154, 'groggily': 27155, 'bender': 27156, 'aural': 27157, 'gha': 27158, 'otw': 27159, 'mozy': 27160, 'angered': 27161, 'lambastes': 27162, 'bankers': 27163, 'insurers': 27164, 'ï¿½greed': 27165, 'ï¿½stupidityï¿½': 27166, 'whatevs': 27167, 'wangotango': 27168, 'hilary': 27169, 'tally': 27170, 'kurt': 27171, 'loudd': 27172, 'ahahahahahahahahah': 27173, 'fuunny': 27174, 'infomercials': 27175, 'batting': 27176, 'cages': 27177, 'adv': 27178, 'realizes': 27179, 'reckoner': 27180, 'haywire': 27181, 'drinky': 27182, 'para': 27183, 'mckenna': 27184, 'diets': 27185, 'lohang': 27186, 'downgrade': 27187, 'unfourtantly': 27188, 'hannahs': 27189, '1386am': 27190, 'indexing': 27191, 'ori': 27192, 'yessssssir': 27193, 'viritual': 27194, 'limeade': 27195, 'jaisey': 27196, 'bigggest': 27197, 'numbing': 27198, 'dayne': 27199, 'jlo': 27200, 'msnnnn': 27201, 'yoooooooooooooooooooou': 27202, 'talinda': 27203, 'ironclad': 27204, 'mcd': 27205, 'startssssssssssss': 27206, 'skipton': 27207, 'rears': 27208, 'cupboards': 27209, 'virtues': 27210, 'appraising': 27211, 'compose': 27212, 'fronts': 27213, 'wakeboarding': 27214, 'pukey': 27215, 'slaying': 27216, 'dragons': 27217, 'innocents': 27218, 'camara': 27219, 'finnished': 27220, 'miracles': 27221, 'auctioned': 27222, 'robbikin': 27223, 'bromeliad': 27224, '520': 27225, 'cordoning': 27226, 'tsu': 27227, 'reall': 27228, 'durrin': 27229, 'brah': 27230, 'presented': 27231, 'bikeshed': 27232, 'wc': 27233, 't20': 27234, 'omelets': 27235, 'spits': 27236, 'napkin': 27237, 'gayy': 27238, 'constitutes': 27239, 'eggos': 27240, 'synthetic': 27241, 'sustitute': 27242, 'gknight': 27243, 'resemble': 27244, 'burner': 27245, 'weber': 27246, 'thers': 27247, 'evry': 27248, 'stomachace': 27249, 'johno': 27250, 'brotha': 27251, 'fillout': 27252, 'daayum': 27253, 'tweople': 27254, 'examination': 27255, 'roxie': 27256, 'moths': 27257, 'wasps': 27258, 'readheads': 27259, 'homeschooling': 27260, 'yallmy': 27261, '90mph': 27262, 'basis': 27263, 'mph': 27264, 'radar': 27265, 'exxciiteed': 27266, 'cabaret': 27267, 'fridaaaayyyyy': 27268, 'unny': 27269, 'wna': 27270, 'hailing': 27271, 'caladesi': 27272, 'whoott': 27273, 'ishi': 27274, 'haaaaaaaaate': 27275, 'collector': 27276, 'bullying': 27277, 'railsbridge': 27278, 'sï¿½o': 27279, 'brasilia': 27280, 'alec': 27281, 'disapoointed': 27282, 'oramarecords': 27283, 'consideration': 27284, 'instrumentals': 27285, 'afternooon': 27286, 'thorpe': 27287, 'aatw': 27288, 'lannen': 27289, 'okey': 27290, 'stainage': 27291, 'glacier': 27292, 'bedford': 27293, 'slippy': 27294, 'motherfuck': 27295, 'qw': 27296, 'nerdiest': 27297, 'museum2': 27298, 'operated': 27299, 'plannner': 27300, 'resonate': 27301, 'antoinette': 27302, 'croatian': 27303, 'damns': 27304, 'obscurity': 27305, 'gerardo': 27306, 'fluid': 27307, 'alayellow': 27308, 'tpt': 27309, 'shirttttt': 27310, 'castelvania': 27311, 'uce': 27312, 'pgce': 27313, 'xhausted': 27314, 'corr': 27315, 'dinn': 27316, 'shush': 27317, 'dadt': 27318, 'liar': 27319, 'memorize': 27320, 'julius': 27321, 'caesar': 27322, 'flannel': 27323, 'iracing': 27324, 'scanned': 27325, 'shag': 27326, 'quiche': 27327, 'immature': 27328, 'ranga': 27329, 'josiphina': 27330, 'jacqui': 27331, 'tweetdecks': 27332, 'overspammed': 27333, 'atrocious': 27334, 'arou': 27335, 'taltal': 27336, 'medieval': 27337, 'pavillion': 27338, 'bithday': 27339, 'cnaterbury': 27340, 'raaaaaaaaaaagh': 27341, 'dunker': 27342, 'poser': 27343, 'jeeps': 27344, 'acura': 27345, 'gooot': 27346, 'riiight': 27347, 'twatt': 27348, 'stalwart': 27349, 'steele': 27350, '678': 27351, '98212': 27352, 'slapton': 27353, 'frighten': 27354, 'leathers': 27355, 'reopens': 27356, 'zumba': 27357, 'kunguma': 27358, 'poovum': 27359, 'konjuma': 27360, 'puravum': 27361, 'cinematography': 27362, 'tweeeeeet': 27363, 'clam': 27364, 'ptsici': 27365, 'stem': 27366, 'cells': 27367, 'caause': 27368, 'valencia': 27369, 'stiches': 27370, 'subscriber': 27371, 'slammin': 27372, 'mysore': 27373, 'swines': 27374, 'ful': 27375, 'deranged': 27376, 'twittascope': 27377, 'milling': 27378, 'shinta': 27379, 'tailgating': 27380, 'macpro': 27381, 'certificate': 27382, 'wentworth': 27383, 'jsut': 27384, 'carowinds': 27385, 'singz': 27386, 'girrrlfriend': 27387, 'defunk': 27388, 'disgruntled': 27389, 'investors': 27390, 'hearin': 27391, 'convos': 27392, 'wanaa': 27393, 'gwt': 27394, 'freelance': 27395, 'blinds': 27396, 'glare': 27397, 'dearest': 27398, 'palina': 27399, 'kostet': 27400, 'mathsteacher': 27401, 'cj': 27402, 'unloading': 27403, 'gilf': 27404, 'g5': 27405, 'kindergartener': 27406, 'armada': 27407, 'sherrieshepherd': 27408, 'annoyin': 27409, 'rerecordings': 27410, 'revisin': 27411, '8703': 27412, 'scuba': 27413, 'saran': 27414, 'spilt': 27415, 'zwarte': 27416, 'maillot': 27417, 'uploadinng': 27418, 'showw': 27419, 'awesomme': 27420, 'rotate': 27421, 'motherfucker': 27422, 'exciteddd': 27423, 'backstagepazz': 27424, '7846': 27425, 'joing': 27426, 'gj': 27427, 'forrealll': 27428, 'walet': 27429, 'patsy': 27430, 'imtetsting': 27431, 'citibank': 27432, 'grannys': 27433, 'acquainted': 27434, 'beckyyy': 27435, 'alternating': 27436, 'doting': 27437, 'goodwill': 27438, 'fx100': 27439, 'teradici': 27440, 'hda': 27441, 'drv': 27442, 'jealousmuch': 27443, 'mmmmmmmm': 27444, 'uhuru': 27445, 'dolled': 27446, 'marjorie': 27447, 'jemimah': 27448, 'arrow': 27449, 'avalanche': 27450, 'akh': 27451, 'sayed': 27452, 'hassan': 27453, 'sturday': 27454, 'manicurist': 27455, 'zoey': 27456, 'farther': 27457, 'smartest': 27458, 'elvira': 27459, 'fillion': 27460, 'bloke': 27461, 'bullseye': 27462, 'debt': 27463, 'aaargh': 27464, 'wirting': 27465, 'almos': 27466, 'listenint': 27467, 'afh': 27468, 'cliped': 27469, 'aroud': 27470, 'audiotistic': 27471, 'kapag': 27472, 'magkakasama': 27473, 'nila': 27474, 'mapet': 27475, 'bakey': 27476, 'ritter': 27477, 'cmd': 27478, 'linuxoutlaws': 27479, 'upsets': 27480, 'becasue': 27481, 'uset': 27482, 'joins': 27483, 'grahmcracker': 27484, 'oceanup': 27485, 'gaston': 27486, 'tdukes': 27487, 'flwd': 27488, 'dhmptn': 27489, '1fav': 27490, 'yogulicious': 27491, 'competitor': 27492, 'psycology': 27493, 'todayyyyyyyyy': 27494, 'arrghh': 27495, 'eczema': 27496, 'scoffed': 27497, 'sumo': 27498, 'kona': 27499, 'triathlon': 27500, 'incapacitating': 27501, 'shania': 27502, 'lawrence': 27503, 'horizontal': 27504, 'finra': 27505, 'joyful': 27506, 'twidget': 27507, 'tux11': 27508, 'techyuppie': 27509, 'idp': 27510, 'camps': 27511, 'idprelief': 27512, 'eather': 27513, 'friendss': 27514, 'midterm': 27515, 'baaaaaaaaaah': 27516, 'militant': 27517, 'rafa': 27518, 'puggy': 27519, 'pughug': 27520, 'abouttttto': 27521, 'roux': 27522, 'electropop': 27523, 'synth': 27524, 'daon': 27525, 'py3': 27526, 'galbladia': 27527, 'athough': 27528, 'perants': 27529, 'unfinished': 27530, 'cropped': 27531, 'premiered': 27532, 'fastsmallballbuster': 27533, 'weirdherout': 27534, 'visionboard': 27535, 'ichat': 27536, 'arik': 27537, 'everday': 27538, 'yes2dy': 27539, 'networks': 27540, 'nerdfriends': 27541, 'prs': 27542, 'accordion': 27543, 'buffs': 27544, 'raiders': 27545, 'weatherrrrr': 27546, 'shina': 27547, 'gigi': 27548, 'moviez': 27549, 'puzzled': 27550, 'pinpoint': 27551, 'rwady': 27552, 'farewelling': 27553, 'auntiegail': 27554, 'vests': 27555, 'gails': 27556, 'childminding': 27557, 'scheuring': 27558, 'blahhhhhhhhhhhhhh': 27559, 'yeeee': 27560, 'radio1': 27561, 'imei': 27562, 'tracked': 27563, 'alhamdulilah': 27564, 'nafa': 27565, 'clematis': 27566, 'carnisada': 27567, 'geogeektv': 27568, 'from1': 27569, '103f': 27570, 'delicate': 27571, 'capones': 27572, 'tones': 27573, 'dealz': 27574, 'anychance': 27575, 'chauffer': 27576, 'kurumi': 27577, 'bradies': 27578, 'funnel': 27579, 'hom': 27580, 'tda': 27581, 'leiiin': 27582, 'introoo': 27583, 'entrance': 27584, '2cal': 27585, 'zipcode': 27586, 'gashes': 27587, 'n97': 27588, '52ï¿½': 27589, 'msla': 27590, 'genuine': 27591, 'chelsee': 27592, 'amiera': 27593, 'butno': 27594, 'tinkerbell': 27595, 'peekaboo': 27596, 'stubhub': 27597, 'myspak': 27598, 'twitterlandz': 27599, 'grrl': 27600, 'bettie': 27601, 'stocked': 27602, 'mussoooooo': 27603, 'nurturing': 27604, 'i900d': 27605, 'fisheye': 27606, 'haileys': 27607, 'imitate': 27608, 'demistylesource': 27609, 'proclaim': 27610, 'assortment': 27611, 'taunt': 27612, 'osx': 27613, 'trs': 27614, 'cfi': 27615, 'disbanded': 27616, 'premiering': 27617, 'vod': 27618, 'oooooooooo': 27619, 'wyattt': 27620, 'didntb': 27621, 'dialed': 27622, 'gameplay': 27623, 'percy': 27624, 'thrower': 27625, 'gardner': 27626, 'residence': 27627, 'jakki': 27628, 'bidor': 27629, 'wantan': 27630, 'cham': 27631, 'florin': 27632, 'caucasian': 27633, 'hugging': 27634, 'bccg': 27635, 'liddle': 27636, 'beotch': 27637, 'pano': 27638, 'goodtimes': 27639, 'ericson': 27640, 'enquire': 27641, 'gottaaa': 27642, 'tangerang': 27643, 'dac': 27644, 'specilist': 27645, 'ectopic': 27646, 'uritors': 27647, 'tossin': 27648, 'turnin': 27649, 'yoo': 27650, 'casterbridge': 27651, 'mpumalanga': 27652, 'reorganize': 27653, 'ouuchh': 27654, 'uft': 27655, 'eighth': 27656, 'carville': 27657, 'mommyyy': 27658, 'decorate': 27659, 'malamang': 27660, 'keggers': 27661, 'uwian': 27662, 'phplurk': 27663, 'attraction': 27664, 'dionee': 27665, 'hyd': 27666, 'theka': 27667, 'backorder': 27668, 'awakened': 27669, 'joper': 27670, 'gossipy': 27671, 'supplies': 27672, 'margie': 27673, 'fllwng': 27674, 'realtor': 27675, 'grimsby': 27676, 'targeted': 27677, 'dormir': 27678, 'lunchhhhhhhh': 27679, 'motorcycles': 27680, 'issueï¿½': 27681, 'shoooooot': 27682, 'mustangs': 27683, 'loveyoujonesy': 27684, 'dido': 27685, 'jackes': 27686, 'movieing': 27687, 'anew': 27688, 'chackin': 27689, 'dentention': 27690, 'caww': 27691, 'annnnnnddd': 27692, 'hiyaa': 27693, 'workies': 27694, 'norrï¿½ra': 27695, 'sj': 27696, 'cinelux': 27697, 'almaden': 27698, 'despise': 27699, 'fucktards': 27700, 'teetotal': 27701, 'tfa': 27702, 'sash': 27703, 'heritage': 27704, 'lante': 27705, 'lovies': 27706, 'sammich': 27707, 'bongie': 27708, 'bowman': 27709, 'strategicclock': 27710, 'eisteddfod': 27711, 'sweeeety': 27712, 'samstephens': 27713, 'sneezy': 27714, 'okaaayyyyy': 27715, 'digestion': 27716, '33333333333': 27717, 'garageband': 27718, 'workdone': 27719, 'redtape': 27720, 'sheena': 27721, 'othman': 27722, 'renegades': 27723, 'greenock': 27724, 'kilmacolm': 27725, 'tippers': 27726, 'mule': 27727, 'holmbury': 27728, 'largest': 27729, 'charmed': 27730, 'ranting': 27731, 'genghis': 27732, 'wahey': 27733, '16lbs': 27734, 'panasonic': 27735, 'aobut': 27736, 'anthem': 27737, 'audiobook': 27738, 'gingg': 27739, 'ritualistic': 27740, 'digiqom': 27741, 'e1': 27742, 'palomino': 27743, 'kimberlee': 27744, 'trotzdem': 27745, 'weh': 27746, 'spiderwoman': 27747, 'hollidays': 27748, 'px': 27749, 'vamped': 27750, 'heerlen': 27751, 'wiggity': 27752, 'quirks': 27753, 'summarize': 27754, 'smo': 27755, 'caterpillar': 27756, 'reflexology': 27757, 'ghibli': 27758, 'ponyo': 27759, 'overpriced': 27760, 'ï¿½12': 27761, 'bbbbrrrrrrrrr': 27762, 'numpy': 27763, 'manipulating': 27764, 'uncertainties': 27765, 'springboard': 27766, 'snuff': 27767, 'hermione': 27768, 'webcamming': 27769, 'caroooo': 27770, 'xxxxxxxxxxxxxxxxxxx': 27771, 'trim': 27772, 'ambulance': 27773, 'swallowed': 27774, 'youregreat': 27775, 'beeeeaaaaatooooo': 27776, 'mwan': 27777, 'revamping': 27778, 'outboard': 27779, 'contents': 27780, 'gogol': 27781, 'bordello': 27782, 'civilization': 27783, 't4': 27784, 'wbc': 27785, 'counterprotests': 27786, 'waterfire': 27787, 'fletcher': 27788, 'maureen': 27789, 'yujm': 27790, 'chloes': 27791, 'trike': 27792, 'thingo': 27793, 'girraffe': 27794, 'slope': 27795, 'golfballs': 27796, 'huffy': 27797, 'badoptus': 27798, 'lastnte': 27799, 'bestbuy': 27800, 'tel': 27801, 'aviv': 27802, 'ovber': 27803, 'luvvie': 27804, 'tartan': 27805, 'postr01': 27806, 'digestif': 27807, 'siew': 27808, '200f2': 27809, 'twedding': 27810, 'bucharest': 27811, '17th': 27812, 'gode': 27813, 'ould': 27814, 'contacted': 27815, '2ce': 27816, 'roasting': 27817, '3him': 27818, 'lucien': 27819, 'kerk': 27820, 'vocalists': 27821, 'afrikaah': 27822, 'itzel': 27823, 'grisham': 27824, 'spazzed': 27825, 'loney': 27826, 'fancast': 27827, 'shill': 27828, 'goddam': 27829, '2833': 27830, '4000': 27831, 'dargah': 27832, 'buhler': 27833, 'sotaboys': 27834, 'whichever': 27835, 'resisting': 27836, 'wipe': 27837, 'slate': 27838, 'enchilado': 27839, 'shakeyyyy': 27840, 'schooliooo': 27841, 'workkk': 27842, 'begged': 27843, 'heavyweight': 27844, 'phn': 27845, 'tmail': 27846, 'grrrrrrrrrrrrrr': 27847, 'eassy': 27848, 'arrggh': 27849, 'kava': 27850, 'zimmer': 27851, 'mushygushy': 27852, 'gushy': 27853, 'gram': 27854, 'yezzzir': 27855, 'baker': 27856, 'davison': 27857, 'inviataion': 27858, 'novacaine': 27859, 'animas': 27860, 'corlaine': 27861, 'shezz': 27862, 'fryeffect': 27863, 'fkkk': 27864, 'churnet': 27865, 'ï¿½n': 27866, 'eleg': 27867, 'avea': 27868, 'emisiune': 27869, 'ceva': 27870, 'spahkly': 27871, 'tvs': 27872, 'vhits': 27873, 'loaned': 27874, 'aerobars': 27875, 'alkek': 27876, 'xams': 27877, 'awwwwwwwwwwe': 27878, 'heyheyheyy': 27879, 'skimchamp': 27880, 'moneeeeeeeeeeeeeeeey': 27881, 'consti': 27882, 'bumming': 27883, 'cottin': 27884, 'emilyyyyyyyy': 27885, 'qa': 27886, 'frd': 27887, 'yung': 27888, 'peasants': 27889, 'yonkers': 27890, 'furloughed': 27891, 'rific': 27892, 'uls': 27893, 'tacular': 27894, 'santi': 27895, 'stunningly': 27896, 'rny': 27897, 'sugary': 27898, 'bleck': 27899, 'dragonforce': 27900, 'butlins': 27901, '1991': 27902, 'ecofriendly': 27903, 'bluegrass': 27904, 'fucksake': 27905, 'hourssss': 27906, 'calllll': 27907, 'busty': 27908, 'mavens': 27909, 'peac': 27910, 'loveliest': 27911, 'anothe': 27912, 'chickie': 27913, 'sip': 27914, 'kmrn': 27915, 'bawa': 27916, 'kosong': 27917, 'wednesdayy': 27918, 'byes': 27919, 'berries': 27920, 'yir': 27921, 'raggy': 27922, 'arroyo': 27923, 'sympathise': 27924, 'innovation': 27925, 'blinky': 27926, 'belay': 27927, 'kaden': 27928, 'exspecially': 27929, 'bombbbb': 27930, 'pwetttty': 27931, 'munsay': 27932, 'goosebumps': 27933, '1030': 27934, 'skittles': 27935, 'sweeties': 27936, 'blahing': 27937, '12p': 27938, 'kindest': 27939, 'enquiries': 27940, 'fools': 27941, 'crumbling': 27942, 'einstein': 27943, 'fff': 27944, 'cancellation': 27945, 'sheeeeittt': 27946, 'bwaaaahhh': 27947, 'geeking': 27948, 'luf': 27949, 'kbal24': 27950, 'kellz': 27951, 'kickoff': 27952, 'frikken': 27953, 'baaaaaaaaaaackkkkkkkk': 27954, 'jljf': 27955, 'burnside': 27956, 'tossa': 27957, 'pleassure': 27958, 'voilï¿½': 27959, 'anana': 27960, 'geeze': 27961, 'distinct': 27962, 'stuffted': 27963, 't4p': 27964, 'adiel': 27965, 'sabby': 27966, 'clambering': 27967, 'godly': 27968, 'lsats': 27969, 'enzyte': 27970, 'girl5': 27971, 'tees': 27972, 'sodmg': 27973, 'minister': 27974, 'badd': 27975, 'mooching': 27976, 'userid': 27977, 'vishnupsp': 27978, 'fluffodile': 27979, 'teg': 27980, 'tess': 27981, 'frey': 27982, 'avatars': 27983, 'nevertheless': 27984, 'magnificence': 27985, 'airshow': 27986, 'screamer': 27987, 'closin': 27988, 'treky': 27989, 'affiliate': 27990, 'hateeeeeeeeee': 27991, '1017': 27992, 'defeatist': 27993, 'jogged': 27994, 'turbines': 27995, 'cypher': 27996, 'nook': 27997, 'zzzzzzz': 27998, 'joooooooooooooo': 27999, 'readdy': 28000, 'sacked': 28001, 'sleepytown': 28002, 'dii': 28003, 'saimee': 28004, 'violates': 28005, 'noncompete': 28006, 'withb': 28007, 'alrer': 28008, 'chays': 28009, 'bfast': 28010, 'asos': 28011, 'vows': 28012, 'sudying': 28013, 'ut': 28014, 'flt': 28015, 'curb': 28016, 'assumption': 28017, 'penney': 28018, 'whoah': 28019, 'lina': 28020, 'birthdaypresent': 28021, 'assassination': 28022, 'penutt': 28023, 'tosted': 28024, 'atmospheres': 28025, 'kisskiss': 28026, 'adapters': 28027, 'cheaptweet': 28028, 'regard': 28029, 'inspirative': 28030, 'twittle': 28031, 'linking': 28032, 'dealextreme': 28033, 'scarce': 28034, 'carparks': 28035, 'trampled': 28036, 'peoplebrowsr': 28037, 'godtalk': 28038, 'inevitably': 28039, 'outtamyleague': 28040, 'balistic': 28041, 'jtv': 28042, 'hairrr': 28043, 'emailin': 28044, 'complaint': 28045, '2listen': 28046, 'ksn': 28047, 'salman': 28048, 'munir': 28049, 'hmmphh': 28050, 'vippppppp': 28051, 'blanco': 28052, 'rican': 28053, 'yi': 28054, 'tims': 28055, 'entiiiiire': 28056, 'x100': 28057, 'kacie': 28058, 'lis': 28059, 'alton': 28060, 'towers': 28061, 'daaaang': 28062, 'blamed': 28063, 'lamee': 28064, 'reds': 28065, 'chlamydia': 28066, 'syphilis': 28067, 'dwellers': 28068, 'freestyling': 28069, 'fp': 28070, 'roughnight': 28071, 'inventing': 28072, '44secs': 28073, 'trianing': 28074, 'hives': 28075, 'experts': 28076, 'girll': 28077, 'furbaby': 28078, 'zoning': 28079, 'jennah': 28080, 'mozconcept': 28081, 'deary': 28082, 'organised': 28083, 'hairband': 28084, 'disguises': 28085, 'yesty': 28086, 'migawd': 28087, 'teas': 28088, 'fï¿½licitations': 28089, 'supposee': 28090, '21month': 28091, 'greatttttt': 28092, 'havnï¿½t': 28093, 'snowdaysss': 28094, 'gby': 28095, 'precursor': 28096, 'canned': 28097, 'photographing': 28098, 'macro': 28099, 'wildwood': 28100, 'germï¿½n': 28101, 'rodrï¿½guez': 28102, 'endodontist': 28103, 'ceramic': 28104, 'dnd': 28105, 'traumatizing': 28106, 'massacred': 28107, 'uhmygawddd': 28108, 'athletics': 28109, 'ngl': 28110, 'wookiepedia': 28111, 'pisstake': 28112, 'bep': 28113, 'topaz': 28114, 'xbl': 28115, 'dumby': 28116, 'thespian': 28117, 'troupe': 28118, '6492': 28119, 'aparantly': 28120, 'bulked': 28121, 'dreeaamy': 28122, 'ghd': 28123, 'aahh': 28124, 'rescued': 28125, 'gothy': 28126, 'arosh': 28127, 'extremly': 28128, 'covershots': 28129, 'kelana': 28130, 'tugger': 28131, 'misto': 28132, 'distorting': 28133, 'spinnerette': 28134, 'keegan': 28135, '502': 28136, 'pinkwind': 28137, 'pegel': 28138, 'keliling': 28139, 'kuil': 28140, 'outright': 28141, 'accusations': 28142, 'panwa': 28143, 'thirds': 28144, 'xtine': 28145, 'hairstylist': 28146, 'critical': 28147, 'sadsville': 28148, 'winninggggg': 28149, 'cliiimb': 28150, 'hairy': 28151, 'ligaments': 28152, 'rebeca': 28153, 'symonds': 28154, 'saron': 28155, 'raids': 28156, 'cryhardcore': 28157, 'deffinately': 28158, 'floral': 28159, 'jubey': 28160, 'abuelo': 28161, 'aguadilla': 28162, 'aaaaaahhhhhhhh': 28163, 'sweeeeeeet': 28164, 'tins': 28165, 'fetching': 28166, 'aslyum': 28167, 'satish': 28168, 'ankit': 28169, 'parlour': 28170, 'hokeypokeybandra': 28171, 'enlgish': 28172, 'doi': 28173, 'chung': 28174, 'thoi': 28175, 'luved': 28176, '981': 28177, 'biteeee': 28178, 'chaayaa': 28179, 'dp': 28180, 'trends': 28181, 'mylan': 28182, 'nitenite': 28183, 'hoooray': 28184, 'mayï¿½s': 28185, 'reflectively': 28186, 'rosales': 28187, 'rawknroll': 28188, 'radio23': 28189, 'hordies': 28190, 'septa': 28191, 'unagi': 28192, 'wis': 28193, 'q13': 28194, 'goverment': 28195, 'downsizing': 28196, 'tkd': 28197, 'instructor': 28198, 'sourish': 28199, 'limbs': 28200, 'preventing': 28201, 'celebreting': 28202, 'sowwieee': 28203, 'sneakerz': 28204, 'gdgd': 28205, 'liberalism': 28206, 'crucifiction': 28207, 'abstraction': 28208, 'speciaal': 28209, 'voor': 28210, 'zo': 28211, 'vind': 28212, 'wï¿½l': 28213, 'leuk': 28214, 'lobbying': 28215, 'evviiil': 28216, 'symptom': 28217, 'pappadeux': 28218, 'griting': 28219, 'conflicted': 28220, 'darrin': 28221, 'crucial': 28222, 'rivers': 28223, 'timestamp': 28224, 'cest': 28225, 'litter': 28226, 'azalea': 28227, 'balboa': 28228, 'gmas': 28229, 'chipolte': 28230, 'bakit': 28231, 'kse': 28232, 'nilagnat': 28233, 'aq': 28234, 'khpon': 28235, 'managing': 28236, 'overdoing': 28237, 'musashi': 28238, 'kitaro': 28239, 'xii': 28240, 'adm': 28241, 'exxagerated': 28242, 'lofnotc': 28243, 'likewith': 28244, 'daphne': 28245, 'hearsay': 28246, 'yummmmm': 28247, 'wnted': 28248, 'pril': 28249, 'timothy': 28250, 'haloom': 28251, 'eeem': 28252, 'rationale': 28253, 'eyaseer': 28254, 'inshallah': 28255, 'nooooooooooooo': 28256, 'aaaaw': 28257, 'uuugh': 28258, 'exagerrated': 28259, 'hellacious': 28260, 'manana': 28261, 'terrestrial': 28262, 'analogue': 28263, 'disrespectful': 28264, 'tweetbeaks': 28265, 'lunchfast': 28266, 'litt': 28267, 'lese': 28268, 'siste': 28269, 'tweetsen': 28270, 'prooved': 28271, 'guarding': 28272, '630pm': 28273, 'disabling': 28274, 'humiliate': 28275, 'spineless': 28276, 'ryaaaaaaaaaaaaan': 28277, 'ï¿½80': 28278, 'dagnamit': 28279, 'clickable': 28280, 'lvl73': 28281, 'disintegrating': 28282, 'toms': 28283, 'skinnamarinkydinkydink': 28284, 'alongs': 28285, 'mardy': 28286, 'trailhead': 28287, 'postcard': 28288, 'dencorub': 28289, 'annoyingg': 28290, 'ukkkkk': 28291, 'races': 28292, 'itsjeff': 28293, 'bartender': 28294, 'interwebz': 28295, 'bn': 28296, 'tehre': 28297, 'slab': 28298, 'hahaaaa': 28299, 'ï¿½17': 28300, 'ï¿½27': 28301, 'lappie': 28302, 'goonight': 28303, 'unreall': 28304, 'ticker': 28305, 'granulation': 28306, 'howz': 28307, 'apologizes': 28308, 'neways': 28309, 'aimeeeeeee': 28310, 'farrrrr': 28311, 'pdhpe': 28312, 'colddd': 28313, 'lum': 28314, 'clubing': 28315, 'collabs': 28316, 'shante': 28317, 'watchers': 28318, 'pretenders': 28319, 'paginating': 28320, 'asp': 28321, 'listview': 28322, 'interiors': 28323, '1939': 28324, 'henna': 28325, 'conserving': 28326, '82k': 28327, 'terasse': 28328, 'mtl': 28329, 'fizz': 28330, 'offence': 28331, 'schindler': 28332, 'lettuces': 28333, 'mangled': 28334, 'discreet': 28335, 'gpgmail': 28336, 'mallorca': 28337, '395': 28338, 'ï¿½4': 28339, 'ï¿½2': 28340, 'stagnentation': 28341, 'exploding': 28342, 'scorecard': 28343, 'balearic': 28344, 'glyders': 28345, 'sg1': 28346, 'handleing': 28347, 'vwll2009': 28348, 'vwllers': 28349, 'cheesesteak': 28350, 'chants': 28351, '710': 28352, 'coffeeclub': 28353, 'loveees': 28354, 'fritz': 28355, 'roderick': 28356, 'emulate': 28357, 'activeresource': 28358, 'jemi': 28359, 'cleaners': 28360, 'soothes': 28361, 'housewarming': 28362, 'flywithmeobsessive': 28363, 'seaso': 28364, 'bouta': 28365, '71': 28366, 'changedd': 28367, 'caus': 28368, 'eit': 28369, 'laze': 28370, 'deathbyhistory': 28371, 'scandic': 28372, 'overspend': 28373, 'wooden': 28374, 'froma': 28375, 'sigggh': 28376, 'wold': 28377, 'rebooted': 28378, 'howya': 28379, 'nako': 28380, 'umuulan': 28381, 'nevah': 28382, 'verona': 28383, 'enjoyyitverymuch': 28384, 'phothos': 28385, 'necks': 28386, 'bellion': 28387, 'superstition': 28388, 'misog': 28389, 'omelettes': 28390, 'chapathis': 28391, 'silvera': 28392, 'greeat': 28393, 'lushh': 28394, 'sakey': 28395, 'nanaimo': 28396, 'confessions': 28397, 'shopoholic': 28398, 'dancy': 28399, 'pettigrew': 28400, 'palmade': 28401, 'leaning': 28402, 'serani': 28403, 'hamburg': 28404, 'detlev': 28405, 'fischer': 28406, 'accessibility': 28407, 'bitv': 28408, 'tg': 28409, 'awoooogahhhhhh': 28410, 'yaer': 28411, 'maliks': 28412, 'cong': 28413, 'karnataka': 28414, 'cauvery': 28415, 'cigg': 28416, 'mammas': 28417, 'gett': 28418, 'facebooking': 28419, 'cuddlez': 28420, 'tasteless': 28421, 'portion': 28422, 'hernandez': 28423, 'caitlin': 28424, 'hicks': 28425, 'populated': 28426, 'selin': 28427, 'bidder': 28428, 'midsomer': 28429, 'murders': 28430, 'pursued': 28431, 'lammmeeee': 28432, 'kam': 28433, 'laloo': 28434, 'keltin': 28435, 'hungraaaaaaaaay': 28436, 'jkt': 28437, 'conor': 28438, 'shhhweeeet': 28439, 'carwash': 28440, 'callen': 28441, '237': 28442, 'bm': 28443, '745': 28444, 'planss': 28445, '9100': 28446, 'analogy': 28447, 'morgie': 28448, 'trully': 28449, 'maccies': 28450, 'trance': 28451, 'yano': 28452, 'euch': 28453, 'notary': 28454, 'retrograde': 28455, 'sctest': 28456, 'seemy': 28457, 'guyfreind': 28458, 'misleading': 28459, 'n95': 28460, 'opda': 28461, 'crutch': 28462, 'peircings': 28463, 'clinic': 28464, 'vstudio': 28465, 'shortcuts': 28466, 'backkk': 28467, 'pleaser': 28468, '236am': 28469, 'decor': 28470, 'daaammmnnnnn': 28471, 'lamenting': 28472, 'artery': 28473, 'hagen': 28474, 'daz': 28475, 'ahahahahahahahaha': 28476, 'yeeeee': 28477, 'murked': 28478, 'gerry': 28479, 'bleah': 28480, 'ethernet': 28481, 'sells': 28482, 'niene': 28483, 'whts': 28484, 'gurlie': 28485, 'seguisses': 28486, 'als': 28487, 'jabba': 28488, 'hauries': 28489, 'enterat': 28490, 'abans': 28491, 'editor': 28492, 'generations': 28493, 'oouchhhh': 28494, 'olina': 28495, 'shoreee': 28496, 'borgata': 28497, 'ugggghhhh': 28498, 'sisser': 28499, 'v0': 28500, '99pb5': 28501, 'etonline': 28502, 'defunct': 28503, 'hink': 28504, 'elgin': 28505, 'nae1': 28506, 'dragonball': 28507, 'lh': 28508, 'fopp': 28509, 'collister': 28510, 'reopen': 28511, 'rentaphone': 28512, 'yesy': 28513, 'norskart': 28514, 'smartier': 28515, 'rural': 28516, '2630': 28517, 'inerne': 28518, 'exterminator': 28519, 'uzbekistan': 28520, 'existance': 28521, 'spellchecker': 28522, 'unhelpful': 28523, 'booored': 28524, 'sunshiines': 28525, 'riped': 28526, 'beated': 28527, 'live360': 28528, 'herew': 28529, 'zaccie': 28530, 'tutus': 28531, 'bgtalent': 28532, 'punched': 28533, 'kroq': 28534, 'fantasty': 28535, 'corpsed': 28536, 'creme': 28537, 'brulee': 28538, 'tiramisu': 28539, 'boobage': 28540, 'c1': 28541, 'c2': 28542, 'gda': 28543, 'tiredness': 28544, 'nottt': 28545, 'hatred': 28546, 'heee': 28547, 'approves': 28548, 'everyhere': 28549, 'cinco': 28550, 'standstill': 28551, 'twttrg': 28552, 'sleeptime': 28553, 'volcano': 28554, 'kmv': 28555, 'tomos': 28556, 'hopw': 28557, 'cravin': 28558, 'huggers': 28559, 'aldi': 28560, 'folders': 28561, 'devoured': 28562, 'scarabeo': 28563, 'baptized': 28564, 'kitsch': 28565, 'ayoko': 28566, 'gweg': 28567, 'jumper': 28568, 'rows': 28569, 'dndn': 28570, 'mandarin': 28571, 'lameness': 28572, 'nemecek': 28573, 'keed': 28574, 'malamute': 28575, '6ft': 28576, '73kg': 28577, '2nte': 28578, '28ï¿½': 28579, 'allahpundit': 28580, 'calmin': 28581, 'whittled': 28582, 'alwaysss': 28583, 'itv2': 28584, 'tks': 28585, 'operate': 28586, 'ecologically': 28587, 'eco': 28588, 'fack': 28589, 'seriouse': 28590, 'tmwr': 28591, 'halfway': 28592, 'smelt': 28593, 'dur': 28594, 'prends': 28595, 'scrap': 28596, 'cassandra': 28597, 'wilcox': 28598, 'bloss': 28599, 'hayfevery': 28600, 'sufferin': 28601, 'microplaza': 28602, 'whaaay': 28603, 'craters': 28604, 'uma': 28605, 'oph': 28606, 'ser': 28607, 'caput': 28608, 'saturn': 28609, 'fogged': 28610, 'eyepiece': 28611, '2a': 28612, 'supremists': 28613, 'abhor': 28614, 'devestated': 28615, 'cliffs': 28616, 'headlights': 28617, 'celine': 28618, 'regina': 28619, 'deux': 28620, 'waaaaaaaa': 28621, 'chilito': 28622, 'eeeeeeeeeee': 28623, 'goods': 28624, 'gparents': 28625, 'fmla': 28626, 'glenna': 28627, 'chilin': 28628, 'brotherrrr': 28629, 'oday': 28630, 'rundown': 28631, 'vaneta': 28632, 'lyrically': 28633, 'headahce': 28634, 'wach': 28635, 'zi': 28636, 'viper': 28637, 'serendipity3': 28638, 'togs': 28639, 'ohnoes': 28640, 'londons': 28641, 'gimana': 28642, 'fraser': 28643, 'binstruct': 28644, 'mib': 28645, 'developer': 28646, 'facilitators': 28647, 'misconnected': 28648, 'undies': 28649, 'justinville': 28650, '4719': 28651, 'overtake': 28652, 'tighter': 28653, 'smaaaaller': 28654, 'baggy': 28655, 'wedgies': 28656, 'reisling': 28657, 'pistols': 28658, 'widescreen': 28659, 'palahniuk': 28660, 'pygmy': 28661, 'mex': 28662, 'summerball': 28663, 'injustice': 28664, 'unstable': 28665, 'elin': 28666, 'dolidh': 28667, 'hairdye': 28668, 'smeared': 28669, 'stove': 28670, 'twitteriffic': 28671, 'lightly': 28672, 'misted': 28673, 'ruston': 28674, 'revive': 28675, 'kitteh': 28676, 'speedbumps': 28677, 'eeeeeeeeeeeeee': 28678, 'seee': 28679, 'wordart': 28680, '8900': 28681, 'karla': 28682, 'modcloth': 28683, 'notlooking': 28684, 'humira': 28685, 'enbrel': 28686, 'rheumy': 28687, '7ag': 28688, 'ele': 28689, 'ye6le3ni': 28690, 'taqa3od': 28691, 'custody': 28692, 'pillowtalk6188': 28693, 'trafalger': 28694, 'pigeons': 28695, 'restaraunt': 28696, 'garfields': 28697, 'sassy': 28698, 'hotttie': 28699, 'poooh': 28700, 'sounda': 28701, 'kellynn': 28702, 'showreel': 28703, 'starwarswithaddedpants': 28704, 'twinster': 28705, 'hafiz': 28706, 'realtors': 28707, 'dicaprio': 28708, 'davisson': 28709, 'killoran': 28710, 'butlers': 28711, 'hispanic': 28712, 'cosmos': 28713, 'broham': 28714, 'unzela': 28715, 'hashim': 28716, 'dosnt': 28717, 'guidance': 28718, 'counsellor': 28719, 'valk': 28720, 'timberfake': 28721, 'priciness': 28722, 'panhandlers': 28723, 'weezy': 28724, 'rappers': 28725, 'spiros': 28726, 'sneaking': 28727, 'suppossed': 28728, 'nikkie': 28729, 'payne': 28730, 'specified': 28731, 'arthritus': 28732, 'emilie': 28733, 'omgeee': 28734, 'frowns': 28735, 'dï¿½a': 28736, 'ï¿½why': 28737, 'ï¿½whyyy': 28738, 'chubby': 28739, 'nobles': 28740, 'heheï¿½i': 28741, 'bitched': 28742, 'jerrys': 28743, 'deficiency': 28744, 'congrat': 28745, 'tomoroo': 28746, 'giid': 28747, 'gni': 28748, 'mozzer': 28749, 'seductively': 28750, 'sprawled': 28751, 'blokes': 28752, 'bonnet': 28753, 'shockers': 28754, 'braids': 28755, 'igot': 28756, 'mutha': 28757, 'suse': 28758, 'jae': 28759, 'tweetioi': 28760, 'searches': 28761, 'zilch': 28762, 'hospitol': 28763, 'tourny': 28764, 'guesting': 28765, 'cowering': 28766, 'chiptune': 28767, 'apologised': 28768, 'gangsterrrr': 28769, 'armin': 28770, '4weeks': 28771, 'celebritytweet': 28772, 'kalahari': 28773, 'empowering': 28774, 'aptitude': 28775, 'mute': 28776, 'ninah': 28777, 'domsai': 28778, 'matteo': 28779, 'cibic': 28780, 'outz': 28781, 'missourian': 28782, 'sturtz': 28783, 'fabulously40': 28784, 'stringer': 28785, 'decrease': 28786, 'carries': 28787, 'tortured': 28788, 'eens': 28789, 'raar': 28790, 'gelopen': 28791, 'calleen': 28792, 'hawkesbury': 28793, 'howmany': 28794, 'patetic': 28795, 'waled': 28796, 'vans': 28797, 'butties': 28798, 'screengrab09': 28799, 'balanced': 28800, 'iptv': 28801, 'afternoo': 28802, 'shire': 28803, 'feminely': 28804, 'awessomee': 28805, 'hurrr': 28806, 'orr': 28807, 'alkie': 28808, 'foodtour': 28809, '024': 28810, 'lasertag': 28811, 'hairstyles': 28812, 'hooome': 28813, 'bgeezy': 28814, 'doberman': 28815, 'cierra': 28816, 'whatevahh': 28817, 'holga': 28818, 'helaas': 28819, 'hairsss': 28820, 'dialogue': 28821, 'claps': 28822, 'giutar': 28823, 'waaalkiiing': 28824, 'crop': 28825, 'lonestar': 28826, 'pitchers': 28827, 'drems': 28828, 'induced': 28829, 'metre': 28830, 'recogns': 28831, '365days': 28832, 'rperss': 28833, 'divo': 28834, 'espesh': 28835, 'fuccin': 28836, 'blocc': 28837, 'illogical': 28838, 'antiques': 28839, 'collectibles': 28840, 'summar': 28841, 'willyum': 28842, 'amma': 28843, 'gluttony': 28844, 'apnea': 28845, 'cuase': 28846, 'ramon': 28847, 'wiat': 28848, 'anesthetic': 28849, 'minibus': 28850, 'subhana': 28851, 'pf': 28852, 'dynamicproxy2': 28853, 'dynproxy2': 28854, 'lightest': 28855, 'cleanest': 28856, '35am': 28857, 'scii': 28858, 'creepers': 28859, 'quirky': 28860, 'concerto': 28861, 'bails': 28862, 'sponsorship': 28863, 'lori': 28864, 'mabaho': 28865, 'ginaaaaaaaaaaaaaaaa': 28866, 'ilonaaaa': 28867, 'suckas': 28868, 'allowing': 28869, 'houseofrock': 28870, 'chaseton': 28871, 'mea': 28872, 'coold': 28873, 'tinkling': 28874, 'maniac': 28875, 'kinduhh': 28876, 'moisturize': 28877, 'rephael': 28878, 'trening': 28879, 'thumping': 28880, 'steals': 28881, 'buries': 28882, 'purdy': 28883, 'socksy': 28884, 'plucky': 28885, 'caspar': 28886, 'myepisodes': 28887, 'mayor': 28888, 'brainard': 28889, 'jews': 28890, 'bludge': 28891, 'donkey': 28892, 'hoorayyy': 28893, 'phootbooth': 28894, 'preps': 28895, 'geesh': 28896, 'nside': 28897, 'chrony': 28898, 'rajendran': 28899, 'russell': 28900, 'peters': 28901, 'cheerful': 28902, 'saviness': 28903, 'accountant': 28904, 'middleschool': 28905, '25k': 28906, 'ahaa': 28907, 'shannt': 28908, 'mercedez': 28909, 'baller': 28910, 'doente': 28911, 'batcave': 28912, 'msned': 28913, 'fav5': 28914, 'batshit': 28915, 'orwell': 28916, 'superfresh': 28917, 'somebodies': 28918, 'sorors': 28919, 'stfu': 28920, 'dbar': 28921, 'timezzz': 28922, '2morro': 28923, 'altzheimers': 28924, 'squabbling': 28925, 'tumblarity': 28926, 'exile': 28927, 'tabbing': 28928, 'scholl': 28929, 'sandal': 28930, 'inserts': 28931, 'bridesmaids': 28932, 'exctied': 28933, 'happpppy': 28934, 'yeps': 28935, 'adopter': 28936, 'tinyï¿½s': 28937, 'amhzz': 28938, 'moniez': 28939, 'guarantees': 28940, 'thaanks': 28941, 'hillarious': 28942, 'qt': 28943, 'coutch': 28944, 'poutine': 28945, 'hedburg': 28946, 'irate': 28947, 'callers': 28948, 'feedicon': 28949, 'morcom': 28950, 'ankile': 28951, 'granpa': 28952, 'goingo': 28953, 'mahasha': 28954, 'rblpn': 28955, 'kleins': 28956, 'suh': 28957, 'weet': 28958, 'sharkeez': 28959, 'operations': 28960, 'lorry': 28961, 'signaling': 28962, 'fledged': 28963, 'nv': 28964, 'eyebrow': 28965, 'notches': 28966, 'showe': 28967, 'wrangler': 28968, 'scammed': 28969, 'pamela': 28970, 'kaggra': 28971, 'helpline': 28972, 'maccabees': 28973, 'yesyesyes': 28974, 'dibs': 28975, 'sulu': 28976, 'sims2': 28977, 'minutee': 28978, 'rushed': 28979, '705': 28980, 'preparations': 28981, 'nandito': 28982, 'berkeley': 28983, 'mysefl': 28984, 'arthroscopy': 28985, 'zapatos': 28986, 'trashcan': 28987, 'itsurely': 28988, 'alerts': 28989, 'lass': 28990, 'mains': 28991, 'skaters': 28992, 'weeties': 28993, 'dermals': 28994, 'enna': 28995, 'kodumai': 28996, 'idhu': 28997, 'ohwwww': 28998, 'martwo': 28999, 'mariel': 29000, 'tastykake': 29001, 'medley': 29002, 'huaaahhhhh': 29003, 'jupaa': 29004, 'resaaaa': 29005, 'awas': 29006, 'kaliaaannn': 29007, 'chore': 29008, 'jessiebear': 29009, 'yummay': 29010, 'yezzz': 29011, 'ruless': 29012, 'denying': 29013, 'skankin': 29014, 'openbox': 29015, 'glamorous': 29016, 'sailin': 29017, 'routines': 29018, 'truss': 29019, 'terrence': 29020, 'pik': 29021, 'relaxxxx': 29022, 'skypeeeeee': 29023, 'yearsssssss': 29024, 'agoraphobics': 29025, 'abbreviate': 29026, 'officialshew': 29027, 'sanjaya': 29028, 'sftw': 29029, 'flatmate': 29030, 'nooooooooooooooo': 29031, '4g': 29032, 'africans': 29033, 'immense': 29034, 'agreeable': 29035, 'youmissed': 29036, 'byeeeeeeeee': 29037, 'cryy': 29038, 'greta': 29039, 'gooooooooo': 29040, '15c': 29041, '30c': 29042, 'keg': 29043, 'phillipa': 29044, 'recovers': 29045, 'flirt': 29046, 'skyfire': 29047, 'ageing': 29048, 'tytn': 29049, 'misanthrope': 29050, 'fugees': 29051, 'trapeze': 29052, 'bfe': 29053, 'javitz': 29054, 'cupcakey': 29055, 'diddnt': 29056, 'twittix': 29057, 'v1': 29058, 'sanath': 29059, 'lads': 29060, 'morse': 29061, 'gaze': 29062, '40th': 29063, 'struck': 29064, 'cryyy': 29065, 'lly': 29066, 'heffas': 29067, 'congrads': 29068, 'shriya': 29069, 'cajon': 29070, 'socialising': 29071, 'aerlingus': 29072, 'ryanair': 29073, 'billund': 29074, 'atcha': 29075, 'hoilday': 29076, 'finde': 29077, 'ryt': 29078, 'soichi': 29079, 'negishi': 29080, 'amai': 29081, 'koibito': 29082, 'prissy': 29083, 'nanosecond': 29084, 'goy': 29085, 'cavitie': 29086, 'chant': 29087, 'apology': 29088, 'weepy': 29089, 'sappy': 29090, 'ello': 29091, 'gahaha': 29092, 'ssshh': 29093, 'knowï¿½': 29094, 'liloven': 29095, 'innerchild': 29096, 'sqeaky': 29097, 'revel': 29098, 'excercise': 29099, 'shemar': 29100, 'itexa': 29101, 'overr': 29102, 'twinge': 29103, 'dha': 29104, 'cece': 29105, 'chanqes': 29106, 'bulldyke': 29107, 'eyein': 29108, 'ofcoooursee': 29109, 'pluss': 29110, 'incentive': 29111, 'hank': 29112, 'thompson': 29113, 'wharra': 29114, 'wartermelon': 29115, 'doggone': 29116, 'ponderosa': 29117, 'dvb': 29118, 'mochas': 29119, 'frappachinos': 29120, 'restarted': 29121, 'twetdeck': 29122, 'frommy': 29123, 'blackpool': 29124, 'makers': 29125, 'yogurting': 29126, 'mona': 29127, 'yoplait': 29128, 'tmorrow': 29129, 'geodefense': 29130, 'marrying': 29131, 'lovable': 29132, 'excess': 29133, 'directed': 29134, 'scarededededed': 29135, 'packes': 29136, 'wimbledon': 29137, 'maitreya': 29138, 'bobby': 29139, 'strippers': 29140, 'joemo': 29141, 'feds': 29142, 'hounding': 29143, 'dodged': 29144, 'cutee': 29145, 'nicho': 29146, 'lease': 29147, 'requoting': 29148, 'gyaan': 29149, 'muthu': 29150, 'entrepreneurs': 29151, 'aids': 29152, 'yuppp': 29153, 'roman': 29154, 'lq': 29155, 'tantalizingly': 29156, 'communism': 29157, 'desperatly': 29158, 'tron': 29159, 'christie': 29160, 'panther': 29161, 'dono': 29162, 'profy': 29163, 'genitals': 29164, 'whimpered': 29165, 'foul': 29166, 'gout': 29167, 'goodniqht': 29168, 'uhhhg': 29169, 'yoot': 29170, 'department': 29171, 'chalks': 29172, 'faders': 29173, 'undaunted': 29174, 'justified': 29175, 'throats': 29176, 'earaches': 29177, 'mishaaaaaaaa': 29178, 'skylight': 29179, 'grrrrrreeeeeaat': 29180, 'poughkeepsie': 29181, 'jorge': 29182, 'nuhhhh': 29183, 'ticketek': 29184, 'rane': 29185, 'agus': 29186, 'geology': 29187, 'kerri': 29188, 'sourness': 29189, 'snappier': 29190, 'responsive': 29191, 'amazingggg': 29192, 'orbit': 29193, 'mugging': 29194, 'paionks': 29195, 'throooooooooooooo': 29196, 'jonathon': 29197, 'famz': 29198, 'muskoka': 29199, 'kutcher': 29200, 'desks': 29201, 'dividers': 29202, 'cokies': 29203, 'mmmmmmmmmmmm': 29204, 'hopeflly': 29205, 'mileyyyyyy': 29206, 'nkkairplay': 29207, 'booya': 29208, 'billyidol': 29209, 'servings': 29210, 'chewbacca': 29211, 'leung': 29212, 'cupie': 29213, 'puncture': 29214, 'thereeeeeee': 29215, 'elise': 29216, 'pillage': 29217, 'cesna': 29218, 'wmids': 29219, '107': 29220, 'indefinitely': 29221, 'obvs': 29222, 'brochures': 29223, 'bwrc': 29224, 'wlda': 29225, 'dummyhead': 29226, 'throte': 29227, 'oooooooh': 29228, 'eeeeeeekkkkkkk': 29229, 'vittles': 29230, 'bww': 29231, 'ckin': 29232, 'tilaaa': 29233, 'traveled': 29234, 'aiza': 29235, 'workdays': 29236, 'ade': 29237, 'squarespace': 29238, 'otaku': 29239, 'bishonen': 29240, 'sleepdeprived': 29241, 'twestival': 29242, 'committee': 29243, 'shittttttttt': 29244, '4n': 29245, 'rog': 29246, 'esti': 29247, 'acum': 29248, 'smashspace': 29249, 'ssbb': 29250, 'dollies': 29251, 'marko': 29252, 'roseland': 29253, 'yummmmmyyyy': 29254, 'herbs': 29255, 'minibar': 29256, 'starups': 29257, 'swolen': 29258, 'shitt': 29259, 'nesscafï¿½': 29260, 'hetero': 29261, 'depth': 29262, 'jakeowen2009': 29263, 'snowbear': 29264, 'bangus': 29265, 'folkiesss': 29266, 'ewwy': 29267, 'talkkk': 29268, 'lurvee': 29269, 'longgg': 29270, 'enormous': 29271, 'ftr': 29272, 'avoided': 29273, 'cinder': 29274, 'dantas': 29275, 'porky': 29276, 'beavs': 29277, 'rebuilding': 29278, 'briefings': 29279, 'litte': 29280, 'mnet': 29281, 'schmoo': 29282, 'changin': 29283, 'draining': 29284, 'mistreated': 29285, 'hb': 29286, 'snsd': 29287, '023': 29288, 'hoisin': 29289, 'edmund': 29290, 'tweetbreak': 29291, 'lml': 29292, 'pider': 29293, 'pade': 29294, 'ryder': 29295, 'playgroup': 29296, 'arc': 29297, 'douchie': 29298, 'clive': 29299, 'earnt': 29300, 'fleece': 29301, 'sunehre': 29302, 'phi': 29303, 'mademoiselle': 29304, 'sunburnnn': 29305, 'achurley': 29306, 'satisfy': 29307, 'headrush': 29308, 'finalizer': 29309, 'gfx': 29310, '30rc4': 29311, 'suspend': 29312, 'mem': 29313, 'y360': 29314, 'rï¿½t': 29315, 'nhanh': 29316, 'thï¿½i': 29317, 'helens': 29318, 'pradas': 29319, 'dunks': 29320, 'raly': 29321, 'creates': 29322, 'wayyyyy': 29323, 'shia': 29324, 'yippiee': 29325, 'lovesss': 29326, 'glassers': 29327, 'calla': 29328, 'awsum': 29329, 'tgi': 29330, 'charmer': 29331, 'probby': 29332, 'pythonkings': 29333, 'nl': 29334, 'starcon': 29335, 'psygnosis': 29336, 'amiga': 29337, 'wlan': 29338, 'tweetversation': 29339, 'haaaw': 29340, 'misfit': 29341, 'sponge': 29342, 'bobs': 29343, 'phishing': 29344, 'terminals': 29345, 'soldering': 29346, 'fierce': 29347, 'stripes': 29348, 'noow': 29349, 'calmmm': 29350, 'polvoron': 29351, 'yuumm': 29352, 'ilocos': 29353, 'nueva': 29354, 'ecija': 29355, 'adter': 29356, 'fianly': 29357, 'holllaaa': 29358, 'khyy': 29359, 'fenwayyy': 29360, 'tourture': 29361, 'itonlinelol': 29362, 'mobileme': 29363, 'kknow': 29364, 'uuuups': 29365, 'doesnï¿½t': 29366, 'bios': 29367, 'flashpoints': 29368, 'kpfa': 29369, 'chevron': 29370, 'concer': 29371, 'chilee': 29372, 'duckraces': 29373, 'jiayou': 29374, 'mcsmoothies': 29375, 'forrest': 29376, 'fpu': 29377, 'scheduler': 29378, 'maggots': 29379, 'derivative': 29380, 'identity': 29381, 'coty': 29382, 'nnc': 29383, 'vmail': 29384, 'div': 29385, 'hubz': 29386, 'organising': 29387, 'franco': 29388, 'footyball': 29389, 'veranda': 29390, 'twitterheads': 29391, 'laqueshaa': 29392, 'ehhehehe': 29393, 'ryann': 29394, 'poise': 29395, 'rygegrej': 29396, 'lanka': 29397, 'arbit': 29398, 'magout': 29399, 'fated': 29400, 'tetens': 29401, 'cissbury': 29402, 'jglam': 29403, 'sanibel': 29404, 'simfinger': 29405, 'irape': 29406, 'grecia': 29407, 'fershure': 29408, 'twittername': 29409, 'kristie': 29410, 'wadge': 29411, 'photofiltre': 29412, 'photoscape': 29413, 'gimp': 29414, 'lifecam': 29415, 'vx': 29416, 'combonations': 29417, 'canadas': 29418, 'remastering': 29419, 'bunuelos': 29420, 'exiting': 29421, 'benefits': 29422, 'carly': 29423, 'gees': 29424, 'varit': 29425, 'pï¿½': 29426, 'ext4': 29427, 'filesystem': 29428, 'operability': 29429, 'mels': 29430, 'mcdicks': 29431, 'relaxant': 29432, 'narcotic': 29433, 'moist': 29434, 'creep': 29435, '930a': 29436, '730p': 29437, 'anerexic': 29438, 'posterrr': 29439, 'judgements': 29440, 'vouches': 29441, 'uuuugh': 29442, 'paranthas': 29443, 'giver': 29444, 'rewards': 29445, 'givers': 29446, 'hilda': 29447, 'gallares': 29448, 'muahahahhahaha': 29449, 'padtron': 29450, 'sheila': 29451, 'dex': 29452, 'wongo': 29453, 'poncho': 29454, 'therest': 29455, 'niggasz': 29456, 'corby': 29457, 'alicia': 29458, '715': 29459, 'queenrania': 29460, 'frugal': 29461, 'camerabag': 29462, 'lolo': 29463, 'otrip': 29464, 'xt': 29465, 'muh': 29466, 'peacock': 29467, 'lesley': 29468, 'morninq': 29469, 'redwood': 29470, 'oop': 29471, 'embraced': 29472, 'hor': 29473, 'lounged': 29474, 'cottys': 29475, 'zeke': 29476, 'retsi': 29477, 'ditch': 29478, 'malfunctioning': 29479, 'sundayshoutout': 29480, 'margs': 29481, 'shady': 29482, 'caspian': 29483, 'leavn': 29484, 'albuquerque': 29485, 'maaaan': 29486, 'sourcing': 29487, 'sinhalenfoss': 29488, 'ep22': 29489, 'belief': 29490, 'ahmazing': 29491, 'bdays': 29492, 'guerrilla': 29493, 'burners': 29494, 'mcglaclan': 29495, 'jpnnbak': 29496, 'durban': 29497, 'undrstand': 29498, 'busays': 29499, 'waray': 29500, 'commencement': 29501, 'protest': 29502, 'krauss': 29503, 'branded': 29504, 'collections': 29505, 'raving': 29506, 'beautifulness': 29507, 'motorsport': 29508, 'supastition': 29509, 'partaaaay': 29510, 'harmon': 29511, 'alreet': 29512, 'trivun': 29513, 'adulthood': 29514, 'mising': 29515, '15hrs': 29516, 'fooood': 29517, 'writting': 29518, 'cking': 29519, '1minute': 29520, 'muslim': 29521, 'briyani': 29522, 'chato': 29523, 'vicia': 29524, 'hoodies': 29525, 'dayem': 29526, 'sbarro': 29527, 'displeased': 29528, 'rocknrolla': 29529, 'biketo': 29530, '1300': 29531, 'dd7': 29532, 'ds9': 29533, 'fickleness': 29534, 'senioritis': 29535, 'slackin': 29536, 'whyy': 29537, 'passs': 29538, 'gente': 29539, 'hahahahahahhaaaa': 29540, 'randy': 29541, 'vlogcandy': 29542, 'thaw': 29543, 'guuud': 29544, 'pantien': 29545, 'messgae': 29546, 'saver': 29547, 'alreay': 29548, 'bae': 29549, 'tgthr': 29550, 'jonesy': 29551, 'wimpers': 29552, 'prettie': 29553, 'esspensive': 29554, 'haff': 29555, 'bearfoot': 29556, 'sroach': 29557, 'bigtoach': 29558, 'definitley': 29559, 'buxton': 29560, 'capoeira': 29561, 'ststas': 29562, 'excepting': 29563, 'frustratingly': 29564, 'bellagio': 29565, 'unplugging': 29566, 'messi': 29567, 'teng': 29568, 'kates': 29569, 'afty': 29570, 'attachment': 29571, 'kinny': 29572, 'mowed': 29573, 'demon': 29574, 'coles': 29575, 'ravishing': 29576, 'commandments': 29577, 'enthused': 29578, 'ticklish': 29579, 'birdie': 29580, 'fist': 29581, 'biker': 29582, 'imagining': 29583, 'ggggggg': 29584, 'niteeeeeeee': 29585, 'damjust': 29586, 'lumiere': 29587, 'tixs': 29588, 'llama': 29589, 'birthdayyyy': 29590, 'pogs': 29591, 'gutwrenching': 29592, 'shrunk': 29593, 'spooning': 29594, 'coloured': 29595, 'butthole': 29596, 'tch': 29597, 'rawks': 29598, 'drooping': 29599, 'forseeable': 29600, 'emblem': 29601, '1750': 29602, 'alwas': 29603, 'magix': 29604, 'rhythm': 29605, 'feud': 29606, 'alwayyyyyyyssssssss': 29607, 'thrusting': 29608, 'parenthood': 29609, 'inflicted': 29610, 'quadriceps': 29611, 'fading': 29612, 'sexxieluv': 29613, 'puffyn': 29614, 'mollie': 29615, 'smirky': 29616, 'foa': 29617, 'storys': 29618, 'conti': 29619, 'lï¿½get': 29620, 'dï¿½g': 29621, 'morphed': 29622, 'mngr': 29623, 'sikkkeee': 29624, 'sponsor': 29625, 'tallcree': 29626, 'communications': 29627, 'juicy': 29628, 'ajab': 29629, 'shode': 29630, 'axayi': 29631, 'migiram': 29632, 'desribe': 29633, '60hrs': 29634, 'sliverlight': 29635, 'potted': 29636, 'geraniums': 29637, 'shwasteddddddddd': 29638, 'crunchy': 29639, 'ohhhhhh': 29640, 'stina': 29641, 'whispergifts': 29642, 'registry': 29643, 'maaaaaaaaajor': 29644, 'whoopiiiiii': 29645, 'seos': 29646, 'submitting': 29647, 'quarry': 29648, 'shipley': 29649, 'baildon': 29650, 'moor': 29651, 'duetter': 29652, 'experiement': 29653, 'authorized': 29654, 'refills': 29655, 'mockinbird': 29656, 'misshu': 29657, 'lova': 29658, 'bbff': 29659, 'bord': 29660, 'ragoons': 29661, 'yumb': 29662, 'killa': 29663, 'owm': 29664, 'tryinh': 29665, 'bettterrrrr': 29666, 'kuantan': 29667, 'asthetics': 29668, 'kinf': 29669, 'wompppppp': 29670, 'ulu': 29671, 'gerais': 29672, 'replete': 29673, 'tweettttt': 29674, 'creased': 29675, 'nikes': 29676, 'awwwwwwww': 29677, 'omgzzz': 29678, 'homer': 29679, 'simspon': 29680, 'yett': 29681, 'hrmm': 29682, 'spuratic': 29683, 'thinksm': 29684, 'typin': 29685, 'disposition': 29686, 'talkedabout': 29687, 'trimet': 29688, 'awayyyyy': 29689, 'stressfree': 29690, 'karazzzy': 29691, 'yeahhhhhhhhhhhhh': 29692, 'conjunctivitis': 29693, 'heres': 29694, 'shiney': 29695, 'freakish': 29696, 'malls': 29697, 'craigie': 29698, 'downsides': 29699, 'carnivore': 29700, 'privately': 29701, 'myspaceee': 29702, 'squatting': 29703, 'brazillians': 29704, 'oowww': 29705, 'epitomised': 29706, 'deff': 29707, 'weekened': 29708, 'lollies': 29709, 'dohh': 29710, 'luking': 29711, 'efficient': 29712, 'witnessed': 29713, 'saginaki': 29714, 'aggregate': 29715, 'localgovcamp': 29716, 'ahte': 29717, 'rolf': 29718, 'sedaris': 29719, 'waving': 29720, 'diablo': 29721, 'barked': 29722, 'kahit': 29723, 'pesos': 29724, 'tactical': 29725, 'gloucester': 29726, 'aaaaawhh': 29727, 'distrcated': 29728, 'hazy': 29729, 'valiantly': 29730, 'briefs': 29731, 'littelist': 29732, 'departed': 29733, 'finales': 29734, 'dissapointment': 29735, 'pleaseyour': 29736, 'starvin': 29737, 'eastcoast': 29738, '2do': 29739, 'hoooooooooooomeeeee': 29740, 'bonfires': 29741, 'cons': 29742, 'lurveeeeee': 29743, 'poopie': 29744, 'hurtssss': 29745, 'tino': 29746, 'edinburghac': 29747, 'ajax': 29748, 'autorefresh': 29749, 'kelsenator': 29750, 'sahm': 29751, 'bws': 29752, 'clayton': 29753, 'resturant': 29754, 'huckabee': 29755, 'hawthorn': 29756, 'heartstrings': 29757, 'picturisation': 29758, 'g11y': 29759, 'contemporary': 29760, 'hilariousness': 29761, 'woodburn': 29762, 'isabel': 29763, 'surveillance': 29764, 'increases': 29765, 'nasa': 29766, 'orchid': 29767, 'insides': 29768, 'sdp': 29769, 'franz': 29770, 'friended': 29771, 'sommat': 29772, 'boobfeed': 29773, 'breasts': 29774, '2me': 29775, 'amajanese': 29776, 'takeover': 29777, 'torturing': 29778, 'longgggg': 29779, 'bjj': 29780, 'mauls': 29781, 'blackets': 29782, 'curlers': 29783, 'intrusion': 29784, 'carmike': 29785, 'constipated': 29786, 'oldy': 29787, 'freakyfriday': 29788, 'concussions': 29789, 'rathbone': 29790, 'bravotv': 29791, 'existed': 29792, 'diaries': 29793, 'gooooooodmorning': 29794, 'browning': 29795, 'sweetiepie': 29796, 'livelovesing': 29797, 'assimilated': 29798, 'reverse': 29799, 'overdraft': 29800, 'draws': 29801, 'heel': 29802, 'cobras': 29803, 'wantewd': 29804, 'unto': 29805, 'hyhtt': 29806, 'blackberrymessenger': 29807, 'stace': 29808, 'usf': 29809, 'koret': 29810, 'r2imt': 29811, 'hubbies': 29812, 'tylers': 29813, 'exausted': 29814, 'johny': 29815, 'pque': 29816, 'pinas': 29817, 'cheerio': 29818, 'drasda': 29819, 'gaaah': 29820, 'darfur': 29821, 'policies': 29822, 'face2face': 29823, 'palisades': 29824, 'numan': 29825, 'remixes': 29826, 'garley': 29827, 'yummiest': 29828, 'ipoh': 29829, 'booziest': 29830, 'dread': 29831, 'copying': 29832, '13gigs': 29833, 'uns': 29834, 'colegas': 29835, 'meus': 29836, 'afgan': 29837, 'ponying': 29838, 'weeelcome': 29839, 'soprano': 29840, 'floods': 29841, 'acorn': 29842, 'danwtmoon': 29843, 'yaoo': 29844, 'sonnnny': 29845, 'webtop': 29846, 'itell': 29847, 'summaries': 29848, 'thaty': 29849, 'relise': 29850, 'ridin': 29851, 'cb': 29852, 'edgy': 29853, 'affairs': 29854, 'southwestern': 29855, 'threadless': 29856, '1095': 29857, 'raininy': 29858, 'subsiding': 29859, 'dealin': 29860, 'everest': 29861, 'lold': 29862, 'heute': 29863, 'roadshow': 29864, 'lmbo': 29865, '135': 29866, 'lakas': 29867, 'nalang': 29868, 'bandana': 29869, 'clemency': 29870, 'fuuuuu': 29871, 'helllla': 29872, 'rels': 29873, 'colton': 29874, 'noah': 29875, 'rehearse': 29876, 'jordyn': 29877, 'earlyer': 29878, 'lilime': 29879, 'lightner': 29880, 'extensive': 29881, 'guillian': 29882, 'keygens': 29883, 'soompiradio': 29884, 'nation': 29885, 'pxy': 29886, 'catvampees': 29887, 'quarantine': 29888, 'recouperating': 29889, 'slefish': 29890, 'outlive': 29891, 'beav': 29892, 'gibson': 29893, 'renamed': 29894, 'myth': 29895, 'zongzi': 29896, 'vidjagame': 29897, 'vgtribune': 29898, 'compaired': 29899, 'bangalore': 29900, 'uup': 29901, 'whre': 29902, 'expecto': 29903, 'patronum': 29904, 'plzzzz': 29905, 'bidden': 29906, 'folo': 29907, 'nomination': 29908, 'tanapolis': 29909, 'bret': 29910, 'guility': 29911, 'jihoon': 29912, 'lexy': 29913, 'braving': 29914, 'theview': 29915, 'yeaup': 29916, 'sweeeeet': 29917, 'readysetgo': 29918, 'ghey': 29919, 'tlk': 29920, 'minutesss': 29921, 'sabor': 29922, 'cubano': 29923, 'sammiches': 29924, 'oowwwww': 29925, 'trnds3trs': 29926, 'betterrrrrrrr': 29927, 'ulead': 29928, 'shen': 29929, 'quotable': 29930, 'gentoo': 29931, 'reinstallation': 29932, 'cuute': 29933, 'suffered': 29934, 'hajji': 29935, 'baffles': 29936, 'bawkmarked': 29937, '500d': 29938, 'guitarist': 29939, 'cholocate': 29940, 'wacko': 29941, 'piggys': 29942, 'nested': 29943, 'invert': 29944, 'yayschoolisout': 29945, 'excite': 29946, 'botanical': 29947, 'aweee': 29948, 'nay': 29949, 'mkting': 29950, 'noboby': 29951, 'harrymcflytosing': 29952, 'mileey': 29953, 'voe': 29954, 'stance': 29955, 'meltingaway': 29956, 'queef': 29957, 'kirkland': 29958, 'grouping': 29959, 'participants': 29960, 'dayquil': 29961, 'portrait': 29962, 'photoshoots': 29963, 'tangooo': 29964, 'aaaaawwwwwww': 29965, 'kaleidoscope': 29966, 'rosalie': 29967, 'dictionary': 29968, 'waching': 29969, 'antomy': 29970, 'ark': 29971, 'builder': 29972, 'affiliation': 29973, 'ohï¿½': 29974, 'robe': 29975, 'belgrade': 29976, '3c': 29977, 'onigiri': 29978, 'cfs': 29979, 'cryer': 29980, 'affect': 29981, '8830': 29982, 'pistons': 29983, 'respected': 29984, 'sennheiser': 29985, 'earbuds': 29986, 'bishopstorford': 29987, 'hawaiian': 29988, 'reused': 29989, 'laaandan': 29990, 'prodigiy': 29991, '45th': 29992, 'plagiarism': 29993, 'aztec': 29994, 'paranoif': 29995, 'heeeeeeey': 29996, 'shannn': 29997, 'extends': 29998, 'sleepies': 29999, 'poorlies': 30000, 'tasking': 30001, 'prompting': 30002, 'catt': 30003, 'bordatella': 30004, 'lured': 30005, 'amaaaazing': 30006, 'afriad': 30007, 'pooooor': 30008, 'todayyyyy': 30009, 'carbonara': 30010, 'todo': 30011, 'comiccon': 30012, 'busier': 30013, 'easels': 30014, 'reaaaallly': 30015, 'refunded': 30016, 'boobie': 30017, 'keri': 30018, 'hilson': 30019, 'dropper': 30020, 'oda': 30021, 'walkman': 30022, 'wap': 30023, 'raymond': 30024, 'occasion': 30025, 'weezer': 30026, 'douchenozzle': 30027, 'investor': 30028, 'pester': 30029, 'sylvester': 30030, 'requester': 30031, 'booster': 30032, 'woork': 30033, 'overstuffed': 30034, 'echooooo': 30035, 'inshaa': 30036, '1130': 30037, 'feeeeeed': 30038, 'gifted': 30039, 'foil': 30040, 'abueltia': 30041, 'protester': 30042, 'quester': 30043, 'sequester': 30044, 'caveat': 30045, 'sorehead': 30046, 'birder': 30047, 'carnage': 30048, 'destruction': 30049, 'ssshhh': 30050, 'disturb': 30051, 'fabs': 30052, 'trevor': 30053, 'peacin': 30054, 'peeing': 30055, 'changi': 30056, 'penang': 30057, 'funnyy': 30058, 'joshua': 30059, 'niiick': 30060, 'asasgdygyasdgy': 30061, 'indecicive': 30062, 'wattup': 30063, 'jv': 30064, 'tirith': 30065, 'piper': 30066, 'conked': 30067, 'emirates': 30068, 'richter': 30069, 'packin': 30070, 'tmorow': 30071, 'busyy': 30072, 'aquired': 30073, 'oppertunity': 30074, 'hurtful': 30075, 'humphires': 30076, 'twittpic': 30077, 'diddy': 30078, 'buffie': 30079, 'cigar': 30080, 'inooo': 30081, 'boardgame': 30082, 'bookchaseï¿½': 30083, 'casue': 30084, 'niiiighht': 30085, 'amazzzing': 30086, 'wordddss': 30087, 'pointless': 30088, 'retirment': 30089, 'nutt': 30090, 'collar': 30091, 'bekah': 30092, 'gogowww': 30093, 'acaaaaaabou': 30094, 'orignal': 30095, 'skips': 30096, 'jeanne': 30097, 'wdw': 30098, 'haavent': 30099, 'everyond': 30100, 'ahold': 30101, 'fruitbat': 30102, 'cldnt': 30103, 'oxoxo': 30104, 'russtle': 30105, 'daxx': 30106, 'vs2003': 30107, 'generates': 30108, 'uninstall': 30109, 'achieving': 30110, 'cumbersome': 30111, 'yosemite': 30112, 'ewok': 30113, 'twitterfriends': 30114, 'whataday': 30115, 'ashleycat': 30116, 'rwhats': 30117, 'buts': 30118, 'theyu': 30119, 'kut3': 30120, 'thermal': 30121, '75c': 30122, 'scousers': 30123, 'haircuts': 30124, 'splits': 30125, '1992': 30126, 'passo': 30127, 'ohai': 30128, 'wilkes': 30129, 'scranton': 30130, 'estimated': 30131, 'eventho': 30132, 'folkestone': 30133, 'maitu': 30134, 'annivarsary': 30135, 'brainy': 30136, 'webkit': 30137, 'hahahhah': 30138, 'gables': 30139, 'wither': 30140, 'ambyr': 30141, '6500km': 30142, 'gis': 30143, 'joininghe': 30144, 'wheeeeeeeeeeee': 30145, 'overexcited': 30146, 'bandaid': 30147, 'brass': 30148, 'turkeys': 30149, 'practitioner': 30150, 'devoted': 30151, 'transmission': 30152, 'doesntfeelwell': 30153, 'cello': 30154, 'cutieee': 30155, 'towed': 30156, 'redgie': 30157, 'splashtown': 30158, 'mozert': 30159, 'creature': 30160, 'jetway': 30161, 'layer': 30162, 'freefest': 30163, 'twitterless': 30164, 'whem': 30165, 'mealtimes': 30166, 'baristas': 30167, 'commonalities': 30168, 'otherinbox': 30169, 'dongggg': 30170, 'rounding': 30171, 'putt': 30172, 'yes2': 30173, 'allways': 30174, '24hours': 30175, 'possiabally': 30176, 'thunderrrr': 30177, 'blanky': 30178, 'awareness': 30179, 'principle': 30180, 'mourners': 30181, 'olawd': 30182, 'enable': 30183, 'duped': 30184, 'broughty': 30185, 'gangstarr': 30186, 'exgirl': 30187, 'nas': 30188, 'somethign': 30189, 'hjaia': 30190, 'covington': 30191, 'jacqueline': 30192, 'wilson': 30193, 'cbbc': 30194, 'jodie': 30195, 'observed': 30196, 'exploit': 30197, 'giirll': 30198, 'goddaughters': 30199, 'nku': 30200, 'terrell': 30201, 'district': 30202, 'mandarinmonday': 30203, 'idestroy': 30204, 'thassa': 30205, 'rolando': 30206, 'leftovers': 30207, 'pricey': 30208, '209': 30209, '205': 30210, 'gordon': 30211, 'rochelle': 30212, 'meth': 30213, 'brynn': 30214, 'vegetables': 30215, 'pitied': 30216, 'videoblog': 30217, 'nasism': 30218, 'hahahahahah': 30219}\n"
     ]
    }
   ],
   "source": [
    "w_idx = tokenizer.word_index\n",
    "print(\"Word Index:\", word_index)"
   ]
  },
  {
   "cell_type": "code",
   "execution_count": 97,
   "metadata": {},
   "outputs": [
    {
     "ename": "ValueError",
     "evalue": "Unrecognized keyword arguments passed to Embedding: {'input_length': 160}",
     "output_type": "error",
     "traceback": [
      "\u001b[1;31m---------------------------------------------------------------------------\u001b[0m",
      "\u001b[1;31mValueError\u001b[0m                                Traceback (most recent call last)",
      "Cell \u001b[1;32mIn[97], line 5\u001b[0m\n\u001b[0;32m      2\u001b[0m lstm_out \u001b[38;5;241m=\u001b[39m \u001b[38;5;241m250\u001b[39m\n\u001b[0;32m      4\u001b[0m model \u001b[38;5;241m=\u001b[39m Sequential()\n\u001b[1;32m----> 5\u001b[0m model\u001b[38;5;241m.\u001b[39madd(Embedding(\u001b[38;5;28mlen\u001b[39m(w_idx) \u001b[38;5;241m+\u001b[39m\u001b[38;5;241m1\u001b[39m , embed_dim,input_length \u001b[38;5;241m=\u001b[39m X_test_pad\u001b[38;5;241m.\u001b[39mshape[\u001b[38;5;241m1\u001b[39m]))\n\u001b[0;32m      6\u001b[0m model\u001b[38;5;241m.\u001b[39madd(SpatialDropout1D(\u001b[38;5;241m0.2\u001b[39m))\n\u001b[0;32m      7\u001b[0m model\u001b[38;5;241m.\u001b[39madd(LSTM(lstm_out, dropout\u001b[38;5;241m=\u001b[39m\u001b[38;5;241m0.2\u001b[39m, recurrent_dropout\u001b[38;5;241m=\u001b[39m\u001b[38;5;241m0.2\u001b[39m))\n",
      "File \u001b[1;32m~\\miniconda3\\envs\\nlpenv\\Lib\\site-packages\\keras\\src\\layers\\core\\embedding.py:81\u001b[0m, in \u001b[0;36mEmbedding.__init__\u001b[1;34m(self, input_dim, output_dim, embeddings_initializer, embeddings_regularizer, embeddings_constraint, mask_zero, lora_rank, **kwargs)\u001b[0m\n\u001b[0;32m     70\u001b[0m \u001b[38;5;28;01mdef\u001b[39;00m \u001b[38;5;21m__init__\u001b[39m(\n\u001b[0;32m     71\u001b[0m     \u001b[38;5;28mself\u001b[39m,\n\u001b[0;32m     72\u001b[0m     input_dim,\n\u001b[1;32m   (...)\u001b[0m\n\u001b[0;32m     79\u001b[0m     \u001b[38;5;241m*\u001b[39m\u001b[38;5;241m*\u001b[39mkwargs,\n\u001b[0;32m     80\u001b[0m ):\n\u001b[1;32m---> 81\u001b[0m     \u001b[38;5;28msuper\u001b[39m()\u001b[38;5;241m.\u001b[39m\u001b[38;5;21m__init__\u001b[39m(\u001b[38;5;241m*\u001b[39m\u001b[38;5;241m*\u001b[39mkwargs)\n\u001b[0;32m     82\u001b[0m     \u001b[38;5;28mself\u001b[39m\u001b[38;5;241m.\u001b[39minput_dim \u001b[38;5;241m=\u001b[39m input_dim\n\u001b[0;32m     83\u001b[0m     \u001b[38;5;28mself\u001b[39m\u001b[38;5;241m.\u001b[39moutput_dim \u001b[38;5;241m=\u001b[39m output_dim\n",
      "File \u001b[1;32m~\\miniconda3\\envs\\nlpenv\\Lib\\site-packages\\keras\\src\\layers\\layer.py:264\u001b[0m, in \u001b[0;36mLayer.__init__\u001b[1;34m(self, activity_regularizer, trainable, dtype, autocast, name, **kwargs)\u001b[0m\n\u001b[0;32m    262\u001b[0m     \u001b[38;5;28mself\u001b[39m\u001b[38;5;241m.\u001b[39m_input_shape_arg \u001b[38;5;241m=\u001b[39m input_shape_arg\n\u001b[0;32m    263\u001b[0m \u001b[38;5;28;01mif\u001b[39;00m kwargs:\n\u001b[1;32m--> 264\u001b[0m     \u001b[38;5;28;01mraise\u001b[39;00m \u001b[38;5;167;01mValueError\u001b[39;00m(\n\u001b[0;32m    265\u001b[0m         \u001b[38;5;124m\"\u001b[39m\u001b[38;5;124mUnrecognized keyword arguments \u001b[39m\u001b[38;5;124m\"\u001b[39m\n\u001b[0;32m    266\u001b[0m         \u001b[38;5;124mf\u001b[39m\u001b[38;5;124m\"\u001b[39m\u001b[38;5;124mpassed to \u001b[39m\u001b[38;5;132;01m{\u001b[39;00m\u001b[38;5;28mself\u001b[39m\u001b[38;5;241m.\u001b[39m\u001b[38;5;18m__class__\u001b[39m\u001b[38;5;241m.\u001b[39m\u001b[38;5;18m__name__\u001b[39m\u001b[38;5;132;01m}\u001b[39;00m\u001b[38;5;124m: \u001b[39m\u001b[38;5;132;01m{\u001b[39;00mkwargs\u001b[38;5;132;01m}\u001b[39;00m\u001b[38;5;124m\"\u001b[39m\n\u001b[0;32m    267\u001b[0m     )\n\u001b[0;32m    269\u001b[0m \u001b[38;5;28mself\u001b[39m\u001b[38;5;241m.\u001b[39mbuilt \u001b[38;5;241m=\u001b[39m \u001b[38;5;28;01mFalse\u001b[39;00m\n\u001b[0;32m    270\u001b[0m \u001b[38;5;28mself\u001b[39m\u001b[38;5;241m.\u001b[39mautocast \u001b[38;5;241m=\u001b[39m autocast\n",
      "\u001b[1;31mValueError\u001b[0m: Unrecognized keyword arguments passed to Embedding: {'input_length': 160}"
     ]
    }
   ],
   "source": [
    "embed_dim = 160\n",
    "lstm_out = 250\n",
    "\n",
    "model = Sequential()\n",
    "model.add(Embedding(len(w_idx) +1 , embed_dim,input_length = X_test_pad.shape[1]))\n",
    "model.add(SpatialDropout1D(0.2))\n",
    "model.add(LSTM(lstm_out, dropout=0.2, recurrent_dropout=0.2))\n",
    "model.add(keras.layers.core.Dense(13, activation='softmax'))\n",
    "#adam rmsprop \n",
    "model.compile(loss = \"categorical_crossentropy\", optimizer='adam',metrics = ['accuracy'])\n",
    "print(model.summary())"
   ]
  },
  {
   "cell_type": "code",
   "execution_count": 98,
   "metadata": {},
   "outputs": [],
   "source": [
    "batch_size = 32"
   ]
  },
  {
   "cell_type": "code",
   "execution_count": 99,
   "metadata": {},
   "outputs": [
    {
     "ename": "ValueError",
     "evalue": "You must call `compile()` before using the model.",
     "output_type": "error",
     "traceback": [
      "\u001b[1;31m---------------------------------------------------------------------------\u001b[0m",
      "\u001b[1;31mValueError\u001b[0m                                Traceback (most recent call last)",
      "Cell \u001b[1;32mIn[99], line 1\u001b[0m\n\u001b[1;32m----> 1\u001b[0m model\u001b[38;5;241m.\u001b[39mfit(X_train_pad, y_train, epochs \u001b[38;5;241m=\u001b[39m Epoch, batch_size\u001b[38;5;241m=\u001b[39mbatch_size,validation_data\u001b[38;5;241m=\u001b[39m(X_test_pad, y_test))\n",
      "File \u001b[1;32m~\\miniconda3\\envs\\nlpenv\\Lib\\site-packages\\keras\\src\\utils\\traceback_utils.py:122\u001b[0m, in \u001b[0;36mfilter_traceback.<locals>.error_handler\u001b[1;34m(*args, **kwargs)\u001b[0m\n\u001b[0;32m    119\u001b[0m     filtered_tb \u001b[38;5;241m=\u001b[39m _process_traceback_frames(e\u001b[38;5;241m.\u001b[39m__traceback__)\n\u001b[0;32m    120\u001b[0m     \u001b[38;5;66;03m# To get the full stack trace, call:\u001b[39;00m\n\u001b[0;32m    121\u001b[0m     \u001b[38;5;66;03m# `keras.config.disable_traceback_filtering()`\u001b[39;00m\n\u001b[1;32m--> 122\u001b[0m     \u001b[38;5;28;01mraise\u001b[39;00m e\u001b[38;5;241m.\u001b[39mwith_traceback(filtered_tb) \u001b[38;5;28;01mfrom\u001b[39;00m \u001b[38;5;28;01mNone\u001b[39;00m\n\u001b[0;32m    123\u001b[0m \u001b[38;5;28;01mfinally\u001b[39;00m:\n\u001b[0;32m    124\u001b[0m     \u001b[38;5;28;01mdel\u001b[39;00m filtered_tb\n",
      "File \u001b[1;32m~\\miniconda3\\envs\\nlpenv\\Lib\\site-packages\\keras\\src\\trainers\\trainer.py:887\u001b[0m, in \u001b[0;36mTrainer._assert_compile_called\u001b[1;34m(self, method_name)\u001b[0m\n\u001b[0;32m    885\u001b[0m \u001b[38;5;28;01melse\u001b[39;00m:\n\u001b[0;32m    886\u001b[0m     msg \u001b[38;5;241m+\u001b[39m\u001b[38;5;241m=\u001b[39m \u001b[38;5;124mf\u001b[39m\u001b[38;5;124m\"\u001b[39m\u001b[38;5;124mcalling `\u001b[39m\u001b[38;5;132;01m{\u001b[39;00mmethod_name\u001b[38;5;132;01m}\u001b[39;00m\u001b[38;5;124m()`.\u001b[39m\u001b[38;5;124m\"\u001b[39m\n\u001b[1;32m--> 887\u001b[0m \u001b[38;5;28;01mraise\u001b[39;00m \u001b[38;5;167;01mValueError\u001b[39;00m(msg)\n",
      "\u001b[1;31mValueError\u001b[0m: You must call `compile()` before using the model."
     ]
    }
   ],
   "source": [
    "model.fit(X_train_pad, y_train, epochs = Epoch, batch_size=batch_size,validation_data=(X_test_pad, y_test))"
   ]
  },
  {
   "cell_type": "code",
   "execution_count": 100,
   "metadata": {},
   "outputs": [],
   "source": [
    "def get_sentiment(model,text):\n",
    "    text = clean_text(text)\n",
    "    #tokenize\n",
    "    twt = token.texts_to_sequences([text])\n",
    "    twt = sequence.pad_sequences(twt, maxlen=max_len, dtype='int32')\n",
    "    sentiment = model.predict(twt,batch_size=1,verbose = 2)\n",
    "    sent = np.round(np.dot(sentiment,100).tolist(),0)[0]\n",
    "    result = pd.DataFrame([sent_to_id.keys(),sent]).T\n",
    "    result.columns = [\"sentiment\",\"percentage\"]\n",
    "    result=result[result.percentage !=0]\n",
    "    return result"
   ]
  },
  {
   "cell_type": "code",
   "execution_count": 101,
   "metadata": {},
   "outputs": [],
   "source": [
    "def plot_result(df):\n",
    "    #colors=['#D50000','#000000','#008EF8','#F5B27B','#EDECEC','#D84A09','#019BBD','#FFD000','#7800A0','#098F45','#807C7C','#85DDE9','#F55E10']\n",
    "    #fig = go.Figure(data=[go.Pie(labels=df.sentiment,values=df.percentage, hole=.3,textinfo='percent',hoverinfo='percent+label',marker=dict(colors=colors, line=dict(color='#000000', width=2)))])\n",
    "    #fig.show()\n",
    "    colors={'love':'rgb(213,0,0)','empty':'rgb(0,0,0)',\n",
    "                    'sadness':'rgb(0,142,248)','enthusiasm':'rgb(245,178,123)',\n",
    "                    'neutral':'rgb(237,236,236)','worry':'rgb(216,74,9)',\n",
    "                    'surprise':'rgb(1,155,189)','fun':'rgb(255,208,0)',\n",
    "                    'hate':'rgb(120,0,160)','happiness':'rgb(9,143,69)',\n",
    "                    'boredom':'rgb(128,124,124)','relief':'rgb(133,221,233)',\n",
    "                    'anger':'rgb(245,94,16)'}\n",
    "    col_2={}\n",
    "    for i in result.sentiment.to_list():\n",
    "        col_2[i]=colors[i]\n",
    "    fig = px.pie(df, values='percentage', names='sentiment',color='sentiment',color_discrete_map=col_2,hole=0.3)\n",
    "    fig.show()"
   ]
  },
  {
   "cell_type": "markdown",
   "metadata": {},
   "source": [
    "### Test LSTM Results <a class=\"anchor\" id=\"m-lr\"></a>\n",
    "<a href=\"#toc\"><img src= \"https://upload.wikimedia.org/wikipedia/commons/thumb/2/20/Circle-icons-arrow-up.svg/1200px-Circle-icons-arrow-up.svg.png\" style=\"width:20px;hight:20px;float:left\" >Back to the table of contents</a>"
   ]
  },
  {
   "cell_type": "code",
   "execution_count": 102,
   "metadata": {},
   "outputs": [
    {
     "ename": "AttributeError",
     "evalue": "'NoneType' object has no attribute 'texts_to_sequences'",
     "output_type": "error",
     "traceback": [
      "\u001b[1;31m---------------------------------------------------------------------------\u001b[0m",
      "\u001b[1;31mAttributeError\u001b[0m                            Traceback (most recent call last)",
      "Cell \u001b[1;32mIn[102], line 1\u001b[0m\n\u001b[1;32m----> 1\u001b[0m result \u001b[38;5;241m=\u001b[39mget_sentiment(model,\u001b[38;5;124m\"\u001b[39m\u001b[38;5;124mHad an absolutely brilliant day ðŸ˜ loved seeing an old friend and reminiscing\u001b[39m\u001b[38;5;124m\"\u001b[39m)\n\u001b[0;32m      2\u001b[0m plot_result(result)\n\u001b[0;32m      3\u001b[0m result \u001b[38;5;241m=\u001b[39mget_sentiment(model,\u001b[38;5;124m\"\u001b[39m\u001b[38;5;124mThe pain my heart feels is just too much for it to bear. Nothing eases this pain. I can’t hold myself back. I really miss you\u001b[39m\u001b[38;5;124m\"\u001b[39m)\n",
      "Cell \u001b[1;32mIn[100], line 4\u001b[0m, in \u001b[0;36mget_sentiment\u001b[1;34m(model, text)\u001b[0m\n\u001b[0;32m      2\u001b[0m text \u001b[38;5;241m=\u001b[39m clean_text(text)\n\u001b[0;32m      3\u001b[0m \u001b[38;5;66;03m#tokenize\u001b[39;00m\n\u001b[1;32m----> 4\u001b[0m twt \u001b[38;5;241m=\u001b[39m token\u001b[38;5;241m.\u001b[39mtexts_to_sequences([text])\n\u001b[0;32m      5\u001b[0m twt \u001b[38;5;241m=\u001b[39m sequence\u001b[38;5;241m.\u001b[39mpad_sequences(twt, maxlen\u001b[38;5;241m=\u001b[39mmax_len, dtype\u001b[38;5;241m=\u001b[39m\u001b[38;5;124m'\u001b[39m\u001b[38;5;124mint32\u001b[39m\u001b[38;5;124m'\u001b[39m)\n\u001b[0;32m      6\u001b[0m sentiment \u001b[38;5;241m=\u001b[39m model\u001b[38;5;241m.\u001b[39mpredict(twt,batch_size\u001b[38;5;241m=\u001b[39m\u001b[38;5;241m1\u001b[39m,verbose \u001b[38;5;241m=\u001b[39m \u001b[38;5;241m2\u001b[39m)\n",
      "\u001b[1;31mAttributeError\u001b[0m: 'NoneType' object has no attribute 'texts_to_sequences'"
     ]
    }
   ],
   "source": [
    "result =get_sentiment(model,\"Had an absolutely brilliant day ðŸ˜ loved seeing an old friend and reminiscing\")\n",
    "plot_result(result)\n",
    "result =get_sentiment(model,\"The pain my heart feels is just too much for it to bear. Nothing eases this pain. I can’t hold myself back. I really miss you\")\n",
    "plot_result(result)\n",
    "result =get_sentiment(model,\"I hate this game so much,It make me angry all the time \")\n",
    "plot_result(result)"
   ]
  },
  {
   "cell_type": "markdown",
   "metadata": {},
   "source": [
    "### LSTM with glove 6B 200d word embedding <a class=\"anchor\" id=\"m-lg\"></a>\n",
    "<a href=\"#toc\"><img src= \"https://upload.wikimedia.org/wikipedia/commons/thumb/2/20/Circle-icons-arrow-up.svg/1200px-Circle-icons-arrow-up.svg.png\" style=\"width:20px;hight:20px;float:left\" >Back to the table of contents</a>"
   ]
  },
  {
   "cell_type": "code",
   "execution_count": 103,
   "metadata": {},
   "outputs": [],
   "source": [
    "def read_data(file_name):\n",
    "    with open(file_name,'r') as f:\n",
    "        word_vocab = set() \n",
    "        word2vector = {}\n",
    "        for line in f:\n",
    "            line_ = line.strip() \n",
    "            words_Vec = line_.split()\n",
    "            word_vocab.add(words_Vec[0])\n",
    "            word2vector[words_Vec[0]] = np.array(words_Vec[1:],dtype=float)\n",
    "    print(\"Total Words in DataSet:\",len(word_vocab))\n",
    "    return word_vocab,word2vector"
   ]
  },
  {
   "cell_type": "code",
   "execution_count": 104,
   "metadata": {},
   "outputs": [
    {
     "ename": "FileNotFoundError",
     "evalue": "[Errno 2] No such file or directory: '/kaggle/input/glove-global-vectors-for-word-representation/glove.6B.200d.txt'",
     "output_type": "error",
     "traceback": [
      "\u001b[1;31m---------------------------------------------------------------------------\u001b[0m",
      "\u001b[1;31mFileNotFoundError\u001b[0m                         Traceback (most recent call last)",
      "Cell \u001b[1;32mIn[104], line 1\u001b[0m\n\u001b[1;32m----> 1\u001b[0m vocab, word_to_idx \u001b[38;5;241m=\u001b[39mread_data(\u001b[38;5;124m\"\u001b[39m\u001b[38;5;124m/kaggle/input/glove-global-vectors-for-word-representation/glove.6B.200d.txt\u001b[39m\u001b[38;5;124m\"\u001b[39m)\n",
      "Cell \u001b[1;32mIn[103], line 2\u001b[0m, in \u001b[0;36mread_data\u001b[1;34m(file_name)\u001b[0m\n\u001b[0;32m      1\u001b[0m \u001b[38;5;28;01mdef\u001b[39;00m \u001b[38;5;21mread_data\u001b[39m(file_name):\n\u001b[1;32m----> 2\u001b[0m     \u001b[38;5;28;01mwith\u001b[39;00m \u001b[38;5;28mopen\u001b[39m(file_name,\u001b[38;5;124m'\u001b[39m\u001b[38;5;124mr\u001b[39m\u001b[38;5;124m'\u001b[39m) \u001b[38;5;28;01mas\u001b[39;00m f:\n\u001b[0;32m      3\u001b[0m         word_vocab \u001b[38;5;241m=\u001b[39m \u001b[38;5;28mset\u001b[39m() \n\u001b[0;32m      4\u001b[0m         word2vector \u001b[38;5;241m=\u001b[39m {}\n",
      "File \u001b[1;32m~\\miniconda3\\envs\\nlpenv\\Lib\\site-packages\\IPython\\core\\interactiveshell.py:310\u001b[0m, in \u001b[0;36m_modified_open\u001b[1;34m(file, *args, **kwargs)\u001b[0m\n\u001b[0;32m    303\u001b[0m \u001b[38;5;28;01mif\u001b[39;00m file \u001b[38;5;129;01min\u001b[39;00m {\u001b[38;5;241m0\u001b[39m, \u001b[38;5;241m1\u001b[39m, \u001b[38;5;241m2\u001b[39m}:\n\u001b[0;32m    304\u001b[0m     \u001b[38;5;28;01mraise\u001b[39;00m \u001b[38;5;167;01mValueError\u001b[39;00m(\n\u001b[0;32m    305\u001b[0m         \u001b[38;5;124mf\u001b[39m\u001b[38;5;124m\"\u001b[39m\u001b[38;5;124mIPython won\u001b[39m\u001b[38;5;124m'\u001b[39m\u001b[38;5;124mt let you open fd=\u001b[39m\u001b[38;5;132;01m{\u001b[39;00mfile\u001b[38;5;132;01m}\u001b[39;00m\u001b[38;5;124m by default \u001b[39m\u001b[38;5;124m\"\u001b[39m\n\u001b[0;32m    306\u001b[0m         \u001b[38;5;124m\"\u001b[39m\u001b[38;5;124mas it is likely to crash IPython. If you know what you are doing, \u001b[39m\u001b[38;5;124m\"\u001b[39m\n\u001b[0;32m    307\u001b[0m         \u001b[38;5;124m\"\u001b[39m\u001b[38;5;124myou can use builtins\u001b[39m\u001b[38;5;124m'\u001b[39m\u001b[38;5;124m open.\u001b[39m\u001b[38;5;124m\"\u001b[39m\n\u001b[0;32m    308\u001b[0m     )\n\u001b[1;32m--> 310\u001b[0m \u001b[38;5;28;01mreturn\u001b[39;00m io_open(file, \u001b[38;5;241m*\u001b[39margs, \u001b[38;5;241m*\u001b[39m\u001b[38;5;241m*\u001b[39mkwargs)\n",
      "\u001b[1;31mFileNotFoundError\u001b[0m: [Errno 2] No such file or directory: '/kaggle/input/glove-global-vectors-for-word-representation/glove.6B.200d.txt'"
     ]
    }
   ],
   "source": [
    "vocab, word_to_idx =read_data(\"/kaggle/input/glove-global-vectors-for-word-representation/glove.6B.200d.txt\")"
   ]
  },
  {
   "cell_type": "code",
   "execution_count": 105,
   "metadata": {},
   "outputs": [
    {
     "ename": "NameError",
     "evalue": "name 'word_to_idx' is not defined",
     "output_type": "error",
     "traceback": [
      "\u001b[1;31m---------------------------------------------------------------------------\u001b[0m",
      "\u001b[1;31mNameError\u001b[0m                                 Traceback (most recent call last)",
      "Cell \u001b[1;32mIn[105], line 3\u001b[0m\n\u001b[0;32m      1\u001b[0m embedding_matrix \u001b[38;5;241m=\u001b[39m np\u001b[38;5;241m.\u001b[39mzeros((\u001b[38;5;28mlen\u001b[39m(w_idx) \u001b[38;5;241m+\u001b[39m \u001b[38;5;241m1\u001b[39m, \u001b[38;5;241m200\u001b[39m))\n\u001b[0;32m      2\u001b[0m \u001b[38;5;28;01mfor\u001b[39;00m word, i \u001b[38;5;129;01min\u001b[39;00m w_idx\u001b[38;5;241m.\u001b[39mitems():\n\u001b[1;32m----> 3\u001b[0m     embedding_vector \u001b[38;5;241m=\u001b[39m word_to_idx\u001b[38;5;241m.\u001b[39mget(word)\n\u001b[0;32m      4\u001b[0m     \u001b[38;5;28;01mif\u001b[39;00m embedding_vector \u001b[38;5;129;01mis\u001b[39;00m \u001b[38;5;129;01mnot\u001b[39;00m \u001b[38;5;28;01mNone\u001b[39;00m:\n\u001b[0;32m      5\u001b[0m         embedding_matrix[i] \u001b[38;5;241m=\u001b[39m embedding_vector\n",
      "\u001b[1;31mNameError\u001b[0m: name 'word_to_idx' is not defined"
     ]
    }
   ],
   "source": [
    "embedding_matrix = np.zeros((len(w_idx) + 1, 200))\n",
    "for word, i in w_idx.items():\n",
    "    embedding_vector = word_to_idx.get(word)\n",
    "    if embedding_vector is not None:\n",
    "        embedding_matrix[i] = embedding_vector"
   ]
  },
  {
   "cell_type": "code",
   "execution_count": 106,
   "metadata": {},
   "outputs": [
    {
     "ename": "ValueError",
     "evalue": "Unrecognized keyword arguments passed to Embedding: {'input_length': 160, 'weights': [array([[0., 0., 0., ..., 0., 0., 0.],\n       [0., 0., 0., ..., 0., 0., 0.],\n       [0., 0., 0., ..., 0., 0., 0.],\n       ...,\n       [0., 0., 0., ..., 0., 0., 0.],\n       [0., 0., 0., ..., 0., 0., 0.],\n       [0., 0., 0., ..., 0., 0., 0.]])]}",
     "output_type": "error",
     "traceback": [
      "\u001b[1;31m---------------------------------------------------------------------------\u001b[0m",
      "\u001b[1;31mValueError\u001b[0m                                Traceback (most recent call last)",
      "Cell \u001b[1;32mIn[106], line 5\u001b[0m\n\u001b[0;32m      2\u001b[0m lstm_out \u001b[38;5;241m=\u001b[39m \u001b[38;5;241m250\u001b[39m\n\u001b[0;32m      4\u001b[0m model_lstm_gwe \u001b[38;5;241m=\u001b[39m Sequential()\n\u001b[1;32m----> 5\u001b[0m model_lstm_gwe\u001b[38;5;241m.\u001b[39madd(Embedding(\u001b[38;5;28mlen\u001b[39m(w_idx) \u001b[38;5;241m+\u001b[39m\u001b[38;5;241m1\u001b[39m , embed_dim,input_length \u001b[38;5;241m=\u001b[39m X_test_pad\u001b[38;5;241m.\u001b[39mshape[\u001b[38;5;241m1\u001b[39m],weights\u001b[38;5;241m=\u001b[39m[embedding_matrix],trainable\u001b[38;5;241m=\u001b[39m\u001b[38;5;28;01mFalse\u001b[39;00m))\n\u001b[0;32m      6\u001b[0m model_lstm_gwe\u001b[38;5;241m.\u001b[39madd(SpatialDropout1D(\u001b[38;5;241m0.2\u001b[39m))\n\u001b[0;32m      7\u001b[0m model_lstm_gwe\u001b[38;5;241m.\u001b[39madd(LSTM(lstm_out, dropout\u001b[38;5;241m=\u001b[39m\u001b[38;5;241m0.2\u001b[39m, recurrent_dropout\u001b[38;5;241m=\u001b[39m\u001b[38;5;241m0.2\u001b[39m))\n",
      "File \u001b[1;32m~\\miniconda3\\envs\\nlpenv\\Lib\\site-packages\\keras\\src\\layers\\core\\embedding.py:81\u001b[0m, in \u001b[0;36mEmbedding.__init__\u001b[1;34m(self, input_dim, output_dim, embeddings_initializer, embeddings_regularizer, embeddings_constraint, mask_zero, lora_rank, **kwargs)\u001b[0m\n\u001b[0;32m     70\u001b[0m \u001b[38;5;28;01mdef\u001b[39;00m \u001b[38;5;21m__init__\u001b[39m(\n\u001b[0;32m     71\u001b[0m     \u001b[38;5;28mself\u001b[39m,\n\u001b[0;32m     72\u001b[0m     input_dim,\n\u001b[1;32m   (...)\u001b[0m\n\u001b[0;32m     79\u001b[0m     \u001b[38;5;241m*\u001b[39m\u001b[38;5;241m*\u001b[39mkwargs,\n\u001b[0;32m     80\u001b[0m ):\n\u001b[1;32m---> 81\u001b[0m     \u001b[38;5;28msuper\u001b[39m()\u001b[38;5;241m.\u001b[39m\u001b[38;5;21m__init__\u001b[39m(\u001b[38;5;241m*\u001b[39m\u001b[38;5;241m*\u001b[39mkwargs)\n\u001b[0;32m     82\u001b[0m     \u001b[38;5;28mself\u001b[39m\u001b[38;5;241m.\u001b[39minput_dim \u001b[38;5;241m=\u001b[39m input_dim\n\u001b[0;32m     83\u001b[0m     \u001b[38;5;28mself\u001b[39m\u001b[38;5;241m.\u001b[39moutput_dim \u001b[38;5;241m=\u001b[39m output_dim\n",
      "File \u001b[1;32m~\\miniconda3\\envs\\nlpenv\\Lib\\site-packages\\keras\\src\\layers\\layer.py:264\u001b[0m, in \u001b[0;36mLayer.__init__\u001b[1;34m(self, activity_regularizer, trainable, dtype, autocast, name, **kwargs)\u001b[0m\n\u001b[0;32m    262\u001b[0m     \u001b[38;5;28mself\u001b[39m\u001b[38;5;241m.\u001b[39m_input_shape_arg \u001b[38;5;241m=\u001b[39m input_shape_arg\n\u001b[0;32m    263\u001b[0m \u001b[38;5;28;01mif\u001b[39;00m kwargs:\n\u001b[1;32m--> 264\u001b[0m     \u001b[38;5;28;01mraise\u001b[39;00m \u001b[38;5;167;01mValueError\u001b[39;00m(\n\u001b[0;32m    265\u001b[0m         \u001b[38;5;124m\"\u001b[39m\u001b[38;5;124mUnrecognized keyword arguments \u001b[39m\u001b[38;5;124m\"\u001b[39m\n\u001b[0;32m    266\u001b[0m         \u001b[38;5;124mf\u001b[39m\u001b[38;5;124m\"\u001b[39m\u001b[38;5;124mpassed to \u001b[39m\u001b[38;5;132;01m{\u001b[39;00m\u001b[38;5;28mself\u001b[39m\u001b[38;5;241m.\u001b[39m\u001b[38;5;18m__class__\u001b[39m\u001b[38;5;241m.\u001b[39m\u001b[38;5;18m__name__\u001b[39m\u001b[38;5;132;01m}\u001b[39;00m\u001b[38;5;124m: \u001b[39m\u001b[38;5;132;01m{\u001b[39;00mkwargs\u001b[38;5;132;01m}\u001b[39;00m\u001b[38;5;124m\"\u001b[39m\n\u001b[0;32m    267\u001b[0m     )\n\u001b[0;32m    269\u001b[0m \u001b[38;5;28mself\u001b[39m\u001b[38;5;241m.\u001b[39mbuilt \u001b[38;5;241m=\u001b[39m \u001b[38;5;28;01mFalse\u001b[39;00m\n\u001b[0;32m    270\u001b[0m \u001b[38;5;28mself\u001b[39m\u001b[38;5;241m.\u001b[39mautocast \u001b[38;5;241m=\u001b[39m autocast\n",
      "\u001b[1;31mValueError\u001b[0m: Unrecognized keyword arguments passed to Embedding: {'input_length': 160, 'weights': [array([[0., 0., 0., ..., 0., 0., 0.],\n       [0., 0., 0., ..., 0., 0., 0.],\n       [0., 0., 0., ..., 0., 0., 0.],\n       ...,\n       [0., 0., 0., ..., 0., 0., 0.],\n       [0., 0., 0., ..., 0., 0., 0.],\n       [0., 0., 0., ..., 0., 0., 0.]])]}"
     ]
    }
   ],
   "source": [
    "embed_dim = 200\n",
    "lstm_out = 250\n",
    "\n",
    "model_lstm_gwe = Sequential()\n",
    "model_lstm_gwe.add(Embedding(len(w_idx) +1 , embed_dim,input_length = X_test_pad.shape[1],weights=[embedding_matrix],trainable=False))\n",
    "model_lstm_gwe.add(SpatialDropout1D(0.2))\n",
    "model_lstm_gwe.add(LSTM(lstm_out, dropout=0.2, recurrent_dropout=0.2))\n",
    "model_lstm_gwe.add(keras.layers.core.Dense(13, activation='softmax'))\n",
    "#adam rmsprop \n",
    "model_lstm_gwe.compile(loss = \"categorical_crossentropy\", optimizer='adam',metrics = ['accuracy'])\n",
    "print(model_lstm_gwe.summary())"
   ]
  },
  {
   "cell_type": "code",
   "execution_count": 107,
   "metadata": {},
   "outputs": [],
   "source": [
    "batch_size = 32"
   ]
  },
  {
   "cell_type": "code",
   "execution_count": 108,
   "metadata": {},
   "outputs": [
    {
     "ename": "ValueError",
     "evalue": "You must call `compile()` before using the model.",
     "output_type": "error",
     "traceback": [
      "\u001b[1;31m---------------------------------------------------------------------------\u001b[0m",
      "\u001b[1;31mValueError\u001b[0m                                Traceback (most recent call last)",
      "Cell \u001b[1;32mIn[108], line 1\u001b[0m\n\u001b[1;32m----> 1\u001b[0m model_lstm_gwe\u001b[38;5;241m.\u001b[39mfit(X_train_pad, y_train, epochs \u001b[38;5;241m=\u001b[39m Epoch, batch_size\u001b[38;5;241m=\u001b[39mbatch_size,validation_data\u001b[38;5;241m=\u001b[39m(X_test_pad, y_test))\n",
      "File \u001b[1;32m~\\miniconda3\\envs\\nlpenv\\Lib\\site-packages\\keras\\src\\utils\\traceback_utils.py:122\u001b[0m, in \u001b[0;36mfilter_traceback.<locals>.error_handler\u001b[1;34m(*args, **kwargs)\u001b[0m\n\u001b[0;32m    119\u001b[0m     filtered_tb \u001b[38;5;241m=\u001b[39m _process_traceback_frames(e\u001b[38;5;241m.\u001b[39m__traceback__)\n\u001b[0;32m    120\u001b[0m     \u001b[38;5;66;03m# To get the full stack trace, call:\u001b[39;00m\n\u001b[0;32m    121\u001b[0m     \u001b[38;5;66;03m# `keras.config.disable_traceback_filtering()`\u001b[39;00m\n\u001b[1;32m--> 122\u001b[0m     \u001b[38;5;28;01mraise\u001b[39;00m e\u001b[38;5;241m.\u001b[39mwith_traceback(filtered_tb) \u001b[38;5;28;01mfrom\u001b[39;00m \u001b[38;5;28;01mNone\u001b[39;00m\n\u001b[0;32m    123\u001b[0m \u001b[38;5;28;01mfinally\u001b[39;00m:\n\u001b[0;32m    124\u001b[0m     \u001b[38;5;28;01mdel\u001b[39;00m filtered_tb\n",
      "File \u001b[1;32m~\\miniconda3\\envs\\nlpenv\\Lib\\site-packages\\keras\\src\\trainers\\trainer.py:887\u001b[0m, in \u001b[0;36mTrainer._assert_compile_called\u001b[1;34m(self, method_name)\u001b[0m\n\u001b[0;32m    885\u001b[0m \u001b[38;5;28;01melse\u001b[39;00m:\n\u001b[0;32m    886\u001b[0m     msg \u001b[38;5;241m+\u001b[39m\u001b[38;5;241m=\u001b[39m \u001b[38;5;124mf\u001b[39m\u001b[38;5;124m\"\u001b[39m\u001b[38;5;124mcalling `\u001b[39m\u001b[38;5;132;01m{\u001b[39;00mmethod_name\u001b[38;5;132;01m}\u001b[39;00m\u001b[38;5;124m()`.\u001b[39m\u001b[38;5;124m\"\u001b[39m\n\u001b[1;32m--> 887\u001b[0m \u001b[38;5;28;01mraise\u001b[39;00m \u001b[38;5;167;01mValueError\u001b[39;00m(msg)\n",
      "\u001b[1;31mValueError\u001b[0m: You must call `compile()` before using the model."
     ]
    }
   ],
   "source": [
    "\n",
    "model_lstm_gwe.fit(X_train_pad, y_train, epochs = Epoch, batch_size=batch_size,validation_data=(X_test_pad, y_test))"
   ]
  },
  {
   "cell_type": "markdown",
   "metadata": {},
   "source": [
    "### Test LSTM glove Results <a class=\"anchor\" id=\"m-lgr\"></a>\n",
    "<a href=\"#toc\"><img src= \"https://upload.wikimedia.org/wikipedia/commons/thumb/2/20/Circle-icons-arrow-up.svg/1200px-Circle-icons-arrow-up.svg.png\" style=\"width:20px;hight:20px;float:left\" >Back to the table of contents</a>"
   ]
  },
  {
   "cell_type": "code",
   "execution_count": 109,
   "metadata": {},
   "outputs": [
    {
     "ename": "AttributeError",
     "evalue": "'NoneType' object has no attribute 'texts_to_sequences'",
     "output_type": "error",
     "traceback": [
      "\u001b[1;31m---------------------------------------------------------------------------\u001b[0m",
      "\u001b[1;31mAttributeError\u001b[0m                            Traceback (most recent call last)",
      "Cell \u001b[1;32mIn[109], line 1\u001b[0m\n\u001b[1;32m----> 1\u001b[0m result \u001b[38;5;241m=\u001b[39mget_sentiment(model_lstm_gwe,\u001b[38;5;124m\"\u001b[39m\u001b[38;5;124mHad an absolutely brilliant day ðŸ˜ loved seeing an old friend and reminiscing\u001b[39m\u001b[38;5;124m\"\u001b[39m)\n\u001b[0;32m      2\u001b[0m plot_result(result)\n\u001b[0;32m      3\u001b[0m result \u001b[38;5;241m=\u001b[39mget_sentiment(model_lstm_gwe,\u001b[38;5;124m\"\u001b[39m\u001b[38;5;124mThe pain my heart feels is just too much for it to bear. Nothing eases this pain. I can’t hold myself back. I really miss you\u001b[39m\u001b[38;5;124m\"\u001b[39m)\n",
      "Cell \u001b[1;32mIn[100], line 4\u001b[0m, in \u001b[0;36mget_sentiment\u001b[1;34m(model, text)\u001b[0m\n\u001b[0;32m      2\u001b[0m text \u001b[38;5;241m=\u001b[39m clean_text(text)\n\u001b[0;32m      3\u001b[0m \u001b[38;5;66;03m#tokenize\u001b[39;00m\n\u001b[1;32m----> 4\u001b[0m twt \u001b[38;5;241m=\u001b[39m token\u001b[38;5;241m.\u001b[39mtexts_to_sequences([text])\n\u001b[0;32m      5\u001b[0m twt \u001b[38;5;241m=\u001b[39m sequence\u001b[38;5;241m.\u001b[39mpad_sequences(twt, maxlen\u001b[38;5;241m=\u001b[39mmax_len, dtype\u001b[38;5;241m=\u001b[39m\u001b[38;5;124m'\u001b[39m\u001b[38;5;124mint32\u001b[39m\u001b[38;5;124m'\u001b[39m)\n\u001b[0;32m      6\u001b[0m sentiment \u001b[38;5;241m=\u001b[39m model\u001b[38;5;241m.\u001b[39mpredict(twt,batch_size\u001b[38;5;241m=\u001b[39m\u001b[38;5;241m1\u001b[39m,verbose \u001b[38;5;241m=\u001b[39m \u001b[38;5;241m2\u001b[39m)\n",
      "\u001b[1;31mAttributeError\u001b[0m: 'NoneType' object has no attribute 'texts_to_sequences'"
     ]
    }
   ],
   "source": [
    "result =get_sentiment(model_lstm_gwe,\"Had an absolutely brilliant day ðŸ˜ loved seeing an old friend and reminiscing\")\n",
    "plot_result(result)\n",
    "result =get_sentiment(model_lstm_gwe,\"The pain my heart feels is just too much for it to bear. Nothing eases this pain. I can’t hold myself back. I really miss you\")\n",
    "plot_result(result)\n",
    "result =get_sentiment(model_lstm_gwe,\"I hate this game so much,It make me angry all the time \")\n",
    "plot_result(result)"
   ]
  },
  {
   "cell_type": "markdown",
   "metadata": {},
   "source": [
    "### Roberta Base Model <a class=\"anchor\" id=\"m-rb\"></a>\n",
    "<a href=\"#toc\"><img src= \"https://upload.wikimedia.org/wikipedia/commons/thumb/2/20/Circle-icons-arrow-up.svg/1200px-Circle-icons-arrow-up.svg.png\" style=\"width:20px;hight:20px;float:left\" >Back to the table of contents</a>"
   ]
  },
  {
   "cell_type": "code",
   "execution_count": 110,
   "metadata": {},
   "outputs": [],
   "source": [
    "def regular_encode(texts, tokenizer, maxlen=512):\n",
    "    enc_di = tokenizer.batch_encode_plus(\n",
    "        texts, \n",
    "        return_attention_masks=False, \n",
    "        return_token_type_ids=False,\n",
    "        pad_to_max_length=True,\n",
    "        max_length=maxlen\n",
    "    )\n",
    "    \n",
    "    return np.array(enc_di['input_ids'])\n",
    "\n",
    "def build_model(transformer, max_len=160):\n",
    "    input_word_ids = Input(shape=(max_len,), dtype=tf.int32, name=\"input_word_ids\")\n",
    "    sequence_output = transformer(input_word_ids)[0]\n",
    "    cls_token = sequence_output[:, 0, :]\n",
    "    out = Dense(13, activation='softmax')(cls_token)\n",
    "    \n",
    "    model = Model(inputs=input_word_ids, outputs=out)\n",
    "    model.compile(Adam(lr=1e-5), loss='categorical_crossentropy', metrics=['accuracy'])\n",
    "    \n",
    "    return model"
   ]
  },
  {
   "cell_type": "code",
   "execution_count": 111,
   "metadata": {},
   "outputs": [],
   "source": [
    "AUTO = tf.data.experimental.AUTOTUNE\n",
    "MODEL = 'roberta-base'"
   ]
  },
  {
   "cell_type": "code",
   "execution_count": 112,
   "metadata": {},
   "outputs": [
    {
     "data": {
      "application/vnd.jupyter.widget-view+json": {
       "model_id": "ea37fe5ca15148d3a27e4014748aa07b",
       "version_major": 2,
       "version_minor": 0
      },
      "text/plain": [
       "tokenizer_config.json:   0%|          | 0.00/25.0 [00:00<?, ?B/s]"
      ]
     },
     "metadata": {},
     "output_type": "display_data"
    },
    {
     "name": "stderr",
     "output_type": "stream",
     "text": [
      "C:\\Users\\Keerthana\\miniconda3\\envs\\nlpenv\\Lib\\site-packages\\huggingface_hub\\file_download.py:148: UserWarning: `huggingface_hub` cache-system uses symlinks by default to efficiently store duplicated files but your machine does not support them in C:\\Users\\Keerthana\\.cache\\huggingface\\hub\\models--roberta-base. Caching files will still work but in a degraded version that might require more space on your disk. This warning can be disabled by setting the `HF_HUB_DISABLE_SYMLINKS_WARNING` environment variable. For more details, see https://huggingface.co/docs/huggingface_hub/how-to-cache#limitations.\n",
      "To support symlinks on Windows, you either need to activate Developer Mode or to run Python as an administrator. In order to see activate developer mode, see this article: https://docs.microsoft.com/en-us/windows/apps/get-started/enable-your-device-for-development\n",
      "  warnings.warn(message)\n"
     ]
    },
    {
     "data": {
      "application/vnd.jupyter.widget-view+json": {
       "model_id": "cc7df24e411d440b84736837800dccc6",
       "version_major": 2,
       "version_minor": 0
      },
      "text/plain": [
       "config.json:   0%|          | 0.00/481 [00:00<?, ?B/s]"
      ]
     },
     "metadata": {},
     "output_type": "display_data"
    },
    {
     "data": {
      "application/vnd.jupyter.widget-view+json": {
       "model_id": "152813804d3b4cf1a6cafc9a1e758427",
       "version_major": 2,
       "version_minor": 0
      },
      "text/plain": [
       "vocab.json:   0%|          | 0.00/899k [00:00<?, ?B/s]"
      ]
     },
     "metadata": {},
     "output_type": "display_data"
    },
    {
     "data": {
      "application/vnd.jupyter.widget-view+json": {
       "model_id": "b6245fa360404c7aad2aca092b402795",
       "version_major": 2,
       "version_minor": 0
      },
      "text/plain": [
       "merges.txt:   0%|          | 0.00/456k [00:00<?, ?B/s]"
      ]
     },
     "metadata": {},
     "output_type": "display_data"
    },
    {
     "data": {
      "application/vnd.jupyter.widget-view+json": {
       "model_id": "d19896435a924ddfa3aba2c9658e4376",
       "version_major": 2,
       "version_minor": 0
      },
      "text/plain": [
       "tokenizer.json:   0%|          | 0.00/1.36M [00:00<?, ?B/s]"
      ]
     },
     "metadata": {},
     "output_type": "display_data"
    }
   ],
   "source": [
    "tokenizer = AutoTokenizer.from_pretrained(MODEL)"
   ]
  },
  {
   "cell_type": "code",
   "execution_count": 113,
   "metadata": {},
   "outputs": [
    {
     "name": "stderr",
     "output_type": "stream",
     "text": [
      "Truncation was not explicitly activated but `max_length` is provided a specific value, please use `truncation=True` to explicitly truncate examples to max length. Defaulting to 'longest_first' truncation strategy. If you encode pairs of sequences (GLUE-style) with the tokenizer you can select this strategy more precisely by providing a specific strategy to `truncation`.\n",
      "C:\\Users\\Keerthana\\miniconda3\\envs\\nlpenv\\Lib\\site-packages\\transformers\\tokenization_utils_base.py:2688: FutureWarning: The `pad_to_max_length` argument is deprecated and will be removed in a future version, use `padding=True` or `padding='longest'` to pad to the longest sequence in the batch, or use `padding='max_length'` to pad to a max length. In this case, you can give a specific length with `max_length` (e.g. `max_length=45`) or leave max_length to None to pad to the maximal input size of the model (e.g. 512 for Bert).\n",
      "  warnings.warn(\n"
     ]
    },
    {
     "ename": "TypeError",
     "evalue": "PreTrainedTokenizerFast._batch_encode_plus() got an unexpected keyword argument 'return_attention_masks'",
     "output_type": "error",
     "traceback": [
      "\u001b[1;31m---------------------------------------------------------------------------\u001b[0m",
      "\u001b[1;31mTypeError\u001b[0m                                 Traceback (most recent call last)",
      "Cell \u001b[1;32mIn[113], line 1\u001b[0m\n\u001b[1;32m----> 1\u001b[0m X_train_t \u001b[38;5;241m=\u001b[39m regular_encode(X_train, tokenizer, maxlen\u001b[38;5;241m=\u001b[39mmax_len)\n\u001b[0;32m      2\u001b[0m X_test_t \u001b[38;5;241m=\u001b[39m regular_encode(X_test, tokenizer, maxlen\u001b[38;5;241m=\u001b[39mmax_len)\n",
      "Cell \u001b[1;32mIn[110], line 2\u001b[0m, in \u001b[0;36mregular_encode\u001b[1;34m(texts, tokenizer, maxlen)\u001b[0m\n\u001b[0;32m      1\u001b[0m \u001b[38;5;28;01mdef\u001b[39;00m \u001b[38;5;21mregular_encode\u001b[39m(texts, tokenizer, maxlen\u001b[38;5;241m=\u001b[39m\u001b[38;5;241m512\u001b[39m):\n\u001b[1;32m----> 2\u001b[0m     enc_di \u001b[38;5;241m=\u001b[39m tokenizer\u001b[38;5;241m.\u001b[39mbatch_encode_plus(\n\u001b[0;32m      3\u001b[0m         texts, \n\u001b[0;32m      4\u001b[0m         return_attention_masks\u001b[38;5;241m=\u001b[39m\u001b[38;5;28;01mFalse\u001b[39;00m, \n\u001b[0;32m      5\u001b[0m         return_token_type_ids\u001b[38;5;241m=\u001b[39m\u001b[38;5;28;01mFalse\u001b[39;00m,\n\u001b[0;32m      6\u001b[0m         pad_to_max_length\u001b[38;5;241m=\u001b[39m\u001b[38;5;28;01mTrue\u001b[39;00m,\n\u001b[0;32m      7\u001b[0m         max_length\u001b[38;5;241m=\u001b[39mmaxlen\n\u001b[0;32m      8\u001b[0m     )\n\u001b[0;32m     10\u001b[0m     \u001b[38;5;28;01mreturn\u001b[39;00m np\u001b[38;5;241m.\u001b[39marray(enc_di[\u001b[38;5;124m'\u001b[39m\u001b[38;5;124minput_ids\u001b[39m\u001b[38;5;124m'\u001b[39m])\n",
      "File \u001b[1;32m~\\miniconda3\\envs\\nlpenv\\Lib\\site-packages\\transformers\\tokenization_utils_base.py:3149\u001b[0m, in \u001b[0;36mPreTrainedTokenizerBase.batch_encode_plus\u001b[1;34m(self, batch_text_or_text_pairs, add_special_tokens, padding, truncation, max_length, stride, is_split_into_words, pad_to_multiple_of, return_tensors, return_token_type_ids, return_attention_mask, return_overflowing_tokens, return_special_tokens_mask, return_offsets_mapping, return_length, verbose, **kwargs)\u001b[0m\n\u001b[0;32m   3139\u001b[0m \u001b[38;5;66;03m# Backward compatibility for 'truncation_strategy', 'pad_to_max_length'\u001b[39;00m\n\u001b[0;32m   3140\u001b[0m padding_strategy, truncation_strategy, max_length, kwargs \u001b[38;5;241m=\u001b[39m \u001b[38;5;28mself\u001b[39m\u001b[38;5;241m.\u001b[39m_get_padding_truncation_strategies(\n\u001b[0;32m   3141\u001b[0m     padding\u001b[38;5;241m=\u001b[39mpadding,\n\u001b[0;32m   3142\u001b[0m     truncation\u001b[38;5;241m=\u001b[39mtruncation,\n\u001b[1;32m   (...)\u001b[0m\n\u001b[0;32m   3146\u001b[0m     \u001b[38;5;241m*\u001b[39m\u001b[38;5;241m*\u001b[39mkwargs,\n\u001b[0;32m   3147\u001b[0m )\n\u001b[1;32m-> 3149\u001b[0m \u001b[38;5;28;01mreturn\u001b[39;00m \u001b[38;5;28mself\u001b[39m\u001b[38;5;241m.\u001b[39m_batch_encode_plus(\n\u001b[0;32m   3150\u001b[0m     batch_text_or_text_pairs\u001b[38;5;241m=\u001b[39mbatch_text_or_text_pairs,\n\u001b[0;32m   3151\u001b[0m     add_special_tokens\u001b[38;5;241m=\u001b[39madd_special_tokens,\n\u001b[0;32m   3152\u001b[0m     padding_strategy\u001b[38;5;241m=\u001b[39mpadding_strategy,\n\u001b[0;32m   3153\u001b[0m     truncation_strategy\u001b[38;5;241m=\u001b[39mtruncation_strategy,\n\u001b[0;32m   3154\u001b[0m     max_length\u001b[38;5;241m=\u001b[39mmax_length,\n\u001b[0;32m   3155\u001b[0m     stride\u001b[38;5;241m=\u001b[39mstride,\n\u001b[0;32m   3156\u001b[0m     is_split_into_words\u001b[38;5;241m=\u001b[39mis_split_into_words,\n\u001b[0;32m   3157\u001b[0m     pad_to_multiple_of\u001b[38;5;241m=\u001b[39mpad_to_multiple_of,\n\u001b[0;32m   3158\u001b[0m     return_tensors\u001b[38;5;241m=\u001b[39mreturn_tensors,\n\u001b[0;32m   3159\u001b[0m     return_token_type_ids\u001b[38;5;241m=\u001b[39mreturn_token_type_ids,\n\u001b[0;32m   3160\u001b[0m     return_attention_mask\u001b[38;5;241m=\u001b[39mreturn_attention_mask,\n\u001b[0;32m   3161\u001b[0m     return_overflowing_tokens\u001b[38;5;241m=\u001b[39mreturn_overflowing_tokens,\n\u001b[0;32m   3162\u001b[0m     return_special_tokens_mask\u001b[38;5;241m=\u001b[39mreturn_special_tokens_mask,\n\u001b[0;32m   3163\u001b[0m     return_offsets_mapping\u001b[38;5;241m=\u001b[39mreturn_offsets_mapping,\n\u001b[0;32m   3164\u001b[0m     return_length\u001b[38;5;241m=\u001b[39mreturn_length,\n\u001b[0;32m   3165\u001b[0m     verbose\u001b[38;5;241m=\u001b[39mverbose,\n\u001b[0;32m   3166\u001b[0m     \u001b[38;5;241m*\u001b[39m\u001b[38;5;241m*\u001b[39mkwargs,\n\u001b[0;32m   3167\u001b[0m )\n",
      "File \u001b[1;32m~\\miniconda3\\envs\\nlpenv\\Lib\\site-packages\\transformers\\models\\roberta\\tokenization_roberta_fast.py:270\u001b[0m, in \u001b[0;36mRobertaTokenizerFast._batch_encode_plus\u001b[1;34m(self, *args, **kwargs)\u001b[0m\n\u001b[0;32m    264\u001b[0m is_split_into_words \u001b[38;5;241m=\u001b[39m kwargs\u001b[38;5;241m.\u001b[39mget(\u001b[38;5;124m\"\u001b[39m\u001b[38;5;124mis_split_into_words\u001b[39m\u001b[38;5;124m\"\u001b[39m, \u001b[38;5;28;01mFalse\u001b[39;00m)\n\u001b[0;32m    265\u001b[0m \u001b[38;5;28;01massert\u001b[39;00m \u001b[38;5;28mself\u001b[39m\u001b[38;5;241m.\u001b[39madd_prefix_space \u001b[38;5;129;01mor\u001b[39;00m \u001b[38;5;129;01mnot\u001b[39;00m is_split_into_words, (\n\u001b[0;32m    266\u001b[0m     \u001b[38;5;124mf\u001b[39m\u001b[38;5;124m\"\u001b[39m\u001b[38;5;124mYou need to instantiate \u001b[39m\u001b[38;5;132;01m{\u001b[39;00m\u001b[38;5;28mself\u001b[39m\u001b[38;5;241m.\u001b[39m\u001b[38;5;18m__class__\u001b[39m\u001b[38;5;241m.\u001b[39m\u001b[38;5;18m__name__\u001b[39m\u001b[38;5;132;01m}\u001b[39;00m\u001b[38;5;124m with add_prefix_space=True \u001b[39m\u001b[38;5;124m\"\u001b[39m\n\u001b[0;32m    267\u001b[0m     \u001b[38;5;124m\"\u001b[39m\u001b[38;5;124mto use it with pretokenized inputs.\u001b[39m\u001b[38;5;124m\"\u001b[39m\n\u001b[0;32m    268\u001b[0m )\n\u001b[1;32m--> 270\u001b[0m \u001b[38;5;28;01mreturn\u001b[39;00m \u001b[38;5;28msuper\u001b[39m()\u001b[38;5;241m.\u001b[39m_batch_encode_plus(\u001b[38;5;241m*\u001b[39margs, \u001b[38;5;241m*\u001b[39m\u001b[38;5;241m*\u001b[39mkwargs)\n",
      "\u001b[1;31mTypeError\u001b[0m: PreTrainedTokenizerFast._batch_encode_plus() got an unexpected keyword argument 'return_attention_masks'"
     ]
    }
   ],
   "source": [
    "X_train_t = regular_encode(X_train, tokenizer, maxlen=max_len)\n",
    "X_test_t = regular_encode(X_test, tokenizer, maxlen=max_len)"
   ]
  },
  {
   "cell_type": "code",
   "execution_count": null,
   "metadata": {},
   "outputs": [],
   "source": [
    "train_dataset = (\n",
    "    tf.data.Dataset\n",
    "    .from_tensor_slices((X_train_t, y_train))\n",
    "    .repeat()\n",
    "    .shuffle(1995)\n",
    "    .batch(batch_size)\n",
    "    .prefetch(AUTO)\n",
    ")\n",
    "\n",
    "valid_dataset = (\n",
    "    tf.data.Dataset\n",
    "    .from_tensor_slices((X_test_t, y_test))\n",
    "    .batch(batch_size)\n",
    "    .cache()\n",
    "    .prefetch(AUTO)\n",
    ")\n"
   ]
  },
  {
   "cell_type": "code",
   "execution_count": null,
   "metadata": {},
   "outputs": [],
   "source": [
    "transformer_layer = TFAutoModel.from_pretrained(MODEL)\n",
    "model_roberta_base = build_model(transformer_layer, max_len=max_len)\n",
    "model_roberta_base.summary()"
   ]
  },
  {
   "cell_type": "code",
   "execution_count": 114,
   "metadata": {},
   "outputs": [
    {
     "ename": "NameError",
     "evalue": "name 'model_roberta_base' is not defined",
     "output_type": "error",
     "traceback": [
      "\u001b[1;31m---------------------------------------------------------------------------\u001b[0m",
      "\u001b[1;31mNameError\u001b[0m                                 Traceback (most recent call last)",
      "Cell \u001b[1;32mIn[114], line 2\u001b[0m\n\u001b[0;32m      1\u001b[0m n_steps \u001b[38;5;241m=\u001b[39m X_train\u001b[38;5;241m.\u001b[39mshape[\u001b[38;5;241m0\u001b[39m] \u001b[38;5;241m/\u001b[39m\u001b[38;5;241m/\u001b[39m batch_size\n\u001b[1;32m----> 2\u001b[0m model_roberta_base\u001b[38;5;241m.\u001b[39mfit(train_dataset,steps_per_epoch\u001b[38;5;241m=\u001b[39mn_steps,validation_data\u001b[38;5;241m=\u001b[39mvalid_dataset,epochs\u001b[38;5;241m=\u001b[39mEpoch)\n",
      "\u001b[1;31mNameError\u001b[0m: name 'model_roberta_base' is not defined"
     ]
    }
   ],
   "source": [
    "n_steps = X_train.shape[0] // batch_size\n",
    "model_roberta_base.fit(train_dataset,steps_per_epoch=n_steps,validation_data=valid_dataset,epochs=Epoch)"
   ]
  },
  {
   "cell_type": "markdown",
   "metadata": {},
   "source": [
    "### Test Roberta Model Results <a class=\"anchor\" id=\"m-rbr\"></a>\n",
    "<a href=\"#toc\"><img src= \"https://upload.wikimedia.org/wikipedia/commons/thumb/2/20/Circle-icons-arrow-up.svg/1200px-Circle-icons-arrow-up.svg.png\" style=\"width:20px;hight:20px;float:left\" >Back to the table of contents</a>"
   ]
  },
  {
   "cell_type": "code",
   "execution_count": 115,
   "metadata": {},
   "outputs": [],
   "source": [
    "def get_sentiment2(model,text):\n",
    "    text = clean_text(text)\n",
    "    #tokenize\n",
    "    x_test1 = regular_encode([text], tokenizer, maxlen=max_len)\n",
    "    test1 = (tf.data.Dataset.from_tensor_slices(x_test1).batch(1))\n",
    "    #test1\n",
    "    sentiment = model.predict(test1,verbose = 0)\n",
    "    sent = np.round(np.dot(sentiment,100).tolist(),0)[0]\n",
    "    result = pd.DataFrame([sent_to_id.keys(),sent]).T\n",
    "    result.columns = [\"sentiment\",\"percentage\"]\n",
    "    result=result[result.percentage !=0]\n",
    "    return result"
   ]
  },
  {
   "cell_type": "code",
   "execution_count": 116,
   "metadata": {
    "scrolled": true
   },
   "outputs": [
    {
     "ename": "NameError",
     "evalue": "name 'model_roberta_base' is not defined",
     "output_type": "error",
     "traceback": [
      "\u001b[1;31m---------------------------------------------------------------------------\u001b[0m",
      "\u001b[1;31mNameError\u001b[0m                                 Traceback (most recent call last)",
      "Cell \u001b[1;32mIn[116], line 1\u001b[0m\n\u001b[1;32m----> 1\u001b[0m result \u001b[38;5;241m=\u001b[39mget_sentiment2(model_roberta_base,\u001b[38;5;124m\"\u001b[39m\u001b[38;5;124mHad an absolutely brilliant day ðŸ˜ loved seeing an old friend and reminiscing\u001b[39m\u001b[38;5;124m\"\u001b[39m)\n\u001b[0;32m      2\u001b[0m plot_result(result)\n\u001b[0;32m      3\u001b[0m result \u001b[38;5;241m=\u001b[39mget_sentiment2(model_roberta_base,\u001b[38;5;124m\"\u001b[39m\u001b[38;5;124mThe pain my heart feels is just too much for it to bear. Nothing eases this pain. I can’t hold myself back. I really miss you\u001b[39m\u001b[38;5;124m\"\u001b[39m)\n",
      "\u001b[1;31mNameError\u001b[0m: name 'model_roberta_base' is not defined"
     ]
    }
   ],
   "source": [
    "result =get_sentiment2(model_roberta_base,\"Had an absolutely brilliant day ðŸ˜ loved seeing an old friend and reminiscing\")\n",
    "plot_result(result)\n",
    "result =get_sentiment2(model_roberta_base,\"The pain my heart feels is just too much for it to bear. Nothing eases this pain. I can’t hold myself back. I really miss you\")\n",
    "plot_result(result)\n",
    "result =get_sentiment2(model_roberta_base,\"I hate this game so much,It make me angry all the time \")\n",
    "plot_result(result)"
   ]
  },
  {
   "cell_type": "markdown",
   "metadata": {},
   "source": [
    "# Albert Base"
   ]
  },
  {
   "cell_type": "code",
   "execution_count": 117,
   "metadata": {},
   "outputs": [
    {
     "data": {
      "application/vnd.jupyter.widget-view+json": {
       "model_id": "818197f619f4451f85a43ac2f86156ba",
       "version_major": 2,
       "version_minor": 0
      },
      "text/plain": [
       "tokenizer_config.json:   0%|          | 0.00/25.0 [00:00<?, ?B/s]"
      ]
     },
     "metadata": {},
     "output_type": "display_data"
    },
    {
     "name": "stderr",
     "output_type": "stream",
     "text": [
      "C:\\Users\\Keerthana\\miniconda3\\envs\\nlpenv\\Lib\\site-packages\\huggingface_hub\\file_download.py:148: UserWarning: `huggingface_hub` cache-system uses symlinks by default to efficiently store duplicated files but your machine does not support them in C:\\Users\\Keerthana\\.cache\\huggingface\\hub\\models--albert-base-v2. Caching files will still work but in a degraded version that might require more space on your disk. This warning can be disabled by setting the `HF_HUB_DISABLE_SYMLINKS_WARNING` environment variable. For more details, see https://huggingface.co/docs/huggingface_hub/how-to-cache#limitations.\n",
      "To support symlinks on Windows, you either need to activate Developer Mode or to run Python as an administrator. In order to see activate developer mode, see this article: https://docs.microsoft.com/en-us/windows/apps/get-started/enable-your-device-for-development\n",
      "  warnings.warn(message)\n"
     ]
    },
    {
     "data": {
      "application/vnd.jupyter.widget-view+json": {
       "model_id": "0989eca3f53442bb96d8c38da016e9ab",
       "version_major": 2,
       "version_minor": 0
      },
      "text/plain": [
       "config.json:   0%|          | 0.00/684 [00:00<?, ?B/s]"
      ]
     },
     "metadata": {},
     "output_type": "display_data"
    },
    {
     "data": {
      "application/vnd.jupyter.widget-view+json": {
       "model_id": "82747e8bd030428ea837f638bc1ecd47",
       "version_major": 2,
       "version_minor": 0
      },
      "text/plain": [
       "spiece.model:   0%|          | 0.00/760k [00:00<?, ?B/s]"
      ]
     },
     "metadata": {},
     "output_type": "display_data"
    },
    {
     "data": {
      "application/vnd.jupyter.widget-view+json": {
       "model_id": "91bbfc345cad4e83a4c7e25bb0e09363",
       "version_major": 2,
       "version_minor": 0
      },
      "text/plain": [
       "tokenizer.json:   0%|          | 0.00/1.31M [00:00<?, ?B/s]"
      ]
     },
     "metadata": {},
     "output_type": "display_data"
    },
    {
     "name": "stderr",
     "output_type": "stream",
     "text": [
      "Truncation was not explicitly activated but `max_length` is provided a specific value, please use `truncation=True` to explicitly truncate examples to max length. Defaulting to 'longest_first' truncation strategy. If you encode pairs of sequences (GLUE-style) with the tokenizer you can select this strategy more precisely by providing a specific strategy to `truncation`.\n"
     ]
    },
    {
     "ename": "TypeError",
     "evalue": "PreTrainedTokenizerFast._batch_encode_plus() got an unexpected keyword argument 'return_attention_masks'",
     "output_type": "error",
     "traceback": [
      "\u001b[1;31m---------------------------------------------------------------------------\u001b[0m",
      "\u001b[1;31mTypeError\u001b[0m                                 Traceback (most recent call last)",
      "Cell \u001b[1;32mIn[117], line 4\u001b[0m\n\u001b[0;32m      2\u001b[0m MODEL \u001b[38;5;241m=\u001b[39m \u001b[38;5;124m'\u001b[39m\u001b[38;5;124malbert-base-v2\u001b[39m\u001b[38;5;124m'\u001b[39m\n\u001b[0;32m      3\u001b[0m tokenizer \u001b[38;5;241m=\u001b[39m AutoTokenizer\u001b[38;5;241m.\u001b[39mfrom_pretrained(MODEL)\n\u001b[1;32m----> 4\u001b[0m X_train_t \u001b[38;5;241m=\u001b[39m regular_encode(X_train, tokenizer, maxlen\u001b[38;5;241m=\u001b[39mmax_len)\n\u001b[0;32m      5\u001b[0m X_test_t \u001b[38;5;241m=\u001b[39m regular_encode(X_test, tokenizer, maxlen\u001b[38;5;241m=\u001b[39mmax_len)\n",
      "Cell \u001b[1;32mIn[110], line 2\u001b[0m, in \u001b[0;36mregular_encode\u001b[1;34m(texts, tokenizer, maxlen)\u001b[0m\n\u001b[0;32m      1\u001b[0m \u001b[38;5;28;01mdef\u001b[39;00m \u001b[38;5;21mregular_encode\u001b[39m(texts, tokenizer, maxlen\u001b[38;5;241m=\u001b[39m\u001b[38;5;241m512\u001b[39m):\n\u001b[1;32m----> 2\u001b[0m     enc_di \u001b[38;5;241m=\u001b[39m tokenizer\u001b[38;5;241m.\u001b[39mbatch_encode_plus(\n\u001b[0;32m      3\u001b[0m         texts, \n\u001b[0;32m      4\u001b[0m         return_attention_masks\u001b[38;5;241m=\u001b[39m\u001b[38;5;28;01mFalse\u001b[39;00m, \n\u001b[0;32m      5\u001b[0m         return_token_type_ids\u001b[38;5;241m=\u001b[39m\u001b[38;5;28;01mFalse\u001b[39;00m,\n\u001b[0;32m      6\u001b[0m         pad_to_max_length\u001b[38;5;241m=\u001b[39m\u001b[38;5;28;01mTrue\u001b[39;00m,\n\u001b[0;32m      7\u001b[0m         max_length\u001b[38;5;241m=\u001b[39mmaxlen\n\u001b[0;32m      8\u001b[0m     )\n\u001b[0;32m     10\u001b[0m     \u001b[38;5;28;01mreturn\u001b[39;00m np\u001b[38;5;241m.\u001b[39marray(enc_di[\u001b[38;5;124m'\u001b[39m\u001b[38;5;124minput_ids\u001b[39m\u001b[38;5;124m'\u001b[39m])\n",
      "File \u001b[1;32m~\\miniconda3\\envs\\nlpenv\\Lib\\site-packages\\transformers\\tokenization_utils_base.py:3149\u001b[0m, in \u001b[0;36mPreTrainedTokenizerBase.batch_encode_plus\u001b[1;34m(self, batch_text_or_text_pairs, add_special_tokens, padding, truncation, max_length, stride, is_split_into_words, pad_to_multiple_of, return_tensors, return_token_type_ids, return_attention_mask, return_overflowing_tokens, return_special_tokens_mask, return_offsets_mapping, return_length, verbose, **kwargs)\u001b[0m\n\u001b[0;32m   3139\u001b[0m \u001b[38;5;66;03m# Backward compatibility for 'truncation_strategy', 'pad_to_max_length'\u001b[39;00m\n\u001b[0;32m   3140\u001b[0m padding_strategy, truncation_strategy, max_length, kwargs \u001b[38;5;241m=\u001b[39m \u001b[38;5;28mself\u001b[39m\u001b[38;5;241m.\u001b[39m_get_padding_truncation_strategies(\n\u001b[0;32m   3141\u001b[0m     padding\u001b[38;5;241m=\u001b[39mpadding,\n\u001b[0;32m   3142\u001b[0m     truncation\u001b[38;5;241m=\u001b[39mtruncation,\n\u001b[1;32m   (...)\u001b[0m\n\u001b[0;32m   3146\u001b[0m     \u001b[38;5;241m*\u001b[39m\u001b[38;5;241m*\u001b[39mkwargs,\n\u001b[0;32m   3147\u001b[0m )\n\u001b[1;32m-> 3149\u001b[0m \u001b[38;5;28;01mreturn\u001b[39;00m \u001b[38;5;28mself\u001b[39m\u001b[38;5;241m.\u001b[39m_batch_encode_plus(\n\u001b[0;32m   3150\u001b[0m     batch_text_or_text_pairs\u001b[38;5;241m=\u001b[39mbatch_text_or_text_pairs,\n\u001b[0;32m   3151\u001b[0m     add_special_tokens\u001b[38;5;241m=\u001b[39madd_special_tokens,\n\u001b[0;32m   3152\u001b[0m     padding_strategy\u001b[38;5;241m=\u001b[39mpadding_strategy,\n\u001b[0;32m   3153\u001b[0m     truncation_strategy\u001b[38;5;241m=\u001b[39mtruncation_strategy,\n\u001b[0;32m   3154\u001b[0m     max_length\u001b[38;5;241m=\u001b[39mmax_length,\n\u001b[0;32m   3155\u001b[0m     stride\u001b[38;5;241m=\u001b[39mstride,\n\u001b[0;32m   3156\u001b[0m     is_split_into_words\u001b[38;5;241m=\u001b[39mis_split_into_words,\n\u001b[0;32m   3157\u001b[0m     pad_to_multiple_of\u001b[38;5;241m=\u001b[39mpad_to_multiple_of,\n\u001b[0;32m   3158\u001b[0m     return_tensors\u001b[38;5;241m=\u001b[39mreturn_tensors,\n\u001b[0;32m   3159\u001b[0m     return_token_type_ids\u001b[38;5;241m=\u001b[39mreturn_token_type_ids,\n\u001b[0;32m   3160\u001b[0m     return_attention_mask\u001b[38;5;241m=\u001b[39mreturn_attention_mask,\n\u001b[0;32m   3161\u001b[0m     return_overflowing_tokens\u001b[38;5;241m=\u001b[39mreturn_overflowing_tokens,\n\u001b[0;32m   3162\u001b[0m     return_special_tokens_mask\u001b[38;5;241m=\u001b[39mreturn_special_tokens_mask,\n\u001b[0;32m   3163\u001b[0m     return_offsets_mapping\u001b[38;5;241m=\u001b[39mreturn_offsets_mapping,\n\u001b[0;32m   3164\u001b[0m     return_length\u001b[38;5;241m=\u001b[39mreturn_length,\n\u001b[0;32m   3165\u001b[0m     verbose\u001b[38;5;241m=\u001b[39mverbose,\n\u001b[0;32m   3166\u001b[0m     \u001b[38;5;241m*\u001b[39m\u001b[38;5;241m*\u001b[39mkwargs,\n\u001b[0;32m   3167\u001b[0m )\n",
      "\u001b[1;31mTypeError\u001b[0m: PreTrainedTokenizerFast._batch_encode_plus() got an unexpected keyword argument 'return_attention_masks'"
     ]
    }
   ],
   "source": [
    "AUTO = tf.data.experimental.AUTOTUNE\n",
    "MODEL = 'albert-base-v2'\n",
    "tokenizer = AutoTokenizer.from_pretrained(MODEL)\n",
    "X_train_t = regular_encode(X_train, tokenizer, maxlen=max_len)\n",
    "X_test_t = regular_encode(X_test, tokenizer, maxlen=max_len)"
   ]
  },
  {
   "cell_type": "code",
   "execution_count": null,
   "metadata": {},
   "outputs": [],
   "source": [
    "train_dataset = (\n",
    "    tf.data.Dataset\n",
    "    .from_tensor_slices((X_train_t, y_train))\n",
    "    .repeat()\n",
    "    .shuffle(1995)\n",
    "    .batch(batch_size)\n",
    "    .prefetch(AUTO)\n",
    ")\n",
    "\n",
    "valid_dataset = (\n",
    "    tf.data.Dataset\n",
    "    .from_tensor_slices((X_test_t, y_test))\n",
    "    .batch(batch_size)\n",
    "    .cache()\n",
    "    .prefetch(AUTO)\n",
    ")"
   ]
  },
  {
   "cell_type": "code",
   "execution_count": null,
   "metadata": {},
   "outputs": [],
   "source": [
    "transformer_layer = TFAutoModel.from_pretrained(MODEL)\n",
    "albert = build_model(transformer_layer, max_len=max_len)\n",
    "albert.summary()"
   ]
  },
  {
   "cell_type": "code",
   "execution_count": null,
   "metadata": {},
   "outputs": [],
   "source": [
    "n_steps = X_train.shape[0] // batch_size\n",
    "albert.fit(train_dataset,steps_per_epoch=n_steps,validation_data=valid_dataset,epochs=Epoch)"
   ]
  },
  {
   "cell_type": "code",
   "execution_count": null,
   "metadata": {},
   "outputs": [],
   "source": [
    "result =get_sentiment2(albert,\"Had an absolutely brilliant day ðŸ˜ loved seeing an old friend and reminiscing\")\n",
    "plot_result(result)\n",
    "result =get_sentiment2(albert,\"The pain my heart feels is just too much for it to bear. Nothing eases this pain. I can’t hold myself back. I really miss you\")\n",
    "plot_result(result)\n",
    "result =get_sentiment2(albert,\"I hate this game so much,It make me angry all the time \")\n",
    "plot_result(result)"
   ]
  },
  {
   "cell_type": "markdown",
   "metadata": {},
   "source": [
    "<h2 style=\"color:red\">If you enjoyed this work or you found it helpful , an upvotes would be very much appreciated  :-)</h2>"
   ]
  },
  {
   "cell_type": "markdown",
   "metadata": {},
   "source": [
    "<a href=\"#tea\"><img  src=\"https://za.heytv.org/wp-content/uploads/2019/08/AGF-l79DYZtk_pSyfWgIP3D-3yi8YN6ZeWO0E8tyLgs800-c-k-c0xffffffff-no-rj-mo.jpeg\" style=\"height: 300px\"/></a>"
   ]
  },
  {
   "cell_type": "code",
   "execution_count": null,
   "metadata": {},
   "outputs": [],
   "source": []
  }
 ],
 "metadata": {
  "kernelspec": {
   "display_name": "Python 3 (ipykernel)",
   "language": "python",
   "name": "python3"
  },
  "language_info": {
   "codemirror_mode": {
    "name": "ipython",
    "version": 3
   },
   "file_extension": ".py",
   "mimetype": "text/x-python",
   "name": "python",
   "nbconvert_exporter": "python",
   "pygments_lexer": "ipython3",
   "version": "3.9.16"
  },
  "widgets": {
   "application/vnd.jupyter.widget-state+json": {
    "state": {
     "0053cdbe154e4effaff18dd1ddfdf2a7": {
      "model_module": "@jupyter-widgets/controls",
      "model_module_version": "1.5.0",
      "model_name": "DescriptionStyleModel",
      "state": {
       "_model_module": "@jupyter-widgets/controls",
       "_model_module_version": "1.5.0",
       "_model_name": "DescriptionStyleModel",
       "_view_count": null,
       "_view_module": "@jupyter-widgets/base",
       "_view_module_version": "1.2.0",
       "_view_name": "StyleView",
       "description_width": ""
      }
     },
     "09afed1640fe40c2b029ba89dc0ea0e4": {
      "model_module": "@jupyter-widgets/controls",
      "model_module_version": "1.5.0",
      "model_name": "HBoxModel",
      "state": {
       "_dom_classes": [],
       "_model_module": "@jupyter-widgets/controls",
       "_model_module_version": "1.5.0",
       "_model_name": "HBoxModel",
       "_view_count": null,
       "_view_module": "@jupyter-widgets/controls",
       "_view_module_version": "1.5.0",
       "_view_name": "HBoxView",
       "box_style": "",
       "children": [
        "IPY_MODEL_45cc2c62a13749bd8658af490ad9bc3c",
        "IPY_MODEL_4548f4d86b2f45eab980cecfe6e72631"
       ],
       "layout": "IPY_MODEL_45d16f035fca413a836c49e47676fb5b"
      }
     },
     "0a464293fc1d47489f53dc1ae22a2493": {
      "model_module": "@jupyter-widgets/controls",
      "model_module_version": "1.5.0",
      "model_name": "HBoxModel",
      "state": {
       "_dom_classes": [],
       "_model_module": "@jupyter-widgets/controls",
       "_model_module_version": "1.5.0",
       "_model_name": "HBoxModel",
       "_view_count": null,
       "_view_module": "@jupyter-widgets/controls",
       "_view_module_version": "1.5.0",
       "_view_name": "HBoxView",
       "box_style": "",
       "children": [
        "IPY_MODEL_25bf0c2895e34c51b9fbe29f889344db",
        "IPY_MODEL_105543b3d921467896f93f319b744070"
       ],
       "layout": "IPY_MODEL_f48553c9e63d49dd9686c348695ea0bd"
      }
     },
     "0c5ac33f856d4c1e834b064d8d1da4a8": {
      "model_module": "@jupyter-widgets/base",
      "model_module_version": "1.2.0",
      "model_name": "LayoutModel",
      "state": {
       "_model_module": "@jupyter-widgets/base",
       "_model_module_version": "1.2.0",
       "_model_name": "LayoutModel",
       "_view_count": null,
       "_view_module": "@jupyter-widgets/base",
       "_view_module_version": "1.2.0",
       "_view_name": "LayoutView",
       "align_content": null,
       "align_items": null,
       "align_self": null,
       "border": null,
       "bottom": null,
       "display": null,
       "flex": null,
       "flex_flow": null,
       "grid_area": null,
       "grid_auto_columns": null,
       "grid_auto_flow": null,
       "grid_auto_rows": null,
       "grid_column": null,
       "grid_gap": null,
       "grid_row": null,
       "grid_template_areas": null,
       "grid_template_columns": null,
       "grid_template_rows": null,
       "height": null,
       "justify_content": null,
       "justify_items": null,
       "left": null,
       "margin": null,
       "max_height": null,
       "max_width": null,
       "min_height": null,
       "min_width": null,
       "object_fit": null,
       "object_position": null,
       "order": null,
       "overflow": null,
       "overflow_x": null,
       "overflow_y": null,
       "padding": null,
       "right": null,
       "top": null,
       "visibility": null,
       "width": null
      }
     },
     "105543b3d921467896f93f319b744070": {
      "model_module": "@jupyter-widgets/controls",
      "model_module_version": "1.5.0",
      "model_name": "HTMLModel",
      "state": {
       "_dom_classes": [],
       "_model_module": "@jupyter-widgets/controls",
       "_model_module_version": "1.5.0",
       "_model_name": "HTMLModel",
       "_view_count": null,
       "_view_module": "@jupyter-widgets/controls",
       "_view_module_version": "1.5.0",
       "_view_name": "HTMLView",
       "description": "",
       "description_tooltip": null,
       "layout": "IPY_MODEL_0c5ac33f856d4c1e834b064d8d1da4a8",
       "placeholder": "​",
       "style": "IPY_MODEL_a30d089ff56c4fc5ba10713709056edb",
       "value": " 657M/657M [00:20&lt;00:00, 32.7MB/s]"
      }
     },
     "14edf4419a6b48ab98c001afbef8ba6f": {
      "model_module": "@jupyter-widgets/controls",
      "model_module_version": "1.5.0",
      "model_name": "ProgressStyleModel",
      "state": {
       "_model_module": "@jupyter-widgets/controls",
       "_model_module_version": "1.5.0",
       "_model_name": "ProgressStyleModel",
       "_view_count": null,
       "_view_module": "@jupyter-widgets/base",
       "_view_module_version": "1.2.0",
       "_view_name": "StyleView",
       "bar_color": null,
       "description_width": "initial"
      }
     },
     "1cd329373b0c475a92db27005343d2f6": {
      "model_module": "@jupyter-widgets/controls",
      "model_module_version": "1.5.0",
      "model_name": "HTMLModel",
      "state": {
       "_dom_classes": [],
       "_model_module": "@jupyter-widgets/controls",
       "_model_module_version": "1.5.0",
       "_model_name": "HTMLModel",
       "_view_count": null,
       "_view_module": "@jupyter-widgets/controls",
       "_view_module_version": "1.5.0",
       "_view_name": "HTMLView",
       "description": "",
       "description_tooltip": null,
       "layout": "IPY_MODEL_c2cdf18ee68642d8b8d70adf2cc002dc",
       "placeholder": "​",
       "style": "IPY_MODEL_b5cac28f299c4906b55eaa179b459647",
       "value": " 456k/456k [00:00&lt;00:00, 2.22MB/s]"
      }
     },
     "1cfe7d686778420ab2af1681bff0b045": {
      "model_module": "@jupyter-widgets/controls",
      "model_module_version": "1.5.0",
      "model_name": "ProgressStyleModel",
      "state": {
       "_model_module": "@jupyter-widgets/controls",
       "_model_module_version": "1.5.0",
       "_model_name": "ProgressStyleModel",
       "_view_count": null,
       "_view_module": "@jupyter-widgets/base",
       "_view_module_version": "1.2.0",
       "_view_name": "StyleView",
       "bar_color": null,
       "description_width": "initial"
      }
     },
     "25bf0c2895e34c51b9fbe29f889344db": {
      "model_module": "@jupyter-widgets/controls",
      "model_module_version": "1.5.0",
      "model_name": "FloatProgressModel",
      "state": {
       "_dom_classes": [],
       "_model_module": "@jupyter-widgets/controls",
       "_model_module_version": "1.5.0",
       "_model_name": "FloatProgressModel",
       "_view_count": null,
       "_view_module": "@jupyter-widgets/controls",
       "_view_module_version": "1.5.0",
       "_view_name": "ProgressView",
       "bar_style": "success",
       "description": "Downloading: 100%",
       "description_tooltip": null,
       "layout": "IPY_MODEL_77eea324d5b646ce85c637f3ebb8006e",
       "max": 657434796,
       "min": 0,
       "orientation": "horizontal",
       "style": "IPY_MODEL_664368b833de46098dad441e8cedace7",
       "value": 657434796
      }
     },
     "2d98dcff63f1441ead6e3ba784499275": {
      "model_module": "@jupyter-widgets/controls",
      "model_module_version": "1.5.0",
      "model_name": "HTMLModel",
      "state": {
       "_dom_classes": [],
       "_model_module": "@jupyter-widgets/controls",
       "_model_module_version": "1.5.0",
       "_model_name": "HTMLModel",
       "_view_count": null,
       "_view_module": "@jupyter-widgets/controls",
       "_view_module_version": "1.5.0",
       "_view_name": "HTMLView",
       "description": "",
       "description_tooltip": null,
       "layout": "IPY_MODEL_a018813d097940969fc1166225c08da2",
       "placeholder": "​",
       "style": "IPY_MODEL_0053cdbe154e4effaff18dd1ddfdf2a7",
       "value": " 899k/899k [00:00&lt;00:00, 1.25MB/s]"
      }
     },
     "30562028ea9b46fea6492c1ed5c36850": {
      "model_module": "@jupyter-widgets/controls",
      "model_module_version": "1.5.0",
      "model_name": "FloatProgressModel",
      "state": {
       "_dom_classes": [],
       "_model_module": "@jupyter-widgets/controls",
       "_model_module_version": "1.5.0",
       "_model_name": "FloatProgressModel",
       "_view_count": null,
       "_view_module": "@jupyter-widgets/controls",
       "_view_module_version": "1.5.0",
       "_view_name": "ProgressView",
       "bar_style": "success",
       "description": "Downloading: 100%",
       "description_tooltip": null,
       "layout": "IPY_MODEL_be73eec975464331bcba51cca20747b5",
       "max": 898823,
       "min": 0,
       "orientation": "horizontal",
       "style": "IPY_MODEL_af0f845932764b29bff38571dc79031b",
       "value": 898823
      }
     },
     "343496fe3bfa45c2abca5803e77090a4": {
      "model_module": "@jupyter-widgets/controls",
      "model_module_version": "1.5.0",
      "model_name": "FloatProgressModel",
      "state": {
       "_dom_classes": [],
       "_model_module": "@jupyter-widgets/controls",
       "_model_module_version": "1.5.0",
       "_model_name": "FloatProgressModel",
       "_view_count": null,
       "_view_module": "@jupyter-widgets/controls",
       "_view_module_version": "1.5.0",
       "_view_name": "ProgressView",
       "bar_style": "success",
       "description": "Downloading: 100%",
       "description_tooltip": null,
       "layout": "IPY_MODEL_cff629977f3a41b8930d56d4c3ac1685",
       "max": 684,
       "min": 0,
       "orientation": "horizontal",
       "style": "IPY_MODEL_7f36ba85d49b4969859f35bb3be24468",
       "value": 684
      }
     },
     "397a2a182f9b47e2866487923be588e7": {
      "model_module": "@jupyter-widgets/base",
      "model_module_version": "1.2.0",
      "model_name": "LayoutModel",
      "state": {
       "_model_module": "@jupyter-widgets/base",
       "_model_module_version": "1.2.0",
       "_model_name": "LayoutModel",
       "_view_count": null,
       "_view_module": "@jupyter-widgets/base",
       "_view_module_version": "1.2.0",
       "_view_name": "LayoutView",
       "align_content": null,
       "align_items": null,
       "align_self": null,
       "border": null,
       "bottom": null,
       "display": null,
       "flex": null,
       "flex_flow": null,
       "grid_area": null,
       "grid_auto_columns": null,
       "grid_auto_flow": null,
       "grid_auto_rows": null,
       "grid_column": null,
       "grid_gap": null,
       "grid_row": null,
       "grid_template_areas": null,
       "grid_template_columns": null,
       "grid_template_rows": null,
       "height": null,
       "justify_content": null,
       "justify_items": null,
       "left": null,
       "margin": null,
       "max_height": null,
       "max_width": null,
       "min_height": null,
       "min_width": null,
       "object_fit": null,
       "object_position": null,
       "order": null,
       "overflow": null,
       "overflow_x": null,
       "overflow_y": null,
       "padding": null,
       "right": null,
       "top": null,
       "visibility": null,
       "width": null
      }
     },
     "409c347a1e434a33ab2dc52d3969ebfd": {
      "model_module": "@jupyter-widgets/controls",
      "model_module_version": "1.5.0",
      "model_name": "HTMLModel",
      "state": {
       "_dom_classes": [],
       "_model_module": "@jupyter-widgets/controls",
       "_model_module_version": "1.5.0",
       "_model_name": "HTMLModel",
       "_view_count": null,
       "_view_module": "@jupyter-widgets/controls",
       "_view_module_version": "1.5.0",
       "_view_name": "HTMLView",
       "description": "",
       "description_tooltip": null,
       "layout": "IPY_MODEL_59efa127efe94976a2c3b4f76cd9de7b",
       "placeholder": "​",
       "style": "IPY_MODEL_5418b4e57b3642408d930e60668ddee5",
       "value": " 63.0M/63.0M [00:02&lt;00:00, 31.4MB/s]"
      }
     },
     "4548f4d86b2f45eab980cecfe6e72631": {
      "model_module": "@jupyter-widgets/controls",
      "model_module_version": "1.5.0",
      "model_name": "HTMLModel",
      "state": {
       "_dom_classes": [],
       "_model_module": "@jupyter-widgets/controls",
       "_model_module_version": "1.5.0",
       "_model_name": "HTMLModel",
       "_view_count": null,
       "_view_module": "@jupyter-widgets/controls",
       "_view_module_version": "1.5.0",
       "_view_name": "HTMLView",
       "description": "",
       "description_tooltip": null,
       "layout": "IPY_MODEL_ecd4ec77441542b18c82ce1159dc8dd5",
       "placeholder": "​",
       "style": "IPY_MODEL_e18cd40b408242799823ebf84103d391",
       "value": " 760k/760k [00:00&lt;00:00, 2.13MB/s]"
      }
     },
     "45cc2c62a13749bd8658af490ad9bc3c": {
      "model_module": "@jupyter-widgets/controls",
      "model_module_version": "1.5.0",
      "model_name": "FloatProgressModel",
      "state": {
       "_dom_classes": [],
       "_model_module": "@jupyter-widgets/controls",
       "_model_module_version": "1.5.0",
       "_model_name": "FloatProgressModel",
       "_view_count": null,
       "_view_module": "@jupyter-widgets/controls",
       "_view_module_version": "1.5.0",
       "_view_name": "ProgressView",
       "bar_style": "success",
       "description": "Downloading: 100%",
       "description_tooltip": null,
       "layout": "IPY_MODEL_861789f83e0a44e7963584b2194864f2",
       "max": 760289,
       "min": 0,
       "orientation": "horizontal",
       "style": "IPY_MODEL_c1f80efc91ca43c1a34ed09193595efe",
       "value": 760289
      }
     },
     "45d16f035fca413a836c49e47676fb5b": {
      "model_module": "@jupyter-widgets/base",
      "model_module_version": "1.2.0",
      "model_name": "LayoutModel",
      "state": {
       "_model_module": "@jupyter-widgets/base",
       "_model_module_version": "1.2.0",
       "_model_name": "LayoutModel",
       "_view_count": null,
       "_view_module": "@jupyter-widgets/base",
       "_view_module_version": "1.2.0",
       "_view_name": "LayoutView",
       "align_content": null,
       "align_items": null,
       "align_self": null,
       "border": null,
       "bottom": null,
       "display": null,
       "flex": null,
       "flex_flow": null,
       "grid_area": null,
       "grid_auto_columns": null,
       "grid_auto_flow": null,
       "grid_auto_rows": null,
       "grid_column": null,
       "grid_gap": null,
       "grid_row": null,
       "grid_template_areas": null,
       "grid_template_columns": null,
       "grid_template_rows": null,
       "height": null,
       "justify_content": null,
       "justify_items": null,
       "left": null,
       "margin": null,
       "max_height": null,
       "max_width": null,
       "min_height": null,
       "min_width": null,
       "object_fit": null,
       "object_position": null,
       "order": null,
       "overflow": null,
       "overflow_x": null,
       "overflow_y": null,
       "padding": null,
       "right": null,
       "top": null,
       "visibility": null,
       "width": null
      }
     },
     "5418b4e57b3642408d930e60668ddee5": {
      "model_module": "@jupyter-widgets/controls",
      "model_module_version": "1.5.0",
      "model_name": "DescriptionStyleModel",
      "state": {
       "_model_module": "@jupyter-widgets/controls",
       "_model_module_version": "1.5.0",
       "_model_name": "DescriptionStyleModel",
       "_view_count": null,
       "_view_module": "@jupyter-widgets/base",
       "_view_module_version": "1.2.0",
       "_view_name": "StyleView",
       "description_width": ""
      }
     },
     "59efa127efe94976a2c3b4f76cd9de7b": {
      "model_module": "@jupyter-widgets/base",
      "model_module_version": "1.2.0",
      "model_name": "LayoutModel",
      "state": {
       "_model_module": "@jupyter-widgets/base",
       "_model_module_version": "1.2.0",
       "_model_name": "LayoutModel",
       "_view_count": null,
       "_view_module": "@jupyter-widgets/base",
       "_view_module_version": "1.2.0",
       "_view_name": "LayoutView",
       "align_content": null,
       "align_items": null,
       "align_self": null,
       "border": null,
       "bottom": null,
       "display": null,
       "flex": null,
       "flex_flow": null,
       "grid_area": null,
       "grid_auto_columns": null,
       "grid_auto_flow": null,
       "grid_auto_rows": null,
       "grid_column": null,
       "grid_gap": null,
       "grid_row": null,
       "grid_template_areas": null,
       "grid_template_columns": null,
       "grid_template_rows": null,
       "height": null,
       "justify_content": null,
       "justify_items": null,
       "left": null,
       "margin": null,
       "max_height": null,
       "max_width": null,
       "min_height": null,
       "min_width": null,
       "object_fit": null,
       "object_position": null,
       "order": null,
       "overflow": null,
       "overflow_x": null,
       "overflow_y": null,
       "padding": null,
       "right": null,
       "top": null,
       "visibility": null,
       "width": null
      }
     },
     "5e1567f6db224a9fa2341abf6c132c81": {
      "model_module": "@jupyter-widgets/controls",
      "model_module_version": "1.5.0",
      "model_name": "HBoxModel",
      "state": {
       "_dom_classes": [],
       "_model_module": "@jupyter-widgets/controls",
       "_model_module_version": "1.5.0",
       "_model_name": "HBoxModel",
       "_view_count": null,
       "_view_module": "@jupyter-widgets/controls",
       "_view_module_version": "1.5.0",
       "_view_name": "HBoxView",
       "box_style": "",
       "children": [
        "IPY_MODEL_343496fe3bfa45c2abca5803e77090a4",
        "IPY_MODEL_a5641eeec2094c8086e494a985b8b78c"
       ],
       "layout": "IPY_MODEL_d1411395ba894364982a84f356b659d2"
      }
     },
     "5e97338508054c34ad99e36d638c3b26": {
      "model_module": "@jupyter-widgets/controls",
      "model_module_version": "1.5.0",
      "model_name": "HTMLModel",
      "state": {
       "_dom_classes": [],
       "_model_module": "@jupyter-widgets/controls",
       "_model_module_version": "1.5.0",
       "_model_name": "HTMLModel",
       "_view_count": null,
       "_view_module": "@jupyter-widgets/controls",
       "_view_module_version": "1.5.0",
       "_view_name": "HTMLView",
       "description": "",
       "description_tooltip": null,
       "layout": "IPY_MODEL_bc89edcd878242868244a032150525d8",
       "placeholder": "​",
       "style": "IPY_MODEL_a4eb6e380bbe4bcdad9f35fc51719567",
       "value": " 481/481 [00:00&lt;00:00, 3.43kB/s]"
      }
     },
     "664368b833de46098dad441e8cedace7": {
      "model_module": "@jupyter-widgets/controls",
      "model_module_version": "1.5.0",
      "model_name": "ProgressStyleModel",
      "state": {
       "_model_module": "@jupyter-widgets/controls",
       "_model_module_version": "1.5.0",
       "_model_name": "ProgressStyleModel",
       "_view_count": null,
       "_view_module": "@jupyter-widgets/base",
       "_view_module_version": "1.2.0",
       "_view_name": "StyleView",
       "bar_color": null,
       "description_width": "initial"
      }
     },
     "68cd7ac2d1e24c749e679875e6e0a5a9": {
      "model_module": "@jupyter-widgets/controls",
      "model_module_version": "1.5.0",
      "model_name": "HBoxModel",
      "state": {
       "_dom_classes": [],
       "_model_module": "@jupyter-widgets/controls",
       "_model_module_version": "1.5.0",
       "_model_name": "HBoxModel",
       "_view_count": null,
       "_view_module": "@jupyter-widgets/controls",
       "_view_module_version": "1.5.0",
       "_view_name": "HBoxView",
       "box_style": "",
       "children": [
        "IPY_MODEL_aac4b460f37a474f906bf871ee36f697",
        "IPY_MODEL_1cd329373b0c475a92db27005343d2f6"
       ],
       "layout": "IPY_MODEL_f7c7ccc06e9c4d2dafe2ba6d659d10ac"
      }
     },
     "71d5666f57034aa19b5d6a385a2587fd": {
      "model_module": "@jupyter-widgets/controls",
      "model_module_version": "1.5.0",
      "model_name": "FloatProgressModel",
      "state": {
       "_dom_classes": [],
       "_model_module": "@jupyter-widgets/controls",
       "_model_module_version": "1.5.0",
       "_model_name": "FloatProgressModel",
       "_view_count": null,
       "_view_module": "@jupyter-widgets/controls",
       "_view_module_version": "1.5.0",
       "_view_name": "ProgressView",
       "bar_style": "success",
       "description": "Downloading: 100%",
       "description_tooltip": null,
       "layout": "IPY_MODEL_b345e7c01dab40efb595028d9cdd2f03",
       "max": 481,
       "min": 0,
       "orientation": "horizontal",
       "style": "IPY_MODEL_1cfe7d686778420ab2af1681bff0b045",
       "value": 481
      }
     },
     "77eea324d5b646ce85c637f3ebb8006e": {
      "model_module": "@jupyter-widgets/base",
      "model_module_version": "1.2.0",
      "model_name": "LayoutModel",
      "state": {
       "_model_module": "@jupyter-widgets/base",
       "_model_module_version": "1.2.0",
       "_model_name": "LayoutModel",
       "_view_count": null,
       "_view_module": "@jupyter-widgets/base",
       "_view_module_version": "1.2.0",
       "_view_name": "LayoutView",
       "align_content": null,
       "align_items": null,
       "align_self": null,
       "border": null,
       "bottom": null,
       "display": null,
       "flex": null,
       "flex_flow": null,
       "grid_area": null,
       "grid_auto_columns": null,
       "grid_auto_flow": null,
       "grid_auto_rows": null,
       "grid_column": null,
       "grid_gap": null,
       "grid_row": null,
       "grid_template_areas": null,
       "grid_template_columns": null,
       "grid_template_rows": null,
       "height": null,
       "justify_content": null,
       "justify_items": null,
       "left": null,
       "margin": null,
       "max_height": null,
       "max_width": null,
       "min_height": null,
       "min_width": null,
       "object_fit": null,
       "object_position": null,
       "order": null,
       "overflow": null,
       "overflow_x": null,
       "overflow_y": null,
       "padding": null,
       "right": null,
       "top": null,
       "visibility": null,
       "width": null
      }
     },
     "78585aa2c7ea493e9bdb9e52623428f7": {
      "model_module": "@jupyter-widgets/controls",
      "model_module_version": "1.5.0",
      "model_name": "HBoxModel",
      "state": {
       "_dom_classes": [],
       "_model_module": "@jupyter-widgets/controls",
       "_model_module_version": "1.5.0",
       "_model_name": "HBoxModel",
       "_view_count": null,
       "_view_module": "@jupyter-widgets/controls",
       "_view_module_version": "1.5.0",
       "_view_name": "HBoxView",
       "box_style": "",
       "children": [
        "IPY_MODEL_93bcaefc6b32483489f612ac07fa9f2f",
        "IPY_MODEL_409c347a1e434a33ab2dc52d3969ebfd"
       ],
       "layout": "IPY_MODEL_aade4f51f6a8437398c813e6755e4c9b"
      }
     },
     "7f36ba85d49b4969859f35bb3be24468": {
      "model_module": "@jupyter-widgets/controls",
      "model_module_version": "1.5.0",
      "model_name": "ProgressStyleModel",
      "state": {
       "_model_module": "@jupyter-widgets/controls",
       "_model_module_version": "1.5.0",
       "_model_name": "ProgressStyleModel",
       "_view_count": null,
       "_view_module": "@jupyter-widgets/base",
       "_view_module_version": "1.2.0",
       "_view_name": "StyleView",
       "bar_color": null,
       "description_width": "initial"
      }
     },
     "861789f83e0a44e7963584b2194864f2": {
      "model_module": "@jupyter-widgets/base",
      "model_module_version": "1.2.0",
      "model_name": "LayoutModel",
      "state": {
       "_model_module": "@jupyter-widgets/base",
       "_model_module_version": "1.2.0",
       "_model_name": "LayoutModel",
       "_view_count": null,
       "_view_module": "@jupyter-widgets/base",
       "_view_module_version": "1.2.0",
       "_view_name": "LayoutView",
       "align_content": null,
       "align_items": null,
       "align_self": null,
       "border": null,
       "bottom": null,
       "display": null,
       "flex": null,
       "flex_flow": null,
       "grid_area": null,
       "grid_auto_columns": null,
       "grid_auto_flow": null,
       "grid_auto_rows": null,
       "grid_column": null,
       "grid_gap": null,
       "grid_row": null,
       "grid_template_areas": null,
       "grid_template_columns": null,
       "grid_template_rows": null,
       "height": null,
       "justify_content": null,
       "justify_items": null,
       "left": null,
       "margin": null,
       "max_height": null,
       "max_width": null,
       "min_height": null,
       "min_width": null,
       "object_fit": null,
       "object_position": null,
       "order": null,
       "overflow": null,
       "overflow_x": null,
       "overflow_y": null,
       "padding": null,
       "right": null,
       "top": null,
       "visibility": null,
       "width": null
      }
     },
     "8d324150645a474b876b197a1c79d2b3": {
      "model_module": "@jupyter-widgets/controls",
      "model_module_version": "1.5.0",
      "model_name": "HBoxModel",
      "state": {
       "_dom_classes": [],
       "_model_module": "@jupyter-widgets/controls",
       "_model_module_version": "1.5.0",
       "_model_name": "HBoxModel",
       "_view_count": null,
       "_view_module": "@jupyter-widgets/controls",
       "_view_module_version": "1.5.0",
       "_view_name": "HBoxView",
       "box_style": "",
       "children": [
        "IPY_MODEL_71d5666f57034aa19b5d6a385a2587fd",
        "IPY_MODEL_5e97338508054c34ad99e36d638c3b26"
       ],
       "layout": "IPY_MODEL_c00f3a6d72bf417798c56559b97ad7e0"
      }
     },
     "93bcaefc6b32483489f612ac07fa9f2f": {
      "model_module": "@jupyter-widgets/controls",
      "model_module_version": "1.5.0",
      "model_name": "FloatProgressModel",
      "state": {
       "_dom_classes": [],
       "_model_module": "@jupyter-widgets/controls",
       "_model_module_version": "1.5.0",
       "_model_name": "FloatProgressModel",
       "_view_count": null,
       "_view_module": "@jupyter-widgets/controls",
       "_view_module_version": "1.5.0",
       "_view_name": "ProgressView",
       "bar_style": "success",
       "description": "Downloading: 100%",
       "description_tooltip": null,
       "layout": "IPY_MODEL_da6c66313b214e2eb488add91f3cd58f",
       "max": 63048440,
       "min": 0,
       "orientation": "horizontal",
       "style": "IPY_MODEL_acc0ffa4474f45da9e054829ef378fb7",
       "value": 63048440
      }
     },
     "9f87d60f39f440ebbc4aeac57826f98c": {
      "model_module": "@jupyter-widgets/controls",
      "model_module_version": "1.5.0",
      "model_name": "HBoxModel",
      "state": {
       "_dom_classes": [],
       "_model_module": "@jupyter-widgets/controls",
       "_model_module_version": "1.5.0",
       "_model_name": "HBoxModel",
       "_view_count": null,
       "_view_module": "@jupyter-widgets/controls",
       "_view_module_version": "1.5.0",
       "_view_name": "HBoxView",
       "box_style": "",
       "children": [
        "IPY_MODEL_30562028ea9b46fea6492c1ed5c36850",
        "IPY_MODEL_2d98dcff63f1441ead6e3ba784499275"
       ],
       "layout": "IPY_MODEL_c6b6b98e9d074d61834df38d4e0cd560"
      }
     },
     "a018813d097940969fc1166225c08da2": {
      "model_module": "@jupyter-widgets/base",
      "model_module_version": "1.2.0",
      "model_name": "LayoutModel",
      "state": {
       "_model_module": "@jupyter-widgets/base",
       "_model_module_version": "1.2.0",
       "_model_name": "LayoutModel",
       "_view_count": null,
       "_view_module": "@jupyter-widgets/base",
       "_view_module_version": "1.2.0",
       "_view_name": "LayoutView",
       "align_content": null,
       "align_items": null,
       "align_self": null,
       "border": null,
       "bottom": null,
       "display": null,
       "flex": null,
       "flex_flow": null,
       "grid_area": null,
       "grid_auto_columns": null,
       "grid_auto_flow": null,
       "grid_auto_rows": null,
       "grid_column": null,
       "grid_gap": null,
       "grid_row": null,
       "grid_template_areas": null,
       "grid_template_columns": null,
       "grid_template_rows": null,
       "height": null,
       "justify_content": null,
       "justify_items": null,
       "left": null,
       "margin": null,
       "max_height": null,
       "max_width": null,
       "min_height": null,
       "min_width": null,
       "object_fit": null,
       "object_position": null,
       "order": null,
       "overflow": null,
       "overflow_x": null,
       "overflow_y": null,
       "padding": null,
       "right": null,
       "top": null,
       "visibility": null,
       "width": null
      }
     },
     "a30d089ff56c4fc5ba10713709056edb": {
      "model_module": "@jupyter-widgets/controls",
      "model_module_version": "1.5.0",
      "model_name": "DescriptionStyleModel",
      "state": {
       "_model_module": "@jupyter-widgets/controls",
       "_model_module_version": "1.5.0",
       "_model_name": "DescriptionStyleModel",
       "_view_count": null,
       "_view_module": "@jupyter-widgets/base",
       "_view_module_version": "1.2.0",
       "_view_name": "StyleView",
       "description_width": ""
      }
     },
     "a4eb6e380bbe4bcdad9f35fc51719567": {
      "model_module": "@jupyter-widgets/controls",
      "model_module_version": "1.5.0",
      "model_name": "DescriptionStyleModel",
      "state": {
       "_model_module": "@jupyter-widgets/controls",
       "_model_module_version": "1.5.0",
       "_model_name": "DescriptionStyleModel",
       "_view_count": null,
       "_view_module": "@jupyter-widgets/base",
       "_view_module_version": "1.2.0",
       "_view_name": "StyleView",
       "description_width": ""
      }
     },
     "a5641eeec2094c8086e494a985b8b78c": {
      "model_module": "@jupyter-widgets/controls",
      "model_module_version": "1.5.0",
      "model_name": "HTMLModel",
      "state": {
       "_dom_classes": [],
       "_model_module": "@jupyter-widgets/controls",
       "_model_module_version": "1.5.0",
       "_model_name": "HTMLModel",
       "_view_count": null,
       "_view_module": "@jupyter-widgets/controls",
       "_view_module_version": "1.5.0",
       "_view_name": "HTMLView",
       "description": "",
       "description_tooltip": null,
       "layout": "IPY_MODEL_f4a9aa5297184c63b176016307b2fd8e",
       "placeholder": "​",
       "style": "IPY_MODEL_d23f440e4a2e4f7a9ba16afb0466c7a1",
       "value": " 684/684 [00:00&lt;00:00, 2.34kB/s]"
      }
     },
     "aac4b460f37a474f906bf871ee36f697": {
      "model_module": "@jupyter-widgets/controls",
      "model_module_version": "1.5.0",
      "model_name": "FloatProgressModel",
      "state": {
       "_dom_classes": [],
       "_model_module": "@jupyter-widgets/controls",
       "_model_module_version": "1.5.0",
       "_model_name": "FloatProgressModel",
       "_view_count": null,
       "_view_module": "@jupyter-widgets/controls",
       "_view_module_version": "1.5.0",
       "_view_name": "ProgressView",
       "bar_style": "success",
       "description": "Downloading: 100%",
       "description_tooltip": null,
       "layout": "IPY_MODEL_397a2a182f9b47e2866487923be588e7",
       "max": 456318,
       "min": 0,
       "orientation": "horizontal",
       "style": "IPY_MODEL_14edf4419a6b48ab98c001afbef8ba6f",
       "value": 456318
      }
     },
     "aade4f51f6a8437398c813e6755e4c9b": {
      "model_module": "@jupyter-widgets/base",
      "model_module_version": "1.2.0",
      "model_name": "LayoutModel",
      "state": {
       "_model_module": "@jupyter-widgets/base",
       "_model_module_version": "1.2.0",
       "_model_name": "LayoutModel",
       "_view_count": null,
       "_view_module": "@jupyter-widgets/base",
       "_view_module_version": "1.2.0",
       "_view_name": "LayoutView",
       "align_content": null,
       "align_items": null,
       "align_self": null,
       "border": null,
       "bottom": null,
       "display": null,
       "flex": null,
       "flex_flow": null,
       "grid_area": null,
       "grid_auto_columns": null,
       "grid_auto_flow": null,
       "grid_auto_rows": null,
       "grid_column": null,
       "grid_gap": null,
       "grid_row": null,
       "grid_template_areas": null,
       "grid_template_columns": null,
       "grid_template_rows": null,
       "height": null,
       "justify_content": null,
       "justify_items": null,
       "left": null,
       "margin": null,
       "max_height": null,
       "max_width": null,
       "min_height": null,
       "min_width": null,
       "object_fit": null,
       "object_position": null,
       "order": null,
       "overflow": null,
       "overflow_x": null,
       "overflow_y": null,
       "padding": null,
       "right": null,
       "top": null,
       "visibility": null,
       "width": null
      }
     },
     "acc0ffa4474f45da9e054829ef378fb7": {
      "model_module": "@jupyter-widgets/controls",
      "model_module_version": "1.5.0",
      "model_name": "ProgressStyleModel",
      "state": {
       "_model_module": "@jupyter-widgets/controls",
       "_model_module_version": "1.5.0",
       "_model_name": "ProgressStyleModel",
       "_view_count": null,
       "_view_module": "@jupyter-widgets/base",
       "_view_module_version": "1.2.0",
       "_view_name": "StyleView",
       "bar_color": null,
       "description_width": "initial"
      }
     },
     "af0f845932764b29bff38571dc79031b": {
      "model_module": "@jupyter-widgets/controls",
      "model_module_version": "1.5.0",
      "model_name": "ProgressStyleModel",
      "state": {
       "_model_module": "@jupyter-widgets/controls",
       "_model_module_version": "1.5.0",
       "_model_name": "ProgressStyleModel",
       "_view_count": null,
       "_view_module": "@jupyter-widgets/base",
       "_view_module_version": "1.2.0",
       "_view_name": "StyleView",
       "bar_color": null,
       "description_width": "initial"
      }
     },
     "b345e7c01dab40efb595028d9cdd2f03": {
      "model_module": "@jupyter-widgets/base",
      "model_module_version": "1.2.0",
      "model_name": "LayoutModel",
      "state": {
       "_model_module": "@jupyter-widgets/base",
       "_model_module_version": "1.2.0",
       "_model_name": "LayoutModel",
       "_view_count": null,
       "_view_module": "@jupyter-widgets/base",
       "_view_module_version": "1.2.0",
       "_view_name": "LayoutView",
       "align_content": null,
       "align_items": null,
       "align_self": null,
       "border": null,
       "bottom": null,
       "display": null,
       "flex": null,
       "flex_flow": null,
       "grid_area": null,
       "grid_auto_columns": null,
       "grid_auto_flow": null,
       "grid_auto_rows": null,
       "grid_column": null,
       "grid_gap": null,
       "grid_row": null,
       "grid_template_areas": null,
       "grid_template_columns": null,
       "grid_template_rows": null,
       "height": null,
       "justify_content": null,
       "justify_items": null,
       "left": null,
       "margin": null,
       "max_height": null,
       "max_width": null,
       "min_height": null,
       "min_width": null,
       "object_fit": null,
       "object_position": null,
       "order": null,
       "overflow": null,
       "overflow_x": null,
       "overflow_y": null,
       "padding": null,
       "right": null,
       "top": null,
       "visibility": null,
       "width": null
      }
     },
     "b5cac28f299c4906b55eaa179b459647": {
      "model_module": "@jupyter-widgets/controls",
      "model_module_version": "1.5.0",
      "model_name": "DescriptionStyleModel",
      "state": {
       "_model_module": "@jupyter-widgets/controls",
       "_model_module_version": "1.5.0",
       "_model_name": "DescriptionStyleModel",
       "_view_count": null,
       "_view_module": "@jupyter-widgets/base",
       "_view_module_version": "1.2.0",
       "_view_name": "StyleView",
       "description_width": ""
      }
     },
     "bc89edcd878242868244a032150525d8": {
      "model_module": "@jupyter-widgets/base",
      "model_module_version": "1.2.0",
      "model_name": "LayoutModel",
      "state": {
       "_model_module": "@jupyter-widgets/base",
       "_model_module_version": "1.2.0",
       "_model_name": "LayoutModel",
       "_view_count": null,
       "_view_module": "@jupyter-widgets/base",
       "_view_module_version": "1.2.0",
       "_view_name": "LayoutView",
       "align_content": null,
       "align_items": null,
       "align_self": null,
       "border": null,
       "bottom": null,
       "display": null,
       "flex": null,
       "flex_flow": null,
       "grid_area": null,
       "grid_auto_columns": null,
       "grid_auto_flow": null,
       "grid_auto_rows": null,
       "grid_column": null,
       "grid_gap": null,
       "grid_row": null,
       "grid_template_areas": null,
       "grid_template_columns": null,
       "grid_template_rows": null,
       "height": null,
       "justify_content": null,
       "justify_items": null,
       "left": null,
       "margin": null,
       "max_height": null,
       "max_width": null,
       "min_height": null,
       "min_width": null,
       "object_fit": null,
       "object_position": null,
       "order": null,
       "overflow": null,
       "overflow_x": null,
       "overflow_y": null,
       "padding": null,
       "right": null,
       "top": null,
       "visibility": null,
       "width": null
      }
     },
     "be73eec975464331bcba51cca20747b5": {
      "model_module": "@jupyter-widgets/base",
      "model_module_version": "1.2.0",
      "model_name": "LayoutModel",
      "state": {
       "_model_module": "@jupyter-widgets/base",
       "_model_module_version": "1.2.0",
       "_model_name": "LayoutModel",
       "_view_count": null,
       "_view_module": "@jupyter-widgets/base",
       "_view_module_version": "1.2.0",
       "_view_name": "LayoutView",
       "align_content": null,
       "align_items": null,
       "align_self": null,
       "border": null,
       "bottom": null,
       "display": null,
       "flex": null,
       "flex_flow": null,
       "grid_area": null,
       "grid_auto_columns": null,
       "grid_auto_flow": null,
       "grid_auto_rows": null,
       "grid_column": null,
       "grid_gap": null,
       "grid_row": null,
       "grid_template_areas": null,
       "grid_template_columns": null,
       "grid_template_rows": null,
       "height": null,
       "justify_content": null,
       "justify_items": null,
       "left": null,
       "margin": null,
       "max_height": null,
       "max_width": null,
       "min_height": null,
       "min_width": null,
       "object_fit": null,
       "object_position": null,
       "order": null,
       "overflow": null,
       "overflow_x": null,
       "overflow_y": null,
       "padding": null,
       "right": null,
       "top": null,
       "visibility": null,
       "width": null
      }
     },
     "c00f3a6d72bf417798c56559b97ad7e0": {
      "model_module": "@jupyter-widgets/base",
      "model_module_version": "1.2.0",
      "model_name": "LayoutModel",
      "state": {
       "_model_module": "@jupyter-widgets/base",
       "_model_module_version": "1.2.0",
       "_model_name": "LayoutModel",
       "_view_count": null,
       "_view_module": "@jupyter-widgets/base",
       "_view_module_version": "1.2.0",
       "_view_name": "LayoutView",
       "align_content": null,
       "align_items": null,
       "align_self": null,
       "border": null,
       "bottom": null,
       "display": null,
       "flex": null,
       "flex_flow": null,
       "grid_area": null,
       "grid_auto_columns": null,
       "grid_auto_flow": null,
       "grid_auto_rows": null,
       "grid_column": null,
       "grid_gap": null,
       "grid_row": null,
       "grid_template_areas": null,
       "grid_template_columns": null,
       "grid_template_rows": null,
       "height": null,
       "justify_content": null,
       "justify_items": null,
       "left": null,
       "margin": null,
       "max_height": null,
       "max_width": null,
       "min_height": null,
       "min_width": null,
       "object_fit": null,
       "object_position": null,
       "order": null,
       "overflow": null,
       "overflow_x": null,
       "overflow_y": null,
       "padding": null,
       "right": null,
       "top": null,
       "visibility": null,
       "width": null
      }
     },
     "c1f80efc91ca43c1a34ed09193595efe": {
      "model_module": "@jupyter-widgets/controls",
      "model_module_version": "1.5.0",
      "model_name": "ProgressStyleModel",
      "state": {
       "_model_module": "@jupyter-widgets/controls",
       "_model_module_version": "1.5.0",
       "_model_name": "ProgressStyleModel",
       "_view_count": null,
       "_view_module": "@jupyter-widgets/base",
       "_view_module_version": "1.2.0",
       "_view_name": "StyleView",
       "bar_color": null,
       "description_width": "initial"
      }
     },
     "c2cdf18ee68642d8b8d70adf2cc002dc": {
      "model_module": "@jupyter-widgets/base",
      "model_module_version": "1.2.0",
      "model_name": "LayoutModel",
      "state": {
       "_model_module": "@jupyter-widgets/base",
       "_model_module_version": "1.2.0",
       "_model_name": "LayoutModel",
       "_view_count": null,
       "_view_module": "@jupyter-widgets/base",
       "_view_module_version": "1.2.0",
       "_view_name": "LayoutView",
       "align_content": null,
       "align_items": null,
       "align_self": null,
       "border": null,
       "bottom": null,
       "display": null,
       "flex": null,
       "flex_flow": null,
       "grid_area": null,
       "grid_auto_columns": null,
       "grid_auto_flow": null,
       "grid_auto_rows": null,
       "grid_column": null,
       "grid_gap": null,
       "grid_row": null,
       "grid_template_areas": null,
       "grid_template_columns": null,
       "grid_template_rows": null,
       "height": null,
       "justify_content": null,
       "justify_items": null,
       "left": null,
       "margin": null,
       "max_height": null,
       "max_width": null,
       "min_height": null,
       "min_width": null,
       "object_fit": null,
       "object_position": null,
       "order": null,
       "overflow": null,
       "overflow_x": null,
       "overflow_y": null,
       "padding": null,
       "right": null,
       "top": null,
       "visibility": null,
       "width": null
      }
     },
     "c6b6b98e9d074d61834df38d4e0cd560": {
      "model_module": "@jupyter-widgets/base",
      "model_module_version": "1.2.0",
      "model_name": "LayoutModel",
      "state": {
       "_model_module": "@jupyter-widgets/base",
       "_model_module_version": "1.2.0",
       "_model_name": "LayoutModel",
       "_view_count": null,
       "_view_module": "@jupyter-widgets/base",
       "_view_module_version": "1.2.0",
       "_view_name": "LayoutView",
       "align_content": null,
       "align_items": null,
       "align_self": null,
       "border": null,
       "bottom": null,
       "display": null,
       "flex": null,
       "flex_flow": null,
       "grid_area": null,
       "grid_auto_columns": null,
       "grid_auto_flow": null,
       "grid_auto_rows": null,
       "grid_column": null,
       "grid_gap": null,
       "grid_row": null,
       "grid_template_areas": null,
       "grid_template_columns": null,
       "grid_template_rows": null,
       "height": null,
       "justify_content": null,
       "justify_items": null,
       "left": null,
       "margin": null,
       "max_height": null,
       "max_width": null,
       "min_height": null,
       "min_width": null,
       "object_fit": null,
       "object_position": null,
       "order": null,
       "overflow": null,
       "overflow_x": null,
       "overflow_y": null,
       "padding": null,
       "right": null,
       "top": null,
       "visibility": null,
       "width": null
      }
     },
     "cff629977f3a41b8930d56d4c3ac1685": {
      "model_module": "@jupyter-widgets/base",
      "model_module_version": "1.2.0",
      "model_name": "LayoutModel",
      "state": {
       "_model_module": "@jupyter-widgets/base",
       "_model_module_version": "1.2.0",
       "_model_name": "LayoutModel",
       "_view_count": null,
       "_view_module": "@jupyter-widgets/base",
       "_view_module_version": "1.2.0",
       "_view_name": "LayoutView",
       "align_content": null,
       "align_items": null,
       "align_self": null,
       "border": null,
       "bottom": null,
       "display": null,
       "flex": null,
       "flex_flow": null,
       "grid_area": null,
       "grid_auto_columns": null,
       "grid_auto_flow": null,
       "grid_auto_rows": null,
       "grid_column": null,
       "grid_gap": null,
       "grid_row": null,
       "grid_template_areas": null,
       "grid_template_columns": null,
       "grid_template_rows": null,
       "height": null,
       "justify_content": null,
       "justify_items": null,
       "left": null,
       "margin": null,
       "max_height": null,
       "max_width": null,
       "min_height": null,
       "min_width": null,
       "object_fit": null,
       "object_position": null,
       "order": null,
       "overflow": null,
       "overflow_x": null,
       "overflow_y": null,
       "padding": null,
       "right": null,
       "top": null,
       "visibility": null,
       "width": null
      }
     },
     "d1411395ba894364982a84f356b659d2": {
      "model_module": "@jupyter-widgets/base",
      "model_module_version": "1.2.0",
      "model_name": "LayoutModel",
      "state": {
       "_model_module": "@jupyter-widgets/base",
       "_model_module_version": "1.2.0",
       "_model_name": "LayoutModel",
       "_view_count": null,
       "_view_module": "@jupyter-widgets/base",
       "_view_module_version": "1.2.0",
       "_view_name": "LayoutView",
       "align_content": null,
       "align_items": null,
       "align_self": null,
       "border": null,
       "bottom": null,
       "display": null,
       "flex": null,
       "flex_flow": null,
       "grid_area": null,
       "grid_auto_columns": null,
       "grid_auto_flow": null,
       "grid_auto_rows": null,
       "grid_column": null,
       "grid_gap": null,
       "grid_row": null,
       "grid_template_areas": null,
       "grid_template_columns": null,
       "grid_template_rows": null,
       "height": null,
       "justify_content": null,
       "justify_items": null,
       "left": null,
       "margin": null,
       "max_height": null,
       "max_width": null,
       "min_height": null,
       "min_width": null,
       "object_fit": null,
       "object_position": null,
       "order": null,
       "overflow": null,
       "overflow_x": null,
       "overflow_y": null,
       "padding": null,
       "right": null,
       "top": null,
       "visibility": null,
       "width": null
      }
     },
     "d23f440e4a2e4f7a9ba16afb0466c7a1": {
      "model_module": "@jupyter-widgets/controls",
      "model_module_version": "1.5.0",
      "model_name": "DescriptionStyleModel",
      "state": {
       "_model_module": "@jupyter-widgets/controls",
       "_model_module_version": "1.5.0",
       "_model_name": "DescriptionStyleModel",
       "_view_count": null,
       "_view_module": "@jupyter-widgets/base",
       "_view_module_version": "1.2.0",
       "_view_name": "StyleView",
       "description_width": ""
      }
     },
     "da6c66313b214e2eb488add91f3cd58f": {
      "model_module": "@jupyter-widgets/base",
      "model_module_version": "1.2.0",
      "model_name": "LayoutModel",
      "state": {
       "_model_module": "@jupyter-widgets/base",
       "_model_module_version": "1.2.0",
       "_model_name": "LayoutModel",
       "_view_count": null,
       "_view_module": "@jupyter-widgets/base",
       "_view_module_version": "1.2.0",
       "_view_name": "LayoutView",
       "align_content": null,
       "align_items": null,
       "align_self": null,
       "border": null,
       "bottom": null,
       "display": null,
       "flex": null,
       "flex_flow": null,
       "grid_area": null,
       "grid_auto_columns": null,
       "grid_auto_flow": null,
       "grid_auto_rows": null,
       "grid_column": null,
       "grid_gap": null,
       "grid_row": null,
       "grid_template_areas": null,
       "grid_template_columns": null,
       "grid_template_rows": null,
       "height": null,
       "justify_content": null,
       "justify_items": null,
       "left": null,
       "margin": null,
       "max_height": null,
       "max_width": null,
       "min_height": null,
       "min_width": null,
       "object_fit": null,
       "object_position": null,
       "order": null,
       "overflow": null,
       "overflow_x": null,
       "overflow_y": null,
       "padding": null,
       "right": null,
       "top": null,
       "visibility": null,
       "width": null
      }
     },
     "e18cd40b408242799823ebf84103d391": {
      "model_module": "@jupyter-widgets/controls",
      "model_module_version": "1.5.0",
      "model_name": "DescriptionStyleModel",
      "state": {
       "_model_module": "@jupyter-widgets/controls",
       "_model_module_version": "1.5.0",
       "_model_name": "DescriptionStyleModel",
       "_view_count": null,
       "_view_module": "@jupyter-widgets/base",
       "_view_module_version": "1.2.0",
       "_view_name": "StyleView",
       "description_width": ""
      }
     },
     "ecd4ec77441542b18c82ce1159dc8dd5": {
      "model_module": "@jupyter-widgets/base",
      "model_module_version": "1.2.0",
      "model_name": "LayoutModel",
      "state": {
       "_model_module": "@jupyter-widgets/base",
       "_model_module_version": "1.2.0",
       "_model_name": "LayoutModel",
       "_view_count": null,
       "_view_module": "@jupyter-widgets/base",
       "_view_module_version": "1.2.0",
       "_view_name": "LayoutView",
       "align_content": null,
       "align_items": null,
       "align_self": null,
       "border": null,
       "bottom": null,
       "display": null,
       "flex": null,
       "flex_flow": null,
       "grid_area": null,
       "grid_auto_columns": null,
       "grid_auto_flow": null,
       "grid_auto_rows": null,
       "grid_column": null,
       "grid_gap": null,
       "grid_row": null,
       "grid_template_areas": null,
       "grid_template_columns": null,
       "grid_template_rows": null,
       "height": null,
       "justify_content": null,
       "justify_items": null,
       "left": null,
       "margin": null,
       "max_height": null,
       "max_width": null,
       "min_height": null,
       "min_width": null,
       "object_fit": null,
       "object_position": null,
       "order": null,
       "overflow": null,
       "overflow_x": null,
       "overflow_y": null,
       "padding": null,
       "right": null,
       "top": null,
       "visibility": null,
       "width": null
      }
     },
     "f48553c9e63d49dd9686c348695ea0bd": {
      "model_module": "@jupyter-widgets/base",
      "model_module_version": "1.2.0",
      "model_name": "LayoutModel",
      "state": {
       "_model_module": "@jupyter-widgets/base",
       "_model_module_version": "1.2.0",
       "_model_name": "LayoutModel",
       "_view_count": null,
       "_view_module": "@jupyter-widgets/base",
       "_view_module_version": "1.2.0",
       "_view_name": "LayoutView",
       "align_content": null,
       "align_items": null,
       "align_self": null,
       "border": null,
       "bottom": null,
       "display": null,
       "flex": null,
       "flex_flow": null,
       "grid_area": null,
       "grid_auto_columns": null,
       "grid_auto_flow": null,
       "grid_auto_rows": null,
       "grid_column": null,
       "grid_gap": null,
       "grid_row": null,
       "grid_template_areas": null,
       "grid_template_columns": null,
       "grid_template_rows": null,
       "height": null,
       "justify_content": null,
       "justify_items": null,
       "left": null,
       "margin": null,
       "max_height": null,
       "max_width": null,
       "min_height": null,
       "min_width": null,
       "object_fit": null,
       "object_position": null,
       "order": null,
       "overflow": null,
       "overflow_x": null,
       "overflow_y": null,
       "padding": null,
       "right": null,
       "top": null,
       "visibility": null,
       "width": null
      }
     },
     "f4a9aa5297184c63b176016307b2fd8e": {
      "model_module": "@jupyter-widgets/base",
      "model_module_version": "1.2.0",
      "model_name": "LayoutModel",
      "state": {
       "_model_module": "@jupyter-widgets/base",
       "_model_module_version": "1.2.0",
       "_model_name": "LayoutModel",
       "_view_count": null,
       "_view_module": "@jupyter-widgets/base",
       "_view_module_version": "1.2.0",
       "_view_name": "LayoutView",
       "align_content": null,
       "align_items": null,
       "align_self": null,
       "border": null,
       "bottom": null,
       "display": null,
       "flex": null,
       "flex_flow": null,
       "grid_area": null,
       "grid_auto_columns": null,
       "grid_auto_flow": null,
       "grid_auto_rows": null,
       "grid_column": null,
       "grid_gap": null,
       "grid_row": null,
       "grid_template_areas": null,
       "grid_template_columns": null,
       "grid_template_rows": null,
       "height": null,
       "justify_content": null,
       "justify_items": null,
       "left": null,
       "margin": null,
       "max_height": null,
       "max_width": null,
       "min_height": null,
       "min_width": null,
       "object_fit": null,
       "object_position": null,
       "order": null,
       "overflow": null,
       "overflow_x": null,
       "overflow_y": null,
       "padding": null,
       "right": null,
       "top": null,
       "visibility": null,
       "width": null
      }
     },
     "f7c7ccc06e9c4d2dafe2ba6d659d10ac": {
      "model_module": "@jupyter-widgets/base",
      "model_module_version": "1.2.0",
      "model_name": "LayoutModel",
      "state": {
       "_model_module": "@jupyter-widgets/base",
       "_model_module_version": "1.2.0",
       "_model_name": "LayoutModel",
       "_view_count": null,
       "_view_module": "@jupyter-widgets/base",
       "_view_module_version": "1.2.0",
       "_view_name": "LayoutView",
       "align_content": null,
       "align_items": null,
       "align_self": null,
       "border": null,
       "bottom": null,
       "display": null,
       "flex": null,
       "flex_flow": null,
       "grid_area": null,
       "grid_auto_columns": null,
       "grid_auto_flow": null,
       "grid_auto_rows": null,
       "grid_column": null,
       "grid_gap": null,
       "grid_row": null,
       "grid_template_areas": null,
       "grid_template_columns": null,
       "grid_template_rows": null,
       "height": null,
       "justify_content": null,
       "justify_items": null,
       "left": null,
       "margin": null,
       "max_height": null,
       "max_width": null,
       "min_height": null,
       "min_width": null,
       "object_fit": null,
       "object_position": null,
       "order": null,
       "overflow": null,
       "overflow_x": null,
       "overflow_y": null,
       "padding": null,
       "right": null,
       "top": null,
       "visibility": null,
       "width": null
      }
     }
    },
    "version_major": 2,
    "version_minor": 0
   }
  }
 },
 "nbformat": 4,
 "nbformat_minor": 4
}
